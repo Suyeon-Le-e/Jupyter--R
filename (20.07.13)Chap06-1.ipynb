{
 "cells": [
  {
   "cell_type": "markdown",
   "metadata": {},
   "source": [
    "## 회귀 분석\n",
    "\n",
    "#### 단순 선형 회귀모델(Simple linear regression)\n",
    "#### 키가 큰 아이를 낳기 위해서는 키 큰 배우자와 결혼?\n",
    "- 연구자 : 칼톤(Galton) => 피어슨(Pearson)\n",
    "- 진화론 반박을 위해 연구\n",
    "- 가설 : 진화론에 따르면 키가 큰 아버지의 자직은 점점 커지고 키가 작은 아버지의 자식은 점점 작아 진다\n",
    "- 피어슨 공식 : Y = 83.73 + 0.516 X , X는 아버지의 키\n",
    "- 키가 큰 아버지의 자식은 아버지보다 작고 전체 평균보다는 크다\n",
    "- 키가 작은 아버지의 자식은 아버지보다 크고 전체 평균보다는 작다\n",
    "- 자식의 키는 아버지 키에 영향을 받는다 하더라도 결국 평균으로 돌아가려는 현상\n",
    "- 아버지의 키와 아들의 키가 서로 연관성이 있다는 사실\n",
    "\n",
    "\n",
    "#### 회귀분석\n",
    "- 상관계수는 관계의 긴밀함을 수치적으로 계산\n",
    "- 회귀분석은 한 변수의 변화에 따른 다른 변수의 값을 파악 할 수 있게 "
   ]
  },
  {
   "cell_type": "code",
   "execution_count": 3,
   "metadata": {},
   "outputs": [],
   "source": [
    "month_incom <- c(100, 200, 300, 400)\n",
    "month_out <- c(50, 100, 150, 200)\n",
    "df <- data.frame(month_income,month_out)"
   ]
  },
  {
   "cell_type": "code",
   "execution_count": 4,
   "metadata": {},
   "outputs": [
    {
     "data": {
      "text/html": [
       "<table>\n",
       "<thead><tr><th scope=col>month_income</th><th scope=col>month_out</th></tr></thead>\n",
       "<tbody>\n",
       "\t<tr><td>100</td><td> 50</td></tr>\n",
       "\t<tr><td>200</td><td>100</td></tr>\n",
       "\t<tr><td>300</td><td>150</td></tr>\n",
       "\t<tr><td>400</td><td>200</td></tr>\n",
       "</tbody>\n",
       "</table>\n"
      ],
      "text/latex": [
       "\\begin{tabular}{r|ll}\n",
       " month\\_income & month\\_out\\\\\n",
       "\\hline\n",
       "\t 100 &  50\\\\\n",
       "\t 200 & 100\\\\\n",
       "\t 300 & 150\\\\\n",
       "\t 400 & 200\\\\\n",
       "\\end{tabular}\n"
      ],
      "text/markdown": [
       "\n",
       "| month_income | month_out |\n",
       "|---|---|\n",
       "| 100 |  50 |\n",
       "| 200 | 100 |\n",
       "| 300 | 150 |\n",
       "| 400 | 200 |\n",
       "\n"
      ],
      "text/plain": [
       "  month_income month_out\n",
       "1 100           50      \n",
       "2 200          100      \n",
       "3 300          150      \n",
       "4 400          200      "
      ]
     },
     "metadata": {},
     "output_type": "display_data"
    }
   ],
   "source": [
    "df"
   ]
  },
  {
   "cell_type": "markdown",
   "metadata": {},
   "source": [
    "- y(종속변수) = 0.5 * x(독립변수)\n",
    "- 독립변수가 종속변수에 어떤 영향을 미치는 가 알아보는 식\n",
    "- 정확한 함수식이 아닌 모든 데이터를 가장 만족시킬만한 최선의 함수식을 만들어야 함\n",
    "- 수학의 함수로 표현 할 수 없는 그래프는 회귀모델이 될 수 없음 \n",
    "- 공평하게 대부분의 점과 선이 최대한 떨어지지 않도록 선을 만들어야 함"
   ]
  },
  {
   "cell_type": "code",
   "execution_count": 5,
   "metadata": {},
   "outputs": [
    {
     "data": {
      "text/plain": [
       "\n",
       "Call:\n",
       "lm(formula = month_out ~ month_incom, data = df)\n",
       "\n",
       "Coefficients:\n",
       "(Intercept)  month_incom  \n",
       "        0.0          0.5  \n"
      ]
     },
     "metadata": {},
     "output_type": "display_data"
    }
   ],
   "source": [
    "#month_out = 0.5 * month_incom\n",
    "lm(data = df, month_out~month_incom)"
   ]
  },
  {
   "cell_type": "code",
   "execution_count": 7,
   "metadata": {},
   "outputs": [
    {
     "data": {
      "text/plain": [
       "\n",
       "Call:\n",
       "lm(formula = mpg ~ hp, data = mtcars)\n",
       "\n",
       "Coefficients:\n",
       "(Intercept)           hp  \n",
       "   30.09886     -0.06823  \n"
      ]
     },
     "metadata": {},
     "output_type": "display_data"
    }
   ],
   "source": [
    "lm(data = mtcars, mpg~hp)"
   ]
  },
  {
   "cell_type": "code",
   "execution_count": 15,
   "metadata": {},
   "outputs": [],
   "source": [
    "df <- data.frame(Work_hour=c(1:7),\n",
    "                Total_pay=seq(10000,70000, by=10000))"
   ]
  },
  {
   "cell_type": "code",
   "execution_count": 16,
   "metadata": {},
   "outputs": [
    {
     "data": {
      "image/png": "[encoded data removed]",
      "text/plain": [
       "plot without title"
      ]
     },
     "metadata": {},
     "output_type": "display_data"
    }
   ],
   "source": [
    "plot(data = df, df$Total_pay~df$Work_hour, pch=20, col='red')"
   ]
  },
  {
   "cell_type": "code",
   "execution_count": 17,
   "metadata": {},
   "outputs": [
    {
     "data": {
      "text/plain": [
       "\n",
       "Call:\n",
       "lm(formula = df$Total_pay ~ df$Work_hour, data = df)\n",
       "\n",
       "Coefficients:\n",
       " (Intercept)  df$Work_hour  \n",
       "     1.1e-11       1.0e+04  \n"
      ]
     },
     "metadata": {},
     "output_type": "display_data"
    }
   ],
   "source": [
    "# 절편 b0과 기울기 b1구하기 - lm(종속변수~독립변수)\n",
    "lr <- lm(data = df, df$Total_pay ~ df$Work_hour)\n",
    "lr"
   ]
  },
  {
   "cell_type": "code",
   "execution_count": 18,
   "metadata": {},
   "outputs": [
    {
     "data": {
      "image/png": "[encoded data removed]",
      "text/plain": [
       "plot without title"
      ]
     },
     "metadata": {},
     "output_type": "display_data"
    }
   ],
   "source": [
    "plot(data = df, df$Total_pay~df$Work_hour, pch=20, col='red')\n",
    "grid()\n",
    "abline(lr, col='blue',lwd=2)"
   ]
  },
  {
   "cell_type": "markdown",
   "metadata": {},
   "source": [
    "안타와 홈런 변수를 활용한 회귀분석"
   ]
  },
  {
   "cell_type": "code",
   "execution_count": 19,
   "metadata": {},
   "outputs": [],
   "source": [
    "df <- read.csv('r-ggagi-data/example_kbo2015.csv')"
   ]
  },
  {
   "cell_type": "code",
   "execution_count": 20,
   "metadata": {},
   "outputs": [
    {
     "name": "stdout",
     "output_type": "stream",
     "text": [
      "'data.frame':\t10 obs. of  26 variables:\n",
      " $ ranking: int  1 2 3 4 5 6 7 8 9 10\n",
      " $ team   : Factor w/ 10 levels \"KIA\",\"kt\",\"LG\",..: 9 6 7 4 8 5 10 2 3 1\n",
      " $ AVG    : num  0.3 0.3 0.291 0.288 0.277 0.276 0.27 0.27 0.259 0.256\n",
      " $ G      : int  102 102 99 101 104 99 102 102 103 100\n",
      " $ PA     : int  4091 4151 3950 3994 4082 3888 4037 3988 3984 3835\n",
      " $ AB     : int  3553 3620 3410 3485 3557 3373 3404 3498 3491 3362\n",
      " $ R      : int  634 658 570 591 545 476 504 466 458 469\n",
      " $ H      : int  1066 1085 991 1002 985 931 919 944 905 861\n",
      " $ X2B    : int  188 227 176 205 176 146 162 161 171 161\n",
      " $ X3B    : int  19 12 16 20 14 9 13 13 16 14\n",
      " $ HR     : int  127 155 98 110 130 92 82 87 83 95\n",
      " $ TB     : int  1673 1801 1493 1577 1579 1371 1353 1392 1357 1335\n",
      " $ RBI    : int  606 622 541 557 515 451 467 443 423 440\n",
      " $ SAC    : int  49 40 51 47 50 75 114 62 60 54\n",
      " $ SF     : int  44 37 45 36 23 17 27 26 29 23\n",
      " $ BB     : int  398 393 378 351 395 360 406 355 347 327\n",
      " $ IBB    : int  15 13 17 17 16 12 23 13 17 11\n",
      " $ HBP    : int  47 61 66 74 57 63 86 47 57 69\n",
      " $ SO     : int  650 815 544 717 866 720 780 799 803 778\n",
      " $ GDP    : int  78 79 95 65 105 73 78 75 68 68\n",
      " $ SLG    : num  0.471 0.498 0.438 0.453 0.444 0.406 0.397 0.398 0.389 0.397\n",
      " $ OBP    : num  0.374 0.374 0.368 0.362 0.356 0.355 0.36 0.343 0.334 0.332\n",
      " $ OPS    : num  0.845 0.872 0.806 0.815 0.8 0.761 0.757 0.741 0.723 0.729\n",
      " $ MH     : int  101 100 98 101 104 99 102 101 103 100\n",
      " $ RISP   : num  0.3 0.294 0.284 0.296 0.272 0.277 0.264 0.259 0.238 0.26\n",
      " $ PH.BA  : num  0.216 0.268 0.262 0.274 0.19 0.236 0.196 0.243 0.231 0.214\n"
     ]
    }
   ],
   "source": [
    "str(df)"
   ]
  },
  {
   "cell_type": "code",
   "execution_count": 21,
   "metadata": {},
   "outputs": [
    {
     "data": {
      "text/html": [
       "<ol class=list-inline>\n",
       "\t<li>1066</li>\n",
       "\t<li>1085</li>\n",
       "\t<li>991</li>\n",
       "\t<li>1002</li>\n",
       "\t<li>985</li>\n",
       "\t<li>931</li>\n",
       "\t<li>919</li>\n",
       "\t<li>944</li>\n",
       "\t<li>905</li>\n",
       "\t<li>861</li>\n",
       "</ol>\n"
      ],
      "text/latex": [
       "\\begin{enumerate*}\n",
       "\\item 1066\n",
       "\\item 1085\n",
       "\\item 991\n",
       "\\item 1002\n",
       "\\item 985\n",
       "\\item 931\n",
       "\\item 919\n",
       "\\item 944\n",
       "\\item 905\n",
       "\\item 861\n",
       "\\end{enumerate*}\n"
      ],
      "text/markdown": [
       "1. 1066\n",
       "2. 1085\n",
       "3. 991\n",
       "4. 1002\n",
       "5. 985\n",
       "6. 931\n",
       "7. 919\n",
       "8. 944\n",
       "9. 905\n",
       "10. 861\n",
       "\n",
       "\n"
      ],
      "text/plain": [
       " [1] 1066 1085  991 1002  985  931  919  944  905  861"
      ]
     },
     "metadata": {},
     "output_type": "display_data"
    }
   ],
   "source": [
    "# 안타 H, 홈런 HR\n",
    "df$H"
   ]
  },
  {
   "cell_type": "code",
   "execution_count": 22,
   "metadata": {},
   "outputs": [
    {
     "data": {
      "text/html": [
       "<ol class=list-inline>\n",
       "\t<li>127</li>\n",
       "\t<li>155</li>\n",
       "\t<li>98</li>\n",
       "\t<li>110</li>\n",
       "\t<li>130</li>\n",
       "\t<li>92</li>\n",
       "\t<li>82</li>\n",
       "\t<li>87</li>\n",
       "\t<li>83</li>\n",
       "\t<li>95</li>\n",
       "</ol>\n"
      ],
      "text/latex": [
       "\\begin{enumerate*}\n",
       "\\item 127\n",
       "\\item 155\n",
       "\\item 98\n",
       "\\item 110\n",
       "\\item 130\n",
       "\\item 92\n",
       "\\item 82\n",
       "\\item 87\n",
       "\\item 83\n",
       "\\item 95\n",
       "\\end{enumerate*}\n"
      ],
      "text/markdown": [
       "1. 127\n",
       "2. 155\n",
       "3. 98\n",
       "4. 110\n",
       "5. 130\n",
       "6. 92\n",
       "7. 82\n",
       "8. 87\n",
       "9. 83\n",
       "10. 95\n",
       "\n",
       "\n"
      ],
      "text/plain": [
       " [1] 127 155  98 110 130  92  82  87  83  95"
      ]
     },
     "metadata": {},
     "output_type": "display_data"
    }
   ],
   "source": [
    "df$HR"
   ]
  },
  {
   "cell_type": "code",
   "execution_count": 23,
   "metadata": {},
   "outputs": [
    {
     "data": {
      "text/html": [
       "0.838411602309812"
      ],
      "text/latex": [
       "0.838411602309812"
      ],
      "text/markdown": [
       "0.838411602309812"
      ],
      "text/plain": [
       "[1] 0.8384116"
      ]
     },
     "metadata": {},
     "output_type": "display_data"
    }
   ],
   "source": [
    "#상관계수 (-1 ~ 1)\n",
    "cor(df$H, df$HR)"
   ]
  },
  {
   "cell_type": "code",
   "execution_count": 24,
   "metadata": {},
   "outputs": [
    {
     "data": {
      "image/png": "[encoded data removed]",
      "text/plain": [
       "plot without title"
      ]
     },
     "metadata": {},
     "output_type": "display_data"
    }
   ],
   "source": [
    "# 산점도\n",
    "plot(HR~H, data = df, pch=20, col='grey', cex=1.5)"
   ]
  },
  {
   "cell_type": "code",
   "execution_count": 25,
   "metadata": {},
   "outputs": [
    {
     "data": {
      "text/plain": [
       "\n",
       "Call:\n",
       "lm(formula = HR ~ H, data = df)\n",
       "\n",
       "Coefficients:\n",
       "(Intercept)            H  \n",
       "  -172.3105       0.2871  \n"
      ]
     },
     "metadata": {},
     "output_type": "display_data"
    }
   ],
   "source": [
    "# 회귀모델 구하고 그리기 - 0.2871  안타 10번에 홈런 2.8번\n",
    "lm <- lm(HR~H, data=df)\n",
    "lm"
   ]
  },
  {
   "cell_type": "code",
   "execution_count": 26,
   "metadata": {},
   "outputs": [
    {
     "data": {
      "image/png": "[encoded data removed]",
      "text/plain": [
       "plot without title"
      ]
     },
     "metadata": {},
     "output_type": "display_data"
    }
   ],
   "source": [
    "plot(HR~H, data = df, pch=20, col='grey', cex=1.5)\n",
    "grid()\n",
    "abline(lm, lwd=2, col='red')"
   ]
  },
  {
   "cell_type": "code",
   "execution_count": 27,
   "metadata": {},
   "outputs": [
    {
     "name": "stdout",
     "output_type": "stream",
     "text": [
      "'data.frame':\t32 obs. of  11 variables:\n",
      " $ mpg : num  21 21 22.8 21.4 18.7 18.1 14.3 24.4 22.8 19.2 ...\n",
      " $ cyl : num  6 6 4 6 8 6 8 4 4 6 ...\n",
      " $ disp: num  160 160 108 258 360 ...\n",
      " $ hp  : num  110 110 93 110 175 105 245 62 95 123 ...\n",
      " $ drat: num  3.9 3.9 3.85 3.08 3.15 2.76 3.21 3.69 3.92 3.92 ...\n",
      " $ wt  : num  2.62 2.88 2.32 3.21 3.44 ...\n",
      " $ qsec: num  16.5 17 18.6 19.4 17 ...\n",
      " $ vs  : num  0 0 1 1 0 1 0 1 1 1 ...\n",
      " $ am  : num  1 1 1 0 0 0 0 0 0 0 ...\n",
      " $ gear: num  4 4 4 3 3 3 3 4 4 4 ...\n",
      " $ carb: num  4 4 1 1 2 1 4 2 2 4 ...\n"
     ]
    }
   ],
   "source": [
    "# data load\n",
    "str(mtcars)"
   ]
  },
  {
   "cell_type": "code",
   "execution_count": 28,
   "metadata": {},
   "outputs": [
    {
     "data": {
      "text/html": [
       "-0.776168371826586"
      ],
      "text/latex": [
       "-0.776168371826586"
      ],
      "text/markdown": [
       "-0.776168371826586"
      ],
      "text/plain": [
       "[1] -0.7761684"
      ]
     },
     "metadata": {},
     "output_type": "display_data"
    }
   ],
   "source": [
    "cor(mtcars$hp, mtcars$mpg)"
   ]
  },
  {
   "cell_type": "code",
   "execution_count": 29,
   "metadata": {},
   "outputs": [
    {
     "data": {
      "image/png": "[encoded data removed]",
      "text/plain": [
       "plot without title"
      ]
     },
     "metadata": {},
     "output_type": "display_data"
    }
   ],
   "source": [
    "# 그래프 그리기\n",
    "plot(mpg~hp, data = mtcars)\n",
    "Lm <- lm(mpg~hp, data = mtcars)\n",
    "abline(Lm, col='red')"
   ]
  },
  {
   "cell_type": "code",
   "execution_count": 30,
   "metadata": {},
   "outputs": [
    {
     "data": {
      "text/plain": [
       "\n",
       "Call:\n",
       "lm(formula = HR ~ H, data = df)\n",
       "\n",
       "Coefficients:\n",
       "(Intercept)            H  \n",
       "  -172.3105       0.2871  \n"
      ]
     },
     "metadata": {},
     "output_type": "display_data"
    },
    {
     "data": {
      "text/plain": [
       "\n",
       "Call:\n",
       "lm(formula = HR ~ H, data = df)\n",
       "\n",
       "Residuals:\n",
       "    Min      1Q  Median      3Q     Max \n",
       "-14.246  -8.874  -4.978  11.068  20.082 \n",
       "\n",
       "Coefficients:\n",
       "             Estimate Std. Error t value Pr(>|t|)   \n",
       "(Intercept) -172.3105    64.0968  -2.688  0.02757 * \n",
       "H              0.2871     0.0660   4.351  0.00244 **\n",
       "---\n",
       "Signif. codes:  0 '***' 0.001 '**' 0.01 '*' 0.05 '.' 0.1 ' ' 1\n",
       "\n",
       "Residual standard error: 14 on 8 degrees of freedom\n",
       "Multiple R-squared:  0.7029,\tAdjusted R-squared:  0.6658 \n",
       "F-statistic: 18.93 on 1 and 8 DF,  p-value: 0.002442\n"
      ]
     },
     "metadata": {},
     "output_type": "display_data"
    }
   ],
   "source": [
    "lm\n",
    "summary(lm)"
   ]
  },
  {
   "cell_type": "code",
   "execution_count": 31,
   "metadata": {},
   "outputs": [
    {
     "data": {
      "text/html": [
       "<table>\n",
       "<thead><tr><th></th><th scope=col>2.5 %</th><th scope=col>97.5 %</th></tr></thead>\n",
       "<tbody>\n",
       "\t<tr><th scope=row>(Intercept)</th><td>-320.1180464</td><td>-24.502900  </td></tr>\n",
       "\t<tr><th scope=row>H</th><td>   0.1349531</td><td>  0.439328  </td></tr>\n",
       "</tbody>\n",
       "</table>\n"
      ],
      "text/latex": [
       "\\begin{tabular}{r|ll}\n",
       "  & 2.5 \\% & 97.5 \\%\\\\\n",
       "\\hline\n",
       "\t(Intercept) & -320.1180464 & -24.502900  \\\\\n",
       "\tH &    0.1349531 &   0.439328  \\\\\n",
       "\\end{tabular}\n"
      ],
      "text/markdown": [
       "\n",
       "| <!--/--> | 2.5 % | 97.5 % |\n",
       "|---|---|---|\n",
       "| (Intercept) | -320.1180464 | -24.502900   |\n",
       "| H |    0.1349531 |   0.439328   |\n",
       "\n"
      ],
      "text/plain": [
       "            2.5 %        97.5 %    \n",
       "(Intercept) -320.1180464 -24.502900\n",
       "H              0.1349531   0.439328"
      ]
     },
     "metadata": {},
     "output_type": "display_data"
    }
   ],
   "source": [
    "confint(lm)"
   ]
  },
  {
   "cell_type": "code",
   "execution_count": 32,
   "metadata": {},
   "outputs": [],
   "source": [
    "df <- read.csv('r-ggagi-data//example_residuals_checking.csv')"
   ]
  },
  {
   "cell_type": "code",
   "execution_count": 33,
   "metadata": {
    "scrolled": false
   },
   "outputs": [
    {
     "data": {
      "text/html": [
       "<table>\n",
       "<thead><tr><th scope=col>y1</th><th scope=col>x1</th><th scope=col>y2</th><th scope=col>x2</th></tr></thead>\n",
       "<tbody>\n",
       "\t<tr><td> 6.44</td><td>0.5  </td><td> 9.88</td><td>1.7  </td></tr>\n",
       "\t<tr><td>10.19</td><td>2.5  </td><td> 5.10</td><td>0.8  </td></tr>\n",
       "\t<tr><td> 5.03</td><td>0.6  </td><td> 7.95</td><td>1.3  </td></tr>\n",
       "\t<tr><td>14.58</td><td>3.0  </td><td>15.20</td><td>2.9  </td></tr>\n",
       "\t<tr><td>27.42</td><td>4.8  </td><td> 4.05</td><td>0.3  </td></tr>\n",
       "\t<tr><td> 6.58</td><td>1.5  </td><td>11.77</td><td>1.9  </td></tr>\n",
       "</tbody>\n",
       "</table>\n"
      ],
      "text/latex": [
       "\\begin{tabular}{r|llll}\n",
       " y1 & x1 & y2 & x2\\\\\n",
       "\\hline\n",
       "\t  6.44 & 0.5   &  9.88 & 1.7  \\\\\n",
       "\t 10.19 & 2.5   &  5.10 & 0.8  \\\\\n",
       "\t  5.03 & 0.6   &  7.95 & 1.3  \\\\\n",
       "\t 14.58 & 3.0   & 15.20 & 2.9  \\\\\n",
       "\t 27.42 & 4.8   &  4.05 & 0.3  \\\\\n",
       "\t  6.58 & 1.5   & 11.77 & 1.9  \\\\\n",
       "\\end{tabular}\n"
      ],
      "text/markdown": [
       "\n",
       "| y1 | x1 | y2 | x2 |\n",
       "|---|---|---|---|\n",
       "|  6.44 | 0.5   |  9.88 | 1.7   |\n",
       "| 10.19 | 2.5   |  5.10 | 0.8   |\n",
       "|  5.03 | 0.6   |  7.95 | 1.3   |\n",
       "| 14.58 | 3.0   | 15.20 | 2.9   |\n",
       "| 27.42 | 4.8   |  4.05 | 0.3   |\n",
       "|  6.58 | 1.5   | 11.77 | 1.9   |\n",
       "\n"
      ],
      "text/plain": [
       "  y1    x1  y2    x2 \n",
       "1  6.44 0.5  9.88 1.7\n",
       "2 10.19 2.5  5.10 0.8\n",
       "3  5.03 0.6  7.95 1.3\n",
       "4 14.58 3.0 15.20 2.9\n",
       "5 27.42 4.8  4.05 0.3\n",
       "6  6.58 1.5 11.77 1.9"
      ]
     },
     "metadata": {},
     "output_type": "display_data"
    }
   ],
   "source": [
    "head(df)"
   ]
  },
  {
   "cell_type": "code",
   "execution_count": 40,
   "metadata": {},
   "outputs": [
    {
     "data": {
      "text/plain": [
       "\n",
       "Call:\n",
       "lm(formula = y1 ~ x1, data = df)\n",
       "\n",
       "Coefficients:\n",
       "(Intercept)           x1  \n",
       "      1.155        4.971  \n"
      ]
     },
     "metadata": {},
     "output_type": "display_data"
    }
   ],
   "source": [
    "# x1, y1 관계 분석\n",
    "lm.res1 <- lm(y1~x1, data = df)\n",
    "lm.res1"
   ]
  },
  {
   "cell_type": "code",
   "execution_count": 41,
   "metadata": {},
   "outputs": [
    {
     "data": {
      "text/plain": [
       "\n",
       "Call:\n",
       "lm(formula = y2 ~ x2, data = df)\n",
       "\n",
       "Coefficients:\n",
       "(Intercept)           x2  \n",
       "      1.155        4.971  \n"
      ]
     },
     "metadata": {},
     "output_type": "display_data"
    }
   ],
   "source": [
    "lm.res2 <- lm(y2~x2, data = df)\n",
    "lm.res2"
   ]
  },
  {
   "cell_type": "code",
   "execution_count": 35,
   "metadata": {},
   "outputs": [
    {
     "data": {
      "image/png": "[encoded data removed]",
      "text/plain": [
       "Plot with title \"Data1\""
      ]
     },
     "metadata": {},
     "output_type": "display_data"
    },
    {
     "data": {
      "image/png": "[encoded data removed]",
      "text/plain": [
       "Plot with title \"Data2\""
      ]
     },
     "metadata": {},
     "output_type": "display_data"
    }
   ],
   "source": [
    "plot(y1~x1, df, pch = 20, cex=1.5, ylim = c(0,30), main = 'Data1',col='blue')\n",
    "plot(y2~x2, df, pch = 20, cex=1.5, ylim = c(0,30), main = 'Data2',col='red')"
   ]
  },
  {
   "cell_type": "code",
   "execution_count": 36,
   "metadata": {},
   "outputs": [
    {
     "ename": "ERROR",
     "evalue": "Error in abline(Lm.res1, col = \"blue\", lwd = 2): 객체 'Lm.res1'를 찾을 수 없습니다\n",
     "output_type": "error",
     "traceback": [
      "Error in abline(Lm.res1, col = \"blue\", lwd = 2): 객체 'Lm.res1'를 찾을 수 없습니다\nTraceback:\n",
      "1. abline(Lm.res1, col = \"blue\", lwd = 2)"
     ]
    },
    {
     "data": {
      "image/png": "[encoded data removed]",
      "text/plain": [
       "Plot with title \"Data1\""
      ]
     },
     "metadata": {},
     "output_type": "display_data"
    }
   ],
   "source": [
    "plot(y1~x1, df, pch = 20, cex=1.5, ylim = c(0,30), main = 'Data1')\n",
    "abline(Lm.res1, col='blue', lwd=2)\n",
    "\n",
    "plot(y2~x2, df, pch = 20, cex=1.5, ylim = c(0,30), main = 'Data2')\n",
    "abline(Lm.res1, col='blue', lwd=2)"
   ]
  },
  {
   "cell_type": "code",
   "execution_count": 42,
   "metadata": {},
   "outputs": [
    {
     "data": {
      "text/plain": [
       "\n",
       "Call:\n",
       "lm(formula = y1 ~ x1, data = df)\n",
       "\n",
       "Residuals:\n",
       "    Min      1Q  Median      3Q     Max \n",
       "-3.8603 -1.5588 -0.4486  1.1981  5.7548 \n",
       "\n",
       "Coefficients:\n",
       "            Estimate Std. Error t value            Pr(>|t|)    \n",
       "(Intercept)   1.1552     0.6071   1.903               0.063 .  \n",
       "x1            4.9712     0.2093  23.756 <0.0000000000000002 ***\n",
       "---\n",
       "Signif. codes:  0 '***' 0.001 '**' 0.01 '*' 0.05 '.' 0.1 ' ' 1\n",
       "\n",
       "Residual standard error: 2.2 on 49 degrees of freedom\n",
       "Multiple R-squared:  0.9201,\tAdjusted R-squared:  0.9185 \n",
       "F-statistic: 564.3 on 1 and 49 DF,  p-value: < 0.00000000000000022\n"
      ]
     },
     "metadata": {},
     "output_type": "display_data"
    }
   ],
   "source": [
    "options(scipen = 999)\n",
    "summary(lm.res1)"
   ]
  },
  {
   "cell_type": "code",
   "execution_count": 43,
   "metadata": {},
   "outputs": [
    {
     "data": {
      "text/plain": [
       "\n",
       "Call:\n",
       "lm(formula = y2 ~ x2, data = df)\n",
       "\n",
       "Residuals:\n",
       "     Min       1Q   Median       3Q      Max \n",
       "-2.43449 -0.72323 -0.03214  0.59951  2.54498 \n",
       "\n",
       "Coefficients:\n",
       "            Estimate Std. Error t value             Pr(>|t|)    \n",
       "(Intercept)   1.1552     0.2925    3.95              0.00025 ***\n",
       "x2            4.9712     0.1008   49.31 < 0.0000000000000002 ***\n",
       "---\n",
       "Signif. codes:  0 '***' 0.001 '**' 0.01 '*' 0.05 '.' 0.1 ' ' 1\n",
       "\n",
       "Residual standard error: 1.06 on 49 degrees of freedom\n",
       "Multiple R-squared:  0.9802,\tAdjusted R-squared:  0.9798 \n",
       "F-statistic:  2431 on 1 and 49 DF,  p-value: < 0.00000000000000022\n"
      ]
     },
     "metadata": {},
     "output_type": "display_data"
    }
   ],
   "source": [
    "summary(lm.res2)"
   ]
  },
  {
   "cell_type": "code",
   "execution_count": 44,
   "metadata": {},
   "outputs": [
    {
     "data": {
      "image/png": "[encoded data removed]",
      "text/plain": [
       "Plot with title \"\""
      ]
     },
     "metadata": {},
     "output_type": "display_data"
    }
   ],
   "source": [
    "par(mfrow = c(2,2))\n",
    "plot(lm.res1)"
   ]
  },
  {
   "cell_type": "code",
   "execution_count": 45,
   "metadata": {},
   "outputs": [
    {
     "data": {
      "image/png": "[encoded data removed]",
      "text/plain": [
       "Plot with title \"\""
      ]
     },
     "metadata": {},
     "output_type": "display_data"
    }
   ],
   "source": [
    "par(mfrow = c(2,2))\n",
    "plot(lm.res2)"
   ]
  },
  {
   "cell_type": "markdown",
   "metadata": {},
   "source": [
    "키와 몸무게 회귀모델 구하기"
   ]
  },
  {
   "cell_type": "code",
   "execution_count": 46,
   "metadata": {},
   "outputs": [],
   "source": [
    "df <- read.csv('r-ggagi-data//example_studentlist.csv')"
   ]
  },
  {
   "cell_type": "code",
   "execution_count": 47,
   "metadata": {},
   "outputs": [],
   "source": [
    "lm <- lm(df$height~df$weight, data=df)"
   ]
  },
  {
   "cell_type": "code",
   "execution_count": 48,
   "metadata": {},
   "outputs": [
    {
     "data": {
      "image/png": "[encoded data removed]",
      "text/plain": [
       "plot without title"
      ]
     },
     "metadata": {},
     "output_type": "display_data"
    }
   ],
   "source": [
    "plot(df$height~df$weight, data=df)\n",
    "abline(lm, col='red')"
   ]
  },
  {
   "cell_type": "code",
   "execution_count": 50,
   "metadata": {},
   "outputs": [
    {
     "data": {
      "text/plain": [
       "\n",
       "Call:\n",
       "lm(formula = df$height ~ df$weight, data = df)\n",
       "\n",
       "Residuals:\n",
       "   Min     1Q Median     3Q    Max \n",
       "-7.900 -4.856 -1.335  3.612  9.569 \n",
       "\n",
       "Coefficients:\n",
       "            Estimate Std. Error t value        Pr(>|t|)    \n",
       "(Intercept) 143.1724     7.9440  18.023 0.0000000000142 ***\n",
       "df$weight     0.4399     0.1278   3.441         0.00364 ** \n",
       "---\n",
       "Signif. codes:  0 '***' 0.001 '**' 0.01 '*' 0.05 '.' 0.1 ' ' 1\n",
       "\n",
       "Residual standard error: 6.061 on 15 degrees of freedom\n",
       "Multiple R-squared:  0.4411,\tAdjusted R-squared:  0.4039 \n",
       "F-statistic: 11.84 on 1 and 15 DF,  p-value: 0.003639\n"
      ]
     },
     "metadata": {},
     "output_type": "display_data"
    }
   ],
   "source": [
    "summary(lm)"
   ]
  },
  {
   "cell_type": "code",
   "execution_count": 52,
   "metadata": {},
   "outputs": [
    {
     "data": {
      "image/png": "[encoded data removed]",
      "text/plain": [
       "Plot with title \"\""
      ]
     },
     "metadata": {},
     "output_type": "display_data"
    }
   ],
   "source": [
    "par(mfrow = c(2,2))\n",
    "plot(lm)"
   ]
  },
  {
   "cell_type": "markdown",
   "metadata": {},
   "source": [
    "타율에 영향을 미치는 변수 분석"
   ]
  },
  {
   "cell_type": "code",
   "execution_count": 53,
   "metadata": {},
   "outputs": [],
   "source": [
    "df <- read.csv('r-ggagi-data//example_kbo2015_player.csv')"
   ]
  },
  {
   "cell_type": "code",
   "execution_count": 54,
   "metadata": {},
   "outputs": [
    {
     "name": "stdout",
     "output_type": "stream",
     "text": [
      "'data.frame':\t337 obs. of  26 variables:\n",
      " $ 순위  : int  1 2 3 4 5 6 7 8 9 10 ...\n",
      " $ 선수명: Factor w/ 331 levels \"강경학\",\"강동수\",..: 197 110 320 13 196 29 240 201 158 71 ...\n",
      " $ 팀명  : Factor w/ 10 levels \"KIA\",\"kt\",\"LG\",..: 6 6 6 6 6 6 6 6 6 6 ...\n",
      " $ AVG   : Factor w/ 142 levels \"-\",\"0\",\"0.045\",..: 136 133 128 121 117 116 113 107 102 98 ...\n",
      " $ G     : int  101 106 7 85 44 96 68 99 79 103 ...\n",
      " $ PA    : int  436 476 10 328 26 405 253 389 339 436 ...\n",
      " $ AB    : int  376 410 9 299 22 370 219 333 295 383 ...\n",
      " $ R     : int  82 100 0 59 17 53 40 52 62 68 ...\n",
      " $ H     : int  137 143 3 97 7 117 68 100 87 110 ...\n",
      " $ X2B   : int  35 29 0 22 2 21 10 22 21 28 ...\n",
      " $ X3B   : int  1 1 0 3 0 0 0 1 1 4 ...\n",
      " $ HR    : int  19 42 0 8 0 14 8 13 17 14 ...\n",
      " $ TB    : int  231 300 3 149 9 180 102 163 161 188 ...\n",
      " $ RBI   : int  84 111 2 40 3 65 21 67 53 57 ...\n",
      " $ SAC   : int  0 0 0 3 2 0 1 5 3 3 ...\n",
      " $ SF    : int  6 3 0 1 0 3 2 6 3 4 ...\n",
      " $ XBH   : int  55 72 0 33 2 35 18 36 39 46 ...\n",
      " $ GO    : int  97 70 2 73 6 95 60 96 39 80 ...\n",
      " $ AO    : int  95 74 0 67 2 105 57 84 75 106 ...\n",
      " $ GO.AO : Factor w/ 120 levels \"-\",\"0\",\"0.14\",..: 46 41 1 52 116 36 49 57 10 26 ...\n",
      " $ GW.RBI: int  7 10 0 6 0 2 1 5 1 3 ...\n",
      " $ BB.K  : Factor w/ 86 levels \"-\",\"0\",\"0.05\",..: 74 36 21 25 24 39 67 56 26 40 ...\n",
      " $ P.PA  : Factor w/ 121 levels \"-\",\"1\",\"2.5\",..: 70 76 113 60 77 68 85 56 81 88 ...\n",
      " $ ISOP  : Factor w/ 135 levels \"-\",\"0\",\"0.01\",..: 120 134 2 94 46 93 83 100 121 104 ...\n",
      " $ XR    : num  88.4 113.3 1.3 47.9 4.2 ...\n",
      " $ GPA   : num  0.351 0.378 0.263 0.293 0.271 0.287 0.293 0.292 0.304 0.285 ...\n"
     ]
    }
   ],
   "source": [
    "str(df)"
   ]
  },
  {
   "cell_type": "code",
   "execution_count": 55,
   "metadata": {},
   "outputs": [
    {
     "data": {
      "text/html": [
       "'factor'"
      ],
      "text/latex": [
       "'factor'"
      ],
      "text/markdown": [
       "'factor'"
      ],
      "text/plain": [
       "[1] \"factor\""
      ]
     },
     "metadata": {},
     "output_type": "display_data"
    }
   ],
   "source": [
    "class(df$AVG )\n",
    "df$AVG <- as.numeric(df$AVG) # 타율\n",
    "df$GO.AO <- as.numeric(df$GO.AO) # 땅볼 대 플라이볼 비율\n",
    "df$BB.K <- #볼넷 대 삼진 비율\n",
    "df$P.PA <- as.numeric(df$P.PA) # 투구수/타석\n",
    "df$ISOP <- as.numeric(df$ISOP) # 순장타율(장타율-타율)"
   ]
  },
  {
   "cell_type": "code",
   "execution_count": 56,
   "metadata": {},
   "outputs": [
    {
     "data": {
      "text/html": [
       "<table>\n",
       "<thead><tr><th scope=col>G</th><th scope=col>PA</th><th scope=col>AB</th><th scope=col>R</th><th scope=col>H</th><th scope=col>X2B</th><th scope=col>X3B</th><th scope=col>HR</th><th scope=col>TB</th><th scope=col>RBI</th><th scope=col>...</th><th scope=col>XBH</th><th scope=col>GO</th><th scope=col>AO</th><th scope=col>GO.AO</th><th scope=col>GW.RBI</th><th scope=col>BB.K</th><th scope=col>P.PA</th><th scope=col>ISOP</th><th scope=col>XR</th><th scope=col>GPA</th></tr></thead>\n",
       "<tbody>\n",
       "\t<tr><td>0.6573121 </td><td>0.7607232 </td><td>0.7519703 </td><td>0.8012273 </td><td>0.7815465 </td><td>0.7756991 </td><td>0.3089791 </td><td>1         </td><td>0.8828075 </td><td>0.9217014 </td><td>...       </td><td>0.9190164 </td><td>0.6096195 </td><td>0.7477335 </td><td>0.06866405</td><td>0.7889489 </td><td>0.2734712 </td><td>0.2734712 </td><td>0.7544387 </td><td>0.8815765 </td><td>0.5505212 </td></tr>\n",
       "</tbody>\n",
       "</table>\n"
      ],
      "text/latex": [
       "\\begin{tabular}{llllllllllllllllllllll}\n",
       " G & PA & AB & R & H & X2B & X3B & HR & TB & RBI & ... & XBH & GO & AO & GO.AO & GW.RBI & BB.K & P.PA & ISOP & XR & GPA\\\\\n",
       "\\hline\n",
       "\t 0.6573121  & 0.7607232  & 0.7519703  & 0.8012273  & 0.7815465  & 0.7756991  & 0.3089791  & 1          & 0.8828075  & 0.9217014  & ...        & 0.9190164  & 0.6096195  & 0.7477335  & 0.06866405 & 0.7889489  & 0.2734712  & 0.2734712  & 0.7544387  & 0.8815765  & 0.5505212 \\\\\n",
       "\\end{tabular}\n"
      ],
      "text/markdown": [
       "\n",
       "| G | PA | AB | R | H | X2B | X3B | HR | TB | RBI | ... | XBH | GO | AO | GO.AO | GW.RBI | BB.K | P.PA | ISOP | XR | GPA |\n",
       "|---|---|---|---|---|---|---|---|---|---|---|---|---|---|---|---|---|---|---|---|---|\n",
       "| 0.6573121  | 0.7607232  | 0.7519703  | 0.8012273  | 0.7815465  | 0.7756991  | 0.3089791  | 1          | 0.8828075  | 0.9217014  | ...        | 0.9190164  | 0.6096195  | 0.7477335  | 0.06866405 | 0.7889489  | 0.2734712  | 0.2734712  | 0.7544387  | 0.8815765  | 0.5505212  |\n",
       "\n"
      ],
      "text/plain": [
       "     G         PA        AB        R         H         X2B       X3B       HR\n",
       "[1,] 0.6573121 0.7607232 0.7519703 0.8012273 0.7815465 0.7756991 0.3089791 1 \n",
       "     TB        RBI       ... XBH       GO        AO        GO.AO      GW.RBI   \n",
       "[1,] 0.8828075 0.9217014 ... 0.9190164 0.6096195 0.7477335 0.06866405 0.7889489\n",
       "     BB.K      P.PA      ISOP      XR        GPA      \n",
       "[1,] 0.2734712 0.2734712 0.7544387 0.8815765 0.5505212"
      ]
     },
     "metadata": {},
     "output_type": "display_data"
    }
   ],
   "source": [
    "# 홈런(HR) 과 다른 변수간 상관계수 \n",
    "Cors <- cor(df$HR, \n",
    "            df[,5:length(df)], \n",
    "            use='pairwise.complete.obs') # 피어슨 알고리즘으로 결측치 처리\n",
    "Cors"
   ]
  },
  {
   "cell_type": "code",
   "execution_count": 57,
   "metadata": {},
   "outputs": [
    {
     "data": {
      "text/html": [
       "<dl class=dl-horizontal>\n",
       "\t<dt>SAC</dt>\n",
       "\t\t<dd>0.028827778858248</dd>\n",
       "\t<dt>GO.AO</dt>\n",
       "\t\t<dd>0.0686640466862045</dd>\n",
       "\t<dt>BB.K</dt>\n",
       "\t\t<dd>0.273471177132618</dd>\n",
       "\t<dt>P.PA</dt>\n",
       "\t\t<dd>0.273471177132618</dd>\n",
       "\t<dt>X3B</dt>\n",
       "\t\t<dd>0.308979087457867</dd>\n",
       "\t<dt>GPA</dt>\n",
       "\t\t<dd>0.550521232260773</dd>\n",
       "\t<dt>GO</dt>\n",
       "\t\t<dd>0.609619485246719</dd>\n",
       "\t<dt>G</dt>\n",
       "\t\t<dd>0.657312087742317</dd>\n",
       "\t<dt>SF</dt>\n",
       "\t\t<dd>0.676635877811447</dd>\n",
       "\t<dt>AO</dt>\n",
       "\t\t<dd>0.747733499475882</dd>\n",
       "\t<dt>AB</dt>\n",
       "\t\t<dd>0.751970324849766</dd>\n",
       "\t<dt>ISOP</dt>\n",
       "\t\t<dd>0.754438656912883</dd>\n",
       "\t<dt>PA</dt>\n",
       "\t\t<dd>0.760723214863661</dd>\n",
       "\t<dt>X2B</dt>\n",
       "\t\t<dd>0.775699070914623</dd>\n",
       "\t<dt>H</dt>\n",
       "\t\t<dd>0.781546504304732</dd>\n",
       "\t<dt>GW.RBI</dt>\n",
       "\t\t<dd>0.788948915070849</dd>\n",
       "\t<dt>R</dt>\n",
       "\t\t<dd>0.801227338861749</dd>\n",
       "\t<dt>XR</dt>\n",
       "\t\t<dd>0.8815764700245</dd>\n",
       "\t<dt>TB</dt>\n",
       "\t\t<dd>0.882807451191371</dd>\n",
       "\t<dt>XBH</dt>\n",
       "\t\t<dd>0.919016366686709</dd>\n",
       "\t<dt>RBI</dt>\n",
       "\t\t<dd>0.921701367369363</dd>\n",
       "\t<dt>HR</dt>\n",
       "\t\t<dd>1</dd>\n",
       "</dl>\n"
      ],
      "text/latex": [
       "\\begin{description*}\n",
       "\\item[SAC] 0.028827778858248\n",
       "\\item[GO.AO] 0.0686640466862045\n",
       "\\item[BB.K] 0.273471177132618\n",
       "\\item[P.PA] 0.273471177132618\n",
       "\\item[X3B] 0.308979087457867\n",
       "\\item[GPA] 0.550521232260773\n",
       "\\item[GO] 0.609619485246719\n",
       "\\item[G] 0.657312087742317\n",
       "\\item[SF] 0.676635877811447\n",
       "\\item[AO] 0.747733499475882\n",
       "\\item[AB] 0.751970324849766\n",
       "\\item[ISOP] 0.754438656912883\n",
       "\\item[PA] 0.760723214863661\n",
       "\\item[X2B] 0.775699070914623\n",
       "\\item[H] 0.781546504304732\n",
       "\\item[GW.RBI] 0.788948915070849\n",
       "\\item[R] 0.801227338861749\n",
       "\\item[XR] 0.8815764700245\n",
       "\\item[TB] 0.882807451191371\n",
       "\\item[XBH] 0.919016366686709\n",
       "\\item[RBI] 0.921701367369363\n",
       "\\item[HR] 1\n",
       "\\end{description*}\n"
      ],
      "text/markdown": [
       "SAC\n",
       ":   0.028827778858248GO.AO\n",
       ":   0.0686640466862045BB.K\n",
       ":   0.273471177132618P.PA\n",
       ":   0.273471177132618X3B\n",
       ":   0.308979087457867GPA\n",
       ":   0.550521232260773GO\n",
       ":   0.609619485246719G\n",
       ":   0.657312087742317SF\n",
       ":   0.676635877811447AO\n",
       ":   0.747733499475882AB\n",
       ":   0.751970324849766ISOP\n",
       ":   0.754438656912883PA\n",
       ":   0.760723214863661X2B\n",
       ":   0.775699070914623H\n",
       ":   0.781546504304732GW.RBI\n",
       ":   0.788948915070849R\n",
       ":   0.801227338861749XR\n",
       ":   0.8815764700245TB\n",
       ":   0.882807451191371XBH\n",
       ":   0.919016366686709RBI\n",
       ":   0.921701367369363HR\n",
       ":   1\n",
       "\n"
      ],
      "text/plain": [
       "       SAC      GO.AO       BB.K       P.PA        X3B        GPA         GO \n",
       "0.02882778 0.06866405 0.27347118 0.27347118 0.30897909 0.55052123 0.60961949 \n",
       "         G         SF         AO         AB       ISOP         PA        X2B \n",
       "0.65731209 0.67663588 0.74773350 0.75197032 0.75443866 0.76072321 0.77569907 \n",
       "         H     GW.RBI          R         XR         TB        XBH        RBI \n",
       "0.78154650 0.78894892 0.80122734 0.88157647 0.88280745 0.91901637 0.92170137 \n",
       "        HR \n",
       "1.00000000 "
      ]
     },
     "metadata": {},
     "output_type": "display_data"
    }
   ],
   "source": [
    "Cors <- Cors[,order(Cors)]\n",
    "Cors"
   ]
  },
  {
   "cell_type": "code",
   "execution_count": 58,
   "metadata": {},
   "outputs": [],
   "source": [
    "# 뜬공 AO 0.747733499475882 분석 해보기\n",
    "# 홈런과 뜬공 데이터 값 0 제거\n",
    "df$HR[df$HR == 0] <- NA\n",
    "df$HR[df$AO == 0] <- NA\n",
    "df <- na.omit(df)"
   ]
  },
  {
   "cell_type": "code",
   "execution_count": 59,
   "metadata": {},
   "outputs": [
    {
     "data": {
      "text/plain": [
       "\n",
       "Call:\n",
       "lm(formula = HR ~ AO, data = df)\n",
       "\n",
       "Coefficients:\n",
       "(Intercept)           AO  \n",
       "    -0.5244       0.1541  \n"
      ]
     },
     "metadata": {},
     "output_type": "display_data"
    }
   ],
   "source": [
    "lm <- lm(HR~AO, data = df)\n",
    "lm"
   ]
  },
  {
   "cell_type": "code",
   "execution_count": 60,
   "metadata": {},
   "outputs": [
    {
     "data": {
      "text/plain": [
       "\n",
       "Call:\n",
       "lm(formula = HR ~ AO, data = df)\n",
       "\n",
       "Residuals:\n",
       "     Min       1Q   Median       3Q      Max \n",
       "-14.2728  -2.8553  -0.4085   2.2129  31.1208 \n",
       "\n",
       "Coefficients:\n",
       "            Estimate Std. Error t value            Pr(>|t|)    \n",
       "(Intercept) -0.52444    0.90894  -0.577               0.565    \n",
       "AO           0.15410    0.01502  10.260 <0.0000000000000002 ***\n",
       "---\n",
       "Signif. codes:  0 '***' 0.001 '**' 0.01 '*' 0.05 '.' 0.1 ' ' 1\n",
       "\n",
       "Residual standard error: 5.932 on 148 degrees of freedom\n",
       "Multiple R-squared:  0.4156,\tAdjusted R-squared:  0.4117 \n",
       "F-statistic: 105.3 on 1 and 148 DF,  p-value: < 0.00000000000000022\n"
      ]
     },
     "metadata": {},
     "output_type": "display_data"
    }
   ],
   "source": [
    "summary(lm)"
   ]
  },
  {
   "cell_type": "code",
   "execution_count": 61,
   "metadata": {},
   "outputs": [
    {
     "data": {
      "image/png": "[encoded data removed]",
      "text/plain": [
       "Plot with title \"\""
      ]
     },
     "metadata": {},
     "output_type": "display_data"
    }
   ],
   "source": [
    "# 잔차 그래프 확인\n",
    "# 1번 0 주위로 일정한 패턴 없이 분산 - 적합\n",
    "# 2번 Q-Q 선에 많은 점들이 모여 있음 - 정규분포 적합\n",
    "# 3,4번 특이한 사항이 없으 - 적합\n",
    "\n",
    "par(mfrow = c(2,2))\n",
    "plot(lm)"
   ]
  },
  {
   "cell_type": "markdown",
   "metadata": {},
   "source": [
    "마력(hp)에 실린더수(cyl) + 차체무게(wt) 영향 분석"
   ]
  },
  {
   "cell_type": "code",
   "execution_count": 62,
   "metadata": {},
   "outputs": [
    {
     "name": "stdout",
     "output_type": "stream",
     "text": [
      "'data.frame':\t32 obs. of  11 variables:\n",
      " $ mpg : num  21 21 22.8 21.4 18.7 18.1 14.3 24.4 22.8 19.2 ...\n",
      " $ cyl : num  6 6 4 6 8 6 8 4 4 6 ...\n",
      " $ disp: num  160 160 108 258 360 ...\n",
      " $ hp  : num  110 110 93 110 175 105 245 62 95 123 ...\n",
      " $ drat: num  3.9 3.9 3.85 3.08 3.15 2.76 3.21 3.69 3.92 3.92 ...\n",
      " $ wt  : num  2.62 2.88 2.32 3.21 3.44 ...\n",
      " $ qsec: num  16.5 17 18.6 19.4 17 ...\n",
      " $ vs  : num  0 0 1 1 0 1 0 1 1 1 ...\n",
      " $ am  : num  1 1 1 0 0 0 0 0 0 0 ...\n",
      " $ gear: num  4 4 4 3 3 3 3 4 4 4 ...\n",
      " $ carb: num  4 4 1 1 2 1 4 2 2 4 ...\n"
     ]
    }
   ],
   "source": [
    "df <- mtcars\n",
    "str(df)"
   ]
  },
  {
   "cell_type": "code",
   "execution_count": 63,
   "metadata": {},
   "outputs": [],
   "source": [
    "lm_t1 <- lm(hp~cyl, data=df)\n",
    "lm_t2 <- lm(hp~wt, data=df)"
   ]
  },
  {
   "cell_type": "code",
   "execution_count": 64,
   "metadata": {},
   "outputs": [
    {
     "data": {
      "text/plain": [
       "\n",
       "Call:\n",
       "lm(formula = hp ~ cyl, data = df)\n",
       "\n",
       "Coefficients:\n",
       "(Intercept)          cyl  \n",
       "     -51.05        31.96  \n"
      ]
     },
     "metadata": {},
     "output_type": "display_data"
    },
    {
     "data": {
      "text/plain": [
       "\n",
       "Call:\n",
       "lm(formula = hp ~ wt, data = df)\n",
       "\n",
       "Coefficients:\n",
       "(Intercept)           wt  \n",
       "     -1.821       46.160  \n"
      ]
     },
     "metadata": {},
     "output_type": "display_data"
    }
   ],
   "source": [
    "lm_t1\n",
    "lm_t2"
   ]
  },
  {
   "cell_type": "code",
   "execution_count": 65,
   "metadata": {},
   "outputs": [],
   "source": [
    "# 독립변수 추가\n",
    "lm <- lm(hp~cyl+wt, data = df)"
   ]
  },
  {
   "cell_type": "code",
   "execution_count": 66,
   "metadata": {},
   "outputs": [
    {
     "data": {
      "text/plain": [
       "\n",
       "Call:\n",
       "lm(formula = hp ~ cyl + wt, data = df)\n",
       "\n",
       "Coefficients:\n",
       "(Intercept)          cyl           wt  \n",
       "     -51.81        31.39         1.33  \n"
      ]
     },
     "metadata": {},
     "output_type": "display_data"
    }
   ],
   "source": [
    "lm"
   ]
  },
  {
   "cell_type": "code",
   "execution_count": 67,
   "metadata": {},
   "outputs": [
    {
     "data": {
      "text/plain": [
       "\n",
       "Call:\n",
       "lm(formula = hp ~ cyl + wt, data = df)\n",
       "\n",
       "Residuals:\n",
       "   Min     1Q Median     3Q    Max \n",
       "-53.98 -25.75 -10.93  20.88 130.95 \n",
       "\n",
       "Coefficients:\n",
       "            Estimate Std. Error t value  Pr(>|t|)    \n",
       "(Intercept)  -51.806     26.231  -1.975    0.0579 .  \n",
       "cyl           31.388      6.343   4.949 0.0000293 ***\n",
       "wt             1.330     11.577   0.115    0.9093    \n",
       "---\n",
       "Signif. codes:  0 '***' 0.001 '**' 0.01 '*' 0.05 '.' 0.1 ' ' 1\n",
       "\n",
       "Residual standard error: 39.27 on 29 degrees of freedom\n",
       "Multiple R-squared:  0.6931,\tAdjusted R-squared:  0.6719 \n",
       "F-statistic: 32.75 on 2 and 29 DF,  p-value: 0.00000003641\n"
      ]
     },
     "metadata": {},
     "output_type": "display_data"
    }
   ],
   "source": [
    "# hp = -51.81 + 31.93 * x1 + 1.33 * x2\n",
    "summary(lm)"
   ]
  },
  {
   "cell_type": "markdown",
   "metadata": {},
   "source": [
    "지구 최고온도에 영향을 미치는 독립변수로 다중회귀분석하기"
   ]
  },
  {
   "cell_type": "code",
   "execution_count": 68,
   "metadata": {},
   "outputs": [
    {
     "data": {
      "text/html": [
       "<table>\n",
       "<thead><tr><th scope=col>Ozone</th><th scope=col>Solar.R</th><th scope=col>Wind</th><th scope=col>Temp</th><th scope=col>Month</th><th scope=col>Day</th></tr></thead>\n",
       "<tbody>\n",
       "\t<tr><td>41  </td><td>190 </td><td> 7.4</td><td>67  </td><td>5   </td><td>1   </td></tr>\n",
       "\t<tr><td>36  </td><td>118 </td><td> 8.0</td><td>72  </td><td>5   </td><td>2   </td></tr>\n",
       "\t<tr><td>12  </td><td>149 </td><td>12.6</td><td>74  </td><td>5   </td><td>3   </td></tr>\n",
       "\t<tr><td>18  </td><td>313 </td><td>11.5</td><td>62  </td><td>5   </td><td>4   </td></tr>\n",
       "\t<tr><td>NA  </td><td> NA </td><td>14.3</td><td>56  </td><td>5   </td><td>5   </td></tr>\n",
       "</tbody>\n",
       "</table>\n"
      ],
      "text/latex": [
       "\\begin{tabular}{r|llllll}\n",
       " Ozone & Solar.R & Wind & Temp & Month & Day\\\\\n",
       "\\hline\n",
       "\t 41   & 190  &  7.4 & 67   & 5    & 1   \\\\\n",
       "\t 36   & 118  &  8.0 & 72   & 5    & 2   \\\\\n",
       "\t 12   & 149  & 12.6 & 74   & 5    & 3   \\\\\n",
       "\t 18   & 313  & 11.5 & 62   & 5    & 4   \\\\\n",
       "\t NA   &  NA  & 14.3 & 56   & 5    & 5   \\\\\n",
       "\\end{tabular}\n"
      ],
      "text/markdown": [
       "\n",
       "| Ozone | Solar.R | Wind | Temp | Month | Day |\n",
       "|---|---|---|---|---|---|\n",
       "| 41   | 190  |  7.4 | 67   | 5    | 1    |\n",
       "| 36   | 118  |  8.0 | 72   | 5    | 2    |\n",
       "| 12   | 149  | 12.6 | 74   | 5    | 3    |\n",
       "| 18   | 313  | 11.5 | 62   | 5    | 4    |\n",
       "| NA   |  NA  | 14.3 | 56   | 5    | 5    |\n",
       "\n"
      ],
      "text/plain": [
       "  Ozone Solar.R Wind Temp Month Day\n",
       "1 41    190      7.4 67   5     1  \n",
       "2 36    118      8.0 72   5     2  \n",
       "3 12    149     12.6 74   5     3  \n",
       "4 18    313     11.5 62   5     4  \n",
       "5 NA     NA     14.3 56   5     5  "
      ]
     },
     "metadata": {},
     "output_type": "display_data"
    }
   ],
   "source": [
    "head(airquality, 5)"
   ]
  },
  {
   "cell_type": "code",
   "execution_count": 69,
   "metadata": {},
   "outputs": [
    {
     "name": "stdout",
     "output_type": "stream",
     "text": [
      "'data.frame':\t153 obs. of  6 variables:\n",
      " $ Ozone  : int  41 36 12 18 NA 28 23 19 8 NA ...\n",
      " $ Solar.R: int  190 118 149 313 NA NA 299 99 19 194 ...\n",
      " $ Wind   : num  7.4 8 12.6 11.5 14.3 14.9 8.6 13.8 20.1 8.6 ...\n",
      " $ Temp   : int  67 72 74 62 56 66 65 59 61 69 ...\n",
      " $ Month  : int  5 5 5 5 5 5 5 5 5 5 ...\n",
      " $ Day    : int  1 2 3 4 5 6 7 8 9 10 ...\n"
     ]
    }
   ],
   "source": [
    "str(airquality)"
   ]
  },
  {
   "cell_type": "code",
   "execution_count": 70,
   "metadata": {},
   "outputs": [
    {
     "data": {
      "image/png": "[encoded data removed]",
      "text/plain": [
       "plot without title"
      ]
     },
     "metadata": {},
     "output_type": "display_data"
    }
   ],
   "source": [
    "plot(airquality)"
   ]
  },
  {
   "cell_type": "code",
   "execution_count": 71,
   "metadata": {},
   "outputs": [],
   "source": [
    "df = airquality"
   ]
  },
  {
   "cell_type": "code",
   "execution_count": 72,
   "metadata": {},
   "outputs": [
    {
     "data": {
      "text/plain": [
       "\n",
       "Call:\n",
       "lm(formula = df$Temp ~ df$Ozone + df$Solar.R + df$Wind, data = df)\n",
       "\n",
       "Coefficients:\n",
       "(Intercept)     df$Ozone   df$Solar.R      df$Wind  \n",
       "  72.418579     0.171966     0.007276    -0.322945  \n"
      ]
     },
     "metadata": {},
     "output_type": "display_data"
    }
   ],
   "source": [
    "lm <- lm(df$Temp~df$Ozone+df$Solar.R+df$Wind, data=df)\n",
    "lm"
   ]
  },
  {
   "cell_type": "code",
   "execution_count": 73,
   "metadata": {},
   "outputs": [],
   "source": [
    "# y = 72.418579 + 0.171966 * x1 + 0.007276 * x2 -0.322945 * x3"
   ]
  },
  {
   "cell_type": "code",
   "execution_count": 74,
   "metadata": {},
   "outputs": [
    {
     "data": {
      "text/plain": [
       "\n",
       "Call:\n",
       "lm(formula = df$Temp ~ df$Ozone + df$Solar.R + df$Wind, data = df)\n",
       "\n",
       "Residuals:\n",
       "    Min      1Q  Median      3Q     Max \n",
       "-20.942  -4.996   1.283   4.434  13.168 \n",
       "\n",
       "Coefficients:\n",
       "             Estimate Std. Error t value             Pr(>|t|)    \n",
       "(Intercept) 72.418579   3.215525  22.522 < 0.0000000000000002 ***\n",
       "df$Ozone     0.171966   0.026390   6.516        0.00000000242 ***\n",
       "df$Solar.R   0.007276   0.007678   0.948                0.345    \n",
       "df$Wind     -0.322945   0.233264  -1.384                0.169    \n",
       "---\n",
       "Signif. codes:  0 '***' 0.001 '**' 0.01 '*' 0.05 '.' 0.1 ' ' 1\n",
       "\n",
       "Residual standard error: 6.834 on 107 degrees of freedom\n",
       "  (42 observations deleted due to missingness)\n",
       "Multiple R-squared:  0.4999,\tAdjusted R-squared:  0.4858 \n",
       "F-statistic: 35.65 on 3 and 107 DF,  p-value: 0.0000000000000004729\n"
      ]
     },
     "metadata": {},
     "output_type": "display_data"
    }
   ],
   "source": [
    "summary(lm)"
   ]
  },
  {
   "cell_type": "markdown",
   "metadata": {},
   "source": [
    "2015 KBO 야구 데이터 다중선형회귀분석¶"
   ]
  },
  {
   "cell_type": "code",
   "execution_count": 77,
   "metadata": {},
   "outputs": [
    {
     "name": "stdout",
     "output_type": "stream",
     "text": [
      "'data.frame':\t337 obs. of  26 variables:\n",
      " $ 순위  : int  1 2 3 4 5 6 7 8 9 10 ...\n",
      " $ 선수명: chr  \"유한준\" \"박병호\" \"홍성갑\" \"고종욱\" ...\n",
      " $ 팀명  : chr  \"넥센\" \"넥센\" \"넥센\" \"넥센\" ...\n",
      " $ AVG   : num  0.364 0.349 0.333 0.324 0.318 0.316 0.311 0.3 0.295 0.287 ...\n",
      " $ G     : int  101 106 7 85 44 96 68 99 79 103 ...\n",
      " $ PA    : int  436 476 10 328 26 405 253 389 339 436 ...\n",
      " $ AB    : int  376 410 9 299 22 370 219 333 295 383 ...\n",
      " $ R     : int  82 100 0 59 17 53 40 52 62 68 ...\n",
      " $ H     : int  137 143 3 97 7 117 68 100 87 110 ...\n",
      " $ X2B   : int  35 29 0 22 2 21 10 22 21 28 ...\n",
      " $ X3B   : int  1 1 0 3 0 0 0 1 1 4 ...\n",
      " $ HR    : int  19 42 0 8 0 14 8 13 17 14 ...\n",
      " $ TB    : int  231 300 3 149 9 180 102 163 161 188 ...\n",
      " $ RBI   : int  84 111 2 40 3 65 21 67 53 57 ...\n",
      " $ SAC   : int  0 0 0 3 2 0 1 5 3 3 ...\n",
      " $ SF    : int  6 3 0 1 0 3 2 6 3 4 ...\n",
      " $ XBH   : int  55 72 0 33 2 35 18 36 39 46 ...\n",
      " $ GO    : int  97 70 2 73 6 95 60 96 39 80 ...\n",
      " $ AO    : int  95 74 0 67 2 105 57 84 75 106 ...\n",
      " $ GO.AO : num  1.02 0.95 NA 1.09 3 0.9 1.05 1.14 0.52 0.75 ...\n",
      " $ GW.RBI: int  7 10 0 6 0 2 1 5 1 3 ...\n",
      " $ BB.K  : num  1 0.42 0.25 0.3 0.29 0.45 0.78 0.63 0.31 0.46 ...\n",
      " $ P.PA  : num  4 4.07 4.7 3.89 4.08 3.98 4.19 3.85 4.14 4.22 ...\n",
      " $ ISOP  : num  0.25 0.383 0 0.174 0.091 0.17 0.155 0.189 0.251 0.204 ...\n",
      " $ XR    : num  88.4 113.3 1.3 47.9 4.2 ...\n",
      " $ GPA   : num  0.351 0.378 0.263 0.293 0.271 0.287 0.293 0.292 0.304 0.285 ...\n"
     ]
    }
   ],
   "source": [
    "df <- read.csv('r-ggagi-data//example_kbo2015_player.csv',stringsAsFactors = F, na='-')\n",
    "str(df)"
   ]
  },
  {
   "cell_type": "code",
   "execution_count": 78,
   "metadata": {},
   "outputs": [],
   "source": [
    "df$AVG <- as.numeric(df$AVG) # 타율\n",
    "df$GO.AO <- as.numeric(df$GO.AO) # 땅볼 대 플라이볼 비율\n",
    "df$BB.K <- #볼넷 대 삼진 비율\n",
    "df$P.PA <- as.numeric(df$P.PA) # 투구수/타석\n",
    "df$ISOP <- as.numeric(df$ISOP) # 순장타율(장타율-타율)"
   ]
  },
  {
   "cell_type": "code",
   "execution_count": 79,
   "metadata": {},
   "outputs": [
    {
     "data": {
      "text/html": [
       "<table>\n",
       "<thead><tr><th scope=col>G</th><th scope=col>PA</th><th scope=col>AB</th><th scope=col>R</th><th scope=col>H</th><th scope=col>X2B</th><th scope=col>X3B</th><th scope=col>HR</th><th scope=col>TB</th><th scope=col>RBI</th><th scope=col>...</th><th scope=col>XBH</th><th scope=col>GO</th><th scope=col>AO</th><th scope=col>GO.AO</th><th scope=col>GW.RBI</th><th scope=col>BB.K</th><th scope=col>P.PA</th><th scope=col>ISOP</th><th scope=col>XR</th><th scope=col>GPA</th></tr></thead>\n",
       "<tbody>\n",
       "\t<tr><td>0.6573121 </td><td>0.7607232 </td><td>0.7519703 </td><td>0.8012273 </td><td>0.7815465 </td><td>0.7756991 </td><td>0.3089791 </td><td>1         </td><td>0.8828075 </td><td>0.9217014 </td><td>...       </td><td>0.9190164 </td><td>0.6096195 </td><td>0.7477335 </td><td>-0.1618067</td><td>0.7889489 </td><td>0.03248409</td><td>0.03248409</td><td>0.7813991 </td><td>0.8815765 </td><td>0.5505212 </td></tr>\n",
       "</tbody>\n",
       "</table>\n"
      ],
      "text/latex": [
       "\\begin{tabular}{llllllllllllllllllllll}\n",
       " G & PA & AB & R & H & X2B & X3B & HR & TB & RBI & ... & XBH & GO & AO & GO.AO & GW.RBI & BB.K & P.PA & ISOP & XR & GPA\\\\\n",
       "\\hline\n",
       "\t 0.6573121  & 0.7607232  & 0.7519703  & 0.8012273  & 0.7815465  & 0.7756991  & 0.3089791  & 1          & 0.8828075  & 0.9217014  & ...        & 0.9190164  & 0.6096195  & 0.7477335  & -0.1618067 & 0.7889489  & 0.03248409 & 0.03248409 & 0.7813991  & 0.8815765  & 0.5505212 \\\\\n",
       "\\end{tabular}\n"
      ],
      "text/markdown": [
       "\n",
       "| G | PA | AB | R | H | X2B | X3B | HR | TB | RBI | ... | XBH | GO | AO | GO.AO | GW.RBI | BB.K | P.PA | ISOP | XR | GPA |\n",
       "|---|---|---|---|---|---|---|---|---|---|---|---|---|---|---|---|---|---|---|---|---|\n",
       "| 0.6573121  | 0.7607232  | 0.7519703  | 0.8012273  | 0.7815465  | 0.7756991  | 0.3089791  | 1          | 0.8828075  | 0.9217014  | ...        | 0.9190164  | 0.6096195  | 0.7477335  | -0.1618067 | 0.7889489  | 0.03248409 | 0.03248409 | 0.7813991  | 0.8815765  | 0.5505212  |\n",
       "\n"
      ],
      "text/plain": [
       "     G         PA        AB        R         H         X2B       X3B       HR\n",
       "[1,] 0.6573121 0.7607232 0.7519703 0.8012273 0.7815465 0.7756991 0.3089791 1 \n",
       "     TB        RBI       ... XBH       GO        AO        GO.AO      GW.RBI   \n",
       "[1,] 0.8828075 0.9217014 ... 0.9190164 0.6096195 0.7477335 -0.1618067 0.7889489\n",
       "     BB.K       P.PA       ISOP      XR        GPA      \n",
       "[1,] 0.03248409 0.03248409 0.7813991 0.8815765 0.5505212"
      ]
     },
     "metadata": {},
     "output_type": "display_data"
    }
   ],
   "source": [
    "Cors <- cor(df$HR, \n",
    "            df[,5:length(df)], \n",
    "            use='pairwise.complete.obs') # 피어슨 알고리즘으로 결측치 처리\n",
    "Cors"
   ]
  },
  {
   "cell_type": "code",
   "execution_count": 80,
   "metadata": {},
   "outputs": [
    {
     "data": {
      "text/html": [
       "<dl class=dl-horizontal>\n",
       "\t<dt>GO.AO</dt>\n",
       "\t\t<dd>-0.161806712574124</dd>\n",
       "\t<dt>SAC</dt>\n",
       "\t\t<dd>0.028827778858248</dd>\n",
       "\t<dt>BB.K</dt>\n",
       "\t\t<dd>0.0324840926562767</dd>\n",
       "\t<dt>P.PA</dt>\n",
       "\t\t<dd>0.0324840926562767</dd>\n",
       "\t<dt>X3B</dt>\n",
       "\t\t<dd>0.308979087457867</dd>\n",
       "\t<dt>GPA</dt>\n",
       "\t\t<dd>0.550521232260773</dd>\n",
       "\t<dt>GO</dt>\n",
       "\t\t<dd>0.609619485246719</dd>\n",
       "\t<dt>G</dt>\n",
       "\t\t<dd>0.657312087742317</dd>\n",
       "\t<dt>SF</dt>\n",
       "\t\t<dd>0.676635877811447</dd>\n",
       "\t<dt>AO</dt>\n",
       "\t\t<dd>0.747733499475882</dd>\n",
       "\t<dt>AB</dt>\n",
       "\t\t<dd>0.751970324849766</dd>\n",
       "\t<dt>PA</dt>\n",
       "\t\t<dd>0.760723214863661</dd>\n",
       "\t<dt>X2B</dt>\n",
       "\t\t<dd>0.775699070914623</dd>\n",
       "\t<dt>ISOP</dt>\n",
       "\t\t<dd>0.781399092928558</dd>\n",
       "\t<dt>H</dt>\n",
       "\t\t<dd>0.781546504304732</dd>\n",
       "\t<dt>GW.RBI</dt>\n",
       "\t\t<dd>0.788948915070849</dd>\n",
       "\t<dt>R</dt>\n",
       "\t\t<dd>0.801227338861749</dd>\n",
       "\t<dt>XR</dt>\n",
       "\t\t<dd>0.8815764700245</dd>\n",
       "\t<dt>TB</dt>\n",
       "\t\t<dd>0.882807451191371</dd>\n",
       "\t<dt>XBH</dt>\n",
       "\t\t<dd>0.919016366686709</dd>\n",
       "\t<dt>RBI</dt>\n",
       "\t\t<dd>0.921701367369363</dd>\n",
       "\t<dt>HR</dt>\n",
       "\t\t<dd>1</dd>\n",
       "</dl>\n"
      ],
      "text/latex": [
       "\\begin{description*}\n",
       "\\item[GO.AO] -0.161806712574124\n",
       "\\item[SAC] 0.028827778858248\n",
       "\\item[BB.K] 0.0324840926562767\n",
       "\\item[P.PA] 0.0324840926562767\n",
       "\\item[X3B] 0.308979087457867\n",
       "\\item[GPA] 0.550521232260773\n",
       "\\item[GO] 0.609619485246719\n",
       "\\item[G] 0.657312087742317\n",
       "\\item[SF] 0.676635877811447\n",
       "\\item[AO] 0.747733499475882\n",
       "\\item[AB] 0.751970324849766\n",
       "\\item[PA] 0.760723214863661\n",
       "\\item[X2B] 0.775699070914623\n",
       "\\item[ISOP] 0.781399092928558\n",
       "\\item[H] 0.781546504304732\n",
       "\\item[GW.RBI] 0.788948915070849\n",
       "\\item[R] 0.801227338861749\n",
       "\\item[XR] 0.8815764700245\n",
       "\\item[TB] 0.882807451191371\n",
       "\\item[XBH] 0.919016366686709\n",
       "\\item[RBI] 0.921701367369363\n",
       "\\item[HR] 1\n",
       "\\end{description*}\n"
      ],
      "text/markdown": [
       "GO.AO\n",
       ":   -0.161806712574124SAC\n",
       ":   0.028827778858248BB.K\n",
       ":   0.0324840926562767P.PA\n",
       ":   0.0324840926562767X3B\n",
       ":   0.308979087457867GPA\n",
       ":   0.550521232260773GO\n",
       ":   0.609619485246719G\n",
       ":   0.657312087742317SF\n",
       ":   0.676635877811447AO\n",
       ":   0.747733499475882AB\n",
       ":   0.751970324849766PA\n",
       ":   0.760723214863661X2B\n",
       ":   0.775699070914623ISOP\n",
       ":   0.781399092928558H\n",
       ":   0.781546504304732GW.RBI\n",
       ":   0.788948915070849R\n",
       ":   0.801227338861749XR\n",
       ":   0.8815764700245TB\n",
       ":   0.882807451191371XBH\n",
       ":   0.919016366686709RBI\n",
       ":   0.921701367369363HR\n",
       ":   1\n",
       "\n"
      ],
      "text/plain": [
       "      GO.AO         SAC        BB.K        P.PA         X3B         GPA \n",
       "-0.16180671  0.02882778  0.03248409  0.03248409  0.30897909  0.55052123 \n",
       "         GO           G          SF          AO          AB          PA \n",
       " 0.60961949  0.65731209  0.67663588  0.74773350  0.75197032  0.76072321 \n",
       "        X2B        ISOP           H      GW.RBI           R          XR \n",
       " 0.77569907  0.78139909  0.78154650  0.78894892  0.80122734  0.88157647 \n",
       "         TB         XBH         RBI          HR \n",
       " 0.88280745  0.91901637  0.92170137  1.00000000 "
      ]
     },
     "metadata": {},
     "output_type": "display_data"
    }
   ],
   "source": [
    "Cors <- Cors[,order(Cors)]\n",
    "Cors"
   ]
  },
  {
   "cell_type": "code",
   "execution_count": 81,
   "metadata": {},
   "outputs": [],
   "source": [
    "df$HR[df$HR == 0] <- NA\n",
    "df$RBI[df$RBI == 0] <- NA # 타점\n",
    "df$XBH[df$XBH == 0] <- NA # 장타\n",
    "df$TB[df$TB == 0] <- NA # 루타\n",
    "df$XR[df$XR == 0] <- NA # 추정득점 => 득점이되는 이벤트가 많아서 선형가중한것\n",
    "df$R[df$R == 0] <- NA # 득점"
   ]
  },
  {
   "cell_type": "code",
   "execution_count": 82,
   "metadata": {},
   "outputs": [
    {
     "data": {
      "text/plain": [
       "\n",
       "Call:\n",
       "lm(formula = HR ~ RBI + XBH + TB + XR + R, data = df)\n",
       "\n",
       "Coefficients:\n",
       "(Intercept)          RBI          XBH           TB           XR            R  \n",
       "   -0.43714      0.15582      0.53837     -0.09486      0.15782     -0.12392  \n"
      ]
     },
     "metadata": {},
     "output_type": "display_data"
    }
   ],
   "source": [
    "lm <- lm(HR ~ RBI + XBH + TB + XR + R, data = df)\n",
    "lm"
   ]
  },
  {
   "cell_type": "code",
   "execution_count": 83,
   "metadata": {},
   "outputs": [
    {
     "data": {
      "text/plain": [
       "\n",
       "Call:\n",
       "lm(formula = HR ~ RBI + XBH + TB + XR + R, data = df)\n",
       "\n",
       "Residuals:\n",
       "    Min      1Q  Median      3Q     Max \n",
       "-7.1729 -1.5779  0.1418  1.3689 10.7785 \n",
       "\n",
       "Coefficients:\n",
       "            Estimate Std. Error t value         Pr(>|t|)    \n",
       "(Intercept) -0.43714    0.45244  -0.966          0.33557    \n",
       "RBI          0.15582    0.03477   4.482 0.00001497787021 ***\n",
       "XBH          0.53837    0.07196   7.482 0.00000000000665 ***\n",
       "TB          -0.09486    0.03033  -3.128          0.00213 ** \n",
       "XR           0.15782    0.06328   2.494          0.01377 *  \n",
       "R           -0.12392    0.03806  -3.256          0.00141 ** \n",
       "---\n",
       "Signif. codes:  0 '***' 0.001 '**' 0.01 '*' 0.05 '.' 0.1 ' ' 1\n",
       "\n",
       "Residual standard error: 2.803 on 144 degrees of freedom\n",
       "  (187 observations deleted due to missingness)\n",
       "Multiple R-squared:  0.873,\tAdjusted R-squared:  0.8686 \n",
       "F-statistic:   198 on 5 and 144 DF,  p-value: < 0.00000000000000022\n"
      ]
     },
     "metadata": {},
     "output_type": "display_data"
    }
   ],
   "source": [
    "summary(lm)"
   ]
  },
  {
   "cell_type": "code",
   "execution_count": 84,
   "metadata": {},
   "outputs": [],
   "source": [
    "df_kbo <- read.csv('r-ggagi-data//example_kbo2015.csv')"
   ]
  },
  {
   "cell_type": "code",
   "execution_count": 85,
   "metadata": {},
   "outputs": [
    {
     "data": {
      "text/html": [
       "<table>\n",
       "<thead><tr><th scope=col>ranking</th><th scope=col>team</th><th scope=col>AVG</th><th scope=col>G</th><th scope=col>PA</th><th scope=col>AB</th><th scope=col>R</th><th scope=col>H</th><th scope=col>X2B</th><th scope=col>X3B</th><th scope=col>...</th><th scope=col>IBB</th><th scope=col>HBP</th><th scope=col>SO</th><th scope=col>GDP</th><th scope=col>SLG</th><th scope=col>OBP</th><th scope=col>OPS</th><th scope=col>MH</th><th scope=col>RISP</th><th scope=col>PH.BA</th></tr></thead>\n",
       "<tbody>\n",
       "\t<tr><td>1    </td><td>삼성 </td><td>0.300</td><td>102  </td><td>4091 </td><td>3553 </td><td>634  </td><td>1066 </td><td>188  </td><td>19   </td><td>...  </td><td>15   </td><td>47   </td><td>650  </td><td> 78  </td><td>0.471</td><td>0.374</td><td>0.845</td><td>101  </td><td>0.300</td><td>0.216</td></tr>\n",
       "\t<tr><td>2    </td><td>넥센 </td><td>0.300</td><td>102  </td><td>4151 </td><td>3620 </td><td>658  </td><td>1085 </td><td>227  </td><td>12   </td><td>...  </td><td>13   </td><td>61   </td><td>815  </td><td> 79  </td><td>0.498</td><td>0.374</td><td>0.872</td><td>100  </td><td>0.294</td><td>0.268</td></tr>\n",
       "\t<tr><td>3    </td><td>두산 </td><td>0.291</td><td> 99  </td><td>3950 </td><td>3410 </td><td>570  </td><td> 991 </td><td>176  </td><td>16   </td><td>...  </td><td>17   </td><td>66   </td><td>544  </td><td> 95  </td><td>0.438</td><td>0.368</td><td>0.806</td><td> 98  </td><td>0.284</td><td>0.262</td></tr>\n",
       "\t<tr><td>4    </td><td>NC   </td><td>0.288</td><td>101  </td><td>3994 </td><td>3485 </td><td>591  </td><td>1002 </td><td>205  </td><td>20   </td><td>...  </td><td>17   </td><td>74   </td><td>717  </td><td> 65  </td><td>0.453</td><td>0.362</td><td>0.815</td><td>101  </td><td>0.296</td><td>0.274</td></tr>\n",
       "\t<tr><td>5    </td><td>롯데 </td><td>0.277</td><td>104  </td><td>4082 </td><td>3557 </td><td>545  </td><td> 985 </td><td>176  </td><td>14   </td><td>...  </td><td>16   </td><td>57   </td><td>866  </td><td>105  </td><td>0.444</td><td>0.356</td><td>0.800</td><td>104  </td><td>0.272</td><td>0.190</td></tr>\n",
       "\t<tr><td>6    </td><td>SK   </td><td>0.276</td><td> 99  </td><td>3888 </td><td>3373 </td><td>476  </td><td> 931 </td><td>146  </td><td> 9   </td><td>...  </td><td>12   </td><td>63   </td><td>720  </td><td> 73  </td><td>0.406</td><td>0.355</td><td>0.761</td><td> 99  </td><td>0.277</td><td>0.236</td></tr>\n",
       "</tbody>\n",
       "</table>\n"
      ],
      "text/latex": [
       "\\begin{tabular}{r|llllllllllllllllllllllllll}\n",
       " ranking & team & AVG & G & PA & AB & R & H & X2B & X3B & ... & IBB & HBP & SO & GDP & SLG & OBP & OPS & MH & RISP & PH.BA\\\\\n",
       "\\hline\n",
       "\t 1     & 삼성  & 0.300 & 102   & 4091  & 3553  & 634   & 1066  & 188   & 19    & ...   & 15    & 47    & 650   &  78   & 0.471 & 0.374 & 0.845 & 101   & 0.300 & 0.216\\\\\n",
       "\t 2     & 넥센  & 0.300 & 102   & 4151  & 3620  & 658   & 1085  & 227   & 12    & ...   & 13    & 61    & 815   &  79   & 0.498 & 0.374 & 0.872 & 100   & 0.294 & 0.268\\\\\n",
       "\t 3     & 두산  & 0.291 &  99   & 3950  & 3410  & 570   &  991  & 176   & 16    & ...   & 17    & 66    & 544   &  95   & 0.438 & 0.368 & 0.806 &  98   & 0.284 & 0.262\\\\\n",
       "\t 4     & NC    & 0.288 & 101   & 3994  & 3485  & 591   & 1002  & 205   & 20    & ...   & 17    & 74    & 717   &  65   & 0.453 & 0.362 & 0.815 & 101   & 0.296 & 0.274\\\\\n",
       "\t 5     & 롯데  & 0.277 & 104   & 4082  & 3557  & 545   &  985  & 176   & 14    & ...   & 16    & 57    & 866   & 105   & 0.444 & 0.356 & 0.800 & 104   & 0.272 & 0.190\\\\\n",
       "\t 6     & SK    & 0.276 &  99   & 3888  & 3373  & 476   &  931  & 146   &  9    & ...   & 12    & 63    & 720   &  73   & 0.406 & 0.355 & 0.761 &  99   & 0.277 & 0.236\\\\\n",
       "\\end{tabular}\n"
      ],
      "text/markdown": [
       "\n",
       "| ranking | team | AVG | G | PA | AB | R | H | X2B | X3B | ... | IBB | HBP | SO | GDP | SLG | OBP | OPS | MH | RISP | PH.BA |\n",
       "|---|---|---|---|---|---|---|---|---|---|---|---|---|---|---|---|---|---|---|---|---|\n",
       "| 1     | 삼성  | 0.300 | 102   | 4091  | 3553  | 634   | 1066  | 188   | 19    | ...   | 15    | 47    | 650   |  78   | 0.471 | 0.374 | 0.845 | 101   | 0.300 | 0.216 |\n",
       "| 2     | 넥센  | 0.300 | 102   | 4151  | 3620  | 658   | 1085  | 227   | 12    | ...   | 13    | 61    | 815   |  79   | 0.498 | 0.374 | 0.872 | 100   | 0.294 | 0.268 |\n",
       "| 3     | 두산  | 0.291 |  99   | 3950  | 3410  | 570   |  991  | 176   | 16    | ...   | 17    | 66    | 544   |  95   | 0.438 | 0.368 | 0.806 |  98   | 0.284 | 0.262 |\n",
       "| 4     | NC    | 0.288 | 101   | 3994  | 3485  | 591   | 1002  | 205   | 20    | ...   | 17    | 74    | 717   |  65   | 0.453 | 0.362 | 0.815 | 101   | 0.296 | 0.274 |\n",
       "| 5     | 롯데  | 0.277 | 104   | 4082  | 3557  | 545   |  985  | 176   | 14    | ...   | 16    | 57    | 866   | 105   | 0.444 | 0.356 | 0.800 | 104   | 0.272 | 0.190 |\n",
       "| 6     | SK    | 0.276 |  99   | 3888  | 3373  | 476   |  931  | 146   |  9    | ...   | 12    | 63    | 720   |  73   | 0.406 | 0.355 | 0.761 |  99   | 0.277 | 0.236 |\n",
       "\n"
      ],
      "text/plain": [
       "  ranking team AVG   G   PA   AB   R   H    X2B X3B ... IBB HBP SO  GDP SLG  \n",
       "1 1       삼성 0.300 102 4091 3553 634 1066 188 19  ... 15  47  650  78 0.471\n",
       "2 2       넥센 0.300 102 4151 3620 658 1085 227 12  ... 13  61  815  79 0.498\n",
       "3 3       두산 0.291  99 3950 3410 570  991 176 16  ... 17  66  544  95 0.438\n",
       "4 4       NC   0.288 101 3994 3485 591 1002 205 20  ... 17  74  717  65 0.453\n",
       "5 5       롯데 0.277 104 4082 3557 545  985 176 14  ... 16  57  866 105 0.444\n",
       "6 6       SK   0.276  99 3888 3373 476  931 146  9  ... 12  63  720  73 0.406\n",
       "  OBP   OPS   MH  RISP  PH.BA\n",
       "1 0.374 0.845 101 0.300 0.216\n",
       "2 0.374 0.872 100 0.294 0.268\n",
       "3 0.368 0.806  98 0.284 0.262\n",
       "4 0.362 0.815 101 0.296 0.274\n",
       "5 0.356 0.800 104 0.272 0.190\n",
       "6 0.355 0.761  99 0.277 0.236"
      ]
     },
     "metadata": {},
     "output_type": "display_data"
    }
   ],
   "source": [
    "head(df_kbo)"
   ]
  },
  {
   "cell_type": "code",
   "execution_count": 88,
   "metadata": {},
   "outputs": [
    {
     "data": {
      "text/plain": [
       "\n",
       "Call:\n",
       "lm(formula = HR ~ TB, data = df_kbo)\n",
       "\n",
       "Coefficients:\n",
       "(Intercept)           TB  \n",
       "  -109.2696       0.1441  \n"
      ]
     },
     "metadata": {},
     "output_type": "display_data"
    }
   ],
   "source": [
    "lm <- lm(HR~TB, data = df_kbo)\n",
    "lm"
   ]
  },
  {
   "cell_type": "code",
   "execution_count": 89,
   "metadata": {},
   "outputs": [
    {
     "data": {
      "text/plain": [
       "\n",
       "Call:\n",
       "lm(formula = HR ~ TB, data = df_kbo)\n",
       "\n",
       "Residuals:\n",
       "   Min     1Q Median     3Q    Max \n",
       "-7.991 -4.702 -3.498  4.471 11.884 \n",
       "\n",
       "Coefficients:\n",
       "              Estimate Std. Error t value  Pr(>|t|)    \n",
       "(Intercept) -109.26964   24.92619  -4.384   0.00234 ** \n",
       "TB             0.14411    0.01661   8.677 0.0000242 ***\n",
       "---\n",
       "Signif. codes:  0 '***' 0.001 '**' 0.01 '*' 0.05 '.' 0.1 ' ' 1\n",
       "\n",
       "Residual standard error: 7.963 on 8 degrees of freedom\n",
       "Multiple R-squared:  0.9039,\tAdjusted R-squared:  0.8919 \n",
       "F-statistic: 75.28 on 1 and 8 DF,  p-value: 0.00002423\n"
      ]
     },
     "metadata": {},
     "output_type": "display_data"
    }
   ],
   "source": [
    "summary(lm)"
   ]
  },
  {
   "cell_type": "code",
   "execution_count": 90,
   "metadata": {},
   "outputs": [
    {
     "data": {
      "text/html": [
       "<dl class=dl-horizontal>\n",
       "\t<dt>1</dt>\n",
       "\t\t<dd>131.825268238313</dd>\n",
       "\t<dt>2</dt>\n",
       "\t\t<dd>150.2712623156</dd>\n",
       "\t<dt>3</dt>\n",
       "\t\t<dd>105.885589067127</dd>\n",
       "\t<dt>4</dt>\n",
       "\t\t<dd>117.990772680347</dd>\n",
       "\t<dt>5</dt>\n",
       "\t\t<dd>118.278991337805</dd>\n",
       "\t<dt>6</dt>\n",
       "\t\t<dd>88.3042509622124</dd>\n",
       "\t<dt>7</dt>\n",
       "\t\t<dd>85.7102830450938</dd>\n",
       "\t<dt>8</dt>\n",
       "\t\t<dd>91.3305468655174</dd>\n",
       "\t<dt>9</dt>\n",
       "\t\t<dd>86.286720360009</dd>\n",
       "\t<dt>10</dt>\n",
       "\t\t<dd>83.1163151279752</dd>\n",
       "</dl>\n"
      ],
      "text/latex": [
       "\\begin{description*}\n",
       "\\item[1] 131.825268238313\n",
       "\\item[2] 150.2712623156\n",
       "\\item[3] 105.885589067127\n",
       "\\item[4] 117.990772680347\n",
       "\\item[5] 118.278991337805\n",
       "\\item[6] 88.3042509622124\n",
       "\\item[7] 85.7102830450938\n",
       "\\item[8] 91.3305468655174\n",
       "\\item[9] 86.286720360009\n",
       "\\item[10] 83.1163151279752\n",
       "\\end{description*}\n"
      ],
      "text/markdown": [
       "1\n",
       ":   131.8252682383132\n",
       ":   150.27126231563\n",
       ":   105.8855890671274\n",
       ":   117.9907726803475\n",
       ":   118.2789913378056\n",
       ":   88.30425096221247\n",
       ":   85.71028304509388\n",
       ":   91.33054686551749\n",
       ":   86.28672036000910\n",
       ":   83.1163151279752\n",
       "\n"
      ],
      "text/plain": [
       "        1         2         3         4         5         6         7         8 \n",
       "131.82527 150.27126 105.88559 117.99077 118.27899  88.30425  85.71028  91.33055 \n",
       "        9        10 \n",
       " 86.28672  83.11632 "
      ]
     },
     "metadata": {},
     "output_type": "display_data"
    }
   ],
   "source": [
    "p <- predict(lm)\n",
    "p"
   ]
  },
  {
   "cell_type": "code",
   "execution_count": 91,
   "metadata": {},
   "outputs": [
    {
     "data": {
      "text/html": [
       "<dl class=dl-horizontal>\n",
       "\t<dt>1</dt>\n",
       "\t\t<dd>127</dd>\n",
       "\t<dt>1</dt>\n",
       "\t\t<dd>131.825268238313</dd>\n",
       "</dl>\n"
      ],
      "text/latex": [
       "\\begin{description*}\n",
       "\\item[1] 127\n",
       "\\item[1] 131.825268238313\n",
       "\\end{description*}\n"
      ],
      "text/markdown": [
       "1\n",
       ":   1271\n",
       ":   131.825268238313\n",
       "\n"
      ],
      "text/plain": [
       "                1 \n",
       "127.0000 131.8253 "
      ]
     },
     "metadata": {},
     "output_type": "display_data"
    },
    {
     "data": {
      "text/html": [
       "<dl class=dl-horizontal>\n",
       "\t<dt>1</dt>\n",
       "\t\t<dd>155</dd>\n",
       "\t<dt>2</dt>\n",
       "\t\t<dd>150.2712623156</dd>\n",
       "</dl>\n"
      ],
      "text/latex": [
       "\\begin{description*}\n",
       "\\item[1] 155\n",
       "\\item[2] 150.2712623156\n",
       "\\end{description*}\n"
      ],
      "text/markdown": [
       "1\n",
       ":   1552\n",
       ":   150.2712623156\n",
       "\n"
      ],
      "text/plain": [
       "                2 \n",
       "155.0000 150.2713 "
      ]
     },
     "metadata": {},
     "output_type": "display_data"
    }
   ],
   "source": [
    "c(df_kbo$HR[1], p[1])\n",
    "c(df_kbo$HR[2], p[2])"
   ]
  },
  {
   "cell_type": "code",
   "execution_count": 92,
   "metadata": {},
   "outputs": [
    {
     "data": {
      "text/html": [
       "<table>\n",
       "<thead><tr><th scope=col>team</th><th scope=col>HR</th><th scope=col>fittedHR</th><th scope=col>fittedHR.1</th></tr></thead>\n",
       "<tbody>\n",
       "\t<tr><td>삼성     </td><td>127      </td><td>132      </td><td>131.82527</td></tr>\n",
       "\t<tr><td>넥센     </td><td>155      </td><td>150      </td><td>150.27126</td></tr>\n",
       "\t<tr><td>두산     </td><td> 98      </td><td>106      </td><td>105.88559</td></tr>\n",
       "\t<tr><td>NC       </td><td>110      </td><td>118      </td><td>117.99077</td></tr>\n",
       "\t<tr><td>롯데     </td><td>130      </td><td>118      </td><td>118.27899</td></tr>\n",
       "\t<tr><td>SK       </td><td> 92      </td><td> 88      </td><td> 88.30425</td></tr>\n",
       "\t<tr><td>한화     </td><td> 82      </td><td> 86      </td><td> 85.71028</td></tr>\n",
       "\t<tr><td>kt       </td><td> 87      </td><td> 91      </td><td> 91.33055</td></tr>\n",
       "\t<tr><td>LG       </td><td> 83      </td><td> 86      </td><td> 86.28672</td></tr>\n",
       "\t<tr><td>KIA      </td><td> 95      </td><td> 83      </td><td> 83.11632</td></tr>\n",
       "</tbody>\n",
       "</table>\n"
      ],
      "text/latex": [
       "\\begin{tabular}{r|llll}\n",
       " team & HR & fittedHR & fittedHR.1\\\\\n",
       "\\hline\n",
       "\t 삼성      & 127       & 132       & 131.82527\\\\\n",
       "\t 넥센      & 155       & 150       & 150.27126\\\\\n",
       "\t 두산      &  98       & 106       & 105.88559\\\\\n",
       "\t NC        & 110       & 118       & 117.99077\\\\\n",
       "\t 롯데      & 130       & 118       & 118.27899\\\\\n",
       "\t SK        &  92       &  88       &  88.30425\\\\\n",
       "\t 한화      &  82       &  86       &  85.71028\\\\\n",
       "\t kt        &  87       &  91       &  91.33055\\\\\n",
       "\t LG        &  83       &  86       &  86.28672\\\\\n",
       "\t KIA       &  95       &  83       &  83.11632\\\\\n",
       "\\end{tabular}\n"
      ],
      "text/markdown": [
       "\n",
       "| team | HR | fittedHR | fittedHR.1 |\n",
       "|---|---|---|---|\n",
       "| 삼성      | 127       | 132       | 131.82527 |\n",
       "| 넥센      | 155       | 150       | 150.27126 |\n",
       "| 두산      |  98       | 106       | 105.88559 |\n",
       "| NC        | 110       | 118       | 117.99077 |\n",
       "| 롯데      | 130       | 118       | 118.27899 |\n",
       "| SK        |  92       |  88       |  88.30425 |\n",
       "| 한화      |  82       |  86       |  85.71028 |\n",
       "| kt        |  87       |  91       |  91.33055 |\n",
       "| LG        |  83       |  86       |  86.28672 |\n",
       "| KIA       |  95       |  83       |  83.11632 |\n",
       "\n"
      ],
      "text/plain": [
       "   team HR  fittedHR fittedHR.1\n",
       "1  삼성 127 132      131.82527 \n",
       "2  넥센 155 150      150.27126 \n",
       "3  두산  98 106      105.88559 \n",
       "4  NC   110 118      117.99077 \n",
       "5  롯데 130 118      118.27899 \n",
       "6  SK    92  88       88.30425 \n",
       "7  한화  82  86       85.71028 \n",
       "8  kt    87  91       91.33055 \n",
       "9  LG    83  86       86.28672 \n",
       "10 KIA   95  83       83.11632 "
      ]
     },
     "metadata": {},
     "output_type": "display_data"
    }
   ],
   "source": [
    "com <- data.frame(team=df_kbo$team, HR=df_kbo$HR, fittedHR=round(p), fittedHR=p)\n",
    "com"
   ]
  },
  {
   "cell_type": "code",
   "execution_count": 93,
   "metadata": {},
   "outputs": [
    {
     "data": {
      "text/html": [
       "<strong>1:</strong> 121.30528724111"
      ],
      "text/latex": [
       "\\textbf{1:} 121.30528724111"
      ],
      "text/markdown": [
       "**1:** 121.30528724111"
      ],
      "text/plain": [
       "       1 \n",
       "121.3053 "
      ]
     },
     "metadata": {},
     "output_type": "display_data"
    }
   ],
   "source": [
    "newTeam <- data.frame(TB=1600)\n",
    "predict(lm, newTeam)"
   ]
  },
  {
   "cell_type": "code",
   "execution_count": null,
   "metadata": {},
   "outputs": [],
   "source": []
  }
 ],
 "metadata": {
  "kernelspec": {
   "display_name": "R",
   "language": "R",
   "name": "ir"
  },
  "language_info": {
   "codemirror_mode": "r",
   "file_extension": ".r",
   "mimetype": "text/x-r-source",
   "name": "R",
   "pygments_lexer": "r",
   "version": "3.6.1"
  }
 },
 "nbformat": 4,
 "nbformat_minor": 4
}
