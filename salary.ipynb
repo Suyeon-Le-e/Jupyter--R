{
 "cells": [
  {
   "cell_type": "code",
   "execution_count": 1,
   "metadata": {},
   "outputs": [],
   "source": [
    "df <- read.csv(\"r-ggagi-data/example_salary.csv\", stringsAsFactors = T, na = '-') "
   ]
  },
  {
   "cell_type": "code",
   "execution_count": 2,
   "metadata": {},
   "outputs": [
    {
     "data": {
      "text/html": [
       "<table>\n",
       "<thead><tr><th scope=col>연령</th><th scope=col>월급여액..원.</th><th scope=col>연간특별급여액..원.</th><th scope=col>근로시간..시간.</th><th scope=col>근로자수..명.</th><th scope=col>경력구분</th><th scope=col>성별</th></tr></thead>\n",
       "<tbody>\n",
       "\t<tr><td>-19    </td><td>1346534</td><td>151840 </td><td>169.5  </td><td> 15042 </td><td>1년미만</td><td>남     </td></tr>\n",
       "\t<tr><td>20-24  </td><td>1584214</td><td>115375 </td><td>180.1  </td><td> 74251 </td><td>1년미만</td><td>남     </td></tr>\n",
       "\t<tr><td>25-29  </td><td>1922043</td><td>268058 </td><td>178.0  </td><td>143338 </td><td>1년미만</td><td>남     </td></tr>\n",
       "\t<tr><td>30-34  </td><td>2130988</td><td>335710 </td><td>180.8  </td><td>103585 </td><td>1년미만</td><td>남     </td></tr>\n",
       "\t<tr><td>35-39  </td><td>2414345</td><td>352816 </td><td>181.4  </td><td> 65385 </td><td>1년미만</td><td>남     </td></tr>\n",
       "\t<tr><td>40-44  </td><td>2372214</td><td>233728 </td><td>182.9  </td><td> 55422 </td><td>1년미만</td><td>남     </td></tr>\n",
       "</tbody>\n",
       "</table>\n"
      ],
      "text/latex": [
       "\\begin{tabular}{r|lllllll}\n",
       " 연령 & 월급여액..원. & 연간특별급여액..원. & 근로시간..시간. & 근로자수..명. & 경력구분 & 성별\\\\\n",
       "\\hline\n",
       "\t -19     & 1346534 & 151840  & 169.5   &  15042  & 1년미만 & 남     \\\\\n",
       "\t 20-24   & 1584214 & 115375  & 180.1   &  74251  & 1년미만 & 남     \\\\\n",
       "\t 25-29   & 1922043 & 268058  & 178.0   & 143338  & 1년미만 & 남     \\\\\n",
       "\t 30-34   & 2130988 & 335710  & 180.8   & 103585  & 1년미만 & 남     \\\\\n",
       "\t 35-39   & 2414345 & 352816  & 181.4   &  65385  & 1년미만 & 남     \\\\\n",
       "\t 40-44   & 2372214 & 233728  & 182.9   &  55422  & 1년미만 & 남     \\\\\n",
       "\\end{tabular}\n"
      ],
      "text/markdown": [
       "\n",
       "| 연령 | 월급여액..원. | 연간특별급여액..원. | 근로시간..시간. | 근로자수..명. | 경력구분 | 성별 |\n",
       "|---|---|---|---|---|---|---|\n",
       "| -19     | 1346534 | 151840  | 169.5   |  15042  | 1년미만 | 남      |\n",
       "| 20-24   | 1584214 | 115375  | 180.1   |  74251  | 1년미만 | 남      |\n",
       "| 25-29   | 1922043 | 268058  | 178.0   | 143338  | 1년미만 | 남      |\n",
       "| 30-34   | 2130988 | 335710  | 180.8   | 103585  | 1년미만 | 남      |\n",
       "| 35-39   | 2414345 | 352816  | 181.4   |  65385  | 1년미만 | 남      |\n",
       "| 40-44   | 2372214 | 233728  | 182.9   |  55422  | 1년미만 | 남      |\n",
       "\n"
      ],
      "text/plain": [
       "  연령  월급여액..원. 연간특별급여액..원. 근로시간..시간. 근로자수..명.\n",
       "1 -19   1346534       151840              169.5            15042       \n",
       "2 20-24 1584214       115375              180.1            74251       \n",
       "3 25-29 1922043       268058              178.0           143338       \n",
       "4 30-34 2130988       335710              180.8           103585       \n",
       "5 35-39 2414345       352816              181.4            65385       \n",
       "6 40-44 2372214       233728              182.9            55422       \n",
       "  경력구분 성별\n",
       "1 1년미만  남  \n",
       "2 1년미만  남  \n",
       "3 1년미만  남  \n",
       "4 1년미만  남  \n",
       "5 1년미만  남  \n",
       "6 1년미만  남  "
      ]
     },
     "metadata": {},
     "output_type": "display_data"
    }
   ],
   "source": [
    "head(df)"
   ]
  },
  {
   "cell_type": "code",
   "execution_count": 4,
   "metadata": {},
   "outputs": [
    {
     "data": {
      "text/html": [
       "<ol class=list-inline>\n",
       "\t<li>'age'</li>\n",
       "\t<li>'salary'</li>\n",
       "\t<li>'specialSalary'</li>\n",
       "\t<li>'workingTime'</li>\n",
       "\t<li>'numberOfWorker'</li>\n",
       "\t<li>'career'</li>\n",
       "\t<li>'sex'</li>\n",
       "</ol>\n"
      ],
      "text/latex": [
       "\\begin{enumerate*}\n",
       "\\item 'age'\n",
       "\\item 'salary'\n",
       "\\item 'specialSalary'\n",
       "\\item 'workingTime'\n",
       "\\item 'numberOfWorker'\n",
       "\\item 'career'\n",
       "\\item 'sex'\n",
       "\\end{enumerate*}\n"
      ],
      "text/markdown": [
       "1. 'age'\n",
       "2. 'salary'\n",
       "3. 'specialSalary'\n",
       "4. 'workingTime'\n",
       "5. 'numberOfWorker'\n",
       "6. 'career'\n",
       "7. 'sex'\n",
       "\n",
       "\n"
      ],
      "text/plain": [
       "[1] \"age\"            \"salary\"         \"specialSalary\"  \"workingTime\"   \n",
       "[5] \"numberOfWorker\" \"career\"         \"sex\"           "
      ]
     },
     "metadata": {},
     "output_type": "display_data"
    }
   ],
   "source": [
    "colnames(df)\n",
    "colnames(df) <- c('age','salary','specialSalary','workingTime','numberOfWorker','career','sex')"
   ]
  },
  {
   "cell_type": "code",
   "execution_count": 5,
   "metadata": {},
   "outputs": [
    {
     "data": {
      "text/html": [
       "2171577.83673469"
      ],
      "text/latex": [
       "2171577.83673469"
      ],
      "text/markdown": [
       "2171577.83673469"
      ],
      "text/plain": [
       "[1] 2171578"
      ]
     },
     "metadata": {},
     "output_type": "display_data"
    }
   ],
   "source": [
    "# 평균 월급 구하기\n",
    "Mean <- mean(df$salary, na.rm = T)\n",
    "Mean"
   ]
  },
  {
   "cell_type": "code",
   "execution_count": 6,
   "metadata": {},
   "outputs": [
    {
     "data": {
      "text/html": [
       "2120345"
      ],
      "text/latex": [
       "2120345"
      ],
      "text/markdown": [
       "2120345"
      ],
      "text/plain": [
       "[1] 2120345"
      ]
     },
     "metadata": {},
     "output_type": "display_data"
    }
   ],
   "source": [
    "# 아웃라이어 여향이 있는지 월 중앙값 계산\n",
    "Median  <- median(df$salary, na.rm = T)\n",
    "Median"
   ]
  },
  {
   "cell_type": "code",
   "execution_count": 7,
   "metadata": {},
   "outputs": [
    {
     "data": {
      "text/html": [
       "<ol class=list-inline>\n",
       "\t<li>1117605</li>\n",
       "\t<li>4064286</li>\n",
       "</ol>\n"
      ],
      "text/latex": [
       "\\begin{enumerate*}\n",
       "\\item 1117605\n",
       "\\item 4064286\n",
       "\\end{enumerate*}\n"
      ],
      "text/markdown": [
       "1. 1117605\n",
       "2. 4064286\n",
       "\n",
       "\n"
      ],
      "text/plain": [
       "[1] 1117605 4064286"
      ]
     },
     "metadata": {},
     "output_type": "display_data"
    }
   ],
   "source": [
    "# 범위 구하기\n",
    "Range <- range(df$salary, na.rm = T)\n",
    "Range"
   ]
  },
  {
   "cell_type": "code",
   "execution_count": 8,
   "metadata": {},
   "outputs": [
    {
     "data": {
      "text/html": [
       "<dl class=dl-horizontal>\n",
       "\t<dt>0%</dt>\n",
       "\t\t<dd>1117605</dd>\n",
       "\t<dt>25%</dt>\n",
       "\t\t<dd>1689658.25</dd>\n",
       "\t<dt>50%</dt>\n",
       "\t\t<dd>2120345</dd>\n",
       "\t<dt>75%</dt>\n",
       "\t\t<dd>2519221.25</dd>\n",
       "\t<dt>100%</dt>\n",
       "\t\t<dd>4064286</dd>\n",
       "</dl>\n"
      ],
      "text/latex": [
       "\\begin{description*}\n",
       "\\item[0\\textbackslash{}\\%] 1117605\n",
       "\\item[25\\textbackslash{}\\%] 1689658.25\n",
       "\\item[50\\textbackslash{}\\%] 2120345\n",
       "\\item[75\\textbackslash{}\\%] 2519221.25\n",
       "\\item[100\\textbackslash{}\\%] 4064286\n",
       "\\end{description*}\n"
      ],
      "text/markdown": [
       "0%\n",
       ":   111760525%\n",
       ":   1689658.2550%\n",
       ":   212034575%\n",
       ":   2519221.25100%\n",
       ":   4064286\n",
       "\n"
      ],
      "text/plain": [
       "     0%     25%     50%     75%    100% \n",
       "1117605 1689658 2120345 2519221 4064286 "
      ]
     },
     "metadata": {},
     "output_type": "display_data"
    }
   ],
   "source": [
    "# 4분위 \n",
    "Quantile <- quantile(df$salary, na.rm = T)\n",
    "Quantile"
   ]
  },
  {
   "cell_type": "code",
   "execution_count": 9,
   "metadata": {},
   "outputs": [
    {
     "data": {
      "text/html": [
       "<dl>\n",
       "\t<dt>$평균</dt>\n",
       "\t\t<dd>2171577.83673469</dd>\n",
       "\t<dt>$중앙값</dt>\n",
       "\t\t<dd>2120345</dd>\n",
       "\t<dt>$범위</dt>\n",
       "\t\t<dd><ol class=list-inline>\n",
       "\t<li>1117605</li>\n",
       "\t<li>4064286</li>\n",
       "</ol>\n",
       "</dd>\n",
       "\t<dt>$사분위</dt>\n",
       "\t\t<dd><dl class=dl-horizontal>\n",
       "\t<dt>0%</dt>\n",
       "\t\t<dd>1117605</dd>\n",
       "\t<dt>25%</dt>\n",
       "\t\t<dd>1689658.25</dd>\n",
       "\t<dt>50%</dt>\n",
       "\t\t<dd>2120345</dd>\n",
       "\t<dt>75%</dt>\n",
       "\t\t<dd>2519221.25</dd>\n",
       "\t<dt>100%</dt>\n",
       "\t\t<dd>4064286</dd>\n",
       "</dl>\n",
       "</dd>\n",
       "</dl>\n"
      ],
      "text/latex": [
       "\\begin{description}\n",
       "\\item[\\$평균] 2171577.83673469\n",
       "\\item[\\$중앙값] 2120345\n",
       "\\item[\\$범위] \\begin{enumerate*}\n",
       "\\item 1117605\n",
       "\\item 4064286\n",
       "\\end{enumerate*}\n",
       "\n",
       "\\item[\\$사분위] \\begin{description*}\n",
       "\\item[0\\textbackslash{}\\%] 1117605\n",
       "\\item[25\\textbackslash{}\\%] 1689658.25\n",
       "\\item[50\\textbackslash{}\\%] 2120345\n",
       "\\item[75\\textbackslash{}\\%] 2519221.25\n",
       "\\item[100\\textbackslash{}\\%] 4064286\n",
       "\\end{description*}\n",
       "\n",
       "\\end{description}\n"
      ],
      "text/markdown": [
       "$평균\n",
       ":   2171577.83673469\n",
       "$중앙값\n",
       ":   2120345\n",
       "$범위\n",
       ":   1. 1117605\n",
       "2. 4064286\n",
       "\n",
       "\n",
       "\n",
       "$사분위\n",
       ":   0%\n",
       ":   111760525%\n",
       ":   1689658.2550%\n",
       ":   212034575%\n",
       ":   2519221.25100%\n",
       ":   4064286\n",
       "\n",
       "\n",
       "\n",
       "\n"
      ],
      "text/plain": [
       "$평균\n",
       "[1] 2171578\n",
       "\n",
       "$중앙값\n",
       "[1] 2120345\n",
       "\n",
       "$범위\n",
       "[1] 1117605 4064286\n",
       "\n",
       "$사분위\n",
       "     0%     25%     50%     75%    100% \n",
       "1117605 1689658 2120345 2519221 4064286 \n"
      ]
     },
     "metadata": {},
     "output_type": "display_data"
    }
   ],
   "source": [
    "# 리스트에 데이터 담기\n",
    "Salary <- list(평균=Mean, 중앙값=Median, 범위=Range, 사분위=Quantile)\n",
    "Salary"
   ]
  },
  {
   "cell_type": "code",
   "execution_count": 10,
   "metadata": {},
   "outputs": [
    {
     "data": {
      "text/html": [
       "60"
      ],
      "text/latex": [
       "60"
      ],
      "text/markdown": [
       "60"
      ],
      "text/plain": [
       "[1] 60"
      ]
     },
     "metadata": {},
     "output_type": "display_data"
    }
   ],
   "source": [
    "# 가장 적은 월급\n",
    "w <- which(df$salary == 1117605)\n",
    "w"
   ]
  },
  {
   "cell_type": "code",
   "execution_count": 11,
   "metadata": {},
   "outputs": [
    {
     "data": {
      "text/html": [
       "<table>\n",
       "<thead><tr><th></th><th scope=col>age</th><th scope=col>salary</th><th scope=col>specialSalary</th><th scope=col>workingTime</th><th scope=col>numberOfWorker</th><th scope=col>career</th><th scope=col>sex</th></tr></thead>\n",
       "<tbody>\n",
       "\t<tr><th scope=row>60</th><td>60-    </td><td>1117605</td><td>10667  </td><td>148    </td><td>18737  </td><td>1년미만</td><td>여     </td></tr>\n",
       "</tbody>\n",
       "</table>\n"
      ],
      "text/latex": [
       "\\begin{tabular}{r|lllllll}\n",
       "  & age & salary & specialSalary & workingTime & numberOfWorker & career & sex\\\\\n",
       "\\hline\n",
       "\t60 & 60-     & 1117605 & 10667   & 148     & 18737   & 1년미만 & 여     \\\\\n",
       "\\end{tabular}\n"
      ],
      "text/markdown": [
       "\n",
       "| <!--/--> | age | salary | specialSalary | workingTime | numberOfWorker | career | sex |\n",
       "|---|---|---|---|---|---|---|---|\n",
       "| 60 | 60-     | 1117605 | 10667   | 148     | 18737   | 1년미만 | 여      |\n",
       "\n"
      ],
      "text/plain": [
       "   age salary  specialSalary workingTime numberOfWorker career  sex\n",
       "60 60- 1117605 10667         148         18737          1년미만 여 "
      ]
     },
     "metadata": {},
     "output_type": "display_data"
    }
   ],
   "source": [
    "df[w,]"
   ]
  },
  {
   "cell_type": "code",
   "execution_count": 12,
   "metadata": {},
   "outputs": [
    {
     "data": {
      "text/html": [
       "<dl class=dl-horizontal>\n",
       "\t<dt>1~3년미만</dt>\n",
       "\t\t<dd>1905011.9</dd>\n",
       "\t<dt>10년이상</dt>\n",
       "\t\t<dd>2907118.61111111</dd>\n",
       "\t<dt>1년미만</dt>\n",
       "\t\t<dd>1730835.35</dd>\n",
       "\t<dt>3~5년미만</dt>\n",
       "\t\t<dd>2028014.9</dd>\n",
       "\t<dt>5~10년미만</dt>\n",
       "\t\t<dd>2360462.5</dd>\n",
       "</dl>\n"
      ],
      "text/latex": [
       "\\begin{description*}\n",
       "\\item[1\\textbackslash{}textasciitilde\\{\\}3년미만] 1905011.9\n",
       "\\item[10년이상] 2907118.61111111\n",
       "\\item[1년미만] 1730835.35\n",
       "\\item[3\\textbackslash{}textasciitilde\\{\\}5년미만] 2028014.9\n",
       "\\item[5\\textbackslash{}textasciitilde\\{\\}10년미만] 2360462.5\n",
       "\\end{description*}\n"
      ],
      "text/markdown": [
       "1~3년미만\n",
       ":   1905011.910년이상\n",
       ":   2907118.611111111년미만\n",
       ":   1730835.353~5년미만\n",
       ":   2028014.95~10년미만\n",
       ":   2360462.5\n",
       "\n"
      ],
      "text/plain": [
       " 1~3년미만   10년이상    1년미만  3~5년미만 5~10년미만 \n",
       "   1905012    2907119    1730835    2028015    2360463 "
      ]
     },
     "metadata": {},
     "output_type": "display_data"
    }
   ],
   "source": [
    "#경력별 평균월급\n",
    "temp <- tapply(df$salary,df$career, mean, na.rm=T)\n",
    "temp"
   ]
  },
  {
   "cell_type": "code",
   "execution_count": 13,
   "metadata": {},
   "outputs": [
    {
     "data": {
      "text/html": [
       "<dl class=dl-horizontal>\n",
       "\t<dt>1~3년미만</dt>\n",
       "\t\t<dd>421332.817832436</dd>\n",
       "\t<dt>10년이상</dt>\n",
       "\t\t<dd>690976.727993927</dd>\n",
       "\t<dt>1년미만</dt>\n",
       "\t\t<dd>408110.437480279</dd>\n",
       "\t<dt>3~5년미만</dt>\n",
       "\t\t<dd>460790.871315817</dd>\n",
       "\t<dt>5~10년미만</dt>\n",
       "\t\t<dd>507244.739786116</dd>\n",
       "</dl>\n"
      ],
      "text/latex": [
       "\\begin{description*}\n",
       "\\item[1\\textbackslash{}textasciitilde\\{\\}3년미만] 421332.817832436\n",
       "\\item[10년이상] 690976.727993927\n",
       "\\item[1년미만] 408110.437480279\n",
       "\\item[3\\textbackslash{}textasciitilde\\{\\}5년미만] 460790.871315817\n",
       "\\item[5\\textbackslash{}textasciitilde\\{\\}10년미만] 507244.739786116\n",
       "\\end{description*}\n"
      ],
      "text/markdown": [
       "1~3년미만\n",
       ":   421332.81783243610년이상\n",
       ":   690976.7279939271년미만\n",
       ":   408110.4374802793~5년미만\n",
       ":   460790.8713158175~10년미만\n",
       ":   507244.739786116\n",
       "\n"
      ],
      "text/plain": [
       " 1~3년미만   10년이상    1년미만  3~5년미만 5~10년미만 \n",
       "  421332.8   690976.7   408110.4   460790.9   507244.7 "
      ]
     },
     "metadata": {},
     "output_type": "display_data"
    }
   ],
   "source": [
    "#표준편차\n",
    "tapply(df$salary, df$career, sd, na.rm=T)"
   ]
  },
  {
   "cell_type": "code",
   "execution_count": 14,
   "metadata": {},
   "outputs": [
    {
     "data": {
      "text/html": [
       "<dl>\n",
       "\t<dt>$`1~3년미만`</dt>\n",
       "\t\t<dd><ol class=list-inline>\n",
       "\t<li>1172399</li>\n",
       "\t<li>2619221</li>\n",
       "</ol>\n",
       "</dd>\n",
       "\t<dt>$`10년이상`</dt>\n",
       "\t\t<dd><ol class=list-inline>\n",
       "\t<li>1685204</li>\n",
       "\t<li>4064286</li>\n",
       "</ol>\n",
       "</dd>\n",
       "\t<dt>$`1년미만`</dt>\n",
       "\t\t<dd><ol class=list-inline>\n",
       "\t<li>1117605</li>\n",
       "\t<li>2414345</li>\n",
       "</ol>\n",
       "</dd>\n",
       "\t<dt>$`3~5년미만`</dt>\n",
       "\t\t<dd><ol class=list-inline>\n",
       "\t<li>1245540</li>\n",
       "\t<li>2827420</li>\n",
       "</ol>\n",
       "</dd>\n",
       "\t<dt>$`5~10년미만`</dt>\n",
       "\t\t<dd><ol class=list-inline>\n",
       "\t<li>1548036</li>\n",
       "\t<li>3309231</li>\n",
       "</ol>\n",
       "</dd>\n",
       "</dl>\n"
      ],
      "text/latex": [
       "\\begin{description}\n",
       "\\item[\\$`1\\textasciitilde{}3년미만`] \\begin{enumerate*}\n",
       "\\item 1172399\n",
       "\\item 2619221\n",
       "\\end{enumerate*}\n",
       "\n",
       "\\item[\\$`10년이상`] \\begin{enumerate*}\n",
       "\\item 1685204\n",
       "\\item 4064286\n",
       "\\end{enumerate*}\n",
       "\n",
       "\\item[\\$`1년미만`] \\begin{enumerate*}\n",
       "\\item 1117605\n",
       "\\item 2414345\n",
       "\\end{enumerate*}\n",
       "\n",
       "\\item[\\$`3\\textasciitilde{}5년미만`] \\begin{enumerate*}\n",
       "\\item 1245540\n",
       "\\item 2827420\n",
       "\\end{enumerate*}\n",
       "\n",
       "\\item[\\$`5\\textasciitilde{}10년미만`] \\begin{enumerate*}\n",
       "\\item 1548036\n",
       "\\item 3309231\n",
       "\\end{enumerate*}\n",
       "\n",
       "\\end{description}\n"
      ],
      "text/markdown": [
       "$`1~3년미만`\n",
       ":   1. 1172399\n",
       "2. 2619221\n",
       "\n",
       "\n",
       "\n",
       "$`10년이상`\n",
       ":   1. 1685204\n",
       "2. 4064286\n",
       "\n",
       "\n",
       "\n",
       "$`1년미만`\n",
       ":   1. 1117605\n",
       "2. 2414345\n",
       "\n",
       "\n",
       "\n",
       "$`3~5년미만`\n",
       ":   1. 1245540\n",
       "2. 2827420\n",
       "\n",
       "\n",
       "\n",
       "$`5~10년미만`\n",
       ":   1. 1548036\n",
       "2. 3309231\n",
       "\n",
       "\n",
       "\n",
       "\n",
       "\n"
      ],
      "text/plain": [
       "$`1~3년미만`\n",
       "[1] 1172399 2619221\n",
       "\n",
       "$`10년이상`\n",
       "[1] 1685204 4064286\n",
       "\n",
       "$`1년미만`\n",
       "[1] 1117605 2414345\n",
       "\n",
       "$`3~5년미만`\n",
       "[1] 1245540 2827420\n",
       "\n",
       "$`5~10년미만`\n",
       "[1] 1548036 3309231\n"
      ]
     },
     "metadata": {},
     "output_type": "display_data"
    }
   ],
   "source": [
    "#범위\n",
    "tapply(df$salary,df$career, range, na.rm=T)"
   ]
  },
  {
   "cell_type": "code",
   "execution_count": 15,
   "metadata": {},
   "outputs": [
    {
     "data": {
      "text/html": [
       "70"
      ],
      "text/latex": [
       "70"
      ],
      "text/markdown": [
       "70"
      ],
      "text/plain": [
       "[1] 70"
      ]
     },
     "metadata": {},
     "output_type": "display_data"
    },
    {
     "data": {
      "text/html": [
       "<table>\n",
       "<thead><tr><th></th><th scope=col>age</th><th scope=col>salary</th><th scope=col>specialSalary</th><th scope=col>workingTime</th><th scope=col>numberOfWorker</th><th scope=col>career</th><th scope=col>sex</th></tr></thead>\n",
       "<tbody>\n",
       "\t<tr><th scope=row>70</th><td>60-      </td><td>1172399  </td><td>299639   </td><td>151.2    </td><td>30253    </td><td>1~3년미만</td><td>여       </td></tr>\n",
       "</tbody>\n",
       "</table>\n"
      ],
      "text/latex": [
       "\\begin{tabular}{r|lllllll}\n",
       "  & age & salary & specialSalary & workingTime & numberOfWorker & career & sex\\\\\n",
       "\\hline\n",
       "\t70 & 60-                        & 1172399                    & 299639                     & 151.2                      & 30253                      & 1\\textasciitilde{}3년미만 & 여                        \\\\\n",
       "\\end{tabular}\n"
      ],
      "text/markdown": [
       "\n",
       "| <!--/--> | age | salary | specialSalary | workingTime | numberOfWorker | career | sex |\n",
       "|---|---|---|---|---|---|---|---|\n",
       "| 70 | 60-       | 1172399   | 299639    | 151.2     | 30253     | 1~3년미만 | 여        |\n",
       "\n"
      ],
      "text/plain": [
       "   age salary  specialSalary workingTime numberOfWorker career    sex\n",
       "70 60- 1172399 299639        151.2       30253          1~3년미만 여 "
      ]
     },
     "metadata": {},
     "output_type": "display_data"
    }
   ],
   "source": [
    "#경력별 가장 월급이 작은 그룹\n",
    "w <- which(df$salary=='1172399')\n",
    "w\n",
    "a1  <- df[w,]\n",
    "a1"
   ]
  },
  {
   "cell_type": "code",
   "execution_count": 16,
   "metadata": {},
   "outputs": [
    {
     "data": {
      "text/html": [
       "<ol class=list-inline>\n",
       "\t<li>'age'</li>\n",
       "\t<li>'salary'</li>\n",
       "\t<li>'specialSalary'</li>\n",
       "\t<li>'workingTime'</li>\n",
       "\t<li>'numberOfWorker'</li>\n",
       "\t<li>'career'</li>\n",
       "\t<li>'sex'</li>\n",
       "</ol>\n"
      ],
      "text/latex": [
       "\\begin{enumerate*}\n",
       "\\item 'age'\n",
       "\\item 'salary'\n",
       "\\item 'specialSalary'\n",
       "\\item 'workingTime'\n",
       "\\item 'numberOfWorker'\n",
       "\\item 'career'\n",
       "\\item 'sex'\n",
       "\\end{enumerate*}\n"
      ],
      "text/markdown": [
       "1. 'age'\n",
       "2. 'salary'\n",
       "3. 'specialSalary'\n",
       "4. 'workingTime'\n",
       "5. 'numberOfWorker'\n",
       "6. 'career'\n",
       "7. 'sex'\n",
       "\n",
       "\n"
      ],
      "text/plain": [
       "[1] \"age\"            \"salary\"         \"specialSalary\"  \"workingTime\"   \n",
       "[5] \"numberOfWorker\" \"career\"         \"sex\"           "
      ]
     },
     "metadata": {},
     "output_type": "display_data"
    }
   ],
   "source": [
    "colnames(df)\n",
    "colnames(df) <- c('age','salary','sepcialSalary','workingTime','numberOfWorker','career','sex')"
   ]
  },
  {
   "cell_type": "code",
   "execution_count": 17,
   "metadata": {},
   "outputs": [],
   "source": [
    "#표준화\n",
    "salary_scale <- scale(df$salary)"
   ]
  },
  {
   "cell_type": "code",
   "execution_count": 18,
   "metadata": {},
   "outputs": [
    {
     "data": {
      "text/html": [
       "<table>\n",
       "<tbody>\n",
       "\t<tr><td>-1.28886999</td></tr>\n",
       "\t<tr><td>-0.91757018</td></tr>\n",
       "\t<tr><td>-0.38981924</td></tr>\n",
       "\t<tr><td>-0.06340878</td></tr>\n",
       "\t<tr><td> 0.37924689</td></tr>\n",
       "\t<tr><td> 0.31343053</td></tr>\n",
       "</tbody>\n",
       "</table>\n"
      ],
      "text/latex": [
       "\\begin{tabular}{l}\n",
       "\t -1.28886999\\\\\n",
       "\t -0.91757018\\\\\n",
       "\t -0.38981924\\\\\n",
       "\t -0.06340878\\\\\n",
       "\t  0.37924689\\\\\n",
       "\t  0.31343053\\\\\n",
       "\\end{tabular}\n"
      ],
      "text/markdown": [
       "\n",
       "| -1.28886999 |\n",
       "| -0.91757018 |\n",
       "| -0.38981924 |\n",
       "| -0.06340878 |\n",
       "|  0.37924689 |\n",
       "|  0.31343053 |\n",
       "\n"
      ],
      "text/plain": [
       "     [,1]       \n",
       "[1,] -1.28886999\n",
       "[2,] -0.91757018\n",
       "[3,] -0.38981924\n",
       "[4,] -0.06340878\n",
       "[5,]  0.37924689\n",
       "[6,]  0.31343053"
      ]
     },
     "metadata": {},
     "output_type": "display_data"
    }
   ],
   "source": [
    "head(salary_scale)"
   ]
  },
  {
   "cell_type": "code",
   "execution_count": 19,
   "metadata": {},
   "outputs": [
    {
     "data": {
      "text/html": [
       "<table>\n",
       "<thead><tr><th scope=col>age</th><th scope=col>salary</th><th scope=col>sepcialSalary</th><th scope=col>workingTime</th><th scope=col>numberOfWorker</th><th scope=col>career</th><th scope=col>sex</th><th scope=col>scale</th></tr></thead>\n",
       "<tbody>\n",
       "\t<tr><td>-19        </td><td>1346534    </td><td>151840     </td><td>169.5      </td><td> 15042     </td><td>1년미만    </td><td>남         </td><td>-1.28886999</td></tr>\n",
       "\t<tr><td>20-24      </td><td>1584214    </td><td>115375     </td><td>180.1      </td><td> 74251     </td><td>1년미만    </td><td>남         </td><td>-0.91757018</td></tr>\n",
       "\t<tr><td>25-29      </td><td>1922043    </td><td>268058     </td><td>178.0      </td><td>143338     </td><td>1년미만    </td><td>남         </td><td>-0.38981924</td></tr>\n",
       "\t<tr><td>30-34      </td><td>2130988    </td><td>335710     </td><td>180.8      </td><td>103585     </td><td>1년미만    </td><td>남         </td><td>-0.06340878</td></tr>\n",
       "\t<tr><td>35-39      </td><td>2414345    </td><td>352816     </td><td>181.4      </td><td> 65385     </td><td>1년미만    </td><td>남         </td><td> 0.37924689</td></tr>\n",
       "\t<tr><td>40-44      </td><td>2372214    </td><td>233728     </td><td>182.9      </td><td> 55422     </td><td>1년미만    </td><td>남         </td><td> 0.31343053</td></tr>\n",
       "</tbody>\n",
       "</table>\n"
      ],
      "text/latex": [
       "\\begin{tabular}{r|llllllll}\n",
       " age & salary & sepcialSalary & workingTime & numberOfWorker & career & sex & scale\\\\\n",
       "\\hline\n",
       "\t -19         & 1346534     & 151840      & 169.5       &  15042      & 1년미만     & 남          & -1.28886999\\\\\n",
       "\t 20-24       & 1584214     & 115375      & 180.1       &  74251      & 1년미만     & 남          & -0.91757018\\\\\n",
       "\t 25-29       & 1922043     & 268058      & 178.0       & 143338      & 1년미만     & 남          & -0.38981924\\\\\n",
       "\t 30-34       & 2130988     & 335710      & 180.8       & 103585      & 1년미만     & 남          & -0.06340878\\\\\n",
       "\t 35-39       & 2414345     & 352816      & 181.4       &  65385      & 1년미만     & 남          &  0.37924689\\\\\n",
       "\t 40-44       & 2372214     & 233728      & 182.9       &  55422      & 1년미만     & 남          &  0.31343053\\\\\n",
       "\\end{tabular}\n"
      ],
      "text/markdown": [
       "\n",
       "| age | salary | sepcialSalary | workingTime | numberOfWorker | career | sex | scale |\n",
       "|---|---|---|---|---|---|---|---|\n",
       "| -19         | 1346534     | 151840      | 169.5       |  15042      | 1년미만     | 남          | -1.28886999 |\n",
       "| 20-24       | 1584214     | 115375      | 180.1       |  74251      | 1년미만     | 남          | -0.91757018 |\n",
       "| 25-29       | 1922043     | 268058      | 178.0       | 143338      | 1년미만     | 남          | -0.38981924 |\n",
       "| 30-34       | 2130988     | 335710      | 180.8       | 103585      | 1년미만     | 남          | -0.06340878 |\n",
       "| 35-39       | 2414345     | 352816      | 181.4       |  65385      | 1년미만     | 남          |  0.37924689 |\n",
       "| 40-44       | 2372214     | 233728      | 182.9       |  55422      | 1년미만     | 남          |  0.31343053 |\n",
       "\n"
      ],
      "text/plain": [
       "  age   salary  sepcialSalary workingTime numberOfWorker career  sex\n",
       "1 -19   1346534 151840        169.5        15042         1년미만 남 \n",
       "2 20-24 1584214 115375        180.1        74251         1년미만 남 \n",
       "3 25-29 1922043 268058        178.0       143338         1년미만 남 \n",
       "4 30-34 2130988 335710        180.8       103585         1년미만 남 \n",
       "5 35-39 2414345 352816        181.4        65385         1년미만 남 \n",
       "6 40-44 2372214 233728        182.9        55422         1년미만 남 \n",
       "  scale      \n",
       "1 -1.28886999\n",
       "2 -0.91757018\n",
       "3 -0.38981924\n",
       "4 -0.06340878\n",
       "5  0.37924689\n",
       "6  0.31343053"
      ]
     },
     "metadata": {},
     "output_type": "display_data"
    }
   ],
   "source": [
    "df_scale <- cbind(df,scale=salary_scale)\n",
    "head(df_scale)"
   ]
  },
  {
   "cell_type": "code",
   "execution_count": null,
   "metadata": {},
   "outputs": [],
   "source": []
  }
 ],
 "metadata": {
  "kernelspec": {
   "display_name": "R",
   "language": "R",
   "name": "ir"
  },
  "language_info": {
   "codemirror_mode": "r",
   "file_extension": ".r",
   "mimetype": "text/x-r-source",
   "name": "R",
   "pygments_lexer": "r",
   "version": "3.6.1"
  }
 },
 "nbformat": 4,
 "nbformat_minor": 4
}
