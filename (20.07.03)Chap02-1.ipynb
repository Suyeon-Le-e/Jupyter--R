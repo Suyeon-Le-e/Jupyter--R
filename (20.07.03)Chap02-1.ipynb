{
 "cells": [
  {
   "cell_type": "markdown",
   "metadata": {},
   "source": [
    "## 외부 데이터 가져오기"
   ]
  },
  {
   "cell_type": "code",
   "execution_count": 4,
   "metadata": {},
   "outputs": [],
   "source": [
    "df_csv <- read.csv('r-ggagi-data/example_studentlist.csv',header=T)"
   ]
  },
  {
   "cell_type": "code",
   "execution_count": 8,
   "metadata": {},
   "outputs": [
    {
     "data": {
      "text/html": [
       "<table>\n",
       "<thead><tr><th scope=col>name</th><th scope=col>sex</th><th scope=col>age</th><th scope=col>grade</th><th scope=col>absence</th><th scope=col>bloodtype</th><th scope=col>height</th><th scope=col>weight</th></tr></thead>\n",
       "<tbody>\n",
       "\t<tr><td>김길동</td><td>남자  </td><td>23    </td><td>3     </td><td>유    </td><td>O     </td><td>165.3 </td><td>68.2  </td></tr>\n",
       "\t<tr><td>이미린</td><td>여자  </td><td>22    </td><td>2     </td><td>무    </td><td>AB    </td><td>170.1 </td><td>53.0  </td></tr>\n",
       "\t<tr><td>홍길동</td><td>남자  </td><td>24    </td><td>4     </td><td>무    </td><td>B     </td><td>175.0 </td><td>80.1  </td></tr>\n",
       "\t<tr><td>김철수</td><td>남자  </td><td>23    </td><td>3     </td><td>무    </td><td>AB    </td><td>182.1 </td><td>85.7  </td></tr>\n",
       "\t<tr><td>손세수</td><td>여자  </td><td>20    </td><td>1     </td><td>유    </td><td>A     </td><td>168.0 </td><td>49.5  </td></tr>\n",
       "\t<tr><td>박미희</td><td>여자  </td><td>21    </td><td>2     </td><td>무    </td><td>O     </td><td>162.0 </td><td>52.0  </td></tr>\n",
       "\t<tr><td>강수친</td><td>여자  </td><td>22    </td><td>1     </td><td>무    </td><td>O     </td><td>155.2 </td><td>45.3  </td></tr>\n",
       "\t<tr><td>이희수</td><td>여자  </td><td>23    </td><td>1     </td><td>무    </td><td>A     </td><td>176.9 </td><td>55.0  </td></tr>\n",
       "\t<tr><td>이철린</td><td>남자  </td><td>23    </td><td>3     </td><td>무    </td><td>B     </td><td>178.5 </td><td>64.2  </td></tr>\n",
       "\t<tr><td>방희철</td><td>남자  </td><td>22    </td><td>2     </td><td>무    </td><td>B     </td><td>176.1 </td><td>61.3  </td></tr>\n",
       "\t<tr><td>박수호</td><td>남자  </td><td>24    </td><td>4     </td><td>유    </td><td>O     </td><td>167.1 </td><td>62.0  </td></tr>\n",
       "\t<tr><td>임동민</td><td>남자  </td><td>22    </td><td>2     </td><td>무    </td><td>AB    </td><td>180.0 </td><td>75.8  </td></tr>\n",
       "\t<tr><td>김민수</td><td>남자  </td><td>21    </td><td>1     </td><td>무    </td><td>A     </td><td>162.2 </td><td>55.3  </td></tr>\n",
       "\t<tr><td>이희진</td><td>여자  </td><td>23    </td><td>3     </td><td>무    </td><td>O     </td><td>176.1 </td><td>53.1  </td></tr>\n",
       "\t<tr><td>김미진</td><td>여자  </td><td>22    </td><td>2     </td><td>무    </td><td>B     </td><td>158.2 </td><td>45.2  </td></tr>\n",
       "\t<tr><td>김동수</td><td>남자  </td><td>24    </td><td>4     </td><td>유    </td><td>B     </td><td>168.6 </td><td>70.2  </td></tr>\n",
       "\t<tr><td>여수근</td><td>남자  </td><td>21    </td><td>1     </td><td>무    </td><td>A     </td><td>169.2 </td><td>62.2  </td></tr>\n",
       "</tbody>\n",
       "</table>\n"
      ],
      "text/latex": [
       "\\begin{tabular}{r|llllllll}\n",
       " name & sex & age & grade & absence & bloodtype & height & weight\\\\\n",
       "\\hline\n",
       "\t 김길동 & 남자   & 23     & 3      & 유     & O      & 165.3  & 68.2  \\\\\n",
       "\t 이미린 & 여자   & 22     & 2      & 무     & AB     & 170.1  & 53.0  \\\\\n",
       "\t 홍길동 & 남자   & 24     & 4      & 무     & B      & 175.0  & 80.1  \\\\\n",
       "\t 김철수 & 남자   & 23     & 3      & 무     & AB     & 182.1  & 85.7  \\\\\n",
       "\t 손세수 & 여자   & 20     & 1      & 유     & A      & 168.0  & 49.5  \\\\\n",
       "\t 박미희 & 여자   & 21     & 2      & 무     & O      & 162.0  & 52.0  \\\\\n",
       "\t 강수친 & 여자   & 22     & 1      & 무     & O      & 155.2  & 45.3  \\\\\n",
       "\t 이희수 & 여자   & 23     & 1      & 무     & A      & 176.9  & 55.0  \\\\\n",
       "\t 이철린 & 남자   & 23     & 3      & 무     & B      & 178.5  & 64.2  \\\\\n",
       "\t 방희철 & 남자   & 22     & 2      & 무     & B      & 176.1  & 61.3  \\\\\n",
       "\t 박수호 & 남자   & 24     & 4      & 유     & O      & 167.1  & 62.0  \\\\\n",
       "\t 임동민 & 남자   & 22     & 2      & 무     & AB     & 180.0  & 75.8  \\\\\n",
       "\t 김민수 & 남자   & 21     & 1      & 무     & A      & 162.2  & 55.3  \\\\\n",
       "\t 이희진 & 여자   & 23     & 3      & 무     & O      & 176.1  & 53.1  \\\\\n",
       "\t 김미진 & 여자   & 22     & 2      & 무     & B      & 158.2  & 45.2  \\\\\n",
       "\t 김동수 & 남자   & 24     & 4      & 유     & B      & 168.6  & 70.2  \\\\\n",
       "\t 여수근 & 남자   & 21     & 1      & 무     & A      & 169.2  & 62.2  \\\\\n",
       "\\end{tabular}\n"
      ],
      "text/markdown": [
       "\n",
       "| name | sex | age | grade | absence | bloodtype | height | weight |\n",
       "|---|---|---|---|---|---|---|---|\n",
       "| 김길동 | 남자   | 23     | 3      | 유     | O      | 165.3  | 68.2   |\n",
       "| 이미린 | 여자   | 22     | 2      | 무     | AB     | 170.1  | 53.0   |\n",
       "| 홍길동 | 남자   | 24     | 4      | 무     | B      | 175.0  | 80.1   |\n",
       "| 김철수 | 남자   | 23     | 3      | 무     | AB     | 182.1  | 85.7   |\n",
       "| 손세수 | 여자   | 20     | 1      | 유     | A      | 168.0  | 49.5   |\n",
       "| 박미희 | 여자   | 21     | 2      | 무     | O      | 162.0  | 52.0   |\n",
       "| 강수친 | 여자   | 22     | 1      | 무     | O      | 155.2  | 45.3   |\n",
       "| 이희수 | 여자   | 23     | 1      | 무     | A      | 176.9  | 55.0   |\n",
       "| 이철린 | 남자   | 23     | 3      | 무     | B      | 178.5  | 64.2   |\n",
       "| 방희철 | 남자   | 22     | 2      | 무     | B      | 176.1  | 61.3   |\n",
       "| 박수호 | 남자   | 24     | 4      | 유     | O      | 167.1  | 62.0   |\n",
       "| 임동민 | 남자   | 22     | 2      | 무     | AB     | 180.0  | 75.8   |\n",
       "| 김민수 | 남자   | 21     | 1      | 무     | A      | 162.2  | 55.3   |\n",
       "| 이희진 | 여자   | 23     | 3      | 무     | O      | 176.1  | 53.1   |\n",
       "| 김미진 | 여자   | 22     | 2      | 무     | B      | 158.2  | 45.2   |\n",
       "| 김동수 | 남자   | 24     | 4      | 유     | B      | 168.6  | 70.2   |\n",
       "| 여수근 | 남자   | 21     | 1      | 무     | A      | 169.2  | 62.2   |\n",
       "\n"
      ],
      "text/plain": [
       "   name   sex  age grade absence bloodtype height weight\n",
       "1  김길동 남자 23  3     유      O         165.3  68.2  \n",
       "2  이미린 여자 22  2     무      AB        170.1  53.0  \n",
       "3  홍길동 남자 24  4     무      B         175.0  80.1  \n",
       "4  김철수 남자 23  3     무      AB        182.1  85.7  \n",
       "5  손세수 여자 20  1     유      A         168.0  49.5  \n",
       "6  박미희 여자 21  2     무      O         162.0  52.0  \n",
       "7  강수친 여자 22  1     무      O         155.2  45.3  \n",
       "8  이희수 여자 23  1     무      A         176.9  55.0  \n",
       "9  이철린 남자 23  3     무      B         178.5  64.2  \n",
       "10 방희철 남자 22  2     무      B         176.1  61.3  \n",
       "11 박수호 남자 24  4     유      O         167.1  62.0  \n",
       "12 임동민 남자 22  2     무      AB        180.0  75.8  \n",
       "13 김민수 남자 21  1     무      A         162.2  55.3  \n",
       "14 이희진 여자 23  3     무      O         176.1  53.1  \n",
       "15 김미진 여자 22  2     무      B         158.2  45.2  \n",
       "16 김동수 남자 24  4     유      B         168.6  70.2  \n",
       "17 여수근 남자 21  1     무      A         169.2  62.2  "
      ]
     },
     "metadata": {},
     "output_type": "display_data"
    }
   ],
   "source": [
    "df_csv"
   ]
  },
  {
   "cell_type": "code",
   "execution_count": 6,
   "metadata": {},
   "outputs": [
    {
     "data": {
      "text/html": [
       "TRUE"
      ],
      "text/latex": [
       "TRUE"
      ],
      "text/markdown": [
       "TRUE"
      ],
      "text/plain": [
       "[1] TRUE"
      ]
     },
     "metadata": {},
     "output_type": "display_data"
    }
   ],
   "source": [
    "is.vector(df_csv$height)"
   ]
  },
  {
   "cell_type": "code",
   "execution_count": 7,
   "metadata": {},
   "outputs": [
    {
     "name": "stdout",
     "output_type": "stream",
     "text": [
      "'data.frame':\t17 obs. of  8 variables:\n",
      " $ name     : Factor w/ 17 levels \"강수친\",\"김길동\",..: 2 12 17 6 10 7 1 14 13 9 ...\n",
      " $ sex      : Factor w/ 2 levels \"남자\",\"여자\": 1 2 1 1 2 2 2 2 1 1 ...\n",
      " $ age      : int  23 22 24 23 20 21 22 23 23 22 ...\n",
      " $ grade    : int  3 2 4 3 1 2 1 1 3 2 ...\n",
      " $ absence  : Factor w/ 2 levels \"무\",\"유\": 2 1 1 1 2 1 1 1 1 1 ...\n",
      " $ bloodtype: Factor w/ 4 levels \"A\",\"AB\",\"B\",\"O\": 4 2 3 2 1 4 4 1 3 3 ...\n",
      " $ height   : num  165 170 175 182 168 ...\n",
      " $ weight   : num  68.2 53 80.1 85.7 49.5 52 45.3 55 64.2 61.3 ...\n"
     ]
    }
   ],
   "source": [
    "str(df_csv)"
   ]
  },
  {
   "cell_type": "code",
   "execution_count": 9,
   "metadata": {},
   "outputs": [
    {
     "data": {
      "text/html": [
       "<ol class=list-inline>\n",
       "\t<li>68.2</li>\n",
       "\t<li>53</li>\n",
       "\t<li>80.1</li>\n",
       "\t<li>85.7</li>\n",
       "\t<li>49.5</li>\n",
       "\t<li>52</li>\n",
       "\t<li>45.3</li>\n",
       "\t<li>55</li>\n",
       "\t<li>64.2</li>\n",
       "\t<li>61.3</li>\n",
       "\t<li>62</li>\n",
       "\t<li>75.8</li>\n",
       "\t<li>55.3</li>\n",
       "\t<li>53.1</li>\n",
       "\t<li>45.2</li>\n",
       "\t<li>70.2</li>\n",
       "\t<li>62.2</li>\n",
       "</ol>\n"
      ],
      "text/latex": [
       "\\begin{enumerate*}\n",
       "\\item 68.2\n",
       "\\item 53\n",
       "\\item 80.1\n",
       "\\item 85.7\n",
       "\\item 49.5\n",
       "\\item 52\n",
       "\\item 45.3\n",
       "\\item 55\n",
       "\\item 64.2\n",
       "\\item 61.3\n",
       "\\item 62\n",
       "\\item 75.8\n",
       "\\item 55.3\n",
       "\\item 53.1\n",
       "\\item 45.2\n",
       "\\item 70.2\n",
       "\\item 62.2\n",
       "\\end{enumerate*}\n"
      ],
      "text/markdown": [
       "1. 68.2\n",
       "2. 53\n",
       "3. 80.1\n",
       "4. 85.7\n",
       "5. 49.5\n",
       "6. 52\n",
       "7. 45.3\n",
       "8. 55\n",
       "9. 64.2\n",
       "10. 61.3\n",
       "11. 62\n",
       "12. 75.8\n",
       "13. 55.3\n",
       "14. 53.1\n",
       "15. 45.2\n",
       "16. 70.2\n",
       "17. 62.2\n",
       "\n",
       "\n"
      ],
      "text/plain": [
       " [1] 68.2 53.0 80.1 85.7 49.5 52.0 45.3 55.0 64.2 61.3 62.0 75.8 55.3 53.1 45.2\n",
       "[16] 70.2 62.2"
      ]
     },
     "metadata": {},
     "output_type": "display_data"
    }
   ],
   "source": [
    "df_csv$weight"
   ]
  },
  {
   "cell_type": "code",
   "execution_count": 11,
   "metadata": {},
   "outputs": [
    {
     "data": {
      "text/html": [
       "<table>\n",
       "<thead><tr><th scope=col>name</th></tr></thead>\n",
       "<tbody>\n",
       "\t<tr><td>김길동</td></tr>\n",
       "\t<tr><td>이미린</td></tr>\n",
       "\t<tr><td>홍길동</td></tr>\n",
       "\t<tr><td>김철수</td></tr>\n",
       "\t<tr><td>손세수</td></tr>\n",
       "\t<tr><td>박미희</td></tr>\n",
       "\t<tr><td>강수친</td></tr>\n",
       "\t<tr><td>이희수</td></tr>\n",
       "\t<tr><td>이철린</td></tr>\n",
       "\t<tr><td>방희철</td></tr>\n",
       "\t<tr><td>박수호</td></tr>\n",
       "\t<tr><td>임동민</td></tr>\n",
       "\t<tr><td>김민수</td></tr>\n",
       "\t<tr><td>이희진</td></tr>\n",
       "\t<tr><td>김미진</td></tr>\n",
       "\t<tr><td>김동수</td></tr>\n",
       "\t<tr><td>여수근</td></tr>\n",
       "</tbody>\n",
       "</table>\n"
      ],
      "text/latex": [
       "\\begin{tabular}{r|l}\n",
       " name\\\\\n",
       "\\hline\n",
       "\t 김길동\\\\\n",
       "\t 이미린\\\\\n",
       "\t 홍길동\\\\\n",
       "\t 김철수\\\\\n",
       "\t 손세수\\\\\n",
       "\t 박미희\\\\\n",
       "\t 강수친\\\\\n",
       "\t 이희수\\\\\n",
       "\t 이철린\\\\\n",
       "\t 방희철\\\\\n",
       "\t 박수호\\\\\n",
       "\t 임동민\\\\\n",
       "\t 김민수\\\\\n",
       "\t 이희진\\\\\n",
       "\t 김미진\\\\\n",
       "\t 김동수\\\\\n",
       "\t 여수근\\\\\n",
       "\\end{tabular}\n"
      ],
      "text/markdown": [
       "\n",
       "| name |\n",
       "|---|\n",
       "| 김길동 |\n",
       "| 이미린 |\n",
       "| 홍길동 |\n",
       "| 김철수 |\n",
       "| 손세수 |\n",
       "| 박미희 |\n",
       "| 강수친 |\n",
       "| 이희수 |\n",
       "| 이철린 |\n",
       "| 방희철 |\n",
       "| 박수호 |\n",
       "| 임동민 |\n",
       "| 김민수 |\n",
       "| 이희진 |\n",
       "| 김미진 |\n",
       "| 김동수 |\n",
       "| 여수근 |\n",
       "\n"
      ],
      "text/plain": [
       "   name  \n",
       "1  김길동\n",
       "2  이미린\n",
       "3  홍길동\n",
       "4  김철수\n",
       "5  손세수\n",
       "6  박미희\n",
       "7  강수친\n",
       "8  이희수\n",
       "9  이철린\n",
       "10 방희철\n",
       "11 박수호\n",
       "12 임동민\n",
       "13 김민수\n",
       "14 이희진\n",
       "15 김미진\n",
       "16 김동수\n",
       "17 여수근"
      ]
     },
     "metadata": {},
     "output_type": "display_data"
    }
   ],
   "source": [
    "# R의 인덱스는 1부터 시작\n",
    "# 이름없이 첫번째줄 인덱스로 가져올 수 있음\n",
    "df_csv[1]"
   ]
  },
  {
   "cell_type": "code",
   "execution_count": 13,
   "metadata": {},
   "outputs": [
    {
     "data": {
      "text/html": [
       "<ol class=list-inline>\n",
       "\t<li>165.3</li>\n",
       "\t<li>170.1</li>\n",
       "\t<li>175</li>\n",
       "\t<li>182.1</li>\n",
       "\t<li>168</li>\n",
       "\t<li>162</li>\n",
       "\t<li>155.2</li>\n",
       "\t<li>176.9</li>\n",
       "\t<li>178.5</li>\n",
       "\t<li>176.1</li>\n",
       "\t<li>167.1</li>\n",
       "\t<li>180</li>\n",
       "\t<li>162.2</li>\n",
       "\t<li>176.1</li>\n",
       "\t<li>158.2</li>\n",
       "\t<li>168.6</li>\n",
       "\t<li>169.2</li>\n",
       "</ol>\n"
      ],
      "text/latex": [
       "\\begin{enumerate*}\n",
       "\\item 165.3\n",
       "\\item 170.1\n",
       "\\item 175\n",
       "\\item 182.1\n",
       "\\item 168\n",
       "\\item 162\n",
       "\\item 155.2\n",
       "\\item 176.9\n",
       "\\item 178.5\n",
       "\\item 176.1\n",
       "\\item 167.1\n",
       "\\item 180\n",
       "\\item 162.2\n",
       "\\item 176.1\n",
       "\\item 158.2\n",
       "\\item 168.6\n",
       "\\item 169.2\n",
       "\\end{enumerate*}\n"
      ],
      "text/markdown": [
       "1. 165.3\n",
       "2. 170.1\n",
       "3. 175\n",
       "4. 182.1\n",
       "5. 168\n",
       "6. 162\n",
       "7. 155.2\n",
       "8. 176.9\n",
       "9. 178.5\n",
       "10. 176.1\n",
       "11. 167.1\n",
       "12. 180\n",
       "13. 162.2\n",
       "14. 176.1\n",
       "15. 158.2\n",
       "16. 168.6\n",
       "17. 169.2\n",
       "\n",
       "\n"
      ],
      "text/plain": [
       " [1] 165.3 170.1 175.0 182.1 168.0 162.0 155.2 176.9 178.5 176.1 167.1 180.0\n",
       "[13] 162.2 176.1 158.2 168.6 169.2"
      ]
     },
     "metadata": {},
     "output_type": "display_data"
    }
   ],
   "source": [
    "#데이터만 필요하다면 이중괄호   (df_csv$height와 같음)\n",
    "df_csv[[7]]"
   ]
  },
  {
   "cell_type": "code",
   "execution_count": 14,
   "metadata": {},
   "outputs": [
    {
     "data": {
      "text/html": [
       "<ol class=list-inline>\n",
       "\t<li>'numeric'</li>\n",
       "\t<li>'vector'</li>\n",
       "</ol>\n"
      ],
      "text/latex": [
       "\\begin{enumerate*}\n",
       "\\item 'numeric'\n",
       "\\item 'vector'\n",
       "\\end{enumerate*}\n"
      ],
      "text/markdown": [
       "1. 'numeric'\n",
       "2. 'vector'\n",
       "\n",
       "\n"
      ],
      "text/plain": [
       "[1] \"numeric\" \"vector\" "
      ]
     },
     "metadata": {},
     "output_type": "display_data"
    },
    {
     "data": {
      "text/html": [
       "<ol class=list-inline>\n",
       "\t<li>'numeric'</li>\n",
       "\t<li>'vector'</li>\n",
       "</ol>\n"
      ],
      "text/latex": [
       "\\begin{enumerate*}\n",
       "\\item 'numeric'\n",
       "\\item 'vector'\n",
       "\\end{enumerate*}\n"
      ],
      "text/markdown": [
       "1. 'numeric'\n",
       "2. 'vector'\n",
       "\n",
       "\n"
      ],
      "text/plain": [
       "[1] \"numeric\" \"vector\" "
      ]
     },
     "metadata": {},
     "output_type": "display_data"
    },
    {
     "data": {
      "text/html": [
       "<ol class=list-inline>\n",
       "\t<li>'data.frame'</li>\n",
       "\t<li>'list'</li>\n",
       "\t<li>'oldClass'</li>\n",
       "\t<li>'vector'</li>\n",
       "\t<li>'listOrNULL'</li>\n",
       "</ol>\n"
      ],
      "text/latex": [
       "\\begin{enumerate*}\n",
       "\\item 'data.frame'\n",
       "\\item 'list'\n",
       "\\item 'oldClass'\n",
       "\\item 'vector'\n",
       "\\item 'listOrNULL'\n",
       "\\end{enumerate*}\n"
      ],
      "text/markdown": [
       "1. 'data.frame'\n",
       "2. 'list'\n",
       "3. 'oldClass'\n",
       "4. 'vector'\n",
       "5. 'listOrNULL'\n",
       "\n",
       "\n"
      ],
      "text/plain": [
       "[1] \"data.frame\" \"list\"       \"oldClass\"   \"vector\"     \"listOrNULL\""
      ]
     },
     "metadata": {},
     "output_type": "display_data"
    }
   ],
   "source": [
    "is(df_csv$height)\n",
    "is(df_csv[[7]])\n",
    "is(df_csv[7])"
   ]
  },
  {
   "cell_type": "code",
   "execution_count": 20,
   "metadata": {},
   "outputs": [
    {
     "data": {
      "text/html": [
       "<table>\n",
       "<thead><tr><th scope=col>height</th><th scope=col>weight</th></tr></thead>\n",
       "<tbody>\n",
       "\t<tr><td>165.3</td><td>68.2 </td></tr>\n",
       "\t<tr><td>170.1</td><td>53.0 </td></tr>\n",
       "\t<tr><td>175.0</td><td>80.1 </td></tr>\n",
       "\t<tr><td>182.1</td><td>85.7 </td></tr>\n",
       "\t<tr><td>168.0</td><td>49.5 </td></tr>\n",
       "\t<tr><td>162.0</td><td>52.0 </td></tr>\n",
       "\t<tr><td>155.2</td><td>45.3 </td></tr>\n",
       "\t<tr><td>176.9</td><td>55.0 </td></tr>\n",
       "\t<tr><td>178.5</td><td>64.2 </td></tr>\n",
       "\t<tr><td>176.1</td><td>61.3 </td></tr>\n",
       "\t<tr><td>167.1</td><td>62.0 </td></tr>\n",
       "\t<tr><td>180.0</td><td>75.8 </td></tr>\n",
       "\t<tr><td>162.2</td><td>55.3 </td></tr>\n",
       "\t<tr><td>176.1</td><td>53.1 </td></tr>\n",
       "\t<tr><td>158.2</td><td>45.2 </td></tr>\n",
       "\t<tr><td>168.6</td><td>70.2 </td></tr>\n",
       "\t<tr><td>169.2</td><td>62.2 </td></tr>\n",
       "</tbody>\n",
       "</table>\n"
      ],
      "text/latex": [
       "\\begin{tabular}{r|ll}\n",
       " height & weight\\\\\n",
       "\\hline\n",
       "\t 165.3 & 68.2 \\\\\n",
       "\t 170.1 & 53.0 \\\\\n",
       "\t 175.0 & 80.1 \\\\\n",
       "\t 182.1 & 85.7 \\\\\n",
       "\t 168.0 & 49.5 \\\\\n",
       "\t 162.0 & 52.0 \\\\\n",
       "\t 155.2 & 45.3 \\\\\n",
       "\t 176.9 & 55.0 \\\\\n",
       "\t 178.5 & 64.2 \\\\\n",
       "\t 176.1 & 61.3 \\\\\n",
       "\t 167.1 & 62.0 \\\\\n",
       "\t 180.0 & 75.8 \\\\\n",
       "\t 162.2 & 55.3 \\\\\n",
       "\t 176.1 & 53.1 \\\\\n",
       "\t 158.2 & 45.2 \\\\\n",
       "\t 168.6 & 70.2 \\\\\n",
       "\t 169.2 & 62.2 \\\\\n",
       "\\end{tabular}\n"
      ],
      "text/markdown": [
       "\n",
       "| height | weight |\n",
       "|---|---|\n",
       "| 165.3 | 68.2  |\n",
       "| 170.1 | 53.0  |\n",
       "| 175.0 | 80.1  |\n",
       "| 182.1 | 85.7  |\n",
       "| 168.0 | 49.5  |\n",
       "| 162.0 | 52.0  |\n",
       "| 155.2 | 45.3  |\n",
       "| 176.9 | 55.0  |\n",
       "| 178.5 | 64.2  |\n",
       "| 176.1 | 61.3  |\n",
       "| 167.1 | 62.0  |\n",
       "| 180.0 | 75.8  |\n",
       "| 162.2 | 55.3  |\n",
       "| 176.1 | 53.1  |\n",
       "| 158.2 | 45.2  |\n",
       "| 168.6 | 70.2  |\n",
       "| 169.2 | 62.2  |\n",
       "\n"
      ],
      "text/plain": [
       "   height weight\n",
       "1  165.3  68.2  \n",
       "2  170.1  53.0  \n",
       "3  175.0  80.1  \n",
       "4  182.1  85.7  \n",
       "5  168.0  49.5  \n",
       "6  162.0  52.0  \n",
       "7  155.2  45.3  \n",
       "8  176.9  55.0  \n",
       "9  178.5  64.2  \n",
       "10 176.1  61.3  \n",
       "11 167.1  62.0  \n",
       "12 180.0  75.8  \n",
       "13 162.2  55.3  \n",
       "14 176.1  53.1  \n",
       "15 158.2  45.2  \n",
       "16 168.6  70.2  \n",
       "17 169.2  62.2  "
      ]
     },
     "metadata": {},
     "output_type": "display_data"
    }
   ],
   "source": [
    "#여러개의 변수 선택하기\n",
    "df_csv[c(7,8)]  \n",
    "# df_csv[c('height','weight')]"
   ]
  },
  {
   "cell_type": "code",
   "execution_count": 19,
   "metadata": {},
   "outputs": [
    {
     "data": {
      "text/html": [
       "<ol class=list-inline>\n",
       "\t<li>165.3</li>\n",
       "\t<li>170.1</li>\n",
       "\t<li>175</li>\n",
       "\t<li>182.1</li>\n",
       "\t<li>168</li>\n",
       "\t<li>162</li>\n",
       "\t<li>155.2</li>\n",
       "\t<li>176.9</li>\n",
       "\t<li>178.5</li>\n",
       "\t<li>176.1</li>\n",
       "\t<li>167.1</li>\n",
       "\t<li>180</li>\n",
       "\t<li>162.2</li>\n",
       "\t<li>176.1</li>\n",
       "\t<li>158.2</li>\n",
       "\t<li>168.6</li>\n",
       "\t<li>169.2</li>\n",
       "</ol>\n"
      ],
      "text/latex": [
       "\\begin{enumerate*}\n",
       "\\item 165.3\n",
       "\\item 170.1\n",
       "\\item 175\n",
       "\\item 182.1\n",
       "\\item 168\n",
       "\\item 162\n",
       "\\item 155.2\n",
       "\\item 176.9\n",
       "\\item 178.5\n",
       "\\item 176.1\n",
       "\\item 167.1\n",
       "\\item 180\n",
       "\\item 162.2\n",
       "\\item 176.1\n",
       "\\item 158.2\n",
       "\\item 168.6\n",
       "\\item 169.2\n",
       "\\end{enumerate*}\n"
      ],
      "text/markdown": [
       "1. 165.3\n",
       "2. 170.1\n",
       "3. 175\n",
       "4. 182.1\n",
       "5. 168\n",
       "6. 162\n",
       "7. 155.2\n",
       "8. 176.9\n",
       "9. 178.5\n",
       "10. 176.1\n",
       "11. 167.1\n",
       "12. 180\n",
       "13. 162.2\n",
       "14. 176.1\n",
       "15. 158.2\n",
       "16. 168.6\n",
       "17. 169.2\n",
       "\n",
       "\n"
      ],
      "text/plain": [
       " [1] 165.3 170.1 175.0 182.1 168.0 162.0 155.2 176.9 178.5 176.1 167.1 180.0\n",
       "[13] 162.2 176.1 158.2 168.6 169.2"
      ]
     },
     "metadata": {},
     "output_type": "display_data"
    }
   ],
   "source": [
    "#7번째 열(키) 다가져오기\n",
    "df_csv[,7]"
   ]
  },
  {
   "cell_type": "code",
   "execution_count": 26,
   "metadata": {},
   "outputs": [
    {
     "data": {
      "text/html": [
       "<table>\n",
       "<thead><tr><th></th><th scope=col>name</th><th scope=col>sex</th><th scope=col>age</th><th scope=col>grade</th><th scope=col>absence</th><th scope=col>bloodtype</th><th scope=col>height</th><th scope=col>weight</th></tr></thead>\n",
       "<tbody>\n",
       "\t<tr><th scope=row>2</th><td>이미린</td><td>여자  </td><td>22    </td><td>2     </td><td>무    </td><td>AB    </td><td>170.1 </td><td>53    </td></tr>\n",
       "</tbody>\n",
       "</table>\n"
      ],
      "text/latex": [
       "\\begin{tabular}{r|llllllll}\n",
       "  & name & sex & age & grade & absence & bloodtype & height & weight\\\\\n",
       "\\hline\n",
       "\t2 & 이미린 & 여자   & 22     & 2      & 무     & AB     & 170.1  & 53    \\\\\n",
       "\\end{tabular}\n"
      ],
      "text/markdown": [
       "\n",
       "| <!--/--> | name | sex | age | grade | absence | bloodtype | height | weight |\n",
       "|---|---|---|---|---|---|---|---|---|\n",
       "| 2 | 이미린 | 여자   | 22     | 2      | 무     | AB     | 170.1  | 53     |\n",
       "\n"
      ],
      "text/plain": [
       "  name   sex  age grade absence bloodtype height weight\n",
       "2 이미린 여자 22  2     무      AB        170.1  53    "
      ]
     },
     "metadata": {},
     "output_type": "display_data"
    }
   ],
   "source": [
    "#2번재 행(이미린) 다가져오기\n",
    "df_raw2=df_csv[2,]\n",
    "df_raw2"
   ]
  },
  {
   "cell_type": "code",
   "execution_count": 27,
   "metadata": {},
   "outputs": [
    {
     "data": {
      "text/html": [
       "<table>\n",
       "<thead><tr><th></th><th scope=col>name</th></tr></thead>\n",
       "<tbody>\n",
       "\t<tr><th scope=row>2</th><td>이미린</td></tr>\n",
       "</tbody>\n",
       "</table>\n"
      ],
      "text/latex": [
       "\\begin{tabular}{r|l}\n",
       "  & name\\\\\n",
       "\\hline\n",
       "\t2 & 이미린\\\\\n",
       "\\end{tabular}\n"
      ],
      "text/markdown": [
       "\n",
       "| <!--/--> | name |\n",
       "|---|---|\n",
       "| 2 | 이미린 |\n",
       "\n"
      ],
      "text/plain": [
       "  name  \n",
       "2 이미린"
      ]
     },
     "metadata": {},
     "output_type": "display_data"
    },
    {
     "data": {
      "text/html": [
       "<table>\n",
       "<thead><tr><th></th><th scope=col>name</th></tr></thead>\n",
       "<tbody>\n",
       "\t<tr><th scope=row>2</th><td>이미린</td></tr>\n",
       "</tbody>\n",
       "</table>\n"
      ],
      "text/latex": [
       "\\begin{tabular}{r|l}\n",
       "  & name\\\\\n",
       "\\hline\n",
       "\t2 & 이미린\\\\\n",
       "\\end{tabular}\n"
      ],
      "text/markdown": [
       "\n",
       "| <!--/--> | name |\n",
       "|---|---|\n",
       "| 2 | 이미린 |\n",
       "\n"
      ],
      "text/plain": [
       "  name  \n",
       "2 이미린"
      ]
     },
     "metadata": {},
     "output_type": "display_data"
    }
   ],
   "source": [
    "df_raw2[1]\n",
    "df_raw2['name']"
   ]
  },
  {
   "cell_type": "code",
   "execution_count": 29,
   "metadata": {},
   "outputs": [],
   "source": [
    "df_csv2 <- read.csv('r-ggagi-data/example_studentlist.csv', stringsAsFactors = F)"
   ]
  },
  {
   "cell_type": "code",
   "execution_count": 30,
   "metadata": {},
   "outputs": [
    {
     "name": "stdout",
     "output_type": "stream",
     "text": [
      "'data.frame':\t17 obs. of  8 variables:\n",
      " $ name     : Factor w/ 17 levels \"강수친\",\"김길동\",..: 2 12 17 6 10 7 1 14 13 9 ...\n",
      " $ sex      : Factor w/ 2 levels \"남자\",\"여자\": 1 2 1 1 2 2 2 2 1 1 ...\n",
      " $ age      : int  23 22 24 23 20 21 22 23 23 22 ...\n",
      " $ grade    : int  3 2 4 3 1 2 1 1 3 2 ...\n",
      " $ absence  : Factor w/ 2 levels \"무\",\"유\": 2 1 1 1 2 1 1 1 1 1 ...\n",
      " $ bloodtype: Factor w/ 4 levels \"A\",\"AB\",\"B\",\"O\": 4 2 3 2 1 4 4 1 3 3 ...\n",
      " $ height   : num  165 170 175 182 168 ...\n",
      " $ weight   : num  68.2 53 80.1 85.7 49.5 52 45.3 55 64.2 61.3 ...\n"
     ]
    }
   ],
   "source": [
    "str(df_csv)"
   ]
  },
  {
   "cell_type": "code",
   "execution_count": 31,
   "metadata": {},
   "outputs": [
    {
     "data": {
      "text/html": [
       "<ol class=list-inline>\n",
       "\t<li>'.GlobalEnv'</li>\n",
       "\t<li>'jupyter:irkernel'</li>\n",
       "\t<li>'package:stats'</li>\n",
       "\t<li>'package:graphics'</li>\n",
       "\t<li>'package:grDevices'</li>\n",
       "\t<li>'package:utils'</li>\n",
       "\t<li>'package:datasets'</li>\n",
       "\t<li>'package:methods'</li>\n",
       "\t<li>'Autoloads'</li>\n",
       "\t<li>'package:base'</li>\n",
       "</ol>\n"
      ],
      "text/latex": [
       "\\begin{enumerate*}\n",
       "\\item '.GlobalEnv'\n",
       "\\item 'jupyter:irkernel'\n",
       "\\item 'package:stats'\n",
       "\\item 'package:graphics'\n",
       "\\item 'package:grDevices'\n",
       "\\item 'package:utils'\n",
       "\\item 'package:datasets'\n",
       "\\item 'package:methods'\n",
       "\\item 'Autoloads'\n",
       "\\item 'package:base'\n",
       "\\end{enumerate*}\n"
      ],
      "text/markdown": [
       "1. '.GlobalEnv'\n",
       "2. 'jupyter:irkernel'\n",
       "3. 'package:stats'\n",
       "4. 'package:graphics'\n",
       "5. 'package:grDevices'\n",
       "6. 'package:utils'\n",
       "7. 'package:datasets'\n",
       "8. 'package:methods'\n",
       "9. 'Autoloads'\n",
       "10. 'package:base'\n",
       "\n",
       "\n"
      ],
      "text/plain": [
       " [1] \".GlobalEnv\"        \"jupyter:irkernel\"  \"package:stats\"    \n",
       " [4] \"package:graphics\"  \"package:grDevices\" \"package:utils\"    \n",
       " [7] \"package:datasets\"  \"package:methods\"   \"Autoloads\"        \n",
       "[10] \"package:base\"     "
      ]
     },
     "metadata": {},
     "output_type": "display_data"
    }
   ],
   "source": [
    "search()"
   ]
  },
  {
   "cell_type": "code",
   "execution_count": 32,
   "metadata": {},
   "outputs": [],
   "source": [
    "# 검색 목록에 추가\n",
    "attach(df_csv)"
   ]
  },
  {
   "cell_type": "code",
   "execution_count": 33,
   "metadata": {},
   "outputs": [
    {
     "data": {
      "text/html": [
       "<ol class=list-inline>\n",
       "\t<li>'.GlobalEnv'</li>\n",
       "\t<li>'df_csv'</li>\n",
       "\t<li>'jupyter:irkernel'</li>\n",
       "\t<li>'package:stats'</li>\n",
       "\t<li>'package:graphics'</li>\n",
       "\t<li>'package:grDevices'</li>\n",
       "\t<li>'package:utils'</li>\n",
       "\t<li>'package:datasets'</li>\n",
       "\t<li>'package:methods'</li>\n",
       "\t<li>'Autoloads'</li>\n",
       "\t<li>'package:base'</li>\n",
       "</ol>\n"
      ],
      "text/latex": [
       "\\begin{enumerate*}\n",
       "\\item '.GlobalEnv'\n",
       "\\item 'df\\_csv'\n",
       "\\item 'jupyter:irkernel'\n",
       "\\item 'package:stats'\n",
       "\\item 'package:graphics'\n",
       "\\item 'package:grDevices'\n",
       "\\item 'package:utils'\n",
       "\\item 'package:datasets'\n",
       "\\item 'package:methods'\n",
       "\\item 'Autoloads'\n",
       "\\item 'package:base'\n",
       "\\end{enumerate*}\n"
      ],
      "text/markdown": [
       "1. '.GlobalEnv'\n",
       "2. 'df_csv'\n",
       "3. 'jupyter:irkernel'\n",
       "4. 'package:stats'\n",
       "5. 'package:graphics'\n",
       "6. 'package:grDevices'\n",
       "7. 'package:utils'\n",
       "8. 'package:datasets'\n",
       "9. 'package:methods'\n",
       "10. 'Autoloads'\n",
       "11. 'package:base'\n",
       "\n",
       "\n"
      ],
      "text/plain": [
       " [1] \".GlobalEnv\"        \"df_csv\"            \"jupyter:irkernel\" \n",
       " [4] \"package:stats\"     \"package:graphics\"  \"package:grDevices\"\n",
       " [7] \"package:utils\"     \"package:datasets\"  \"package:methods\"  \n",
       "[10] \"Autoloads\"         \"package:base\"     "
      ]
     },
     "metadata": {},
     "output_type": "display_data"
    }
   ],
   "source": [
    "search()"
   ]
  },
  {
   "cell_type": "code",
   "execution_count": 34,
   "metadata": {},
   "outputs": [
    {
     "data": {
      "text/html": [
       "<ol class=list-inline>\n",
       "\t<li>165.3</li>\n",
       "\t<li>170.1</li>\n",
       "\t<li>175</li>\n",
       "\t<li>182.1</li>\n",
       "\t<li>168</li>\n",
       "\t<li>162</li>\n",
       "\t<li>155.2</li>\n",
       "\t<li>176.9</li>\n",
       "\t<li>178.5</li>\n",
       "\t<li>176.1</li>\n",
       "\t<li>167.1</li>\n",
       "\t<li>180</li>\n",
       "\t<li>162.2</li>\n",
       "\t<li>176.1</li>\n",
       "\t<li>158.2</li>\n",
       "\t<li>168.6</li>\n",
       "\t<li>169.2</li>\n",
       "</ol>\n"
      ],
      "text/latex": [
       "\\begin{enumerate*}\n",
       "\\item 165.3\n",
       "\\item 170.1\n",
       "\\item 175\n",
       "\\item 182.1\n",
       "\\item 168\n",
       "\\item 162\n",
       "\\item 155.2\n",
       "\\item 176.9\n",
       "\\item 178.5\n",
       "\\item 176.1\n",
       "\\item 167.1\n",
       "\\item 180\n",
       "\\item 162.2\n",
       "\\item 176.1\n",
       "\\item 158.2\n",
       "\\item 168.6\n",
       "\\item 169.2\n",
       "\\end{enumerate*}\n"
      ],
      "text/markdown": [
       "1. 165.3\n",
       "2. 170.1\n",
       "3. 175\n",
       "4. 182.1\n",
       "5. 168\n",
       "6. 162\n",
       "7. 155.2\n",
       "8. 176.9\n",
       "9. 178.5\n",
       "10. 176.1\n",
       "11. 167.1\n",
       "12. 180\n",
       "13. 162.2\n",
       "14. 176.1\n",
       "15. 158.2\n",
       "16. 168.6\n",
       "17. 169.2\n",
       "\n",
       "\n"
      ],
      "text/plain": [
       " [1] 165.3 170.1 175.0 182.1 168.0 162.0 155.2 176.9 178.5 176.1 167.1 180.0\n",
       "[13] 162.2 176.1 158.2 168.6 169.2"
      ]
     },
     "metadata": {},
     "output_type": "display_data"
    }
   ],
   "source": [
    "height"
   ]
  },
  {
   "cell_type": "code",
   "execution_count": 37,
   "metadata": {},
   "outputs": [],
   "source": [
    "# 검색 목록 삭제\n",
    "detach(df_csv)"
   ]
  },
  {
   "cell_type": "code",
   "execution_count": 39,
   "metadata": {},
   "outputs": [
    {
     "data": {
      "text/html": [
       "<table>\n",
       "<thead><tr><th></th><th scope=col>name</th><th scope=col>sex</th><th scope=col>age</th><th scope=col>grade</th><th scope=col>absence</th><th scope=col>bloodtype</th><th scope=col>height</th><th scope=col>weight</th></tr></thead>\n",
       "<tbody>\n",
       "\t<tr><th scope=row>2</th><td>이미린</td><td>여자  </td><td>22    </td><td>2     </td><td>무    </td><td>AB    </td><td>170.1 </td><td>53.0  </td></tr>\n",
       "\t<tr><th scope=row>3</th><td>홍길동</td><td>남자  </td><td>24    </td><td>4     </td><td>무    </td><td>B     </td><td>175.0 </td><td>80.1  </td></tr>\n",
       "\t<tr><th scope=row>4</th><td>김철수</td><td>남자  </td><td>23    </td><td>3     </td><td>무    </td><td>AB    </td><td>182.1 </td><td>85.7  </td></tr>\n",
       "\t<tr><th scope=row>8</th><td>이희수</td><td>여자  </td><td>23    </td><td>1     </td><td>무    </td><td>A     </td><td>176.9 </td><td>55.0  </td></tr>\n",
       "\t<tr><th scope=row>9</th><td>이철린</td><td>남자  </td><td>23    </td><td>3     </td><td>무    </td><td>B     </td><td>178.5 </td><td>64.2  </td></tr>\n",
       "\t<tr><th scope=row>10</th><td>방희철</td><td>남자  </td><td>22    </td><td>2     </td><td>무    </td><td>B     </td><td>176.1 </td><td>61.3  </td></tr>\n",
       "\t<tr><th scope=row>12</th><td>임동민</td><td>남자  </td><td>22    </td><td>2     </td><td>무    </td><td>AB    </td><td>180.0 </td><td>75.8  </td></tr>\n",
       "\t<tr><th scope=row>14</th><td>이희진</td><td>여자  </td><td>23    </td><td>3     </td><td>무    </td><td>O     </td><td>176.1 </td><td>53.1  </td></tr>\n",
       "</tbody>\n",
       "</table>\n"
      ],
      "text/latex": [
       "\\begin{tabular}{r|llllllll}\n",
       "  & name & sex & age & grade & absence & bloodtype & height & weight\\\\\n",
       "\\hline\n",
       "\t2 & 이미린 & 여자   & 22     & 2      & 무     & AB     & 170.1  & 53.0  \\\\\n",
       "\t3 & 홍길동 & 남자   & 24     & 4      & 무     & B      & 175.0  & 80.1  \\\\\n",
       "\t4 & 김철수 & 남자   & 23     & 3      & 무     & AB     & 182.1  & 85.7  \\\\\n",
       "\t8 & 이희수 & 여자   & 23     & 1      & 무     & A      & 176.9  & 55.0  \\\\\n",
       "\t9 & 이철린 & 남자   & 23     & 3      & 무     & B      & 178.5  & 64.2  \\\\\n",
       "\t10 & 방희철 & 남자   & 22     & 2      & 무     & B      & 176.1  & 61.3  \\\\\n",
       "\t12 & 임동민 & 남자   & 22     & 2      & 무     & AB     & 180.0  & 75.8  \\\\\n",
       "\t14 & 이희진 & 여자   & 23     & 3      & 무     & O      & 176.1  & 53.1  \\\\\n",
       "\\end{tabular}\n"
      ],
      "text/markdown": [
       "\n",
       "| <!--/--> | name | sex | age | grade | absence | bloodtype | height | weight |\n",
       "|---|---|---|---|---|---|---|---|---|\n",
       "| 2 | 이미린 | 여자   | 22     | 2      | 무     | AB     | 170.1  | 53.0   |\n",
       "| 3 | 홍길동 | 남자   | 24     | 4      | 무     | B      | 175.0  | 80.1   |\n",
       "| 4 | 김철수 | 남자   | 23     | 3      | 무     | AB     | 182.1  | 85.7   |\n",
       "| 8 | 이희수 | 여자   | 23     | 1      | 무     | A      | 176.9  | 55.0   |\n",
       "| 9 | 이철린 | 남자   | 23     | 3      | 무     | B      | 178.5  | 64.2   |\n",
       "| 10 | 방희철 | 남자   | 22     | 2      | 무     | B      | 176.1  | 61.3   |\n",
       "| 12 | 임동민 | 남자   | 22     | 2      | 무     | AB     | 180.0  | 75.8   |\n",
       "| 14 | 이희진 | 여자   | 23     | 3      | 무     | O      | 176.1  | 53.1   |\n",
       "\n"
      ],
      "text/plain": [
       "   name   sex  age grade absence bloodtype height weight\n",
       "2  이미린 여자 22  2     무      AB        170.1  53.0  \n",
       "3  홍길동 남자 24  4     무      B         175.0  80.1  \n",
       "4  김철수 남자 23  3     무      AB        182.1  85.7  \n",
       "8  이희수 여자 23  1     무      A         176.9  55.0  \n",
       "9  이철린 남자 23  3     무      B         178.5  64.2  \n",
       "10 방희철 남자 22  2     무      B         176.1  61.3  \n",
       "12 임동민 남자 22  2     무      AB        180.0  75.8  \n",
       "14 이희진 여자 23  3     무      O         176.1  53.1  "
      ]
     },
     "metadata": {},
     "output_type": "display_data"
    }
   ],
   "source": [
    "# 조건으로 변수선택 \n",
    "#키가 170보다 큰 관측치\n",
    "subset(df_csv, subset =(height>170))"
   ]
  },
  {
   "cell_type": "code",
   "execution_count": 40,
   "metadata": {},
   "outputs": [
    {
     "data": {
      "text/html": [
       "<table>\n",
       "<thead><tr><th scope=col>name</th><th scope=col>sex</th><th scope=col>age</th><th scope=col>grade</th><th scope=col>absence</th><th scope=col>bloodtype</th><th scope=col>weight</th></tr></thead>\n",
       "<tbody>\n",
       "\t<tr><td>김길동</td><td>남자  </td><td>23    </td><td>3     </td><td>유    </td><td>O     </td><td>68.2  </td></tr>\n",
       "\t<tr><td>이미린</td><td>여자  </td><td>22    </td><td>2     </td><td>무    </td><td>AB    </td><td>53.0  </td></tr>\n",
       "\t<tr><td>홍길동</td><td>남자  </td><td>24    </td><td>4     </td><td>무    </td><td>B     </td><td>80.1  </td></tr>\n",
       "\t<tr><td>김철수</td><td>남자  </td><td>23    </td><td>3     </td><td>무    </td><td>AB    </td><td>85.7  </td></tr>\n",
       "\t<tr><td>손세수</td><td>여자  </td><td>20    </td><td>1     </td><td>유    </td><td>A     </td><td>49.5  </td></tr>\n",
       "\t<tr><td>박미희</td><td>여자  </td><td>21    </td><td>2     </td><td>무    </td><td>O     </td><td>52.0  </td></tr>\n",
       "\t<tr><td>강수친</td><td>여자  </td><td>22    </td><td>1     </td><td>무    </td><td>O     </td><td>45.3  </td></tr>\n",
       "\t<tr><td>이희수</td><td>여자  </td><td>23    </td><td>1     </td><td>무    </td><td>A     </td><td>55.0  </td></tr>\n",
       "\t<tr><td>이철린</td><td>남자  </td><td>23    </td><td>3     </td><td>무    </td><td>B     </td><td>64.2  </td></tr>\n",
       "\t<tr><td>방희철</td><td>남자  </td><td>22    </td><td>2     </td><td>무    </td><td>B     </td><td>61.3  </td></tr>\n",
       "\t<tr><td>박수호</td><td>남자  </td><td>24    </td><td>4     </td><td>유    </td><td>O     </td><td>62.0  </td></tr>\n",
       "\t<tr><td>임동민</td><td>남자  </td><td>22    </td><td>2     </td><td>무    </td><td>AB    </td><td>75.8  </td></tr>\n",
       "\t<tr><td>김민수</td><td>남자  </td><td>21    </td><td>1     </td><td>무    </td><td>A     </td><td>55.3  </td></tr>\n",
       "\t<tr><td>이희진</td><td>여자  </td><td>23    </td><td>3     </td><td>무    </td><td>O     </td><td>53.1  </td></tr>\n",
       "\t<tr><td>김미진</td><td>여자  </td><td>22    </td><td>2     </td><td>무    </td><td>B     </td><td>45.2  </td></tr>\n",
       "\t<tr><td>김동수</td><td>남자  </td><td>24    </td><td>4     </td><td>유    </td><td>B     </td><td>70.2  </td></tr>\n",
       "\t<tr><td>여수근</td><td>남자  </td><td>21    </td><td>1     </td><td>무    </td><td>A     </td><td>62.2  </td></tr>\n",
       "</tbody>\n",
       "</table>\n"
      ],
      "text/latex": [
       "\\begin{tabular}{r|lllllll}\n",
       " name & sex & age & grade & absence & bloodtype & weight\\\\\n",
       "\\hline\n",
       "\t 김길동 & 남자   & 23     & 3      & 유     & O      & 68.2  \\\\\n",
       "\t 이미린 & 여자   & 22     & 2      & 무     & AB     & 53.0  \\\\\n",
       "\t 홍길동 & 남자   & 24     & 4      & 무     & B      & 80.1  \\\\\n",
       "\t 김철수 & 남자   & 23     & 3      & 무     & AB     & 85.7  \\\\\n",
       "\t 손세수 & 여자   & 20     & 1      & 유     & A      & 49.5  \\\\\n",
       "\t 박미희 & 여자   & 21     & 2      & 무     & O      & 52.0  \\\\\n",
       "\t 강수친 & 여자   & 22     & 1      & 무     & O      & 45.3  \\\\\n",
       "\t 이희수 & 여자   & 23     & 1      & 무     & A      & 55.0  \\\\\n",
       "\t 이철린 & 남자   & 23     & 3      & 무     & B      & 64.2  \\\\\n",
       "\t 방희철 & 남자   & 22     & 2      & 무     & B      & 61.3  \\\\\n",
       "\t 박수호 & 남자   & 24     & 4      & 유     & O      & 62.0  \\\\\n",
       "\t 임동민 & 남자   & 22     & 2      & 무     & AB     & 75.8  \\\\\n",
       "\t 김민수 & 남자   & 21     & 1      & 무     & A      & 55.3  \\\\\n",
       "\t 이희진 & 여자   & 23     & 3      & 무     & O      & 53.1  \\\\\n",
       "\t 김미진 & 여자   & 22     & 2      & 무     & B      & 45.2  \\\\\n",
       "\t 김동수 & 남자   & 24     & 4      & 유     & B      & 70.2  \\\\\n",
       "\t 여수근 & 남자   & 21     & 1      & 무     & A      & 62.2  \\\\\n",
       "\\end{tabular}\n"
      ],
      "text/markdown": [
       "\n",
       "| name | sex | age | grade | absence | bloodtype | weight |\n",
       "|---|---|---|---|---|---|---|\n",
       "| 김길동 | 남자   | 23     | 3      | 유     | O      | 68.2   |\n",
       "| 이미린 | 여자   | 22     | 2      | 무     | AB     | 53.0   |\n",
       "| 홍길동 | 남자   | 24     | 4      | 무     | B      | 80.1   |\n",
       "| 김철수 | 남자   | 23     | 3      | 무     | AB     | 85.7   |\n",
       "| 손세수 | 여자   | 20     | 1      | 유     | A      | 49.5   |\n",
       "| 박미희 | 여자   | 21     | 2      | 무     | O      | 52.0   |\n",
       "| 강수친 | 여자   | 22     | 1      | 무     | O      | 45.3   |\n",
       "| 이희수 | 여자   | 23     | 1      | 무     | A      | 55.0   |\n",
       "| 이철린 | 남자   | 23     | 3      | 무     | B      | 64.2   |\n",
       "| 방희철 | 남자   | 22     | 2      | 무     | B      | 61.3   |\n",
       "| 박수호 | 남자   | 24     | 4      | 유     | O      | 62.0   |\n",
       "| 임동민 | 남자   | 22     | 2      | 무     | AB     | 75.8   |\n",
       "| 김민수 | 남자   | 21     | 1      | 무     | A      | 55.3   |\n",
       "| 이희진 | 여자   | 23     | 3      | 무     | O      | 53.1   |\n",
       "| 김미진 | 여자   | 22     | 2      | 무     | B      | 45.2   |\n",
       "| 김동수 | 남자   | 24     | 4      | 유     | B      | 70.2   |\n",
       "| 여수근 | 남자   | 21     | 1      | 무     | A      | 62.2   |\n",
       "\n"
      ],
      "text/plain": [
       "   name   sex  age grade absence bloodtype weight\n",
       "1  김길동 남자 23  3     유      O         68.2  \n",
       "2  이미린 여자 22  2     무      AB        53.0  \n",
       "3  홍길동 남자 24  4     무      B         80.1  \n",
       "4  김철수 남자 23  3     무      AB        85.7  \n",
       "5  손세수 여자 20  1     유      A         49.5  \n",
       "6  박미희 여자 21  2     무      O         52.0  \n",
       "7  강수친 여자 22  1     무      O         45.3  \n",
       "8  이희수 여자 23  1     무      A         55.0  \n",
       "9  이철린 남자 23  3     무      B         64.2  \n",
       "10 방희철 남자 22  2     무      B         61.3  \n",
       "11 박수호 남자 24  4     유      O         62.0  \n",
       "12 임동민 남자 22  2     무      AB        75.8  \n",
       "13 김민수 남자 21  1     무      A         55.3  \n",
       "14 이희진 여자 23  3     무      O         53.1  \n",
       "15 김미진 여자 22  2     무      B         45.2  \n",
       "16 김동수 남자 24  4     유      B         70.2  \n",
       "17 여수근 남자 21  1     무      A         62.2  "
      ]
     },
     "metadata": {},
     "output_type": "display_data"
    }
   ],
   "source": [
    "#특정변수(height) 빼고 보기\n",
    "subset(df_csv, select = -height)"
   ]
  },
  {
   "cell_type": "code",
   "execution_count": 41,
   "metadata": {},
   "outputs": [
    {
     "data": {
      "text/html": [
       "<table>\n",
       "<thead><tr><th scope=col>name</th><th scope=col>sex</th><th scope=col>age</th><th scope=col>grade</th><th scope=col>absence</th><th scope=col>bloodtype</th></tr></thead>\n",
       "<tbody>\n",
       "\t<tr><td>김길동</td><td>남자  </td><td>23    </td><td>3     </td><td>유    </td><td>O     </td></tr>\n",
       "\t<tr><td>이미린</td><td>여자  </td><td>22    </td><td>2     </td><td>무    </td><td>AB    </td></tr>\n",
       "\t<tr><td>홍길동</td><td>남자  </td><td>24    </td><td>4     </td><td>무    </td><td>B     </td></tr>\n",
       "\t<tr><td>김철수</td><td>남자  </td><td>23    </td><td>3     </td><td>무    </td><td>AB    </td></tr>\n",
       "\t<tr><td>손세수</td><td>여자  </td><td>20    </td><td>1     </td><td>유    </td><td>A     </td></tr>\n",
       "\t<tr><td>박미희</td><td>여자  </td><td>21    </td><td>2     </td><td>무    </td><td>O     </td></tr>\n",
       "\t<tr><td>강수친</td><td>여자  </td><td>22    </td><td>1     </td><td>무    </td><td>O     </td></tr>\n",
       "\t<tr><td>이희수</td><td>여자  </td><td>23    </td><td>1     </td><td>무    </td><td>A     </td></tr>\n",
       "\t<tr><td>이철린</td><td>남자  </td><td>23    </td><td>3     </td><td>무    </td><td>B     </td></tr>\n",
       "\t<tr><td>방희철</td><td>남자  </td><td>22    </td><td>2     </td><td>무    </td><td>B     </td></tr>\n",
       "\t<tr><td>박수호</td><td>남자  </td><td>24    </td><td>4     </td><td>유    </td><td>O     </td></tr>\n",
       "\t<tr><td>임동민</td><td>남자  </td><td>22    </td><td>2     </td><td>무    </td><td>AB    </td></tr>\n",
       "\t<tr><td>김민수</td><td>남자  </td><td>21    </td><td>1     </td><td>무    </td><td>A     </td></tr>\n",
       "\t<tr><td>이희진</td><td>여자  </td><td>23    </td><td>3     </td><td>무    </td><td>O     </td></tr>\n",
       "\t<tr><td>김미진</td><td>여자  </td><td>22    </td><td>2     </td><td>무    </td><td>B     </td></tr>\n",
       "\t<tr><td>김동수</td><td>남자  </td><td>24    </td><td>4     </td><td>유    </td><td>B     </td></tr>\n",
       "\t<tr><td>여수근</td><td>남자  </td><td>21    </td><td>1     </td><td>무    </td><td>A     </td></tr>\n",
       "</tbody>\n",
       "</table>\n"
      ],
      "text/latex": [
       "\\begin{tabular}{r|llllll}\n",
       " name & sex & age & grade & absence & bloodtype\\\\\n",
       "\\hline\n",
       "\t 김길동 & 남자   & 23     & 3      & 유     & O     \\\\\n",
       "\t 이미린 & 여자   & 22     & 2      & 무     & AB    \\\\\n",
       "\t 홍길동 & 남자   & 24     & 4      & 무     & B     \\\\\n",
       "\t 김철수 & 남자   & 23     & 3      & 무     & AB    \\\\\n",
       "\t 손세수 & 여자   & 20     & 1      & 유     & A     \\\\\n",
       "\t 박미희 & 여자   & 21     & 2      & 무     & O     \\\\\n",
       "\t 강수친 & 여자   & 22     & 1      & 무     & O     \\\\\n",
       "\t 이희수 & 여자   & 23     & 1      & 무     & A     \\\\\n",
       "\t 이철린 & 남자   & 23     & 3      & 무     & B     \\\\\n",
       "\t 방희철 & 남자   & 22     & 2      & 무     & B     \\\\\n",
       "\t 박수호 & 남자   & 24     & 4      & 유     & O     \\\\\n",
       "\t 임동민 & 남자   & 22     & 2      & 무     & AB    \\\\\n",
       "\t 김민수 & 남자   & 21     & 1      & 무     & A     \\\\\n",
       "\t 이희진 & 여자   & 23     & 3      & 무     & O     \\\\\n",
       "\t 김미진 & 여자   & 22     & 2      & 무     & B     \\\\\n",
       "\t 김동수 & 남자   & 24     & 4      & 유     & B     \\\\\n",
       "\t 여수근 & 남자   & 21     & 1      & 무     & A     \\\\\n",
       "\\end{tabular}\n"
      ],
      "text/markdown": [
       "\n",
       "| name | sex | age | grade | absence | bloodtype |\n",
       "|---|---|---|---|---|---|\n",
       "| 김길동 | 남자   | 23     | 3      | 유     | O      |\n",
       "| 이미린 | 여자   | 22     | 2      | 무     | AB     |\n",
       "| 홍길동 | 남자   | 24     | 4      | 무     | B      |\n",
       "| 김철수 | 남자   | 23     | 3      | 무     | AB     |\n",
       "| 손세수 | 여자   | 20     | 1      | 유     | A      |\n",
       "| 박미희 | 여자   | 21     | 2      | 무     | O      |\n",
       "| 강수친 | 여자   | 22     | 1      | 무     | O      |\n",
       "| 이희수 | 여자   | 23     | 1      | 무     | A      |\n",
       "| 이철린 | 남자   | 23     | 3      | 무     | B      |\n",
       "| 방희철 | 남자   | 22     | 2      | 무     | B      |\n",
       "| 박수호 | 남자   | 24     | 4      | 유     | O      |\n",
       "| 임동민 | 남자   | 22     | 2      | 무     | AB     |\n",
       "| 김민수 | 남자   | 21     | 1      | 무     | A      |\n",
       "| 이희진 | 여자   | 23     | 3      | 무     | O      |\n",
       "| 김미진 | 여자   | 22     | 2      | 무     | B      |\n",
       "| 김동수 | 남자   | 24     | 4      | 유     | B      |\n",
       "| 여수근 | 남자   | 21     | 1      | 무     | A      |\n",
       "\n"
      ],
      "text/plain": [
       "   name   sex  age grade absence bloodtype\n",
       "1  김길동 남자 23  3     유      O        \n",
       "2  이미린 여자 22  2     무      AB       \n",
       "3  홍길동 남자 24  4     무      B        \n",
       "4  김철수 남자 23  3     무      AB       \n",
       "5  손세수 여자 20  1     유      A        \n",
       "6  박미희 여자 21  2     무      O        \n",
       "7  강수친 여자 22  1     무      O        \n",
       "8  이희수 여자 23  1     무      A        \n",
       "9  이철린 남자 23  3     무      B        \n",
       "10 방희철 남자 22  2     무      B        \n",
       "11 박수호 남자 24  4     유      O        \n",
       "12 임동민 남자 22  2     무      AB       \n",
       "13 김민수 남자 21  1     무      A        \n",
       "14 이희진 여자 23  3     무      O        \n",
       "15 김미진 여자 22  2     무      B        \n",
       "16 김동수 남자 24  4     유      B        \n",
       "17 여수근 남자 21  1     무      A        "
      ]
     },
     "metadata": {},
     "output_type": "display_data"
    }
   ],
   "source": [
    "#height, weight 두개빼기\n",
    "subset(df_csv, select = c(-height,-weight))"
   ]
  },
  {
   "cell_type": "code",
   "execution_count": 42,
   "metadata": {},
   "outputs": [
    {
     "data": {
      "text/html": [
       "<ol class=list-inline>\n",
       "\t<li>'name'</li>\n",
       "\t<li>'sex'</li>\n",
       "\t<li>'age'</li>\n",
       "\t<li>'grade'</li>\n",
       "\t<li>'absence'</li>\n",
       "\t<li>'bloodtype'</li>\n",
       "\t<li>'height'</li>\n",
       "\t<li>'weight'</li>\n",
       "</ol>\n"
      ],
      "text/latex": [
       "\\begin{enumerate*}\n",
       "\\item 'name'\n",
       "\\item 'sex'\n",
       "\\item 'age'\n",
       "\\item 'grade'\n",
       "\\item 'absence'\n",
       "\\item 'bloodtype'\n",
       "\\item 'height'\n",
       "\\item 'weight'\n",
       "\\end{enumerate*}\n"
      ],
      "text/markdown": [
       "1. 'name'\n",
       "2. 'sex'\n",
       "3. 'age'\n",
       "4. 'grade'\n",
       "5. 'absence'\n",
       "6. 'bloodtype'\n",
       "7. 'height'\n",
       "8. 'weight'\n",
       "\n",
       "\n"
      ],
      "text/plain": [
       "[1] \"name\"      \"sex\"       \"age\"       \"grade\"     \"absence\"   \"bloodtype\"\n",
       "[7] \"height\"    \"weight\"   "
      ]
     },
     "metadata": {},
     "output_type": "display_data"
    }
   ],
   "source": [
    "#변수명 확인\n",
    "colnames(df_csv)"
   ]
  },
  {
   "cell_type": "code",
   "execution_count": 43,
   "metadata": {},
   "outputs": [
    {
     "data": {
      "text/html": [
       "<table>\n",
       "<thead><tr><th scope=col>name</th><th scope=col>sex</th><th scope=col>age</th><th scope=col>grade</th><th scope=col>absence</th><th scope=col>blood</th><th scope=col>height</th><th scope=col>weight</th></tr></thead>\n",
       "<tbody>\n",
       "\t<tr><td>김길동</td><td>남자  </td><td>23    </td><td>3     </td><td>유    </td><td>O     </td><td>165.3 </td><td>68.2  </td></tr>\n",
       "\t<tr><td>이미린</td><td>여자  </td><td>22    </td><td>2     </td><td>무    </td><td>AB    </td><td>170.1 </td><td>53.0  </td></tr>\n",
       "\t<tr><td>홍길동</td><td>남자  </td><td>24    </td><td>4     </td><td>무    </td><td>B     </td><td>175.0 </td><td>80.1  </td></tr>\n",
       "\t<tr><td>김철수</td><td>남자  </td><td>23    </td><td>3     </td><td>무    </td><td>AB    </td><td>182.1 </td><td>85.7  </td></tr>\n",
       "\t<tr><td>손세수</td><td>여자  </td><td>20    </td><td>1     </td><td>유    </td><td>A     </td><td>168.0 </td><td>49.5  </td></tr>\n",
       "\t<tr><td>박미희</td><td>여자  </td><td>21    </td><td>2     </td><td>무    </td><td>O     </td><td>162.0 </td><td>52.0  </td></tr>\n",
       "\t<tr><td>강수친</td><td>여자  </td><td>22    </td><td>1     </td><td>무    </td><td>O     </td><td>155.2 </td><td>45.3  </td></tr>\n",
       "\t<tr><td>이희수</td><td>여자  </td><td>23    </td><td>1     </td><td>무    </td><td>A     </td><td>176.9 </td><td>55.0  </td></tr>\n",
       "\t<tr><td>이철린</td><td>남자  </td><td>23    </td><td>3     </td><td>무    </td><td>B     </td><td>178.5 </td><td>64.2  </td></tr>\n",
       "\t<tr><td>방희철</td><td>남자  </td><td>22    </td><td>2     </td><td>무    </td><td>B     </td><td>176.1 </td><td>61.3  </td></tr>\n",
       "\t<tr><td>박수호</td><td>남자  </td><td>24    </td><td>4     </td><td>유    </td><td>O     </td><td>167.1 </td><td>62.0  </td></tr>\n",
       "\t<tr><td>임동민</td><td>남자  </td><td>22    </td><td>2     </td><td>무    </td><td>AB    </td><td>180.0 </td><td>75.8  </td></tr>\n",
       "\t<tr><td>김민수</td><td>남자  </td><td>21    </td><td>1     </td><td>무    </td><td>A     </td><td>162.2 </td><td>55.3  </td></tr>\n",
       "\t<tr><td>이희진</td><td>여자  </td><td>23    </td><td>3     </td><td>무    </td><td>O     </td><td>176.1 </td><td>53.1  </td></tr>\n",
       "\t<tr><td>김미진</td><td>여자  </td><td>22    </td><td>2     </td><td>무    </td><td>B     </td><td>158.2 </td><td>45.2  </td></tr>\n",
       "\t<tr><td>김동수</td><td>남자  </td><td>24    </td><td>4     </td><td>유    </td><td>B     </td><td>168.6 </td><td>70.2  </td></tr>\n",
       "\t<tr><td>여수근</td><td>남자  </td><td>21    </td><td>1     </td><td>무    </td><td>A     </td><td>169.2 </td><td>62.2  </td></tr>\n",
       "</tbody>\n",
       "</table>\n"
      ],
      "text/latex": [
       "\\begin{tabular}{r|llllllll}\n",
       " name & sex & age & grade & absence & blood & height & weight\\\\\n",
       "\\hline\n",
       "\t 김길동 & 남자   & 23     & 3      & 유     & O      & 165.3  & 68.2  \\\\\n",
       "\t 이미린 & 여자   & 22     & 2      & 무     & AB     & 170.1  & 53.0  \\\\\n",
       "\t 홍길동 & 남자   & 24     & 4      & 무     & B      & 175.0  & 80.1  \\\\\n",
       "\t 김철수 & 남자   & 23     & 3      & 무     & AB     & 182.1  & 85.7  \\\\\n",
       "\t 손세수 & 여자   & 20     & 1      & 유     & A      & 168.0  & 49.5  \\\\\n",
       "\t 박미희 & 여자   & 21     & 2      & 무     & O      & 162.0  & 52.0  \\\\\n",
       "\t 강수친 & 여자   & 22     & 1      & 무     & O      & 155.2  & 45.3  \\\\\n",
       "\t 이희수 & 여자   & 23     & 1      & 무     & A      & 176.9  & 55.0  \\\\\n",
       "\t 이철린 & 남자   & 23     & 3      & 무     & B      & 178.5  & 64.2  \\\\\n",
       "\t 방희철 & 남자   & 22     & 2      & 무     & B      & 176.1  & 61.3  \\\\\n",
       "\t 박수호 & 남자   & 24     & 4      & 유     & O      & 167.1  & 62.0  \\\\\n",
       "\t 임동민 & 남자   & 22     & 2      & 무     & AB     & 180.0  & 75.8  \\\\\n",
       "\t 김민수 & 남자   & 21     & 1      & 무     & A      & 162.2  & 55.3  \\\\\n",
       "\t 이희진 & 여자   & 23     & 3      & 무     & O      & 176.1  & 53.1  \\\\\n",
       "\t 김미진 & 여자   & 22     & 2      & 무     & B      & 158.2  & 45.2  \\\\\n",
       "\t 김동수 & 남자   & 24     & 4      & 유     & B      & 168.6  & 70.2  \\\\\n",
       "\t 여수근 & 남자   & 21     & 1      & 무     & A      & 169.2  & 62.2  \\\\\n",
       "\\end{tabular}\n"
      ],
      "text/markdown": [
       "\n",
       "| name | sex | age | grade | absence | blood | height | weight |\n",
       "|---|---|---|---|---|---|---|---|\n",
       "| 김길동 | 남자   | 23     | 3      | 유     | O      | 165.3  | 68.2   |\n",
       "| 이미린 | 여자   | 22     | 2      | 무     | AB     | 170.1  | 53.0   |\n",
       "| 홍길동 | 남자   | 24     | 4      | 무     | B      | 175.0  | 80.1   |\n",
       "| 김철수 | 남자   | 23     | 3      | 무     | AB     | 182.1  | 85.7   |\n",
       "| 손세수 | 여자   | 20     | 1      | 유     | A      | 168.0  | 49.5   |\n",
       "| 박미희 | 여자   | 21     | 2      | 무     | O      | 162.0  | 52.0   |\n",
       "| 강수친 | 여자   | 22     | 1      | 무     | O      | 155.2  | 45.3   |\n",
       "| 이희수 | 여자   | 23     | 1      | 무     | A      | 176.9  | 55.0   |\n",
       "| 이철린 | 남자   | 23     | 3      | 무     | B      | 178.5  | 64.2   |\n",
       "| 방희철 | 남자   | 22     | 2      | 무     | B      | 176.1  | 61.3   |\n",
       "| 박수호 | 남자   | 24     | 4      | 유     | O      | 167.1  | 62.0   |\n",
       "| 임동민 | 남자   | 22     | 2      | 무     | AB     | 180.0  | 75.8   |\n",
       "| 김민수 | 남자   | 21     | 1      | 무     | A      | 162.2  | 55.3   |\n",
       "| 이희진 | 여자   | 23     | 3      | 무     | O      | 176.1  | 53.1   |\n",
       "| 김미진 | 여자   | 22     | 2      | 무     | B      | 158.2  | 45.2   |\n",
       "| 김동수 | 남자   | 24     | 4      | 유     | B      | 168.6  | 70.2   |\n",
       "| 여수근 | 남자   | 21     | 1      | 무     | A      | 169.2  | 62.2   |\n",
       "\n"
      ],
      "text/plain": [
       "   name   sex  age grade absence blood height weight\n",
       "1  김길동 남자 23  3     유      O     165.3  68.2  \n",
       "2  이미린 여자 22  2     무      AB    170.1  53.0  \n",
       "3  홍길동 남자 24  4     무      B     175.0  80.1  \n",
       "4  김철수 남자 23  3     무      AB    182.1  85.7  \n",
       "5  손세수 여자 20  1     유      A     168.0  49.5  \n",
       "6  박미희 여자 21  2     무      O     162.0  52.0  \n",
       "7  강수친 여자 22  1     무      O     155.2  45.3  \n",
       "8  이희수 여자 23  1     무      A     176.9  55.0  \n",
       "9  이철린 남자 23  3     무      B     178.5  64.2  \n",
       "10 방희철 남자 22  2     무      B     176.1  61.3  \n",
       "11 박수호 남자 24  4     유      O     167.1  62.0  \n",
       "12 임동민 남자 22  2     무      AB    180.0  75.8  \n",
       "13 김민수 남자 21  1     무      A     162.2  55.3  \n",
       "14 이희진 여자 23  3     무      O     176.1  53.1  \n",
       "15 김미진 여자 22  2     무      B     158.2  45.2  \n",
       "16 김동수 남자 24  4     유      B     168.6  70.2  \n",
       "17 여수근 남자 21  1     무      A     169.2  62.2  "
      ]
     },
     "metadata": {},
     "output_type": "display_data"
    }
   ],
   "source": [
    "#이름바꾸기\n",
    "colnames(df_csv)[6]  <- 'blood'\n",
    "df_csv"
   ]
  },
  {
   "cell_type": "code",
   "execution_count": 45,
   "metadata": {},
   "outputs": [
    {
     "data": {
      "text/html": [
       "<table>\n",
       "<thead><tr><th scope=col>na</th><th scope=col>se</th><th scope=col>ag</th><th scope=col>gr</th><th scope=col>ab</th><th scope=col>bl</th><th scope=col>he</th><th scope=col>we</th></tr></thead>\n",
       "<tbody>\n",
       "\t<tr><td>김길동</td><td>남자  </td><td>23    </td><td>3     </td><td>유    </td><td>O     </td><td>165.3 </td><td>68.2  </td></tr>\n",
       "\t<tr><td>이미린</td><td>여자  </td><td>22    </td><td>2     </td><td>무    </td><td>AB    </td><td>170.1 </td><td>53.0  </td></tr>\n",
       "\t<tr><td>홍길동</td><td>남자  </td><td>24    </td><td>4     </td><td>무    </td><td>B     </td><td>175.0 </td><td>80.1  </td></tr>\n",
       "\t<tr><td>김철수</td><td>남자  </td><td>23    </td><td>3     </td><td>무    </td><td>AB    </td><td>182.1 </td><td>85.7  </td></tr>\n",
       "\t<tr><td>손세수</td><td>여자  </td><td>20    </td><td>1     </td><td>유    </td><td>A     </td><td>168.0 </td><td>49.5  </td></tr>\n",
       "\t<tr><td>박미희</td><td>여자  </td><td>21    </td><td>2     </td><td>무    </td><td>O     </td><td>162.0 </td><td>52.0  </td></tr>\n",
       "</tbody>\n",
       "</table>\n"
      ],
      "text/latex": [
       "\\begin{tabular}{r|llllllll}\n",
       " na & se & ag & gr & ab & bl & he & we\\\\\n",
       "\\hline\n",
       "\t 김길동 & 남자   & 23     & 3      & 유     & O      & 165.3  & 68.2  \\\\\n",
       "\t 이미린 & 여자   & 22     & 2      & 무     & AB     & 170.1  & 53.0  \\\\\n",
       "\t 홍길동 & 남자   & 24     & 4      & 무     & B      & 175.0  & 80.1  \\\\\n",
       "\t 김철수 & 남자   & 23     & 3      & 무     & AB     & 182.1  & 85.7  \\\\\n",
       "\t 손세수 & 여자   & 20     & 1      & 유     & A      & 168.0  & 49.5  \\\\\n",
       "\t 박미희 & 여자   & 21     & 2      & 무     & O      & 162.0  & 52.0  \\\\\n",
       "\\end{tabular}\n"
      ],
      "text/markdown": [
       "\n",
       "| na | se | ag | gr | ab | bl | he | we |\n",
       "|---|---|---|---|---|---|---|---|\n",
       "| 김길동 | 남자   | 23     | 3      | 유     | O      | 165.3  | 68.2   |\n",
       "| 이미린 | 여자   | 22     | 2      | 무     | AB     | 170.1  | 53.0   |\n",
       "| 홍길동 | 남자   | 24     | 4      | 무     | B      | 175.0  | 80.1   |\n",
       "| 김철수 | 남자   | 23     | 3      | 무     | AB     | 182.1  | 85.7   |\n",
       "| 손세수 | 여자   | 20     | 1      | 유     | A      | 168.0  | 49.5   |\n",
       "| 박미희 | 여자   | 21     | 2      | 무     | O      | 162.0  | 52.0   |\n",
       "\n"
      ],
      "text/plain": [
       "  na     se   ag gr ab bl he    we  \n",
       "1 김길동 남자 23 3  유 O  165.3 68.2\n",
       "2 이미린 여자 22 2  무 AB 170.1 53.0\n",
       "3 홍길동 남자 24 4  무 B  175.0 80.1\n",
       "4 김철수 남자 23 3  무 AB 182.1 85.7\n",
       "5 손세수 여자 20 1  유 A  168.0 49.5\n",
       "6 박미희 여자 21 2  무 O  162.0 52.0"
      ]
     },
     "metadata": {},
     "output_type": "display_data"
    }
   ],
   "source": [
    "#모든 변수명 바꾸기\n",
    "old_list <- colnames(df_csv)\n",
    "new_list <- c('na','se','ag','gr','ab','bl','he','we') \n",
    "colnames(df_csv)  <-  new_list\n",
    "head(df_csv)"
   ]
  },
  {
   "cell_type": "code",
   "execution_count": 46,
   "metadata": {},
   "outputs": [
    {
     "data": {
      "text/html": [
       "<table>\n",
       "<thead><tr><th scope=col>name</th><th scope=col>sex</th><th scope=col>age</th><th scope=col>grade</th><th scope=col>absence</th><th scope=col>blood</th><th scope=col>height</th><th scope=col>weight</th></tr></thead>\n",
       "<tbody>\n",
       "\t<tr><td>김길동</td><td>남자  </td><td>23    </td><td>3     </td><td>유    </td><td>O     </td><td>165.3 </td><td>68.2  </td></tr>\n",
       "\t<tr><td>이미린</td><td>여자  </td><td>22    </td><td>2     </td><td>무    </td><td>AB    </td><td>170.1 </td><td>53.0  </td></tr>\n",
       "</tbody>\n",
       "</table>\n"
      ],
      "text/latex": [
       "\\begin{tabular}{r|llllllll}\n",
       " name & sex & age & grade & absence & blood & height & weight\\\\\n",
       "\\hline\n",
       "\t 김길동 & 남자   & 23     & 3      & 유     & O      & 165.3  & 68.2  \\\\\n",
       "\t 이미린 & 여자   & 22     & 2      & 무     & AB     & 170.1  & 53.0  \\\\\n",
       "\\end{tabular}\n"
      ],
      "text/markdown": [
       "\n",
       "| name | sex | age | grade | absence | blood | height | weight |\n",
       "|---|---|---|---|---|---|---|---|\n",
       "| 김길동 | 남자   | 23     | 3      | 유     | O      | 165.3  | 68.2   |\n",
       "| 이미린 | 여자   | 22     | 2      | 무     | AB     | 170.1  | 53.0   |\n",
       "\n"
      ],
      "text/plain": [
       "  name   sex  age grade absence blood height weight\n",
       "1 김길동 남자 23  3     유      O     165.3  68.2  \n",
       "2 이미린 여자 22  2     무      AB    170.1  53.0  "
      ]
     },
     "metadata": {},
     "output_type": "display_data"
    }
   ],
   "source": [
    "colnames(df_csv)  <-old_list\n",
    "head(df_csv,2)"
   ]
  },
  {
   "cell_type": "code",
   "execution_count": 48,
   "metadata": {},
   "outputs": [
    {
     "data": {
      "text/html": [
       "<ol class=list-inline>\n",
       "\t<li>0.00249596601387274</li>\n",
       "\t<li>0.00183175439560572</li>\n",
       "\t<li>0.00261551020408163</li>\n",
       "\t<li>0.0025844071288624</li>\n",
       "\t<li>0.00175382653061224</li>\n",
       "\t<li>0.00198140527358634</li>\n",
       "\t<li>0.00188067940269954</li>\n",
       "\t<li>0.00175754730758132</li>\n",
       "\t<li>0.00201492361650543</li>\n",
       "\t<li>0.00197670455296649</li>\n",
       "\t<li>0.00222043870854987</li>\n",
       "\t<li>0.00233950617283951</li>\n",
       "\t<li>0.00210195508429866</li>\n",
       "\t<li>0.00171228404180295</li>\n",
       "\t<li>0.00180603214737222</li>\n",
       "\t<li>0.00246957358696065</li>\n",
       "\t<li>0.0021726494866679</li>\n",
       "</ol>\n"
      ],
      "text/latex": [
       "\\begin{enumerate*}\n",
       "\\item 0.00249596601387274\n",
       "\\item 0.00183175439560572\n",
       "\\item 0.00261551020408163\n",
       "\\item 0.0025844071288624\n",
       "\\item 0.00175382653061224\n",
       "\\item 0.00198140527358634\n",
       "\\item 0.00188067940269954\n",
       "\\item 0.00175754730758132\n",
       "\\item 0.00201492361650543\n",
       "\\item 0.00197670455296649\n",
       "\\item 0.00222043870854987\n",
       "\\item 0.00233950617283951\n",
       "\\item 0.00210195508429866\n",
       "\\item 0.00171228404180295\n",
       "\\item 0.00180603214737222\n",
       "\\item 0.00246957358696065\n",
       "\\item 0.0021726494866679\n",
       "\\end{enumerate*}\n"
      ],
      "text/markdown": [
       "1. 0.00249596601387274\n",
       "2. 0.00183175439560572\n",
       "3. 0.00261551020408163\n",
       "4. 0.0025844071288624\n",
       "5. 0.00175382653061224\n",
       "6. 0.00198140527358634\n",
       "7. 0.00188067940269954\n",
       "8. 0.00175754730758132\n",
       "9. 0.00201492361650543\n",
       "10. 0.00197670455296649\n",
       "11. 0.00222043870854987\n",
       "12. 0.00233950617283951\n",
       "13. 0.00210195508429866\n",
       "14. 0.00171228404180295\n",
       "15. 0.00180603214737222\n",
       "16. 0.00246957358696065\n",
       "17. 0.0021726494866679\n",
       "\n",
       "\n"
      ],
      "text/plain": [
       " [1] 0.002495966 0.001831754 0.002615510 0.002584407 0.001753827 0.001981405\n",
       " [7] 0.001880679 0.001757547 0.002014924 0.001976705 0.002220439 0.002339506\n",
       "[13] 0.002101955 0.001712284 0.001806032 0.002469574 0.002172649"
      ]
     },
     "metadata": {},
     "output_type": "display_data"
    }
   ],
   "source": [
    "bmi  <-  df_csv$weight / df_csv$height^2\n",
    "bmi"
   ]
  },
  {
   "cell_type": "code",
   "execution_count": 50,
   "metadata": {},
   "outputs": [
    {
     "data": {
      "text/html": [
       "<table>\n",
       "<thead><tr><th scope=col>name</th><th scope=col>sex</th><th scope=col>age</th><th scope=col>grade</th><th scope=col>absence</th><th scope=col>blood</th><th scope=col>height</th><th scope=col>weight</th><th scope=col>bmi</th></tr></thead>\n",
       "<tbody>\n",
       "\t<tr><td>김길동     </td><td>남자       </td><td>23         </td><td>3          </td><td>유         </td><td>O          </td><td>165.3      </td><td>68.2       </td><td>0.002495966</td></tr>\n",
       "\t<tr><td>이미린     </td><td>여자       </td><td>22         </td><td>2          </td><td>무         </td><td>AB         </td><td>170.1      </td><td>53.0       </td><td>0.001831754</td></tr>\n",
       "\t<tr><td>홍길동     </td><td>남자       </td><td>24         </td><td>4          </td><td>무         </td><td>B          </td><td>175.0      </td><td>80.1       </td><td>0.002615510</td></tr>\n",
       "</tbody>\n",
       "</table>\n"
      ],
      "text/latex": [
       "\\begin{tabular}{r|lllllllll}\n",
       " name & sex & age & grade & absence & blood & height & weight & bmi\\\\\n",
       "\\hline\n",
       "\t 김길동      & 남자        & 23          & 3           & 유          & O           & 165.3       & 68.2        & 0.002495966\\\\\n",
       "\t 이미린      & 여자        & 22          & 2           & 무          & AB          & 170.1       & 53.0        & 0.001831754\\\\\n",
       "\t 홍길동      & 남자        & 24          & 4           & 무          & B           & 175.0       & 80.1        & 0.002615510\\\\\n",
       "\\end{tabular}\n"
      ],
      "text/markdown": [
       "\n",
       "| name | sex | age | grade | absence | blood | height | weight | bmi |\n",
       "|---|---|---|---|---|---|---|---|---|\n",
       "| 김길동      | 남자        | 23          | 3           | 유          | O           | 165.3       | 68.2        | 0.002495966 |\n",
       "| 이미린      | 여자        | 22          | 2           | 무          | AB          | 170.1       | 53.0        | 0.001831754 |\n",
       "| 홍길동      | 남자        | 24          | 4           | 무          | B           | 175.0       | 80.1        | 0.002615510 |\n",
       "\n"
      ],
      "text/plain": [
       "  name   sex  age grade absence blood height weight bmi        \n",
       "1 김길동 남자 23  3     유      O     165.3  68.2   0.002495966\n",
       "2 이미린 여자 22  2     무      AB    170.1  53.0   0.001831754\n",
       "3 홍길동 남자 24  4     무      B     175.0  80.1   0.002615510"
      ]
     },
     "metadata": {},
     "output_type": "display_data"
    }
   ],
   "source": [
    "#컬럼 연결\n",
    "df_bmi <- cbind(df_csv,bmi)\n",
    "head(df_bmi,3)"
   ]
  },
  {
   "cell_type": "code",
   "execution_count": 51,
   "metadata": {},
   "outputs": [],
   "source": [
    "df_1 <- df_csv\n",
    "df_2  <- read.csv('r-ggagi-data/omit.csv')"
   ]
  },
  {
   "cell_type": "code",
   "execution_count": 52,
   "metadata": {},
   "outputs": [
    {
     "data": {
      "text/html": [
       "<table>\n",
       "<thead><tr><th scope=col>name</th><th scope=col>footsize</th></tr></thead>\n",
       "<tbody>\n",
       "\t<tr><td>강수친</td><td>245   </td></tr>\n",
       "\t<tr><td>김길동</td><td>270   </td></tr>\n",
       "\t<tr><td>김동수</td><td>265   </td></tr>\n",
       "</tbody>\n",
       "</table>\n"
      ],
      "text/latex": [
       "\\begin{tabular}{r|ll}\n",
       " name & footsize\\\\\n",
       "\\hline\n",
       "\t 강수친 & 245   \\\\\n",
       "\t 김길동 & 270   \\\\\n",
       "\t 김동수 & 265   \\\\\n",
       "\\end{tabular}\n"
      ],
      "text/markdown": [
       "\n",
       "| name | footsize |\n",
       "|---|---|\n",
       "| 강수친 | 245    |\n",
       "| 김길동 | 270    |\n",
       "| 김동수 | 265    |\n",
       "\n"
      ],
      "text/plain": [
       "  name   footsize\n",
       "1 강수친 245     \n",
       "2 김길동 270     \n",
       "3 김동수 265     "
      ]
     },
     "metadata": {},
     "output_type": "display_data"
    }
   ],
   "source": [
    "head(df_2,3)"
   ]
  },
  {
   "cell_type": "code",
   "execution_count": 54,
   "metadata": {},
   "outputs": [
    {
     "data": {
      "text/html": [
       "<table>\n",
       "<thead><tr><th scope=col>name</th><th scope=col>sex</th><th scope=col>age</th><th scope=col>grade</th><th scope=col>absence</th><th scope=col>blood</th><th scope=col>height</th><th scope=col>weight</th><th scope=col>footsize</th></tr></thead>\n",
       "<tbody>\n",
       "\t<tr><td>강수친</td><td>여자  </td><td>22    </td><td>1     </td><td>무    </td><td>O     </td><td>155.2 </td><td>45.3  </td><td>245   </td></tr>\n",
       "\t<tr><td>김길동</td><td>남자  </td><td>23    </td><td>3     </td><td>유    </td><td>O     </td><td>165.3 </td><td>68.2  </td><td>270   </td></tr>\n",
       "\t<tr><td>김동수</td><td>남자  </td><td>24    </td><td>4     </td><td>유    </td><td>B     </td><td>168.6 </td><td>70.2  </td><td>265   </td></tr>\n",
       "\t<tr><td>김미진</td><td>여자  </td><td>22    </td><td>2     </td><td>무    </td><td>B     </td><td>158.2 </td><td>45.2  </td><td>235   </td></tr>\n",
       "\t<tr><td>김민수</td><td>남자  </td><td>21    </td><td>1     </td><td>무    </td><td>A     </td><td>162.2 </td><td>55.3  </td><td>270   </td></tr>\n",
       "\t<tr><td>김철수</td><td>남자  </td><td>23    </td><td>3     </td><td>무    </td><td>AB    </td><td>182.1 </td><td>85.7  </td><td>280   </td></tr>\n",
       "\t<tr><td>박미희</td><td>여자  </td><td>21    </td><td>2     </td><td>무    </td><td>O     </td><td>162.0 </td><td>52.0  </td><td>240   </td></tr>\n",
       "\t<tr><td>박수호</td><td>남자  </td><td>24    </td><td>4     </td><td>유    </td><td>O     </td><td>167.1 </td><td>62.0  </td><td> NA   </td></tr>\n",
       "\t<tr><td>방희철</td><td>남자  </td><td>22    </td><td>2     </td><td>무    </td><td>B     </td><td>176.1 </td><td>61.3  </td><td>275   </td></tr>\n",
       "\t<tr><td>손세수</td><td>여자  </td><td>20    </td><td>1     </td><td>유    </td><td>A     </td><td>168.0 </td><td>49.5  </td><td>240   </td></tr>\n",
       "\t<tr><td>여수근</td><td>남자  </td><td>21    </td><td>1     </td><td>무    </td><td>A     </td><td>169.2 </td><td>62.2  </td><td>265   </td></tr>\n",
       "\t<tr><td>이미린</td><td>여자  </td><td>22    </td><td>2     </td><td>무    </td><td>AB    </td><td>170.1 </td><td>53.0  </td><td>245   </td></tr>\n",
       "\t<tr><td>이철린</td><td>남자  </td><td>23    </td><td>3     </td><td>무    </td><td>B     </td><td>178.5 </td><td>64.2  </td><td> NA   </td></tr>\n",
       "\t<tr><td>이희수</td><td>여자  </td><td>23    </td><td>1     </td><td>무    </td><td>A     </td><td>176.9 </td><td>55.0  </td><td>245   </td></tr>\n",
       "\t<tr><td>이희진</td><td>여자  </td><td>23    </td><td>3     </td><td>무    </td><td>O     </td><td>176.1 </td><td>53.1  </td><td>245   </td></tr>\n",
       "\t<tr><td>임동민</td><td>남자  </td><td>22    </td><td>2     </td><td>무    </td><td>AB    </td><td>180.0 </td><td>75.8  </td><td>280   </td></tr>\n",
       "\t<tr><td>홍길동</td><td>남자  </td><td>24    </td><td>4     </td><td>무    </td><td>B     </td><td>175.0 </td><td>80.1  </td><td>275   </td></tr>\n",
       "</tbody>\n",
       "</table>\n"
      ],
      "text/latex": [
       "\\begin{tabular}{r|lllllllll}\n",
       " name & sex & age & grade & absence & blood & height & weight & footsize\\\\\n",
       "\\hline\n",
       "\t 강수친 & 여자   & 22     & 1      & 무     & O      & 155.2  & 45.3   & 245   \\\\\n",
       "\t 김길동 & 남자   & 23     & 3      & 유     & O      & 165.3  & 68.2   & 270   \\\\\n",
       "\t 김동수 & 남자   & 24     & 4      & 유     & B      & 168.6  & 70.2   & 265   \\\\\n",
       "\t 김미진 & 여자   & 22     & 2      & 무     & B      & 158.2  & 45.2   & 235   \\\\\n",
       "\t 김민수 & 남자   & 21     & 1      & 무     & A      & 162.2  & 55.3   & 270   \\\\\n",
       "\t 김철수 & 남자   & 23     & 3      & 무     & AB     & 182.1  & 85.7   & 280   \\\\\n",
       "\t 박미희 & 여자   & 21     & 2      & 무     & O      & 162.0  & 52.0   & 240   \\\\\n",
       "\t 박수호 & 남자   & 24     & 4      & 유     & O      & 167.1  & 62.0   &  NA   \\\\\n",
       "\t 방희철 & 남자   & 22     & 2      & 무     & B      & 176.1  & 61.3   & 275   \\\\\n",
       "\t 손세수 & 여자   & 20     & 1      & 유     & A      & 168.0  & 49.5   & 240   \\\\\n",
       "\t 여수근 & 남자   & 21     & 1      & 무     & A      & 169.2  & 62.2   & 265   \\\\\n",
       "\t 이미린 & 여자   & 22     & 2      & 무     & AB     & 170.1  & 53.0   & 245   \\\\\n",
       "\t 이철린 & 남자   & 23     & 3      & 무     & B      & 178.5  & 64.2   &  NA   \\\\\n",
       "\t 이희수 & 여자   & 23     & 1      & 무     & A      & 176.9  & 55.0   & 245   \\\\\n",
       "\t 이희진 & 여자   & 23     & 3      & 무     & O      & 176.1  & 53.1   & 245   \\\\\n",
       "\t 임동민 & 남자   & 22     & 2      & 무     & AB     & 180.0  & 75.8   & 280   \\\\\n",
       "\t 홍길동 & 남자   & 24     & 4      & 무     & B      & 175.0  & 80.1   & 275   \\\\\n",
       "\\end{tabular}\n"
      ],
      "text/markdown": [
       "\n",
       "| name | sex | age | grade | absence | blood | height | weight | footsize |\n",
       "|---|---|---|---|---|---|---|---|---|\n",
       "| 강수친 | 여자   | 22     | 1      | 무     | O      | 155.2  | 45.3   | 245    |\n",
       "| 김길동 | 남자   | 23     | 3      | 유     | O      | 165.3  | 68.2   | 270    |\n",
       "| 김동수 | 남자   | 24     | 4      | 유     | B      | 168.6  | 70.2   | 265    |\n",
       "| 김미진 | 여자   | 22     | 2      | 무     | B      | 158.2  | 45.2   | 235    |\n",
       "| 김민수 | 남자   | 21     | 1      | 무     | A      | 162.2  | 55.3   | 270    |\n",
       "| 김철수 | 남자   | 23     | 3      | 무     | AB     | 182.1  | 85.7   | 280    |\n",
       "| 박미희 | 여자   | 21     | 2      | 무     | O      | 162.0  | 52.0   | 240    |\n",
       "| 박수호 | 남자   | 24     | 4      | 유     | O      | 167.1  | 62.0   |  NA    |\n",
       "| 방희철 | 남자   | 22     | 2      | 무     | B      | 176.1  | 61.3   | 275    |\n",
       "| 손세수 | 여자   | 20     | 1      | 유     | A      | 168.0  | 49.5   | 240    |\n",
       "| 여수근 | 남자   | 21     | 1      | 무     | A      | 169.2  | 62.2   | 265    |\n",
       "| 이미린 | 여자   | 22     | 2      | 무     | AB     | 170.1  | 53.0   | 245    |\n",
       "| 이철린 | 남자   | 23     | 3      | 무     | B      | 178.5  | 64.2   |  NA    |\n",
       "| 이희수 | 여자   | 23     | 1      | 무     | A      | 176.9  | 55.0   | 245    |\n",
       "| 이희진 | 여자   | 23     | 3      | 무     | O      | 176.1  | 53.1   | 245    |\n",
       "| 임동민 | 남자   | 22     | 2      | 무     | AB     | 180.0  | 75.8   | 280    |\n",
       "| 홍길동 | 남자   | 24     | 4      | 무     | B      | 175.0  | 80.1   | 275    |\n",
       "\n"
      ],
      "text/plain": [
       "   name   sex  age grade absence blood height weight footsize\n",
       "1  강수친 여자 22  1     무      O     155.2  45.3   245     \n",
       "2  김길동 남자 23  3     유      O     165.3  68.2   270     \n",
       "3  김동수 남자 24  4     유      B     168.6  70.2   265     \n",
       "4  김미진 여자 22  2     무      B     158.2  45.2   235     \n",
       "5  김민수 남자 21  1     무      A     162.2  55.3   270     \n",
       "6  김철수 남자 23  3     무      AB    182.1  85.7   280     \n",
       "7  박미희 여자 21  2     무      O     162.0  52.0   240     \n",
       "8  박수호 남자 24  4     유      O     167.1  62.0    NA     \n",
       "9  방희철 남자 22  2     무      B     176.1  61.3   275     \n",
       "10 손세수 여자 20  1     유      A     168.0  49.5   240     \n",
       "11 여수근 남자 21  1     무      A     169.2  62.2   265     \n",
       "12 이미린 여자 22  2     무      AB    170.1  53.0   245     \n",
       "13 이철린 남자 23  3     무      B     178.5  64.2    NA     \n",
       "14 이희수 여자 23  1     무      A     176.9  55.0   245     \n",
       "15 이희진 여자 23  3     무      O     176.1  53.1   245     \n",
       "16 임동민 남자 22  2     무      AB    180.0  75.8   280     \n",
       "17 홍길동 남자 24  4     무      B     175.0  80.1   275     "
      ]
     },
     "metadata": {},
     "output_type": "display_data"
    }
   ],
   "source": [
    "# 이름에 맞춰서 넣어!\n",
    "df_merge<-merge(df_1,df_2,by='name') \n",
    "df_merge"
   ]
  },
  {
   "cell_type": "code",
   "execution_count": 55,
   "metadata": {},
   "outputs": [
    {
     "data": {
      "text/html": [
       "<table>\n",
       "<thead><tr><th scope=col>name</th><th scope=col>sex</th><th scope=col>age</th><th scope=col>grade</th><th scope=col>absence</th><th scope=col>blood</th><th scope=col>height</th><th scope=col>weight</th><th scope=col>footsize</th></tr></thead>\n",
       "<tbody>\n",
       "\t<tr><td>강수친</td><td>여자  </td><td>22    </td><td>1     </td><td>무    </td><td>O     </td><td>155.2 </td><td>45.3  </td><td>245   </td></tr>\n",
       "\t<tr><td>김길동</td><td>남자  </td><td>23    </td><td>3     </td><td>유    </td><td>O     </td><td>165.3 </td><td>68.2  </td><td>270   </td></tr>\n",
       "\t<tr><td>김동수</td><td>남자  </td><td>24    </td><td>4     </td><td>유    </td><td>B     </td><td>168.6 </td><td>70.2  </td><td>265   </td></tr>\n",
       "\t<tr><td>김미진</td><td>여자  </td><td>22    </td><td>2     </td><td>무    </td><td>B     </td><td>158.2 </td><td>45.2  </td><td>235   </td></tr>\n",
       "\t<tr><td>김민수</td><td>남자  </td><td>21    </td><td>1     </td><td>무    </td><td>A     </td><td>162.2 </td><td>55.3  </td><td>270   </td></tr>\n",
       "\t<tr><td>김철수</td><td>남자  </td><td>23    </td><td>3     </td><td>무    </td><td>AB    </td><td>182.1 </td><td>85.7  </td><td>280   </td></tr>\n",
       "</tbody>\n",
       "</table>\n"
      ],
      "text/latex": [
       "\\begin{tabular}{r|lllllllll}\n",
       " name & sex & age & grade & absence & blood & height & weight & footsize\\\\\n",
       "\\hline\n",
       "\t 강수친 & 여자   & 22     & 1      & 무     & O      & 155.2  & 45.3   & 245   \\\\\n",
       "\t 김길동 & 남자   & 23     & 3      & 유     & O      & 165.3  & 68.2   & 270   \\\\\n",
       "\t 김동수 & 남자   & 24     & 4      & 유     & B      & 168.6  & 70.2   & 265   \\\\\n",
       "\t 김미진 & 여자   & 22     & 2      & 무     & B      & 158.2  & 45.2   & 235   \\\\\n",
       "\t 김민수 & 남자   & 21     & 1      & 무     & A      & 162.2  & 55.3   & 270   \\\\\n",
       "\t 김철수 & 남자   & 23     & 3      & 무     & AB     & 182.1  & 85.7   & 280   \\\\\n",
       "\\end{tabular}\n"
      ],
      "text/markdown": [
       "\n",
       "| name | sex | age | grade | absence | blood | height | weight | footsize |\n",
       "|---|---|---|---|---|---|---|---|---|\n",
       "| 강수친 | 여자   | 22     | 1      | 무     | O      | 155.2  | 45.3   | 245    |\n",
       "| 김길동 | 남자   | 23     | 3      | 유     | O      | 165.3  | 68.2   | 270    |\n",
       "| 김동수 | 남자   | 24     | 4      | 유     | B      | 168.6  | 70.2   | 265    |\n",
       "| 김미진 | 여자   | 22     | 2      | 무     | B      | 158.2  | 45.2   | 235    |\n",
       "| 김민수 | 남자   | 21     | 1      | 무     | A      | 162.2  | 55.3   | 270    |\n",
       "| 김철수 | 남자   | 23     | 3      | 무     | AB     | 182.1  | 85.7   | 280    |\n",
       "\n"
      ],
      "text/plain": [
       "  name   sex  age grade absence blood height weight footsize\n",
       "1 강수친 여자 22  1     무      O     155.2  45.3   245     \n",
       "2 김길동 남자 23  3     유      O     165.3  68.2   270     \n",
       "3 김동수 남자 24  4     유      B     168.6  70.2   265     \n",
       "4 김미진 여자 22  2     무      B     158.2  45.2   235     \n",
       "5 김민수 남자 21  1     무      A     162.2  55.3   270     \n",
       "6 김철수 남자 23  3     무      AB    182.1  85.7   280     "
      ]
     },
     "metadata": {},
     "output_type": "display_data"
    },
    {
     "data": {
      "text/html": [
       "<table>\n",
       "<thead><tr><th></th><th scope=col>name</th><th scope=col>sex</th><th scope=col>age</th><th scope=col>grade</th><th scope=col>absence</th><th scope=col>blood</th><th scope=col>height</th><th scope=col>weight</th><th scope=col>footsize</th></tr></thead>\n",
       "<tbody>\n",
       "\t<tr><th scope=row>12</th><td>이미린</td><td>여자  </td><td>22    </td><td>2     </td><td>무    </td><td>AB    </td><td>170.1 </td><td>53.0  </td><td>245   </td></tr>\n",
       "\t<tr><th scope=row>13</th><td>이철린</td><td>남자  </td><td>23    </td><td>3     </td><td>무    </td><td>B     </td><td>178.5 </td><td>64.2  </td><td> NA   </td></tr>\n",
       "\t<tr><th scope=row>14</th><td>이희수</td><td>여자  </td><td>23    </td><td>1     </td><td>무    </td><td>A     </td><td>176.9 </td><td>55.0  </td><td>245   </td></tr>\n",
       "\t<tr><th scope=row>15</th><td>이희진</td><td>여자  </td><td>23    </td><td>3     </td><td>무    </td><td>O     </td><td>176.1 </td><td>53.1  </td><td>245   </td></tr>\n",
       "\t<tr><th scope=row>16</th><td>임동민</td><td>남자  </td><td>22    </td><td>2     </td><td>무    </td><td>AB    </td><td>180.0 </td><td>75.8  </td><td>280   </td></tr>\n",
       "\t<tr><th scope=row>17</th><td>홍길동</td><td>남자  </td><td>24    </td><td>4     </td><td>무    </td><td>B     </td><td>175.0 </td><td>80.1  </td><td>275   </td></tr>\n",
       "</tbody>\n",
       "</table>\n"
      ],
      "text/latex": [
       "\\begin{tabular}{r|lllllllll}\n",
       "  & name & sex & age & grade & absence & blood & height & weight & footsize\\\\\n",
       "\\hline\n",
       "\t12 & 이미린 & 여자   & 22     & 2      & 무     & AB     & 170.1  & 53.0   & 245   \\\\\n",
       "\t13 & 이철린 & 남자   & 23     & 3      & 무     & B      & 178.5  & 64.2   &  NA   \\\\\n",
       "\t14 & 이희수 & 여자   & 23     & 1      & 무     & A      & 176.9  & 55.0   & 245   \\\\\n",
       "\t15 & 이희진 & 여자   & 23     & 3      & 무     & O      & 176.1  & 53.1   & 245   \\\\\n",
       "\t16 & 임동민 & 남자   & 22     & 2      & 무     & AB     & 180.0  & 75.8   & 280   \\\\\n",
       "\t17 & 홍길동 & 남자   & 24     & 4      & 무     & B      & 175.0  & 80.1   & 275   \\\\\n",
       "\\end{tabular}\n"
      ],
      "text/markdown": [
       "\n",
       "| <!--/--> | name | sex | age | grade | absence | blood | height | weight | footsize |\n",
       "|---|---|---|---|---|---|---|---|---|---|\n",
       "| 12 | 이미린 | 여자   | 22     | 2      | 무     | AB     | 170.1  | 53.0   | 245    |\n",
       "| 13 | 이철린 | 남자   | 23     | 3      | 무     | B      | 178.5  | 64.2   |  NA    |\n",
       "| 14 | 이희수 | 여자   | 23     | 1      | 무     | A      | 176.9  | 55.0   | 245    |\n",
       "| 15 | 이희진 | 여자   | 23     | 3      | 무     | O      | 176.1  | 53.1   | 245    |\n",
       "| 16 | 임동민 | 남자   | 22     | 2      | 무     | AB     | 180.0  | 75.8   | 280    |\n",
       "| 17 | 홍길동 | 남자   | 24     | 4      | 무     | B      | 175.0  | 80.1   | 275    |\n",
       "\n"
      ],
      "text/plain": [
       "   name   sex  age grade absence blood height weight footsize\n",
       "12 이미린 여자 22  2     무      AB    170.1  53.0   245     \n",
       "13 이철린 남자 23  3     무      B     178.5  64.2    NA     \n",
       "14 이희수 여자 23  1     무      A     176.9  55.0   245     \n",
       "15 이희진 여자 23  3     무      O     176.1  53.1   245     \n",
       "16 임동민 남자 22  2     무      AB    180.0  75.8   280     \n",
       "17 홍길동 남자 24  4     무      B     175.0  80.1   275     "
      ]
     },
     "metadata": {},
     "output_type": "display_data"
    }
   ],
   "source": [
    "df_head <- head(df_merge)\n",
    "df_tail <- tail(df_merge)\n",
    "df_head\n",
    "df_tail"
   ]
  },
  {
   "cell_type": "code",
   "execution_count": 57,
   "metadata": {},
   "outputs": [
    {
     "data": {
      "text/html": [
       "<table>\n",
       "<thead><tr><th></th><th scope=col>name</th><th scope=col>sex</th><th scope=col>age</th><th scope=col>grade</th><th scope=col>absence</th><th scope=col>blood</th><th scope=col>height</th><th scope=col>weight</th><th scope=col>footsize</th></tr></thead>\n",
       "<tbody>\n",
       "\t<tr><th scope=row>1</th><td>강수친</td><td>여자  </td><td>22    </td><td>1     </td><td>무    </td><td>O     </td><td>155.2 </td><td>45.3  </td><td>245   </td></tr>\n",
       "\t<tr><th scope=row>2</th><td>김길동</td><td>남자  </td><td>23    </td><td>3     </td><td>유    </td><td>O     </td><td>165.3 </td><td>68.2  </td><td>270   </td></tr>\n",
       "\t<tr><th scope=row>3</th><td>김동수</td><td>남자  </td><td>24    </td><td>4     </td><td>유    </td><td>B     </td><td>168.6 </td><td>70.2  </td><td>265   </td></tr>\n",
       "\t<tr><th scope=row>4</th><td>김미진</td><td>여자  </td><td>22    </td><td>2     </td><td>무    </td><td>B     </td><td>158.2 </td><td>45.2  </td><td>235   </td></tr>\n",
       "\t<tr><th scope=row>5</th><td>김민수</td><td>남자  </td><td>21    </td><td>1     </td><td>무    </td><td>A     </td><td>162.2 </td><td>55.3  </td><td>270   </td></tr>\n",
       "\t<tr><th scope=row>6</th><td>김철수</td><td>남자  </td><td>23    </td><td>3     </td><td>무    </td><td>AB    </td><td>182.1 </td><td>85.7  </td><td>280   </td></tr>\n",
       "\t<tr><th scope=row>12</th><td>이미린</td><td>여자  </td><td>22    </td><td>2     </td><td>무    </td><td>AB    </td><td>170.1 </td><td>53.0  </td><td>245   </td></tr>\n",
       "\t<tr><th scope=row>13</th><td>이철린</td><td>남자  </td><td>23    </td><td>3     </td><td>무    </td><td>B     </td><td>178.5 </td><td>64.2  </td><td> NA   </td></tr>\n",
       "\t<tr><th scope=row>14</th><td>이희수</td><td>여자  </td><td>23    </td><td>1     </td><td>무    </td><td>A     </td><td>176.9 </td><td>55.0  </td><td>245   </td></tr>\n",
       "\t<tr><th scope=row>15</th><td>이희진</td><td>여자  </td><td>23    </td><td>3     </td><td>무    </td><td>O     </td><td>176.1 </td><td>53.1  </td><td>245   </td></tr>\n",
       "\t<tr><th scope=row>16</th><td>임동민</td><td>남자  </td><td>22    </td><td>2     </td><td>무    </td><td>AB    </td><td>180.0 </td><td>75.8  </td><td>280   </td></tr>\n",
       "\t<tr><th scope=row>17</th><td>홍길동</td><td>남자  </td><td>24    </td><td>4     </td><td>무    </td><td>B     </td><td>175.0 </td><td>80.1  </td><td>275   </td></tr>\n",
       "</tbody>\n",
       "</table>\n"
      ],
      "text/latex": [
       "\\begin{tabular}{r|lllllllll}\n",
       "  & name & sex & age & grade & absence & blood & height & weight & footsize\\\\\n",
       "\\hline\n",
       "\t1 & 강수친 & 여자   & 22     & 1      & 무     & O      & 155.2  & 45.3   & 245   \\\\\n",
       "\t2 & 김길동 & 남자   & 23     & 3      & 유     & O      & 165.3  & 68.2   & 270   \\\\\n",
       "\t3 & 김동수 & 남자   & 24     & 4      & 유     & B      & 168.6  & 70.2   & 265   \\\\\n",
       "\t4 & 김미진 & 여자   & 22     & 2      & 무     & B      & 158.2  & 45.2   & 235   \\\\\n",
       "\t5 & 김민수 & 남자   & 21     & 1      & 무     & A      & 162.2  & 55.3   & 270   \\\\\n",
       "\t6 & 김철수 & 남자   & 23     & 3      & 무     & AB     & 182.1  & 85.7   & 280   \\\\\n",
       "\t12 & 이미린 & 여자   & 22     & 2      & 무     & AB     & 170.1  & 53.0   & 245   \\\\\n",
       "\t13 & 이철린 & 남자   & 23     & 3      & 무     & B      & 178.5  & 64.2   &  NA   \\\\\n",
       "\t14 & 이희수 & 여자   & 23     & 1      & 무     & A      & 176.9  & 55.0   & 245   \\\\\n",
       "\t15 & 이희진 & 여자   & 23     & 3      & 무     & O      & 176.1  & 53.1   & 245   \\\\\n",
       "\t16 & 임동민 & 남자   & 22     & 2      & 무     & AB     & 180.0  & 75.8   & 280   \\\\\n",
       "\t17 & 홍길동 & 남자   & 24     & 4      & 무     & B      & 175.0  & 80.1   & 275   \\\\\n",
       "\\end{tabular}\n"
      ],
      "text/markdown": [
       "\n",
       "| <!--/--> | name | sex | age | grade | absence | blood | height | weight | footsize |\n",
       "|---|---|---|---|---|---|---|---|---|---|\n",
       "| 1 | 강수친 | 여자   | 22     | 1      | 무     | O      | 155.2  | 45.3   | 245    |\n",
       "| 2 | 김길동 | 남자   | 23     | 3      | 유     | O      | 165.3  | 68.2   | 270    |\n",
       "| 3 | 김동수 | 남자   | 24     | 4      | 유     | B      | 168.6  | 70.2   | 265    |\n",
       "| 4 | 김미진 | 여자   | 22     | 2      | 무     | B      | 158.2  | 45.2   | 235    |\n",
       "| 5 | 김민수 | 남자   | 21     | 1      | 무     | A      | 162.2  | 55.3   | 270    |\n",
       "| 6 | 김철수 | 남자   | 23     | 3      | 무     | AB     | 182.1  | 85.7   | 280    |\n",
       "| 12 | 이미린 | 여자   | 22     | 2      | 무     | AB     | 170.1  | 53.0   | 245    |\n",
       "| 13 | 이철린 | 남자   | 23     | 3      | 무     | B      | 178.5  | 64.2   |  NA    |\n",
       "| 14 | 이희수 | 여자   | 23     | 1      | 무     | A      | 176.9  | 55.0   | 245    |\n",
       "| 15 | 이희진 | 여자   | 23     | 3      | 무     | O      | 176.1  | 53.1   | 245    |\n",
       "| 16 | 임동민 | 남자   | 22     | 2      | 무     | AB     | 180.0  | 75.8   | 280    |\n",
       "| 17 | 홍길동 | 남자   | 24     | 4      | 무     | B      | 175.0  | 80.1   | 275    |\n",
       "\n"
      ],
      "text/plain": [
       "   name   sex  age grade absence blood height weight footsize\n",
       "1  강수친 여자 22  1     무      O     155.2  45.3   245     \n",
       "2  김길동 남자 23  3     유      O     165.3  68.2   270     \n",
       "3  김동수 남자 24  4     유      B     168.6  70.2   265     \n",
       "4  김미진 여자 22  2     무      B     158.2  45.2   235     \n",
       "5  김민수 남자 21  1     무      A     162.2  55.3   270     \n",
       "6  김철수 남자 23  3     무      AB    182.1  85.7   280     \n",
       "12 이미린 여자 22  2     무      AB    170.1  53.0   245     \n",
       "13 이철린 남자 23  3     무      B     178.5  64.2    NA     \n",
       "14 이희수 여자 23  1     무      A     176.9  55.0   245     \n",
       "15 이희진 여자 23  3     무      O     176.1  53.1   245     \n",
       "16 임동민 남자 22  2     무      AB    180.0  75.8   280     \n",
       "17 홍길동 남자 24  4     무      B     175.0  80.1   275     "
      ]
     },
     "metadata": {},
     "output_type": "display_data"
    }
   ],
   "source": [
    "df_rbind <- rbind(df_head,df_tail)\n",
    "df_rbind"
   ]
  },
  {
   "cell_type": "code",
   "execution_count": 59,
   "metadata": {},
   "outputs": [],
   "source": [
    "#list\n",
    "df <- df_merge\n",
    "n <- c(1:20)\n",
    "s <- c('a','b','c')\n",
    "b <- c(T,F,T,T,F)\n",
    "tmp_list <- list(df,n,s,b,mean)"
   ]
  },
  {
   "cell_type": "code",
   "execution_count": 60,
   "metadata": {},
   "outputs": [
    {
     "data": {
      "text/html": [
       "<ol>\n",
       "\t<li><table>\n",
       "<thead><tr><th scope=col>name</th><th scope=col>sex</th><th scope=col>age</th><th scope=col>grade</th><th scope=col>absence</th><th scope=col>blood</th><th scope=col>height</th><th scope=col>weight</th><th scope=col>footsize</th></tr></thead>\n",
       "<tbody>\n",
       "\t<tr><td>강수친</td><td>여자  </td><td>22    </td><td>1     </td><td>무    </td><td>O     </td><td>155.2 </td><td>45.3  </td><td>245   </td></tr>\n",
       "\t<tr><td>김길동</td><td>남자  </td><td>23    </td><td>3     </td><td>유    </td><td>O     </td><td>165.3 </td><td>68.2  </td><td>270   </td></tr>\n",
       "\t<tr><td>김동수</td><td>남자  </td><td>24    </td><td>4     </td><td>유    </td><td>B     </td><td>168.6 </td><td>70.2  </td><td>265   </td></tr>\n",
       "\t<tr><td>김미진</td><td>여자  </td><td>22    </td><td>2     </td><td>무    </td><td>B     </td><td>158.2 </td><td>45.2  </td><td>235   </td></tr>\n",
       "\t<tr><td>김민수</td><td>남자  </td><td>21    </td><td>1     </td><td>무    </td><td>A     </td><td>162.2 </td><td>55.3  </td><td>270   </td></tr>\n",
       "\t<tr><td>김철수</td><td>남자  </td><td>23    </td><td>3     </td><td>무    </td><td>AB    </td><td>182.1 </td><td>85.7  </td><td>280   </td></tr>\n",
       "\t<tr><td>박미희</td><td>여자  </td><td>21    </td><td>2     </td><td>무    </td><td>O     </td><td>162.0 </td><td>52.0  </td><td>240   </td></tr>\n",
       "\t<tr><td>박수호</td><td>남자  </td><td>24    </td><td>4     </td><td>유    </td><td>O     </td><td>167.1 </td><td>62.0  </td><td> NA   </td></tr>\n",
       "\t<tr><td>방희철</td><td>남자  </td><td>22    </td><td>2     </td><td>무    </td><td>B     </td><td>176.1 </td><td>61.3  </td><td>275   </td></tr>\n",
       "\t<tr><td>손세수</td><td>여자  </td><td>20    </td><td>1     </td><td>유    </td><td>A     </td><td>168.0 </td><td>49.5  </td><td>240   </td></tr>\n",
       "\t<tr><td>여수근</td><td>남자  </td><td>21    </td><td>1     </td><td>무    </td><td>A     </td><td>169.2 </td><td>62.2  </td><td>265   </td></tr>\n",
       "\t<tr><td>이미린</td><td>여자  </td><td>22    </td><td>2     </td><td>무    </td><td>AB    </td><td>170.1 </td><td>53.0  </td><td>245   </td></tr>\n",
       "\t<tr><td>이철린</td><td>남자  </td><td>23    </td><td>3     </td><td>무    </td><td>B     </td><td>178.5 </td><td>64.2  </td><td> NA   </td></tr>\n",
       "\t<tr><td>이희수</td><td>여자  </td><td>23    </td><td>1     </td><td>무    </td><td>A     </td><td>176.9 </td><td>55.0  </td><td>245   </td></tr>\n",
       "\t<tr><td>이희진</td><td>여자  </td><td>23    </td><td>3     </td><td>무    </td><td>O     </td><td>176.1 </td><td>53.1  </td><td>245   </td></tr>\n",
       "\t<tr><td>임동민</td><td>남자  </td><td>22    </td><td>2     </td><td>무    </td><td>AB    </td><td>180.0 </td><td>75.8  </td><td>280   </td></tr>\n",
       "\t<tr><td>홍길동</td><td>남자  </td><td>24    </td><td>4     </td><td>무    </td><td>B     </td><td>175.0 </td><td>80.1  </td><td>275   </td></tr>\n",
       "</tbody>\n",
       "</table>\n",
       "</li>\n",
       "\t<li><ol class=list-inline>\n",
       "\t<li>1</li>\n",
       "\t<li>2</li>\n",
       "\t<li>3</li>\n",
       "\t<li>4</li>\n",
       "\t<li>5</li>\n",
       "\t<li>6</li>\n",
       "\t<li>7</li>\n",
       "\t<li>8</li>\n",
       "\t<li>9</li>\n",
       "\t<li>10</li>\n",
       "\t<li>11</li>\n",
       "\t<li>12</li>\n",
       "\t<li>13</li>\n",
       "\t<li>14</li>\n",
       "\t<li>15</li>\n",
       "\t<li>16</li>\n",
       "\t<li>17</li>\n",
       "\t<li>18</li>\n",
       "\t<li>19</li>\n",
       "\t<li>20</li>\n",
       "</ol>\n",
       "</li>\n",
       "\t<li><ol class=list-inline>\n",
       "\t<li>'a'</li>\n",
       "\t<li>'b'</li>\n",
       "\t<li>'c'</li>\n",
       "</ol>\n",
       "</li>\n",
       "\t<li><ol class=list-inline>\n",
       "\t<li>TRUE</li>\n",
       "\t<li>FALSE</li>\n",
       "\t<li>TRUE</li>\n",
       "\t<li>TRUE</li>\n",
       "\t<li>FALSE</li>\n",
       "</ol>\n",
       "</li>\n",
       "\t<li><pre class=language-r><code>function (x, ...) \n",
       "UseMethod(\"mean\")</code></pre></li>\n",
       "</ol>\n"
      ],
      "text/latex": [
       "\\begin{enumerate}\n",
       "\\item \\begin{tabular}{r|lllllllll}\n",
       " name & sex & age & grade & absence & blood & height & weight & footsize\\\\\n",
       "\\hline\n",
       "\t 강수친 & 여자   & 22     & 1      & 무     & O      & 155.2  & 45.3   & 245   \\\\\n",
       "\t 김길동 & 남자   & 23     & 3      & 유     & O      & 165.3  & 68.2   & 270   \\\\\n",
       "\t 김동수 & 남자   & 24     & 4      & 유     & B      & 168.6  & 70.2   & 265   \\\\\n",
       "\t 김미진 & 여자   & 22     & 2      & 무     & B      & 158.2  & 45.2   & 235   \\\\\n",
       "\t 김민수 & 남자   & 21     & 1      & 무     & A      & 162.2  & 55.3   & 270   \\\\\n",
       "\t 김철수 & 남자   & 23     & 3      & 무     & AB     & 182.1  & 85.7   & 280   \\\\\n",
       "\t 박미희 & 여자   & 21     & 2      & 무     & O      & 162.0  & 52.0   & 240   \\\\\n",
       "\t 박수호 & 남자   & 24     & 4      & 유     & O      & 167.1  & 62.0   &  NA   \\\\\n",
       "\t 방희철 & 남자   & 22     & 2      & 무     & B      & 176.1  & 61.3   & 275   \\\\\n",
       "\t 손세수 & 여자   & 20     & 1      & 유     & A      & 168.0  & 49.5   & 240   \\\\\n",
       "\t 여수근 & 남자   & 21     & 1      & 무     & A      & 169.2  & 62.2   & 265   \\\\\n",
       "\t 이미린 & 여자   & 22     & 2      & 무     & AB     & 170.1  & 53.0   & 245   \\\\\n",
       "\t 이철린 & 남자   & 23     & 3      & 무     & B      & 178.5  & 64.2   &  NA   \\\\\n",
       "\t 이희수 & 여자   & 23     & 1      & 무     & A      & 176.9  & 55.0   & 245   \\\\\n",
       "\t 이희진 & 여자   & 23     & 3      & 무     & O      & 176.1  & 53.1   & 245   \\\\\n",
       "\t 임동민 & 남자   & 22     & 2      & 무     & AB     & 180.0  & 75.8   & 280   \\\\\n",
       "\t 홍길동 & 남자   & 24     & 4      & 무     & B      & 175.0  & 80.1   & 275   \\\\\n",
       "\\end{tabular}\n",
       "\n",
       "\\item \\begin{enumerate*}\n",
       "\\item 1\n",
       "\\item 2\n",
       "\\item 3\n",
       "\\item 4\n",
       "\\item 5\n",
       "\\item 6\n",
       "\\item 7\n",
       "\\item 8\n",
       "\\item 9\n",
       "\\item 10\n",
       "\\item 11\n",
       "\\item 12\n",
       "\\item 13\n",
       "\\item 14\n",
       "\\item 15\n",
       "\\item 16\n",
       "\\item 17\n",
       "\\item 18\n",
       "\\item 19\n",
       "\\item 20\n",
       "\\end{enumerate*}\n",
       "\n",
       "\\item \\begin{enumerate*}\n",
       "\\item 'a'\n",
       "\\item 'b'\n",
       "\\item 'c'\n",
       "\\end{enumerate*}\n",
       "\n",
       "\\item \\begin{enumerate*}\n",
       "\\item TRUE\n",
       "\\item FALSE\n",
       "\\item TRUE\n",
       "\\item TRUE\n",
       "\\item FALSE\n",
       "\\end{enumerate*}\n",
       "\n",
       "\\item \\begin{minted}{r}\n",
       "function (x, ...) \n",
       "UseMethod(\"mean\")\n",
       "\\end{minted}\n",
       "\\end{enumerate}\n"
      ],
      "text/markdown": [
       "1. \n",
       "| name | sex | age | grade | absence | blood | height | weight | footsize |\n",
       "|---|---|---|---|---|---|---|---|---|\n",
       "| 강수친 | 여자   | 22     | 1      | 무     | O      | 155.2  | 45.3   | 245    |\n",
       "| 김길동 | 남자   | 23     | 3      | 유     | O      | 165.3  | 68.2   | 270    |\n",
       "| 김동수 | 남자   | 24     | 4      | 유     | B      | 168.6  | 70.2   | 265    |\n",
       "| 김미진 | 여자   | 22     | 2      | 무     | B      | 158.2  | 45.2   | 235    |\n",
       "| 김민수 | 남자   | 21     | 1      | 무     | A      | 162.2  | 55.3   | 270    |\n",
       "| 김철수 | 남자   | 23     | 3      | 무     | AB     | 182.1  | 85.7   | 280    |\n",
       "| 박미희 | 여자   | 21     | 2      | 무     | O      | 162.0  | 52.0   | 240    |\n",
       "| 박수호 | 남자   | 24     | 4      | 유     | O      | 167.1  | 62.0   |  NA    |\n",
       "| 방희철 | 남자   | 22     | 2      | 무     | B      | 176.1  | 61.3   | 275    |\n",
       "| 손세수 | 여자   | 20     | 1      | 유     | A      | 168.0  | 49.5   | 240    |\n",
       "| 여수근 | 남자   | 21     | 1      | 무     | A      | 169.2  | 62.2   | 265    |\n",
       "| 이미린 | 여자   | 22     | 2      | 무     | AB     | 170.1  | 53.0   | 245    |\n",
       "| 이철린 | 남자   | 23     | 3      | 무     | B      | 178.5  | 64.2   |  NA    |\n",
       "| 이희수 | 여자   | 23     | 1      | 무     | A      | 176.9  | 55.0   | 245    |\n",
       "| 이희진 | 여자   | 23     | 3      | 무     | O      | 176.1  | 53.1   | 245    |\n",
       "| 임동민 | 남자   | 22     | 2      | 무     | AB     | 180.0  | 75.8   | 280    |\n",
       "| 홍길동 | 남자   | 24     | 4      | 무     | B      | 175.0  | 80.1   | 275    |\n",
       "\n",
       "\n",
       "2. 1. 1\n",
       "2. 2\n",
       "3. 3\n",
       "4. 4\n",
       "5. 5\n",
       "6. 6\n",
       "7. 7\n",
       "8. 8\n",
       "9. 9\n",
       "10. 10\n",
       "11. 11\n",
       "12. 12\n",
       "13. 13\n",
       "14. 14\n",
       "15. 15\n",
       "16. 16\n",
       "17. 17\n",
       "18. 18\n",
       "19. 19\n",
       "20. 20\n",
       "\n",
       "\n",
       "\n",
       "3. 1. 'a'\n",
       "2. 'b'\n",
       "3. 'c'\n",
       "\n",
       "\n",
       "\n",
       "4. 1. TRUE\n",
       "2. FALSE\n",
       "3. TRUE\n",
       "4. TRUE\n",
       "5. FALSE\n",
       "\n",
       "\n",
       "\n",
       "5. ```r\n",
       "function (x, ...) \n",
       "UseMethod(\"mean\")\n",
       "```\n",
       "\n",
       "\n"
      ],
      "text/plain": [
       "[[1]]\n",
       "     name  sex age grade absence blood height weight footsize\n",
       "1  강수친 여자  22     1      무     O  155.2   45.3      245\n",
       "2  김길동 남자  23     3      유     O  165.3   68.2      270\n",
       "3  김동수 남자  24     4      유     B  168.6   70.2      265\n",
       "4  김미진 여자  22     2      무     B  158.2   45.2      235\n",
       "5  김민수 남자  21     1      무     A  162.2   55.3      270\n",
       "6  김철수 남자  23     3      무    AB  182.1   85.7      280\n",
       "7  박미희 여자  21     2      무     O  162.0   52.0      240\n",
       "8  박수호 남자  24     4      유     O  167.1   62.0       NA\n",
       "9  방희철 남자  22     2      무     B  176.1   61.3      275\n",
       "10 손세수 여자  20     1      유     A  168.0   49.5      240\n",
       "11 여수근 남자  21     1      무     A  169.2   62.2      265\n",
       "12 이미린 여자  22     2      무    AB  170.1   53.0      245\n",
       "13 이철린 남자  23     3      무     B  178.5   64.2       NA\n",
       "14 이희수 여자  23     1      무     A  176.9   55.0      245\n",
       "15 이희진 여자  23     3      무     O  176.1   53.1      245\n",
       "16 임동민 남자  22     2      무    AB  180.0   75.8      280\n",
       "17 홍길동 남자  24     4      무     B  175.0   80.1      275\n",
       "\n",
       "[[2]]\n",
       " [1]  1  2  3  4  5  6  7  8  9 10 11 12 13 14 15 16 17 18 19 20\n",
       "\n",
       "[[3]]\n",
       "[1] \"a\" \"b\" \"c\"\n",
       "\n",
       "[[4]]\n",
       "[1]  TRUE FALSE  TRUE  TRUE FALSE\n",
       "\n",
       "[[5]]\n",
       "function (x, ...) \n",
       "UseMethod(\"mean\")\n",
       "<bytecode: 0x00000000267f5850>\n",
       "<environment: namespace:base>\n"
      ]
     },
     "metadata": {},
     "output_type": "display_data"
    }
   ],
   "source": [
    "tmp_list"
   ]
  },
  {
   "cell_type": "code",
   "execution_count": 61,
   "metadata": {},
   "outputs": [
    {
     "data": {
      "text/html": [
       "<dl>\n",
       "\t<dt>$DataFrame</dt>\n",
       "\t\t<dd><table>\n",
       "<thead><tr><th scope=col>name</th><th scope=col>sex</th><th scope=col>age</th><th scope=col>grade</th><th scope=col>absence</th><th scope=col>blood</th><th scope=col>height</th><th scope=col>weight</th><th scope=col>footsize</th></tr></thead>\n",
       "<tbody>\n",
       "\t<tr><td>강수친</td><td>여자  </td><td>22    </td><td>1     </td><td>무    </td><td>O     </td><td>155.2 </td><td>45.3  </td><td>245   </td></tr>\n",
       "\t<tr><td>김길동</td><td>남자  </td><td>23    </td><td>3     </td><td>유    </td><td>O     </td><td>165.3 </td><td>68.2  </td><td>270   </td></tr>\n",
       "\t<tr><td>김동수</td><td>남자  </td><td>24    </td><td>4     </td><td>유    </td><td>B     </td><td>168.6 </td><td>70.2  </td><td>265   </td></tr>\n",
       "\t<tr><td>김미진</td><td>여자  </td><td>22    </td><td>2     </td><td>무    </td><td>B     </td><td>158.2 </td><td>45.2  </td><td>235   </td></tr>\n",
       "\t<tr><td>김민수</td><td>남자  </td><td>21    </td><td>1     </td><td>무    </td><td>A     </td><td>162.2 </td><td>55.3  </td><td>270   </td></tr>\n",
       "\t<tr><td>김철수</td><td>남자  </td><td>23    </td><td>3     </td><td>무    </td><td>AB    </td><td>182.1 </td><td>85.7  </td><td>280   </td></tr>\n",
       "\t<tr><td>박미희</td><td>여자  </td><td>21    </td><td>2     </td><td>무    </td><td>O     </td><td>162.0 </td><td>52.0  </td><td>240   </td></tr>\n",
       "\t<tr><td>박수호</td><td>남자  </td><td>24    </td><td>4     </td><td>유    </td><td>O     </td><td>167.1 </td><td>62.0  </td><td> NA   </td></tr>\n",
       "\t<tr><td>방희철</td><td>남자  </td><td>22    </td><td>2     </td><td>무    </td><td>B     </td><td>176.1 </td><td>61.3  </td><td>275   </td></tr>\n",
       "\t<tr><td>손세수</td><td>여자  </td><td>20    </td><td>1     </td><td>유    </td><td>A     </td><td>168.0 </td><td>49.5  </td><td>240   </td></tr>\n",
       "\t<tr><td>여수근</td><td>남자  </td><td>21    </td><td>1     </td><td>무    </td><td>A     </td><td>169.2 </td><td>62.2  </td><td>265   </td></tr>\n",
       "\t<tr><td>이미린</td><td>여자  </td><td>22    </td><td>2     </td><td>무    </td><td>AB    </td><td>170.1 </td><td>53.0  </td><td>245   </td></tr>\n",
       "\t<tr><td>이철린</td><td>남자  </td><td>23    </td><td>3     </td><td>무    </td><td>B     </td><td>178.5 </td><td>64.2  </td><td> NA   </td></tr>\n",
       "\t<tr><td>이희수</td><td>여자  </td><td>23    </td><td>1     </td><td>무    </td><td>A     </td><td>176.9 </td><td>55.0  </td><td>245   </td></tr>\n",
       "\t<tr><td>이희진</td><td>여자  </td><td>23    </td><td>3     </td><td>무    </td><td>O     </td><td>176.1 </td><td>53.1  </td><td>245   </td></tr>\n",
       "\t<tr><td>임동민</td><td>남자  </td><td>22    </td><td>2     </td><td>무    </td><td>AB    </td><td>180.0 </td><td>75.8  </td><td>280   </td></tr>\n",
       "\t<tr><td>홍길동</td><td>남자  </td><td>24    </td><td>4     </td><td>무    </td><td>B     </td><td>175.0 </td><td>80.1  </td><td>275   </td></tr>\n",
       "</tbody>\n",
       "</table>\n",
       "</dd>\n",
       "\t<dt>$Number</dt>\n",
       "\t\t<dd><ol class=list-inline>\n",
       "\t<li>1</li>\n",
       "\t<li>2</li>\n",
       "\t<li>3</li>\n",
       "\t<li>4</li>\n",
       "\t<li>5</li>\n",
       "\t<li>6</li>\n",
       "\t<li>7</li>\n",
       "\t<li>8</li>\n",
       "\t<li>9</li>\n",
       "\t<li>10</li>\n",
       "\t<li>11</li>\n",
       "\t<li>12</li>\n",
       "\t<li>13</li>\n",
       "\t<li>14</li>\n",
       "\t<li>15</li>\n",
       "\t<li>16</li>\n",
       "\t<li>17</li>\n",
       "\t<li>18</li>\n",
       "\t<li>19</li>\n",
       "\t<li>20</li>\n",
       "</ol>\n",
       "</dd>\n",
       "\t<dt>$String</dt>\n",
       "\t\t<dd><ol class=list-inline>\n",
       "\t<li>'a'</li>\n",
       "\t<li>'b'</li>\n",
       "\t<li>'c'</li>\n",
       "</ol>\n",
       "</dd>\n",
       "\t<dt>$bool</dt>\n",
       "\t\t<dd><ol class=list-inline>\n",
       "\t<li>TRUE</li>\n",
       "\t<li>FALSE</li>\n",
       "\t<li>TRUE</li>\n",
       "\t<li>TRUE</li>\n",
       "\t<li>FALSE</li>\n",
       "</ol>\n",
       "</dd>\n",
       "\t<dt>$Func</dt>\n",
       "\t\t<dd><pre class=language-r><code>function (x, ...) \n",
       "UseMethod(\"mean\")</code></pre></dd>\n",
       "</dl>\n"
      ],
      "text/latex": [
       "\\begin{description}\n",
       "\\item[\\$DataFrame] \\begin{tabular}{r|lllllllll}\n",
       " name & sex & age & grade & absence & blood & height & weight & footsize\\\\\n",
       "\\hline\n",
       "\t 강수친 & 여자   & 22     & 1      & 무     & O      & 155.2  & 45.3   & 245   \\\\\n",
       "\t 김길동 & 남자   & 23     & 3      & 유     & O      & 165.3  & 68.2   & 270   \\\\\n",
       "\t 김동수 & 남자   & 24     & 4      & 유     & B      & 168.6  & 70.2   & 265   \\\\\n",
       "\t 김미진 & 여자   & 22     & 2      & 무     & B      & 158.2  & 45.2   & 235   \\\\\n",
       "\t 김민수 & 남자   & 21     & 1      & 무     & A      & 162.2  & 55.3   & 270   \\\\\n",
       "\t 김철수 & 남자   & 23     & 3      & 무     & AB     & 182.1  & 85.7   & 280   \\\\\n",
       "\t 박미희 & 여자   & 21     & 2      & 무     & O      & 162.0  & 52.0   & 240   \\\\\n",
       "\t 박수호 & 남자   & 24     & 4      & 유     & O      & 167.1  & 62.0   &  NA   \\\\\n",
       "\t 방희철 & 남자   & 22     & 2      & 무     & B      & 176.1  & 61.3   & 275   \\\\\n",
       "\t 손세수 & 여자   & 20     & 1      & 유     & A      & 168.0  & 49.5   & 240   \\\\\n",
       "\t 여수근 & 남자   & 21     & 1      & 무     & A      & 169.2  & 62.2   & 265   \\\\\n",
       "\t 이미린 & 여자   & 22     & 2      & 무     & AB     & 170.1  & 53.0   & 245   \\\\\n",
       "\t 이철린 & 남자   & 23     & 3      & 무     & B      & 178.5  & 64.2   &  NA   \\\\\n",
       "\t 이희수 & 여자   & 23     & 1      & 무     & A      & 176.9  & 55.0   & 245   \\\\\n",
       "\t 이희진 & 여자   & 23     & 3      & 무     & O      & 176.1  & 53.1   & 245   \\\\\n",
       "\t 임동민 & 남자   & 22     & 2      & 무     & AB     & 180.0  & 75.8   & 280   \\\\\n",
       "\t 홍길동 & 남자   & 24     & 4      & 무     & B      & 175.0  & 80.1   & 275   \\\\\n",
       "\\end{tabular}\n",
       "\n",
       "\\item[\\$Number] \\begin{enumerate*}\n",
       "\\item 1\n",
       "\\item 2\n",
       "\\item 3\n",
       "\\item 4\n",
       "\\item 5\n",
       "\\item 6\n",
       "\\item 7\n",
       "\\item 8\n",
       "\\item 9\n",
       "\\item 10\n",
       "\\item 11\n",
       "\\item 12\n",
       "\\item 13\n",
       "\\item 14\n",
       "\\item 15\n",
       "\\item 16\n",
       "\\item 17\n",
       "\\item 18\n",
       "\\item 19\n",
       "\\item 20\n",
       "\\end{enumerate*}\n",
       "\n",
       "\\item[\\$String] \\begin{enumerate*}\n",
       "\\item 'a'\n",
       "\\item 'b'\n",
       "\\item 'c'\n",
       "\\end{enumerate*}\n",
       "\n",
       "\\item[\\$bool] \\begin{enumerate*}\n",
       "\\item TRUE\n",
       "\\item FALSE\n",
       "\\item TRUE\n",
       "\\item TRUE\n",
       "\\item FALSE\n",
       "\\end{enumerate*}\n",
       "\n",
       "\\item[\\$Func] \\begin{minted}{r}\n",
       "function (x, ...) \n",
       "UseMethod(\"mean\")\n",
       "\\end{minted}\n",
       "\\end{description}\n"
      ],
      "text/markdown": [
       "$DataFrame\n",
       ":   \n",
       "| name | sex | age | grade | absence | blood | height | weight | footsize |\n",
       "|---|---|---|---|---|---|---|---|---|\n",
       "| 강수친 | 여자   | 22     | 1      | 무     | O      | 155.2  | 45.3   | 245    |\n",
       "| 김길동 | 남자   | 23     | 3      | 유     | O      | 165.3  | 68.2   | 270    |\n",
       "| 김동수 | 남자   | 24     | 4      | 유     | B      | 168.6  | 70.2   | 265    |\n",
       "| 김미진 | 여자   | 22     | 2      | 무     | B      | 158.2  | 45.2   | 235    |\n",
       "| 김민수 | 남자   | 21     | 1      | 무     | A      | 162.2  | 55.3   | 270    |\n",
       "| 김철수 | 남자   | 23     | 3      | 무     | AB     | 182.1  | 85.7   | 280    |\n",
       "| 박미희 | 여자   | 21     | 2      | 무     | O      | 162.0  | 52.0   | 240    |\n",
       "| 박수호 | 남자   | 24     | 4      | 유     | O      | 167.1  | 62.0   |  NA    |\n",
       "| 방희철 | 남자   | 22     | 2      | 무     | B      | 176.1  | 61.3   | 275    |\n",
       "| 손세수 | 여자   | 20     | 1      | 유     | A      | 168.0  | 49.5   | 240    |\n",
       "| 여수근 | 남자   | 21     | 1      | 무     | A      | 169.2  | 62.2   | 265    |\n",
       "| 이미린 | 여자   | 22     | 2      | 무     | AB     | 170.1  | 53.0   | 245    |\n",
       "| 이철린 | 남자   | 23     | 3      | 무     | B      | 178.5  | 64.2   |  NA    |\n",
       "| 이희수 | 여자   | 23     | 1      | 무     | A      | 176.9  | 55.0   | 245    |\n",
       "| 이희진 | 여자   | 23     | 3      | 무     | O      | 176.1  | 53.1   | 245    |\n",
       "| 임동민 | 남자   | 22     | 2      | 무     | AB     | 180.0  | 75.8   | 280    |\n",
       "| 홍길동 | 남자   | 24     | 4      | 무     | B      | 175.0  | 80.1   | 275    |\n",
       "\n",
       "\n",
       "$Number\n",
       ":   1. 1\n",
       "2. 2\n",
       "3. 3\n",
       "4. 4\n",
       "5. 5\n",
       "6. 6\n",
       "7. 7\n",
       "8. 8\n",
       "9. 9\n",
       "10. 10\n",
       "11. 11\n",
       "12. 12\n",
       "13. 13\n",
       "14. 14\n",
       "15. 15\n",
       "16. 16\n",
       "17. 17\n",
       "18. 18\n",
       "19. 19\n",
       "20. 20\n",
       "\n",
       "\n",
       "\n",
       "$String\n",
       ":   1. 'a'\n",
       "2. 'b'\n",
       "3. 'c'\n",
       "\n",
       "\n",
       "\n",
       "$bool\n",
       ":   1. TRUE\n",
       "2. FALSE\n",
       "3. TRUE\n",
       "4. TRUE\n",
       "5. FALSE\n",
       "\n",
       "\n",
       "\n",
       "$Func\n",
       ":   ```r\n",
       "function (x, ...) \n",
       "UseMethod(\"mean\")\n",
       "```\n",
       "\n",
       "\n"
      ],
      "text/plain": [
       "$DataFrame\n",
       "     name  sex age grade absence blood height weight footsize\n",
       "1  강수친 여자  22     1      무     O  155.2   45.3      245\n",
       "2  김길동 남자  23     3      유     O  165.3   68.2      270\n",
       "3  김동수 남자  24     4      유     B  168.6   70.2      265\n",
       "4  김미진 여자  22     2      무     B  158.2   45.2      235\n",
       "5  김민수 남자  21     1      무     A  162.2   55.3      270\n",
       "6  김철수 남자  23     3      무    AB  182.1   85.7      280\n",
       "7  박미희 여자  21     2      무     O  162.0   52.0      240\n",
       "8  박수호 남자  24     4      유     O  167.1   62.0       NA\n",
       "9  방희철 남자  22     2      무     B  176.1   61.3      275\n",
       "10 손세수 여자  20     1      유     A  168.0   49.5      240\n",
       "11 여수근 남자  21     1      무     A  169.2   62.2      265\n",
       "12 이미린 여자  22     2      무    AB  170.1   53.0      245\n",
       "13 이철린 남자  23     3      무     B  178.5   64.2       NA\n",
       "14 이희수 여자  23     1      무     A  176.9   55.0      245\n",
       "15 이희진 여자  23     3      무     O  176.1   53.1      245\n",
       "16 임동민 남자  22     2      무    AB  180.0   75.8      280\n",
       "17 홍길동 남자  24     4      무     B  175.0   80.1      275\n",
       "\n",
       "$Number\n",
       " [1]  1  2  3  4  5  6  7  8  9 10 11 12 13 14 15 16 17 18 19 20\n",
       "\n",
       "$String\n",
       "[1] \"a\" \"b\" \"c\"\n",
       "\n",
       "$bool\n",
       "[1]  TRUE FALSE  TRUE  TRUE FALSE\n",
       "\n",
       "$Func\n",
       "function (x, ...) \n",
       "UseMethod(\"mean\")\n",
       "<bytecode: 0x00000000267f5850>\n",
       "<environment: namespace:base>\n"
      ]
     },
     "metadata": {},
     "output_type": "display_data"
    }
   ],
   "source": [
    "tmp_list2 <- list(DataFrame=df,Number=n,String=s,bool=b,Func=mean)\n",
    "tmp_list2"
   ]
  },
  {
   "cell_type": "code",
   "execution_count": 63,
   "metadata": {},
   "outputs": [
    {
     "data": {
      "text/html": [
       "<strong>$Number</strong> = <ol class=list-inline>\n",
       "\t<li>1</li>\n",
       "\t<li>2</li>\n",
       "\t<li>3</li>\n",
       "\t<li>4</li>\n",
       "\t<li>5</li>\n",
       "\t<li>6</li>\n",
       "\t<li>7</li>\n",
       "\t<li>8</li>\n",
       "\t<li>9</li>\n",
       "\t<li>10</li>\n",
       "\t<li>11</li>\n",
       "\t<li>12</li>\n",
       "\t<li>13</li>\n",
       "\t<li>14</li>\n",
       "\t<li>15</li>\n",
       "\t<li>16</li>\n",
       "\t<li>17</li>\n",
       "\t<li>18</li>\n",
       "\t<li>19</li>\n",
       "\t<li>20</li>\n",
       "</ol>\n"
      ],
      "text/latex": [
       "\\textbf{\\$Number} = \\begin{enumerate*}\n",
       "\\item 1\n",
       "\\item 2\n",
       "\\item 3\n",
       "\\item 4\n",
       "\\item 5\n",
       "\\item 6\n",
       "\\item 7\n",
       "\\item 8\n",
       "\\item 9\n",
       "\\item 10\n",
       "\\item 11\n",
       "\\item 12\n",
       "\\item 13\n",
       "\\item 14\n",
       "\\item 15\n",
       "\\item 16\n",
       "\\item 17\n",
       "\\item 18\n",
       "\\item 19\n",
       "\\item 20\n",
       "\\end{enumerate*}\n"
      ],
      "text/markdown": [
       "**$Number** = 1. 1\n",
       "2. 2\n",
       "3. 3\n",
       "4. 4\n",
       "5. 5\n",
       "6. 6\n",
       "7. 7\n",
       "8. 8\n",
       "9. 9\n",
       "10. 10\n",
       "11. 11\n",
       "12. 12\n",
       "13. 13\n",
       "14. 14\n",
       "15. 15\n",
       "16. 16\n",
       "17. 17\n",
       "18. 18\n",
       "19. 19\n",
       "20. 20\n",
       "\n",
       "\n"
      ],
      "text/plain": [
       "$Number\n",
       " [1]  1  2  3  4  5  6  7  8  9 10 11 12 13 14 15 16 17 18 19 20\n"
      ]
     },
     "metadata": {},
     "output_type": "display_data"
    }
   ],
   "source": [
    "tmp_list2[2]"
   ]
  },
  {
   "cell_type": "code",
   "execution_count": 64,
   "metadata": {},
   "outputs": [
    {
     "data": {
      "text/html": [
       "<strong>$Number</strong> = <ol class=list-inline>\n",
       "\t<li>1</li>\n",
       "\t<li>2</li>\n",
       "\t<li>3</li>\n",
       "\t<li>4</li>\n",
       "\t<li>5</li>\n",
       "\t<li>6</li>\n",
       "\t<li>7</li>\n",
       "\t<li>8</li>\n",
       "\t<li>9</li>\n",
       "\t<li>10</li>\n",
       "\t<li>11</li>\n",
       "\t<li>12</li>\n",
       "\t<li>13</li>\n",
       "\t<li>14</li>\n",
       "\t<li>15</li>\n",
       "\t<li>16</li>\n",
       "\t<li>17</li>\n",
       "\t<li>18</li>\n",
       "\t<li>19</li>\n",
       "\t<li>20</li>\n",
       "</ol>\n"
      ],
      "text/latex": [
       "\\textbf{\\$Number} = \\begin{enumerate*}\n",
       "\\item 1\n",
       "\\item 2\n",
       "\\item 3\n",
       "\\item 4\n",
       "\\item 5\n",
       "\\item 6\n",
       "\\item 7\n",
       "\\item 8\n",
       "\\item 9\n",
       "\\item 10\n",
       "\\item 11\n",
       "\\item 12\n",
       "\\item 13\n",
       "\\item 14\n",
       "\\item 15\n",
       "\\item 16\n",
       "\\item 17\n",
       "\\item 18\n",
       "\\item 19\n",
       "\\item 20\n",
       "\\end{enumerate*}\n"
      ],
      "text/markdown": [
       "**$Number** = 1. 1\n",
       "2. 2\n",
       "3. 3\n",
       "4. 4\n",
       "5. 5\n",
       "6. 6\n",
       "7. 7\n",
       "8. 8\n",
       "9. 9\n",
       "10. 10\n",
       "11. 11\n",
       "12. 12\n",
       "13. 13\n",
       "14. 14\n",
       "15. 15\n",
       "16. 16\n",
       "17. 17\n",
       "18. 18\n",
       "19. 19\n",
       "20. 20\n",
       "\n",
       "\n"
      ],
      "text/plain": [
       "$Number\n",
       " [1]  1  2  3  4  5  6  7  8  9 10 11 12 13 14 15 16 17 18 19 20\n"
      ]
     },
     "metadata": {},
     "output_type": "display_data"
    }
   ],
   "source": [
    "tmp_list2['Number']"
   ]
  },
  {
   "cell_type": "code",
   "execution_count": 66,
   "metadata": {},
   "outputs": [],
   "source": [
    "tmp_list2[1] <- NULL"
   ]
  },
  {
   "cell_type": "code",
   "execution_count": 68,
   "metadata": {},
   "outputs": [
    {
     "data": {
      "text/html": [
       "'list'"
      ],
      "text/latex": [
       "'list'"
      ],
      "text/markdown": [
       "'list'"
      ],
      "text/plain": [
       "[1] \"list\""
      ]
     },
     "metadata": {},
     "output_type": "display_data"
    },
    {
     "data": {
      "text/html": [
       "'data.frame'"
      ],
      "text/latex": [
       "'data.frame'"
      ],
      "text/markdown": [
       "'data.frame'"
      ],
      "text/plain": [
       "[1] \"data.frame\""
      ]
     },
     "metadata": {},
     "output_type": "display_data"
    }
   ],
   "source": [
    "# 자료형 확인 \n",
    "class(tmp_list[1])\n",
    "class(tmp_list[[1]])"
   ]
  },
  {
   "cell_type": "code",
   "execution_count": 69,
   "metadata": {},
   "outputs": [
    {
     "data": {
      "text/html": [
       "<dl>\n",
       "\t<dt>$String</dt>\n",
       "\t\t<dd><ol class=list-inline>\n",
       "\t<li>'a'</li>\n",
       "\t<li>'b'</li>\n",
       "\t<li>'c'</li>\n",
       "</ol>\n",
       "</dd>\n",
       "\t<dt>$bool</dt>\n",
       "\t\t<dd><ol class=list-inline>\n",
       "\t<li>TRUE</li>\n",
       "\t<li>FALSE</li>\n",
       "\t<li>TRUE</li>\n",
       "\t<li>TRUE</li>\n",
       "\t<li>FALSE</li>\n",
       "</ol>\n",
       "</dd>\n",
       "</dl>\n"
      ],
      "text/latex": [
       "\\begin{description}\n",
       "\\item[\\$String] \\begin{enumerate*}\n",
       "\\item 'a'\n",
       "\\item 'b'\n",
       "\\item 'c'\n",
       "\\end{enumerate*}\n",
       "\n",
       "\\item[\\$bool] \\begin{enumerate*}\n",
       "\\item TRUE\n",
       "\\item FALSE\n",
       "\\item TRUE\n",
       "\\item TRUE\n",
       "\\item FALSE\n",
       "\\end{enumerate*}\n",
       "\n",
       "\\end{description}\n"
      ],
      "text/markdown": [
       "$String\n",
       ":   1. 'a'\n",
       "2. 'b'\n",
       "3. 'c'\n",
       "\n",
       "\n",
       "\n",
       "$bool\n",
       ":   1. TRUE\n",
       "2. FALSE\n",
       "3. TRUE\n",
       "4. TRUE\n",
       "5. FALSE\n",
       "\n",
       "\n",
       "\n",
       "\n",
       "\n"
      ],
      "text/plain": [
       "$String\n",
       "[1] \"a\" \"b\" \"c\"\n",
       "\n",
       "$bool\n",
       "[1]  TRUE FALSE  TRUE  TRUE FALSE\n"
      ]
     },
     "metadata": {},
     "output_type": "display_data"
    }
   ],
   "source": [
    "tmp_list2[c(2,3)]"
   ]
  },
  {
   "cell_type": "code",
   "execution_count": 70,
   "metadata": {},
   "outputs": [
    {
     "data": {
      "text/html": [
       "<dl>\n",
       "\t<dt>$Number</dt>\n",
       "\t\t<dd><ol class=list-inline>\n",
       "\t<li>1</li>\n",
       "\t<li>2</li>\n",
       "\t<li>3</li>\n",
       "\t<li>4</li>\n",
       "\t<li>5</li>\n",
       "\t<li>6</li>\n",
       "\t<li>7</li>\n",
       "\t<li>8</li>\n",
       "\t<li>9</li>\n",
       "\t<li>10</li>\n",
       "\t<li>11</li>\n",
       "\t<li>12</li>\n",
       "\t<li>13</li>\n",
       "\t<li>14</li>\n",
       "\t<li>15</li>\n",
       "\t<li>16</li>\n",
       "\t<li>17</li>\n",
       "\t<li>18</li>\n",
       "\t<li>19</li>\n",
       "\t<li>20</li>\n",
       "</ol>\n",
       "</dd>\n",
       "\t<dt>$String</dt>\n",
       "\t\t<dd><ol class=list-inline>\n",
       "\t<li>'a'</li>\n",
       "\t<li>'b'</li>\n",
       "\t<li>'c'</li>\n",
       "</ol>\n",
       "</dd>\n",
       "</dl>\n"
      ],
      "text/latex": [
       "\\begin{description}\n",
       "\\item[\\$Number] \\begin{enumerate*}\n",
       "\\item 1\n",
       "\\item 2\n",
       "\\item 3\n",
       "\\item 4\n",
       "\\item 5\n",
       "\\item 6\n",
       "\\item 7\n",
       "\\item 8\n",
       "\\item 9\n",
       "\\item 10\n",
       "\\item 11\n",
       "\\item 12\n",
       "\\item 13\n",
       "\\item 14\n",
       "\\item 15\n",
       "\\item 16\n",
       "\\item 17\n",
       "\\item 18\n",
       "\\item 19\n",
       "\\item 20\n",
       "\\end{enumerate*}\n",
       "\n",
       "\\item[\\$String] \\begin{enumerate*}\n",
       "\\item 'a'\n",
       "\\item 'b'\n",
       "\\item 'c'\n",
       "\\end{enumerate*}\n",
       "\n",
       "\\end{description}\n"
      ],
      "text/markdown": [
       "$Number\n",
       ":   1. 1\n",
       "2. 2\n",
       "3. 3\n",
       "4. 4\n",
       "5. 5\n",
       "6. 6\n",
       "7. 7\n",
       "8. 8\n",
       "9. 9\n",
       "10. 10\n",
       "11. 11\n",
       "12. 12\n",
       "13. 13\n",
       "14. 14\n",
       "15. 15\n",
       "16. 16\n",
       "17. 17\n",
       "18. 18\n",
       "19. 19\n",
       "20. 20\n",
       "\n",
       "\n",
       "\n",
       "$String\n",
       ":   1. 'a'\n",
       "2. 'b'\n",
       "3. 'c'\n",
       "\n",
       "\n",
       "\n",
       "\n",
       "\n"
      ],
      "text/plain": [
       "$Number\n",
       " [1]  1  2  3  4  5  6  7  8  9 10 11 12 13 14 15 16 17 18 19 20\n",
       "\n",
       "$String\n",
       "[1] \"a\" \"b\" \"c\"\n"
      ]
     },
     "metadata": {},
     "output_type": "display_data"
    }
   ],
   "source": [
    "tmp_list2[c('Number','String')]"
   ]
  },
  {
   "cell_type": "code",
   "execution_count": 71,
   "metadata": {},
   "outputs": [
    {
     "data": {
      "text/html": [
       "<dl>\n",
       "\t<dt>$남자</dt>\n",
       "\t\t<dd><ol class=list-inline>\n",
       "\t<li>165.3</li>\n",
       "\t<li>168.6</li>\n",
       "\t<li>162.2</li>\n",
       "\t<li>182.1</li>\n",
       "\t<li>167.1</li>\n",
       "\t<li>176.1</li>\n",
       "\t<li>169.2</li>\n",
       "\t<li>178.5</li>\n",
       "\t<li>180</li>\n",
       "\t<li>175</li>\n",
       "</ol>\n",
       "</dd>\n",
       "\t<dt>$여자</dt>\n",
       "\t\t<dd><ol class=list-inline>\n",
       "\t<li>155.2</li>\n",
       "\t<li>158.2</li>\n",
       "\t<li>162</li>\n",
       "\t<li>168</li>\n",
       "\t<li>170.1</li>\n",
       "\t<li>176.9</li>\n",
       "\t<li>176.1</li>\n",
       "</ol>\n",
       "</dd>\n",
       "</dl>\n"
      ],
      "text/latex": [
       "\\begin{description}\n",
       "\\item[\\$남자] \\begin{enumerate*}\n",
       "\\item 165.3\n",
       "\\item 168.6\n",
       "\\item 162.2\n",
       "\\item 182.1\n",
       "\\item 167.1\n",
       "\\item 176.1\n",
       "\\item 169.2\n",
       "\\item 178.5\n",
       "\\item 180\n",
       "\\item 175\n",
       "\\end{enumerate*}\n",
       "\n",
       "\\item[\\$여자] \\begin{enumerate*}\n",
       "\\item 155.2\n",
       "\\item 158.2\n",
       "\\item 162\n",
       "\\item 168\n",
       "\\item 170.1\n",
       "\\item 176.9\n",
       "\\item 176.1\n",
       "\\end{enumerate*}\n",
       "\n",
       "\\end{description}\n"
      ],
      "text/markdown": [
       "$남자\n",
       ":   1. 165.3\n",
       "2. 168.6\n",
       "3. 162.2\n",
       "4. 182.1\n",
       "5. 167.1\n",
       "6. 176.1\n",
       "7. 169.2\n",
       "8. 178.5\n",
       "9. 180\n",
       "10. 175\n",
       "\n",
       "\n",
       "\n",
       "$여자\n",
       ":   1. 155.2\n",
       "2. 158.2\n",
       "3. 162\n",
       "4. 168\n",
       "5. 170.1\n",
       "6. 176.9\n",
       "7. 176.1\n",
       "\n",
       "\n",
       "\n",
       "\n",
       "\n"
      ],
      "text/plain": [
       "$남자\n",
       " [1] 165.3 168.6 162.2 182.1 167.1 176.1 169.2 178.5 180.0 175.0\n",
       "\n",
       "$여자\n",
       "[1] 155.2 158.2 162.0 168.0 170.1 176.9 176.1\n"
      ]
     },
     "metadata": {},
     "output_type": "display_data"
    }
   ],
   "source": [
    "#split() 성별(sex)에 따른 키(height)값\n",
    "height_sex <- split(df$height,df$sex)\n",
    "height_sex"
   ]
  },
  {
   "cell_type": "code",
   "execution_count": 72,
   "metadata": {},
   "outputs": [
    {
     "data": {
      "text/html": [
       "<ol class=list-inline>\n",
       "\t<li>165.3</li>\n",
       "\t<li>168.6</li>\n",
       "\t<li>162.2</li>\n",
       "\t<li>182.1</li>\n",
       "\t<li>167.1</li>\n",
       "\t<li>176.1</li>\n",
       "\t<li>169.2</li>\n",
       "\t<li>178.5</li>\n",
       "\t<li>180</li>\n",
       "\t<li>175</li>\n",
       "</ol>\n"
      ],
      "text/latex": [
       "\\begin{enumerate*}\n",
       "\\item 165.3\n",
       "\\item 168.6\n",
       "\\item 162.2\n",
       "\\item 182.1\n",
       "\\item 167.1\n",
       "\\item 176.1\n",
       "\\item 169.2\n",
       "\\item 178.5\n",
       "\\item 180\n",
       "\\item 175\n",
       "\\end{enumerate*}\n"
      ],
      "text/markdown": [
       "1. 165.3\n",
       "2. 168.6\n",
       "3. 162.2\n",
       "4. 182.1\n",
       "5. 167.1\n",
       "6. 176.1\n",
       "7. 169.2\n",
       "8. 178.5\n",
       "9. 180\n",
       "10. 175\n",
       "\n",
       "\n"
      ],
      "text/plain": [
       " [1] 165.3 168.6 162.2 182.1 167.1 176.1 169.2 178.5 180.0 175.0"
      ]
     },
     "metadata": {},
     "output_type": "display_data"
    }
   ],
   "source": [
    "height_sex$남자"
   ]
  },
  {
   "cell_type": "markdown",
   "metadata": {},
   "source": [
    "### 평균"
   ]
  },
  {
   "cell_type": "code",
   "execution_count": 73,
   "metadata": {
    "scrolled": true
   },
   "outputs": [
    {
     "name": "stderr",
     "output_type": "stream",
     "text": [
      "Warning message in mean.default(height_sex):\n",
      "\"argument is not numeric or logical: returning NA\""
     ]
    },
    {
     "data": {
      "text/html": [
       "&lt;NA&gt;"
      ],
      "text/latex": [
       "<NA>"
      ],
      "text/markdown": [
       "&lt;NA&gt;"
      ],
      "text/plain": [
       "[1] NA"
      ]
     },
     "metadata": {},
     "output_type": "display_data"
    }
   ],
   "source": [
    " mean(height_sex)\n",
    "#없는 데이터를 0으로 할지 없다고할지 결정해줘야함"
   ]
  },
  {
   "cell_type": "code",
   "execution_count": 77,
   "metadata": {},
   "outputs": [
    {
     "data": {
      "text/html": [
       "<strong>$남자</strong> = <ol class=list-inline>\n",
       "\t<li>165.3</li>\n",
       "\t<li>168.6</li>\n",
       "\t<li>162.2</li>\n",
       "\t<li>182.1</li>\n",
       "\t<li>167.1</li>\n",
       "\t<li>176.1</li>\n",
       "\t<li>169.2</li>\n",
       "\t<li>178.5</li>\n",
       "\t<li>180</li>\n",
       "\t<li>175</li>\n",
       "</ol>\n"
      ],
      "text/latex": [
       "\\textbf{\\$남자} = \\begin{enumerate*}\n",
       "\\item 165.3\n",
       "\\item 168.6\n",
       "\\item 162.2\n",
       "\\item 182.1\n",
       "\\item 167.1\n",
       "\\item 176.1\n",
       "\\item 169.2\n",
       "\\item 178.5\n",
       "\\item 180\n",
       "\\item 175\n",
       "\\end{enumerate*}\n"
      ],
      "text/markdown": [
       "**$남자** = 1. 165.3\n",
       "2. 168.6\n",
       "3. 162.2\n",
       "4. 182.1\n",
       "5. 167.1\n",
       "6. 176.1\n",
       "7. 169.2\n",
       "8. 178.5\n",
       "9. 180\n",
       "10. 175\n",
       "\n",
       "\n"
      ],
      "text/plain": [
       "$남자\n",
       " [1] 165.3 168.6 162.2 182.1 167.1 176.1 169.2 178.5 180.0 175.0\n"
      ]
     },
     "metadata": {},
     "output_type": "display_data"
    },
    {
     "data": {
      "text/html": [
       "172.41"
      ],
      "text/latex": [
       "172.41"
      ],
      "text/markdown": [
       "172.41"
      ],
      "text/plain": [
       "[1] 172.41"
      ]
     },
     "metadata": {},
     "output_type": "display_data"
    }
   ],
   "source": [
    "height_sex[1]\n",
    "mean(height_sex[[1]])"
   ]
  },
  {
   "cell_type": "code",
   "execution_count": 78,
   "metadata": {},
   "outputs": [
    {
     "data": {
      "text/html": [
       "<strong>$여자</strong> = <ol class=list-inline>\n",
       "\t<li>155.2</li>\n",
       "\t<li>158.2</li>\n",
       "\t<li>162</li>\n",
       "\t<li>168</li>\n",
       "\t<li>170.1</li>\n",
       "\t<li>176.9</li>\n",
       "\t<li>176.1</li>\n",
       "</ol>\n"
      ],
      "text/latex": [
       "\\textbf{\\$여자} = \\begin{enumerate*}\n",
       "\\item 155.2\n",
       "\\item 158.2\n",
       "\\item 162\n",
       "\\item 168\n",
       "\\item 170.1\n",
       "\\item 176.9\n",
       "\\item 176.1\n",
       "\\end{enumerate*}\n"
      ],
      "text/markdown": [
       "**$여자** = 1. 155.2\n",
       "2. 158.2\n",
       "3. 162\n",
       "4. 168\n",
       "5. 170.1\n",
       "6. 176.9\n",
       "7. 176.1\n",
       "\n",
       "\n"
      ],
      "text/plain": [
       "$여자\n",
       "[1] 155.2 158.2 162.0 168.0 170.1 176.9 176.1\n"
      ]
     },
     "metadata": {},
     "output_type": "display_data"
    },
    {
     "data": {
      "text/html": [
       "166.642857142857"
      ],
      "text/latex": [
       "166.642857142857"
      ],
      "text/markdown": [
       "166.642857142857"
      ],
      "text/plain": [
       "[1] 166.6429"
      ]
     },
     "metadata": {},
     "output_type": "display_data"
    }
   ],
   "source": [
    "height_sex[2]\n",
    "mean(height_sex[[2]])"
   ]
  },
  {
   "cell_type": "code",
   "execution_count": 79,
   "metadata": {},
   "outputs": [
    {
     "data": {
      "text/html": [
       "<dl class=dl-horizontal>\n",
       "\t<dt>남자</dt>\n",
       "\t\t<dd>172.41</dd>\n",
       "\t<dt>여자</dt>\n",
       "\t\t<dd>166.642857142857</dd>\n",
       "</dl>\n"
      ],
      "text/latex": [
       "\\begin{description*}\n",
       "\\item[남자] 172.41\n",
       "\\item[여자] 166.642857142857\n",
       "\\end{description*}\n"
      ],
      "text/markdown": [
       "남자\n",
       ":   172.41여자\n",
       ":   166.642857142857\n",
       "\n"
      ],
      "text/plain": [
       "    남자     여자 \n",
       "172.4100 166.6429 "
      ]
     },
     "metadata": {},
     "output_type": "display_data"
    }
   ],
   "source": [
    "height_sex_mean <- sapply(height_sex, mean)\n",
    "height_sex_mean"
   ]
  },
  {
   "cell_type": "markdown",
   "metadata": {},
   "source": [
    "### 표준편차"
   ]
  },
  {
   "cell_type": "code",
   "execution_count": 82,
   "metadata": {},
   "outputs": [
    {
     "data": {
      "text/html": [
       "<dl class=dl-horizontal>\n",
       "\t<dt>남자</dt>\n",
       "\t\t<dd>6.80464710489987</dd>\n",
       "\t<dt>여자</dt>\n",
       "\t\t<dd>8.48741365058818</dd>\n",
       "</dl>\n"
      ],
      "text/latex": [
       "\\begin{description*}\n",
       "\\item[남자] 6.80464710489987\n",
       "\\item[여자] 8.48741365058818\n",
       "\\end{description*}\n"
      ],
      "text/markdown": [
       "남자\n",
       ":   6.80464710489987여자\n",
       ":   8.48741365058818\n",
       "\n"
      ],
      "text/plain": [
       "    남자     여자 \n",
       "6.804647 8.487414 "
      ]
     },
     "metadata": {},
     "output_type": "display_data"
    }
   ],
   "source": [
    "height_sex_sd <- sapply(height_sex, sd)\n",
    "height_sex_sd"
   ]
  },
  {
   "cell_type": "code",
   "execution_count": 84,
   "metadata": {},
   "outputs": [
    {
     "data": {
      "text/html": [
       "<table>\n",
       "<thead><tr><th scope=col>남자</th><th scope=col>여자</th></tr></thead>\n",
       "<tbody>\n",
       "\t<tr><td>162.2</td><td>155.2</td></tr>\n",
       "\t<tr><td>182.1</td><td>176.9</td></tr>\n",
       "</tbody>\n",
       "</table>\n"
      ],
      "text/latex": [
       "\\begin{tabular}{ll}\n",
       " 남자 & 여자\\\\\n",
       "\\hline\n",
       "\t 162.2 & 155.2\\\\\n",
       "\t 182.1 & 176.9\\\\\n",
       "\\end{tabular}\n"
      ],
      "text/markdown": [
       "\n",
       "| 남자 | 여자 |\n",
       "|---|---|\n",
       "| 162.2 | 155.2 |\n",
       "| 182.1 | 176.9 |\n",
       "\n"
      ],
      "text/plain": [
       "     남자  여자 \n",
       "[1,] 162.2 155.2\n",
       "[2,] 182.1 176.9"
      ]
     },
     "metadata": {},
     "output_type": "display_data"
    }
   ],
   "source": [
    "# 리스트 범위 구하기\n",
    "height_sex_range <- sapply(height_sex, range)\n",
    "height_sex_range"
   ]
  },
  {
   "cell_type": "code",
   "execution_count": 85,
   "metadata": {},
   "outputs": [
    {
     "data": {
      "text/html": [
       "<dl class=dl-horizontal>\n",
       "\t<dt>남자</dt>\n",
       "\t\t<dd>162.2</dd>\n",
       "\t<dt>여자</dt>\n",
       "\t\t<dd>155.2</dd>\n",
       "</dl>\n"
      ],
      "text/latex": [
       "\\begin{description*}\n",
       "\\item[남자] 162.2\n",
       "\\item[여자] 155.2\n",
       "\\end{description*}\n"
      ],
      "text/markdown": [
       "남자\n",
       ":   162.2여자\n",
       ":   155.2\n",
       "\n"
      ],
      "text/plain": [
       " 남자  여자 \n",
       "162.2 155.2 "
      ]
     },
     "metadata": {},
     "output_type": "display_data"
    },
    {
     "data": {
      "text/html": [
       "<ol class=list-inline>\n",
       "\t<li>162.2</li>\n",
       "\t<li>182.1</li>\n",
       "</ol>\n"
      ],
      "text/latex": [
       "\\begin{enumerate*}\n",
       "\\item 162.2\n",
       "\\item 182.1\n",
       "\\end{enumerate*}\n"
      ],
      "text/markdown": [
       "1. 162.2\n",
       "2. 182.1\n",
       "\n",
       "\n"
      ],
      "text/plain": [
       "[1] 162.2 182.1"
      ]
     },
     "metadata": {},
     "output_type": "display_data"
    }
   ],
   "source": [
    "height_sex_range[1,] # 행\n",
    "height_sex_range[,1] # 열"
   ]
  },
  {
   "cell_type": "code",
   "execution_count": 88,
   "metadata": {},
   "outputs": [
    {
     "data": {
      "text/plain": [
       "\n",
       " A AB  B  O \n",
       " 4  3  5  5 "
      ]
     },
     "metadata": {},
     "output_type": "display_data"
    }
   ],
   "source": [
    "# 빈도수 - table() 혈액형별 빈도수\n",
    "blood_type_table <- table(df$blood)\n",
    "blood_type_table"
   ]
  },
  {
   "cell_type": "code",
   "execution_count": 89,
   "metadata": {},
   "outputs": [
    {
     "data": {
      "text/plain": [
       "\n",
       "        A        AB         B         O \n",
       "0.2352941 0.1764706 0.2941176 0.2941176 "
      ]
     },
     "metadata": {},
     "output_type": "display_data"
    }
   ],
   "source": [
    "# 상대도수 - prop.table()\n",
    "blood_type_prop_table <- prop.table(blood_type_table)\n",
    "blood_type_prop_table"
   ]
  },
  {
   "cell_type": "code",
   "execution_count": 90,
   "metadata": {},
   "outputs": [
    {
     "data": {
      "text/html": [
       "<table>\n",
       "<thead><tr><th></th><th scope=col>A</th><th scope=col>AB</th><th scope=col>B</th><th scope=col>O</th></tr></thead>\n",
       "<tbody>\n",
       "\t<tr><th scope=row>blood_type_table</th><td>4.0000000</td><td>3.0000000</td><td>5.0000000</td><td>5.0000000</td></tr>\n",
       "\t<tr><th scope=row>blood_type_prop_table</th><td>0.2352941</td><td>0.1764706</td><td>0.2941176</td><td>0.2941176</td></tr>\n",
       "</tbody>\n",
       "</table>\n"
      ],
      "text/latex": [
       "\\begin{tabular}{r|llll}\n",
       "  & A & AB & B & O\\\\\n",
       "\\hline\n",
       "\tblood\\_type\\_table & 4.0000000 & 3.0000000 & 5.0000000 & 5.0000000\\\\\n",
       "\tblood\\_type\\_prop\\_table & 0.2352941 & 0.1764706 & 0.2941176 & 0.2941176\\\\\n",
       "\\end{tabular}\n"
      ],
      "text/markdown": [
       "\n",
       "| <!--/--> | A | AB | B | O |\n",
       "|---|---|---|---|---|\n",
       "| blood_type_table | 4.0000000 | 3.0000000 | 5.0000000 | 5.0000000 |\n",
       "| blood_type_prop_table | 0.2352941 | 0.1764706 | 0.2941176 | 0.2941176 |\n",
       "\n"
      ],
      "text/plain": [
       "                      A         AB        B         O        \n",
       "blood_type_table      4.0000000 3.0000000 5.0000000 5.0000000\n",
       "blood_type_prop_table 0.2352941 0.1764706 0.2941176 0.2941176"
      ]
     },
     "metadata": {},
     "output_type": "display_data"
    }
   ],
   "source": [
    "blood_type_rbind <- rbind(blood_type_table, blood_type_prop_table)\n",
    "blood_type_rbind"
   ]
  },
  {
   "cell_type": "code",
   "execution_count": 92,
   "metadata": {},
   "outputs": [
    {
     "data": {
      "text/html": [
       "<table>\n",
       "<thead><tr><th></th><th scope=col>A</th><th scope=col>AB</th><th scope=col>B</th><th scope=col>O</th><th scope=col>Sum</th></tr></thead>\n",
       "<tbody>\n",
       "\t<tr><th scope=row>blood_type_table</th><td>4.0000000</td><td>3.0000000</td><td>5.0000000</td><td>5.0000000</td><td>17       </td></tr>\n",
       "\t<tr><th scope=row>blood_type_prop_table</th><td>0.2352941</td><td>0.1764706</td><td>0.2941176</td><td>0.2941176</td><td> 1       </td></tr>\n",
       "</tbody>\n",
       "</table>\n"
      ],
      "text/latex": [
       "\\begin{tabular}{r|lllll}\n",
       "  & A & AB & B & O & Sum\\\\\n",
       "\\hline\n",
       "\tblood\\_type\\_table & 4.0000000 & 3.0000000 & 5.0000000 & 5.0000000 & 17       \\\\\n",
       "\tblood\\_type\\_prop\\_table & 0.2352941 & 0.1764706 & 0.2941176 & 0.2941176 &  1       \\\\\n",
       "\\end{tabular}\n"
      ],
      "text/markdown": [
       "\n",
       "| <!--/--> | A | AB | B | O | Sum |\n",
       "|---|---|---|---|---|---|\n",
       "| blood_type_table | 4.0000000 | 3.0000000 | 5.0000000 | 5.0000000 | 17        |\n",
       "| blood_type_prop_table | 0.2352941 | 0.1764706 | 0.2941176 | 0.2941176 |  1        |\n",
       "\n"
      ],
      "text/plain": [
       "                      A         AB        B         O         Sum\n",
       "blood_type_table      4.0000000 3.0000000 5.0000000 5.0000000 17 \n",
       "blood_type_prop_table 0.2352941 0.1764706 0.2941176 0.2941176  1 "
      ]
     },
     "metadata": {},
     "output_type": "display_data"
    }
   ],
   "source": [
    "# margin : 1 열, 2 행, 생략시 행열의 합\n",
    "blood_type_rbind_sum <- addmargins(blood_type_rbind,margin=2)\n",
    "blood_type_rbind_sum"
   ]
  },
  {
   "cell_type": "code",
   "execution_count": 96,
   "metadata": {},
   "outputs": [
    {
     "data": {
      "text/html": [
       "<ol class=list-inline>\n",
       "\t<li>(155,162]</li>\n",
       "\t<li>(162,169]</li>\n",
       "\t<li>(162,169]</li>\n",
       "\t<li>(155,162]</li>\n",
       "\t<li>(162,169]</li>\n",
       "\t<li>(175,182]</li>\n",
       "\t<li>(162,169]</li>\n",
       "\t<li>(162,169]</li>\n",
       "\t<li>(175,182]</li>\n",
       "\t<li>(162,169]</li>\n",
       "\t<li>(169,175]</li>\n",
       "\t<li>(169,175]</li>\n",
       "\t<li>(175,182]</li>\n",
       "\t<li>(175,182]</li>\n",
       "\t<li>(175,182]</li>\n",
       "\t<li>(175,182]</li>\n",
       "\t<li>(169,175]</li>\n",
       "</ol>\n",
       "\n",
       "<details>\n",
       "\t<summary style=display:list-item;cursor:pointer>\n",
       "\t\t<strong>Levels</strong>:\n",
       "\t</summary>\n",
       "\t<ol class=list-inline>\n",
       "\t\t<li>'(155,162]'</li>\n",
       "\t\t<li>'(162,169]'</li>\n",
       "\t\t<li>'(169,175]'</li>\n",
       "\t\t<li>'(175,182]'</li>\n",
       "\t</ol>\n",
       "</details>"
      ],
      "text/latex": [
       "\\begin{enumerate*}\n",
       "\\item (155,162{]}\n",
       "\\item (162,169{]}\n",
       "\\item (162,169{]}\n",
       "\\item (155,162{]}\n",
       "\\item (162,169{]}\n",
       "\\item (175,182{]}\n",
       "\\item (162,169{]}\n",
       "\\item (162,169{]}\n",
       "\\item (175,182{]}\n",
       "\\item (162,169{]}\n",
       "\\item (169,175{]}\n",
       "\\item (169,175{]}\n",
       "\\item (175,182{]}\n",
       "\\item (175,182{]}\n",
       "\\item (175,182{]}\n",
       "\\item (175,182{]}\n",
       "\\item (169,175{]}\n",
       "\\end{enumerate*}\n",
       "\n",
       "\\emph{Levels}: \\begin{enumerate*}\n",
       "\\item '(155,162{]}'\n",
       "\\item '(162,169{]}'\n",
       "\\item '(169,175{]}'\n",
       "\\item '(175,182{]}'\n",
       "\\end{enumerate*}\n"
      ],
      "text/markdown": [
       "1. (155,162]\n",
       "2. (162,169]\n",
       "3. (162,169]\n",
       "4. (155,162]\n",
       "5. (162,169]\n",
       "6. (175,182]\n",
       "7. (162,169]\n",
       "8. (162,169]\n",
       "9. (175,182]\n",
       "10. (162,169]\n",
       "11. (169,175]\n",
       "12. (169,175]\n",
       "13. (175,182]\n",
       "14. (175,182]\n",
       "15. (175,182]\n",
       "16. (175,182]\n",
       "17. (169,175]\n",
       "\n",
       "\n",
       "\n",
       "**Levels**: 1. '(155,162]'\n",
       "2. '(162,169]'\n",
       "3. '(169,175]'\n",
       "4. '(175,182]'\n",
       "\n",
       "\n"
      ],
      "text/plain": [
       " [1] (155,162] (162,169] (162,169] (155,162] (162,169] (175,182] (162,169]\n",
       " [8] (162,169] (175,182] (162,169] (169,175] (169,175] (175,182] (175,182]\n",
       "[15] (175,182] (175,182] (169,175]\n",
       "Levels: (155,162] (162,169] (169,175] (175,182]"
      ]
     },
     "metadata": {},
     "output_type": "display_data"
    }
   ],
   "source": [
    "#연속형 변수 - 구간(계급)\n",
    "# 4구간으로 나누고 각각 어디 구간에 속해있는지 보여줌\n",
    "height_break_4 <- cut(df$height,breaks=4)\n",
    "height_break_4"
   ]
  },
  {
   "cell_type": "code",
   "execution_count": 97,
   "metadata": {},
   "outputs": [
    {
     "data": {
      "text/plain": [
       "height_break_4\n",
       "(155,162] (162,169] (169,175] (175,182] \n",
       "        2         6         3         6 "
      ]
     },
     "metadata": {},
     "output_type": "display_data"
    }
   ],
   "source": [
    "#빈도수\n",
    "height_break_4_table <- table(height_break_4)\n",
    "height_break_4_table"
   ]
  },
  {
   "cell_type": "code",
   "execution_count": 98,
   "metadata": {},
   "outputs": [
    {
     "data": {
      "text/plain": [
       "height_break_4\n",
       "(155,162] (162,169] (169,175] (175,182] \n",
       "0.1176471 0.3529412 0.1764706 0.3529412 "
      ]
     },
     "metadata": {},
     "output_type": "display_data"
    }
   ],
   "source": [
    "#상대도수\n",
    "height_break_4_prop_table <- prop.table(height_break_4_table)\n",
    "height_break_4_prop_table"
   ]
  },
  {
   "cell_type": "code",
   "execution_count": 99,
   "metadata": {},
   "outputs": [
    {
     "data": {
      "text/html": [
       "<table>\n",
       "<thead><tr><th></th><th scope=col>(155,162]</th><th scope=col>(162,169]</th><th scope=col>(169,175]</th><th scope=col>(175,182]</th></tr></thead>\n",
       "<tbody>\n",
       "\t<tr><th scope=row>height_break_4_table</th><td>2.0000000</td><td>6.0000000</td><td>3.0000000</td><td>6.0000000</td></tr>\n",
       "\t<tr><th scope=row>height_break_4_prop_table</th><td>0.1176471</td><td>0.3529412</td><td>0.1764706</td><td>0.3529412</td></tr>\n",
       "</tbody>\n",
       "</table>\n"
      ],
      "text/latex": [
       "\\begin{tabular}{r|llll}\n",
       "  & (155,162{]} & (162,169{]} & (169,175{]} & (175,182{]}\\\\\n",
       "\\hline\n",
       "\theight\\_break\\_4\\_table & 2.0000000 & 6.0000000 & 3.0000000 & 6.0000000\\\\\n",
       "\theight\\_break\\_4\\_prop\\_table & 0.1176471 & 0.3529412 & 0.1764706 & 0.3529412\\\\\n",
       "\\end{tabular}\n"
      ],
      "text/markdown": [
       "\n",
       "| <!--/--> | (155,162] | (162,169] | (169,175] | (175,182] |\n",
       "|---|---|---|---|---|\n",
       "| height_break_4_table | 2.0000000 | 6.0000000 | 3.0000000 | 6.0000000 |\n",
       "| height_break_4_prop_table | 0.1176471 | 0.3529412 | 0.1764706 | 0.3529412 |\n",
       "\n"
      ],
      "text/plain": [
       "                          (155,162] (162,169] (169,175] (175,182]\n",
       "height_break_4_table      2.0000000 6.0000000 3.0000000 6.0000000\n",
       "height_break_4_prop_table 0.1176471 0.3529412 0.1764706 0.3529412"
      ]
     },
     "metadata": {},
     "output_type": "display_data"
    }
   ],
   "source": [
    "height_break_4_rbind <- rbind(height_break_4_table, height_break_4_prop_table)\n",
    "height_break_4_rbind"
   ]
  },
  {
   "cell_type": "code",
   "execution_count": 101,
   "metadata": {},
   "outputs": [
    {
     "data": {
      "text/html": [
       "<table>\n",
       "<thead><tr><th></th><th scope=col>(155,162]</th><th scope=col>(162,169]</th><th scope=col>(169,175]</th><th scope=col>(175,182]</th></tr></thead>\n",
       "<tbody>\n",
       "\t<tr><th scope=row>height_break_4_table</th><td>2.0000000</td><td>6.0000000</td><td>3.0000000</td><td>6.0000000</td></tr>\n",
       "\t<tr><th scope=row>height_break_4_prop_table</th><td>0.1176471</td><td>0.3529412</td><td>0.1764706</td><td>0.3529412</td></tr>\n",
       "\t<tr><th scope=row></th><td>0.1176471</td><td>0.4705882</td><td>0.6470588</td><td>1.0000000</td></tr>\n",
       "</tbody>\n",
       "</table>\n"
      ],
      "text/latex": [
       "\\begin{tabular}{r|llll}\n",
       "  & (155,162{]} & (162,169{]} & (169,175{]} & (175,182{]}\\\\\n",
       "\\hline\n",
       "\theight\\_break\\_4\\_table & 2.0000000 & 6.0000000 & 3.0000000 & 6.0000000\\\\\n",
       "\theight\\_break\\_4\\_prop\\_table & 0.1176471 & 0.3529412 & 0.1764706 & 0.3529412\\\\\n",
       "\t & 0.1176471 & 0.4705882 & 0.6470588 & 1.0000000\\\\\n",
       "\\end{tabular}\n"
      ],
      "text/markdown": [
       "\n",
       "| <!--/--> | (155,162] | (162,169] | (169,175] | (175,182] |\n",
       "|---|---|---|---|---|\n",
       "| height_break_4_table | 2.0000000 | 6.0000000 | 3.0000000 | 6.0000000 |\n",
       "| height_break_4_prop_table | 0.1176471 | 0.3529412 | 0.1764706 | 0.3529412 |\n",
       "|  | 0.1176471 | 0.4705882 | 0.6470588 | 1.0000000 |\n",
       "\n"
      ],
      "text/plain": [
       "                          (155,162] (162,169] (169,175] (175,182]\n",
       "height_break_4_table      2.0000000 6.0000000 3.0000000 6.0000000\n",
       "height_break_4_prop_table 0.1176471 0.3529412 0.1764706 0.3529412\n",
       "                          0.1176471 0.4705882 0.6470588 1.0000000"
      ]
     },
     "metadata": {},
     "output_type": "display_data"
    }
   ],
   "source": [
    "# 누적상대도수 - cumsum()\n",
    "height_break_4_cumsum <- rbind(height_break_4_rbind,cumsum(height_break_4_rbind[2,]))\n",
    "height_break_4_cumsum"
   ]
  },
  {
   "cell_type": "code",
   "execution_count": 102,
   "metadata": {},
   "outputs": [
    {
     "data": {
      "text/html": [
       "<table>\n",
       "<thead><tr><th></th><th scope=col>(155,162]</th><th scope=col>(162,169]</th><th scope=col>(169,175]</th><th scope=col>(175,182]</th></tr></thead>\n",
       "<tbody>\n",
       "\t<tr><th scope=row>도수</th><td>2.0000000</td><td>6.0000000</td><td>3.0000000</td><td>6.0000000</td></tr>\n",
       "\t<tr><th scope=row>상대도수</th><td>0.1176471</td><td>0.3529412</td><td>0.1764706</td><td>0.3529412</td></tr>\n",
       "\t<tr><th scope=row>누적도수</th><td>0.1176471</td><td>0.4705882</td><td>0.6470588</td><td>1.0000000</td></tr>\n",
       "</tbody>\n",
       "</table>\n"
      ],
      "text/latex": [
       "\\begin{tabular}{r|llll}\n",
       "  & (155,162{]} & (162,169{]} & (169,175{]} & (175,182{]}\\\\\n",
       "\\hline\n",
       "\t도수 & 2.0000000 & 6.0000000 & 3.0000000 & 6.0000000\\\\\n",
       "\t상대도수 & 0.1176471 & 0.3529412 & 0.1764706 & 0.3529412\\\\\n",
       "\t누적도수 & 0.1176471 & 0.4705882 & 0.6470588 & 1.0000000\\\\\n",
       "\\end{tabular}\n"
      ],
      "text/markdown": [
       "\n",
       "| <!--/--> | (155,162] | (162,169] | (169,175] | (175,182] |\n",
       "|---|---|---|---|---|\n",
       "| 도수 | 2.0000000 | 6.0000000 | 3.0000000 | 6.0000000 |\n",
       "| 상대도수 | 0.1176471 | 0.3529412 | 0.1764706 | 0.3529412 |\n",
       "| 누적도수 | 0.1176471 | 0.4705882 | 0.6470588 | 1.0000000 |\n",
       "\n"
      ],
      "text/plain": [
       "         (155,162] (162,169] (169,175] (175,182]\n",
       "도수     2.0000000 6.0000000 3.0000000 6.0000000\n",
       "상대도수 0.1176471 0.3529412 0.1764706 0.3529412\n",
       "누적도수 0.1176471 0.4705882 0.6470588 1.0000000"
      ]
     },
     "metadata": {},
     "output_type": "display_data"
    }
   ],
   "source": [
    "rownames(height_break_4_cumsum) <- c('도수','상대도수','누적도수')\n",
    "height_break_4_cumsum"
   ]
  },
  {
   "cell_type": "code",
   "execution_count": 103,
   "metadata": {},
   "outputs": [],
   "source": [
    "df_csv2 <- read.csv('r-ggagi-data/example_studentlist2.csv')"
   ]
  },
  {
   "cell_type": "code",
   "execution_count": 104,
   "metadata": {
    "scrolled": true
   },
   "outputs": [
    {
     "data": {
      "text/html": [
       "<table>\n",
       "<thead><tr><th scope=col>sex</th><th scope=col>age</th><th scope=col>grade</th><th scope=col>absence</th><th scope=col>bloodtype</th><th scope=col>height</th><th scope=col>weight</th></tr></thead>\n",
       "<tbody>\n",
       "\t<tr><td>남자 </td><td>20   </td><td>2    </td><td>무   </td><td>O    </td><td>157.1</td><td>52.3 </td></tr>\n",
       "\t<tr><td>여자 </td><td>24   </td><td>2    </td><td>유   </td><td>O    </td><td>160.8</td><td>53.6 </td></tr>\n",
       "\t<tr><td>남자 </td><td>28   </td><td>2    </td><td>무   </td><td>O    </td><td>160.5</td><td>53.4 </td></tr>\n",
       "\t<tr><td>남자 </td><td>22   </td><td>2    </td><td>무   </td><td>AB   </td><td>159.0</td><td>52.2 </td></tr>\n",
       "\t<tr><td>여자 </td><td>23   </td><td>2    </td><td>무   </td><td>O    </td><td>160.9</td><td>53.1 </td></tr>\n",
       "\t<tr><td>남자 </td><td>25   </td><td>2    </td><td>유   </td><td>A    </td><td>161.5</td><td>50.1 </td></tr>\n",
       "\t<tr><td>남자 </td><td>25   </td><td>2    </td><td>무   </td><td>O    </td><td>155.4</td><td>49.9 </td></tr>\n",
       "\t<tr><td>여자 </td><td>28   </td><td>4    </td><td>유   </td><td>O    </td><td>153.0</td><td>53.4 </td></tr>\n",
       "\t<tr><td>남자 </td><td>27   </td><td>3    </td><td>유   </td><td>O    </td><td>161.5</td><td>53.9 </td></tr>\n",
       "\t<tr><td>여자 </td><td>21   </td><td>2    </td><td>유   </td><td>O    </td><td>160.3</td><td>53.1 </td></tr>\n",
       "\t<tr><td>여자 </td><td>24   </td><td>3    </td><td>무   </td><td>B    </td><td>157.3</td><td>51.8 </td></tr>\n",
       "\t<tr><td>여자 </td><td>23   </td><td>2    </td><td>무   </td><td>A    </td><td>161.7</td><td>54.1 </td></tr>\n",
       "\t<tr><td>남자 </td><td>21   </td><td>3    </td><td>유   </td><td>A    </td><td>148.3</td><td>51.8 </td></tr>\n",
       "\t<tr><td>여자 </td><td>28   </td><td>1    </td><td>유   </td><td>O    </td><td>166.6</td><td>52.0 </td></tr>\n",
       "\t<tr><td>남자 </td><td>23   </td><td>1    </td><td>무   </td><td>B    </td><td>160.3</td><td>49.5 </td></tr>\n",
       "\t<tr><td>남자 </td><td>23   </td><td>2    </td><td>무   </td><td>O    </td><td>166.4</td><td>49.9 </td></tr>\n",
       "\t<tr><td>여자 </td><td>22   </td><td>3    </td><td>무   </td><td>B    </td><td>161.6</td><td>52.3 </td></tr>\n",
       "\t<tr><td>여자 </td><td>26   </td><td>2    </td><td>무   </td><td>AB   </td><td>160.6</td><td>49.7 </td></tr>\n",
       "\t<tr><td>남자 </td><td>28   </td><td>3    </td><td>무   </td><td>A    </td><td>165.9</td><td>52.6 </td></tr>\n",
       "\t<tr><td>남자 </td><td>28   </td><td>4    </td><td>무   </td><td>A    </td><td>161.1</td><td>53.9 </td></tr>\n",
       "\t<tr><td>남자 </td><td>26   </td><td>4    </td><td>무   </td><td>O    </td><td>149.7</td><td>50.2 </td></tr>\n",
       "\t<tr><td>여자 </td><td>25   </td><td>2    </td><td>무   </td><td>A    </td><td>153.8</td><td>51.3 </td></tr>\n",
       "\t<tr><td>남자 </td><td>25   </td><td>2    </td><td>무   </td><td>O    </td><td>152.3</td><td>52.9 </td></tr>\n",
       "\t<tr><td>남자 </td><td>21   </td><td>1    </td><td>무   </td><td>B    </td><td>156.6</td><td>51.2 </td></tr>\n",
       "\t<tr><td>남자 </td><td>25   </td><td>2    </td><td>무   </td><td>O    </td><td>156.5</td><td>51.7 </td></tr>\n",
       "\t<tr><td>여자 </td><td>21   </td><td>3    </td><td>무   </td><td>O    </td><td>163.2</td><td>51.2 </td></tr>\n",
       "\t<tr><td>남자 </td><td>21   </td><td>3    </td><td>유   </td><td>O    </td><td>151.5</td><td>52.6 </td></tr>\n",
       "\t<tr><td>여자 </td><td>22   </td><td>4    </td><td>무   </td><td>A    </td><td>155.7</td><td>52.0 </td></tr>\n",
       "\t<tr><td>여자 </td><td>28   </td><td>4    </td><td>유   </td><td>O    </td><td>162.3</td><td>54.2 </td></tr>\n",
       "\t<tr><td>남자 </td><td>25   </td><td>3    </td><td>무   </td><td>B    </td><td>156.6</td><td>48.4 </td></tr>\n",
       "\t<tr><td>...</td><td>...</td><td>...</td><td>...</td><td>...</td><td>...</td><td>...</td></tr>\n",
       "\t<tr><td>남자 </td><td>21   </td><td>3    </td><td>무   </td><td>A    </td><td>194.7</td><td>68.9 </td></tr>\n",
       "\t<tr><td>여자 </td><td>22   </td><td>2    </td><td>유   </td><td>AB   </td><td>160.5</td><td>71.1 </td></tr>\n",
       "\t<tr><td>여자 </td><td>26   </td><td>2    </td><td>유   </td><td>B    </td><td>179.1</td><td>78.5 </td></tr>\n",
       "\t<tr><td>남자 </td><td>20   </td><td>3    </td><td>무   </td><td>O    </td><td>174.1</td><td>70.7 </td></tr>\n",
       "\t<tr><td>남자 </td><td>22   </td><td>2    </td><td>유   </td><td>A    </td><td>161.6</td><td>74.2 </td></tr>\n",
       "\t<tr><td>남자 </td><td>24   </td><td>3    </td><td>유   </td><td>O    </td><td>168.3</td><td>73.3 </td></tr>\n",
       "\t<tr><td>여자 </td><td>21   </td><td>2    </td><td>유   </td><td>O    </td><td>174.6</td><td>75.4 </td></tr>\n",
       "\t<tr><td>여자 </td><td>24   </td><td>4    </td><td>무   </td><td>O    </td><td>169.4</td><td>72.0 </td></tr>\n",
       "\t<tr><td>여자 </td><td>28   </td><td>3    </td><td>무   </td><td>A    </td><td>194.4</td><td>71.7 </td></tr>\n",
       "\t<tr><td>여자 </td><td>24   </td><td>4    </td><td>무   </td><td>AB   </td><td>176.6</td><td>68.4 </td></tr>\n",
       "\t<tr><td>여자 </td><td>25   </td><td>4    </td><td>유   </td><td>O    </td><td>164.0</td><td>69.8 </td></tr>\n",
       "\t<tr><td>남자 </td><td>25   </td><td>3    </td><td>유   </td><td>O    </td><td>179.1</td><td>73.6 </td></tr>\n",
       "\t<tr><td>남자 </td><td>23   </td><td>4    </td><td>무   </td><td>O    </td><td>164.1</td><td>75.5 </td></tr>\n",
       "\t<tr><td>여자 </td><td>21   </td><td>3    </td><td>무   </td><td>O    </td><td>177.9</td><td>66.2 </td></tr>\n",
       "\t<tr><td>여자 </td><td>23   </td><td>2    </td><td>유   </td><td>A    </td><td>157.5</td><td>69.2 </td></tr>\n",
       "\t<tr><td>여자 </td><td>26   </td><td>4    </td><td>유   </td><td>AB   </td><td>159.7</td><td>68.7 </td></tr>\n",
       "\t<tr><td>남자 </td><td>25   </td><td>1    </td><td>무   </td><td>B    </td><td>169.5</td><td>68.1 </td></tr>\n",
       "\t<tr><td>여자 </td><td>24   </td><td>2    </td><td>무   </td><td>O    </td><td>179.3</td><td>65.8 </td></tr>\n",
       "\t<tr><td>남자 </td><td>26   </td><td>3    </td><td>유   </td><td>O    </td><td>153.8</td><td>63.1 </td></tr>\n",
       "\t<tr><td>남자 </td><td>22   </td><td>1    </td><td>무   </td><td>B    </td><td>179.8</td><td>69.9 </td></tr>\n",
       "\t<tr><td>남자 </td><td>26   </td><td>2    </td><td>유   </td><td>A    </td><td>174.8</td><td>74.0 </td></tr>\n",
       "\t<tr><td>여자 </td><td>24   </td><td>2    </td><td>무   </td><td>B    </td><td>150.9</td><td>64.2 </td></tr>\n",
       "\t<tr><td>여자 </td><td>22   </td><td>2    </td><td>유   </td><td>A    </td><td>165.7</td><td>68.5 </td></tr>\n",
       "\t<tr><td>남자 </td><td>25   </td><td>3    </td><td>유   </td><td>A    </td><td>161.5</td><td>70.5 </td></tr>\n",
       "\t<tr><td>여자 </td><td>24   </td><td>1    </td><td>유   </td><td>A    </td><td>155.4</td><td>67.1 </td></tr>\n",
       "\t<tr><td>여자 </td><td>27   </td><td>4    </td><td>유   </td><td>A    </td><td>154.9</td><td>63.2 </td></tr>\n",
       "\t<tr><td>여자 </td><td>27   </td><td>1    </td><td>무   </td><td>O    </td><td>156.7</td><td>73.6 </td></tr>\n",
       "\t<tr><td>남자 </td><td>23   </td><td>3    </td><td>유   </td><td>B    </td><td>173.4</td><td>62.5 </td></tr>\n",
       "\t<tr><td>남자 </td><td>25   </td><td>3    </td><td>유   </td><td>O    </td><td>167.7</td><td>74.6 </td></tr>\n",
       "\t<tr><td>여자 </td><td>28   </td><td>3    </td><td>무   </td><td>A    </td><td>179.3</td><td>71.9 </td></tr>\n",
       "</tbody>\n",
       "</table>\n"
      ],
      "text/latex": [
       "\\begin{tabular}{r|lllllll}\n",
       " sex & age & grade & absence & bloodtype & height & weight\\\\\n",
       "\\hline\n",
       "\t 남자  & 20    & 2     & 무    & O     & 157.1 & 52.3 \\\\\n",
       "\t 여자  & 24    & 2     & 유    & O     & 160.8 & 53.6 \\\\\n",
       "\t 남자  & 28    & 2     & 무    & O     & 160.5 & 53.4 \\\\\n",
       "\t 남자  & 22    & 2     & 무    & AB    & 159.0 & 52.2 \\\\\n",
       "\t 여자  & 23    & 2     & 무    & O     & 160.9 & 53.1 \\\\\n",
       "\t 남자  & 25    & 2     & 유    & A     & 161.5 & 50.1 \\\\\n",
       "\t 남자  & 25    & 2     & 무    & O     & 155.4 & 49.9 \\\\\n",
       "\t 여자  & 28    & 4     & 유    & O     & 153.0 & 53.4 \\\\\n",
       "\t 남자  & 27    & 3     & 유    & O     & 161.5 & 53.9 \\\\\n",
       "\t 여자  & 21    & 2     & 유    & O     & 160.3 & 53.1 \\\\\n",
       "\t 여자  & 24    & 3     & 무    & B     & 157.3 & 51.8 \\\\\n",
       "\t 여자  & 23    & 2     & 무    & A     & 161.7 & 54.1 \\\\\n",
       "\t 남자  & 21    & 3     & 유    & A     & 148.3 & 51.8 \\\\\n",
       "\t 여자  & 28    & 1     & 유    & O     & 166.6 & 52.0 \\\\\n",
       "\t 남자  & 23    & 1     & 무    & B     & 160.3 & 49.5 \\\\\n",
       "\t 남자  & 23    & 2     & 무    & O     & 166.4 & 49.9 \\\\\n",
       "\t 여자  & 22    & 3     & 무    & B     & 161.6 & 52.3 \\\\\n",
       "\t 여자  & 26    & 2     & 무    & AB    & 160.6 & 49.7 \\\\\n",
       "\t 남자  & 28    & 3     & 무    & A     & 165.9 & 52.6 \\\\\n",
       "\t 남자  & 28    & 4     & 무    & A     & 161.1 & 53.9 \\\\\n",
       "\t 남자  & 26    & 4     & 무    & O     & 149.7 & 50.2 \\\\\n",
       "\t 여자  & 25    & 2     & 무    & A     & 153.8 & 51.3 \\\\\n",
       "\t 남자  & 25    & 2     & 무    & O     & 152.3 & 52.9 \\\\\n",
       "\t 남자  & 21    & 1     & 무    & B     & 156.6 & 51.2 \\\\\n",
       "\t 남자  & 25    & 2     & 무    & O     & 156.5 & 51.7 \\\\\n",
       "\t 여자  & 21    & 3     & 무    & O     & 163.2 & 51.2 \\\\\n",
       "\t 남자  & 21    & 3     & 유    & O     & 151.5 & 52.6 \\\\\n",
       "\t 여자  & 22    & 4     & 무    & A     & 155.7 & 52.0 \\\\\n",
       "\t 여자  & 28    & 4     & 유    & O     & 162.3 & 54.2 \\\\\n",
       "\t 남자  & 25    & 3     & 무    & B     & 156.6 & 48.4 \\\\\n",
       "\t ... & ... & ... & ... & ... & ... & ...\\\\\n",
       "\t 남자  & 21    & 3     & 무    & A     & 194.7 & 68.9 \\\\\n",
       "\t 여자  & 22    & 2     & 유    & AB    & 160.5 & 71.1 \\\\\n",
       "\t 여자  & 26    & 2     & 유    & B     & 179.1 & 78.5 \\\\\n",
       "\t 남자  & 20    & 3     & 무    & O     & 174.1 & 70.7 \\\\\n",
       "\t 남자  & 22    & 2     & 유    & A     & 161.6 & 74.2 \\\\\n",
       "\t 남자  & 24    & 3     & 유    & O     & 168.3 & 73.3 \\\\\n",
       "\t 여자  & 21    & 2     & 유    & O     & 174.6 & 75.4 \\\\\n",
       "\t 여자  & 24    & 4     & 무    & O     & 169.4 & 72.0 \\\\\n",
       "\t 여자  & 28    & 3     & 무    & A     & 194.4 & 71.7 \\\\\n",
       "\t 여자  & 24    & 4     & 무    & AB    & 176.6 & 68.4 \\\\\n",
       "\t 여자  & 25    & 4     & 유    & O     & 164.0 & 69.8 \\\\\n",
       "\t 남자  & 25    & 3     & 유    & O     & 179.1 & 73.6 \\\\\n",
       "\t 남자  & 23    & 4     & 무    & O     & 164.1 & 75.5 \\\\\n",
       "\t 여자  & 21    & 3     & 무    & O     & 177.9 & 66.2 \\\\\n",
       "\t 여자  & 23    & 2     & 유    & A     & 157.5 & 69.2 \\\\\n",
       "\t 여자  & 26    & 4     & 유    & AB    & 159.7 & 68.7 \\\\\n",
       "\t 남자  & 25    & 1     & 무    & B     & 169.5 & 68.1 \\\\\n",
       "\t 여자  & 24    & 2     & 무    & O     & 179.3 & 65.8 \\\\\n",
       "\t 남자  & 26    & 3     & 유    & O     & 153.8 & 63.1 \\\\\n",
       "\t 남자  & 22    & 1     & 무    & B     & 179.8 & 69.9 \\\\\n",
       "\t 남자  & 26    & 2     & 유    & A     & 174.8 & 74.0 \\\\\n",
       "\t 여자  & 24    & 2     & 무    & B     & 150.9 & 64.2 \\\\\n",
       "\t 여자  & 22    & 2     & 유    & A     & 165.7 & 68.5 \\\\\n",
       "\t 남자  & 25    & 3     & 유    & A     & 161.5 & 70.5 \\\\\n",
       "\t 여자  & 24    & 1     & 유    & A     & 155.4 & 67.1 \\\\\n",
       "\t 여자  & 27    & 4     & 유    & A     & 154.9 & 63.2 \\\\\n",
       "\t 여자  & 27    & 1     & 무    & O     & 156.7 & 73.6 \\\\\n",
       "\t 남자  & 23    & 3     & 유    & B     & 173.4 & 62.5 \\\\\n",
       "\t 남자  & 25    & 3     & 유    & O     & 167.7 & 74.6 \\\\\n",
       "\t 여자  & 28    & 3     & 무    & A     & 179.3 & 71.9 \\\\\n",
       "\\end{tabular}\n"
      ],
      "text/markdown": [
       "\n",
       "| sex | age | grade | absence | bloodtype | height | weight |\n",
       "|---|---|---|---|---|---|---|\n",
       "| 남자  | 20    | 2     | 무    | O     | 157.1 | 52.3  |\n",
       "| 여자  | 24    | 2     | 유    | O     | 160.8 | 53.6  |\n",
       "| 남자  | 28    | 2     | 무    | O     | 160.5 | 53.4  |\n",
       "| 남자  | 22    | 2     | 무    | AB    | 159.0 | 52.2  |\n",
       "| 여자  | 23    | 2     | 무    | O     | 160.9 | 53.1  |\n",
       "| 남자  | 25    | 2     | 유    | A     | 161.5 | 50.1  |\n",
       "| 남자  | 25    | 2     | 무    | O     | 155.4 | 49.9  |\n",
       "| 여자  | 28    | 4     | 유    | O     | 153.0 | 53.4  |\n",
       "| 남자  | 27    | 3     | 유    | O     | 161.5 | 53.9  |\n",
       "| 여자  | 21    | 2     | 유    | O     | 160.3 | 53.1  |\n",
       "| 여자  | 24    | 3     | 무    | B     | 157.3 | 51.8  |\n",
       "| 여자  | 23    | 2     | 무    | A     | 161.7 | 54.1  |\n",
       "| 남자  | 21    | 3     | 유    | A     | 148.3 | 51.8  |\n",
       "| 여자  | 28    | 1     | 유    | O     | 166.6 | 52.0  |\n",
       "| 남자  | 23    | 1     | 무    | B     | 160.3 | 49.5  |\n",
       "| 남자  | 23    | 2     | 무    | O     | 166.4 | 49.9  |\n",
       "| 여자  | 22    | 3     | 무    | B     | 161.6 | 52.3  |\n",
       "| 여자  | 26    | 2     | 무    | AB    | 160.6 | 49.7  |\n",
       "| 남자  | 28    | 3     | 무    | A     | 165.9 | 52.6  |\n",
       "| 남자  | 28    | 4     | 무    | A     | 161.1 | 53.9  |\n",
       "| 남자  | 26    | 4     | 무    | O     | 149.7 | 50.2  |\n",
       "| 여자  | 25    | 2     | 무    | A     | 153.8 | 51.3  |\n",
       "| 남자  | 25    | 2     | 무    | O     | 152.3 | 52.9  |\n",
       "| 남자  | 21    | 1     | 무    | B     | 156.6 | 51.2  |\n",
       "| 남자  | 25    | 2     | 무    | O     | 156.5 | 51.7  |\n",
       "| 여자  | 21    | 3     | 무    | O     | 163.2 | 51.2  |\n",
       "| 남자  | 21    | 3     | 유    | O     | 151.5 | 52.6  |\n",
       "| 여자  | 22    | 4     | 무    | A     | 155.7 | 52.0  |\n",
       "| 여자  | 28    | 4     | 유    | O     | 162.3 | 54.2  |\n",
       "| 남자  | 25    | 3     | 무    | B     | 156.6 | 48.4  |\n",
       "| ... | ... | ... | ... | ... | ... | ... |\n",
       "| 남자  | 21    | 3     | 무    | A     | 194.7 | 68.9  |\n",
       "| 여자  | 22    | 2     | 유    | AB    | 160.5 | 71.1  |\n",
       "| 여자  | 26    | 2     | 유    | B     | 179.1 | 78.5  |\n",
       "| 남자  | 20    | 3     | 무    | O     | 174.1 | 70.7  |\n",
       "| 남자  | 22    | 2     | 유    | A     | 161.6 | 74.2  |\n",
       "| 남자  | 24    | 3     | 유    | O     | 168.3 | 73.3  |\n",
       "| 여자  | 21    | 2     | 유    | O     | 174.6 | 75.4  |\n",
       "| 여자  | 24    | 4     | 무    | O     | 169.4 | 72.0  |\n",
       "| 여자  | 28    | 3     | 무    | A     | 194.4 | 71.7  |\n",
       "| 여자  | 24    | 4     | 무    | AB    | 176.6 | 68.4  |\n",
       "| 여자  | 25    | 4     | 유    | O     | 164.0 | 69.8  |\n",
       "| 남자  | 25    | 3     | 유    | O     | 179.1 | 73.6  |\n",
       "| 남자  | 23    | 4     | 무    | O     | 164.1 | 75.5  |\n",
       "| 여자  | 21    | 3     | 무    | O     | 177.9 | 66.2  |\n",
       "| 여자  | 23    | 2     | 유    | A     | 157.5 | 69.2  |\n",
       "| 여자  | 26    | 4     | 유    | AB    | 159.7 | 68.7  |\n",
       "| 남자  | 25    | 1     | 무    | B     | 169.5 | 68.1  |\n",
       "| 여자  | 24    | 2     | 무    | O     | 179.3 | 65.8  |\n",
       "| 남자  | 26    | 3     | 유    | O     | 153.8 | 63.1  |\n",
       "| 남자  | 22    | 1     | 무    | B     | 179.8 | 69.9  |\n",
       "| 남자  | 26    | 2     | 유    | A     | 174.8 | 74.0  |\n",
       "| 여자  | 24    | 2     | 무    | B     | 150.9 | 64.2  |\n",
       "| 여자  | 22    | 2     | 유    | A     | 165.7 | 68.5  |\n",
       "| 남자  | 25    | 3     | 유    | A     | 161.5 | 70.5  |\n",
       "| 여자  | 24    | 1     | 유    | A     | 155.4 | 67.1  |\n",
       "| 여자  | 27    | 4     | 유    | A     | 154.9 | 63.2  |\n",
       "| 여자  | 27    | 1     | 무    | O     | 156.7 | 73.6  |\n",
       "| 남자  | 23    | 3     | 유    | B     | 173.4 | 62.5  |\n",
       "| 남자  | 25    | 3     | 유    | O     | 167.7 | 74.6  |\n",
       "| 여자  | 28    | 3     | 무    | A     | 179.3 | 71.9  |\n",
       "\n"
      ],
      "text/plain": [
       "    sex  age grade absence bloodtype height weight\n",
       "1   남자 20  2     무      O         157.1  52.3  \n",
       "2   여자 24  2     유      O         160.8  53.6  \n",
       "3   남자 28  2     무      O         160.5  53.4  \n",
       "4   남자 22  2     무      AB        159.0  52.2  \n",
       "5   여자 23  2     무      O         160.9  53.1  \n",
       "6   남자 25  2     유      A         161.5  50.1  \n",
       "7   남자 25  2     무      O         155.4  49.9  \n",
       "8   여자 28  4     유      O         153.0  53.4  \n",
       "9   남자 27  3     유      O         161.5  53.9  \n",
       "10  여자 21  2     유      O         160.3  53.1  \n",
       "11  여자 24  3     무      B         157.3  51.8  \n",
       "12  여자 23  2     무      A         161.7  54.1  \n",
       "13  남자 21  3     유      A         148.3  51.8  \n",
       "14  여자 28  1     유      O         166.6  52.0  \n",
       "15  남자 23  1     무      B         160.3  49.5  \n",
       "16  남자 23  2     무      O         166.4  49.9  \n",
       "17  여자 22  3     무      B         161.6  52.3  \n",
       "18  여자 26  2     무      AB        160.6  49.7  \n",
       "19  남자 28  3     무      A         165.9  52.6  \n",
       "20  남자 28  4     무      A         161.1  53.9  \n",
       "21  남자 26  4     무      O         149.7  50.2  \n",
       "22  여자 25  2     무      A         153.8  51.3  \n",
       "23  남자 25  2     무      O         152.3  52.9  \n",
       "24  남자 21  1     무      B         156.6  51.2  \n",
       "25  남자 25  2     무      O         156.5  51.7  \n",
       "26  여자 21  3     무      O         163.2  51.2  \n",
       "27  남자 21  3     유      O         151.5  52.6  \n",
       "28  여자 22  4     무      A         155.7  52.0  \n",
       "29  여자 28  4     유      O         162.3  54.2  \n",
       "30  남자 25  3     무      B         156.6  48.4  \n",
       "... ...  ... ...   ...     ...       ...    ...   \n",
       "71  남자 21  3     무      A         194.7  68.9  \n",
       "72  여자 22  2     유      AB        160.5  71.1  \n",
       "73  여자 26  2     유      B         179.1  78.5  \n",
       "74  남자 20  3     무      O         174.1  70.7  \n",
       "75  남자 22  2     유      A         161.6  74.2  \n",
       "76  남자 24  3     유      O         168.3  73.3  \n",
       "77  여자 21  2     유      O         174.6  75.4  \n",
       "78  여자 24  4     무      O         169.4  72.0  \n",
       "79  여자 28  3     무      A         194.4  71.7  \n",
       "80  여자 24  4     무      AB        176.6  68.4  \n",
       "81  여자 25  4     유      O         164.0  69.8  \n",
       "82  남자 25  3     유      O         179.1  73.6  \n",
       "83  남자 23  4     무      O         164.1  75.5  \n",
       "84  여자 21  3     무      O         177.9  66.2  \n",
       "85  여자 23  2     유      A         157.5  69.2  \n",
       "86  여자 26  4     유      AB        159.7  68.7  \n",
       "87  남자 25  1     무      B         169.5  68.1  \n",
       "88  여자 24  2     무      O         179.3  65.8  \n",
       "89  남자 26  3     유      O         153.8  63.1  \n",
       "90  남자 22  1     무      B         179.8  69.9  \n",
       "91  남자 26  2     유      A         174.8  74.0  \n",
       "92  여자 24  2     무      B         150.9  64.2  \n",
       "93  여자 22  2     유      A         165.7  68.5  \n",
       "94  남자 25  3     유      A         161.5  70.5  \n",
       "95  여자 24  1     유      A         155.4  67.1  \n",
       "96  여자 27  4     유      A         154.9  63.2  \n",
       "97  여자 27  1     무      O         156.7  73.6  \n",
       "98  남자 23  3     유      B         173.4  62.5  \n",
       "99  남자 25  3     유      O         167.7  74.6  \n",
       "100 여자 28  3     무      A         179.3  71.9  "
      ]
     },
     "metadata": {},
     "output_type": "display_data"
    }
   ],
   "source": [
    "df_csv2"
   ]
  },
  {
   "cell_type": "code",
   "execution_count": 106,
   "metadata": {},
   "outputs": [
    {
     "data": {
      "text/html": [
       "<ol class=list-inline>\n",
       "\t<li>(148,160]</li>\n",
       "\t<li>(160,171]</li>\n",
       "\t<li>(160,171]</li>\n",
       "\t<li>(148,160]</li>\n",
       "\t<li>(160,171]</li>\n",
       "\t<li>(160,171]</li>\n",
       "\t<li>(148,160]</li>\n",
       "\t<li>(148,160]</li>\n",
       "\t<li>(160,171]</li>\n",
       "\t<li>(160,171]</li>\n",
       "\t<li>(148,160]</li>\n",
       "\t<li>(160,171]</li>\n",
       "\t<li>(148,160]</li>\n",
       "\t<li>(160,171]</li>\n",
       "\t<li>(160,171]</li>\n",
       "\t<li>(160,171]</li>\n",
       "\t<li>(160,171]</li>\n",
       "\t<li>(160,171]</li>\n",
       "\t<li>(160,171]</li>\n",
       "\t<li>(160,171]</li>\n",
       "\t<li>(148,160]</li>\n",
       "\t<li>(148,160]</li>\n",
       "\t<li>(148,160]</li>\n",
       "\t<li>(148,160]</li>\n",
       "\t<li>(148,160]</li>\n",
       "\t<li>(160,171]</li>\n",
       "\t<li>(148,160]</li>\n",
       "\t<li>(148,160]</li>\n",
       "\t<li>(160,171]</li>\n",
       "\t<li>(148,160]</li>\n",
       "\t<li>(160,171]</li>\n",
       "\t<li>(160,171]</li>\n",
       "\t<li>(160,171]</li>\n",
       "\t<li>(160,171]</li>\n",
       "\t<li>(148,160]</li>\n",
       "\t<li>(160,171]</li>\n",
       "\t<li>(148,160]</li>\n",
       "\t<li>(160,171]</li>\n",
       "\t<li>(160,171]</li>\n",
       "\t<li>(148,160]</li>\n",
       "\t<li>(160,171]</li>\n",
       "\t<li>(148,160]</li>\n",
       "\t<li>(160,171]</li>\n",
       "\t<li>(160,171]</li>\n",
       "\t<li>(148,160]</li>\n",
       "\t<li>(148,160]</li>\n",
       "\t<li>(160,171]</li>\n",
       "\t<li>(148,160]</li>\n",
       "\t<li>(148,160]</li>\n",
       "\t<li>(160,171]</li>\n",
       "\t<li>(171,183]</li>\n",
       "\t<li>(160,171]</li>\n",
       "\t<li>(160,171]</li>\n",
       "\t<li>(160,171]</li>\n",
       "\t<li>(148,160]</li>\n",
       "\t<li>(160,171]</li>\n",
       "\t<li>(183,195]</li>\n",
       "\t<li>(171,183]</li>\n",
       "\t<li>(160,171]</li>\n",
       "\t<li>(160,171]</li>\n",
       "\t<li>(160,171]</li>\n",
       "\t<li>(160,171]</li>\n",
       "\t<li>(148,160]</li>\n",
       "\t<li>(160,171]</li>\n",
       "\t<li>(171,183]</li>\n",
       "\t<li>(171,183]</li>\n",
       "\t<li>(171,183]</li>\n",
       "\t<li>(160,171]</li>\n",
       "\t<li>(160,171]</li>\n",
       "\t<li>(183,195]</li>\n",
       "\t<li>(183,195]</li>\n",
       "\t<li>(160,171]</li>\n",
       "\t<li>(171,183]</li>\n",
       "\t<li>(171,183]</li>\n",
       "\t<li>(160,171]</li>\n",
       "\t<li>(160,171]</li>\n",
       "\t<li>(171,183]</li>\n",
       "\t<li>(160,171]</li>\n",
       "\t<li>(183,195]</li>\n",
       "\t<li>(171,183]</li>\n",
       "\t<li>(160,171]</li>\n",
       "\t<li>(171,183]</li>\n",
       "\t<li>(160,171]</li>\n",
       "\t<li>(171,183]</li>\n",
       "\t<li>(148,160]</li>\n",
       "\t<li>(160,171]</li>\n",
       "\t<li>(160,171]</li>\n",
       "\t<li>(171,183]</li>\n",
       "\t<li>(148,160]</li>\n",
       "\t<li>(171,183]</li>\n",
       "\t<li>(171,183]</li>\n",
       "\t<li>(148,160]</li>\n",
       "\t<li>(160,171]</li>\n",
       "\t<li>(160,171]</li>\n",
       "\t<li>(148,160]</li>\n",
       "\t<li>(148,160]</li>\n",
       "\t<li>(148,160]</li>\n",
       "\t<li>(171,183]</li>\n",
       "\t<li>(160,171]</li>\n",
       "\t<li>(171,183]</li>\n",
       "</ol>\n",
       "\n",
       "<details>\n",
       "\t<summary style=display:list-item;cursor:pointer>\n",
       "\t\t<strong>Levels</strong>:\n",
       "\t</summary>\n",
       "\t<ol class=list-inline>\n",
       "\t\t<li>'(148,160]'</li>\n",
       "\t\t<li>'(160,171]'</li>\n",
       "\t\t<li>'(171,183]'</li>\n",
       "\t\t<li>'(183,195]'</li>\n",
       "\t</ol>\n",
       "</details>"
      ],
      "text/latex": [
       "\\begin{enumerate*}\n",
       "\\item (148,160{]}\n",
       "\\item (160,171{]}\n",
       "\\item (160,171{]}\n",
       "\\item (148,160{]}\n",
       "\\item (160,171{]}\n",
       "\\item (160,171{]}\n",
       "\\item (148,160{]}\n",
       "\\item (148,160{]}\n",
       "\\item (160,171{]}\n",
       "\\item (160,171{]}\n",
       "\\item (148,160{]}\n",
       "\\item (160,171{]}\n",
       "\\item (148,160{]}\n",
       "\\item (160,171{]}\n",
       "\\item (160,171{]}\n",
       "\\item (160,171{]}\n",
       "\\item (160,171{]}\n",
       "\\item (160,171{]}\n",
       "\\item (160,171{]}\n",
       "\\item (160,171{]}\n",
       "\\item (148,160{]}\n",
       "\\item (148,160{]}\n",
       "\\item (148,160{]}\n",
       "\\item (148,160{]}\n",
       "\\item (148,160{]}\n",
       "\\item (160,171{]}\n",
       "\\item (148,160{]}\n",
       "\\item (148,160{]}\n",
       "\\item (160,171{]}\n",
       "\\item (148,160{]}\n",
       "\\item (160,171{]}\n",
       "\\item (160,171{]}\n",
       "\\item (160,171{]}\n",
       "\\item (160,171{]}\n",
       "\\item (148,160{]}\n",
       "\\item (160,171{]}\n",
       "\\item (148,160{]}\n",
       "\\item (160,171{]}\n",
       "\\item (160,171{]}\n",
       "\\item (148,160{]}\n",
       "\\item (160,171{]}\n",
       "\\item (148,160{]}\n",
       "\\item (160,171{]}\n",
       "\\item (160,171{]}\n",
       "\\item (148,160{]}\n",
       "\\item (148,160{]}\n",
       "\\item (160,171{]}\n",
       "\\item (148,160{]}\n",
       "\\item (148,160{]}\n",
       "\\item (160,171{]}\n",
       "\\item (171,183{]}\n",
       "\\item (160,171{]}\n",
       "\\item (160,171{]}\n",
       "\\item (160,171{]}\n",
       "\\item (148,160{]}\n",
       "\\item (160,171{]}\n",
       "\\item (183,195{]}\n",
       "\\item (171,183{]}\n",
       "\\item (160,171{]}\n",
       "\\item (160,171{]}\n",
       "\\item (160,171{]}\n",
       "\\item (160,171{]}\n",
       "\\item (148,160{]}\n",
       "\\item (160,171{]}\n",
       "\\item (171,183{]}\n",
       "\\item (171,183{]}\n",
       "\\item (171,183{]}\n",
       "\\item (160,171{]}\n",
       "\\item (160,171{]}\n",
       "\\item (183,195{]}\n",
       "\\item (183,195{]}\n",
       "\\item (160,171{]}\n",
       "\\item (171,183{]}\n",
       "\\item (171,183{]}\n",
       "\\item (160,171{]}\n",
       "\\item (160,171{]}\n",
       "\\item (171,183{]}\n",
       "\\item (160,171{]}\n",
       "\\item (183,195{]}\n",
       "\\item (171,183{]}\n",
       "\\item (160,171{]}\n",
       "\\item (171,183{]}\n",
       "\\item (160,171{]}\n",
       "\\item (171,183{]}\n",
       "\\item (148,160{]}\n",
       "\\item (160,171{]}\n",
       "\\item (160,171{]}\n",
       "\\item (171,183{]}\n",
       "\\item (148,160{]}\n",
       "\\item (171,183{]}\n",
       "\\item (171,183{]}\n",
       "\\item (148,160{]}\n",
       "\\item (160,171{]}\n",
       "\\item (160,171{]}\n",
       "\\item (148,160{]}\n",
       "\\item (148,160{]}\n",
       "\\item (148,160{]}\n",
       "\\item (171,183{]}\n",
       "\\item (160,171{]}\n",
       "\\item (171,183{]}\n",
       "\\end{enumerate*}\n",
       "\n",
       "\\emph{Levels}: \\begin{enumerate*}\n",
       "\\item '(148,160{]}'\n",
       "\\item '(160,171{]}'\n",
       "\\item '(171,183{]}'\n",
       "\\item '(183,195{]}'\n",
       "\\end{enumerate*}\n"
      ],
      "text/markdown": [
       "1. (148,160]\n",
       "2. (160,171]\n",
       "3. (160,171]\n",
       "4. (148,160]\n",
       "5. (160,171]\n",
       "6. (160,171]\n",
       "7. (148,160]\n",
       "8. (148,160]\n",
       "9. (160,171]\n",
       "10. (160,171]\n",
       "11. (148,160]\n",
       "12. (160,171]\n",
       "13. (148,160]\n",
       "14. (160,171]\n",
       "15. (160,171]\n",
       "16. (160,171]\n",
       "17. (160,171]\n",
       "18. (160,171]\n",
       "19. (160,171]\n",
       "20. (160,171]\n",
       "21. (148,160]\n",
       "22. (148,160]\n",
       "23. (148,160]\n",
       "24. (148,160]\n",
       "25. (148,160]\n",
       "26. (160,171]\n",
       "27. (148,160]\n",
       "28. (148,160]\n",
       "29. (160,171]\n",
       "30. (148,160]\n",
       "31. (160,171]\n",
       "32. (160,171]\n",
       "33. (160,171]\n",
       "34. (160,171]\n",
       "35. (148,160]\n",
       "36. (160,171]\n",
       "37. (148,160]\n",
       "38. (160,171]\n",
       "39. (160,171]\n",
       "40. (148,160]\n",
       "41. (160,171]\n",
       "42. (148,160]\n",
       "43. (160,171]\n",
       "44. (160,171]\n",
       "45. (148,160]\n",
       "46. (148,160]\n",
       "47. (160,171]\n",
       "48. (148,160]\n",
       "49. (148,160]\n",
       "50. (160,171]\n",
       "51. (171,183]\n",
       "52. (160,171]\n",
       "53. (160,171]\n",
       "54. (160,171]\n",
       "55. (148,160]\n",
       "56. (160,171]\n",
       "57. (183,195]\n",
       "58. (171,183]\n",
       "59. (160,171]\n",
       "60. (160,171]\n",
       "61. (160,171]\n",
       "62. (160,171]\n",
       "63. (148,160]\n",
       "64. (160,171]\n",
       "65. (171,183]\n",
       "66. (171,183]\n",
       "67. (171,183]\n",
       "68. (160,171]\n",
       "69. (160,171]\n",
       "70. (183,195]\n",
       "71. (183,195]\n",
       "72. (160,171]\n",
       "73. (171,183]\n",
       "74. (171,183]\n",
       "75. (160,171]\n",
       "76. (160,171]\n",
       "77. (171,183]\n",
       "78. (160,171]\n",
       "79. (183,195]\n",
       "80. (171,183]\n",
       "81. (160,171]\n",
       "82. (171,183]\n",
       "83. (160,171]\n",
       "84. (171,183]\n",
       "85. (148,160]\n",
       "86. (160,171]\n",
       "87. (160,171]\n",
       "88. (171,183]\n",
       "89. (148,160]\n",
       "90. (171,183]\n",
       "91. (171,183]\n",
       "92. (148,160]\n",
       "93. (160,171]\n",
       "94. (160,171]\n",
       "95. (148,160]\n",
       "96. (148,160]\n",
       "97. (148,160]\n",
       "98. (171,183]\n",
       "99. (160,171]\n",
       "100. (171,183]\n",
       "\n",
       "\n",
       "\n",
       "**Levels**: 1. '(148,160]'\n",
       "2. '(160,171]'\n",
       "3. '(171,183]'\n",
       "4. '(183,195]'\n",
       "\n",
       "\n"
      ],
      "text/plain": [
       "  [1] (148,160] (160,171] (160,171] (148,160] (160,171] (160,171] (148,160]\n",
       "  [8] (148,160] (160,171] (160,171] (148,160] (160,171] (148,160] (160,171]\n",
       " [15] (160,171] (160,171] (160,171] (160,171] (160,171] (160,171] (148,160]\n",
       " [22] (148,160] (148,160] (148,160] (148,160] (160,171] (148,160] (148,160]\n",
       " [29] (160,171] (148,160] (160,171] (160,171] (160,171] (160,171] (148,160]\n",
       " [36] (160,171] (148,160] (160,171] (160,171] (148,160] (160,171] (148,160]\n",
       " [43] (160,171] (160,171] (148,160] (148,160] (160,171] (148,160] (148,160]\n",
       " [50] (160,171] (171,183] (160,171] (160,171] (160,171] (148,160] (160,171]\n",
       " [57] (183,195] (171,183] (160,171] (160,171] (160,171] (160,171] (148,160]\n",
       " [64] (160,171] (171,183] (171,183] (171,183] (160,171] (160,171] (183,195]\n",
       " [71] (183,195] (160,171] (171,183] (171,183] (160,171] (160,171] (171,183]\n",
       " [78] (160,171] (183,195] (171,183] (160,171] (171,183] (160,171] (171,183]\n",
       " [85] (148,160] (160,171] (160,171] (171,183] (148,160] (171,183] (171,183]\n",
       " [92] (148,160] (160,171] (160,171] (148,160] (148,160] (148,160] (171,183]\n",
       " [99] (160,171] (171,183]\n",
       "Levels: (148,160] (160,171] (171,183] (183,195]"
      ]
     },
     "metadata": {},
     "output_type": "display_data"
    }
   ],
   "source": [
    "height_b4  <- cut(df_csv2$height, breaks=4)\n",
    "height_b4"
   ]
  },
  {
   "cell_type": "code",
   "execution_count": 108,
   "metadata": {},
   "outputs": [
    {
     "data": {
      "text/plain": [
       "height_b4\n",
       "(148,160] (160,171] (171,183] (183,195] \n",
       "       30        50        16         4 "
      ]
     },
     "metadata": {},
     "output_type": "display_data"
    }
   ],
   "source": [
    "height_b4_table <- table(height_b4)\n",
    "height_b4_table"
   ]
  },
  {
   "cell_type": "code",
   "execution_count": 109,
   "metadata": {},
   "outputs": [
    {
     "data": {
      "text/plain": [
       "height_b4\n",
       "(148,160] (160,171] (171,183] (183,195] \n",
       "     0.30      0.50      0.16      0.04 "
      ]
     },
     "metadata": {},
     "output_type": "display_data"
    }
   ],
   "source": [
    "height_b4_prop_table <- prop.table(height_b4_table)\n",
    "height_b4_prop_table"
   ]
  },
  {
   "cell_type": "code",
   "execution_count": 110,
   "metadata": {},
   "outputs": [
    {
     "data": {
      "text/html": [
       "<dl class=dl-horizontal>\n",
       "\t<dt>(148,160]</dt>\n",
       "\t\t<dd>0.3</dd>\n",
       "\t<dt>(160,171]</dt>\n",
       "\t\t<dd>0.8</dd>\n",
       "\t<dt>(171,183]</dt>\n",
       "\t\t<dd>0.96</dd>\n",
       "\t<dt>(183,195]</dt>\n",
       "\t\t<dd>1</dd>\n",
       "</dl>\n"
      ],
      "text/latex": [
       "\\begin{description*}\n",
       "\\item[(148,160\\{{]}\\}] 0.3\n",
       "\\item[(160,171\\{{]}\\}] 0.8\n",
       "\\item[(171,183\\{{]}\\}] 0.96\n",
       "\\item[(183,195\\{{]}\\}] 1\n",
       "\\end{description*}\n"
      ],
      "text/markdown": [
       "(148,160]\n",
       ":   0.3(160,171]\n",
       ":   0.8(171,183]\n",
       ":   0.96(183,195]\n",
       ":   1\n",
       "\n"
      ],
      "text/plain": [
       "(148,160] (160,171] (171,183] (183,195] \n",
       "     0.30      0.80      0.96      1.00 "
      ]
     },
     "metadata": {},
     "output_type": "display_data"
    }
   ],
   "source": [
    "height_b4_cumsum <- cumsum(height_b4_prop_table)\n",
    "height_b4_cumsum"
   ]
  },
  {
   "cell_type": "code",
   "execution_count": 114,
   "metadata": {},
   "outputs": [
    {
     "data": {
      "text/html": [
       "<table>\n",
       "<thead><tr><th></th><th scope=col>(148,160]</th><th scope=col>(160,171]</th><th scope=col>(171,183]</th><th scope=col>(183,195]</th></tr></thead>\n",
       "<tbody>\n",
       "\t<tr><th scope=row>height_b4_table</th><td>30.0 </td><td>50.0 </td><td>16.00</td><td>4.00 </td></tr>\n",
       "\t<tr><th scope=row>height_b4_prop_table</th><td> 0.3 </td><td> 0.5 </td><td> 0.16</td><td>0.04 </td></tr>\n",
       "\t<tr><th scope=row>height_b4_cumsum</th><td> 0.3 </td><td> 0.8 </td><td> 0.96</td><td>1.00 </td></tr>\n",
       "</tbody>\n",
       "</table>\n"
      ],
      "text/latex": [
       "\\begin{tabular}{r|llll}\n",
       "  & (148,160{]} & (160,171{]} & (171,183{]} & (183,195{]}\\\\\n",
       "\\hline\n",
       "\theight\\_b4\\_table & 30.0  & 50.0  & 16.00 & 4.00 \\\\\n",
       "\theight\\_b4\\_prop\\_table &  0.3  &  0.5  &  0.16 & 0.04 \\\\\n",
       "\theight\\_b4\\_cumsum &  0.3  &  0.8  &  0.96 & 1.00 \\\\\n",
       "\\end{tabular}\n"
      ],
      "text/markdown": [
       "\n",
       "| <!--/--> | (148,160] | (160,171] | (171,183] | (183,195] |\n",
       "|---|---|---|---|---|\n",
       "| height_b4_table | 30.0  | 50.0  | 16.00 | 4.00  |\n",
       "| height_b4_prop_table |  0.3  |  0.5  |  0.16 | 0.04  |\n",
       "| height_b4_cumsum |  0.3  |  0.8  |  0.96 | 1.00  |\n",
       "\n"
      ],
      "text/plain": [
       "                     (148,160] (160,171] (171,183] (183,195]\n",
       "height_b4_table      30.0      50.0      16.00     4.00     \n",
       "height_b4_prop_table  0.3       0.5       0.16     0.04     \n",
       "height_b4_cumsum      0.3       0.8       0.96     1.00     "
      ]
     },
     "metadata": {},
     "output_type": "display_data"
    }
   ],
   "source": [
    "height_b4_rbind <- rbind(height_b4_table, height_b4_prop_table, height_b4_cumsum)\n",
    "height_b4_rbind"
   ]
  },
  {
   "cell_type": "code",
   "execution_count": 115,
   "metadata": {},
   "outputs": [
    {
     "data": {
      "text/html": [
       "<table>\n",
       "<thead><tr><th></th><th scope=col>(155,162]</th><th scope=col>(162,169]</th><th scope=col>(169,175]</th><th scope=col>(175,182]</th></tr></thead>\n",
       "<tbody>\n",
       "\t<tr><th scope=row>도수</th><td>2.0000000</td><td>6.0000000</td><td>3.0000000</td><td>6.0000000</td></tr>\n",
       "\t<tr><th scope=row>상대도수</th><td>0.1176471</td><td>0.3529412</td><td>0.1764706</td><td>0.3529412</td></tr>\n",
       "\t<tr><th scope=row>누적도수</th><td>0.1176471</td><td>0.4705882</td><td>0.6470588</td><td>1.0000000</td></tr>\n",
       "</tbody>\n",
       "</table>\n"
      ],
      "text/latex": [
       "\\begin{tabular}{r|llll}\n",
       "  & (155,162{]} & (162,169{]} & (169,175{]} & (175,182{]}\\\\\n",
       "\\hline\n",
       "\t도수 & 2.0000000 & 6.0000000 & 3.0000000 & 6.0000000\\\\\n",
       "\t상대도수 & 0.1176471 & 0.3529412 & 0.1764706 & 0.3529412\\\\\n",
       "\t누적도수 & 0.1176471 & 0.4705882 & 0.6470588 & 1.0000000\\\\\n",
       "\\end{tabular}\n"
      ],
      "text/markdown": [
       "\n",
       "| <!--/--> | (155,162] | (162,169] | (169,175] | (175,182] |\n",
       "|---|---|---|---|---|\n",
       "| 도수 | 2.0000000 | 6.0000000 | 3.0000000 | 6.0000000 |\n",
       "| 상대도수 | 0.1176471 | 0.3529412 | 0.1764706 | 0.3529412 |\n",
       "| 누적도수 | 0.1176471 | 0.4705882 | 0.6470588 | 1.0000000 |\n",
       "\n"
      ],
      "text/plain": [
       "         (155,162] (162,169] (169,175] (175,182]\n",
       "도수     2.0000000 6.0000000 3.0000000 6.0000000\n",
       "상대도수 0.1176471 0.3529412 0.1764706 0.3529412\n",
       "누적도수 0.1176471 0.4705882 0.6470588 1.0000000"
      ]
     },
     "metadata": {},
     "output_type": "display_data"
    }
   ],
   "source": [
    "rownames(height_b4_rbind) <- c('도수','상대도수','누적도수')\n",
    "height_break_4_cumsum"
   ]
  },
  {
   "cell_type": "markdown",
   "metadata": {},
   "source": [
    "### 분할표 -2개변수의 빈도수"
   ]
  },
  {
   "cell_type": "code",
   "execution_count": 116,
   "metadata": {},
   "outputs": [
    {
     "data": {
      "text/html": [
       "<table>\n",
       "<thead><tr><th scope=col>name</th><th scope=col>sex</th><th scope=col>age</th><th scope=col>grade</th><th scope=col>absence</th><th scope=col>blood</th><th scope=col>height</th><th scope=col>weight</th></tr></thead>\n",
       "<tbody>\n",
       "\t<tr><td>김길동</td><td>남자  </td><td>23    </td><td>3     </td><td>유    </td><td>O     </td><td>165.3 </td><td>68.2  </td></tr>\n",
       "\t<tr><td>이미린</td><td>여자  </td><td>22    </td><td>2     </td><td>무    </td><td>AB    </td><td>170.1 </td><td>53.0  </td></tr>\n",
       "\t<tr><td>홍길동</td><td>남자  </td><td>24    </td><td>4     </td><td>무    </td><td>B     </td><td>175.0 </td><td>80.1  </td></tr>\n",
       "\t<tr><td>김철수</td><td>남자  </td><td>23    </td><td>3     </td><td>무    </td><td>AB    </td><td>182.1 </td><td>85.7  </td></tr>\n",
       "\t<tr><td>손세수</td><td>여자  </td><td>20    </td><td>1     </td><td>유    </td><td>A     </td><td>168.0 </td><td>49.5  </td></tr>\n",
       "\t<tr><td>박미희</td><td>여자  </td><td>21    </td><td>2     </td><td>무    </td><td>O     </td><td>162.0 </td><td>52.0  </td></tr>\n",
       "</tbody>\n",
       "</table>\n"
      ],
      "text/latex": [
       "\\begin{tabular}{r|llllllll}\n",
       " name & sex & age & grade & absence & blood & height & weight\\\\\n",
       "\\hline\n",
       "\t 김길동 & 남자   & 23     & 3      & 유     & O      & 165.3  & 68.2  \\\\\n",
       "\t 이미린 & 여자   & 22     & 2      & 무     & AB     & 170.1  & 53.0  \\\\\n",
       "\t 홍길동 & 남자   & 24     & 4      & 무     & B      & 175.0  & 80.1  \\\\\n",
       "\t 김철수 & 남자   & 23     & 3      & 무     & AB     & 182.1  & 85.7  \\\\\n",
       "\t 손세수 & 여자   & 20     & 1      & 유     & A      & 168.0  & 49.5  \\\\\n",
       "\t 박미희 & 여자   & 21     & 2      & 무     & O      & 162.0  & 52.0  \\\\\n",
       "\\end{tabular}\n"
      ],
      "text/markdown": [
       "\n",
       "| name | sex | age | grade | absence | blood | height | weight |\n",
       "|---|---|---|---|---|---|---|---|\n",
       "| 김길동 | 남자   | 23     | 3      | 유     | O      | 165.3  | 68.2   |\n",
       "| 이미린 | 여자   | 22     | 2      | 무     | AB     | 170.1  | 53.0   |\n",
       "| 홍길동 | 남자   | 24     | 4      | 무     | B      | 175.0  | 80.1   |\n",
       "| 김철수 | 남자   | 23     | 3      | 무     | AB     | 182.1  | 85.7   |\n",
       "| 손세수 | 여자   | 20     | 1      | 유     | A      | 168.0  | 49.5   |\n",
       "| 박미희 | 여자   | 21     | 2      | 무     | O      | 162.0  | 52.0   |\n",
       "\n"
      ],
      "text/plain": [
       "  name   sex  age grade absence blood height weight\n",
       "1 김길동 남자 23  3     유      O     165.3  68.2  \n",
       "2 이미린 여자 22  2     무      AB    170.1  53.0  \n",
       "3 홍길동 남자 24  4     무      B     175.0  80.1  \n",
       "4 김철수 남자 23  3     무      AB    182.1  85.7  \n",
       "5 손세수 여자 20  1     유      A     168.0  49.5  \n",
       "6 박미희 여자 21  2     무      O     162.0  52.0  "
      ]
     },
     "metadata": {},
     "output_type": "display_data"
    }
   ],
   "source": [
    "head(df_csv)"
   ]
  },
  {
   "cell_type": "code",
   "execution_count": 117,
   "metadata": {},
   "outputs": [
    {
     "data": {
      "text/plain": [
       "      \n",
       "       A AB B O\n",
       "  남자 2  2 4 2\n",
       "  여자 2  1 1 3"
      ]
     },
     "metadata": {},
     "output_type": "display_data"
    }
   ],
   "source": [
    "#table(행,열)\n",
    "sex_blood_table <- table(df_csv$sex,df_csv$blood)\n",
    "sex_blood_table"
   ]
  },
  {
   "cell_type": "code",
   "execution_count": 122,
   "metadata": {},
   "outputs": [
    {
     "data": {
      "text/html": [
       "<table>\n",
       "<thead><tr><th></th><th scope=col>A</th><th scope=col>AB</th><th scope=col>B</th><th scope=col>O</th><th scope=col>Sum</th></tr></thead>\n",
       "<tbody>\n",
       "\t<tr><th scope=row>남자</th><td>2 </td><td>2 </td><td>4 </td><td>2 </td><td>10</td></tr>\n",
       "\t<tr><th scope=row>여자</th><td>2 </td><td>1 </td><td>1 </td><td>3 </td><td> 7</td></tr>\n",
       "</tbody>\n",
       "</table>\n"
      ],
      "text/latex": [
       "\\begin{tabular}{r|lllll}\n",
       "  & A & AB & B & O & Sum\\\\\n",
       "\\hline\n",
       "\t남자 & 2  & 2  & 4  & 2  & 10\\\\\n",
       "\t여자 & 2  & 1  & 1  & 3  &  7\\\\\n",
       "\\end{tabular}\n"
      ],
      "text/markdown": [
       "\n",
       "| <!--/--> | A | AB | B | O | Sum |\n",
       "|---|---|---|---|---|---|\n",
       "| 남자 | 2  | 2  | 4  | 2  | 10 |\n",
       "| 여자 | 2  | 1  | 1  | 3  |  7 |\n",
       "\n"
      ],
      "text/plain": [
       "      \n",
       "       A AB B O Sum\n",
       "  남자 2 2  4 2 10 \n",
       "  여자 2 1  1 3  7 "
      ]
     },
     "metadata": {},
     "output_type": "display_data"
    }
   ],
   "source": [
    "addmargins(sex_blood_table,margin=2)"
   ]
  },
  {
   "cell_type": "code",
   "execution_count": 124,
   "metadata": {},
   "outputs": [
    {
     "data": {
      "text/plain": [
       "      \n",
       "                A         AB          B          O\n",
       "  남자 0.11764706 0.11764706 0.23529412 0.11764706\n",
       "  여자 0.11764706 0.05882353 0.05882353 0.17647059"
      ]
     },
     "metadata": {},
     "output_type": "display_data"
    }
   ],
   "source": [
    "#전체에 대한 상대도수\n",
    "sex_blood_prop_table <- prop.table(sex_blood_table)\n",
    "sex_blood_prop_table"
   ]
  },
  {
   "cell_type": "code",
   "execution_count": 125,
   "metadata": {},
   "outputs": [
    {
     "data": {
      "text/html": [
       "<table>\n",
       "<thead><tr><th></th><th scope=col>A</th><th scope=col>AB</th><th scope=col>B</th><th scope=col>O</th><th scope=col>Sum</th></tr></thead>\n",
       "<tbody>\n",
       "\t<tr><th scope=row>남자</th><td>0.1176471 </td><td>0.11764706</td><td>0.23529412</td><td>0.1176471 </td><td>0.5882353 </td></tr>\n",
       "\t<tr><th scope=row>여자</th><td>0.1176471 </td><td>0.05882353</td><td>0.05882353</td><td>0.1764706 </td><td>0.4117647 </td></tr>\n",
       "\t<tr><th scope=row>Sum</th><td>0.2352941 </td><td>0.17647059</td><td>0.29411765</td><td>0.2941176 </td><td>1.0000000 </td></tr>\n",
       "</tbody>\n",
       "</table>\n"
      ],
      "text/latex": [
       "\\begin{tabular}{r|lllll}\n",
       "  & A & AB & B & O & Sum\\\\\n",
       "\\hline\n",
       "\t남자 & 0.1176471  & 0.11764706 & 0.23529412 & 0.1176471  & 0.5882353 \\\\\n",
       "\t여자 & 0.1176471  & 0.05882353 & 0.05882353 & 0.1764706  & 0.4117647 \\\\\n",
       "\tSum & 0.2352941  & 0.17647059 & 0.29411765 & 0.2941176  & 1.0000000 \\\\\n",
       "\\end{tabular}\n"
      ],
      "text/markdown": [
       "\n",
       "| <!--/--> | A | AB | B | O | Sum |\n",
       "|---|---|---|---|---|---|\n",
       "| 남자 | 0.1176471  | 0.11764706 | 0.23529412 | 0.1176471  | 0.5882353  |\n",
       "| 여자 | 0.1176471  | 0.05882353 | 0.05882353 | 0.1764706  | 0.4117647  |\n",
       "| Sum | 0.2352941  | 0.17647059 | 0.29411765 | 0.2941176  | 1.0000000  |\n",
       "\n"
      ],
      "text/plain": [
       "      \n",
       "       A         AB         B          O         Sum      \n",
       "  남자 0.1176471 0.11764706 0.23529412 0.1176471 0.5882353\n",
       "  여자 0.1176471 0.05882353 0.05882353 0.1764706 0.4117647\n",
       "  Sum  0.2352941 0.17647059 0.29411765 0.2941176 1.0000000"
      ]
     },
     "metadata": {},
     "output_type": "display_data"
    }
   ],
   "source": [
    "addmargins(sex_blood_prop_table)"
   ]
  },
  {
   "cell_type": "code",
   "execution_count": 127,
   "metadata": {},
   "outputs": [
    {
     "data": {
      "text/plain": [
       "      \n",
       "               A        AB         B         O\n",
       "  남자 0.2000000 0.2000000 0.4000000 0.2000000\n",
       "  여자 0.2857143 0.1428571 0.1428571 0.4285714"
      ]
     },
     "metadata": {},
     "output_type": "display_data"
    }
   ],
   "source": [
    "#남자 여자 별로의 상대도수\n",
    "sex_blood_margin1 <- prop.table(sex_blood_table,margin=1)\n",
    "sex_blood_margin1"
   ]
  },
  {
   "cell_type": "code",
   "execution_count": 128,
   "metadata": {},
   "outputs": [
    {
     "data": {
      "text/plain": [
       "      \n",
       "               A        AB         B         O\n",
       "  남자 0.5000000 0.6666667 0.8000000 0.4000000\n",
       "  여자 0.5000000 0.3333333 0.2000000 0.6000000"
      ]
     },
     "metadata": {},
     "output_type": "display_data"
    }
   ],
   "source": [
    "#열별 상대도수 \n",
    "sex_blood_margin2 <- prop.table(sex_blood_table,margin=2)\n",
    "sex_blood_margin2"
   ]
  },
  {
   "cell_type": "code",
   "execution_count": 129,
   "metadata": {},
   "outputs": [
    {
     "data": {
      "text/html": [
       "<ol class=list-inline>\n",
       "\t<li>TRUE</li>\n",
       "\t<li>TRUE</li>\n",
       "\t<li>TRUE</li>\n",
       "\t<li>TRUE</li>\n",
       "\t<li>FALSE</li>\n",
       "\t<li>TRUE</li>\n",
       "\t<li>TRUE</li>\n",
       "\t<li>TRUE</li>\n",
       "\t<li>TRUE</li>\n",
       "\t<li>TRUE</li>\n",
       "</ol>\n"
      ],
      "text/latex": [
       "\\begin{enumerate*}\n",
       "\\item TRUE\n",
       "\\item TRUE\n",
       "\\item TRUE\n",
       "\\item TRUE\n",
       "\\item FALSE\n",
       "\\item TRUE\n",
       "\\item TRUE\n",
       "\\item TRUE\n",
       "\\item TRUE\n",
       "\\item TRUE\n",
       "\\end{enumerate*}\n"
      ],
      "text/markdown": [
       "1. TRUE\n",
       "2. TRUE\n",
       "3. TRUE\n",
       "4. TRUE\n",
       "5. FALSE\n",
       "6. TRUE\n",
       "7. TRUE\n",
       "8. TRUE\n",
       "9. TRUE\n",
       "10. TRUE\n",
       "\n",
       "\n"
      ],
      "text/plain": [
       " [1]  TRUE  TRUE  TRUE  TRUE FALSE  TRUE  TRUE  TRUE  TRUE  TRUE"
      ]
     },
     "metadata": {},
     "output_type": "display_data"
    }
   ],
   "source": [
    "# NA- 값이 없는 경우 처리 방법\n",
    "a <- c(1,2,3,4,NA,6,7,8,9,10)\n",
    "complete.cases(a)"
   ]
  },
  {
   "cell_type": "code",
   "execution_count": 130,
   "metadata": {},
   "outputs": [
    {
     "data": {
      "text/html": [
       "<ol class=list-inline>\n",
       "\t<li>1</li>\n",
       "\t<li>2</li>\n",
       "\t<li>3</li>\n",
       "\t<li>4</li>\n",
       "\t<li>6</li>\n",
       "\t<li>7</li>\n",
       "\t<li>8</li>\n",
       "\t<li>9</li>\n",
       "\t<li>10</li>\n",
       "</ol>\n"
      ],
      "text/latex": [
       "\\begin{enumerate*}\n",
       "\\item 1\n",
       "\\item 2\n",
       "\\item 3\n",
       "\\item 4\n",
       "\\item 6\n",
       "\\item 7\n",
       "\\item 8\n",
       "\\item 9\n",
       "\\item 10\n",
       "\\end{enumerate*}\n"
      ],
      "text/markdown": [
       "1. 1\n",
       "2. 2\n",
       "3. 3\n",
       "4. 4\n",
       "5. 6\n",
       "6. 7\n",
       "7. 8\n",
       "8. 9\n",
       "9. 10\n",
       "\n",
       "\n"
      ],
      "text/plain": [
       "[1]  1  2  3  4  6  7  8  9 10"
      ]
     },
     "metadata": {},
     "output_type": "display_data"
    }
   ],
   "source": [
    "#False 값은 생략되고 나옴\n",
    "a[complete.cases(a)]"
   ]
  },
  {
   "cell_type": "code",
   "execution_count": 131,
   "metadata": {},
   "outputs": [
    {
     "data": {
      "text/html": [
       "<ol class=list-inline>\n",
       "\t<li>1</li>\n",
       "\t<li>2</li>\n",
       "\t<li>3</li>\n",
       "\t<li>4</li>\n",
       "\t<li>6</li>\n",
       "\t<li>7</li>\n",
       "\t<li>8</li>\n",
       "\t<li>9</li>\n",
       "\t<li>10</li>\n",
       "</ol>\n"
      ],
      "text/latex": [
       "\\begin{enumerate*}\n",
       "\\item 1\n",
       "\\item 2\n",
       "\\item 3\n",
       "\\item 4\n",
       "\\item 6\n",
       "\\item 7\n",
       "\\item 8\n",
       "\\item 9\n",
       "\\item 10\n",
       "\\end{enumerate*}\n"
      ],
      "text/markdown": [
       "1. 1\n",
       "2. 2\n",
       "3. 3\n",
       "4. 4\n",
       "5. 6\n",
       "6. 7\n",
       "7. 8\n",
       "8. 9\n",
       "9. 10\n",
       "\n",
       "\n"
      ],
      "text/plain": [
       "[1]  1  2  3  4  6  7  8  9 10\n",
       "attr(,\"na.action\")\n",
       "[1] 5\n",
       "attr(,\"class\")\n",
       "[1] \"omit\""
      ]
     },
     "metadata": {},
     "output_type": "display_data"
    }
   ],
   "source": [
    "# na값 빼버려! \n",
    "na.omit(a)"
   ]
  },
  {
   "cell_type": "code",
   "execution_count": null,
   "metadata": {},
   "outputs": [],
   "source": []
  }
 ],
 "metadata": {
  "kernelspec": {
   "display_name": "R",
   "language": "R",
   "name": "ir"
  },
  "language_info": {
   "codemirror_mode": "r",
   "file_extension": ".r",
   "mimetype": "text/x-r-source",
   "name": "R",
   "pygments_lexer": "r",
   "version": "3.6.1"
  }
 },
 "nbformat": 4,
 "nbformat_minor": 4
}
