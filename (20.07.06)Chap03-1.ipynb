{
 "cells": [
  {
   "cell_type": "code",
   "execution_count": 3,
   "metadata": {},
   "outputs": [],
   "source": [
    "df <- read.csv('r-ggagi-data/example_studentlist.csv')"
   ]
  },
  {
   "cell_type": "code",
   "execution_count": 4,
   "metadata": {},
   "outputs": [
    {
     "data": {
      "text/html": [
       "<table>\n",
       "<thead><tr><th scope=col>name</th><th scope=col>sex</th><th scope=col>age</th><th scope=col>grade</th><th scope=col>absence</th><th scope=col>bloodtype</th><th scope=col>height</th><th scope=col>weight</th></tr></thead>\n",
       "<tbody>\n",
       "\t<tr><td>김길동</td><td>남자  </td><td>23    </td><td>3     </td><td>유    </td><td>O     </td><td>165.3 </td><td>68.2  </td></tr>\n",
       "\t<tr><td>이미린</td><td>여자  </td><td>22    </td><td>2     </td><td>무    </td><td>AB    </td><td>170.1 </td><td>53.0  </td></tr>\n",
       "\t<tr><td>홍길동</td><td>남자  </td><td>24    </td><td>4     </td><td>무    </td><td>B     </td><td>175.0 </td><td>80.1  </td></tr>\n",
       "\t<tr><td>김철수</td><td>남자  </td><td>23    </td><td>3     </td><td>무    </td><td>AB    </td><td>182.1 </td><td>85.7  </td></tr>\n",
       "\t<tr><td>손세수</td><td>여자  </td><td>20    </td><td>1     </td><td>유    </td><td>A     </td><td>168.0 </td><td>49.5  </td></tr>\n",
       "\t<tr><td>박미희</td><td>여자  </td><td>21    </td><td>2     </td><td>무    </td><td>O     </td><td>162.0 </td><td>52.0  </td></tr>\n",
       "</tbody>\n",
       "</table>\n"
      ],
      "text/latex": [
       "\\begin{tabular}{r|llllllll}\n",
       " name & sex & age & grade & absence & bloodtype & height & weight\\\\\n",
       "\\hline\n",
       "\t 김길동 & 남자   & 23     & 3      & 유     & O      & 165.3  & 68.2  \\\\\n",
       "\t 이미린 & 여자   & 22     & 2      & 무     & AB     & 170.1  & 53.0  \\\\\n",
       "\t 홍길동 & 남자   & 24     & 4      & 무     & B      & 175.0  & 80.1  \\\\\n",
       "\t 김철수 & 남자   & 23     & 3      & 무     & AB     & 182.1  & 85.7  \\\\\n",
       "\t 손세수 & 여자   & 20     & 1      & 유     & A      & 168.0  & 49.5  \\\\\n",
       "\t 박미희 & 여자   & 21     & 2      & 무     & O      & 162.0  & 52.0  \\\\\n",
       "\\end{tabular}\n"
      ],
      "text/markdown": [
       "\n",
       "| name | sex | age | grade | absence | bloodtype | height | weight |\n",
       "|---|---|---|---|---|---|---|---|\n",
       "| 김길동 | 남자   | 23     | 3      | 유     | O      | 165.3  | 68.2   |\n",
       "| 이미린 | 여자   | 22     | 2      | 무     | AB     | 170.1  | 53.0   |\n",
       "| 홍길동 | 남자   | 24     | 4      | 무     | B      | 175.0  | 80.1   |\n",
       "| 김철수 | 남자   | 23     | 3      | 무     | AB     | 182.1  | 85.7   |\n",
       "| 손세수 | 여자   | 20     | 1      | 유     | A      | 168.0  | 49.5   |\n",
       "| 박미희 | 여자   | 21     | 2      | 무     | O      | 162.0  | 52.0   |\n",
       "\n"
      ],
      "text/plain": [
       "  name   sex  age grade absence bloodtype height weight\n",
       "1 김길동 남자 23  3     유      O         165.3  68.2  \n",
       "2 이미린 여자 22  2     무      AB        170.1  53.0  \n",
       "3 홍길동 남자 24  4     무      B         175.0  80.1  \n",
       "4 김철수 남자 23  3     무      AB        182.1  85.7  \n",
       "5 손세수 여자 20  1     유      A         168.0  49.5  \n",
       "6 박미희 여자 21  2     무      O         162.0  52.0  "
      ]
     },
     "metadata": {},
     "output_type": "display_data"
    }
   ],
   "source": [
    "head(df)"
   ]
  },
  {
   "cell_type": "code",
   "execution_count": 5,
   "metadata": {},
   "outputs": [
    {
     "data": {
      "text/html": [
       "170.035294117647"
      ],
      "text/latex": [
       "170.035294117647"
      ],
      "text/markdown": [
       "170.035294117647"
      ],
      "text/plain": [
       "[1] 170.0353"
      ]
     },
     "metadata": {},
     "output_type": "display_data"
    }
   ],
   "source": [
    "#평균\n",
    "mean(df$height, na.rm = T)"
   ]
  },
  {
   "cell_type": "code",
   "execution_count": 6,
   "metadata": {},
   "outputs": [
    {
     "data": {
      "text/html": [
       "169.2"
      ],
      "text/latex": [
       "169.2"
      ],
      "text/markdown": [
       "169.2"
      ],
      "text/plain": [
       "[1] 169.2"
      ]
     },
     "metadata": {},
     "output_type": "display_data"
    }
   ],
   "source": [
    "#중앙값\n",
    "median(df$height, na.rm = T)"
   ]
  },
  {
   "cell_type": "code",
   "execution_count": 7,
   "metadata": {},
   "outputs": [
    {
     "data": {
      "text/html": [
       "<ol class=list-inline>\n",
       "\t<li>155.2</li>\n",
       "\t<li>182.1</li>\n",
       "</ol>\n"
      ],
      "text/latex": [
       "\\begin{enumerate*}\n",
       "\\item 155.2\n",
       "\\item 182.1\n",
       "\\end{enumerate*}\n"
      ],
      "text/markdown": [
       "1. 155.2\n",
       "2. 182.1\n",
       "\n",
       "\n"
      ],
      "text/plain": [
       "[1] 155.2 182.1"
      ]
     },
     "metadata": {},
     "output_type": "display_data"
    }
   ],
   "source": [
    "#범위\n",
    "range(df$height,na.rm = T)"
   ]
  },
  {
   "cell_type": "code",
   "execution_count": 8,
   "metadata": {},
   "outputs": [
    {
     "data": {
      "text/html": [
       "<dl class=dl-horizontal>\n",
       "\t<dt>0%</dt>\n",
       "\t\t<dd>155.2</dd>\n",
       "\t<dt>25%</dt>\n",
       "\t\t<dd>165.3</dd>\n",
       "\t<dt>50%</dt>\n",
       "\t\t<dd>169.2</dd>\n",
       "\t<dt>75%</dt>\n",
       "\t\t<dd>176.1</dd>\n",
       "\t<dt>100%</dt>\n",
       "\t\t<dd>182.1</dd>\n",
       "</dl>\n"
      ],
      "text/latex": [
       "\\begin{description*}\n",
       "\\item[0\\textbackslash{}\\%] 155.2\n",
       "\\item[25\\textbackslash{}\\%] 165.3\n",
       "\\item[50\\textbackslash{}\\%] 169.2\n",
       "\\item[75\\textbackslash{}\\%] 176.1\n",
       "\\item[100\\textbackslash{}\\%] 182.1\n",
       "\\end{description*}\n"
      ],
      "text/markdown": [
       "0%\n",
       ":   155.225%\n",
       ":   165.350%\n",
       ":   169.275%\n",
       ":   176.1100%\n",
       ":   182.1\n",
       "\n"
      ],
      "text/plain": [
       "   0%   25%   50%   75%  100% \n",
       "155.2 165.3 169.2 176.1 182.1 "
      ]
     },
     "metadata": {},
     "output_type": "display_data"
    }
   ],
   "source": [
    "#사분위\n",
    "quantile(df$height, na.rm = T)"
   ]
  },
  {
   "cell_type": "code",
   "execution_count": 9,
   "metadata": {},
   "outputs": [
    {
     "data": {
      "text/html": [
       "10.8"
      ],
      "text/latex": [
       "10.8"
      ],
      "text/markdown": [
       "10.8"
      ],
      "text/plain": [
       "[1] 10.8"
      ]
     },
     "metadata": {},
     "output_type": "display_data"
    }
   ],
   "source": [
    "# IQR (25% 75%사이 거리)\n",
    "IQR(df$height, na.rm = T)"
   ]
  },
  {
   "cell_type": "code",
   "execution_count": 10,
   "metadata": {},
   "outputs": [
    {
     "data": {
      "text/html": [
       "10.8"
      ],
      "text/latex": [
       "10.8"
      ],
      "text/markdown": [
       "10.8"
      ],
      "text/plain": [
       "[1] 10.8"
      ]
     },
     "metadata": {},
     "output_type": "display_data"
    },
    {
     "data": {
      "text/html": [
       "11.775"
      ],
      "text/latex": [
       "11.775"
      ],
      "text/markdown": [
       "11.775"
      ],
      "text/plain": [
       "[1] 11.775"
      ]
     },
     "metadata": {},
     "output_type": "display_data"
    },
    {
     "data": {
      "text/html": [
       "13.9"
      ],
      "text/latex": [
       "13.9"
      ],
      "text/markdown": [
       "13.9"
      ],
      "text/plain": [
       "[1] 13.9"
      ]
     },
     "metadata": {},
     "output_type": "display_data"
    }
   ],
   "source": [
    "IQR(df$height, na.rm = T, type = 7) # default\n",
    "IQR(df$height, na.rm = T, type = 5)\n",
    "IQR(df$height, na.rm = T, type = 3)"
   ]
  },
  {
   "cell_type": "code",
   "execution_count": 11,
   "metadata": {},
   "outputs": [
    {
     "data": {
      "text/plain": [
       "   Min. 1st Qu.  Median    Mean 3rd Qu.    Max. \n",
       "  155.2   165.3   169.2   170.0   176.1   182.1 "
      ]
     },
     "metadata": {},
     "output_type": "display_data"
    }
   ],
   "source": [
    "summary(df$height, na.rm = T)"
   ]
  },
  {
   "cell_type": "code",
   "execution_count": 12,
   "metadata": {},
   "outputs": [
    {
     "data": {
      "image/png": "[encoded data removed]",
      "text/plain": [
       "plot without title"
      ]
     },
     "metadata": {},
     "output_type": "display_data"
    }
   ],
   "source": [
    "# Box Plot 으로 보기 - NA 값 기본 제거함\n",
    "boxplot(df$height)"
   ]
  },
  {
   "cell_type": "code",
   "execution_count": 13,
   "metadata": {},
   "outputs": [
    {
     "data": {
      "text/html": [
       "0.664181597958861"
      ],
      "text/latex": [
       "0.664181597958861"
      ],
      "text/markdown": [
       "0.664181597958861"
      ],
      "text/plain": [
       "[1] 0.6641816"
      ]
     },
     "metadata": {},
     "output_type": "display_data"
    }
   ],
   "source": [
    "# 상관계수 다루기\n",
    "cor(df$height, df$weight)"
   ]
  },
  {
   "cell_type": "code",
   "execution_count": 14,
   "metadata": {},
   "outputs": [
    {
     "data": {
      "text/plain": [
       "\n",
       "\tPearson's product-moment correlation\n",
       "\n",
       "data:  df$height and df$weight\n",
       "t = 3.441, df = 15, p-value = 0.003639\n",
       "alternative hypothesis: true correlation is not equal to 0\n",
       "95 percent confidence interval:\n",
       " 0.2696040 0.8677954\n",
       "sample estimates:\n",
       "      cor \n",
       "0.6641816 \n"
      ]
     },
     "metadata": {},
     "output_type": "display_data"
    }
   ],
   "source": [
    "# 신뢰구간, P값\n",
    "cor.test(df$height, df$weight)"
   ]
  },
  {
   "cell_type": "code",
   "execution_count": 15,
   "metadata": {},
   "outputs": [
    {
     "data": {
      "text/html": [
       "<table>\n",
       "<thead><tr><th></th><th scope=col>age</th><th scope=col>height</th><th scope=col>weight</th></tr></thead>\n",
       "<tbody>\n",
       "\t<tr><th scope=row>age</th><td>1.0000000</td><td>0.3450992</td><td>0.5226855</td></tr>\n",
       "\t<tr><th scope=row>height</th><td>0.3450992</td><td>1.0000000</td><td>0.6641816</td></tr>\n",
       "\t<tr><th scope=row>weight</th><td>0.5226855</td><td>0.6641816</td><td>1.0000000</td></tr>\n",
       "</tbody>\n",
       "</table>\n"
      ],
      "text/latex": [
       "\\begin{tabular}{r|lll}\n",
       "  & age & height & weight\\\\\n",
       "\\hline\n",
       "\tage & 1.0000000 & 0.3450992 & 0.5226855\\\\\n",
       "\theight & 0.3450992 & 1.0000000 & 0.6641816\\\\\n",
       "\tweight & 0.5226855 & 0.6641816 & 1.0000000\\\\\n",
       "\\end{tabular}\n"
      ],
      "text/markdown": [
       "\n",
       "| <!--/--> | age | height | weight |\n",
       "|---|---|---|---|\n",
       "| age | 1.0000000 | 0.3450992 | 0.5226855 |\n",
       "| height | 0.3450992 | 1.0000000 | 0.6641816 |\n",
       "| weight | 0.5226855 | 0.6641816 | 1.0000000 |\n",
       "\n"
      ],
      "text/plain": [
       "       age       height    weight   \n",
       "age    1.0000000 0.3450992 0.5226855\n",
       "height 0.3450992 1.0000000 0.6641816\n",
       "weight 0.5226855 0.6641816 1.0000000"
      ]
     },
     "metadata": {},
     "output_type": "display_data"
    }
   ],
   "source": [
    "# 3개변수 상관 계수\n",
    "cor(df[,c(3,7,8)])"
   ]
  },
  {
   "cell_type": "code",
   "execution_count": 16,
   "metadata": {},
   "outputs": [],
   "source": [
    "# 여러 변수 사용시의 결측치 \n",
    "# use 사용 좀더 자세히 지정해야 함\n",
    "df2 <- df\n",
    "df2[2,7] <- NA\n",
    "df2[4,8] <- NA"
   ]
  },
  {
   "cell_type": "code",
   "execution_count": 17,
   "metadata": {},
   "outputs": [
    {
     "data": {
      "text/html": [
       "&lt;NA&gt;"
      ],
      "text/latex": [
       "<NA>"
      ],
      "text/markdown": [
       "&lt;NA&gt;"
      ],
      "text/plain": [
       "[1] NA"
      ]
     },
     "metadata": {},
     "output_type": "display_data"
    }
   ],
   "source": [
    "cor(df2$height, df2$weight)"
   ]
  },
  {
   "cell_type": "code",
   "execution_count": 18,
   "metadata": {},
   "outputs": [
    {
     "data": {
      "text/html": [
       "0.596680912660705"
      ],
      "text/latex": [
       "0.596680912660705"
      ],
      "text/markdown": [
       "0.596680912660705"
      ],
      "text/plain": [
       "[1] 0.5966809"
      ]
     },
     "metadata": {},
     "output_type": "display_data"
    }
   ],
   "source": [
    "# use = 'complete.obs' == na.rm = T 모든 결측치 제거\n",
    "cor(df2$height, df2$weight, use = 'complete.obs')"
   ]
  },
  {
   "cell_type": "code",
   "execution_count": 19,
   "metadata": {},
   "outputs": [
    {
     "data": {
      "text/html": [
       "0.596680912660705"
      ],
      "text/latex": [
       "0.596680912660705"
      ],
      "text/markdown": [
       "0.596680912660705"
      ],
      "text/plain": [
       "[1] 0.5966809"
      ]
     },
     "metadata": {},
     "output_type": "display_data"
    }
   ],
   "source": [
    "# use = 'pairwise.complete.obs' 상관계수를 만든 Peason 방식, 그 Vector 만 뺌\n",
    "cor(df2$height, df2$weight, use = 'pairwise.complete.obs')"
   ]
  },
  {
   "cell_type": "code",
   "execution_count": 20,
   "metadata": {},
   "outputs": [
    {
     "data": {
      "text/html": [
       "&lt;NA&gt;"
      ],
      "text/latex": [
       "<NA>"
      ],
      "text/markdown": [
       "&lt;NA&gt;"
      ],
      "text/plain": [
       "[1] NA"
      ]
     },
     "metadata": {},
     "output_type": "display_data"
    }
   ],
   "source": [
    "cor(df2$height, df2$weight, use = 'everything')"
   ]
  },
  {
   "cell_type": "code",
   "execution_count": 21,
   "metadata": {},
   "outputs": [
    {
     "ename": "ERROR",
     "evalue": "Error in cor(df2$height, df2$weight, use = \"all.obs\"): cov/cor에 결측치들이 있습니다\n",
     "output_type": "error",
     "traceback": [
      "Error in cor(df2$height, df2$weight, use = \"all.obs\"): cov/cor에 결측치들이 있습니다\nTraceback:\n",
      "1. cor(df2$height, df2$weight, use = \"all.obs\")"
     ]
    }
   ],
   "source": [
    "cor(df2$height, df2$weight, use = 'all.obs')"
   ]
  },
  {
   "cell_type": "code",
   "execution_count": 23,
   "metadata": {},
   "outputs": [
    {
     "data": {
      "text/html": [
       "61.6186764705883"
      ],
      "text/latex": [
       "61.6186764705883"
      ],
      "text/markdown": [
       "61.6186764705883"
      ],
      "text/plain": [
       "[1] 61.61868"
      ]
     },
     "metadata": {},
     "output_type": "display_data"
    },
    {
     "data": {
      "text/html": [
       "61.7906985294118"
      ],
      "text/latex": [
       "61.7906985294118"
      ],
      "text/markdown": [
       "61.7906985294118"
      ],
      "text/plain": [
       "[1] 61.7907"
      ]
     },
     "metadata": {},
     "output_type": "display_data"
    }
   ],
   "source": [
    "# 분산과 공분산 \n",
    "var(df$height, na.rm = T)\n",
    "var(df$height, df$weight, na.rm = T)"
   ]
  },
  {
   "cell_type": "code",
   "execution_count": 24,
   "metadata": {},
   "outputs": [
    {
     "data": {
      "text/html": [
       "61.7906985294118"
      ],
      "text/latex": [
       "61.7906985294118"
      ],
      "text/markdown": [
       "61.7906985294118"
      ],
      "text/plain": [
       "[1] 61.7907"
      ]
     },
     "metadata": {},
     "output_type": "display_data"
    },
    {
     "data": {
      "text/html": [
       "<table>\n",
       "<thead><tr><th></th><th scope=col>age</th><th scope=col>height</th><th scope=col>weight</th></tr></thead>\n",
       "<tbody>\n",
       "\t<tr><th scope=row>age</th><td>1.367647  </td><td> 3.168015 </td><td>  7.244485</td></tr>\n",
       "\t<tr><th scope=row>height</th><td>3.168015  </td><td>61.618676 </td><td> 61.790699</td></tr>\n",
       "\t<tr><th scope=row>weight</th><td>7.244485  </td><td>61.790699 </td><td>140.462426</td></tr>\n",
       "</tbody>\n",
       "</table>\n"
      ],
      "text/latex": [
       "\\begin{tabular}{r|lll}\n",
       "  & age & height & weight\\\\\n",
       "\\hline\n",
       "\tage & 1.367647   &  3.168015  &   7.244485\\\\\n",
       "\theight & 3.168015   & 61.618676  &  61.790699\\\\\n",
       "\tweight & 7.244485   & 61.790699  & 140.462426\\\\\n",
       "\\end{tabular}\n"
      ],
      "text/markdown": [
       "\n",
       "| <!--/--> | age | height | weight |\n",
       "|---|---|---|---|\n",
       "| age | 1.367647   |  3.168015  |   7.244485 |\n",
       "| height | 3.168015   | 61.618676  |  61.790699 |\n",
       "| weight | 7.244485   | 61.790699  | 140.462426 |\n",
       "\n"
      ],
      "text/plain": [
       "       age      height    weight    \n",
       "age    1.367647  3.168015   7.244485\n",
       "height 3.168015 61.618676  61.790699\n",
       "weight 7.244485 61.790699 140.462426"
      ]
     },
     "metadata": {},
     "output_type": "display_data"
    }
   ],
   "source": [
    "cov(df$height, df$weight, use = 'complete.obs')\n",
    "cov(df[,c(3,7,8)], use = 'complete.obs')"
   ]
  },
  {
   "cell_type": "code",
   "execution_count": 25,
   "metadata": {},
   "outputs": [
    {
     "data": {
      "text/html": [
       "7.84975645931696"
      ],
      "text/latex": [
       "7.84975645931696"
      ],
      "text/markdown": [
       "7.84975645931696"
      ],
      "text/plain": [
       "[1] 7.849756"
      ]
     },
     "metadata": {},
     "output_type": "display_data"
    }
   ],
   "source": [
    "# 표준편차\n",
    "sd(df$height, na.rm = T)"
   ]
  },
  {
   "cell_type": "code",
   "execution_count": 26,
   "metadata": {},
   "outputs": [
    {
     "data": {
      "text/html": [
       "<table>\n",
       "<tbody>\n",
       "\t<tr><td>-0.603240896</td></tr>\n",
       "\t<tr><td> 0.008243043</td></tr>\n",
       "\t<tr><td> 0.632466231</td></tr>\n",
       "\t<tr><td> 1.536952891</td></tr>\n",
       "\t<tr><td>-0.259281180</td></tr>\n",
       "\t<tr><td>-1.023636104</td></tr>\n",
       "\t<tr><td>-1.889905017</td></tr>\n",
       "\t<tr><td> 0.874511957</td></tr>\n",
       "\t<tr><td> 1.078339937</td></tr>\n",
       "\t<tr><td> 0.772597967</td></tr>\n",
       "\t<tr><td>-0.373934419</td></tr>\n",
       "\t<tr><td> 1.269428668</td></tr>\n",
       "\t<tr><td>-0.998157606</td></tr>\n",
       "\t<tr><td> 0.772597967</td></tr>\n",
       "\t<tr><td>-1.507727555</td></tr>\n",
       "\t<tr><td>-0.182845688</td></tr>\n",
       "\t<tr><td>-0.106410195</td></tr>\n",
       "</tbody>\n",
       "</table>\n"
      ],
      "text/latex": [
       "\\begin{tabular}{l}\n",
       "\t -0.603240896\\\\\n",
       "\t  0.008243043\\\\\n",
       "\t  0.632466231\\\\\n",
       "\t  1.536952891\\\\\n",
       "\t -0.259281180\\\\\n",
       "\t -1.023636104\\\\\n",
       "\t -1.889905017\\\\\n",
       "\t  0.874511957\\\\\n",
       "\t  1.078339937\\\\\n",
       "\t  0.772597967\\\\\n",
       "\t -0.373934419\\\\\n",
       "\t  1.269428668\\\\\n",
       "\t -0.998157606\\\\\n",
       "\t  0.772597967\\\\\n",
       "\t -1.507727555\\\\\n",
       "\t -0.182845688\\\\\n",
       "\t -0.106410195\\\\\n",
       "\\end{tabular}\n"
      ],
      "text/markdown": [
       "\n",
       "| -0.603240896 |\n",
       "|  0.008243043 |\n",
       "|  0.632466231 |\n",
       "|  1.536952891 |\n",
       "| -0.259281180 |\n",
       "| -1.023636104 |\n",
       "| -1.889905017 |\n",
       "|  0.874511957 |\n",
       "|  1.078339937 |\n",
       "|  0.772597967 |\n",
       "| -0.373934419 |\n",
       "|  1.269428668 |\n",
       "| -0.998157606 |\n",
       "|  0.772597967 |\n",
       "| -1.507727555 |\n",
       "| -0.182845688 |\n",
       "| -0.106410195 |\n",
       "\n"
      ],
      "text/plain": [
       "      [,1]        \n",
       " [1,] -0.603240896\n",
       " [2,]  0.008243043\n",
       " [3,]  0.632466231\n",
       " [4,]  1.536952891\n",
       " [5,] -0.259281180\n",
       " [6,] -1.023636104\n",
       " [7,] -1.889905017\n",
       " [8,]  0.874511957\n",
       " [9,]  1.078339937\n",
       "[10,]  0.772597967\n",
       "[11,] -0.373934419\n",
       "[12,]  1.269428668\n",
       "[13,] -0.998157606\n",
       "[14,]  0.772597967\n",
       "[15,] -1.507727555\n",
       "[16,] -0.182845688\n",
       "[17,] -0.106410195"
      ]
     },
     "metadata": {},
     "output_type": "display_data"
    }
   ],
   "source": [
    "scale(df$height)"
   ]
  },
  {
   "cell_type": "code",
   "execution_count": 27,
   "metadata": {},
   "outputs": [
    {
     "data": {
      "text/html": [
       "<table>\n",
       "<thead><tr><th scope=col>df.height</th><th scope=col>scale.df.height.</th><th scope=col>z_score</th></tr></thead>\n",
       "<tbody>\n",
       "\t<tr><td>165.3       </td><td>-0.603240896</td><td>-0.603240896</td></tr>\n",
       "\t<tr><td>170.1       </td><td> 0.008243043</td><td> 0.008243043</td></tr>\n",
       "\t<tr><td>175.0       </td><td> 0.632466231</td><td> 0.632466231</td></tr>\n",
       "\t<tr><td>182.1       </td><td> 1.536952891</td><td> 1.536952891</td></tr>\n",
       "\t<tr><td>168.0       </td><td>-0.259281180</td><td>-0.259281180</td></tr>\n",
       "\t<tr><td>162.0       </td><td>-1.023636104</td><td>-1.023636104</td></tr>\n",
       "\t<tr><td>155.2       </td><td>-1.889905017</td><td>-1.889905017</td></tr>\n",
       "\t<tr><td>176.9       </td><td> 0.874511957</td><td> 0.874511957</td></tr>\n",
       "\t<tr><td>178.5       </td><td> 1.078339937</td><td> 1.078339937</td></tr>\n",
       "\t<tr><td>176.1       </td><td> 0.772597967</td><td> 0.772597967</td></tr>\n",
       "\t<tr><td>167.1       </td><td>-0.373934419</td><td>-0.373934419</td></tr>\n",
       "\t<tr><td>180.0       </td><td> 1.269428668</td><td> 1.269428668</td></tr>\n",
       "\t<tr><td>162.2       </td><td>-0.998157606</td><td>-0.998157606</td></tr>\n",
       "\t<tr><td>176.1       </td><td> 0.772597967</td><td> 0.772597967</td></tr>\n",
       "\t<tr><td>158.2       </td><td>-1.507727555</td><td>-1.507727555</td></tr>\n",
       "\t<tr><td>168.6       </td><td>-0.182845688</td><td>-0.182845688</td></tr>\n",
       "\t<tr><td>169.2       </td><td>-0.106410195</td><td>-0.106410195</td></tr>\n",
       "</tbody>\n",
       "</table>\n"
      ],
      "text/latex": [
       "\\begin{tabular}{r|lll}\n",
       " df.height & scale.df.height. & z\\_score\\\\\n",
       "\\hline\n",
       "\t 165.3        & -0.603240896 & -0.603240896\\\\\n",
       "\t 170.1        &  0.008243043 &  0.008243043\\\\\n",
       "\t 175.0        &  0.632466231 &  0.632466231\\\\\n",
       "\t 182.1        &  1.536952891 &  1.536952891\\\\\n",
       "\t 168.0        & -0.259281180 & -0.259281180\\\\\n",
       "\t 162.0        & -1.023636104 & -1.023636104\\\\\n",
       "\t 155.2        & -1.889905017 & -1.889905017\\\\\n",
       "\t 176.9        &  0.874511957 &  0.874511957\\\\\n",
       "\t 178.5        &  1.078339937 &  1.078339937\\\\\n",
       "\t 176.1        &  0.772597967 &  0.772597967\\\\\n",
       "\t 167.1        & -0.373934419 & -0.373934419\\\\\n",
       "\t 180.0        &  1.269428668 &  1.269428668\\\\\n",
       "\t 162.2        & -0.998157606 & -0.998157606\\\\\n",
       "\t 176.1        &  0.772597967 &  0.772597967\\\\\n",
       "\t 158.2        & -1.507727555 & -1.507727555\\\\\n",
       "\t 168.6        & -0.182845688 & -0.182845688\\\\\n",
       "\t 169.2        & -0.106410195 & -0.106410195\\\\\n",
       "\\end{tabular}\n"
      ],
      "text/markdown": [
       "\n",
       "| df.height | scale.df.height. | z_score |\n",
       "|---|---|---|\n",
       "| 165.3        | -0.603240896 | -0.603240896 |\n",
       "| 170.1        |  0.008243043 |  0.008243043 |\n",
       "| 175.0        |  0.632466231 |  0.632466231 |\n",
       "| 182.1        |  1.536952891 |  1.536952891 |\n",
       "| 168.0        | -0.259281180 | -0.259281180 |\n",
       "| 162.0        | -1.023636104 | -1.023636104 |\n",
       "| 155.2        | -1.889905017 | -1.889905017 |\n",
       "| 176.9        |  0.874511957 |  0.874511957 |\n",
       "| 178.5        |  1.078339937 |  1.078339937 |\n",
       "| 176.1        |  0.772597967 |  0.772597967 |\n",
       "| 167.1        | -0.373934419 | -0.373934419 |\n",
       "| 180.0        |  1.269428668 |  1.269428668 |\n",
       "| 162.2        | -0.998157606 | -0.998157606 |\n",
       "| 176.1        |  0.772597967 |  0.772597967 |\n",
       "| 158.2        | -1.507727555 | -1.507727555 |\n",
       "| 168.6        | -0.182845688 | -0.182845688 |\n",
       "| 169.2        | -0.106410195 | -0.106410195 |\n",
       "\n"
      ],
      "text/plain": [
       "   df.height scale.df.height. z_score     \n",
       "1  165.3     -0.603240896     -0.603240896\n",
       "2  170.1      0.008243043      0.008243043\n",
       "3  175.0      0.632466231      0.632466231\n",
       "4  182.1      1.536952891      1.536952891\n",
       "5  168.0     -0.259281180     -0.259281180\n",
       "6  162.0     -1.023636104     -1.023636104\n",
       "7  155.2     -1.889905017     -1.889905017\n",
       "8  176.9      0.874511957      0.874511957\n",
       "9  178.5      1.078339937      1.078339937\n",
       "10 176.1      0.772597967      0.772597967\n",
       "11 167.1     -0.373934419     -0.373934419\n",
       "12 180.0      1.269428668      1.269428668\n",
       "13 162.2     -0.998157606     -0.998157606\n",
       "14 176.1      0.772597967      0.772597967\n",
       "15 158.2     -1.507727555     -1.507727555\n",
       "16 168.6     -0.182845688     -0.182845688\n",
       "17 169.2     -0.106410195     -0.106410195"
      ]
     },
     "metadata": {},
     "output_type": "display_data"
    }
   ],
   "source": [
    "# 표준화\n",
    "df_scale <- data.frame(df$height,\n",
    "                       scale(df$height),\n",
    "                       z_score=(df$height-mean(df$height))/sd(df$height, na.rm = T)\n",
    "                       )\n",
    "df_scale"
   ]
  },
  {
   "cell_type": "code",
   "execution_count": 28,
   "metadata": {},
   "outputs": [
    {
     "data": {
      "text/html": [
       "0.0461654534727697"
      ],
      "text/latex": [
       "0.0461654534727697"
      ],
      "text/markdown": [
       "0.0461654534727697"
      ],
      "text/plain": [
       "[1] 0.04616545"
      ]
     },
     "metadata": {},
     "output_type": "display_data"
    }
   ],
   "source": [
    "# 변동계수 - height\n",
    "sd(df$height) / mean(df$height)"
   ]
  },
  {
   "cell_type": "code",
   "execution_count": 29,
   "metadata": {},
   "outputs": [
    {
     "data": {
      "text/html": [
       "0.194084035454233"
      ],
      "text/latex": [
       "0.194084035454233"
      ],
      "text/markdown": [
       "0.194084035454233"
      ],
      "text/plain": [
       "[1] 0.194084"
      ]
     },
     "metadata": {},
     "output_type": "display_data"
    }
   ],
   "source": [
    "# 변동계수 - weight - height 보다 더 많이 분산되어 있음\n",
    "sd(df$weight) / mean(df$weight)"
   ]
  },
  {
   "cell_type": "code",
   "execution_count": null,
   "metadata": {},
   "outputs": [],
   "source": []
  }
 ],
 "metadata": {
  "kernelspec": {
   "display_name": "R",
   "language": "R",
   "name": "ir"
  },
  "language_info": {
   "codemirror_mode": "r",
   "file_extension": ".r",
   "mimetype": "text/x-r-source",
   "name": "R",
   "pygments_lexer": "r",
   "version": "3.6.1"
  }
 },
 "nbformat": 4,
 "nbformat_minor": 4
}
