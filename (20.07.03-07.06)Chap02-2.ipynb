{
 "cells": [
  {
   "cell_type": "markdown",
   "metadata": {},
   "source": [
    "### hflights 패키지 - 20만건 이상의 데이터"
   ]
  },
  {
   "cell_type": "code",
   "execution_count": 1,
   "metadata": {},
   "outputs": [
    {
     "name": "stdout",
     "output_type": "stream",
     "text": [
      "package 'hflights' successfully unpacked and MD5 sums checked\n",
      "\n",
      "The downloaded binary packages are in\n",
      "\tC:\\Users\\205\\AppData\\Local\\Temp\\RtmpyUIrhU\\downloaded_packages\n"
     ]
    }
   ],
   "source": [
    "install.packages('hflights')"
   ]
  },
  {
   "cell_type": "code",
   "execution_count": 2,
   "metadata": {},
   "outputs": [
    {
     "name": "stderr",
     "output_type": "stream",
     "text": [
      "Warning message:\n",
      "\"package 'ggplot2' was built under R version 3.6.3\""
     ]
    }
   ],
   "source": [
    "library('ggplot2')"
   ]
  },
  {
   "cell_type": "code",
   "execution_count": 3,
   "metadata": {},
   "outputs": [],
   "source": [
    "library('hflights')"
   ]
  },
  {
   "cell_type": "code",
   "execution_count": 4,
   "metadata": {},
   "outputs": [
    {
     "name": "stdout",
     "output_type": "stream",
     "text": [
      "'data.frame':\t227496 obs. of  21 variables:\n",
      " $ Year             : int  2011 2011 2011 2011 2011 2011 2011 2011 2011 2011 ...\n",
      " $ Month            : int  1 1 1 1 1 1 1 1 1 1 ...\n",
      " $ DayofMonth       : int  1 2 3 4 5 6 7 8 9 10 ...\n",
      " $ DayOfWeek        : int  6 7 1 2 3 4 5 6 7 1 ...\n",
      " $ DepTime          : int  1400 1401 1352 1403 1405 1359 1359 1355 1443 1443 ...\n",
      " $ ArrTime          : int  1500 1501 1502 1513 1507 1503 1509 1454 1554 1553 ...\n",
      " $ UniqueCarrier    : chr  \"AA\" \"AA\" \"AA\" \"AA\" ...\n",
      " $ FlightNum        : int  428 428 428 428 428 428 428 428 428 428 ...\n",
      " $ TailNum          : chr  \"N576AA\" \"N557AA\" \"N541AA\" \"N403AA\" ...\n",
      " $ ActualElapsedTime: int  60 60 70 70 62 64 70 59 71 70 ...\n",
      " $ AirTime          : int  40 45 48 39 44 45 43 40 41 45 ...\n",
      " $ ArrDelay         : int  -10 -9 -8 3 -3 -7 -1 -16 44 43 ...\n",
      " $ DepDelay         : int  0 1 -8 3 5 -1 -1 -5 43 43 ...\n",
      " $ Origin           : chr  \"IAH\" \"IAH\" \"IAH\" \"IAH\" ...\n",
      " $ Dest             : chr  \"DFW\" \"DFW\" \"DFW\" \"DFW\" ...\n",
      " $ Distance         : int  224 224 224 224 224 224 224 224 224 224 ...\n",
      " $ TaxiIn           : int  7 6 5 9 9 6 12 7 8 6 ...\n",
      " $ TaxiOut          : int  13 9 17 22 9 13 15 12 22 19 ...\n",
      " $ Cancelled        : int  0 0 0 0 0 0 0 0 0 0 ...\n",
      " $ CancellationCode : chr  \"\" \"\" \"\" \"\" ...\n",
      " $ Diverted         : int  0 0 0 0 0 0 0 0 0 0 ...\n"
     ]
    }
   ],
   "source": [
    "str(hflights)"
   ]
  },
  {
   "cell_type": "code",
   "execution_count": 5,
   "metadata": {},
   "outputs": [
    {
     "data": {
      "text/html": [
       "<table>\n",
       "<thead><tr><th></th><th scope=col>Year</th><th scope=col>Month</th><th scope=col>DayofMonth</th><th scope=col>DayOfWeek</th><th scope=col>DepTime</th><th scope=col>ArrTime</th><th scope=col>UniqueCarrier</th><th scope=col>FlightNum</th><th scope=col>TailNum</th><th scope=col>ActualElapsedTime</th><th scope=col>...</th><th scope=col>ArrDelay</th><th scope=col>DepDelay</th><th scope=col>Origin</th><th scope=col>Dest</th><th scope=col>Distance</th><th scope=col>TaxiIn</th><th scope=col>TaxiOut</th><th scope=col>Cancelled</th><th scope=col>CancellationCode</th><th scope=col>Diverted</th></tr></thead>\n",
       "<tbody>\n",
       "\t<tr><th scope=row>5424</th><td>2011  </td><td>1     </td><td>1     </td><td>6     </td><td>1400  </td><td>1500  </td><td>AA    </td><td>428   </td><td>N576AA</td><td>60    </td><td>...   </td><td>-10   </td><td> 0    </td><td>IAH   </td><td>DFW   </td><td>224   </td><td>7     </td><td>13    </td><td>0     </td><td>      </td><td>0     </td></tr>\n",
       "\t<tr><th scope=row>5425</th><td>2011  </td><td>1     </td><td>2     </td><td>7     </td><td>1401  </td><td>1501  </td><td>AA    </td><td>428   </td><td>N557AA</td><td>60    </td><td>...   </td><td> -9   </td><td> 1    </td><td>IAH   </td><td>DFW   </td><td>224   </td><td>6     </td><td> 9    </td><td>0     </td><td>      </td><td>0     </td></tr>\n",
       "\t<tr><th scope=row>5426</th><td>2011  </td><td>1     </td><td>3     </td><td>1     </td><td>1352  </td><td>1502  </td><td>AA    </td><td>428   </td><td>N541AA</td><td>70    </td><td>...   </td><td> -8   </td><td>-8    </td><td>IAH   </td><td>DFW   </td><td>224   </td><td>5     </td><td>17    </td><td>0     </td><td>      </td><td>0     </td></tr>\n",
       "\t<tr><th scope=row>5427</th><td>2011  </td><td>1     </td><td>4     </td><td>2     </td><td>1403  </td><td>1513  </td><td>AA    </td><td>428   </td><td>N403AA</td><td>70    </td><td>...   </td><td>  3   </td><td> 3    </td><td>IAH   </td><td>DFW   </td><td>224   </td><td>9     </td><td>22    </td><td>0     </td><td>      </td><td>0     </td></tr>\n",
       "\t<tr><th scope=row>5428</th><td>2011  </td><td>1     </td><td>5     </td><td>3     </td><td>1405  </td><td>1507  </td><td>AA    </td><td>428   </td><td>N492AA</td><td>62    </td><td>...   </td><td> -3   </td><td> 5    </td><td>IAH   </td><td>DFW   </td><td>224   </td><td>9     </td><td> 9    </td><td>0     </td><td>      </td><td>0     </td></tr>\n",
       "\t<tr><th scope=row>5429</th><td>2011  </td><td>1     </td><td>6     </td><td>4     </td><td>1359  </td><td>1503  </td><td>AA    </td><td>428   </td><td>N262AA</td><td>64    </td><td>...   </td><td> -7   </td><td>-1    </td><td>IAH   </td><td>DFW   </td><td>224   </td><td>6     </td><td>13    </td><td>0     </td><td>      </td><td>0     </td></tr>\n",
       "</tbody>\n",
       "</table>\n"
      ],
      "text/latex": [
       "\\begin{tabular}{r|lllllllllllllllllllll}\n",
       "  & Year & Month & DayofMonth & DayOfWeek & DepTime & ArrTime & UniqueCarrier & FlightNum & TailNum & ActualElapsedTime & ... & ArrDelay & DepDelay & Origin & Dest & Distance & TaxiIn & TaxiOut & Cancelled & CancellationCode & Diverted\\\\\n",
       "\\hline\n",
       "\t5424 & 2011   & 1      & 1      & 6      & 1400   & 1500   & AA     & 428    & N576AA & 60     & ...    & -10    &  0     & IAH    & DFW    & 224    & 7      & 13     & 0      &        & 0     \\\\\n",
       "\t5425 & 2011   & 1      & 2      & 7      & 1401   & 1501   & AA     & 428    & N557AA & 60     & ...    &  -9    &  1     & IAH    & DFW    & 224    & 6      &  9     & 0      &        & 0     \\\\\n",
       "\t5426 & 2011   & 1      & 3      & 1      & 1352   & 1502   & AA     & 428    & N541AA & 70     & ...    &  -8    & -8     & IAH    & DFW    & 224    & 5      & 17     & 0      &        & 0     \\\\\n",
       "\t5427 & 2011   & 1      & 4      & 2      & 1403   & 1513   & AA     & 428    & N403AA & 70     & ...    &   3    &  3     & IAH    & DFW    & 224    & 9      & 22     & 0      &        & 0     \\\\\n",
       "\t5428 & 2011   & 1      & 5      & 3      & 1405   & 1507   & AA     & 428    & N492AA & 62     & ...    &  -3    &  5     & IAH    & DFW    & 224    & 9      &  9     & 0      &        & 0     \\\\\n",
       "\t5429 & 2011   & 1      & 6      & 4      & 1359   & 1503   & AA     & 428    & N262AA & 64     & ...    &  -7    & -1     & IAH    & DFW    & 224    & 6      & 13     & 0      &        & 0     \\\\\n",
       "\\end{tabular}\n"
      ],
      "text/markdown": [
       "\n",
       "| <!--/--> | Year | Month | DayofMonth | DayOfWeek | DepTime | ArrTime | UniqueCarrier | FlightNum | TailNum | ActualElapsedTime | ... | ArrDelay | DepDelay | Origin | Dest | Distance | TaxiIn | TaxiOut | Cancelled | CancellationCode | Diverted |\n",
       "|---|---|---|---|---|---|---|---|---|---|---|---|---|---|---|---|---|---|---|---|---|---|\n",
       "| 5424 | 2011   | 1      | 1      | 6      | 1400   | 1500   | AA     | 428    | N576AA | 60     | ...    | -10    |  0     | IAH    | DFW    | 224    | 7      | 13     | 0      |        | 0      |\n",
       "| 5425 | 2011   | 1      | 2      | 7      | 1401   | 1501   | AA     | 428    | N557AA | 60     | ...    |  -9    |  1     | IAH    | DFW    | 224    | 6      |  9     | 0      |        | 0      |\n",
       "| 5426 | 2011   | 1      | 3      | 1      | 1352   | 1502   | AA     | 428    | N541AA | 70     | ...    |  -8    | -8     | IAH    | DFW    | 224    | 5      | 17     | 0      |        | 0      |\n",
       "| 5427 | 2011   | 1      | 4      | 2      | 1403   | 1513   | AA     | 428    | N403AA | 70     | ...    |   3    |  3     | IAH    | DFW    | 224    | 9      | 22     | 0      |        | 0      |\n",
       "| 5428 | 2011   | 1      | 5      | 3      | 1405   | 1507   | AA     | 428    | N492AA | 62     | ...    |  -3    |  5     | IAH    | DFW    | 224    | 9      |  9     | 0      |        | 0      |\n",
       "| 5429 | 2011   | 1      | 6      | 4      | 1359   | 1503   | AA     | 428    | N262AA | 64     | ...    |  -7    | -1     | IAH    | DFW    | 224    | 6      | 13     | 0      |        | 0      |\n",
       "\n"
      ],
      "text/plain": [
       "     Year Month DayofMonth DayOfWeek DepTime ArrTime UniqueCarrier FlightNum\n",
       "5424 2011 1     1          6         1400    1500    AA            428      \n",
       "5425 2011 1     2          7         1401    1501    AA            428      \n",
       "5426 2011 1     3          1         1352    1502    AA            428      \n",
       "5427 2011 1     4          2         1403    1513    AA            428      \n",
       "5428 2011 1     5          3         1405    1507    AA            428      \n",
       "5429 2011 1     6          4         1359    1503    AA            428      \n",
       "     TailNum ActualElapsedTime ... ArrDelay DepDelay Origin Dest Distance\n",
       "5424 N576AA  60                ... -10       0       IAH    DFW  224     \n",
       "5425 N557AA  60                ...  -9       1       IAH    DFW  224     \n",
       "5426 N541AA  70                ...  -8      -8       IAH    DFW  224     \n",
       "5427 N403AA  70                ...   3       3       IAH    DFW  224     \n",
       "5428 N492AA  62                ...  -3       5       IAH    DFW  224     \n",
       "5429 N262AA  64                ...  -7      -1       IAH    DFW  224     \n",
       "     TaxiIn TaxiOut Cancelled CancellationCode Diverted\n",
       "5424 7      13      0                          0       \n",
       "5425 6       9      0                          0       \n",
       "5426 5      17      0                          0       \n",
       "5427 9      22      0                          0       \n",
       "5428 9       9      0                          0       \n",
       "5429 6      13      0                          0       "
      ]
     },
     "metadata": {},
     "output_type": "display_data"
    }
   ],
   "source": [
    "head(hflights)"
   ]
  },
  {
   "cell_type": "code",
   "execution_count": 7,
   "metadata": {},
   "outputs": [
    {
     "data": {
      "text/plain": [
       "\n",
       " ABQ  AEX  AGS  AMA  ANC  ASE  ATL  AUS  AVL  BFL  BHM  BKG  BNA  BOS  BPT  BRO \n",
       "2812  724    1 1297  125  125 7886 5022  350  504 2736  110 3481 1752    3 1692 \n",
       " BTR  BWI  CAE  CHS  CID  CLE  CLT  CMH  COS  CRP  CRW  CVG  DAL  DAY  DCA  DEN \n",
       "1762 2551  561 1200  410 2140 4735 1348 1657 4813  357 1535 9820  451 2699 5920 \n",
       " DFW  DSM  DTW  ECP  EGE  ELP  EWR  FLL  GJT  GPT  GRK  GRR  GSO  GSP  GUC  HDN \n",
       "6653  647 2601  729  110 3036 4314 2462  403 1618   42  677  630 1123   86  110 \n",
       " HNL  HOB  HRL  HSV  IAD  ICT  IND  JAN  JAX  JFK  LAS  LAX  LBB  LCH  LEX  LFT \n",
       " 402  309 3983  923 1980 1517 1750 2011 2135  695 4082 6064 1333  364  584 2313 \n",
       " LGA  LIT  LRD  MAF  MCI  MCO  MDW  MEM  MFE  MIA  MKE  MLU  MOB  MSP  MSY  MTJ \n",
       "2730 1579 1188 2306 3174 3687 2094 2399 1128 2463 1588  292 1674 2010 6823  164 \n",
       " OAK  OKC  OMA  ONT  ORD  ORF  PBI  PDX  PHL  PHX  PIT  PNS  PSP  RDU  RIC  RNO \n",
       " 690 3170 2044  952 5748  717 1253 1235 2367 5096 1664 1539  106 1740  900  243 \n",
       " RSW  SAN  SAT  SAV  SDF  SEA  SFO  SHV  SJC  SJU  SLC  SMF  SNA  STL  TPA  TUL \n",
       " 948 2936 4893  863 1279 2615 2818  787  885  391 2033 1014 1661 2509 3085 2924 \n",
       " TUS  TYS  VPS  XNA \n",
       "1565 1210  880 1172 "
      ]
     },
     "metadata": {},
     "output_type": "display_data"
    }
   ],
   "source": [
    "dest_table <- table(hflights$Dest)\n",
    "dest_table"
   ]
  },
  {
   "cell_type": "code",
   "execution_count": 8,
   "metadata": {},
   "outputs": [
    {
     "data": {
      "text/html": [
       "116"
      ],
      "text/latex": [
       "116"
      ],
      "text/markdown": [
       "116"
      ],
      "text/plain": [
       "[1] 116"
      ]
     },
     "metadata": {},
     "output_type": "display_data"
    }
   ],
   "source": [
    "# 명목형 변수 개수 확인\n",
    "length(dest_table)"
   ]
  },
  {
   "cell_type": "code",
   "execution_count": 9,
   "metadata": {},
   "outputs": [
    {
     "data": {
      "text/html": [
       "<ol class=list-inline>\n",
       "\t<li>1</li>\n",
       "\t<li>9820</li>\n",
       "</ol>\n"
      ],
      "text/latex": [
       "\\begin{enumerate*}\n",
       "\\item 1\n",
       "\\item 9820\n",
       "\\end{enumerate*}\n"
      ],
      "text/markdown": [
       "1. 1\n",
       "2. 9820\n",
       "\n",
       "\n"
      ],
      "text/plain": [
       "[1]    1 9820"
      ]
     },
     "metadata": {},
     "output_type": "display_data"
    }
   ],
   "source": [
    "# 범위 살펴보기 - range() 가장 큰값, 작은값\n",
    "range(dest_table)"
   ]
  },
  {
   "cell_type": "code",
   "execution_count": 12,
   "metadata": {},
   "outputs": [
    {
     "data": {
      "text/html": [
       "<strong>AGS:</strong> 1"
      ],
      "text/latex": [
       "\\textbf{AGS:} 1"
      ],
      "text/markdown": [
       "**AGS:** 1"
      ],
      "text/plain": [
       "AGS \n",
       "  1 "
      ]
     },
     "metadata": {},
     "output_type": "display_data"
    },
    {
     "data": {
      "text/html": [
       "<strong>DAL:</strong> 9820"
      ],
      "text/latex": [
       "\\textbf{DAL:} 9820"
      ],
      "text/markdown": [
       "**DAL:** 9820"
      ],
      "text/plain": [
       " DAL \n",
       "9820 "
      ]
     },
     "metadata": {},
     "output_type": "display_data"
    }
   ],
   "source": [
    "dest_table[dest_table==1]\n",
    "dest_table[dest_table==9820]"
   ]
  },
  {
   "cell_type": "code",
   "execution_count": 14,
   "metadata": {},
   "outputs": [],
   "source": [
    "dest_table_5000=dest_table[dest_table>5000]"
   ]
  },
  {
   "cell_type": "code",
   "execution_count": 15,
   "metadata": {},
   "outputs": [
    {
     "data": {
      "image/png": "[encoded data removed]",
      "text/plain": [
       "plot without title"
      ]
     },
     "metadata": {},
     "output_type": "display_data"
    }
   ],
   "source": [
    "# 막대그리프 그리기\n",
    "barplot(dest_table_5000)"
   ]
  },
  {
   "cell_type": "markdown",
   "metadata": {},
   "source": [
    "### 대장암 환자 자료 분석\n",
    "- 보건의료빅데이터개방시스템 http://opendata.hira.or.kr\n",
    "- 어느 연령대가 가장 많은 대장암이 발생하는 지 조사"
   ]
  },
  {
   "cell_type": "code",
   "execution_count": 1,
   "metadata": {},
   "outputs": [],
   "source": [
    "df <- read.csv('r-ggagi-data/example_cancer.csv')"
   ]
  },
  {
   "cell_type": "code",
   "execution_count": 2,
   "metadata": {},
   "outputs": [
    {
     "name": "stdout",
     "output_type": "stream",
     "text": [
      "'data.frame':\t18310 obs. of  8 variables:\n",
      " $ age            : int  75 52 67 62 70 76 55 72 64 71 ...\n",
      " $ sex            : Factor w/ 2 levels \"남\",\"여\": 1 2 2 1 1 2 1 1 1 1 ...\n",
      " $ height         : Factor w/ 485 levels \"100\",\"130\",\"130.2\",..: 252 408 182 262 352 352 467 165 172 232 ...\n",
      " $ weight         : Factor w/ 638 levels \"100\",\"101\",\"101.1\",..: 333 446 349 263 343 563 463 243 363 248 ...\n",
      " $ dateOfoperation: Factor w/ 351 levels \"2011-01-02\",\"2011-01-03\",..: 165 134 146 164 154 160 164 147 219 192 ...\n",
      " $ cancerStaging  : Factor w/ 5 levels \"I\",\"II\",\"III\",..: 1 4 3 1 2 3 2 3 1 2 ...\n",
      " $ hospitalization: int  48 17 10 11 10 10 12 18 15 35 ...\n",
      " $ diseaseCode    : Factor w/ 13 levels \"C18\",\"C180\",\"C181\",..: 9 9 9 9 4 11 9 4 13 11 ...\n"
     ]
    }
   ],
   "source": [
    "str(df)"
   ]
  },
  {
   "cell_type": "code",
   "execution_count": 3,
   "metadata": {},
   "outputs": [
    {
     "data": {
      "text/html": [
       "<table>\n",
       "<thead><tr><th scope=col>age</th><th scope=col>sex</th><th scope=col>height</th><th scope=col>weight</th><th scope=col>dateOfoperation</th><th scope=col>cancerStaging</th><th scope=col>hospitalization</th><th scope=col>diseaseCode</th></tr></thead>\n",
       "<tbody>\n",
       "\t<tr><td>75        </td><td>남        </td><td>161       </td><td>64        </td><td>2011-06-22</td><td>I         </td><td>48        </td><td>C187      </td></tr>\n",
       "\t<tr><td>52        </td><td>여        </td><td>176.6     </td><td>75.3      </td><td>2011-05-19</td><td>IV        </td><td>17        </td><td>C187      </td></tr>\n",
       "\t<tr><td>67        </td><td>여        </td><td>154       </td><td>65.6      </td><td>2011-05-31</td><td>III       </td><td>10        </td><td>C187      </td></tr>\n",
       "</tbody>\n",
       "</table>\n"
      ],
      "text/latex": [
       "\\begin{tabular}{r|llllllll}\n",
       " age & sex & height & weight & dateOfoperation & cancerStaging & hospitalization & diseaseCode\\\\\n",
       "\\hline\n",
       "\t 75         & 남         & 161        & 64         & 2011-06-22 & I          & 48         & C187      \\\\\n",
       "\t 52         & 여         & 176.6      & 75.3       & 2011-05-19 & IV         & 17         & C187      \\\\\n",
       "\t 67         & 여         & 154        & 65.6       & 2011-05-31 & III        & 10         & C187      \\\\\n",
       "\\end{tabular}\n"
      ],
      "text/markdown": [
       "\n",
       "| age | sex | height | weight | dateOfoperation | cancerStaging | hospitalization | diseaseCode |\n",
       "|---|---|---|---|---|---|---|---|\n",
       "| 75         | 남         | 161        | 64         | 2011-06-22 | I          | 48         | C187       |\n",
       "| 52         | 여         | 176.6      | 75.3       | 2011-05-19 | IV         | 17         | C187       |\n",
       "| 67         | 여         | 154        | 65.6       | 2011-05-31 | III        | 10         | C187       |\n",
       "\n"
      ],
      "text/plain": [
       "  age sex height weight dateOfoperation cancerStaging hospitalization\n",
       "1 75  남  161    64     2011-06-22      I             48             \n",
       "2 52  여  176.6  75.3   2011-05-19      IV            17             \n",
       "3 67  여  154    65.6   2011-05-31      III           10             \n",
       "  diseaseCode\n",
       "1 C187       \n",
       "2 C187       \n",
       "3 C187       "
      ]
     },
     "metadata": {},
     "output_type": "display_data"
    }
   ],
   "source": [
    "head(df,3)"
   ]
  },
  {
   "cell_type": "code",
   "execution_count": 5,
   "metadata": {},
   "outputs": [
    {
     "data": {
      "text/plain": [
       "\n",
       "   (0,10]   (10,20]   (20,30]   (30,40]   (40,50]   (50,60]   (60,70]   (70,80] \n",
       "        0         3        77       482      1917      4558      5679      4598 \n",
       "  (80,90]  (90,100] (100,110] \n",
       "      962        33         1 "
      ]
     },
     "metadata": {},
     "output_type": "display_data"
    }
   ],
   "source": [
    "#어느 연령대에서 가장 많은 암이 발생하는 지\n",
    "#구간(계급) 10, 20, 30...\n",
    "age_table <- table(cut(df$age, breaks = (0:11)*10))\n",
    "age_table"
   ]
  },
  {
   "cell_type": "code",
   "execution_count": 6,
   "metadata": {},
   "outputs": [
    {
     "data": {
      "text/plain": [
       "\n",
       "  1s  10s  20s  30s  40s  50s  60s  70s  80s  90s 100s \n",
       "   0    3   77  482 1917 4558 5679 4598  962   33    1 "
      ]
     },
     "metadata": {},
     "output_type": "display_data"
    }
   ],
   "source": [
    "rownames(age_table) <- c('1s','10s','20s','30s','40s','50s','60s','70s','80s','90s','100s')\n",
    "age_table"
   ]
  },
  {
   "cell_type": "code",
   "execution_count": 7,
   "metadata": {},
   "outputs": [
    {
     "data": {
      "image/png": "[encoded data removed]",
      "text/plain": [
       "plot without title"
      ]
     },
     "metadata": {},
     "output_type": "display_data"
    }
   ],
   "source": [
    "barplot(age_table)"
   ]
  },
  {
   "cell_type": "code",
   "execution_count": 8,
   "metadata": {
    "collapsed": true
   },
   "outputs": [
    {
     "name": "stderr",
     "output_type": "stream",
     "text": [
      "Warning message:\n",
      "\"package 'ggplot2' was built under R version 3.6.3\"Warning message:\n",
      "\"package 'ggthemes' was built under R version 3.6.3\""
     ]
    }
   ],
   "source": [
    "library('ggplot2')\n",
    "library('ggthemes')"
   ]
  },
  {
   "cell_type": "code",
   "execution_count": 10,
   "metadata": {},
   "outputs": [
    {
     "data": {
      "image/png": "[encoded data removed]",
      "text/plain": [
       "plot without title"
      ]
     },
     "metadata": {},
     "output_type": "display_data"
    }
   ],
   "source": [
    "ggplot(data=df, aes(x=age)) + \n",
    "    geom_freqpoly(binwidth=10, size=1.4, colour='green') + \n",
    "    theme_wsj()"
   ]
  },
  {
   "cell_type": "markdown",
   "metadata": {},
   "source": [
    "### 전국 커피숍 폐업/ 영업 상황 살펴보기"
   ]
  },
  {
   "cell_type": "code",
   "execution_count": 11,
   "metadata": {},
   "outputs": [],
   "source": [
    "df <- read.csv('r-ggagi-data/example_coffee.csv',stringsAsFactors = T,header = T)"
   ]
  },
  {
   "cell_type": "code",
   "execution_count": 13,
   "metadata": {},
   "outputs": [
    {
     "name": "stdout",
     "output_type": "stream",
     "text": [
      "'data.frame':\t46832 obs. of  23 variables:\n",
      " $ number              : int  1 2 3 4 5 6 7 8 9 10 ...\n",
      " $ companyName         : Factor w/ 36991 levels \"-10\",\"#11(Sharp eleven)\",..: 2 4 5 6 7 8 9 10 11 12 ...\n",
      " $ adress              : Factor w/ 45197 levels \"\",\"강원도 강릉시 강동면 안인진리 3-5번지 통일공원 G동 2층 \",..: 32695 45012 14332 25672 35262 44619 44059 16795 4038 16983 ...\n",
      " $ adressBystreet      : Factor w/ 38866 levels \"\",\"강원도 강릉시 가작로 13, 1층 (교동)\",..: 28058 38633 12180 22436 1 38386 37843 14490 3373 14482 ...\n",
      " $ dateOflicensing     : int  20080917 20101124 20130902 20121108 20020911 20130822 20140605 20111209 20130315 20110908 ...\n",
      " $ stateOfbusiness     : Factor w/ 2 levels \"운영중\",\"폐업 등\": 1 1 1 1 2 1 1 1 1 1 ...\n",
      " $ dateOfclosure       : int  NA NA NA NA 20071105 NA NA NA NA NA ...\n",
      " $ startdateOfcessation: logi  NA NA NA NA NA NA ...\n",
      " $ duedateOfcessation  : logi  NA NA NA NA NA NA ...\n",
      " $ dateOfreOpen        : logi  NA NA NA NA NA NA ...\n",
      " $ areaOfsite          : logi  NA NA NA NA NA NA ...\n",
      " $ zip                 : logi  NA NA NA NA NA NA ...\n",
      " $ waterwork           : Factor w/ 5 levels \"\",\"간이상수도\",..: 4 4 4 4 4 4 4 4 4 4 ...\n",
      " $ numOfmenWorker      : int  NA NA NA NA 0 NA NA NA NA NA ...\n",
      " $ yearOfStart         : int  2008 2010 2013 2012 2002 2013 2014 2011 2013 2011 ...\n",
      " $ multipleUse         : Factor w/ 3 levels \"\",\"N\",\"Y\": 2 2 2 2 2 2 2 2 2 2 ...\n",
      " $ grade               : Factor w/ 8 levels \"\",\"갑\",\"관리\",..: 1 1 1 1 1 1 1 1 1 1 ...\n",
      " $ sizeOfsite          : num  20.8 212.7 20 64.2 11.4 ...\n",
      " $ numOfwomenWorker    : int  NA NA NA NA 0 NA NA NA NA NA ...\n",
      " $ vicintyOfsite       : Factor w/ 8 levels \"\",\"결혼예식장주변\",..: 1 1 4 1 1 1 1 3 1 3 ...\n",
      " $ sanitaryName        : Factor w/ 2 levels \"\",\"휴게음식점\": 2 2 2 2 2 2 2 2 2 2 ...\n",
      " $ businessCondition   : Factor w/ 2 levels \"\",\"커피숍\": 2 2 2 2 2 2 2 2 2 2 ...\n",
      " $ totalOfworker       : int  NA NA NA NA 0 NA NA NA NA NA ...\n"
     ]
    }
   ],
   "source": [
    "str(df)"
   ]
  },
  {
   "cell_type": "code",
   "execution_count": 14,
   "metadata": {},
   "outputs": [
    {
     "name": "stdout",
     "output_type": "stream",
     "text": [
      "'data.frame':\t46832 obs. of  16 variables:\n",
      " $ number           : int  1 2 3 4 5 6 7 8 9 10 ...\n",
      " $ companyName      : Factor w/ 36991 levels \"-10\",\"#11(Sharp eleven)\",..: 2 4 5 6 7 8 9 10 11 12 ...\n",
      " $ dateOflicensing  : int  20080917 20101124 20130902 20121108 20020911 20130822 20140605 20111209 20130315 20110908 ...\n",
      " $ stateOfbusiness  : Factor w/ 2 levels \"운영중\",\"폐업 등\": 1 1 1 1 2 1 1 1 1 1 ...\n",
      " $ areaOfsite       : logi  NA NA NA NA NA NA ...\n",
      " $ waterwork        : Factor w/ 5 levels \"\",\"간이상수도\",..: 4 4 4 4 4 4 4 4 4 4 ...\n",
      " $ numOfmenWorker   : int  NA NA NA NA 0 NA NA NA NA NA ...\n",
      " $ yearOfStart      : int  2008 2010 2013 2012 2002 2013 2014 2011 2013 2011 ...\n",
      " $ multipleUse      : Factor w/ 3 levels \"\",\"N\",\"Y\": 2 2 2 2 2 2 2 2 2 2 ...\n",
      " $ grade            : Factor w/ 8 levels \"\",\"갑\",\"관리\",..: 1 1 1 1 1 1 1 1 1 1 ...\n",
      " $ sizeOfsite       : num  20.8 212.7 20 64.2 11.4 ...\n",
      " $ numOfwomenWorker : int  NA NA NA NA 0 NA NA NA NA NA ...\n",
      " $ vicintyOfsite    : Factor w/ 8 levels \"\",\"결혼예식장주변\",..: 1 1 4 1 1 1 1 3 1 3 ...\n",
      " $ sanitaryName     : Factor w/ 2 levels \"\",\"휴게음식점\": 2 2 2 2 2 2 2 2 2 2 ...\n",
      " $ businessCondition: Factor w/ 2 levels \"\",\"커피숍\": 2 2 2 2 2 2 2 2 2 2 ...\n",
      " $ totalOfworker    : int  NA NA NA NA 0 NA NA NA NA NA ...\n"
     ]
    }
   ],
   "source": [
    "#불필요 변수 제거\n",
    "df <- subset(df, select=c(-adress, -adressBystreet, -dateOfclosure, \n",
    "                          -startdateOfcessation, -duedateOfcessation, \n",
    "                          -dateOfreOpen, -zip))\n",
    "str(df)"
   ]
  },
  {
   "cell_type": "code",
   "execution_count": 15,
   "metadata": {},
   "outputs": [
    {
     "data": {
      "text/html": [
       "<ol class=list-inline>\n",
       "\t<li>&lt;NA&gt;</li>\n",
       "\t<li>&lt;NA&gt;</li>\n",
       "</ol>\n"
      ],
      "text/latex": [
       "\\begin{enumerate*}\n",
       "\\item <NA>\n",
       "\\item <NA>\n",
       "\\end{enumerate*}\n"
      ],
      "text/markdown": [
       "1. &lt;NA&gt;\n",
       "2. &lt;NA&gt;\n",
       "\n",
       "\n"
      ],
      "text/plain": [
       "[1] NA NA"
      ]
     },
     "metadata": {},
     "output_type": "display_data"
    }
   ],
   "source": [
    "# 최초 커피숍 찾기\n",
    "range(df$yearOfStart)"
   ]
  },
  {
   "cell_type": "code",
   "execution_count": 16,
   "metadata": {},
   "outputs": [
    {
     "data": {
      "text/html": [
       "<ol class=list-inline>\n",
       "\t<li>1964</li>\n",
       "\t<li>2015</li>\n",
       "</ol>\n"
      ],
      "text/latex": [
       "\\begin{enumerate*}\n",
       "\\item 1964\n",
       "\\item 2015\n",
       "\\end{enumerate*}\n"
      ],
      "text/markdown": [
       "1. 1964\n",
       "2. 2015\n",
       "\n",
       "\n"
      ],
      "text/plain": [
       "[1] 1964 2015"
      ]
     },
     "metadata": {},
     "output_type": "display_data"
    }
   ],
   "source": [
    "range(df$yearOfStart, na.rm = T) # 결측치 제거"
   ]
  },
  {
   "cell_type": "code",
   "execution_count": 17,
   "metadata": {},
   "outputs": [
    {
     "data": {
      "text/html": [
       "<table>\n",
       "<thead><tr><th></th><th scope=col>number</th><th scope=col>companyName</th><th scope=col>dateOflicensing</th><th scope=col>stateOfbusiness</th><th scope=col>areaOfsite</th><th scope=col>waterwork</th><th scope=col>numOfmenWorker</th><th scope=col>yearOfStart</th><th scope=col>multipleUse</th><th scope=col>grade</th><th scope=col>sizeOfsite</th><th scope=col>numOfwomenWorker</th><th scope=col>vicintyOfsite</th><th scope=col>sanitaryName</th><th scope=col>businessCondition</th><th scope=col>totalOfworker</th></tr></thead>\n",
       "<tbody>\n",
       "\t<tr><th scope=row>23035</th><td>23035     </td><td>엠에스커피</td><td>19641125  </td><td>폐업 등   </td><td>NA        </td><td>상수도전용</td><td>0         </td><td>1964      </td><td>N         </td><td>          </td><td>0         </td><td>0         </td><td>기타      </td><td>휴게음식점</td><td>커피숍    </td><td>0         </td></tr>\n",
       "\t<tr><th scope=row>46290</th><td>46290     </td><td>홀릭      </td><td>19640929  </td><td>폐업 등   </td><td>NA        </td><td>          </td><td>0         </td><td>1964      </td><td>N         </td><td>기타      </td><td>0         </td><td>0         </td><td>기타      </td><td>휴게음식점</td><td>커피숍    </td><td>0         </td></tr>\n",
       "</tbody>\n",
       "</table>\n"
      ],
      "text/latex": [
       "\\begin{tabular}{r|llllllllllllllll}\n",
       "  & number & companyName & dateOflicensing & stateOfbusiness & areaOfsite & waterwork & numOfmenWorker & yearOfStart & multipleUse & grade & sizeOfsite & numOfwomenWorker & vicintyOfsite & sanitaryName & businessCondition & totalOfworker\\\\\n",
       "\\hline\n",
       "\t23035 & 23035      & 엠에스커피 & 19641125   & 폐업 등    & NA         & 상수도전용 & 0          & 1964       & N          &            & 0          & 0          & 기타       & 휴게음식점 & 커피숍     & 0         \\\\\n",
       "\t46290 & 46290      & 홀릭       & 19640929   & 폐업 등    & NA         &            & 0          & 1964       & N          & 기타       & 0          & 0          & 기타       & 휴게음식점 & 커피숍     & 0         \\\\\n",
       "\\end{tabular}\n"
      ],
      "text/markdown": [
       "\n",
       "| <!--/--> | number | companyName | dateOflicensing | stateOfbusiness | areaOfsite | waterwork | numOfmenWorker | yearOfStart | multipleUse | grade | sizeOfsite | numOfwomenWorker | vicintyOfsite | sanitaryName | businessCondition | totalOfworker |\n",
       "|---|---|---|---|---|---|---|---|---|---|---|---|---|---|---|---|---|\n",
       "| 23035 | 23035      | 엠에스커피 | 19641125   | 폐업 등    | NA         | 상수도전용 | 0          | 1964       | N          |            | 0          | 0          | 기타       | 휴게음식점 | 커피숍     | 0          |\n",
       "| 46290 | 46290      | 홀릭       | 19640929   | 폐업 등    | NA         |            | 0          | 1964       | N          | 기타       | 0          | 0          | 기타       | 휴게음식점 | 커피숍     | 0          |\n",
       "\n"
      ],
      "text/plain": [
       "      number companyName dateOflicensing stateOfbusiness areaOfsite waterwork \n",
       "23035 23035  엠에스커피  19641125        폐업 등         NA         상수도전용\n",
       "46290 46290  홀릭        19640929        폐업 등         NA                   \n",
       "      numOfmenWorker yearOfStart multipleUse grade sizeOfsite numOfwomenWorker\n",
       "23035 0              1964        N                 0          0               \n",
       "46290 0              1964        N           기타  0          0               \n",
       "      vicintyOfsite sanitaryName businessCondition totalOfworker\n",
       "23035 기타          휴게음식점   커피숍            0            \n",
       "46290 기타          휴게음식점   커피숍            0            "
      ]
     },
     "metadata": {},
     "output_type": "display_data"
    }
   ],
   "source": [
    "subset(df,subset = (yearOfStart == 1964))"
   ]
  },
  {
   "cell_type": "code",
   "execution_count": 18,
   "metadata": {},
   "outputs": [],
   "source": [
    "# 가장 오래된 운영중인 커피숍 찾기\n",
    "df_filter <- subset(df,subset = (stateOfbusiness == '운영중'))"
   ]
  },
  {
   "cell_type": "code",
   "execution_count": 19,
   "metadata": {},
   "outputs": [
    {
     "data": {
      "text/html": [
       "<ol class=list-inline>\n",
       "\t<li>1967</li>\n",
       "\t<li>2015</li>\n",
       "</ol>\n"
      ],
      "text/latex": [
       "\\begin{enumerate*}\n",
       "\\item 1967\n",
       "\\item 2015\n",
       "\\end{enumerate*}\n"
      ],
      "text/markdown": [
       "1. 1967\n",
       "2. 2015\n",
       "\n",
       "\n"
      ],
      "text/plain": [
       "[1] 1967 2015"
      ]
     },
     "metadata": {},
     "output_type": "display_data"
    }
   ],
   "source": [
    "range(df_filter$yearOfStart, na.rm = T) # 결측치 제거"
   ]
  },
  {
   "cell_type": "code",
   "execution_count": 20,
   "metadata": {},
   "outputs": [
    {
     "data": {
      "text/html": [
       "<table>\n",
       "<thead><tr><th></th><th scope=col>number</th><th scope=col>companyName</th><th scope=col>dateOflicensing</th><th scope=col>stateOfbusiness</th><th scope=col>areaOfsite</th><th scope=col>waterwork</th><th scope=col>numOfmenWorker</th><th scope=col>yearOfStart</th><th scope=col>multipleUse</th><th scope=col>grade</th><th scope=col>sizeOfsite</th><th scope=col>numOfwomenWorker</th><th scope=col>vicintyOfsite</th><th scope=col>sanitaryName</th><th scope=col>businessCondition</th><th scope=col>totalOfworker</th></tr></thead>\n",
       "<tbody>\n",
       "\t<tr><th scope=row>24108</th><td>24108      </td><td>왕관 커피숍</td><td>19671013   </td><td>운영중     </td><td>NA         </td><td>상수도전용 </td><td>0          </td><td>1967       </td><td>N          </td><td>갑         </td><td>76.02      </td><td>1          </td><td>기타       </td><td>휴게음식점 </td><td>커피숍     </td><td>1          </td></tr>\n",
       "\t<tr><th scope=row>44934</th><td>44934      </td><td>학커피숍   </td><td>19670414   </td><td>운영중     </td><td>NA         </td><td>           </td><td>0          </td><td>1967       </td><td>N          </td><td>           </td><td>59.13      </td><td>0          </td><td>           </td><td>휴게음식점 </td><td>커피숍     </td><td>0          </td></tr>\n",
       "</tbody>\n",
       "</table>\n"
      ],
      "text/latex": [
       "\\begin{tabular}{r|llllllllllllllll}\n",
       "  & number & companyName & dateOflicensing & stateOfbusiness & areaOfsite & waterwork & numOfmenWorker & yearOfStart & multipleUse & grade & sizeOfsite & numOfwomenWorker & vicintyOfsite & sanitaryName & businessCondition & totalOfworker\\\\\n",
       "\\hline\n",
       "\t24108 & 24108       & 왕관 커피숍 & 19671013    & 운영중      & NA          & 상수도전용  & 0           & 1967        & N           & 갑          & 76.02       & 1           & 기타        & 휴게음식점  & 커피숍      & 1          \\\\\n",
       "\t44934 & 44934       & 학커피숍    & 19670414    & 운영중      & NA          &             & 0           & 1967        & N           &             & 59.13       & 0           &             & 휴게음식점  & 커피숍      & 0          \\\\\n",
       "\\end{tabular}\n"
      ],
      "text/markdown": [
       "\n",
       "| <!--/--> | number | companyName | dateOflicensing | stateOfbusiness | areaOfsite | waterwork | numOfmenWorker | yearOfStart | multipleUse | grade | sizeOfsite | numOfwomenWorker | vicintyOfsite | sanitaryName | businessCondition | totalOfworker |\n",
       "|---|---|---|---|---|---|---|---|---|---|---|---|---|---|---|---|---|\n",
       "| 24108 | 24108       | 왕관 커피숍 | 19671013    | 운영중      | NA          | 상수도전용  | 0           | 1967        | N           | 갑          | 76.02       | 1           | 기타        | 휴게음식점  | 커피숍      | 1           |\n",
       "| 44934 | 44934       | 학커피숍    | 19670414    | 운영중      | NA          |             | 0           | 1967        | N           |             | 59.13       | 0           |             | 휴게음식점  | 커피숍      | 0           |\n",
       "\n"
      ],
      "text/plain": [
       "      number companyName dateOflicensing stateOfbusiness areaOfsite waterwork \n",
       "24108 24108  왕관 커피숍 19671013        운영중          NA         상수도전용\n",
       "44934 44934  학커피숍    19670414        운영중          NA                   \n",
       "      numOfmenWorker yearOfStart multipleUse grade sizeOfsite numOfwomenWorker\n",
       "24108 0              1967        N           갑    76.02      1               \n",
       "44934 0              1967        N                 59.13      0               \n",
       "      vicintyOfsite sanitaryName businessCondition totalOfworker\n",
       "24108 기타          휴게음식점   커피숍            1            \n",
       "44934               휴게음식점   커피숍            0            "
      ]
     },
     "metadata": {},
     "output_type": "display_data"
    }
   ],
   "source": [
    "subset(df_filter,subset = (yearOfStart == 1967))"
   ]
  },
  {
   "cell_type": "code",
   "execution_count": 21,
   "metadata": {},
   "outputs": [
    {
     "data": {
      "text/plain": [
       "\n",
       "1964 1966 1967 1968 1969 1970 1971 1972 1974 1975 1976 1979 1980 1981 1982 1983 \n",
       "   2    2    3    1    2    4    6    3    1    2    5    4    9    8   12    9 \n",
       "1984 1985 1986 1987 1988 1989 1990 1991 1992 1993 1994 1995 1996 1997 1998 1999 \n",
       "  11   18   21   21   26   23   25   28   37   50   48   48   41   54   54   46 \n",
       "2000 2001 2002 2003 2004 2005 2006 2007 2008 2009 2010 2011 2012 2013 2014 2015 \n",
       "  89  183  398  799  648  654  863 1233 1579 2489 4172 5942 6315 7270 9905 3650 "
      ]
     },
     "metadata": {},
     "output_type": "display_data"
    }
   ],
   "source": [
    "# 해마다 오픈 하는 커피숍 개수 찾기\n",
    "table(df$yearOfStart)"
   ]
  },
  {
   "cell_type": "code",
   "execution_count": 22,
   "metadata": {},
   "outputs": [
    {
     "name": "stderr",
     "output_type": "stream",
     "text": [
      "Warning message:\n",
      "\"Removed 19 rows containing non-finite values (stat_count).\""
     ]
    },
    {
     "data": {
      "image/png": "[encoded data removed]",
      "text/plain": [
       "plot without title"
      ]
     },
     "metadata": {},
     "output_type": "display_data"
    }
   ],
   "source": [
    "qplot(data=df, yearOfStart, geom='bar')"
   ]
  },
  {
   "cell_type": "code",
   "execution_count": 23,
   "metadata": {},
   "outputs": [
    {
     "data": {
      "text/plain": [
       "         \n",
       "          1964 1966 1967 1968 1969 1970 1971 1972 1974 1975 1976 1979 1980 1981\n",
       "  운영중     0    0    2    0    0    2    4    2    1    1    1    2    3    6\n",
       "  폐업 등    2    2    1    1    2    2    2    1    0    1    4    2    6    2\n",
       "         \n",
       "          1982 1983 1984 1985 1986 1987 1988 1989 1990 1991 1992 1993 1994 1995\n",
       "  운영중     2    3    4    5    5    6   11    5    7    7    3   14   14   13\n",
       "  폐업 등   10    6    7   13   16   15   15   18   18   21   34   36   34   35\n",
       "         \n",
       "          1996 1997 1998 1999 2000 2001 2002 2003 2004 2005 2006 2007 2008 2009\n",
       "  운영중    14   21   25   23   26   76  105  163  180  204  314  496  729 1229\n",
       "  폐업 등   27   33   29   23   63  107  293  636  468  450  549  737  850 1260\n",
       "         \n",
       "          2010 2011 2012 2013 2014 2015\n",
       "  운영중  2503 3961 4642 6045 9125 3564\n",
       "  폐업 등 1669 1981 1673 1225  780   86"
      ]
     },
     "metadata": {},
     "output_type": "display_data"
    }
   ],
   "source": [
    "# 분할표 작성 - 운영중 / 폐업\n",
    "stat_table <- table(df$stateOfbusiness, df$yearOfStart)\n",
    "stat_table"
   ]
  },
  {
   "cell_type": "code",
   "execution_count": 25,
   "metadata": {},
   "outputs": [
    {
     "data": {
      "text/html": [
       "26"
      ],
      "text/latex": [
       "26"
      ],
      "text/markdown": [
       "26"
      ],
      "text/plain": [
       "[1] 26"
      ]
     },
     "metadata": {},
     "output_type": "display_data"
    },
    {
     "data": {
      "text/html": [
       "48"
      ],
      "text/latex": [
       "48"
      ],
      "text/markdown": [
       "48"
      ],
      "text/plain": [
       "[1] 48"
      ]
     },
     "metadata": {},
     "output_type": "display_data"
    }
   ],
   "source": [
    "# 조건으로 특정 칼럼값 찾기\n",
    "which(colnames(stat_table)==1993)\n",
    "which.max(colnames(stat_table))"
   ]
  },
  {
   "cell_type": "code",
   "execution_count": 26,
   "metadata": {},
   "outputs": [
    {
     "data": {
      "text/plain": [
       "         \n",
       "          1993 1994 1995 1996 1997 1998 1999 2000 2001 2002 2003 2004 2005 2006\n",
       "  운영중    14   14   13   14   21   25   23   26   76  105  163  180  204  314\n",
       "  폐업 등   36   34   35   27   33   29   23   63  107  293  636  468  450  549\n",
       "         \n",
       "          2007 2008 2009 2010 2011 2012 2013 2014 2015\n",
       "  운영중   496  729 1229 2503 3961 4642 6045 9125 3564\n",
       "  폐업 등  737  850 1260 1669 1981 1673 1225  780   86"
      ]
     },
     "metadata": {},
     "output_type": "display_data"
    }
   ],
   "source": [
    "stat_table_col_26_93 <- stat_table[,c(26:48)]\n",
    "stat_table_col_26_93"
   ]
  },
  {
   "cell_type": "code",
   "execution_count": 27,
   "metadata": {},
   "outputs": [
    {
     "data": {
      "text/plain": [
       "         \n",
       "                1993       1994       1995       1996       1997       1998\n",
       "  운영중  0.28000000 0.29166667 0.27083333 0.34146341 0.38888889 0.46296296\n",
       "  폐업 등 0.72000000 0.70833333 0.72916667 0.65853659 0.61111111 0.53703704\n",
       "         \n",
       "                1999       2000       2001       2002       2003       2004\n",
       "  운영중  0.50000000 0.29213483 0.41530055 0.26381910 0.20400501 0.27777778\n",
       "  폐업 등 0.50000000 0.70786517 0.58469945 0.73618090 0.79599499 0.72222222\n",
       "         \n",
       "                2005       2006       2007       2008       2009       2010\n",
       "  운영중  0.31192661 0.36384705 0.40227088 0.46168461 0.49377260 0.59995206\n",
       "  폐업 등 0.68807339 0.63615295 0.59772912 0.53831539 0.50622740 0.40004794\n",
       "         \n",
       "                2011       2012       2013       2014       2015\n",
       "  운영중  0.66661057 0.73507522 0.83149931 0.92125189 0.97643836\n",
       "  폐업 등 0.33338943 0.26492478 0.16850069 0.07874811 0.02356164"
      ]
     },
     "metadata": {},
     "output_type": "display_data"
    }
   ],
   "source": [
    "# 비율 계산\n",
    "stat_prop_table <- prop.table(stat_table_col_26_93, margin = 2) # margin = 2 열 기준\n",
    "stat_prop_table"
   ]
  },
  {
   "cell_type": "code",
   "execution_count": 31,
   "metadata": {},
   "outputs": [
    {
     "data": {
      "text/html": [
       "<table>\n",
       "<thead><tr><th></th><th scope=col>colnames.input1.</th><th scope=col>input1.1...</th><th scope=col>input1.2...</th><th scope=col>input2.1...</th><th scope=col>input2.2...</th></tr></thead>\n",
       "<tbody>\n",
       "\t<tr><th scope=row>1993</th><td>1993      </td><td>  14      </td><td>  36      </td><td>0.2800000 </td><td>0.72000000</td></tr>\n",
       "\t<tr><th scope=row>1994</th><td>1994      </td><td>  14      </td><td>  34      </td><td>0.2916667 </td><td>0.70833333</td></tr>\n",
       "\t<tr><th scope=row>1995</th><td>1995      </td><td>  13      </td><td>  35      </td><td>0.2708333 </td><td>0.72916667</td></tr>\n",
       "\t<tr><th scope=row>1996</th><td>1996      </td><td>  14      </td><td>  27      </td><td>0.3414634 </td><td>0.65853659</td></tr>\n",
       "\t<tr><th scope=row>1997</th><td>1997      </td><td>  21      </td><td>  33      </td><td>0.3888889 </td><td>0.61111111</td></tr>\n",
       "\t<tr><th scope=row>1998</th><td>1998      </td><td>  25      </td><td>  29      </td><td>0.4629630 </td><td>0.53703704</td></tr>\n",
       "\t<tr><th scope=row>1999</th><td>1999      </td><td>  23      </td><td>  23      </td><td>0.5000000 </td><td>0.50000000</td></tr>\n",
       "\t<tr><th scope=row>2000</th><td>2000      </td><td>  26      </td><td>  63      </td><td>0.2921348 </td><td>0.70786517</td></tr>\n",
       "\t<tr><th scope=row>2001</th><td>2001      </td><td>  76      </td><td> 107      </td><td>0.4153005 </td><td>0.58469945</td></tr>\n",
       "\t<tr><th scope=row>2002</th><td>2002      </td><td> 105      </td><td> 293      </td><td>0.2638191 </td><td>0.73618090</td></tr>\n",
       "\t<tr><th scope=row>2003</th><td>2003      </td><td> 163      </td><td> 636      </td><td>0.2040050 </td><td>0.79599499</td></tr>\n",
       "\t<tr><th scope=row>2004</th><td>2004      </td><td> 180      </td><td> 468      </td><td>0.2777778 </td><td>0.72222222</td></tr>\n",
       "\t<tr><th scope=row>2005</th><td>2005      </td><td> 204      </td><td> 450      </td><td>0.3119266 </td><td>0.68807339</td></tr>\n",
       "\t<tr><th scope=row>2006</th><td>2006      </td><td> 314      </td><td> 549      </td><td>0.3638470 </td><td>0.63615295</td></tr>\n",
       "\t<tr><th scope=row>2007</th><td>2007      </td><td> 496      </td><td> 737      </td><td>0.4022709 </td><td>0.59772912</td></tr>\n",
       "\t<tr><th scope=row>2008</th><td>2008      </td><td> 729      </td><td> 850      </td><td>0.4616846 </td><td>0.53831539</td></tr>\n",
       "\t<tr><th scope=row>2009</th><td>2009      </td><td>1229      </td><td>1260      </td><td>0.4937726 </td><td>0.50622740</td></tr>\n",
       "\t<tr><th scope=row>2010</th><td>2010      </td><td>2503      </td><td>1669      </td><td>0.5999521 </td><td>0.40004794</td></tr>\n",
       "\t<tr><th scope=row>2011</th><td>2011      </td><td>3961      </td><td>1981      </td><td>0.6666106 </td><td>0.33338943</td></tr>\n",
       "\t<tr><th scope=row>2012</th><td>2012      </td><td>4642      </td><td>1673      </td><td>0.7350752 </td><td>0.26492478</td></tr>\n",
       "\t<tr><th scope=row>2013</th><td>2013      </td><td>6045      </td><td>1225      </td><td>0.8314993 </td><td>0.16850069</td></tr>\n",
       "\t<tr><th scope=row>2014</th><td>2014      </td><td>9125      </td><td> 780      </td><td>0.9212519 </td><td>0.07874811</td></tr>\n",
       "\t<tr><th scope=row>2015</th><td>2015      </td><td>3564      </td><td>  86      </td><td>0.9764384 </td><td>0.02356164</td></tr>\n",
       "</tbody>\n",
       "</table>\n"
      ],
      "text/latex": [
       "\\begin{tabular}{r|lllll}\n",
       "  & colnames.input1. & input1.1... & input1.2... & input2.1... & input2.2...\\\\\n",
       "\\hline\n",
       "\t1993 & 1993       &   14       &   36       & 0.2800000  & 0.72000000\\\\\n",
       "\t1994 & 1994       &   14       &   34       & 0.2916667  & 0.70833333\\\\\n",
       "\t1995 & 1995       &   13       &   35       & 0.2708333  & 0.72916667\\\\\n",
       "\t1996 & 1996       &   14       &   27       & 0.3414634  & 0.65853659\\\\\n",
       "\t1997 & 1997       &   21       &   33       & 0.3888889  & 0.61111111\\\\\n",
       "\t1998 & 1998       &   25       &   29       & 0.4629630  & 0.53703704\\\\\n",
       "\t1999 & 1999       &   23       &   23       & 0.5000000  & 0.50000000\\\\\n",
       "\t2000 & 2000       &   26       &   63       & 0.2921348  & 0.70786517\\\\\n",
       "\t2001 & 2001       &   76       &  107       & 0.4153005  & 0.58469945\\\\\n",
       "\t2002 & 2002       &  105       &  293       & 0.2638191  & 0.73618090\\\\\n",
       "\t2003 & 2003       &  163       &  636       & 0.2040050  & 0.79599499\\\\\n",
       "\t2004 & 2004       &  180       &  468       & 0.2777778  & 0.72222222\\\\\n",
       "\t2005 & 2005       &  204       &  450       & 0.3119266  & 0.68807339\\\\\n",
       "\t2006 & 2006       &  314       &  549       & 0.3638470  & 0.63615295\\\\\n",
       "\t2007 & 2007       &  496       &  737       & 0.4022709  & 0.59772912\\\\\n",
       "\t2008 & 2008       &  729       &  850       & 0.4616846  & 0.53831539\\\\\n",
       "\t2009 & 2009       & 1229       & 1260       & 0.4937726  & 0.50622740\\\\\n",
       "\t2010 & 2010       & 2503       & 1669       & 0.5999521  & 0.40004794\\\\\n",
       "\t2011 & 2011       & 3961       & 1981       & 0.6666106  & 0.33338943\\\\\n",
       "\t2012 & 2012       & 4642       & 1673       & 0.7350752  & 0.26492478\\\\\n",
       "\t2013 & 2013       & 6045       & 1225       & 0.8314993  & 0.16850069\\\\\n",
       "\t2014 & 2014       & 9125       &  780       & 0.9212519  & 0.07874811\\\\\n",
       "\t2015 & 2015       & 3564       &   86       & 0.9764384  & 0.02356164\\\\\n",
       "\\end{tabular}\n"
      ],
      "text/markdown": [
       "\n",
       "| <!--/--> | colnames.input1. | input1.1... | input1.2... | input2.1... | input2.2... |\n",
       "|---|---|---|---|---|---|\n",
       "| 1993 | 1993       |   14       |   36       | 0.2800000  | 0.72000000 |\n",
       "| 1994 | 1994       |   14       |   34       | 0.2916667  | 0.70833333 |\n",
       "| 1995 | 1995       |   13       |   35       | 0.2708333  | 0.72916667 |\n",
       "| 1996 | 1996       |   14       |   27       | 0.3414634  | 0.65853659 |\n",
       "| 1997 | 1997       |   21       |   33       | 0.3888889  | 0.61111111 |\n",
       "| 1998 | 1998       |   25       |   29       | 0.4629630  | 0.53703704 |\n",
       "| 1999 | 1999       |   23       |   23       | 0.5000000  | 0.50000000 |\n",
       "| 2000 | 2000       |   26       |   63       | 0.2921348  | 0.70786517 |\n",
       "| 2001 | 2001       |   76       |  107       | 0.4153005  | 0.58469945 |\n",
       "| 2002 | 2002       |  105       |  293       | 0.2638191  | 0.73618090 |\n",
       "| 2003 | 2003       |  163       |  636       | 0.2040050  | 0.79599499 |\n",
       "| 2004 | 2004       |  180       |  468       | 0.2777778  | 0.72222222 |\n",
       "| 2005 | 2005       |  204       |  450       | 0.3119266  | 0.68807339 |\n",
       "| 2006 | 2006       |  314       |  549       | 0.3638470  | 0.63615295 |\n",
       "| 2007 | 2007       |  496       |  737       | 0.4022709  | 0.59772912 |\n",
       "| 2008 | 2008       |  729       |  850       | 0.4616846  | 0.53831539 |\n",
       "| 2009 | 2009       | 1229       | 1260       | 0.4937726  | 0.50622740 |\n",
       "| 2010 | 2010       | 2503       | 1669       | 0.5999521  | 0.40004794 |\n",
       "| 2011 | 2011       | 3961       | 1981       | 0.6666106  | 0.33338943 |\n",
       "| 2012 | 2012       | 4642       | 1673       | 0.7350752  | 0.26492478 |\n",
       "| 2013 | 2013       | 6045       | 1225       | 0.8314993  | 0.16850069 |\n",
       "| 2014 | 2014       | 9125       |  780       | 0.9212519  | 0.07874811 |\n",
       "| 2015 | 2015       | 3564       |   86       | 0.9764384  | 0.02356164 |\n",
       "\n"
      ],
      "text/plain": [
       "     colnames.input1. input1.1... input1.2... input2.1... input2.2...\n",
       "1993 1993               14          36        0.2800000   0.72000000 \n",
       "1994 1994               14          34        0.2916667   0.70833333 \n",
       "1995 1995               13          35        0.2708333   0.72916667 \n",
       "1996 1996               14          27        0.3414634   0.65853659 \n",
       "1997 1997               21          33        0.3888889   0.61111111 \n",
       "1998 1998               25          29        0.4629630   0.53703704 \n",
       "1999 1999               23          23        0.5000000   0.50000000 \n",
       "2000 2000               26          63        0.2921348   0.70786517 \n",
       "2001 2001               76         107        0.4153005   0.58469945 \n",
       "2002 2002              105         293        0.2638191   0.73618090 \n",
       "2003 2003              163         636        0.2040050   0.79599499 \n",
       "2004 2004              180         468        0.2777778   0.72222222 \n",
       "2005 2005              204         450        0.3119266   0.68807339 \n",
       "2006 2006              314         549        0.3638470   0.63615295 \n",
       "2007 2007              496         737        0.4022709   0.59772912 \n",
       "2008 2008              729         850        0.4616846   0.53831539 \n",
       "2009 2009             1229        1260        0.4937726   0.50622740 \n",
       "2010 2010             2503        1669        0.5999521   0.40004794 \n",
       "2011 2011             3961        1981        0.6666106   0.33338943 \n",
       "2012 2012             4642        1673        0.7350752   0.26492478 \n",
       "2013 2013             6045        1225        0.8314993   0.16850069 \n",
       "2014 2014             9125         780        0.9212519   0.07874811 \n",
       "2015 2015             3564          86        0.9764384   0.02356164 "
      ]
     },
     "metadata": {},
     "output_type": "display_data"
    }
   ],
   "source": [
    "# 데이터 프레임 구성\n",
    "input1 <- stat_table_col_26_93\n",
    "input2 <-  stat_prop_table\n",
    "df_bind <- data.frame(colnames(input1),input1[1,],input1[2,],input2[1,],input2[2,])\n",
    "df_bind"
   ]
  },
  {
   "cell_type": "code",
   "execution_count": 32,
   "metadata": {},
   "outputs": [
    {
     "data": {
      "text/html": [
       "<table>\n",
       "<thead><tr><th scope=col>Year</th><th scope=col>Open</th><th scope=col>Close</th><th scope=col>POpen</th><th scope=col>PClose</th></tr></thead>\n",
       "<tbody>\n",
       "\t<tr><td>1993      </td><td>  14      </td><td>  36      </td><td>0.2800000 </td><td>0.72000000</td></tr>\n",
       "\t<tr><td>1994      </td><td>  14      </td><td>  34      </td><td>0.2916667 </td><td>0.70833333</td></tr>\n",
       "\t<tr><td>1995      </td><td>  13      </td><td>  35      </td><td>0.2708333 </td><td>0.72916667</td></tr>\n",
       "\t<tr><td>1996      </td><td>  14      </td><td>  27      </td><td>0.3414634 </td><td>0.65853659</td></tr>\n",
       "\t<tr><td>1997      </td><td>  21      </td><td>  33      </td><td>0.3888889 </td><td>0.61111111</td></tr>\n",
       "\t<tr><td>1998      </td><td>  25      </td><td>  29      </td><td>0.4629630 </td><td>0.53703704</td></tr>\n",
       "\t<tr><td>1999      </td><td>  23      </td><td>  23      </td><td>0.5000000 </td><td>0.50000000</td></tr>\n",
       "\t<tr><td>2000      </td><td>  26      </td><td>  63      </td><td>0.2921348 </td><td>0.70786517</td></tr>\n",
       "\t<tr><td>2001      </td><td>  76      </td><td> 107      </td><td>0.4153005 </td><td>0.58469945</td></tr>\n",
       "\t<tr><td>2002      </td><td> 105      </td><td> 293      </td><td>0.2638191 </td><td>0.73618090</td></tr>\n",
       "\t<tr><td>2003      </td><td> 163      </td><td> 636      </td><td>0.2040050 </td><td>0.79599499</td></tr>\n",
       "\t<tr><td>2004      </td><td> 180      </td><td> 468      </td><td>0.2777778 </td><td>0.72222222</td></tr>\n",
       "\t<tr><td>2005      </td><td> 204      </td><td> 450      </td><td>0.3119266 </td><td>0.68807339</td></tr>\n",
       "\t<tr><td>2006      </td><td> 314      </td><td> 549      </td><td>0.3638470 </td><td>0.63615295</td></tr>\n",
       "\t<tr><td>2007      </td><td> 496      </td><td> 737      </td><td>0.4022709 </td><td>0.59772912</td></tr>\n",
       "\t<tr><td>2008      </td><td> 729      </td><td> 850      </td><td>0.4616846 </td><td>0.53831539</td></tr>\n",
       "\t<tr><td>2009      </td><td>1229      </td><td>1260      </td><td>0.4937726 </td><td>0.50622740</td></tr>\n",
       "\t<tr><td>2010      </td><td>2503      </td><td>1669      </td><td>0.5999521 </td><td>0.40004794</td></tr>\n",
       "\t<tr><td>2011      </td><td>3961      </td><td>1981      </td><td>0.6666106 </td><td>0.33338943</td></tr>\n",
       "\t<tr><td>2012      </td><td>4642      </td><td>1673      </td><td>0.7350752 </td><td>0.26492478</td></tr>\n",
       "\t<tr><td>2013      </td><td>6045      </td><td>1225      </td><td>0.8314993 </td><td>0.16850069</td></tr>\n",
       "\t<tr><td>2014      </td><td>9125      </td><td> 780      </td><td>0.9212519 </td><td>0.07874811</td></tr>\n",
       "\t<tr><td>2015      </td><td>3564      </td><td>  86      </td><td>0.9764384 </td><td>0.02356164</td></tr>\n",
       "</tbody>\n",
       "</table>\n"
      ],
      "text/latex": [
       "\\begin{tabular}{r|lllll}\n",
       " Year & Open & Close & POpen & PClose\\\\\n",
       "\\hline\n",
       "\t 1993       &   14       &   36       & 0.2800000  & 0.72000000\\\\\n",
       "\t 1994       &   14       &   34       & 0.2916667  & 0.70833333\\\\\n",
       "\t 1995       &   13       &   35       & 0.2708333  & 0.72916667\\\\\n",
       "\t 1996       &   14       &   27       & 0.3414634  & 0.65853659\\\\\n",
       "\t 1997       &   21       &   33       & 0.3888889  & 0.61111111\\\\\n",
       "\t 1998       &   25       &   29       & 0.4629630  & 0.53703704\\\\\n",
       "\t 1999       &   23       &   23       & 0.5000000  & 0.50000000\\\\\n",
       "\t 2000       &   26       &   63       & 0.2921348  & 0.70786517\\\\\n",
       "\t 2001       &   76       &  107       & 0.4153005  & 0.58469945\\\\\n",
       "\t 2002       &  105       &  293       & 0.2638191  & 0.73618090\\\\\n",
       "\t 2003       &  163       &  636       & 0.2040050  & 0.79599499\\\\\n",
       "\t 2004       &  180       &  468       & 0.2777778  & 0.72222222\\\\\n",
       "\t 2005       &  204       &  450       & 0.3119266  & 0.68807339\\\\\n",
       "\t 2006       &  314       &  549       & 0.3638470  & 0.63615295\\\\\n",
       "\t 2007       &  496       &  737       & 0.4022709  & 0.59772912\\\\\n",
       "\t 2008       &  729       &  850       & 0.4616846  & 0.53831539\\\\\n",
       "\t 2009       & 1229       & 1260       & 0.4937726  & 0.50622740\\\\\n",
       "\t 2010       & 2503       & 1669       & 0.5999521  & 0.40004794\\\\\n",
       "\t 2011       & 3961       & 1981       & 0.6666106  & 0.33338943\\\\\n",
       "\t 2012       & 4642       & 1673       & 0.7350752  & 0.26492478\\\\\n",
       "\t 2013       & 6045       & 1225       & 0.8314993  & 0.16850069\\\\\n",
       "\t 2014       & 9125       &  780       & 0.9212519  & 0.07874811\\\\\n",
       "\t 2015       & 3564       &   86       & 0.9764384  & 0.02356164\\\\\n",
       "\\end{tabular}\n"
      ],
      "text/markdown": [
       "\n",
       "| Year | Open | Close | POpen | PClose |\n",
       "|---|---|---|---|---|\n",
       "| 1993       |   14       |   36       | 0.2800000  | 0.72000000 |\n",
       "| 1994       |   14       |   34       | 0.2916667  | 0.70833333 |\n",
       "| 1995       |   13       |   35       | 0.2708333  | 0.72916667 |\n",
       "| 1996       |   14       |   27       | 0.3414634  | 0.65853659 |\n",
       "| 1997       |   21       |   33       | 0.3888889  | 0.61111111 |\n",
       "| 1998       |   25       |   29       | 0.4629630  | 0.53703704 |\n",
       "| 1999       |   23       |   23       | 0.5000000  | 0.50000000 |\n",
       "| 2000       |   26       |   63       | 0.2921348  | 0.70786517 |\n",
       "| 2001       |   76       |  107       | 0.4153005  | 0.58469945 |\n",
       "| 2002       |  105       |  293       | 0.2638191  | 0.73618090 |\n",
       "| 2003       |  163       |  636       | 0.2040050  | 0.79599499 |\n",
       "| 2004       |  180       |  468       | 0.2777778  | 0.72222222 |\n",
       "| 2005       |  204       |  450       | 0.3119266  | 0.68807339 |\n",
       "| 2006       |  314       |  549       | 0.3638470  | 0.63615295 |\n",
       "| 2007       |  496       |  737       | 0.4022709  | 0.59772912 |\n",
       "| 2008       |  729       |  850       | 0.4616846  | 0.53831539 |\n",
       "| 2009       | 1229       | 1260       | 0.4937726  | 0.50622740 |\n",
       "| 2010       | 2503       | 1669       | 0.5999521  | 0.40004794 |\n",
       "| 2011       | 3961       | 1981       | 0.6666106  | 0.33338943 |\n",
       "| 2012       | 4642       | 1673       | 0.7350752  | 0.26492478 |\n",
       "| 2013       | 6045       | 1225       | 0.8314993  | 0.16850069 |\n",
       "| 2014       | 9125       |  780       | 0.9212519  | 0.07874811 |\n",
       "| 2015       | 3564       |   86       | 0.9764384  | 0.02356164 |\n",
       "\n"
      ],
      "text/plain": [
       "   Year Open Close POpen     PClose    \n",
       "1  1993   14   36  0.2800000 0.72000000\n",
       "2  1994   14   34  0.2916667 0.70833333\n",
       "3  1995   13   35  0.2708333 0.72916667\n",
       "4  1996   14   27  0.3414634 0.65853659\n",
       "5  1997   21   33  0.3888889 0.61111111\n",
       "6  1998   25   29  0.4629630 0.53703704\n",
       "7  1999   23   23  0.5000000 0.50000000\n",
       "8  2000   26   63  0.2921348 0.70786517\n",
       "9  2001   76  107  0.4153005 0.58469945\n",
       "10 2002  105  293  0.2638191 0.73618090\n",
       "11 2003  163  636  0.2040050 0.79599499\n",
       "12 2004  180  468  0.2777778 0.72222222\n",
       "13 2005  204  450  0.3119266 0.68807339\n",
       "14 2006  314  549  0.3638470 0.63615295\n",
       "15 2007  496  737  0.4022709 0.59772912\n",
       "16 2008  729  850  0.4616846 0.53831539\n",
       "17 2009 1229 1260  0.4937726 0.50622740\n",
       "18 2010 2503 1669  0.5999521 0.40004794\n",
       "19 2011 3961 1981  0.6666106 0.33338943\n",
       "20 2012 4642 1673  0.7350752 0.26492478\n",
       "21 2013 6045 1225  0.8314993 0.16850069\n",
       "22 2014 9125  780  0.9212519 0.07874811\n",
       "23 2015 3564   86  0.9764384 0.02356164"
      ]
     },
     "metadata": {},
     "output_type": "display_data"
    }
   ],
   "source": [
    "rownames(df_bind) <- NULL\n",
    "colnames(df_bind) <- c('Year','Open','Close','POpen','PClose')\n",
    "df_bind"
   ]
  },
  {
   "cell_type": "code",
   "execution_count": 33,
   "metadata": {},
   "outputs": [
    {
     "data": {
      "image/png": "[encoded data removed]",
      "text/plain": [
       "plot without title"
      ]
     },
     "metadata": {},
     "output_type": "display_data"
    }
   ],
   "source": [
    "# 시각화 - line graph\n",
    "ggplot(df_bind, aes(x=Year, y=Close, group=1)) +\n",
    "    geom_line(colour='steelblue1', size=1) +\n",
    "    geom_point(colour='steelblue', size=3) +\n",
    "    geom_line(aes(y=Open), colour='tomato2', size=1) +\n",
    "    geom_point(aes(y=Open), colour='red', size=3) +\n",
    "    theme_bw()"
   ]
  },
  {
   "cell_type": "markdown",
   "metadata": {},
   "source": [
    "### 전국 커피숍 규모파악"
   ]
  },
  {
   "cell_type": "code",
   "execution_count": 34,
   "metadata": {},
   "outputs": [
    {
     "data": {
      "text/html": [
       "<table>\n",
       "<thead><tr><th scope=col>number</th><th scope=col>companyName</th><th scope=col>dateOflicensing</th><th scope=col>stateOfbusiness</th><th scope=col>areaOfsite</th><th scope=col>waterwork</th><th scope=col>numOfmenWorker</th><th scope=col>yearOfStart</th><th scope=col>multipleUse</th><th scope=col>grade</th><th scope=col>sizeOfsite</th><th scope=col>numOfwomenWorker</th><th scope=col>vicintyOfsite</th><th scope=col>sanitaryName</th><th scope=col>businessCondition</th><th scope=col>totalOfworker</th></tr></thead>\n",
       "<tbody>\n",
       "\t<tr><td>1                              </td><td>#11(Sharp eleven)              </td><td>20080917                       </td><td>운영중                         </td><td>NA                             </td><td>상수도전용                     </td><td>NA                             </td><td>2008                           </td><td>N                              </td><td>                               </td><td> 20.80                         </td><td>NA                             </td><td>                               </td><td>휴게음식점                     </td><td>커피숍                         </td><td>NA                             </td></tr>\n",
       "\t<tr><td>2                              </td><td>( 주)커피빈코리아청주지웰시티점</td><td>20101124                       </td><td>운영중                         </td><td>NA                             </td><td>상수도전용                     </td><td>NA                             </td><td>2010                           </td><td>N                              </td><td>                               </td><td>212.72                         </td><td>NA                             </td><td>                               </td><td>휴게음식점                     </td><td>커피숍                         </td><td>NA                             </td></tr>\n",
       "\t<tr><td>3                              </td><td>(aA)더블에이                   </td><td>20130902                       </td><td>운영중                         </td><td>NA                             </td><td>상수도전용                     </td><td>NA                             </td><td>2013                           </td><td>N                              </td><td>                               </td><td> 20.04                         </td><td>NA                             </td><td>아파트지역                     </td><td>휴게음식점                     </td><td>커피숍                         </td><td>NA                             </td></tr>\n",
       "\t<tr><td>4                              </td><td>(강서)카페치따                 </td><td>20121108                       </td><td>운영중                         </td><td>NA                             </td><td>상수도전용                     </td><td>NA                             </td><td>2012                           </td><td>N                              </td><td>                               </td><td> 64.17                         </td><td>NA                             </td><td>                               </td><td>휴게음식점                     </td><td>커피숍                         </td><td>NA                             </td></tr>\n",
       "\t<tr><td>5                              </td><td>(로즈버드)명동아바타           </td><td>20020911                       </td><td>폐업 등                        </td><td>NA                             </td><td>상수도전용                     </td><td> 0                             </td><td>2002                           </td><td>N                              </td><td>                               </td><td> 11.40                         </td><td> 0                             </td><td>                               </td><td>휴게음식점                     </td><td>커피숍                         </td><td> 0                             </td></tr>\n",
       "\t<tr><td>6                              </td><td>(루앤비카페(Lu n B cafe)       </td><td>20130822                       </td><td>운영중                         </td><td>NA                             </td><td>상수도전용                     </td><td>NA                             </td><td>2013                           </td><td>N                              </td><td>                               </td><td> 10.99                         </td><td>NA                             </td><td>                               </td><td>휴게음식점                     </td><td>커피숍                         </td><td>NA                             </td></tr>\n",
       "</tbody>\n",
       "</table>\n"
      ],
      "text/latex": [
       "\\begin{tabular}{r|llllllllllllllll}\n",
       " number & companyName & dateOflicensing & stateOfbusiness & areaOfsite & waterwork & numOfmenWorker & yearOfStart & multipleUse & grade & sizeOfsite & numOfwomenWorker & vicintyOfsite & sanitaryName & businessCondition & totalOfworker\\\\\n",
       "\\hline\n",
       "\t 1                                 & \\#11(Sharp eleven)               & 20080917                          & 운영중                            & NA                                & 상수도전용                        & NA                                & 2008                              & N                                 &                                   &  20.80                            & NA                                &                                   & 휴게음식점                        & 커피숍                            & NA                               \\\\\n",
       "\t 2                               & ( 주)커피빈코리아청주지웰시티점 & 20101124                        & 운영중                          & NA                              & 상수도전용                      & NA                              & 2010                            & N                               &                                 & 212.72                          & NA                              &                                 & 휴게음식점                      & 커피숍                          & NA                             \\\\\n",
       "\t 3                               & (aA)더블에이                    & 20130902                        & 운영중                          & NA                              & 상수도전용                      & NA                              & 2013                            & N                               &                                 &  20.04                          & NA                              & 아파트지역                      & 휴게음식점                      & 커피숍                          & NA                             \\\\\n",
       "\t 4                               & (강서)카페치따                  & 20121108                        & 운영중                          & NA                              & 상수도전용                      & NA                              & 2012                            & N                               &                                 &  64.17                          & NA                              &                                 & 휴게음식점                      & 커피숍                          & NA                             \\\\\n",
       "\t 5                               & (로즈버드)명동아바타            & 20020911                        & 폐업 등                         & NA                              & 상수도전용                      &  0                              & 2002                            & N                               &                                 &  11.40                          &  0                              &                                 & 휴게음식점                      & 커피숍                          &  0                             \\\\\n",
       "\t 6                               & (루앤비카페(Lu n B cafe)        & 20130822                        & 운영중                          & NA                              & 상수도전용                      & NA                              & 2013                            & N                               &                                 &  10.99                          & NA                              &                                 & 휴게음식점                      & 커피숍                          & NA                             \\\\\n",
       "\\end{tabular}\n"
      ],
      "text/markdown": [
       "\n",
       "| number | companyName | dateOflicensing | stateOfbusiness | areaOfsite | waterwork | numOfmenWorker | yearOfStart | multipleUse | grade | sizeOfsite | numOfwomenWorker | vicintyOfsite | sanitaryName | businessCondition | totalOfworker |\n",
       "|---|---|---|---|---|---|---|---|---|---|---|---|---|---|---|---|\n",
       "| 1                               | #11(Sharp eleven)               | 20080917                        | 운영중                          | NA                              | 상수도전용                      | NA                              | 2008                            | N                               |                                 |  20.80                          | NA                              |                                 | 휴게음식점                      | 커피숍                          | NA                              |\n",
       "| 2                               | ( 주)커피빈코리아청주지웰시티점 | 20101124                        | 운영중                          | NA                              | 상수도전용                      | NA                              | 2010                            | N                               |                                 | 212.72                          | NA                              |                                 | 휴게음식점                      | 커피숍                          | NA                              |\n",
       "| 3                               | (aA)더블에이                    | 20130902                        | 운영중                          | NA                              | 상수도전용                      | NA                              | 2013                            | N                               |                                 |  20.04                          | NA                              | 아파트지역                      | 휴게음식점                      | 커피숍                          | NA                              |\n",
       "| 4                               | (강서)카페치따                  | 20121108                        | 운영중                          | NA                              | 상수도전용                      | NA                              | 2012                            | N                               |                                 |  64.17                          | NA                              |                                 | 휴게음식점                      | 커피숍                          | NA                              |\n",
       "| 5                               | (로즈버드)명동아바타            | 20020911                        | 폐업 등                         | NA                              | 상수도전용                      |  0                              | 2002                            | N                               |                                 |  11.40                          |  0                              |                                 | 휴게음식점                      | 커피숍                          |  0                              |\n",
       "| 6                               | (루앤비카페(Lu n B cafe)        | 20130822                        | 운영중                          | NA                              | 상수도전용                      | NA                              | 2013                            | N                               |                                 |  10.99                          | NA                              |                                 | 휴게음식점                      | 커피숍                          | NA                              |\n",
       "\n"
      ],
      "text/plain": [
       "  number companyName                     dateOflicensing stateOfbusiness\n",
       "1 1      #11(Sharp eleven)               20080917        운영중         \n",
       "2 2      ( 주)커피빈코리아청주지웰시티점 20101124        운영중         \n",
       "3 3      (aA)더블에이                    20130902        운영중         \n",
       "4 4      (강서)카페치따                  20121108        운영중         \n",
       "5 5      (로즈버드)명동아바타            20020911        폐업 등        \n",
       "6 6      (루앤비카페(Lu n B cafe)        20130822        운영중         \n",
       "  areaOfsite waterwork  numOfmenWorker yearOfStart multipleUse grade sizeOfsite\n",
       "1 NA         상수도전용 NA             2008        N                  20.80    \n",
       "2 NA         상수도전용 NA             2010        N                 212.72    \n",
       "3 NA         상수도전용 NA             2013        N                  20.04    \n",
       "4 NA         상수도전용 NA             2012        N                  64.17    \n",
       "5 NA         상수도전용  0             2002        N                  11.40    \n",
       "6 NA         상수도전용 NA             2013        N                  10.99    \n",
       "  numOfwomenWorker vicintyOfsite sanitaryName businessCondition totalOfworker\n",
       "1 NA                             휴게음식점   커피숍            NA           \n",
       "2 NA                             휴게음식점   커피숍            NA           \n",
       "3 NA               아파트지역    휴게음식점   커피숍            NA           \n",
       "4 NA                             휴게음식점   커피숍            NA           \n",
       "5  0                             휴게음식점   커피숍             0           \n",
       "6 NA                             휴게음식점   커피숍            NA           "
      ]
     },
     "metadata": {},
     "output_type": "display_data"
    }
   ],
   "source": [
    "head(df)"
   ]
  },
  {
   "cell_type": "code",
   "execution_count": 35,
   "metadata": {},
   "outputs": [],
   "source": [
    "#규모값\n",
    "size <- df$sizeOfsite"
   ]
  },
  {
   "cell_type": "code",
   "execution_count": 37,
   "metadata": {},
   "outputs": [
    {
     "data": {
      "text/plain": [
       "    Min.  1st Qu.   Median     Mean  3rd Qu.     Max.     NA's \n",
       "    0.00    28.12    50.00    75.53    93.75 24075.00       19 "
      ]
     },
     "metadata": {},
     "output_type": "display_data"
    }
   ],
   "source": [
    "summary(size)"
   ]
  },
  {
   "cell_type": "code",
   "execution_count": 38,
   "metadata": {},
   "outputs": [],
   "source": [
    "# 아웃라이어 삭제 - 평균보다 지나치게 다른 값\n",
    "size[size > 10000] <- NA\n",
    "size[size == 0] <- NA"
   ]
  },
  {
   "cell_type": "code",
   "execution_count": 39,
   "metadata": {},
   "outputs": [],
   "source": [
    "# 결측치 처리 NA\n",
    "size <- size[complete.cases(size)]"
   ]
  },
  {
   "cell_type": "code",
   "execution_count": 40,
   "metadata": {},
   "outputs": [
    {
     "data": {
      "text/plain": [
       "   Min. 1st Qu.  Median    Mean 3rd Qu.    Max. \n",
       "   0.25   30.00   51.92   77.23   95.30 1406.38 "
      ]
     },
     "metadata": {},
     "output_type": "display_data"
    }
   ],
   "source": [
    "summary(size)"
   ]
  },
  {
   "cell_type": "code",
   "execution_count": 41,
   "metadata": {},
   "outputs": [
    {
     "data": {
      "text/plain": [
       "\n",
       "             (0,20]             (20,40]             (40,60]             (60,80] \n",
       "               6026               11303                8293                5283 \n",
       "           (80,100]           (100,120]           (120,140]           (140,160] \n",
       "               4239                2246                1751                1297 \n",
       "          (160,180]           (180,200]           (200,220]           (220,240] \n",
       "                959                 882                 568                 512 \n",
       "          (240,260]           (260,280]           (280,300]           (300,320] \n",
       "                394                 331                 347                 179 \n",
       "          (320,340]           (340,360]           (360,380]           (380,400] \n",
       "                191                 112                 105                  94 \n",
       "          (400,420]           (420,440]           (440,460]           (460,480] \n",
       "                 81                  60                  42                  34 \n",
       "          (480,500]           (500,520]           (520,540]           (540,560] \n",
       "                 32                  18                  16                  14 \n",
       "          (560,580]           (580,600]           (600,620]           (620,640] \n",
       "                 12                   9                   9                   5 \n",
       "          (640,660]           (660,680]           (680,700]           (700,720] \n",
       "                  4                   4                   0                   1 \n",
       "          (720,740]           (740,760]           (760,780]           (780,800] \n",
       "                  1                   2                   4                   1 \n",
       "          (800,820]           (820,840]           (840,860]           (860,880] \n",
       "                  1                   1                   0                   0 \n",
       "          (880,900]           (900,920]           (920,940]           (940,960] \n",
       "                  0                   2                   1                   0 \n",
       "          (960,980]         (980,1e+03]    (1e+03,1.02e+03] (1.02e+03,1.04e+03] \n",
       "                  0                   1                   0                   0 \n",
       "(1.04e+03,1.06e+03] (1.06e+03,1.08e+03]  (1.08e+03,1.1e+03]  (1.1e+03,1.12e+03] \n",
       "                  2                   0                   0                   0 \n",
       "(1.12e+03,1.14e+03] (1.14e+03,1.16e+03] (1.16e+03,1.18e+03]  (1.18e+03,1.2e+03] \n",
       "                  0                   0                   0                   0 \n",
       " (1.2e+03,1.22e+03] (1.22e+03,1.24e+03] (1.24e+03,1.26e+03] (1.26e+03,1.28e+03] \n",
       "                  1                   0                   0                   0 \n",
       " (1.28e+03,1.3e+03]  (1.3e+03,1.32e+03] (1.32e+03,1.34e+03] (1.34e+03,1.36e+03] \n",
       "                  0                   0                   0                   0 \n",
       "(1.36e+03,1.38e+03]  (1.38e+03,1.4e+03]  (1.4e+03,1.42e+03] (1.42e+03,1.44e+03] \n",
       "                  0                   0                   1                   0 "
      ]
     },
     "metadata": {},
     "output_type": "display_data"
    }
   ],
   "source": [
    "#20단위 계급생성\n",
    "degree_size <- table(cut(size,breaks = (0:72)*20))\n",
    "degree_size"
   ]
  },
  {
   "cell_type": "code",
   "execution_count": 42,
   "metadata": {},
   "outputs": [
    {
     "name": "stderr",
     "output_type": "stream",
     "text": [
      "Warning message:\n",
      "\"Removed 1060 rows containing non-finite values (stat_bin).\"Warning message:\n",
      "\"Removed 2 row(s) containing missing values (geom_path).\""
     ]
    },
    {
     "data": {
      "image/png": "[encoded data removed]",
      "text/plain": [
       "plot without title"
      ]
     },
     "metadata": {},
     "output_type": "display_data"
    }
   ],
   "source": [
    "ggplot(data = df, aes(x = sizeOfsite)) + \n",
    "    geom_freqpoly(binwidth=10, size=1.2, colour='green') +\n",
    "    scale_x_continuous(limits = c(0,300), breaks = seq(0, 300, 20)) + \n",
    "    theme_wsj()"
   ]
  },
  {
   "cell_type": "code",
   "execution_count": 43,
   "metadata": {},
   "outputs": [],
   "source": [
    "df <- read.csv('r-ggagi-data/example_population.csv',stringsAsFactors = F)\n",
    "#문자열로 불러오기 stringsAsFactors = F"
   ]
  },
  {
   "cell_type": "code",
   "execution_count": 44,
   "metadata": {},
   "outputs": [
    {
     "name": "stdout",
     "output_type": "stream",
     "text": [
      "'data.frame':\t281 obs. of  7 variables:\n",
      " $ City      : chr  \"서울특별시  (1100000000)\" \"서울특별시 종로구 (1111000000)\" \"서울특별시 중구 (1114000000)\" \"서울특별시 용산구 (1117000000)\" ...\n",
      " $ Population: chr  \"10,078,850\" \"155,695\" \"126,817\" \"235,186\" ...\n",
      " $ Households: chr  \"4,197,478\" \"72,882\" \"59,614\" \"108,138\" ...\n",
      " $ PersInHou : num  2.4 2.14 2.13 2.17 2.35 2.28 2.26 2.36 2.41 2.36 ...\n",
      " $ Male      : chr  \"4,962,774\" \"76,962\" \"63,292\" \"114,119\" ...\n",
      " $ Female    : chr  \"5,116,076\" \"78,733\" \"63,525\" \"121,067\" ...\n",
      " $ SexRatio  : num  0.97 0.98 1 0.94 0.99 0.97 1.01 1 0.96 0.97 ...\n"
     ]
    }
   ],
   "source": [
    "str(df)"
   ]
  },
  {
   "cell_type": "code",
   "execution_count": 45,
   "metadata": {},
   "outputs": [
    {
     "data": {
      "text/html": [
       "<table>\n",
       "<thead><tr><th scope=col>City</th><th scope=col>Population</th><th scope=col>Households</th><th scope=col>PersInHou</th><th scope=col>Male</th><th scope=col>Female</th><th scope=col>SexRatio</th></tr></thead>\n",
       "<tbody>\n",
       "\t<tr><td>서울특별시  (1100000000)      </td><td>10,078,850                    </td><td>4,197,478                     </td><td>2.40                          </td><td>4,962,774                     </td><td>5,116,076                     </td><td>0.97                          </td></tr>\n",
       "\t<tr><td>서울특별시 종로구 (1111000000)</td><td>155,695                       </td><td>72,882                        </td><td>2.14                          </td><td>76,962                        </td><td>78,733                        </td><td>0.98                          </td></tr>\n",
       "\t<tr><td>서울특별시 중구 (1114000000)  </td><td>126,817                       </td><td>59,614                        </td><td>2.13                          </td><td>63,292                        </td><td>63,525                        </td><td>1.00                          </td></tr>\n",
       "\t<tr><td>서울특별시 용산구 (1117000000)</td><td>235,186                       </td><td>108,138                       </td><td>2.17                          </td><td>114,119                       </td><td>121,067                       </td><td>0.94                          </td></tr>\n",
       "\t<tr><td>서울특별시 성동구 (1120000000)</td><td>298,145                       </td><td>126,915                       </td><td>2.35                          </td><td>148,265                       </td><td>149,880                       </td><td>0.99                          </td></tr>\n",
       "\t<tr><td>서울특별시 광진구 (1121500000)</td><td>362,197                       </td><td>158,769                       </td><td>2.28                          </td><td>177,946                       </td><td>184,251                       </td><td>0.97                          </td></tr>\n",
       "</tbody>\n",
       "</table>\n"
      ],
      "text/latex": [
       "\\begin{tabular}{r|lllllll}\n",
       " City & Population & Households & PersInHou & Male & Female & SexRatio\\\\\n",
       "\\hline\n",
       "\t 서울특별시  (1100000000)       & 10,078,850                     & 4,197,478                      & 2.40                           & 4,962,774                      & 5,116,076                      & 0.97                          \\\\\n",
       "\t 서울특별시 종로구 (1111000000) & 155,695                        & 72,882                         & 2.14                           & 76,962                         & 78,733                         & 0.98                          \\\\\n",
       "\t 서울특별시 중구 (1114000000)   & 126,817                        & 59,614                         & 2.13                           & 63,292                         & 63,525                         & 1.00                          \\\\\n",
       "\t 서울특별시 용산구 (1117000000) & 235,186                        & 108,138                        & 2.17                           & 114,119                        & 121,067                        & 0.94                          \\\\\n",
       "\t 서울특별시 성동구 (1120000000) & 298,145                        & 126,915                        & 2.35                           & 148,265                        & 149,880                        & 0.99                          \\\\\n",
       "\t 서울특별시 광진구 (1121500000) & 362,197                        & 158,769                        & 2.28                           & 177,946                        & 184,251                        & 0.97                          \\\\\n",
       "\\end{tabular}\n"
      ],
      "text/markdown": [
       "\n",
       "| City | Population | Households | PersInHou | Male | Female | SexRatio |\n",
       "|---|---|---|---|---|---|---|\n",
       "| 서울특별시  (1100000000)       | 10,078,850                     | 4,197,478                      | 2.40                           | 4,962,774                      | 5,116,076                      | 0.97                           |\n",
       "| 서울특별시 종로구 (1111000000) | 155,695                        | 72,882                         | 2.14                           | 76,962                         | 78,733                         | 0.98                           |\n",
       "| 서울특별시 중구 (1114000000)   | 126,817                        | 59,614                         | 2.13                           | 63,292                         | 63,525                         | 1.00                           |\n",
       "| 서울특별시 용산구 (1117000000) | 235,186                        | 108,138                        | 2.17                           | 114,119                        | 121,067                        | 0.94                           |\n",
       "| 서울특별시 성동구 (1120000000) | 298,145                        | 126,915                        | 2.35                           | 148,265                        | 149,880                        | 0.99                           |\n",
       "| 서울특별시 광진구 (1121500000) | 362,197                        | 158,769                        | 2.28                           | 177,946                        | 184,251                        | 0.97                           |\n",
       "\n"
      ],
      "text/plain": [
       "  City                           Population Households PersInHou Male     \n",
       "1 서울특별시  (1100000000)       10,078,850 4,197,478  2.40      4,962,774\n",
       "2 서울특별시 종로구 (1111000000) 155,695    72,882     2.14      76,962   \n",
       "3 서울특별시 중구 (1114000000)   126,817    59,614     2.13      63,292   \n",
       "4 서울특별시 용산구 (1117000000) 235,186    108,138    2.17      114,119  \n",
       "5 서울특별시 성동구 (1120000000) 298,145    126,915    2.35      148,265  \n",
       "6 서울특별시 광진구 (1121500000) 362,197    158,769    2.28      177,946  \n",
       "  Female    SexRatio\n",
       "1 5,116,076 0.97    \n",
       "2 78,733    0.98    \n",
       "3 63,525    1.00    \n",
       "4 121,067   0.94    \n",
       "5 149,880   0.99    \n",
       "6 184,251   0.97    "
      ]
     },
     "metadata": {},
     "output_type": "display_data"
    }
   ],
   "source": [
    "head(df)"
   ]
  },
  {
   "cell_type": "code",
   "execution_count": 46,
   "metadata": {},
   "outputs": [
    {
     "name": "stdout",
     "output_type": "stream",
     "text": [
      "package 'stringr' successfully unpacked and MD5 sums checked\n",
      "\n",
      "The downloaded binary packages are in\n",
      "\tC:\\Users\\205\\AppData\\Local\\Temp\\RtmpGuJoXU\\downloaded_packages\n"
     ]
    }
   ],
   "source": [
    "install.packages('stringr')"
   ]
  },
  {
   "cell_type": "code",
   "execution_count": 49,
   "metadata": {},
   "outputs": [],
   "source": [
    "library('stringr')"
   ]
  },
  {
   "cell_type": "code",
   "execution_count": 50,
   "metadata": {},
   "outputs": [
    {
     "data": {
      "text/html": [
       "<ol class=list-inline>\n",
       "\t<li><span style=white-space:pre-wrap>'서울특별시  (1100000000)'</span></li>\n",
       "\t<li>'서울특별시 종로구 (1111000000)'</li>\n",
       "\t<li>'서울특별시 중구 (1114000000)'</li>\n",
       "\t<li>'서울특별시 용산구 (1117000000)'</li>\n",
       "\t<li>'서울특별시 성동구 (1120000000)'</li>\n",
       "\t<li>'서울특별시 광진구 (1121500000)'</li>\n",
       "\t<li>'서울특별시 동대문구 (1123000000)'</li>\n",
       "\t<li>'서울특별시 중랑구 (1126000000)'</li>\n",
       "\t<li>'서울특별시 성북구 (1129000000)'</li>\n",
       "\t<li>'서울특별시 강북구 (1130500000)'</li>\n",
       "\t<li>'서울특별시 도봉구 (1132000000)'</li>\n",
       "\t<li>'서울특별시 노원구 (1135000000)'</li>\n",
       "\t<li>'서울특별시 은평구 (1138000000)'</li>\n",
       "\t<li>'서울특별시 서대문구 (1141000000)'</li>\n",
       "\t<li>'서울특별시 마포구 (1144000000)'</li>\n",
       "\t<li>'서울특별시 양천구 (1147000000)'</li>\n",
       "\t<li>'서울특별시 강서구 (1150000000)'</li>\n",
       "\t<li>'서울특별시 구로구 (1153000000)'</li>\n",
       "\t<li>'서울특별시 금천구 (1154500000)'</li>\n",
       "\t<li>'서울특별시 영등포구 (1156000000)'</li>\n",
       "\t<li>'서울특별시 동작구 (1159000000)'</li>\n",
       "\t<li>'서울특별시 관악구 (1162000000)'</li>\n",
       "\t<li>'서울특별시 서초구 (1165000000)'</li>\n",
       "\t<li>'서울특별시 강남구 (1168000000)'</li>\n",
       "\t<li>'서울특별시 송파구 (1171000000)'</li>\n",
       "\t<li>'서울특별시 강동구 (1174000000)'</li>\n",
       "\t<li><span style=white-space:pre-wrap>'부산광역시  (2600000000)'</span></li>\n",
       "\t<li>'부산광역시 중구 (2611000000)'</li>\n",
       "\t<li>'부산광역시 서구 (2614000000)'</li>\n",
       "\t<li>'부산광역시 동구 (2617000000)'</li>\n",
       "\t<li>'부산광역시 영도구 (2620000000)'</li>\n",
       "\t<li>'부산광역시 부산진구 (2623000000)'</li>\n",
       "\t<li>'부산광역시 동래구 (2626000000)'</li>\n",
       "\t<li>'부산광역시 남구 (2629000000)'</li>\n",
       "\t<li>'부산광역시 북구 (2632000000)'</li>\n",
       "\t<li>'부산광역시 해운대구 (2635000000)'</li>\n",
       "\t<li>'부산광역시 사하구 (2638000000)'</li>\n",
       "\t<li>'부산광역시 금정구 (2641000000)'</li>\n",
       "\t<li>'부산광역시 강서구 (2644000000)'</li>\n",
       "\t<li>'부산광역시 연제구 (2647000000)'</li>\n",
       "\t<li>'부산광역시 수영구 (2650000000)'</li>\n",
       "\t<li>'부산광역시 사상구 (2653000000)'</li>\n",
       "\t<li>'부산광역시 기장군 (2671000000)'</li>\n",
       "\t<li><span style=white-space:pre-wrap>'대구광역시  (2700000000)'</span></li>\n",
       "\t<li>'대구광역시 중구 (2711000000)'</li>\n",
       "\t<li>'대구광역시 동구 (2714000000)'</li>\n",
       "\t<li>'대구광역시 서구 (2717000000)'</li>\n",
       "\t<li>'대구광역시 남구 (2720000000)'</li>\n",
       "\t<li>'대구광역시 북구 (2723000000)'</li>\n",
       "\t<li>'대구광역시 수성구 (2726000000)'</li>\n",
       "\t<li>'대구광역시 달서구 (2729000000)'</li>\n",
       "\t<li>'대구광역시 달성군 (2771000000)'</li>\n",
       "\t<li><span style=white-space:pre-wrap>'인천광역시  (2800000000)'</span></li>\n",
       "\t<li>'인천광역시 중구 (2811000000)'</li>\n",
       "\t<li>'인천광역시 동구 (2814000000)'</li>\n",
       "\t<li>'인천광역시 남구 (2817000000)'</li>\n",
       "\t<li>'인천광역시 연수구 (2818500000)'</li>\n",
       "\t<li>'인천광역시 남동구 (2820000000)'</li>\n",
       "\t<li>'인천광역시 부평구 (2823700000)'</li>\n",
       "\t<li>'인천광역시 계양구 (2824500000)'</li>\n",
       "\t<li>'인천광역시 서구 (2826000000)'</li>\n",
       "\t<li>'인천광역시 강화군 (2871000000)'</li>\n",
       "\t<li>'인천광역시 옹진군 (2872000000)'</li>\n",
       "\t<li><span style=white-space:pre-wrap>'광주광역시  (2900000000)'</span></li>\n",
       "\t<li>'광주광역시 동구 (2911000000)'</li>\n",
       "\t<li>'광주광역시 서구 (2914000000)'</li>\n",
       "\t<li>'광주광역시 남구 (2915500000)'</li>\n",
       "\t<li>'광주광역시 북구 (2917000000)'</li>\n",
       "\t<li>'광주광역시 광산구 (2920000000)'</li>\n",
       "\t<li><span style=white-space:pre-wrap>'대전광역시  (3000000000)'</span></li>\n",
       "\t<li>'대전광역시 동구 (3011000000)'</li>\n",
       "\t<li>'대전광역시 중구 (3014000000)'</li>\n",
       "\t<li>'대전광역시 서구 (3017000000)'</li>\n",
       "\t<li>'대전광역시 유성구 (3020000000)'</li>\n",
       "\t<li>'대전광역시 대덕구 (3023000000)'</li>\n",
       "\t<li><span style=white-space:pre-wrap>'울산광역시  (3100000000)'</span></li>\n",
       "\t<li>'울산광역시 중구 (3111000000)'</li>\n",
       "\t<li>'울산광역시 남구 (3114000000)'</li>\n",
       "\t<li>'울산광역시 동구 (3117000000)'</li>\n",
       "\t<li>'울산광역시 북구 (3120000000)'</li>\n",
       "\t<li>'울산광역시 울주군 (3171000000)'</li>\n",
       "\t<li><span style=white-space:pre-wrap>'세종특별자치시  (3600000000)'</span></li>\n",
       "\t<li><span style=white-space:pre-wrap>'세종특별자치시  (3611000000)'</span></li>\n",
       "\t<li><span style=white-space:pre-wrap>'경기도  (4100000000)'</span></li>\n",
       "\t<li>'경기도 수원시 (4111000000)'</li>\n",
       "\t<li>'경기도 수원시 장안구 (4111100000)'</li>\n",
       "\t<li>'경기도 수원시 권선구 (4111300000)'</li>\n",
       "\t<li>'경기도 수원시 팔달구 (4111500000)'</li>\n",
       "\t<li>'경기도 수원시 영통구 (4111700000)'</li>\n",
       "\t<li>'경기도 성남시 (4113000000)'</li>\n",
       "\t<li>'경기도 성남시 수정구 (4113100000)'</li>\n",
       "\t<li>'경기도 성남시 중원구 (4113300000)'</li>\n",
       "\t<li>'경기도 성남시 분당구 (4113500000)'</li>\n",
       "\t<li>'경기도 의정부시 (4115000000)'</li>\n",
       "\t<li>'경기도 안양시 (4117000000)'</li>\n",
       "\t<li>'경기도 안양시 만안구 (4117100000)'</li>\n",
       "\t<li>'경기도 안양시 동안구 (4117300000)'</li>\n",
       "\t<li>'경기도 부천시 (4119000000)'</li>\n",
       "\t<li>'경기도 부천시 원미구 (4119500000)'</li>\n",
       "\t<li>'경기도 부천시 소사구 (4119700000)'</li>\n",
       "\t<li>'경기도 부천시 오정구 (4119900000)'</li>\n",
       "\t<li>'경기도 광명시 (4121000000)'</li>\n",
       "\t<li>'경기도 평택시 (4122000000)'</li>\n",
       "\t<li>'경기도 동두천시 (4125000000)'</li>\n",
       "\t<li>'경기도 안산시 (4127000000)'</li>\n",
       "\t<li>'경기도 안산시 상록구 (4127100000)'</li>\n",
       "\t<li>'경기도 안산시 단원구 (4127300000)'</li>\n",
       "\t<li>'경기도 고양시 (4128000000)'</li>\n",
       "\t<li>'경기도 고양시 덕양구 (4128100000)'</li>\n",
       "\t<li>'경기도 고양시 일산동구 (4128500000)'</li>\n",
       "\t<li>'경기도 고양시 일산서구 (4128700000)'</li>\n",
       "\t<li>'경기도 과천시 (4129000000)'</li>\n",
       "\t<li>'경기도 구리시 (4131000000)'</li>\n",
       "\t<li>'경기도 남양주시 (4136000000)'</li>\n",
       "\t<li>'경기도 오산시 (4137000000)'</li>\n",
       "\t<li>'경기도 시흥시 (4139000000)'</li>\n",
       "\t<li>'경기도 군포시 (4141000000)'</li>\n",
       "\t<li>'경기도 의왕시 (4143000000)'</li>\n",
       "\t<li>'경기도 하남시 (4145000000)'</li>\n",
       "\t<li>'경기도 용인시 (4146000000)'</li>\n",
       "\t<li>'경기도 용인시 처인구 (4146100000)'</li>\n",
       "\t<li>'경기도 용인시 기흥구 (4146300000)'</li>\n",
       "\t<li>'경기도 용인시 수지구 (4146500000)'</li>\n",
       "\t<li>'경기도 파주시 (4148000000)'</li>\n",
       "\t<li>'경기도 이천시 (4150000000)'</li>\n",
       "\t<li>'경기도 안성시 (4155000000)'</li>\n",
       "\t<li>'경기도 김포시 (4157000000)'</li>\n",
       "\t<li>'경기도 화성시 (4159000000)'</li>\n",
       "\t<li>'경기도 광주시 (4161000000)'</li>\n",
       "\t<li>'경기도 양주시 (4163000000)'</li>\n",
       "\t<li>'경기도 포천시 (4165000000)'</li>\n",
       "\t<li>'경기도 여주시 (4167000000)'</li>\n",
       "\t<li>'경기도 연천군 (4180000000)'</li>\n",
       "\t<li>'경기도 가평군 (4182000000)'</li>\n",
       "\t<li>'경기도 양평군 (4183000000)'</li>\n",
       "\t<li><span style=white-space:pre-wrap>'강원도  (4200000000)'</span></li>\n",
       "\t<li>'강원도 춘천시 (4211000000)'</li>\n",
       "\t<li>'강원도 원주시 (4213000000)'</li>\n",
       "\t<li>'강원도 강릉시 (4215000000)'</li>\n",
       "\t<li>'강원도 동해시 (4217000000)'</li>\n",
       "\t<li>'강원도 태백시 (4219000000)'</li>\n",
       "\t<li>'강원도 속초시 (4221000000)'</li>\n",
       "\t<li>'강원도 삼척시 (4223000000)'</li>\n",
       "\t<li>'강원도 홍천군 (4272000000)'</li>\n",
       "\t<li>'강원도 횡성군 (4273000000)'</li>\n",
       "\t<li>'강원도 영월군 (4275000000)'</li>\n",
       "\t<li>'강원도 평창군 (4276000000)'</li>\n",
       "\t<li>'강원도 정선군 (4277000000)'</li>\n",
       "\t<li>'강원도 철원군 (4278000000)'</li>\n",
       "\t<li>'강원도 화천군 (4279000000)'</li>\n",
       "\t<li>'강원도 양구군 (4280000000)'</li>\n",
       "\t<li>'강원도 인제군 (4281000000)'</li>\n",
       "\t<li>'강원도 고성군 (4282000000)'</li>\n",
       "\t<li>'강원도 양양군 (4283000000)'</li>\n",
       "\t<li><span style=white-space:pre-wrap>'충청북도  (4300000000)'</span></li>\n",
       "\t<li>'충청북도 청주시 (4311000000)'</li>\n",
       "\t<li>'충청북도 청주시 상당구 (4311100000)'</li>\n",
       "\t<li>'충청북도 청주시 서원구 (4311200000)'</li>\n",
       "\t<li>'충청북도 청주시 흥덕구 (4311300000)'</li>\n",
       "\t<li>'충청북도 청주시 청원구 (4311400000)'</li>\n",
       "\t<li>'충청북도 충주시 (4313000000)'</li>\n",
       "\t<li>'충청북도 제천시 (4315000000)'</li>\n",
       "\t<li>'충청북도 보은군 (4372000000)'</li>\n",
       "\t<li>'충청북도 옥천군 (4373000000)'</li>\n",
       "\t<li>'충청북도 영동군 (4374000000)'</li>\n",
       "\t<li>'충청북도 증평군 (4374500000)'</li>\n",
       "\t<li>'충청북도 진천군 (4375000000)'</li>\n",
       "\t<li>'충청북도 괴산군 (4376000000)'</li>\n",
       "\t<li>'충청북도 음성군 (4377000000)'</li>\n",
       "\t<li>'충청북도 단양군 (4380000000)'</li>\n",
       "\t<li><span style=white-space:pre-wrap>'충청남도  (4400000000)'</span></li>\n",
       "\t<li>'충청남도 천안시 (4413000000)'</li>\n",
       "\t<li>'충청남도 천안시 동남구 (4413100000)'</li>\n",
       "\t<li>'충청남도 천안시 서북구 (4413300000)'</li>\n",
       "\t<li>'충청남도 공주시 (4415000000)'</li>\n",
       "\t<li>'충청남도 보령시 (4418000000)'</li>\n",
       "\t<li>'충청남도 아산시 (4420000000)'</li>\n",
       "\t<li>'충청남도 서산시 (4421000000)'</li>\n",
       "\t<li>'충청남도 논산시 (4423000000)'</li>\n",
       "\t<li>'충청남도 계룡시 (4425000000)'</li>\n",
       "\t<li>'충청남도 당진시 (4427000000)'</li>\n",
       "\t<li>'충청남도 금산군 (4471000000)'</li>\n",
       "\t<li>'충청남도 부여군 (4476000000)'</li>\n",
       "\t<li>'충청남도 서천군 (4477000000)'</li>\n",
       "\t<li>'충청남도 청양군 (4479000000)'</li>\n",
       "\t<li>'충청남도 홍성군 (4480000000)'</li>\n",
       "\t<li>'충청남도 예산군 (4481000000)'</li>\n",
       "\t<li>'충청남도 태안군 (4482500000)'</li>\n",
       "\t<li><span style=white-space:pre-wrap>'전라북도  (4500000000)'</span></li>\n",
       "\t<li>'전라북도 전주시 (4511000000)'</li>\n",
       "\t<li>'전라북도 전주시 완산구 (4511100000)'</li>\n",
       "\t<li>'전라북도 전주시 덕진구 (4511300000)'</li>\n",
       "\t<li>'전라북도 군산시 (4513000000)'</li>\n",
       "\t<li>'전라북도 익산시 (4514000000)'</li>\n",
       "\t<li>'전라북도 정읍시 (4518000000)'</li>\n",
       "\t<li>'전라북도 남원시 (4519000000)'</li>\n",
       "\t<li>'전라북도 김제시 (4521000000)'</li>\n",
       "\t<li>'전라북도 완주군 (4571000000)'</li>\n",
       "\t<li>'전라북도 진안군 (4572000000)'</li>\n",
       "\t<li>'전라북도 무주군 (4573000000)'</li>\n",
       "\t<li>'전라북도 장수군 (4574000000)'</li>\n",
       "\t<li>'전라북도 임실군 (4575000000)'</li>\n",
       "\t<li>'전라북도 순창군 (4577000000)'</li>\n",
       "\t<li>'전라북도 고창군 (4579000000)'</li>\n",
       "\t<li>'전라북도 부안군 (4580000000)'</li>\n",
       "\t<li><span style=white-space:pre-wrap>'전라남도  (4600000000)'</span></li>\n",
       "\t<li>'전라남도 목포시 (4611000000)'</li>\n",
       "\t<li>'전라남도 여수시 (4613000000)'</li>\n",
       "\t<li>'전라남도 순천시 (4615000000)'</li>\n",
       "\t<li>'전라남도 나주시 (4617000000)'</li>\n",
       "\t<li>'전라남도 광양시 (4623000000)'</li>\n",
       "\t<li>'전라남도 담양군 (4671000000)'</li>\n",
       "\t<li>'전라남도 곡성군 (4672000000)'</li>\n",
       "\t<li>'전라남도 구례군 (4673000000)'</li>\n",
       "\t<li>'전라남도 고흥군 (4677000000)'</li>\n",
       "\t<li>'전라남도 보성군 (4678000000)'</li>\n",
       "\t<li>'전라남도 화순군 (4679000000)'</li>\n",
       "\t<li>'전라남도 장흥군 (4680000000)'</li>\n",
       "\t<li>'전라남도 강진군 (4681000000)'</li>\n",
       "\t<li>'전라남도 해남군 (4682000000)'</li>\n",
       "\t<li>'전라남도 영암군 (4683000000)'</li>\n",
       "\t<li>'전라남도 무안군 (4684000000)'</li>\n",
       "\t<li>'전라남도 함평군 (4686000000)'</li>\n",
       "\t<li>'전라남도 영광군 (4687000000)'</li>\n",
       "\t<li>'전라남도 장성군 (4688000000)'</li>\n",
       "\t<li>'전라남도 완도군 (4689000000)'</li>\n",
       "\t<li>'전라남도 진도군 (4690000000)'</li>\n",
       "\t<li>'전라남도 신안군 (4691000000)'</li>\n",
       "\t<li><span style=white-space:pre-wrap>'경상북도  (4700000000)'</span></li>\n",
       "\t<li>'경상북도 포항시 (4711000000)'</li>\n",
       "\t<li>'경상북도 포항시 남구 (4711100000)'</li>\n",
       "\t<li>'경상북도 포항시 북구 (4711300000)'</li>\n",
       "\t<li>'경상북도 경주시 (4713000000)'</li>\n",
       "\t<li>'경상북도 김천시 (4715000000)'</li>\n",
       "\t<li>'경상북도 안동시 (4717000000)'</li>\n",
       "\t<li>'경상북도 구미시 (4719000000)'</li>\n",
       "\t<li>'경상북도 영주시 (4721000000)'</li>\n",
       "\t<li>'경상북도 영천시 (4723000000)'</li>\n",
       "\t<li>'경상북도 상주시 (4725000000)'</li>\n",
       "\t<li>'경상북도 문경시 (4728000000)'</li>\n",
       "\t<li>'경상북도 경산시 (4729000000)'</li>\n",
       "\t<li>'경상북도 군위군 (4772000000)'</li>\n",
       "\t<li>'경상북도 의성군 (4773000000)'</li>\n",
       "\t<li>'경상북도 청송군 (4775000000)'</li>\n",
       "\t<li>'경상북도 영양군 (4776000000)'</li>\n",
       "\t<li>'경상북도 영덕군 (4777000000)'</li>\n",
       "\t<li>'경상북도 청도군 (4782000000)'</li>\n",
       "\t<li>'경상북도 고령군 (4783000000)'</li>\n",
       "\t<li>'경상북도 성주군 (4784000000)'</li>\n",
       "\t<li>'경상북도 칠곡군 (4785000000)'</li>\n",
       "\t<li>'경상북도 예천군 (4790000000)'</li>\n",
       "\t<li>'경상북도 봉화군 (4792000000)'</li>\n",
       "\t<li>'경상북도 울진군 (4793000000)'</li>\n",
       "\t<li>'경상북도 울릉군 (4794000000)'</li>\n",
       "\t<li><span style=white-space:pre-wrap>'경상남도  (4800000000)'</span></li>\n",
       "\t<li>'경상남도 창원시 (4812000000)'</li>\n",
       "\t<li>'경상남도 창원시 의창구 (4812100000)'</li>\n",
       "\t<li>'경상남도 창원시 성산구 (4812300000)'</li>\n",
       "\t<li>'경상남도 창원시 마산합포구 (4812500000)'</li>\n",
       "\t<li>'경상남도 창원시 마산회원구 (4812700000)'</li>\n",
       "\t<li>'경상남도 창원시 진해구 (4812900000)'</li>\n",
       "\t<li>'경상남도 진주시 (4817000000)'</li>\n",
       "\t<li>'경상남도 통영시 (4822000000)'</li>\n",
       "\t<li>'경상남도 사천시 (4824000000)'</li>\n",
       "\t<li>'경상남도 김해시 (4825000000)'</li>\n",
       "\t<li>'경상남도 밀양시 (4827000000)'</li>\n",
       "\t<li>'경상남도 거제시 (4831000000)'</li>\n",
       "\t<li>'경상남도 양산시 (4833000000)'</li>\n",
       "\t<li>'경상남도 의령군 (4872000000)'</li>\n",
       "\t<li>'경상남도 함안군 (4873000000)'</li>\n",
       "\t<li>'경상남도 창녕군 (4874000000)'</li>\n",
       "\t<li>'경상남도 고성군 (4882000000)'</li>\n",
       "\t<li>'경상남도 남해군 (4884000000)'</li>\n",
       "\t<li>'경상남도 하동군 (4885000000)'</li>\n",
       "\t<li>'경상남도 산청군 (4886000000)'</li>\n",
       "\t<li>'경상남도 함양군 (4887000000)'</li>\n",
       "\t<li>'경상남도 거창군 (4888000000)'</li>\n",
       "\t<li>'경상남도 합천군 (4889000000)'</li>\n",
       "\t<li><span style=white-space:pre-wrap>'제주특별자치도  (5000000000)'</span></li>\n",
       "\t<li>'제주특별자치도 제주시 (5011000000)'</li>\n",
       "\t<li>'제주특별자치도 서귀포시 (5013000000)'</li>\n",
       "</ol>\n"
      ],
      "text/latex": [
       "\\begin{enumerate*}\n",
       "\\item '서울특별시  (1100000000)'\n",
       "\\item '서울특별시 종로구 (1111000000)'\n",
       "\\item '서울특별시 중구 (1114000000)'\n",
       "\\item '서울특별시 용산구 (1117000000)'\n",
       "\\item '서울특별시 성동구 (1120000000)'\n",
       "\\item '서울특별시 광진구 (1121500000)'\n",
       "\\item '서울특별시 동대문구 (1123000000)'\n",
       "\\item '서울특별시 중랑구 (1126000000)'\n",
       "\\item '서울특별시 성북구 (1129000000)'\n",
       "\\item '서울특별시 강북구 (1130500000)'\n",
       "\\item '서울특별시 도봉구 (1132000000)'\n",
       "\\item '서울특별시 노원구 (1135000000)'\n",
       "\\item '서울특별시 은평구 (1138000000)'\n",
       "\\item '서울특별시 서대문구 (1141000000)'\n",
       "\\item '서울특별시 마포구 (1144000000)'\n",
       "\\item '서울특별시 양천구 (1147000000)'\n",
       "\\item '서울특별시 강서구 (1150000000)'\n",
       "\\item '서울특별시 구로구 (1153000000)'\n",
       "\\item '서울특별시 금천구 (1154500000)'\n",
       "\\item '서울특별시 영등포구 (1156000000)'\n",
       "\\item '서울특별시 동작구 (1159000000)'\n",
       "\\item '서울특별시 관악구 (1162000000)'\n",
       "\\item '서울특별시 서초구 (1165000000)'\n",
       "\\item '서울특별시 강남구 (1168000000)'\n",
       "\\item '서울특별시 송파구 (1171000000)'\n",
       "\\item '서울특별시 강동구 (1174000000)'\n",
       "\\item '부산광역시  (2600000000)'\n",
       "\\item '부산광역시 중구 (2611000000)'\n",
       "\\item '부산광역시 서구 (2614000000)'\n",
       "\\item '부산광역시 동구 (2617000000)'\n",
       "\\item '부산광역시 영도구 (2620000000)'\n",
       "\\item '부산광역시 부산진구 (2623000000)'\n",
       "\\item '부산광역시 동래구 (2626000000)'\n",
       "\\item '부산광역시 남구 (2629000000)'\n",
       "\\item '부산광역시 북구 (2632000000)'\n",
       "\\item '부산광역시 해운대구 (2635000000)'\n",
       "\\item '부산광역시 사하구 (2638000000)'\n",
       "\\item '부산광역시 금정구 (2641000000)'\n",
       "\\item '부산광역시 강서구 (2644000000)'\n",
       "\\item '부산광역시 연제구 (2647000000)'\n",
       "\\item '부산광역시 수영구 (2650000000)'\n",
       "\\item '부산광역시 사상구 (2653000000)'\n",
       "\\item '부산광역시 기장군 (2671000000)'\n",
       "\\item '대구광역시  (2700000000)'\n",
       "\\item '대구광역시 중구 (2711000000)'\n",
       "\\item '대구광역시 동구 (2714000000)'\n",
       "\\item '대구광역시 서구 (2717000000)'\n",
       "\\item '대구광역시 남구 (2720000000)'\n",
       "\\item '대구광역시 북구 (2723000000)'\n",
       "\\item '대구광역시 수성구 (2726000000)'\n",
       "\\item '대구광역시 달서구 (2729000000)'\n",
       "\\item '대구광역시 달성군 (2771000000)'\n",
       "\\item '인천광역시  (2800000000)'\n",
       "\\item '인천광역시 중구 (2811000000)'\n",
       "\\item '인천광역시 동구 (2814000000)'\n",
       "\\item '인천광역시 남구 (2817000000)'\n",
       "\\item '인천광역시 연수구 (2818500000)'\n",
       "\\item '인천광역시 남동구 (2820000000)'\n",
       "\\item '인천광역시 부평구 (2823700000)'\n",
       "\\item '인천광역시 계양구 (2824500000)'\n",
       "\\item '인천광역시 서구 (2826000000)'\n",
       "\\item '인천광역시 강화군 (2871000000)'\n",
       "\\item '인천광역시 옹진군 (2872000000)'\n",
       "\\item '광주광역시  (2900000000)'\n",
       "\\item '광주광역시 동구 (2911000000)'\n",
       "\\item '광주광역시 서구 (2914000000)'\n",
       "\\item '광주광역시 남구 (2915500000)'\n",
       "\\item '광주광역시 북구 (2917000000)'\n",
       "\\item '광주광역시 광산구 (2920000000)'\n",
       "\\item '대전광역시  (3000000000)'\n",
       "\\item '대전광역시 동구 (3011000000)'\n",
       "\\item '대전광역시 중구 (3014000000)'\n",
       "\\item '대전광역시 서구 (3017000000)'\n",
       "\\item '대전광역시 유성구 (3020000000)'\n",
       "\\item '대전광역시 대덕구 (3023000000)'\n",
       "\\item '울산광역시  (3100000000)'\n",
       "\\item '울산광역시 중구 (3111000000)'\n",
       "\\item '울산광역시 남구 (3114000000)'\n",
       "\\item '울산광역시 동구 (3117000000)'\n",
       "\\item '울산광역시 북구 (3120000000)'\n",
       "\\item '울산광역시 울주군 (3171000000)'\n",
       "\\item '세종특별자치시  (3600000000)'\n",
       "\\item '세종특별자치시  (3611000000)'\n",
       "\\item '경기도  (4100000000)'\n",
       "\\item '경기도 수원시 (4111000000)'\n",
       "\\item '경기도 수원시 장안구 (4111100000)'\n",
       "\\item '경기도 수원시 권선구 (4111300000)'\n",
       "\\item '경기도 수원시 팔달구 (4111500000)'\n",
       "\\item '경기도 수원시 영통구 (4111700000)'\n",
       "\\item '경기도 성남시 (4113000000)'\n",
       "\\item '경기도 성남시 수정구 (4113100000)'\n",
       "\\item '경기도 성남시 중원구 (4113300000)'\n",
       "\\item '경기도 성남시 분당구 (4113500000)'\n",
       "\\item '경기도 의정부시 (4115000000)'\n",
       "\\item '경기도 안양시 (4117000000)'\n",
       "\\item '경기도 안양시 만안구 (4117100000)'\n",
       "\\item '경기도 안양시 동안구 (4117300000)'\n",
       "\\item '경기도 부천시 (4119000000)'\n",
       "\\item '경기도 부천시 원미구 (4119500000)'\n",
       "\\item '경기도 부천시 소사구 (4119700000)'\n",
       "\\item '경기도 부천시 오정구 (4119900000)'\n",
       "\\item '경기도 광명시 (4121000000)'\n",
       "\\item '경기도 평택시 (4122000000)'\n",
       "\\item '경기도 동두천시 (4125000000)'\n",
       "\\item '경기도 안산시 (4127000000)'\n",
       "\\item '경기도 안산시 상록구 (4127100000)'\n",
       "\\item '경기도 안산시 단원구 (4127300000)'\n",
       "\\item '경기도 고양시 (4128000000)'\n",
       "\\item '경기도 고양시 덕양구 (4128100000)'\n",
       "\\item '경기도 고양시 일산동구 (4128500000)'\n",
       "\\item '경기도 고양시 일산서구 (4128700000)'\n",
       "\\item '경기도 과천시 (4129000000)'\n",
       "\\item '경기도 구리시 (4131000000)'\n",
       "\\item '경기도 남양주시 (4136000000)'\n",
       "\\item '경기도 오산시 (4137000000)'\n",
       "\\item '경기도 시흥시 (4139000000)'\n",
       "\\item '경기도 군포시 (4141000000)'\n",
       "\\item '경기도 의왕시 (4143000000)'\n",
       "\\item '경기도 하남시 (4145000000)'\n",
       "\\item '경기도 용인시 (4146000000)'\n",
       "\\item '경기도 용인시 처인구 (4146100000)'\n",
       "\\item '경기도 용인시 기흥구 (4146300000)'\n",
       "\\item '경기도 용인시 수지구 (4146500000)'\n",
       "\\item '경기도 파주시 (4148000000)'\n",
       "\\item '경기도 이천시 (4150000000)'\n",
       "\\item '경기도 안성시 (4155000000)'\n",
       "\\item '경기도 김포시 (4157000000)'\n",
       "\\item '경기도 화성시 (4159000000)'\n",
       "\\item '경기도 광주시 (4161000000)'\n",
       "\\item '경기도 양주시 (4163000000)'\n",
       "\\item '경기도 포천시 (4165000000)'\n",
       "\\item '경기도 여주시 (4167000000)'\n",
       "\\item '경기도 연천군 (4180000000)'\n",
       "\\item '경기도 가평군 (4182000000)'\n",
       "\\item '경기도 양평군 (4183000000)'\n",
       "\\item '강원도  (4200000000)'\n",
       "\\item '강원도 춘천시 (4211000000)'\n",
       "\\item '강원도 원주시 (4213000000)'\n",
       "\\item '강원도 강릉시 (4215000000)'\n",
       "\\item '강원도 동해시 (4217000000)'\n",
       "\\item '강원도 태백시 (4219000000)'\n",
       "\\item '강원도 속초시 (4221000000)'\n",
       "\\item '강원도 삼척시 (4223000000)'\n",
       "\\item '강원도 홍천군 (4272000000)'\n",
       "\\item '강원도 횡성군 (4273000000)'\n",
       "\\item '강원도 영월군 (4275000000)'\n",
       "\\item '강원도 평창군 (4276000000)'\n",
       "\\item '강원도 정선군 (4277000000)'\n",
       "\\item '강원도 철원군 (4278000000)'\n",
       "\\item '강원도 화천군 (4279000000)'\n",
       "\\item '강원도 양구군 (4280000000)'\n",
       "\\item '강원도 인제군 (4281000000)'\n",
       "\\item '강원도 고성군 (4282000000)'\n",
       "\\item '강원도 양양군 (4283000000)'\n",
       "\\item '충청북도  (4300000000)'\n",
       "\\item '충청북도 청주시 (4311000000)'\n",
       "\\item '충청북도 청주시 상당구 (4311100000)'\n",
       "\\item '충청북도 청주시 서원구 (4311200000)'\n",
       "\\item '충청북도 청주시 흥덕구 (4311300000)'\n",
       "\\item '충청북도 청주시 청원구 (4311400000)'\n",
       "\\item '충청북도 충주시 (4313000000)'\n",
       "\\item '충청북도 제천시 (4315000000)'\n",
       "\\item '충청북도 보은군 (4372000000)'\n",
       "\\item '충청북도 옥천군 (4373000000)'\n",
       "\\item '충청북도 영동군 (4374000000)'\n",
       "\\item '충청북도 증평군 (4374500000)'\n",
       "\\item '충청북도 진천군 (4375000000)'\n",
       "\\item '충청북도 괴산군 (4376000000)'\n",
       "\\item '충청북도 음성군 (4377000000)'\n",
       "\\item '충청북도 단양군 (4380000000)'\n",
       "\\item '충청남도  (4400000000)'\n",
       "\\item '충청남도 천안시 (4413000000)'\n",
       "\\item '충청남도 천안시 동남구 (4413100000)'\n",
       "\\item '충청남도 천안시 서북구 (4413300000)'\n",
       "\\item '충청남도 공주시 (4415000000)'\n",
       "\\item '충청남도 보령시 (4418000000)'\n",
       "\\item '충청남도 아산시 (4420000000)'\n",
       "\\item '충청남도 서산시 (4421000000)'\n",
       "\\item '충청남도 논산시 (4423000000)'\n",
       "\\item '충청남도 계룡시 (4425000000)'\n",
       "\\item '충청남도 당진시 (4427000000)'\n",
       "\\item '충청남도 금산군 (4471000000)'\n",
       "\\item '충청남도 부여군 (4476000000)'\n",
       "\\item '충청남도 서천군 (4477000000)'\n",
       "\\item '충청남도 청양군 (4479000000)'\n",
       "\\item '충청남도 홍성군 (4480000000)'\n",
       "\\item '충청남도 예산군 (4481000000)'\n",
       "\\item '충청남도 태안군 (4482500000)'\n",
       "\\item '전라북도  (4500000000)'\n",
       "\\item '전라북도 전주시 (4511000000)'\n",
       "\\item '전라북도 전주시 완산구 (4511100000)'\n",
       "\\item '전라북도 전주시 덕진구 (4511300000)'\n",
       "\\item '전라북도 군산시 (4513000000)'\n",
       "\\item '전라북도 익산시 (4514000000)'\n",
       "\\item '전라북도 정읍시 (4518000000)'\n",
       "\\item '전라북도 남원시 (4519000000)'\n",
       "\\item '전라북도 김제시 (4521000000)'\n",
       "\\item '전라북도 완주군 (4571000000)'\n",
       "\\item '전라북도 진안군 (4572000000)'\n",
       "\\item '전라북도 무주군 (4573000000)'\n",
       "\\item '전라북도 장수군 (4574000000)'\n",
       "\\item '전라북도 임실군 (4575000000)'\n",
       "\\item '전라북도 순창군 (4577000000)'\n",
       "\\item '전라북도 고창군 (4579000000)'\n",
       "\\item '전라북도 부안군 (4580000000)'\n",
       "\\item '전라남도  (4600000000)'\n",
       "\\item '전라남도 목포시 (4611000000)'\n",
       "\\item '전라남도 여수시 (4613000000)'\n",
       "\\item '전라남도 순천시 (4615000000)'\n",
       "\\item '전라남도 나주시 (4617000000)'\n",
       "\\item '전라남도 광양시 (4623000000)'\n",
       "\\item '전라남도 담양군 (4671000000)'\n",
       "\\item '전라남도 곡성군 (4672000000)'\n",
       "\\item '전라남도 구례군 (4673000000)'\n",
       "\\item '전라남도 고흥군 (4677000000)'\n",
       "\\item '전라남도 보성군 (4678000000)'\n",
       "\\item '전라남도 화순군 (4679000000)'\n",
       "\\item '전라남도 장흥군 (4680000000)'\n",
       "\\item '전라남도 강진군 (4681000000)'\n",
       "\\item '전라남도 해남군 (4682000000)'\n",
       "\\item '전라남도 영암군 (4683000000)'\n",
       "\\item '전라남도 무안군 (4684000000)'\n",
       "\\item '전라남도 함평군 (4686000000)'\n",
       "\\item '전라남도 영광군 (4687000000)'\n",
       "\\item '전라남도 장성군 (4688000000)'\n",
       "\\item '전라남도 완도군 (4689000000)'\n",
       "\\item '전라남도 진도군 (4690000000)'\n",
       "\\item '전라남도 신안군 (4691000000)'\n",
       "\\item '경상북도  (4700000000)'\n",
       "\\item '경상북도 포항시 (4711000000)'\n",
       "\\item '경상북도 포항시 남구 (4711100000)'\n",
       "\\item '경상북도 포항시 북구 (4711300000)'\n",
       "\\item '경상북도 경주시 (4713000000)'\n",
       "\\item '경상북도 김천시 (4715000000)'\n",
       "\\item '경상북도 안동시 (4717000000)'\n",
       "\\item '경상북도 구미시 (4719000000)'\n",
       "\\item '경상북도 영주시 (4721000000)'\n",
       "\\item '경상북도 영천시 (4723000000)'\n",
       "\\item '경상북도 상주시 (4725000000)'\n",
       "\\item '경상북도 문경시 (4728000000)'\n",
       "\\item '경상북도 경산시 (4729000000)'\n",
       "\\item '경상북도 군위군 (4772000000)'\n",
       "\\item '경상북도 의성군 (4773000000)'\n",
       "\\item '경상북도 청송군 (4775000000)'\n",
       "\\item '경상북도 영양군 (4776000000)'\n",
       "\\item '경상북도 영덕군 (4777000000)'\n",
       "\\item '경상북도 청도군 (4782000000)'\n",
       "\\item '경상북도 고령군 (4783000000)'\n",
       "\\item '경상북도 성주군 (4784000000)'\n",
       "\\item '경상북도 칠곡군 (4785000000)'\n",
       "\\item '경상북도 예천군 (4790000000)'\n",
       "\\item '경상북도 봉화군 (4792000000)'\n",
       "\\item '경상북도 울진군 (4793000000)'\n",
       "\\item '경상북도 울릉군 (4794000000)'\n",
       "\\item '경상남도  (4800000000)'\n",
       "\\item '경상남도 창원시 (4812000000)'\n",
       "\\item '경상남도 창원시 의창구 (4812100000)'\n",
       "\\item '경상남도 창원시 성산구 (4812300000)'\n",
       "\\item '경상남도 창원시 마산합포구 (4812500000)'\n",
       "\\item '경상남도 창원시 마산회원구 (4812700000)'\n",
       "\\item '경상남도 창원시 진해구 (4812900000)'\n",
       "\\item '경상남도 진주시 (4817000000)'\n",
       "\\item '경상남도 통영시 (4822000000)'\n",
       "\\item '경상남도 사천시 (4824000000)'\n",
       "\\item '경상남도 김해시 (4825000000)'\n",
       "\\item '경상남도 밀양시 (4827000000)'\n",
       "\\item '경상남도 거제시 (4831000000)'\n",
       "\\item '경상남도 양산시 (4833000000)'\n",
       "\\item '경상남도 의령군 (4872000000)'\n",
       "\\item '경상남도 함안군 (4873000000)'\n",
       "\\item '경상남도 창녕군 (4874000000)'\n",
       "\\item '경상남도 고성군 (4882000000)'\n",
       "\\item '경상남도 남해군 (4884000000)'\n",
       "\\item '경상남도 하동군 (4885000000)'\n",
       "\\item '경상남도 산청군 (4886000000)'\n",
       "\\item '경상남도 함양군 (4887000000)'\n",
       "\\item '경상남도 거창군 (4888000000)'\n",
       "\\item '경상남도 합천군 (4889000000)'\n",
       "\\item '제주특별자치도  (5000000000)'\n",
       "\\item '제주특별자치도 제주시 (5011000000)'\n",
       "\\item '제주특별자치도 서귀포시 (5013000000)'\n",
       "\\end{enumerate*}\n"
      ],
      "text/markdown": [
       "1. <span style=white-space:pre-wrap>'서울특별시  (1100000000)'</span>\n",
       "2. '서울특별시 종로구 (1111000000)'\n",
       "3. '서울특별시 중구 (1114000000)'\n",
       "4. '서울특별시 용산구 (1117000000)'\n",
       "5. '서울특별시 성동구 (1120000000)'\n",
       "6. '서울특별시 광진구 (1121500000)'\n",
       "7. '서울특별시 동대문구 (1123000000)'\n",
       "8. '서울특별시 중랑구 (1126000000)'\n",
       "9. '서울특별시 성북구 (1129000000)'\n",
       "10. '서울특별시 강북구 (1130500000)'\n",
       "11. '서울특별시 도봉구 (1132000000)'\n",
       "12. '서울특별시 노원구 (1135000000)'\n",
       "13. '서울특별시 은평구 (1138000000)'\n",
       "14. '서울특별시 서대문구 (1141000000)'\n",
       "15. '서울특별시 마포구 (1144000000)'\n",
       "16. '서울특별시 양천구 (1147000000)'\n",
       "17. '서울특별시 강서구 (1150000000)'\n",
       "18. '서울특별시 구로구 (1153000000)'\n",
       "19. '서울특별시 금천구 (1154500000)'\n",
       "20. '서울특별시 영등포구 (1156000000)'\n",
       "21. '서울특별시 동작구 (1159000000)'\n",
       "22. '서울특별시 관악구 (1162000000)'\n",
       "23. '서울특별시 서초구 (1165000000)'\n",
       "24. '서울특별시 강남구 (1168000000)'\n",
       "25. '서울특별시 송파구 (1171000000)'\n",
       "26. '서울특별시 강동구 (1174000000)'\n",
       "27. <span style=white-space:pre-wrap>'부산광역시  (2600000000)'</span>\n",
       "28. '부산광역시 중구 (2611000000)'\n",
       "29. '부산광역시 서구 (2614000000)'\n",
       "30. '부산광역시 동구 (2617000000)'\n",
       "31. '부산광역시 영도구 (2620000000)'\n",
       "32. '부산광역시 부산진구 (2623000000)'\n",
       "33. '부산광역시 동래구 (2626000000)'\n",
       "34. '부산광역시 남구 (2629000000)'\n",
       "35. '부산광역시 북구 (2632000000)'\n",
       "36. '부산광역시 해운대구 (2635000000)'\n",
       "37. '부산광역시 사하구 (2638000000)'\n",
       "38. '부산광역시 금정구 (2641000000)'\n",
       "39. '부산광역시 강서구 (2644000000)'\n",
       "40. '부산광역시 연제구 (2647000000)'\n",
       "41. '부산광역시 수영구 (2650000000)'\n",
       "42. '부산광역시 사상구 (2653000000)'\n",
       "43. '부산광역시 기장군 (2671000000)'\n",
       "44. <span style=white-space:pre-wrap>'대구광역시  (2700000000)'</span>\n",
       "45. '대구광역시 중구 (2711000000)'\n",
       "46. '대구광역시 동구 (2714000000)'\n",
       "47. '대구광역시 서구 (2717000000)'\n",
       "48. '대구광역시 남구 (2720000000)'\n",
       "49. '대구광역시 북구 (2723000000)'\n",
       "50. '대구광역시 수성구 (2726000000)'\n",
       "51. '대구광역시 달서구 (2729000000)'\n",
       "52. '대구광역시 달성군 (2771000000)'\n",
       "53. <span style=white-space:pre-wrap>'인천광역시  (2800000000)'</span>\n",
       "54. '인천광역시 중구 (2811000000)'\n",
       "55. '인천광역시 동구 (2814000000)'\n",
       "56. '인천광역시 남구 (2817000000)'\n",
       "57. '인천광역시 연수구 (2818500000)'\n",
       "58. '인천광역시 남동구 (2820000000)'\n",
       "59. '인천광역시 부평구 (2823700000)'\n",
       "60. '인천광역시 계양구 (2824500000)'\n",
       "61. '인천광역시 서구 (2826000000)'\n",
       "62. '인천광역시 강화군 (2871000000)'\n",
       "63. '인천광역시 옹진군 (2872000000)'\n",
       "64. <span style=white-space:pre-wrap>'광주광역시  (2900000000)'</span>\n",
       "65. '광주광역시 동구 (2911000000)'\n",
       "66. '광주광역시 서구 (2914000000)'\n",
       "67. '광주광역시 남구 (2915500000)'\n",
       "68. '광주광역시 북구 (2917000000)'\n",
       "69. '광주광역시 광산구 (2920000000)'\n",
       "70. <span style=white-space:pre-wrap>'대전광역시  (3000000000)'</span>\n",
       "71. '대전광역시 동구 (3011000000)'\n",
       "72. '대전광역시 중구 (3014000000)'\n",
       "73. '대전광역시 서구 (3017000000)'\n",
       "74. '대전광역시 유성구 (3020000000)'\n",
       "75. '대전광역시 대덕구 (3023000000)'\n",
       "76. <span style=white-space:pre-wrap>'울산광역시  (3100000000)'</span>\n",
       "77. '울산광역시 중구 (3111000000)'\n",
       "78. '울산광역시 남구 (3114000000)'\n",
       "79. '울산광역시 동구 (3117000000)'\n",
       "80. '울산광역시 북구 (3120000000)'\n",
       "81. '울산광역시 울주군 (3171000000)'\n",
       "82. <span style=white-space:pre-wrap>'세종특별자치시  (3600000000)'</span>\n",
       "83. <span style=white-space:pre-wrap>'세종특별자치시  (3611000000)'</span>\n",
       "84. <span style=white-space:pre-wrap>'경기도  (4100000000)'</span>\n",
       "85. '경기도 수원시 (4111000000)'\n",
       "86. '경기도 수원시 장안구 (4111100000)'\n",
       "87. '경기도 수원시 권선구 (4111300000)'\n",
       "88. '경기도 수원시 팔달구 (4111500000)'\n",
       "89. '경기도 수원시 영통구 (4111700000)'\n",
       "90. '경기도 성남시 (4113000000)'\n",
       "91. '경기도 성남시 수정구 (4113100000)'\n",
       "92. '경기도 성남시 중원구 (4113300000)'\n",
       "93. '경기도 성남시 분당구 (4113500000)'\n",
       "94. '경기도 의정부시 (4115000000)'\n",
       "95. '경기도 안양시 (4117000000)'\n",
       "96. '경기도 안양시 만안구 (4117100000)'\n",
       "97. '경기도 안양시 동안구 (4117300000)'\n",
       "98. '경기도 부천시 (4119000000)'\n",
       "99. '경기도 부천시 원미구 (4119500000)'\n",
       "100. '경기도 부천시 소사구 (4119700000)'\n",
       "101. '경기도 부천시 오정구 (4119900000)'\n",
       "102. '경기도 광명시 (4121000000)'\n",
       "103. '경기도 평택시 (4122000000)'\n",
       "104. '경기도 동두천시 (4125000000)'\n",
       "105. '경기도 안산시 (4127000000)'\n",
       "106. '경기도 안산시 상록구 (4127100000)'\n",
       "107. '경기도 안산시 단원구 (4127300000)'\n",
       "108. '경기도 고양시 (4128000000)'\n",
       "109. '경기도 고양시 덕양구 (4128100000)'\n",
       "110. '경기도 고양시 일산동구 (4128500000)'\n",
       "111. '경기도 고양시 일산서구 (4128700000)'\n",
       "112. '경기도 과천시 (4129000000)'\n",
       "113. '경기도 구리시 (4131000000)'\n",
       "114. '경기도 남양주시 (4136000000)'\n",
       "115. '경기도 오산시 (4137000000)'\n",
       "116. '경기도 시흥시 (4139000000)'\n",
       "117. '경기도 군포시 (4141000000)'\n",
       "118. '경기도 의왕시 (4143000000)'\n",
       "119. '경기도 하남시 (4145000000)'\n",
       "120. '경기도 용인시 (4146000000)'\n",
       "121. '경기도 용인시 처인구 (4146100000)'\n",
       "122. '경기도 용인시 기흥구 (4146300000)'\n",
       "123. '경기도 용인시 수지구 (4146500000)'\n",
       "124. '경기도 파주시 (4148000000)'\n",
       "125. '경기도 이천시 (4150000000)'\n",
       "126. '경기도 안성시 (4155000000)'\n",
       "127. '경기도 김포시 (4157000000)'\n",
       "128. '경기도 화성시 (4159000000)'\n",
       "129. '경기도 광주시 (4161000000)'\n",
       "130. '경기도 양주시 (4163000000)'\n",
       "131. '경기도 포천시 (4165000000)'\n",
       "132. '경기도 여주시 (4167000000)'\n",
       "133. '경기도 연천군 (4180000000)'\n",
       "134. '경기도 가평군 (4182000000)'\n",
       "135. '경기도 양평군 (4183000000)'\n",
       "136. <span style=white-space:pre-wrap>'강원도  (4200000000)'</span>\n",
       "137. '강원도 춘천시 (4211000000)'\n",
       "138. '강원도 원주시 (4213000000)'\n",
       "139. '강원도 강릉시 (4215000000)'\n",
       "140. '강원도 동해시 (4217000000)'\n",
       "141. '강원도 태백시 (4219000000)'\n",
       "142. '강원도 속초시 (4221000000)'\n",
       "143. '강원도 삼척시 (4223000000)'\n",
       "144. '강원도 홍천군 (4272000000)'\n",
       "145. '강원도 횡성군 (4273000000)'\n",
       "146. '강원도 영월군 (4275000000)'\n",
       "147. '강원도 평창군 (4276000000)'\n",
       "148. '강원도 정선군 (4277000000)'\n",
       "149. '강원도 철원군 (4278000000)'\n",
       "150. '강원도 화천군 (4279000000)'\n",
       "151. '강원도 양구군 (4280000000)'\n",
       "152. '강원도 인제군 (4281000000)'\n",
       "153. '강원도 고성군 (4282000000)'\n",
       "154. '강원도 양양군 (4283000000)'\n",
       "155. <span style=white-space:pre-wrap>'충청북도  (4300000000)'</span>\n",
       "156. '충청북도 청주시 (4311000000)'\n",
       "157. '충청북도 청주시 상당구 (4311100000)'\n",
       "158. '충청북도 청주시 서원구 (4311200000)'\n",
       "159. '충청북도 청주시 흥덕구 (4311300000)'\n",
       "160. '충청북도 청주시 청원구 (4311400000)'\n",
       "161. '충청북도 충주시 (4313000000)'\n",
       "162. '충청북도 제천시 (4315000000)'\n",
       "163. '충청북도 보은군 (4372000000)'\n",
       "164. '충청북도 옥천군 (4373000000)'\n",
       "165. '충청북도 영동군 (4374000000)'\n",
       "166. '충청북도 증평군 (4374500000)'\n",
       "167. '충청북도 진천군 (4375000000)'\n",
       "168. '충청북도 괴산군 (4376000000)'\n",
       "169. '충청북도 음성군 (4377000000)'\n",
       "170. '충청북도 단양군 (4380000000)'\n",
       "171. <span style=white-space:pre-wrap>'충청남도  (4400000000)'</span>\n",
       "172. '충청남도 천안시 (4413000000)'\n",
       "173. '충청남도 천안시 동남구 (4413100000)'\n",
       "174. '충청남도 천안시 서북구 (4413300000)'\n",
       "175. '충청남도 공주시 (4415000000)'\n",
       "176. '충청남도 보령시 (4418000000)'\n",
       "177. '충청남도 아산시 (4420000000)'\n",
       "178. '충청남도 서산시 (4421000000)'\n",
       "179. '충청남도 논산시 (4423000000)'\n",
       "180. '충청남도 계룡시 (4425000000)'\n",
       "181. '충청남도 당진시 (4427000000)'\n",
       "182. '충청남도 금산군 (4471000000)'\n",
       "183. '충청남도 부여군 (4476000000)'\n",
       "184. '충청남도 서천군 (4477000000)'\n",
       "185. '충청남도 청양군 (4479000000)'\n",
       "186. '충청남도 홍성군 (4480000000)'\n",
       "187. '충청남도 예산군 (4481000000)'\n",
       "188. '충청남도 태안군 (4482500000)'\n",
       "189. <span style=white-space:pre-wrap>'전라북도  (4500000000)'</span>\n",
       "190. '전라북도 전주시 (4511000000)'\n",
       "191. '전라북도 전주시 완산구 (4511100000)'\n",
       "192. '전라북도 전주시 덕진구 (4511300000)'\n",
       "193. '전라북도 군산시 (4513000000)'\n",
       "194. '전라북도 익산시 (4514000000)'\n",
       "195. '전라북도 정읍시 (4518000000)'\n",
       "196. '전라북도 남원시 (4519000000)'\n",
       "197. '전라북도 김제시 (4521000000)'\n",
       "198. '전라북도 완주군 (4571000000)'\n",
       "199. '전라북도 진안군 (4572000000)'\n",
       "200. '전라북도 무주군 (4573000000)'\n",
       "201. '전라북도 장수군 (4574000000)'\n",
       "202. '전라북도 임실군 (4575000000)'\n",
       "203. '전라북도 순창군 (4577000000)'\n",
       "204. '전라북도 고창군 (4579000000)'\n",
       "205. '전라북도 부안군 (4580000000)'\n",
       "206. <span style=white-space:pre-wrap>'전라남도  (4600000000)'</span>\n",
       "207. '전라남도 목포시 (4611000000)'\n",
       "208. '전라남도 여수시 (4613000000)'\n",
       "209. '전라남도 순천시 (4615000000)'\n",
       "210. '전라남도 나주시 (4617000000)'\n",
       "211. '전라남도 광양시 (4623000000)'\n",
       "212. '전라남도 담양군 (4671000000)'\n",
       "213. '전라남도 곡성군 (4672000000)'\n",
       "214. '전라남도 구례군 (4673000000)'\n",
       "215. '전라남도 고흥군 (4677000000)'\n",
       "216. '전라남도 보성군 (4678000000)'\n",
       "217. '전라남도 화순군 (4679000000)'\n",
       "218. '전라남도 장흥군 (4680000000)'\n",
       "219. '전라남도 강진군 (4681000000)'\n",
       "220. '전라남도 해남군 (4682000000)'\n",
       "221. '전라남도 영암군 (4683000000)'\n",
       "222. '전라남도 무안군 (4684000000)'\n",
       "223. '전라남도 함평군 (4686000000)'\n",
       "224. '전라남도 영광군 (4687000000)'\n",
       "225. '전라남도 장성군 (4688000000)'\n",
       "226. '전라남도 완도군 (4689000000)'\n",
       "227. '전라남도 진도군 (4690000000)'\n",
       "228. '전라남도 신안군 (4691000000)'\n",
       "229. <span style=white-space:pre-wrap>'경상북도  (4700000000)'</span>\n",
       "230. '경상북도 포항시 (4711000000)'\n",
       "231. '경상북도 포항시 남구 (4711100000)'\n",
       "232. '경상북도 포항시 북구 (4711300000)'\n",
       "233. '경상북도 경주시 (4713000000)'\n",
       "234. '경상북도 김천시 (4715000000)'\n",
       "235. '경상북도 안동시 (4717000000)'\n",
       "236. '경상북도 구미시 (4719000000)'\n",
       "237. '경상북도 영주시 (4721000000)'\n",
       "238. '경상북도 영천시 (4723000000)'\n",
       "239. '경상북도 상주시 (4725000000)'\n",
       "240. '경상북도 문경시 (4728000000)'\n",
       "241. '경상북도 경산시 (4729000000)'\n",
       "242. '경상북도 군위군 (4772000000)'\n",
       "243. '경상북도 의성군 (4773000000)'\n",
       "244. '경상북도 청송군 (4775000000)'\n",
       "245. '경상북도 영양군 (4776000000)'\n",
       "246. '경상북도 영덕군 (4777000000)'\n",
       "247. '경상북도 청도군 (4782000000)'\n",
       "248. '경상북도 고령군 (4783000000)'\n",
       "249. '경상북도 성주군 (4784000000)'\n",
       "250. '경상북도 칠곡군 (4785000000)'\n",
       "251. '경상북도 예천군 (4790000000)'\n",
       "252. '경상북도 봉화군 (4792000000)'\n",
       "253. '경상북도 울진군 (4793000000)'\n",
       "254. '경상북도 울릉군 (4794000000)'\n",
       "255. <span style=white-space:pre-wrap>'경상남도  (4800000000)'</span>\n",
       "256. '경상남도 창원시 (4812000000)'\n",
       "257. '경상남도 창원시 의창구 (4812100000)'\n",
       "258. '경상남도 창원시 성산구 (4812300000)'\n",
       "259. '경상남도 창원시 마산합포구 (4812500000)'\n",
       "260. '경상남도 창원시 마산회원구 (4812700000)'\n",
       "261. '경상남도 창원시 진해구 (4812900000)'\n",
       "262. '경상남도 진주시 (4817000000)'\n",
       "263. '경상남도 통영시 (4822000000)'\n",
       "264. '경상남도 사천시 (4824000000)'\n",
       "265. '경상남도 김해시 (4825000000)'\n",
       "266. '경상남도 밀양시 (4827000000)'\n",
       "267. '경상남도 거제시 (4831000000)'\n",
       "268. '경상남도 양산시 (4833000000)'\n",
       "269. '경상남도 의령군 (4872000000)'\n",
       "270. '경상남도 함안군 (4873000000)'\n",
       "271. '경상남도 창녕군 (4874000000)'\n",
       "272. '경상남도 고성군 (4882000000)'\n",
       "273. '경상남도 남해군 (4884000000)'\n",
       "274. '경상남도 하동군 (4885000000)'\n",
       "275. '경상남도 산청군 (4886000000)'\n",
       "276. '경상남도 함양군 (4887000000)'\n",
       "277. '경상남도 거창군 (4888000000)'\n",
       "278. '경상남도 합천군 (4889000000)'\n",
       "279. <span style=white-space:pre-wrap>'제주특별자치도  (5000000000)'</span>\n",
       "280. '제주특별자치도 제주시 (5011000000)'\n",
       "281. '제주특별자치도 서귀포시 (5013000000)'\n",
       "\n",
       "\n"
      ],
      "text/plain": [
       "  [1] \"서울특별시  (1100000000)\"               \n",
       "  [2] \"서울특별시 종로구 (1111000000)\"         \n",
       "  [3] \"서울특별시 중구 (1114000000)\"           \n",
       "  [4] \"서울특별시 용산구 (1117000000)\"         \n",
       "  [5] \"서울특별시 성동구 (1120000000)\"         \n",
       "  [6] \"서울특별시 광진구 (1121500000)\"         \n",
       "  [7] \"서울특별시 동대문구 (1123000000)\"       \n",
       "  [8] \"서울특별시 중랑구 (1126000000)\"         \n",
       "  [9] \"서울특별시 성북구 (1129000000)\"         \n",
       " [10] \"서울특별시 강북구 (1130500000)\"         \n",
       " [11] \"서울특별시 도봉구 (1132000000)\"         \n",
       " [12] \"서울특별시 노원구 (1135000000)\"         \n",
       " [13] \"서울특별시 은평구 (1138000000)\"         \n",
       " [14] \"서울특별시 서대문구 (1141000000)\"       \n",
       " [15] \"서울특별시 마포구 (1144000000)\"         \n",
       " [16] \"서울특별시 양천구 (1147000000)\"         \n",
       " [17] \"서울특별시 강서구 (1150000000)\"         \n",
       " [18] \"서울특별시 구로구 (1153000000)\"         \n",
       " [19] \"서울특별시 금천구 (1154500000)\"         \n",
       " [20] \"서울특별시 영등포구 (1156000000)\"       \n",
       " [21] \"서울특별시 동작구 (1159000000)\"         \n",
       " [22] \"서울특별시 관악구 (1162000000)\"         \n",
       " [23] \"서울특별시 서초구 (1165000000)\"         \n",
       " [24] \"서울특별시 강남구 (1168000000)\"         \n",
       " [25] \"서울특별시 송파구 (1171000000)\"         \n",
       " [26] \"서울특별시 강동구 (1174000000)\"         \n",
       " [27] \"부산광역시  (2600000000)\"               \n",
       " [28] \"부산광역시 중구 (2611000000)\"           \n",
       " [29] \"부산광역시 서구 (2614000000)\"           \n",
       " [30] \"부산광역시 동구 (2617000000)\"           \n",
       " [31] \"부산광역시 영도구 (2620000000)\"         \n",
       " [32] \"부산광역시 부산진구 (2623000000)\"       \n",
       " [33] \"부산광역시 동래구 (2626000000)\"         \n",
       " [34] \"부산광역시 남구 (2629000000)\"           \n",
       " [35] \"부산광역시 북구 (2632000000)\"           \n",
       " [36] \"부산광역시 해운대구 (2635000000)\"       \n",
       " [37] \"부산광역시 사하구 (2638000000)\"         \n",
       " [38] \"부산광역시 금정구 (2641000000)\"         \n",
       " [39] \"부산광역시 강서구 (2644000000)\"         \n",
       " [40] \"부산광역시 연제구 (2647000000)\"         \n",
       " [41] \"부산광역시 수영구 (2650000000)\"         \n",
       " [42] \"부산광역시 사상구 (2653000000)\"         \n",
       " [43] \"부산광역시 기장군 (2671000000)\"         \n",
       " [44] \"대구광역시  (2700000000)\"               \n",
       " [45] \"대구광역시 중구 (2711000000)\"           \n",
       " [46] \"대구광역시 동구 (2714000000)\"           \n",
       " [47] \"대구광역시 서구 (2717000000)\"           \n",
       " [48] \"대구광역시 남구 (2720000000)\"           \n",
       " [49] \"대구광역시 북구 (2723000000)\"           \n",
       " [50] \"대구광역시 수성구 (2726000000)\"         \n",
       " [51] \"대구광역시 달서구 (2729000000)\"         \n",
       " [52] \"대구광역시 달성군 (2771000000)\"         \n",
       " [53] \"인천광역시  (2800000000)\"               \n",
       " [54] \"인천광역시 중구 (2811000000)\"           \n",
       " [55] \"인천광역시 동구 (2814000000)\"           \n",
       " [56] \"인천광역시 남구 (2817000000)\"           \n",
       " [57] \"인천광역시 연수구 (2818500000)\"         \n",
       " [58] \"인천광역시 남동구 (2820000000)\"         \n",
       " [59] \"인천광역시 부평구 (2823700000)\"         \n",
       " [60] \"인천광역시 계양구 (2824500000)\"         \n",
       " [61] \"인천광역시 서구 (2826000000)\"           \n",
       " [62] \"인천광역시 강화군 (2871000000)\"         \n",
       " [63] \"인천광역시 옹진군 (2872000000)\"         \n",
       " [64] \"광주광역시  (2900000000)\"               \n",
       " [65] \"광주광역시 동구 (2911000000)\"           \n",
       " [66] \"광주광역시 서구 (2914000000)\"           \n",
       " [67] \"광주광역시 남구 (2915500000)\"           \n",
       " [68] \"광주광역시 북구 (2917000000)\"           \n",
       " [69] \"광주광역시 광산구 (2920000000)\"         \n",
       " [70] \"대전광역시  (3000000000)\"               \n",
       " [71] \"대전광역시 동구 (3011000000)\"           \n",
       " [72] \"대전광역시 중구 (3014000000)\"           \n",
       " [73] \"대전광역시 서구 (3017000000)\"           \n",
       " [74] \"대전광역시 유성구 (3020000000)\"         \n",
       " [75] \"대전광역시 대덕구 (3023000000)\"         \n",
       " [76] \"울산광역시  (3100000000)\"               \n",
       " [77] \"울산광역시 중구 (3111000000)\"           \n",
       " [78] \"울산광역시 남구 (3114000000)\"           \n",
       " [79] \"울산광역시 동구 (3117000000)\"           \n",
       " [80] \"울산광역시 북구 (3120000000)\"           \n",
       " [81] \"울산광역시 울주군 (3171000000)\"         \n",
       " [82] \"세종특별자치시  (3600000000)\"           \n",
       " [83] \"세종특별자치시  (3611000000)\"           \n",
       " [84] \"경기도  (4100000000)\"                   \n",
       " [85] \"경기도 수원시 (4111000000)\"             \n",
       " [86] \"경기도 수원시 장안구 (4111100000)\"      \n",
       " [87] \"경기도 수원시 권선구 (4111300000)\"      \n",
       " [88] \"경기도 수원시 팔달구 (4111500000)\"      \n",
       " [89] \"경기도 수원시 영통구 (4111700000)\"      \n",
       " [90] \"경기도 성남시 (4113000000)\"             \n",
       " [91] \"경기도 성남시 수정구 (4113100000)\"      \n",
       " [92] \"경기도 성남시 중원구 (4113300000)\"      \n",
       " [93] \"경기도 성남시 분당구 (4113500000)\"      \n",
       " [94] \"경기도 의정부시 (4115000000)\"           \n",
       " [95] \"경기도 안양시 (4117000000)\"             \n",
       " [96] \"경기도 안양시 만안구 (4117100000)\"      \n",
       " [97] \"경기도 안양시 동안구 (4117300000)\"      \n",
       " [98] \"경기도 부천시 (4119000000)\"             \n",
       " [99] \"경기도 부천시 원미구 (4119500000)\"      \n",
       "[100] \"경기도 부천시 소사구 (4119700000)\"      \n",
       "[101] \"경기도 부천시 오정구 (4119900000)\"      \n",
       "[102] \"경기도 광명시 (4121000000)\"             \n",
       "[103] \"경기도 평택시 (4122000000)\"             \n",
       "[104] \"경기도 동두천시 (4125000000)\"           \n",
       "[105] \"경기도 안산시 (4127000000)\"             \n",
       "[106] \"경기도 안산시 상록구 (4127100000)\"      \n",
       "[107] \"경기도 안산시 단원구 (4127300000)\"      \n",
       "[108] \"경기도 고양시 (4128000000)\"             \n",
       "[109] \"경기도 고양시 덕양구 (4128100000)\"      \n",
       "[110] \"경기도 고양시 일산동구 (4128500000)\"    \n",
       "[111] \"경기도 고양시 일산서구 (4128700000)\"    \n",
       "[112] \"경기도 과천시 (4129000000)\"             \n",
       "[113] \"경기도 구리시 (4131000000)\"             \n",
       "[114] \"경기도 남양주시 (4136000000)\"           \n",
       "[115] \"경기도 오산시 (4137000000)\"             \n",
       "[116] \"경기도 시흥시 (4139000000)\"             \n",
       "[117] \"경기도 군포시 (4141000000)\"             \n",
       "[118] \"경기도 의왕시 (4143000000)\"             \n",
       "[119] \"경기도 하남시 (4145000000)\"             \n",
       "[120] \"경기도 용인시 (4146000000)\"             \n",
       "[121] \"경기도 용인시 처인구 (4146100000)\"      \n",
       "[122] \"경기도 용인시 기흥구 (4146300000)\"      \n",
       "[123] \"경기도 용인시 수지구 (4146500000)\"      \n",
       "[124] \"경기도 파주시 (4148000000)\"             \n",
       "[125] \"경기도 이천시 (4150000000)\"             \n",
       "[126] \"경기도 안성시 (4155000000)\"             \n",
       "[127] \"경기도 김포시 (4157000000)\"             \n",
       "[128] \"경기도 화성시 (4159000000)\"             \n",
       "[129] \"경기도 광주시 (4161000000)\"             \n",
       "[130] \"경기도 양주시 (4163000000)\"             \n",
       "[131] \"경기도 포천시 (4165000000)\"             \n",
       "[132] \"경기도 여주시 (4167000000)\"             \n",
       "[133] \"경기도 연천군 (4180000000)\"             \n",
       "[134] \"경기도 가평군 (4182000000)\"             \n",
       "[135] \"경기도 양평군 (4183000000)\"             \n",
       "[136] \"강원도  (4200000000)\"                   \n",
       "[137] \"강원도 춘천시 (4211000000)\"             \n",
       "[138] \"강원도 원주시 (4213000000)\"             \n",
       "[139] \"강원도 강릉시 (4215000000)\"             \n",
       "[140] \"강원도 동해시 (4217000000)\"             \n",
       "[141] \"강원도 태백시 (4219000000)\"             \n",
       "[142] \"강원도 속초시 (4221000000)\"             \n",
       "[143] \"강원도 삼척시 (4223000000)\"             \n",
       "[144] \"강원도 홍천군 (4272000000)\"             \n",
       "[145] \"강원도 횡성군 (4273000000)\"             \n",
       "[146] \"강원도 영월군 (4275000000)\"             \n",
       "[147] \"강원도 평창군 (4276000000)\"             \n",
       "[148] \"강원도 정선군 (4277000000)\"             \n",
       "[149] \"강원도 철원군 (4278000000)\"             \n",
       "[150] \"강원도 화천군 (4279000000)\"             \n",
       "[151] \"강원도 양구군 (4280000000)\"             \n",
       "[152] \"강원도 인제군 (4281000000)\"             \n",
       "[153] \"강원도 고성군 (4282000000)\"             \n",
       "[154] \"강원도 양양군 (4283000000)\"             \n",
       "[155] \"충청북도  (4300000000)\"                 \n",
       "[156] \"충청북도 청주시 (4311000000)\"           \n",
       "[157] \"충청북도 청주시 상당구 (4311100000)\"    \n",
       "[158] \"충청북도 청주시 서원구 (4311200000)\"    \n",
       "[159] \"충청북도 청주시 흥덕구 (4311300000)\"    \n",
       "[160] \"충청북도 청주시 청원구 (4311400000)\"    \n",
       "[161] \"충청북도 충주시 (4313000000)\"           \n",
       "[162] \"충청북도 제천시 (4315000000)\"           \n",
       "[163] \"충청북도 보은군 (4372000000)\"           \n",
       "[164] \"충청북도 옥천군 (4373000000)\"           \n",
       "[165] \"충청북도 영동군 (4374000000)\"           \n",
       "[166] \"충청북도 증평군 (4374500000)\"           \n",
       "[167] \"충청북도 진천군 (4375000000)\"           \n",
       "[168] \"충청북도 괴산군 (4376000000)\"           \n",
       "[169] \"충청북도 음성군 (4377000000)\"           \n",
       "[170] \"충청북도 단양군 (4380000000)\"           \n",
       "[171] \"충청남도  (4400000000)\"                 \n",
       "[172] \"충청남도 천안시 (4413000000)\"           \n",
       "[173] \"충청남도 천안시 동남구 (4413100000)\"    \n",
       "[174] \"충청남도 천안시 서북구 (4413300000)\"    \n",
       "[175] \"충청남도 공주시 (4415000000)\"           \n",
       "[176] \"충청남도 보령시 (4418000000)\"           \n",
       "[177] \"충청남도 아산시 (4420000000)\"           \n",
       "[178] \"충청남도 서산시 (4421000000)\"           \n",
       "[179] \"충청남도 논산시 (4423000000)\"           \n",
       "[180] \"충청남도 계룡시 (4425000000)\"           \n",
       "[181] \"충청남도 당진시 (4427000000)\"           \n",
       "[182] \"충청남도 금산군 (4471000000)\"           \n",
       "[183] \"충청남도 부여군 (4476000000)\"           \n",
       "[184] \"충청남도 서천군 (4477000000)\"           \n",
       "[185] \"충청남도 청양군 (4479000000)\"           \n",
       "[186] \"충청남도 홍성군 (4480000000)\"           \n",
       "[187] \"충청남도 예산군 (4481000000)\"           \n",
       "[188] \"충청남도 태안군 (4482500000)\"           \n",
       "[189] \"전라북도  (4500000000)\"                 \n",
       "[190] \"전라북도 전주시 (4511000000)\"           \n",
       "[191] \"전라북도 전주시 완산구 (4511100000)\"    \n",
       "[192] \"전라북도 전주시 덕진구 (4511300000)\"    \n",
       "[193] \"전라북도 군산시 (4513000000)\"           \n",
       "[194] \"전라북도 익산시 (4514000000)\"           \n",
       "[195] \"전라북도 정읍시 (4518000000)\"           \n",
       "[196] \"전라북도 남원시 (4519000000)\"           \n",
       "[197] \"전라북도 김제시 (4521000000)\"           \n",
       "[198] \"전라북도 완주군 (4571000000)\"           \n",
       "[199] \"전라북도 진안군 (4572000000)\"           \n",
       "[200] \"전라북도 무주군 (4573000000)\"           \n",
       "[201] \"전라북도 장수군 (4574000000)\"           \n",
       "[202] \"전라북도 임실군 (4575000000)\"           \n",
       "[203] \"전라북도 순창군 (4577000000)\"           \n",
       "[204] \"전라북도 고창군 (4579000000)\"           \n",
       "[205] \"전라북도 부안군 (4580000000)\"           \n",
       "[206] \"전라남도  (4600000000)\"                 \n",
       "[207] \"전라남도 목포시 (4611000000)\"           \n",
       "[208] \"전라남도 여수시 (4613000000)\"           \n",
       "[209] \"전라남도 순천시 (4615000000)\"           \n",
       "[210] \"전라남도 나주시 (4617000000)\"           \n",
       "[211] \"전라남도 광양시 (4623000000)\"           \n",
       "[212] \"전라남도 담양군 (4671000000)\"           \n",
       "[213] \"전라남도 곡성군 (4672000000)\"           \n",
       "[214] \"전라남도 구례군 (4673000000)\"           \n",
       "[215] \"전라남도 고흥군 (4677000000)\"           \n",
       "[216] \"전라남도 보성군 (4678000000)\"           \n",
       "[217] \"전라남도 화순군 (4679000000)\"           \n",
       "[218] \"전라남도 장흥군 (4680000000)\"           \n",
       "[219] \"전라남도 강진군 (4681000000)\"           \n",
       "[220] \"전라남도 해남군 (4682000000)\"           \n",
       "[221] \"전라남도 영암군 (4683000000)\"           \n",
       "[222] \"전라남도 무안군 (4684000000)\"           \n",
       "[223] \"전라남도 함평군 (4686000000)\"           \n",
       "[224] \"전라남도 영광군 (4687000000)\"           \n",
       "[225] \"전라남도 장성군 (4688000000)\"           \n",
       "[226] \"전라남도 완도군 (4689000000)\"           \n",
       "[227] \"전라남도 진도군 (4690000000)\"           \n",
       "[228] \"전라남도 신안군 (4691000000)\"           \n",
       "[229] \"경상북도  (4700000000)\"                 \n",
       "[230] \"경상북도 포항시 (4711000000)\"           \n",
       "[231] \"경상북도 포항시 남구 (4711100000)\"      \n",
       "[232] \"경상북도 포항시 북구 (4711300000)\"      \n",
       "[233] \"경상북도 경주시 (4713000000)\"           \n",
       "[234] \"경상북도 김천시 (4715000000)\"           \n",
       "[235] \"경상북도 안동시 (4717000000)\"           \n",
       "[236] \"경상북도 구미시 (4719000000)\"           \n",
       "[237] \"경상북도 영주시 (4721000000)\"           \n",
       "[238] \"경상북도 영천시 (4723000000)\"           \n",
       "[239] \"경상북도 상주시 (4725000000)\"           \n",
       "[240] \"경상북도 문경시 (4728000000)\"           \n",
       "[241] \"경상북도 경산시 (4729000000)\"           \n",
       "[242] \"경상북도 군위군 (4772000000)\"           \n",
       "[243] \"경상북도 의성군 (4773000000)\"           \n",
       "[244] \"경상북도 청송군 (4775000000)\"           \n",
       "[245] \"경상북도 영양군 (4776000000)\"           \n",
       "[246] \"경상북도 영덕군 (4777000000)\"           \n",
       "[247] \"경상북도 청도군 (4782000000)\"           \n",
       "[248] \"경상북도 고령군 (4783000000)\"           \n",
       "[249] \"경상북도 성주군 (4784000000)\"           \n",
       "[250] \"경상북도 칠곡군 (4785000000)\"           \n",
       "[251] \"경상북도 예천군 (4790000000)\"           \n",
       "[252] \"경상북도 봉화군 (4792000000)\"           \n",
       "[253] \"경상북도 울진군 (4793000000)\"           \n",
       "[254] \"경상북도 울릉군 (4794000000)\"           \n",
       "[255] \"경상남도  (4800000000)\"                 \n",
       "[256] \"경상남도 창원시 (4812000000)\"           \n",
       "[257] \"경상남도 창원시 의창구 (4812100000)\"    \n",
       "[258] \"경상남도 창원시 성산구 (4812300000)\"    \n",
       "[259] \"경상남도 창원시 마산합포구 (4812500000)\"\n",
       "[260] \"경상남도 창원시 마산회원구 (4812700000)\"\n",
       "[261] \"경상남도 창원시 진해구 (4812900000)\"    \n",
       "[262] \"경상남도 진주시 (4817000000)\"           \n",
       "[263] \"경상남도 통영시 (4822000000)\"           \n",
       "[264] \"경상남도 사천시 (4824000000)\"           \n",
       "[265] \"경상남도 김해시 (4825000000)\"           \n",
       "[266] \"경상남도 밀양시 (4827000000)\"           \n",
       "[267] \"경상남도 거제시 (4831000000)\"           \n",
       "[268] \"경상남도 양산시 (4833000000)\"           \n",
       "[269] \"경상남도 의령군 (4872000000)\"           \n",
       "[270] \"경상남도 함안군 (4873000000)\"           \n",
       "[271] \"경상남도 창녕군 (4874000000)\"           \n",
       "[272] \"경상남도 고성군 (4882000000)\"           \n",
       "[273] \"경상남도 남해군 (4884000000)\"           \n",
       "[274] \"경상남도 하동군 (4885000000)\"           \n",
       "[275] \"경상남도 산청군 (4886000000)\"           \n",
       "[276] \"경상남도 함양군 (4887000000)\"           \n",
       "[277] \"경상남도 거창군 (4888000000)\"           \n",
       "[278] \"경상남도 합천군 (4889000000)\"           \n",
       "[279] \"제주특별자치도  (5000000000)\"           \n",
       "[280] \"제주특별자치도 제주시 (5011000000)\"     \n",
       "[281] \"제주특별자치도 서귀포시 (5013000000)\"   "
      ]
     },
     "metadata": {},
     "output_type": "display_data"
    }
   ],
   "source": [
    "df[,1]"
   ]
  },
  {
   "cell_type": "code",
   "execution_count": 52,
   "metadata": {},
   "outputs": [
    {
     "data": {
      "text/html": [
       "<table>\n",
       "<tbody>\n",
       "\t<tr><td>서울특별시        </td><td>1100000000)       </td></tr>\n",
       "\t<tr><td>서울특별시 종로구 </td><td>1111000000)       </td></tr>\n",
       "\t<tr><td>서울특별시 중구   </td><td>1114000000)       </td></tr>\n",
       "\t<tr><td>서울특별시 용산구 </td><td>1117000000)       </td></tr>\n",
       "\t<tr><td>서울특별시 성동구 </td><td>1120000000)       </td></tr>\n",
       "\t<tr><td>서울특별시 광진구 </td><td>1121500000)       </td></tr>\n",
       "</tbody>\n",
       "</table>\n"
      ],
      "text/latex": [
       "\\begin{tabular}{ll}\n",
       "\t 서울특별시         & 1100000000)       \\\\\n",
       "\t 서울특별시 종로구  & 1111000000)       \\\\\n",
       "\t 서울특별시 중구    & 1114000000)       \\\\\n",
       "\t 서울특별시 용산구  & 1117000000)       \\\\\n",
       "\t 서울특별시 성동구  & 1120000000)       \\\\\n",
       "\t 서울특별시 광진구  & 1121500000)       \\\\\n",
       "\\end{tabular}\n"
      ],
      "text/markdown": [
       "\n",
       "| 서울특별시         | 1100000000)        |\n",
       "| 서울특별시 종로구  | 1111000000)        |\n",
       "| 서울특별시 중구    | 1114000000)        |\n",
       "| 서울특별시 용산구  | 1117000000)        |\n",
       "| 서울특별시 성동구  | 1120000000)        |\n",
       "| 서울특별시 광진구  | 1121500000)        |\n",
       "\n"
      ],
      "text/plain": [
       "     [,1]               [,2]       \n",
       "[1,] 서울특별시         1100000000)\n",
       "[2,] 서울특별시 종로구  1111000000)\n",
       "[3,] 서울특별시 중구    1114000000)\n",
       "[4,] 서울특별시 용산구  1117000000)\n",
       "[5,] 서울특별시 성동구  1120000000)\n",
       "[6,] 서울특별시 광진구  1121500000)"
      ]
     },
     "metadata": {},
     "output_type": "display_data"
    }
   ],
   "source": [
    "# ( 기준으로 2개 분리\n",
    "temp <- str_split_fixed(df[,1],'\\\\(', 2)\n",
    "head(temp)"
   ]
  },
  {
   "cell_type": "code",
   "execution_count": 53,
   "metadata": {},
   "outputs": [
    {
     "data": {
      "text/html": [
       "<table>\n",
       "<tbody>\n",
       "\t<tr><td>서울특별시</td><td>          </td></tr>\n",
       "\t<tr><td>서울특별시</td><td>종로구    </td></tr>\n",
       "\t<tr><td>서울특별시</td><td>중구      </td></tr>\n",
       "\t<tr><td>서울특별시</td><td>용산구    </td></tr>\n",
       "\t<tr><td>서울특별시</td><td>성동구    </td></tr>\n",
       "\t<tr><td>서울특별시</td><td>광진구    </td></tr>\n",
       "</tbody>\n",
       "</table>\n"
      ],
      "text/latex": [
       "\\begin{tabular}{ll}\n",
       "\t 서울특별시 &           \\\\\n",
       "\t 서울특별시 & 종로구    \\\\\n",
       "\t 서울특별시 & 중구      \\\\\n",
       "\t 서울특별시 & 용산구    \\\\\n",
       "\t 서울특별시 & 성동구    \\\\\n",
       "\t 서울특별시 & 광진구    \\\\\n",
       "\\end{tabular}\n"
      ],
      "text/markdown": [
       "\n",
       "| 서울특별시 |            |\n",
       "| 서울특별시 | 종로구     |\n",
       "| 서울특별시 | 중구       |\n",
       "| 서울특별시 | 용산구     |\n",
       "| 서울특별시 | 성동구     |\n",
       "| 서울특별시 | 광진구     |\n",
       "\n"
      ],
      "text/plain": [
       "     [,1]       [,2]   \n",
       "[1,] 서울특별시        \n",
       "[2,] 서울특별시 종로구 \n",
       "[3,] 서울특별시 중구   \n",
       "[4,] 서울특별시 용산구 \n",
       "[5,] 서울특별시 성동구 \n",
       "[6,] 서울특별시 광진구 "
      ]
     },
     "metadata": {},
     "output_type": "display_data"
    }
   ],
   "source": [
    "# 공백 기준으로 시 구 분리\n",
    "new_city <- str_split_fixed(temp[,1],' ',2)\n",
    "head(new_city)"
   ]
  },
  {
   "cell_type": "code",
   "execution_count": 54,
   "metadata": {},
   "outputs": [
    {
     "data": {
      "text/html": [
       "<table>\n",
       "<thead><tr><th scope=col>Provinces</th><th scope=col>City</th></tr></thead>\n",
       "<tbody>\n",
       "\t<tr><td>서울특별시</td><td>          </td></tr>\n",
       "\t<tr><td>서울특별시</td><td>종로구    </td></tr>\n",
       "\t<tr><td>서울특별시</td><td>중구      </td></tr>\n",
       "\t<tr><td>서울특별시</td><td>용산구    </td></tr>\n",
       "\t<tr><td>서울특별시</td><td>성동구    </td></tr>\n",
       "\t<tr><td>서울특별시</td><td>광진구    </td></tr>\n",
       "</tbody>\n",
       "</table>\n"
      ],
      "text/latex": [
       "\\begin{tabular}{ll}\n",
       " Provinces & City\\\\\n",
       "\\hline\n",
       "\t 서울특별시 &           \\\\\n",
       "\t 서울특별시 & 종로구    \\\\\n",
       "\t 서울특별시 & 중구      \\\\\n",
       "\t 서울특별시 & 용산구    \\\\\n",
       "\t 서울특별시 & 성동구    \\\\\n",
       "\t 서울특별시 & 광진구    \\\\\n",
       "\\end{tabular}\n"
      ],
      "text/markdown": [
       "\n",
       "| Provinces | City |\n",
       "|---|---|\n",
       "| 서울특별시 |            |\n",
       "| 서울특별시 | 종로구     |\n",
       "| 서울특별시 | 중구       |\n",
       "| 서울특별시 | 용산구     |\n",
       "| 서울특별시 | 성동구     |\n",
       "| 서울특별시 | 광진구     |\n",
       "\n"
      ],
      "text/plain": [
       "     Provinces  City   \n",
       "[1,] 서울특별시        \n",
       "[2,] 서울특별시 종로구 \n",
       "[3,] 서울특별시 중구   \n",
       "[4,] 서울특별시 용산구 \n",
       "[5,] 서울특별시 성동구 \n",
       "[6,] 서울특별시 광진구 "
      ]
     },
     "metadata": {},
     "output_type": "display_data"
    }
   ],
   "source": [
    "colnames(new_city) <- c('Provinces','City')\n",
    "head(new_city)"
   ]
  },
  {
   "cell_type": "code",
   "execution_count": 56,
   "metadata": {},
   "outputs": [
    {
     "data": {
      "text/html": [
       "<table>\n",
       "<thead><tr><th scope=col>Provinces</th><th scope=col>City</th><th scope=col>Population</th><th scope=col>Households</th><th scope=col>PersInHou</th><th scope=col>Male</th><th scope=col>Female</th><th scope=col>SexRatio</th></tr></thead>\n",
       "<tbody>\n",
       "\t<tr><td>서울특별시</td><td>NA        </td><td>10,078,850</td><td>4,197,478 </td><td>2.40      </td><td>4,962,774 </td><td>5,116,076 </td><td>0.97      </td></tr>\n",
       "\t<tr><td>서울특별시</td><td>종로구    </td><td>155,695   </td><td>72,882    </td><td>2.14      </td><td>76,962    </td><td>78,733    </td><td>0.98      </td></tr>\n",
       "\t<tr><td>서울특별시</td><td>중구      </td><td>126,817   </td><td>59,614    </td><td>2.13      </td><td>63,292    </td><td>63,525    </td><td>1.00      </td></tr>\n",
       "\t<tr><td>서울특별시</td><td>용산구    </td><td>235,186   </td><td>108,138   </td><td>2.17      </td><td>114,119   </td><td>121,067   </td><td>0.94      </td></tr>\n",
       "\t<tr><td>서울특별시</td><td>성동구    </td><td>298,145   </td><td>126,915   </td><td>2.35      </td><td>148,265   </td><td>149,880   </td><td>0.99      </td></tr>\n",
       "\t<tr><td>서울특별시</td><td>광진구    </td><td>362,197   </td><td>158,769   </td><td>2.28      </td><td>177,946   </td><td>184,251   </td><td>0.97      </td></tr>\n",
       "</tbody>\n",
       "</table>\n"
      ],
      "text/latex": [
       "\\begin{tabular}{r|llllllll}\n",
       " Provinces & City & Population & Households & PersInHou & Male & Female & SexRatio\\\\\n",
       "\\hline\n",
       "\t 서울특별시 & NA         & 10,078,850 & 4,197,478  & 2.40       & 4,962,774  & 5,116,076  & 0.97      \\\\\n",
       "\t 서울특별시 & 종로구     & 155,695    & 72,882     & 2.14       & 76,962     & 78,733     & 0.98      \\\\\n",
       "\t 서울특별시 & 중구       & 126,817    & 59,614     & 2.13       & 63,292     & 63,525     & 1.00      \\\\\n",
       "\t 서울특별시 & 용산구     & 235,186    & 108,138    & 2.17       & 114,119    & 121,067    & 0.94      \\\\\n",
       "\t 서울특별시 & 성동구     & 298,145    & 126,915    & 2.35       & 148,265    & 149,880    & 0.99      \\\\\n",
       "\t 서울특별시 & 광진구     & 362,197    & 158,769    & 2.28       & 177,946    & 184,251    & 0.97      \\\\\n",
       "\\end{tabular}\n"
      ],
      "text/markdown": [
       "\n",
       "| Provinces | City | Population | Households | PersInHou | Male | Female | SexRatio |\n",
       "|---|---|---|---|---|---|---|---|\n",
       "| 서울특별시 | NA         | 10,078,850 | 4,197,478  | 2.40       | 4,962,774  | 5,116,076  | 0.97       |\n",
       "| 서울특별시 | 종로구     | 155,695    | 72,882     | 2.14       | 76,962     | 78,733     | 0.98       |\n",
       "| 서울특별시 | 중구       | 126,817    | 59,614     | 2.13       | 63,292     | 63,525     | 1.00       |\n",
       "| 서울특별시 | 용산구     | 235,186    | 108,138    | 2.17       | 114,119    | 121,067    | 0.94       |\n",
       "| 서울특별시 | 성동구     | 298,145    | 126,915    | 2.35       | 148,265    | 149,880    | 0.99       |\n",
       "| 서울특별시 | 광진구     | 362,197    | 158,769    | 2.28       | 177,946    | 184,251    | 0.97       |\n",
       "\n"
      ],
      "text/plain": [
       "  Provinces  City    Population Households PersInHou Male      Female   \n",
       "1 서울특별시 NA      10,078,850 4,197,478  2.40      4,962,774 5,116,076\n",
       "2 서울특별시 종로구  155,695    72,882     2.14      76,962    78,733   \n",
       "3 서울특별시 중구    126,817    59,614     2.13      63,292    63,525   \n",
       "4 서울특별시 용산구  235,186    108,138    2.17      114,119   121,067  \n",
       "5 서울특별시 성동구  298,145    126,915    2.35      148,265   149,880  \n",
       "6 서울특별시 광진구  362,197    158,769    2.28      177,946   184,251  \n",
       "  SexRatio\n",
       "1 0.97    \n",
       "2 0.98    \n",
       "3 1.00    \n",
       "4 0.94    \n",
       "5 0.99    \n",
       "6 0.97    "
      ]
     },
     "metadata": {},
     "output_type": "display_data"
    }
   ],
   "source": [
    "df_new  <- data.frame(new_city, df[,c(2:7)])\n",
    "head(df_new)"
   ]
  },
  {
   "cell_type": "code",
   "execution_count": 57,
   "metadata": {},
   "outputs": [
    {
     "data": {
      "text/html": [
       "<table>\n",
       "<thead><tr><th></th><th scope=col>Provinces</th><th scope=col>City</th><th scope=col>Population</th><th scope=col>Households</th><th scope=col>PersInHou</th><th scope=col>Male</th><th scope=col>Female</th><th scope=col>SexRatio</th></tr></thead>\n",
       "<tbody>\n",
       "\t<tr><th scope=row>82</th><td>세종특별자치시</td><td>NA            </td><td>185,212       </td><td>72,733        </td><td>2.55          </td><td>93,058        </td><td>92,154        </td><td>1.01          </td></tr>\n",
       "\t<tr><th scope=row>83</th><td>세종특별자치시</td><td>NA            </td><td>185,212       </td><td>72,733        </td><td>2.55          </td><td>93,058        </td><td>92,154        </td><td>1.01          </td></tr>\n",
       "</tbody>\n",
       "</table>\n"
      ],
      "text/latex": [
       "\\begin{tabular}{r|llllllll}\n",
       "  & Provinces & City & Population & Households & PersInHou & Male & Female & SexRatio\\\\\n",
       "\\hline\n",
       "\t82 & 세종특별자치시 & NA             & 185,212        & 72,733         & 2.55           & 93,058         & 92,154         & 1.01          \\\\\n",
       "\t83 & 세종특별자치시 & NA             & 185,212        & 72,733         & 2.55           & 93,058         & 92,154         & 1.01          \\\\\n",
       "\\end{tabular}\n"
      ],
      "text/markdown": [
       "\n",
       "| <!--/--> | Provinces | City | Population | Households | PersInHou | Male | Female | SexRatio |\n",
       "|---|---|---|---|---|---|---|---|---|\n",
       "| 82 | 세종특별자치시 | NA             | 185,212        | 72,733         | 2.55           | 93,058         | 92,154         | 1.01           |\n",
       "| 83 | 세종특별자치시 | NA             | 185,212        | 72,733         | 2.55           | 93,058         | 92,154         | 1.01           |\n",
       "\n"
      ],
      "text/plain": [
       "   Provinces      City Population Households PersInHou Male   Female SexRatio\n",
       "82 세종특별자치시 NA   185,212    72,733     2.55      93,058 92,154 1.01    \n",
       "83 세종특별자치시 NA   185,212    72,733     2.55      93,058 92,154 1.01    "
      ]
     },
     "metadata": {},
     "output_type": "display_data"
    }
   ],
   "source": [
    "df_new[df_new$Provinces == '세종특별자치시',]"
   ]
  },
  {
   "cell_type": "code",
   "execution_count": 58,
   "metadata": {},
   "outputs": [],
   "source": [
    "df_new[df_new == \" \"] <- NA"
   ]
  },
  {
   "cell_type": "code",
   "execution_count": 59,
   "metadata": {},
   "outputs": [
    {
     "data": {
      "text/html": [
       "<table>\n",
       "<thead><tr><th scope=col>Provinces</th><th scope=col>City</th><th scope=col>Population</th><th scope=col>Households</th><th scope=col>PersInHou</th><th scope=col>Male</th><th scope=col>Female</th><th scope=col>SexRatio</th></tr></thead>\n",
       "<tbody>\n",
       "\t<tr><td>서울특별시</td><td>NA        </td><td>10,078,850</td><td>4,197,478 </td><td>2.40      </td><td>4,962,774 </td><td>5,116,076 </td><td>0.97      </td></tr>\n",
       "\t<tr><td>서울특별시</td><td>종로구    </td><td>155,695   </td><td>72,882    </td><td>2.14      </td><td>76,962    </td><td>78,733    </td><td>0.98      </td></tr>\n",
       "\t<tr><td>서울특별시</td><td>중구      </td><td>126,817   </td><td>59,614    </td><td>2.13      </td><td>63,292    </td><td>63,525    </td><td>1.00      </td></tr>\n",
       "\t<tr><td>서울특별시</td><td>용산구    </td><td>235,186   </td><td>108,138   </td><td>2.17      </td><td>114,119   </td><td>121,067   </td><td>0.94      </td></tr>\n",
       "\t<tr><td>서울특별시</td><td>성동구    </td><td>298,145   </td><td>126,915   </td><td>2.35      </td><td>148,265   </td><td>149,880   </td><td>0.99      </td></tr>\n",
       "\t<tr><td>서울특별시</td><td>광진구    </td><td>362,197   </td><td>158,769   </td><td>2.28      </td><td>177,946   </td><td>184,251   </td><td>0.97      </td></tr>\n",
       "</tbody>\n",
       "</table>\n"
      ],
      "text/latex": [
       "\\begin{tabular}{r|llllllll}\n",
       " Provinces & City & Population & Households & PersInHou & Male & Female & SexRatio\\\\\n",
       "\\hline\n",
       "\t 서울특별시 & NA         & 10,078,850 & 4,197,478  & 2.40       & 4,962,774  & 5,116,076  & 0.97      \\\\\n",
       "\t 서울특별시 & 종로구     & 155,695    & 72,882     & 2.14       & 76,962     & 78,733     & 0.98      \\\\\n",
       "\t 서울특별시 & 중구       & 126,817    & 59,614     & 2.13       & 63,292     & 63,525     & 1.00      \\\\\n",
       "\t 서울특별시 & 용산구     & 235,186    & 108,138    & 2.17       & 114,119    & 121,067    & 0.94      \\\\\n",
       "\t 서울특별시 & 성동구     & 298,145    & 126,915    & 2.35       & 148,265    & 149,880    & 0.99      \\\\\n",
       "\t 서울특별시 & 광진구     & 362,197    & 158,769    & 2.28       & 177,946    & 184,251    & 0.97      \\\\\n",
       "\\end{tabular}\n"
      ],
      "text/markdown": [
       "\n",
       "| Provinces | City | Population | Households | PersInHou | Male | Female | SexRatio |\n",
       "|---|---|---|---|---|---|---|---|\n",
       "| 서울특별시 | NA         | 10,078,850 | 4,197,478  | 2.40       | 4,962,774  | 5,116,076  | 0.97       |\n",
       "| 서울특별시 | 종로구     | 155,695    | 72,882     | 2.14       | 76,962     | 78,733     | 0.98       |\n",
       "| 서울특별시 | 중구       | 126,817    | 59,614     | 2.13       | 63,292     | 63,525     | 1.00       |\n",
       "| 서울특별시 | 용산구     | 235,186    | 108,138    | 2.17       | 114,119    | 121,067    | 0.94       |\n",
       "| 서울특별시 | 성동구     | 298,145    | 126,915    | 2.35       | 148,265    | 149,880    | 0.99       |\n",
       "| 서울특별시 | 광진구     | 362,197    | 158,769    | 2.28       | 177,946    | 184,251    | 0.97       |\n",
       "\n"
      ],
      "text/plain": [
       "  Provinces  City    Population Households PersInHou Male      Female   \n",
       "1 서울특별시 NA      10,078,850 4,197,478  2.40      4,962,774 5,116,076\n",
       "2 서울특별시 종로구  155,695    72,882     2.14      76,962    78,733   \n",
       "3 서울특별시 중구    126,817    59,614     2.13      63,292    63,525   \n",
       "4 서울특별시 용산구  235,186    108,138    2.17      114,119   121,067  \n",
       "5 서울특별시 성동구  298,145    126,915    2.35      148,265   149,880  \n",
       "6 서울특별시 광진구  362,197    158,769    2.28      177,946   184,251  \n",
       "  SexRatio\n",
       "1 0.97    \n",
       "2 0.98    \n",
       "3 1.00    \n",
       "4 0.94    \n",
       "5 0.99    \n",
       "6 0.97    "
      ]
     },
     "metadata": {},
     "output_type": "display_data"
    }
   ],
   "source": [
    "head(df_new)"
   ]
  },
  {
   "cell_type": "code",
   "execution_count": 60,
   "metadata": {},
   "outputs": [
    {
     "data": {
      "text/html": [
       "<table>\n",
       "<thead><tr><th></th><th scope=col>Provinces</th><th scope=col>City</th><th scope=col>Population</th><th scope=col>Households</th><th scope=col>PersInHou</th><th scope=col>Male</th><th scope=col>Female</th><th scope=col>SexRatio</th></tr></thead>\n",
       "<tbody>\n",
       "\t<tr><th scope=row>2</th><td>서울특별시</td><td>종로구    </td><td>155,695   </td><td>72,882    </td><td>2.14      </td><td>76,962    </td><td>78,733    </td><td>0.98      </td></tr>\n",
       "\t<tr><th scope=row>3</th><td>서울특별시</td><td>중구      </td><td>126,817   </td><td>59,614    </td><td>2.13      </td><td>63,292    </td><td>63,525    </td><td>1.00      </td></tr>\n",
       "\t<tr><th scope=row>4</th><td>서울특별시</td><td>용산구    </td><td>235,186   </td><td>108,138   </td><td>2.17      </td><td>114,119   </td><td>121,067   </td><td>0.94      </td></tr>\n",
       "\t<tr><th scope=row>5</th><td>서울특별시</td><td>성동구    </td><td>298,145   </td><td>126,915   </td><td>2.35      </td><td>148,265   </td><td>149,880   </td><td>0.99      </td></tr>\n",
       "\t<tr><th scope=row>6</th><td>서울특별시</td><td>광진구    </td><td>362,197   </td><td>158,769   </td><td>2.28      </td><td>177,946   </td><td>184,251   </td><td>0.97      </td></tr>\n",
       "\t<tr><th scope=row>7</th><td>서울특별시</td><td>동대문구  </td><td>362,604   </td><td>160,110   </td><td>2.26      </td><td>181,825   </td><td>180,779   </td><td>1.01      </td></tr>\n",
       "</tbody>\n",
       "</table>\n"
      ],
      "text/latex": [
       "\\begin{tabular}{r|llllllll}\n",
       "  & Provinces & City & Population & Households & PersInHou & Male & Female & SexRatio\\\\\n",
       "\\hline\n",
       "\t2 & 서울특별시 & 종로구     & 155,695    & 72,882     & 2.14       & 76,962     & 78,733     & 0.98      \\\\\n",
       "\t3 & 서울특별시 & 중구       & 126,817    & 59,614     & 2.13       & 63,292     & 63,525     & 1.00      \\\\\n",
       "\t4 & 서울특별시 & 용산구     & 235,186    & 108,138    & 2.17       & 114,119    & 121,067    & 0.94      \\\\\n",
       "\t5 & 서울특별시 & 성동구     & 298,145    & 126,915    & 2.35       & 148,265    & 149,880    & 0.99      \\\\\n",
       "\t6 & 서울특별시 & 광진구     & 362,197    & 158,769    & 2.28       & 177,946    & 184,251    & 0.97      \\\\\n",
       "\t7 & 서울특별시 & 동대문구   & 362,604    & 160,110    & 2.26       & 181,825    & 180,779    & 1.01      \\\\\n",
       "\\end{tabular}\n"
      ],
      "text/markdown": [
       "\n",
       "| <!--/--> | Provinces | City | Population | Households | PersInHou | Male | Female | SexRatio |\n",
       "|---|---|---|---|---|---|---|---|---|\n",
       "| 2 | 서울특별시 | 종로구     | 155,695    | 72,882     | 2.14       | 76,962     | 78,733     | 0.98       |\n",
       "| 3 | 서울특별시 | 중구       | 126,817    | 59,614     | 2.13       | 63,292     | 63,525     | 1.00       |\n",
       "| 4 | 서울특별시 | 용산구     | 235,186    | 108,138    | 2.17       | 114,119    | 121,067    | 0.94       |\n",
       "| 5 | 서울특별시 | 성동구     | 298,145    | 126,915    | 2.35       | 148,265    | 149,880    | 0.99       |\n",
       "| 6 | 서울특별시 | 광진구     | 362,197    | 158,769    | 2.28       | 177,946    | 184,251    | 0.97       |\n",
       "| 7 | 서울특별시 | 동대문구   | 362,604    | 160,110    | 2.26       | 181,825    | 180,779    | 1.01       |\n",
       "\n"
      ],
      "text/plain": [
       "  Provinces  City      Population Households PersInHou Male    Female  SexRatio\n",
       "2 서울특별시 종로구    155,695    72,882     2.14      76,962  78,733  0.98    \n",
       "3 서울특별시 중구      126,817    59,614     2.13      63,292  63,525  1.00    \n",
       "4 서울특별시 용산구    235,186    108,138    2.17      114,119 121,067 0.94    \n",
       "5 서울특별시 성동구    298,145    126,915    2.35      148,265 149,880 0.99    \n",
       "6 서울특별시 광진구    362,197    158,769    2.28      177,946 184,251 0.97    \n",
       "7 서울특별시 동대문구  362,604    160,110    2.26      181,825 180,779 1.01    "
      ]
     },
     "metadata": {},
     "output_type": "display_data"
    }
   ],
   "source": [
    "#NA 행 삭제 - 행을 찾고 모든 컬럼 삭제\n",
    "df_new2 <- df_new[complete.cases(df_new),]\n",
    "head(df_new2)"
   ]
  },
  {
   "cell_type": "code",
   "execution_count": 61,
   "metadata": {},
   "outputs": [
    {
     "data": {
      "text/html": [
       "<table>\n",
       "<thead><tr><th scope=col>Provinces</th><th scope=col>City</th><th scope=col>Population</th><th scope=col>Households</th><th scope=col>PersInHou</th><th scope=col>Male</th><th scope=col>Female</th><th scope=col>SexRatio</th></tr></thead>\n",
       "<tbody>\n",
       "</tbody>\n",
       "</table>\n"
      ],
      "text/latex": [
       "\\begin{tabular}{r|llllllll}\n",
       " Provinces & City & Population & Households & PersInHou & Male & Female & SexRatio\\\\\n",
       "\\hline\n",
       "\\end{tabular}\n"
      ],
      "text/markdown": [
       "\n",
       "| Provinces | City | Population | Households | PersInHou | Male | Female | SexRatio |\n",
       "|---|---|---|---|---|---|---|---|\n",
       "\n"
      ],
      "text/plain": [
       "     Provinces City Population Households PersInHou Male Female SexRatio"
      ]
     },
     "metadata": {},
     "output_type": "display_data"
    }
   ],
   "source": [
    "df_new2[df_new2$Provinces == '세종특별자치시',]"
   ]
  },
  {
   "cell_type": "code",
   "execution_count": 62,
   "metadata": {},
   "outputs": [
    {
     "data": {
      "text/html": [
       "<ol class=list-inline>\n",
       "\t<li>FALSE</li>\n",
       "\t<li>TRUE</li>\n",
       "\t<li>TRUE</li>\n",
       "\t<li>TRUE</li>\n",
       "\t<li>TRUE</li>\n",
       "\t<li>TRUE</li>\n",
       "</ol>\n"
      ],
      "text/latex": [
       "\\begin{enumerate*}\n",
       "\\item FALSE\n",
       "\\item TRUE\n",
       "\\item TRUE\n",
       "\\item TRUE\n",
       "\\item TRUE\n",
       "\\item TRUE\n",
       "\\end{enumerate*}\n"
      ],
      "text/markdown": [
       "1. FALSE\n",
       "2. TRUE\n",
       "3. TRUE\n",
       "4. TRUE\n",
       "5. TRUE\n",
       "6. TRUE\n",
       "\n",
       "\n"
      ],
      "text/plain": [
       "[1] FALSE  TRUE  TRUE  TRUE  TRUE  TRUE"
      ]
     },
     "metadata": {},
     "output_type": "display_data"
    }
   ],
   "source": [
    "head(complete.cases(df_new))"
   ]
  },
  {
   "cell_type": "code",
   "execution_count": 63,
   "metadata": {},
   "outputs": [
    {
     "data": {
      "text/html": [
       "<table>\n",
       "<thead><tr><th scope=col>Provinces</th><th scope=col>City</th><th scope=col>Population</th><th scope=col>Households</th><th scope=col>PersInHou</th><th scope=col>Male</th><th scope=col>Female</th><th scope=col>SexRatio</th></tr></thead>\n",
       "<tbody>\n",
       "\t<tr><td>FALSE</td><td> TRUE</td><td>FALSE</td><td>FALSE</td><td>FALSE</td><td>FALSE</td><td>FALSE</td><td>FALSE</td></tr>\n",
       "\t<tr><td>FALSE</td><td>FALSE</td><td>FALSE</td><td>FALSE</td><td>FALSE</td><td>FALSE</td><td>FALSE</td><td>FALSE</td></tr>\n",
       "\t<tr><td>FALSE</td><td>FALSE</td><td>FALSE</td><td>FALSE</td><td>FALSE</td><td>FALSE</td><td>FALSE</td><td>FALSE</td></tr>\n",
       "\t<tr><td>FALSE</td><td>FALSE</td><td>FALSE</td><td>FALSE</td><td>FALSE</td><td>FALSE</td><td>FALSE</td><td>FALSE</td></tr>\n",
       "\t<tr><td>FALSE</td><td>FALSE</td><td>FALSE</td><td>FALSE</td><td>FALSE</td><td>FALSE</td><td>FALSE</td><td>FALSE</td></tr>\n",
       "\t<tr><td>FALSE</td><td>FALSE</td><td>FALSE</td><td>FALSE</td><td>FALSE</td><td>FALSE</td><td>FALSE</td><td>FALSE</td></tr>\n",
       "</tbody>\n",
       "</table>\n"
      ],
      "text/latex": [
       "\\begin{tabular}{llllllll}\n",
       " Provinces & City & Population & Households & PersInHou & Male & Female & SexRatio\\\\\n",
       "\\hline\n",
       "\t FALSE &  TRUE & FALSE & FALSE & FALSE & FALSE & FALSE & FALSE\\\\\n",
       "\t FALSE & FALSE & FALSE & FALSE & FALSE & FALSE & FALSE & FALSE\\\\\n",
       "\t FALSE & FALSE & FALSE & FALSE & FALSE & FALSE & FALSE & FALSE\\\\\n",
       "\t FALSE & FALSE & FALSE & FALSE & FALSE & FALSE & FALSE & FALSE\\\\\n",
       "\t FALSE & FALSE & FALSE & FALSE & FALSE & FALSE & FALSE & FALSE\\\\\n",
       "\t FALSE & FALSE & FALSE & FALSE & FALSE & FALSE & FALSE & FALSE\\\\\n",
       "\\end{tabular}\n"
      ],
      "text/markdown": [
       "\n",
       "| Provinces | City | Population | Households | PersInHou | Male | Female | SexRatio |\n",
       "|---|---|---|---|---|---|---|---|\n",
       "| FALSE |  TRUE | FALSE | FALSE | FALSE | FALSE | FALSE | FALSE |\n",
       "| FALSE | FALSE | FALSE | FALSE | FALSE | FALSE | FALSE | FALSE |\n",
       "| FALSE | FALSE | FALSE | FALSE | FALSE | FALSE | FALSE | FALSE |\n",
       "| FALSE | FALSE | FALSE | FALSE | FALSE | FALSE | FALSE | FALSE |\n",
       "| FALSE | FALSE | FALSE | FALSE | FALSE | FALSE | FALSE | FALSE |\n",
       "| FALSE | FALSE | FALSE | FALSE | FALSE | FALSE | FALSE | FALSE |\n",
       "\n"
      ],
      "text/plain": [
       "     Provinces City  Population Households PersInHou Male  Female SexRatio\n",
       "[1,] FALSE      TRUE FALSE      FALSE      FALSE     FALSE FALSE  FALSE   \n",
       "[2,] FALSE     FALSE FALSE      FALSE      FALSE     FALSE FALSE  FALSE   \n",
       "[3,] FALSE     FALSE FALSE      FALSE      FALSE     FALSE FALSE  FALSE   \n",
       "[4,] FALSE     FALSE FALSE      FALSE      FALSE     FALSE FALSE  FALSE   \n",
       "[5,] FALSE     FALSE FALSE      FALSE      FALSE     FALSE FALSE  FALSE   \n",
       "[6,] FALSE     FALSE FALSE      FALSE      FALSE     FALSE FALSE  FALSE   "
      ]
     },
     "metadata": {},
     "output_type": "display_data"
    }
   ],
   "source": [
    "# is.na() NA 가 있는 값 TRUE\n",
    "head(is.na(df_new))"
   ]
  },
  {
   "cell_type": "code",
   "execution_count": 64,
   "metadata": {},
   "outputs": [
    {
     "data": {
      "text/html": [
       "<table>\n",
       "<thead><tr><th></th><th scope=col>Provinces</th><th scope=col>City</th><th scope=col>Population</th><th scope=col>Households</th><th scope=col>PersInHou</th><th scope=col>Male</th><th scope=col>Female</th><th scope=col>SexRatio</th></tr></thead>\n",
       "<tbody>\n",
       "\t<tr><th scope=row>1</th><td>서울특별시    </td><td>NA            </td><td>10,078,850    </td><td>4,197,478     </td><td>2.40          </td><td>4,962,774     </td><td>5,116,076     </td><td>0.97          </td></tr>\n",
       "\t<tr><th scope=row>27</th><td>부산광역시    </td><td>NA            </td><td>3,517,491     </td><td>1,430,441     </td><td>2.46          </td><td>1,737,975     </td><td>1,779,516     </td><td>0.98          </td></tr>\n",
       "\t<tr><th scope=row>44</th><td>대구광역시    </td><td>NA            </td><td>2,491,137     </td><td>977,714       </td><td>2.55          </td><td>1,239,275     </td><td>1,251,862     </td><td>0.99          </td></tr>\n",
       "\t<tr><th scope=row>53</th><td>인천광역시    </td><td>NA            </td><td>2,914,271     </td><td>1,145,232     </td><td>2.54          </td><td>1,464,320     </td><td>1,449,951     </td><td>1.01          </td></tr>\n",
       "\t<tr><th scope=row>64</th><td>광주광역시    </td><td>NA            </td><td>1,476,974     </td><td>577,941       </td><td>2.56          </td><td>731,808       </td><td>745,166       </td><td>0.98          </td></tr>\n",
       "\t<tr><th scope=row>70</th><td>대전광역시    </td><td>NA            </td><td>1,525,656     </td><td>595,216       </td><td>2.56          </td><td>763,262       </td><td>762,394       </td><td>1.00          </td></tr>\n",
       "\t<tr><th scope=row>76</th><td>울산광역시    </td><td>NA            </td><td>1,169,768     </td><td>447,229       </td><td>2.62          </td><td>602,945       </td><td>566,823       </td><td>1.06          </td></tr>\n",
       "\t<tr><th scope=row>82</th><td>세종특별자치시</td><td>NA            </td><td>185,212       </td><td>72,733        </td><td>2.55          </td><td>93,058        </td><td>92,154        </td><td>1.01          </td></tr>\n",
       "\t<tr><th scope=row>83</th><td>세종특별자치시</td><td>NA            </td><td>185,212       </td><td>72,733        </td><td>2.55          </td><td>93,058        </td><td>92,154        </td><td>1.01          </td></tr>\n",
       "\t<tr><th scope=row>84</th><td>경기도        </td><td>NA            </td><td>12,432,063    </td><td>4,829,521     </td><td>2.57          </td><td>6,256,986     </td><td>6,175,077     </td><td>1.01          </td></tr>\n",
       "\t<tr><th scope=row>136</th><td>강원도        </td><td>NA            </td><td>1,547,166     </td><td>680,373       </td><td>2.27          </td><td>780,487       </td><td>766,679       </td><td>1.02          </td></tr>\n",
       "\t<tr><th scope=row>155</th><td>충청북도      </td><td>NA            </td><td>1,582,181     </td><td>664,186       </td><td>2.38          </td><td>797,908       </td><td>784,273       </td><td>1.02          </td></tr>\n",
       "\t<tr><th scope=row>171</th><td>충청남도      </td><td>NA            </td><td>2,068,444     </td><td>878,544       </td><td>2.35          </td><td>1,049,546     </td><td>1,018,898     </td><td>1.03          </td></tr>\n",
       "\t<tr><th scope=row>189</th><td>전라북도      </td><td>NA            </td><td>1,869,668     </td><td>778,350       </td><td>2.40          </td><td>930,224       </td><td>939,444       </td><td>0.99          </td></tr>\n",
       "\t<tr><th scope=row>206</th><td>전라남도      </td><td>NA            </td><td>1,902,638     </td><td>827,264       </td><td>2.30          </td><td>950,693       </td><td>951,945       </td><td>1.00          </td></tr>\n",
       "\t<tr><th scope=row>229</th><td>경상북도      </td><td>NA            </td><td>2,697,791     </td><td>1,160,150     </td><td>2.33          </td><td>1,354,618     </td><td>1,343,173     </td><td>1.01          </td></tr>\n",
       "\t<tr><th scope=row>255</th><td>경상남도      </td><td>NA            </td><td>3,356,540     </td><td>1,356,430     </td><td>2.47          </td><td>1,690,798     </td><td>1,665,742     </td><td>1.02          </td></tr>\n",
       "\t<tr><th scope=row>279</th><td>제주특별자치도</td><td>NA            </td><td>615,250       </td><td>251,478       </td><td>2.45          </td><td>308,627       </td><td>306,623       </td><td>1.01          </td></tr>\n",
       "</tbody>\n",
       "</table>\n"
      ],
      "text/latex": [
       "\\begin{tabular}{r|llllllll}\n",
       "  & Provinces & City & Population & Households & PersInHou & Male & Female & SexRatio\\\\\n",
       "\\hline\n",
       "\t1 & 서울특별시     & NA             & 10,078,850     & 4,197,478      & 2.40           & 4,962,774      & 5,116,076      & 0.97          \\\\\n",
       "\t27 & 부산광역시     & NA             & 3,517,491      & 1,430,441      & 2.46           & 1,737,975      & 1,779,516      & 0.98          \\\\\n",
       "\t44 & 대구광역시     & NA             & 2,491,137      & 977,714        & 2.55           & 1,239,275      & 1,251,862      & 0.99          \\\\\n",
       "\t53 & 인천광역시     & NA             & 2,914,271      & 1,145,232      & 2.54           & 1,464,320      & 1,449,951      & 1.01          \\\\\n",
       "\t64 & 광주광역시     & NA             & 1,476,974      & 577,941        & 2.56           & 731,808        & 745,166        & 0.98          \\\\\n",
       "\t70 & 대전광역시     & NA             & 1,525,656      & 595,216        & 2.56           & 763,262        & 762,394        & 1.00          \\\\\n",
       "\t76 & 울산광역시     & NA             & 1,169,768      & 447,229        & 2.62           & 602,945        & 566,823        & 1.06          \\\\\n",
       "\t82 & 세종특별자치시 & NA             & 185,212        & 72,733         & 2.55           & 93,058         & 92,154         & 1.01          \\\\\n",
       "\t83 & 세종특별자치시 & NA             & 185,212        & 72,733         & 2.55           & 93,058         & 92,154         & 1.01          \\\\\n",
       "\t84 & 경기도         & NA             & 12,432,063     & 4,829,521      & 2.57           & 6,256,986      & 6,175,077      & 1.01          \\\\\n",
       "\t136 & 강원도         & NA             & 1,547,166      & 680,373        & 2.27           & 780,487        & 766,679        & 1.02          \\\\\n",
       "\t155 & 충청북도       & NA             & 1,582,181      & 664,186        & 2.38           & 797,908        & 784,273        & 1.02          \\\\\n",
       "\t171 & 충청남도       & NA             & 2,068,444      & 878,544        & 2.35           & 1,049,546      & 1,018,898      & 1.03          \\\\\n",
       "\t189 & 전라북도       & NA             & 1,869,668      & 778,350        & 2.40           & 930,224        & 939,444        & 0.99          \\\\\n",
       "\t206 & 전라남도       & NA             & 1,902,638      & 827,264        & 2.30           & 950,693        & 951,945        & 1.00          \\\\\n",
       "\t229 & 경상북도       & NA             & 2,697,791      & 1,160,150      & 2.33           & 1,354,618      & 1,343,173      & 1.01          \\\\\n",
       "\t255 & 경상남도       & NA             & 3,356,540      & 1,356,430      & 2.47           & 1,690,798      & 1,665,742      & 1.02          \\\\\n",
       "\t279 & 제주특별자치도 & NA             & 615,250        & 251,478        & 2.45           & 308,627        & 306,623        & 1.01          \\\\\n",
       "\\end{tabular}\n"
      ],
      "text/markdown": [
       "\n",
       "| <!--/--> | Provinces | City | Population | Households | PersInHou | Male | Female | SexRatio |\n",
       "|---|---|---|---|---|---|---|---|---|\n",
       "| 1 | 서울특별시     | NA             | 10,078,850     | 4,197,478      | 2.40           | 4,962,774      | 5,116,076      | 0.97           |\n",
       "| 27 | 부산광역시     | NA             | 3,517,491      | 1,430,441      | 2.46           | 1,737,975      | 1,779,516      | 0.98           |\n",
       "| 44 | 대구광역시     | NA             | 2,491,137      | 977,714        | 2.55           | 1,239,275      | 1,251,862      | 0.99           |\n",
       "| 53 | 인천광역시     | NA             | 2,914,271      | 1,145,232      | 2.54           | 1,464,320      | 1,449,951      | 1.01           |\n",
       "| 64 | 광주광역시     | NA             | 1,476,974      | 577,941        | 2.56           | 731,808        | 745,166        | 0.98           |\n",
       "| 70 | 대전광역시     | NA             | 1,525,656      | 595,216        | 2.56           | 763,262        | 762,394        | 1.00           |\n",
       "| 76 | 울산광역시     | NA             | 1,169,768      | 447,229        | 2.62           | 602,945        | 566,823        | 1.06           |\n",
       "| 82 | 세종특별자치시 | NA             | 185,212        | 72,733         | 2.55           | 93,058         | 92,154         | 1.01           |\n",
       "| 83 | 세종특별자치시 | NA             | 185,212        | 72,733         | 2.55           | 93,058         | 92,154         | 1.01           |\n",
       "| 84 | 경기도         | NA             | 12,432,063     | 4,829,521      | 2.57           | 6,256,986      | 6,175,077      | 1.01           |\n",
       "| 136 | 강원도         | NA             | 1,547,166      | 680,373        | 2.27           | 780,487        | 766,679        | 1.02           |\n",
       "| 155 | 충청북도       | NA             | 1,582,181      | 664,186        | 2.38           | 797,908        | 784,273        | 1.02           |\n",
       "| 171 | 충청남도       | NA             | 2,068,444      | 878,544        | 2.35           | 1,049,546      | 1,018,898      | 1.03           |\n",
       "| 189 | 전라북도       | NA             | 1,869,668      | 778,350        | 2.40           | 930,224        | 939,444        | 0.99           |\n",
       "| 206 | 전라남도       | NA             | 1,902,638      | 827,264        | 2.30           | 950,693        | 951,945        | 1.00           |\n",
       "| 229 | 경상북도       | NA             | 2,697,791      | 1,160,150      | 2.33           | 1,354,618      | 1,343,173      | 1.01           |\n",
       "| 255 | 경상남도       | NA             | 3,356,540      | 1,356,430      | 2.47           | 1,690,798      | 1,665,742      | 1.02           |\n",
       "| 279 | 제주특별자치도 | NA             | 615,250        | 251,478        | 2.45           | 308,627        | 306,623        | 1.01           |\n",
       "\n"
      ],
      "text/plain": [
       "    Provinces      City Population Households PersInHou Male      Female   \n",
       "1   서울특별시     NA   10,078,850 4,197,478  2.40      4,962,774 5,116,076\n",
       "27  부산광역시     NA   3,517,491  1,430,441  2.46      1,737,975 1,779,516\n",
       "44  대구광역시     NA   2,491,137  977,714    2.55      1,239,275 1,251,862\n",
       "53  인천광역시     NA   2,914,271  1,145,232  2.54      1,464,320 1,449,951\n",
       "64  광주광역시     NA   1,476,974  577,941    2.56      731,808   745,166  \n",
       "70  대전광역시     NA   1,525,656  595,216    2.56      763,262   762,394  \n",
       "76  울산광역시     NA   1,169,768  447,229    2.62      602,945   566,823  \n",
       "82  세종특별자치시 NA   185,212    72,733     2.55      93,058    92,154   \n",
       "83  세종특별자치시 NA   185,212    72,733     2.55      93,058    92,154   \n",
       "84  경기도         NA   12,432,063 4,829,521  2.57      6,256,986 6,175,077\n",
       "136 강원도         NA   1,547,166  680,373    2.27      780,487   766,679  \n",
       "155 충청북도       NA   1,582,181  664,186    2.38      797,908   784,273  \n",
       "171 충청남도       NA   2,068,444  878,544    2.35      1,049,546 1,018,898\n",
       "189 전라북도       NA   1,869,668  778,350    2.40      930,224   939,444  \n",
       "206 전라남도       NA   1,902,638  827,264    2.30      950,693   951,945  \n",
       "229 경상북도       NA   2,697,791  1,160,150  2.33      1,354,618 1,343,173\n",
       "255 경상남도       NA   3,356,540  1,356,430  2.47      1,690,798 1,665,742\n",
       "279 제주특별자치도 NA   615,250    251,478    2.45      308,627   306,623  \n",
       "    SexRatio\n",
       "1   0.97    \n",
       "27  0.98    \n",
       "44  0.99    \n",
       "53  1.01    \n",
       "64  0.98    \n",
       "70  1.00    \n",
       "76  1.06    \n",
       "82  1.01    \n",
       "83  1.01    \n",
       "84  1.01    \n",
       "136 1.02    \n",
       "155 1.02    \n",
       "171 1.03    \n",
       "189 0.99    \n",
       "206 1.00    \n",
       "229 1.01    \n",
       "255 1.02    \n",
       "279 1.01    "
      ]
     },
     "metadata": {},
     "output_type": "display_data"
    }
   ],
   "source": [
    "df_new3 <- df_new[is.na(df_new$City),]\n",
    "df_new3"
   ]
  },
  {
   "cell_type": "code",
   "execution_count": 65,
   "metadata": {},
   "outputs": [
    {
     "data": {
      "text/html": [
       "<table>\n",
       "<thead><tr><th></th><th scope=col>Provinces</th><th scope=col>City</th><th scope=col>Population</th><th scope=col>Households</th><th scope=col>PersInHou</th><th scope=col>Male</th><th scope=col>Female</th><th scope=col>SexRatio</th></tr></thead>\n",
       "<tbody>\n",
       "\t<tr><th scope=row>1</th><td>서울특별시</td><td>NA        </td><td>10,078,850</td><td>4,197,478 </td><td>2.40      </td><td>4,962,774 </td><td>5,116,076 </td><td>0.97      </td></tr>\n",
       "\t<tr><th scope=row>27</th><td>부산광역시</td><td>NA        </td><td>3,517,491 </td><td>1,430,441 </td><td>2.46      </td><td>1,737,975 </td><td>1,779,516 </td><td>0.98      </td></tr>\n",
       "\t<tr><th scope=row>44</th><td>대구광역시</td><td>NA        </td><td>2,491,137 </td><td>977,714   </td><td>2.55      </td><td>1,239,275 </td><td>1,251,862 </td><td>0.99      </td></tr>\n",
       "\t<tr><th scope=row>53</th><td>인천광역시</td><td>NA        </td><td>2,914,271 </td><td>1,145,232 </td><td>2.54      </td><td>1,464,320 </td><td>1,449,951 </td><td>1.01      </td></tr>\n",
       "\t<tr><th scope=row>64</th><td>광주광역시</td><td>NA        </td><td>1,476,974 </td><td>577,941   </td><td>2.56      </td><td>731,808   </td><td>745,166   </td><td>0.98      </td></tr>\n",
       "\t<tr><th scope=row>70</th><td>대전광역시</td><td>NA        </td><td>1,525,656 </td><td>595,216   </td><td>2.56      </td><td>763,262   </td><td>762,394   </td><td>1.00      </td></tr>\n",
       "</tbody>\n",
       "</table>\n"
      ],
      "text/latex": [
       "\\begin{tabular}{r|llllllll}\n",
       "  & Provinces & City & Population & Households & PersInHou & Male & Female & SexRatio\\\\\n",
       "\\hline\n",
       "\t1 & 서울특별시 & NA         & 10,078,850 & 4,197,478  & 2.40       & 4,962,774  & 5,116,076  & 0.97      \\\\\n",
       "\t27 & 부산광역시 & NA         & 3,517,491  & 1,430,441  & 2.46       & 1,737,975  & 1,779,516  & 0.98      \\\\\n",
       "\t44 & 대구광역시 & NA         & 2,491,137  & 977,714    & 2.55       & 1,239,275  & 1,251,862  & 0.99      \\\\\n",
       "\t53 & 인천광역시 & NA         & 2,914,271  & 1,145,232  & 2.54       & 1,464,320  & 1,449,951  & 1.01      \\\\\n",
       "\t64 & 광주광역시 & NA         & 1,476,974  & 577,941    & 2.56       & 731,808    & 745,166    & 0.98      \\\\\n",
       "\t70 & 대전광역시 & NA         & 1,525,656  & 595,216    & 2.56       & 763,262    & 762,394    & 1.00      \\\\\n",
       "\\end{tabular}\n"
      ],
      "text/markdown": [
       "\n",
       "| <!--/--> | Provinces | City | Population | Households | PersInHou | Male | Female | SexRatio |\n",
       "|---|---|---|---|---|---|---|---|---|\n",
       "| 1 | 서울특별시 | NA         | 10,078,850 | 4,197,478  | 2.40       | 4,962,774  | 5,116,076  | 0.97       |\n",
       "| 27 | 부산광역시 | NA         | 3,517,491  | 1,430,441  | 2.46       | 1,737,975  | 1,779,516  | 0.98       |\n",
       "| 44 | 대구광역시 | NA         | 2,491,137  | 977,714    | 2.55       | 1,239,275  | 1,251,862  | 0.99       |\n",
       "| 53 | 인천광역시 | NA         | 2,914,271  | 1,145,232  | 2.54       | 1,464,320  | 1,449,951  | 1.01       |\n",
       "| 64 | 광주광역시 | NA         | 1,476,974  | 577,941    | 2.56       | 731,808    | 745,166    | 0.98       |\n",
       "| 70 | 대전광역시 | NA         | 1,525,656  | 595,216    | 2.56       | 763,262    | 762,394    | 1.00       |\n",
       "\n"
      ],
      "text/plain": [
       "   Provinces  City Population Households PersInHou Male      Female    SexRatio\n",
       "1  서울특별시 NA   10,078,850 4,197,478  2.40      4,962,774 5,116,076 0.97    \n",
       "27 부산광역시 NA   3,517,491  1,430,441  2.46      1,737,975 1,779,516 0.98    \n",
       "44 대구광역시 NA   2,491,137  977,714    2.55      1,239,275 1,251,862 0.99    \n",
       "53 인천광역시 NA   2,914,271  1,145,232  2.54      1,464,320 1,449,951 1.01    \n",
       "64 광주광역시 NA   1,476,974  577,941    2.56      731,808   745,166   0.98    \n",
       "70 대전광역시 NA   1,525,656  595,216    2.56      763,262   762,394   1.00    "
      ]
     },
     "metadata": {},
     "output_type": "display_data"
    }
   ],
   "source": [
    "df_new4 <- df_new[!complete.cases(df_new),]\n",
    "head(df_new4)"
   ]
  },
  {
   "cell_type": "code",
   "execution_count": 66,
   "metadata": {},
   "outputs": [
    {
     "name": "stdout",
     "output_type": "stream",
     "text": [
      "'data.frame':\t263 obs. of  8 variables:\n",
      " $ Provinces : Factor w/ 17 levels \"강원도\",\"경기도\",..: 9 9 9 9 9 9 9 9 9 9 ...\n",
      " $ City      : Factor w/ 241 levels \" \",\"가평군 \",..: 188 189 158 105 32 65 190 106 6 63 ...\n",
      " $ Population: chr  \"155,695\" \"126,817\" \"235,186\" \"298,145\" ...\n",
      " $ Households: chr  \"72,882\" \"59,614\" \"108,138\" \"126,915\" ...\n",
      " $ PersInHou : num  2.14 2.13 2.17 2.35 2.28 2.26 2.36 2.41 2.36 2.57 ...\n",
      " $ Male      : chr  \"76,962\" \"63,292\" \"114,119\" \"148,265\" ...\n",
      " $ Female    : chr  \"78,733\" \"63,525\" \"121,067\" \"149,880\" ...\n",
      " $ SexRatio  : num  0.98 1 0.94 0.99 0.97 1.01 1 0.96 0.97 0.97 ...\n"
     ]
    }
   ],
   "source": [
    "# 인구수 변수 \",\" 처리하고 수치형으로 변환\n",
    "str(df_new2)"
   ]
  },
  {
   "cell_type": "code",
   "execution_count": 68,
   "metadata": {},
   "outputs": [],
   "source": [
    "for(i in 3:8){\n",
    "    df_new2[,i] <- sapply(df_new2[,i], function(x) gsub(',','',x))\n",
    "    df_new2[,i] <- as.numeric(df_new2[,i])\n",
    "}\n",
    "df_fin <- df_new2"
   ]
  },
  {
   "cell_type": "code",
   "execution_count": 69,
   "metadata": {},
   "outputs": [
    {
     "data": {
      "text/html": [
       "<table>\n",
       "<thead><tr><th></th><th scope=col>Provinces</th><th scope=col>City</th><th scope=col>Population</th><th scope=col>Households</th><th scope=col>PersInHou</th><th scope=col>Male</th><th scope=col>Female</th><th scope=col>SexRatio</th></tr></thead>\n",
       "<tbody>\n",
       "\t<tr><th scope=row>2</th><td>서울특별시</td><td>종로구    </td><td>155695    </td><td> 72882    </td><td>2.14      </td><td> 76962    </td><td> 78733    </td><td>0.98      </td></tr>\n",
       "\t<tr><th scope=row>3</th><td>서울특별시</td><td>중구      </td><td>126817    </td><td> 59614    </td><td>2.13      </td><td> 63292    </td><td> 63525    </td><td>1.00      </td></tr>\n",
       "\t<tr><th scope=row>4</th><td>서울특별시</td><td>용산구    </td><td>235186    </td><td>108138    </td><td>2.17      </td><td>114119    </td><td>121067    </td><td>0.94      </td></tr>\n",
       "\t<tr><th scope=row>5</th><td>서울특별시</td><td>성동구    </td><td>298145    </td><td>126915    </td><td>2.35      </td><td>148265    </td><td>149880    </td><td>0.99      </td></tr>\n",
       "\t<tr><th scope=row>6</th><td>서울특별시</td><td>광진구    </td><td>362197    </td><td>158769    </td><td>2.28      </td><td>177946    </td><td>184251    </td><td>0.97      </td></tr>\n",
       "\t<tr><th scope=row>7</th><td>서울특별시</td><td>동대문구  </td><td>362604    </td><td>160110    </td><td>2.26      </td><td>181825    </td><td>180779    </td><td>1.01      </td></tr>\n",
       "</tbody>\n",
       "</table>\n"
      ],
      "text/latex": [
       "\\begin{tabular}{r|llllllll}\n",
       "  & Provinces & City & Population & Households & PersInHou & Male & Female & SexRatio\\\\\n",
       "\\hline\n",
       "\t2 & 서울특별시 & 종로구     & 155695     &  72882     & 2.14       &  76962     &  78733     & 0.98      \\\\\n",
       "\t3 & 서울특별시 & 중구       & 126817     &  59614     & 2.13       &  63292     &  63525     & 1.00      \\\\\n",
       "\t4 & 서울특별시 & 용산구     & 235186     & 108138     & 2.17       & 114119     & 121067     & 0.94      \\\\\n",
       "\t5 & 서울특별시 & 성동구     & 298145     & 126915     & 2.35       & 148265     & 149880     & 0.99      \\\\\n",
       "\t6 & 서울특별시 & 광진구     & 362197     & 158769     & 2.28       & 177946     & 184251     & 0.97      \\\\\n",
       "\t7 & 서울특별시 & 동대문구   & 362604     & 160110     & 2.26       & 181825     & 180779     & 1.01      \\\\\n",
       "\\end{tabular}\n"
      ],
      "text/markdown": [
       "\n",
       "| <!--/--> | Provinces | City | Population | Households | PersInHou | Male | Female | SexRatio |\n",
       "|---|---|---|---|---|---|---|---|---|\n",
       "| 2 | 서울특별시 | 종로구     | 155695     |  72882     | 2.14       |  76962     |  78733     | 0.98       |\n",
       "| 3 | 서울특별시 | 중구       | 126817     |  59614     | 2.13       |  63292     |  63525     | 1.00       |\n",
       "| 4 | 서울특별시 | 용산구     | 235186     | 108138     | 2.17       | 114119     | 121067     | 0.94       |\n",
       "| 5 | 서울특별시 | 성동구     | 298145     | 126915     | 2.35       | 148265     | 149880     | 0.99       |\n",
       "| 6 | 서울특별시 | 광진구     | 362197     | 158769     | 2.28       | 177946     | 184251     | 0.97       |\n",
       "| 7 | 서울특별시 | 동대문구   | 362604     | 160110     | 2.26       | 181825     | 180779     | 1.01       |\n",
       "\n"
      ],
      "text/plain": [
       "  Provinces  City      Population Households PersInHou Male   Female SexRatio\n",
       "2 서울특별시 종로구    155695      72882     2.14       76962  78733 0.98    \n",
       "3 서울특별시 중구      126817      59614     2.13       63292  63525 1.00    \n",
       "4 서울특별시 용산구    235186     108138     2.17      114119 121067 0.94    \n",
       "5 서울특별시 성동구    298145     126915     2.35      148265 149880 0.99    \n",
       "6 서울특별시 광진구    362197     158769     2.28      177946 184251 0.97    \n",
       "7 서울특별시 동대문구  362604     160110     2.26      181825 180779 1.01    "
      ]
     },
     "metadata": {},
     "output_type": "display_data"
    }
   ],
   "source": [
    "head(df_fin)"
   ]
  },
  {
   "cell_type": "code",
   "execution_count": 70,
   "metadata": {},
   "outputs": [
    {
     "data": {
      "text/html": [
       "<dl class=dl-horizontal>\n",
       "\t<dt>강원도</dt>\n",
       "\t\t<dd>1547166</dd>\n",
       "\t<dt>경기도</dt>\n",
       "\t\t<dd>18723822</dd>\n",
       "\t<dt>경상남도</dt>\n",
       "\t\t<dd>4428762</dd>\n",
       "\t<dt>경상북도</dt>\n",
       "\t\t<dd>3215695</dd>\n",
       "\t<dt>광주광역시</dt>\n",
       "\t\t<dd>1476974</dd>\n",
       "\t<dt>대구광역시</dt>\n",
       "\t\t<dd>2491137</dd>\n",
       "\t<dt>대전광역시</dt>\n",
       "\t\t<dd>1525656</dd>\n",
       "\t<dt>부산광역시</dt>\n",
       "\t\t<dd>3517491</dd>\n",
       "\t<dt>서울특별시</dt>\n",
       "\t\t<dd>10078850</dd>\n",
       "\t<dt>세종특별자치시</dt>\n",
       "\t\t<dd>&lt;NA&gt;</dd>\n",
       "\t<dt>울산광역시</dt>\n",
       "\t\t<dd>1169768</dd>\n",
       "\t<dt>인천광역시</dt>\n",
       "\t\t<dd>2914271</dd>\n",
       "\t<dt>전라남도</dt>\n",
       "\t\t<dd>1902638</dd>\n",
       "\t<dt>전라북도</dt>\n",
       "\t\t<dd>2523806</dd>\n",
       "\t<dt>제주특별자치도</dt>\n",
       "\t\t<dd>615250</dd>\n",
       "\t<dt>충청남도</dt>\n",
       "\t\t<dd>2671383</dd>\n",
       "\t<dt>충청북도</dt>\n",
       "\t\t<dd>2414568</dd>\n",
       "</dl>\n"
      ],
      "text/latex": [
       "\\begin{description*}\n",
       "\\item[강원도] 1547166\n",
       "\\item[경기도] 18723822\n",
       "\\item[경상남도] 4428762\n",
       "\\item[경상북도] 3215695\n",
       "\\item[광주광역시] 1476974\n",
       "\\item[대구광역시] 2491137\n",
       "\\item[대전광역시] 1525656\n",
       "\\item[부산광역시] 3517491\n",
       "\\item[서울특별시] 10078850\n",
       "\\item[세종특별자치시] <NA>\n",
       "\\item[울산광역시] 1169768\n",
       "\\item[인천광역시] 2914271\n",
       "\\item[전라남도] 1902638\n",
       "\\item[전라북도] 2523806\n",
       "\\item[제주특별자치도] 615250\n",
       "\\item[충청남도] 2671383\n",
       "\\item[충청북도] 2414568\n",
       "\\end{description*}\n"
      ],
      "text/markdown": [
       "강원도\n",
       ":   1547166경기도\n",
       ":   18723822경상남도\n",
       ":   4428762경상북도\n",
       ":   3215695광주광역시\n",
       ":   1476974대구광역시\n",
       ":   2491137대전광역시\n",
       ":   1525656부산광역시\n",
       ":   3517491서울특별시\n",
       ":   10078850세종특별자치시\n",
       ":   &lt;NA&gt;울산광역시\n",
       ":   1169768인천광역시\n",
       ":   2914271전라남도\n",
       ":   1902638전라북도\n",
       ":   2523806제주특별자치도\n",
       ":   615250충청남도\n",
       ":   2671383충청북도\n",
       ":   2414568\n",
       "\n"
      ],
      "text/plain": [
       "        강원도         경기도       경상남도       경상북도     광주광역시 \n",
       "       1547166       18723822        4428762        3215695        1476974 \n",
       "    대구광역시     대전광역시     부산광역시     서울특별시 세종특별자치시 \n",
       "       2491137        1525656        3517491       10078850             NA \n",
       "    울산광역시     인천광역시       전라남도       전라북도 제주특별자치도 \n",
       "       1169768        2914271        1902638        2523806         615250 \n",
       "      충청남도       충청북도 \n",
       "       2671383        2414568 "
      ]
     },
     "metadata": {},
     "output_type": "display_data"
    }
   ],
   "source": [
    "# 그룹혈로 동일한 함수 적용 - tapply(적용할변수, 그룹지을변수, 적욜할함수)\n",
    "# tapply(heigh, sex, mean) - 성별로 키갑 평균\n",
    "# 도(첫번재 변수)별 인구수 합계\n",
    "sum_pop <- tapply(df_fin$Population, df_fin$Provinces, sum)\n",
    "sum_pop"
   ]
  },
  {
   "cell_type": "code",
   "execution_count": 71,
   "metadata": {},
   "outputs": [
    {
     "data": {
      "text/html": [
       "<dl class=dl-horizontal>\n",
       "\t<dt>강원도</dt>\n",
       "\t\t<dd>1547166</dd>\n",
       "\t<dt>경기도</dt>\n",
       "\t\t<dd>18723822</dd>\n",
       "\t<dt>경상남도</dt>\n",
       "\t\t<dd>4428762</dd>\n",
       "\t<dt>경상북도</dt>\n",
       "\t\t<dd>3215695</dd>\n",
       "\t<dt>광주광역시</dt>\n",
       "\t\t<dd>1476974</dd>\n",
       "\t<dt>대구광역시</dt>\n",
       "\t\t<dd>2491137</dd>\n",
       "\t<dt>대전광역시</dt>\n",
       "\t\t<dd>1525656</dd>\n",
       "\t<dt>부산광역시</dt>\n",
       "\t\t<dd>3517491</dd>\n",
       "\t<dt>서울특별시</dt>\n",
       "\t\t<dd>10078850</dd>\n",
       "\t<dt>울산광역시</dt>\n",
       "\t\t<dd>1169768</dd>\n",
       "\t<dt>인천광역시</dt>\n",
       "\t\t<dd>2914271</dd>\n",
       "\t<dt>전라남도</dt>\n",
       "\t\t<dd>1902638</dd>\n",
       "\t<dt>전라북도</dt>\n",
       "\t\t<dd>2523806</dd>\n",
       "\t<dt>제주특별자치도</dt>\n",
       "\t\t<dd>615250</dd>\n",
       "\t<dt>충청남도</dt>\n",
       "\t\t<dd>2671383</dd>\n",
       "\t<dt>충청북도</dt>\n",
       "\t\t<dd>2414568</dd>\n",
       "</dl>\n"
      ],
      "text/latex": [
       "\\begin{description*}\n",
       "\\item[강원도] 1547166\n",
       "\\item[경기도] 18723822\n",
       "\\item[경상남도] 4428762\n",
       "\\item[경상북도] 3215695\n",
       "\\item[광주광역시] 1476974\n",
       "\\item[대구광역시] 2491137\n",
       "\\item[대전광역시] 1525656\n",
       "\\item[부산광역시] 3517491\n",
       "\\item[서울특별시] 10078850\n",
       "\\item[울산광역시] 1169768\n",
       "\\item[인천광역시] 2914271\n",
       "\\item[전라남도] 1902638\n",
       "\\item[전라북도] 2523806\n",
       "\\item[제주특별자치도] 615250\n",
       "\\item[충청남도] 2671383\n",
       "\\item[충청북도] 2414568\n",
       "\\end{description*}\n"
      ],
      "text/markdown": [
       "강원도\n",
       ":   1547166경기도\n",
       ":   18723822경상남도\n",
       ":   4428762경상북도\n",
       ":   3215695광주광역시\n",
       ":   1476974대구광역시\n",
       ":   2491137대전광역시\n",
       ":   1525656부산광역시\n",
       ":   3517491서울특별시\n",
       ":   10078850울산광역시\n",
       ":   1169768인천광역시\n",
       ":   2914271전라남도\n",
       ":   1902638전라북도\n",
       ":   2523806제주특별자치도\n",
       ":   615250충청남도\n",
       ":   2671383충청북도\n",
       ":   2414568\n",
       "\n"
      ],
      "text/plain": [
       "        강원도         경기도       경상남도       경상북도     광주광역시 \n",
       "       1547166       18723822        4428762        3215695        1476974 \n",
       "    대구광역시     대전광역시     부산광역시     서울특별시     울산광역시 \n",
       "       2491137        1525656        3517491       10078850        1169768 \n",
       "    인천광역시       전라남도       전라북도 제주특별자치도       충청남도 \n",
       "       2914271        1902638        2523806         615250        2671383 \n",
       "      충청북도 \n",
       "       2414568 "
      ]
     },
     "metadata": {},
     "output_type": "display_data"
    }
   ],
   "source": [
    "# Level 값이 남아있어 나온 세종특별자치시 삭제\n",
    "df_fin[,1] <- factor(df_fin[,1]) # 갑이 없는 Levle 삭제 됨\n",
    "sum_pop <- tapply(df_fin$Population, df_fin$Provinces, sum)\n",
    "sum_pop"
   ]
  },
  {
   "cell_type": "code",
   "execution_count": 72,
   "metadata": {},
   "outputs": [
    {
     "data": {
      "image/png": "[encoded data removed]",
      "text/plain": [
       "plot without title"
      ]
     },
     "metadata": {},
     "output_type": "display_data"
    }
   ],
   "source": [
    "ggplot(df_fin, aes(x=Provinces, y=Population, fill=Provinces)) +\n",
    "geom_bar(stat='identity') + \n",
    "theme_wsj()"
   ]
  },
  {
   "cell_type": "code",
   "execution_count": 73,
   "metadata": {},
   "outputs": [],
   "source": [
    "# csv로 저장하기\n",
    "write.csv(df_fin, 'example_population_f.csv')"
   ]
  },
  {
   "cell_type": "code",
   "execution_count": null,
   "metadata": {},
   "outputs": [],
   "source": []
  }
 ],
 "metadata": {
  "kernelspec": {
   "display_name": "R",
   "language": "R",
   "name": "ir"
  },
  "language_info": {
   "codemirror_mode": "r",
   "file_extension": ".r",
   "mimetype": "text/x-r-source",
   "name": "R",
   "pygments_lexer": "r",
   "version": "3.6.1"
  }
 },
 "nbformat": 4,
 "nbformat_minor": 4
}
