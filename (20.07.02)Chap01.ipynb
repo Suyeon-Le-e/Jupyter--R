{
 "cells": [
  {
   "cell_type": "code",
   "execution_count": 1,
   "metadata": {},
   "outputs": [
    {
     "data": {
      "text/html": [
       "362880"
      ],
      "text/latex": [
       "362880"
      ],
      "text/markdown": [
       "362880"
      ],
      "text/plain": [
       "[1] 362880"
      ]
     },
     "metadata": {},
     "output_type": "display_data"
    }
   ],
   "source": [
    "# R은 계산기\n",
    "9*8*7*6*5*4*3*2*1"
   ]
  },
  {
   "cell_type": "code",
   "execution_count": 2,
   "metadata": {},
   "outputs": [
    {
     "data": {
      "text/html": [
       "362880"
      ],
      "text/latex": [
       "362880"
      ],
      "text/markdown": [
       "362880"
      ],
      "text/plain": [
       "[1] 362880"
      ]
     },
     "metadata": {},
     "output_type": "display_data"
    }
   ],
   "source": [
    "factorial(9)"
   ]
  },
  {
   "cell_type": "code",
   "execution_count": 3,
   "metadata": {},
   "outputs": [
    {
     "data": {
      "text/html": [
       "<ol class=list-inline>\n",
       "\t<li>'밥먹자'</li>\n",
       "\t<li>'밥먹자'</li>\n",
       "\t<li>'밥먹자'</li>\n",
       "\t<li>'밥먹자'</li>\n",
       "\t<li>'밥먹자'</li>\n",
       "</ol>\n"
      ],
      "text/latex": [
       "\\begin{enumerate*}\n",
       "\\item '밥먹자'\n",
       "\\item '밥먹자'\n",
       "\\item '밥먹자'\n",
       "\\item '밥먹자'\n",
       "\\item '밥먹자'\n",
       "\\end{enumerate*}\n"
      ],
      "text/markdown": [
       "1. '밥먹자'\n",
       "2. '밥먹자'\n",
       "3. '밥먹자'\n",
       "4. '밥먹자'\n",
       "5. '밥먹자'\n",
       "\n",
       "\n"
      ],
      "text/plain": [
       "[1] \"밥먹자\" \"밥먹자\" \"밥먹자\" \"밥먹자\" \"밥먹자\""
      ]
     },
     "metadata": {},
     "output_type": "display_data"
    }
   ],
   "source": [
    "# 함수 인자 \n",
    "rep(x='밥먹자', times=5)"
   ]
  },
  {
   "cell_type": "code",
   "execution_count": 4,
   "metadata": {},
   "outputs": [
    {
     "data": {
      "text/html": [
       "<ol class=list-inline>\n",
       "\t<li>'밥먹자'</li>\n",
       "\t<li>'밥먹자'</li>\n",
       "\t<li>'밥먹자'</li>\n",
       "\t<li>'밥먹자'</li>\n",
       "\t<li>'밥먹자'</li>\n",
       "</ol>\n"
      ],
      "text/latex": [
       "\\begin{enumerate*}\n",
       "\\item '밥먹자'\n",
       "\\item '밥먹자'\n",
       "\\item '밥먹자'\n",
       "\\item '밥먹자'\n",
       "\\item '밥먹자'\n",
       "\\end{enumerate*}\n"
      ],
      "text/markdown": [
       "1. '밥먹자'\n",
       "2. '밥먹자'\n",
       "3. '밥먹자'\n",
       "4. '밥먹자'\n",
       "5. '밥먹자'\n",
       "\n",
       "\n"
      ],
      "text/plain": [
       "[1] \"밥먹자\" \"밥먹자\" \"밥먹자\" \"밥먹자\" \"밥먹자\""
      ]
     },
     "metadata": {},
     "output_type": "display_data"
    }
   ],
   "source": [
    "# 함수 인자 생략\n",
    "rep('밥먹자', 5)"
   ]
  },
  {
   "cell_type": "markdown",
   "metadata": {},
   "source": [
    "### 그래프 함수 "
   ]
  },
  {
   "cell_type": "code",
   "execution_count": 5,
   "metadata": {},
   "outputs": [
    {
     "data": {
      "image/png": "[encoded data removed]",
      "text/plain": [
       "plot without title"
      ]
     },
     "metadata": {},
     "output_type": "display_data"
    }
   ],
   "source": [
    "plot(10,10)"
   ]
  },
  {
   "cell_type": "code",
   "execution_count": 6,
   "metadata": {},
   "outputs": [
    {
     "data": {
      "image/png": "[encoded data removed]",
      "text/plain": [
       "plot without title"
      ]
     },
     "metadata": {},
     "output_type": "display_data"
    }
   ],
   "source": [
    "plot(c(5,7), c(20,30))"
   ]
  },
  {
   "cell_type": "code",
   "execution_count": 7,
   "metadata": {},
   "outputs": [
    {
     "data": {
      "image/png": "[encoded data removed]",
      "text/plain": [
       "plot without title"
      ]
     },
     "metadata": {},
     "output_type": "display_data"
    }
   ],
   "source": [
    "# runif() 랜덤 숫자 리턴\n",
    "plot(runif(100), runif(100))"
   ]
  },
  {
   "cell_type": "markdown",
   "metadata": {},
   "source": [
    "### 객체(변수) 사용"
   ]
  },
  {
   "cell_type": "code",
   "execution_count": 8,
   "metadata": {},
   "outputs": [
    {
     "data": {
      "text/html": [
       "1"
      ],
      "text/latex": [
       "1"
      ],
      "text/markdown": [
       "1"
      ],
      "text/plain": [
       "[1] 1"
      ]
     },
     "metadata": {},
     "output_type": "display_data"
    }
   ],
   "source": [
    "obj1 <- 1\n",
    "obj1"
   ]
  },
  {
   "cell_type": "code",
   "execution_count": 9,
   "metadata": {},
   "outputs": [
    {
     "data": {
      "text/html": [
       "<span style=white-space:pre-wrap>'Hello  R'</span>"
      ],
      "text/latex": [
       "'Hello  R'"
      ],
      "text/markdown": [
       "<span style=white-space:pre-wrap>'Hello  R'</span>"
      ],
      "text/plain": [
       "[1] \"Hello  R\""
      ]
     },
     "metadata": {},
     "output_type": "display_data"
    }
   ],
   "source": [
    "str1 <- 'Hello '\n",
    "str2 <- 'R'\n",
    "# paste() 여러 객체를 합쳐서 보여 줌\n",
    "paste(str1,str2)"
   ]
  },
  {
   "cell_type": "markdown",
   "metadata": {},
   "source": [
    "### R의 자료 최소 단위는 벡터\n",
    "- R에는 포인터 개념이 없음"
   ]
  },
  {
   "cell_type": "code",
   "execution_count": 10,
   "metadata": {},
   "outputs": [],
   "source": [
    "i1 <- 10\n",
    "i2 <- 20\n",
    "i1 <- i2\n",
    "i2 <- 100"
   ]
  },
  {
   "cell_type": "code",
   "execution_count": 11,
   "metadata": {},
   "outputs": [
    {
     "data": {
      "text/html": [
       "20"
      ],
      "text/latex": [
       "20"
      ],
      "text/markdown": [
       "20"
      ],
      "text/plain": [
       "[1] 20"
      ]
     },
     "metadata": {},
     "output_type": "display_data"
    }
   ],
   "source": [
    "i1"
   ]
  },
  {
   "cell_type": "markdown",
   "metadata": {},
   "source": [
    "### 객체(변수)에 함수 넣기\n",
    "- 함수의 리턴 값이 들어감"
   ]
  },
  {
   "cell_type": "code",
   "execution_count": 12,
   "metadata": {},
   "outputs": [
    {
     "data": {
      "text/html": [
       "<table>\n",
       "<thead><tr><th scope=col>name</th><th scope=col>sex</th><th scope=col>age</th><th scope=col>grade</th><th scope=col>absence</th><th scope=col>bloodtype</th><th scope=col>height</th><th scope=col>weight</th></tr></thead>\n",
       "<tbody>\n",
       "\t<tr><td>김길동</td><td>남자  </td><td>23    </td><td>3     </td><td>유    </td><td>O     </td><td>165.3 </td><td>68.2  </td></tr>\n",
       "\t<tr><td>이미린</td><td>여자  </td><td>22    </td><td>2     </td><td>무    </td><td>AB    </td><td>170.1 </td><td>53.0  </td></tr>\n",
       "\t<tr><td>홍길동</td><td>남자  </td><td>24    </td><td>4     </td><td>무    </td><td>B     </td><td>175.0 </td><td>80.1  </td></tr>\n",
       "\t<tr><td>김철수</td><td>남자  </td><td>23    </td><td>3     </td><td>무    </td><td>AB    </td><td>182.1 </td><td>85.7  </td></tr>\n",
       "\t<tr><td>손세수</td><td>여자  </td><td>20    </td><td>1     </td><td>유    </td><td>A     </td><td>168.0 </td><td>49.5  </td></tr>\n",
       "\t<tr><td>박미희</td><td>여자  </td><td>21    </td><td>2     </td><td>무    </td><td>O     </td><td>162.0 </td><td>52.0  </td></tr>\n",
       "\t<tr><td>강수친</td><td>여자  </td><td>22    </td><td>1     </td><td>무    </td><td>O     </td><td>155.2 </td><td>45.3  </td></tr>\n",
       "\t<tr><td>이희수</td><td>여자  </td><td>23    </td><td>1     </td><td>무    </td><td>A     </td><td>176.9 </td><td>55.0  </td></tr>\n",
       "\t<tr><td>이철린</td><td>남자  </td><td>23    </td><td>3     </td><td>무    </td><td>B     </td><td>178.5 </td><td>64.2  </td></tr>\n",
       "\t<tr><td>방희철</td><td>남자  </td><td>22    </td><td>2     </td><td>무    </td><td>B     </td><td>176.1 </td><td>61.3  </td></tr>\n",
       "\t<tr><td>박수호</td><td>남자  </td><td>24    </td><td>4     </td><td>유    </td><td>O     </td><td>167.1 </td><td>62.0  </td></tr>\n",
       "\t<tr><td>임동민</td><td>남자  </td><td>22    </td><td>2     </td><td>무    </td><td>AB    </td><td>180.0 </td><td>75.8  </td></tr>\n",
       "\t<tr><td>김민수</td><td>남자  </td><td>21    </td><td>1     </td><td>무    </td><td>A     </td><td>162.2 </td><td>55.3  </td></tr>\n",
       "\t<tr><td>이희진</td><td>여자  </td><td>23    </td><td>3     </td><td>무    </td><td>O     </td><td>176.1 </td><td>53.1  </td></tr>\n",
       "\t<tr><td>김미진</td><td>여자  </td><td>22    </td><td>2     </td><td>무    </td><td>B     </td><td>158.2 </td><td>45.2  </td></tr>\n",
       "\t<tr><td>김동수</td><td>남자  </td><td>24    </td><td>4     </td><td>유    </td><td>B     </td><td>168.6 </td><td>70.2  </td></tr>\n",
       "\t<tr><td>여수근</td><td>남자  </td><td>21    </td><td>1     </td><td>무    </td><td>A     </td><td>169.2 </td><td>62.2  </td></tr>\n",
       "</tbody>\n",
       "</table>\n"
      ],
      "text/latex": [
       "\\begin{tabular}{r|llllllll}\n",
       " name & sex & age & grade & absence & bloodtype & height & weight\\\\\n",
       "\\hline\n",
       "\t 김길동 & 남자   & 23     & 3      & 유     & O      & 165.3  & 68.2  \\\\\n",
       "\t 이미린 & 여자   & 22     & 2      & 무     & AB     & 170.1  & 53.0  \\\\\n",
       "\t 홍길동 & 남자   & 24     & 4      & 무     & B      & 175.0  & 80.1  \\\\\n",
       "\t 김철수 & 남자   & 23     & 3      & 무     & AB     & 182.1  & 85.7  \\\\\n",
       "\t 손세수 & 여자   & 20     & 1      & 유     & A      & 168.0  & 49.5  \\\\\n",
       "\t 박미희 & 여자   & 21     & 2      & 무     & O      & 162.0  & 52.0  \\\\\n",
       "\t 강수친 & 여자   & 22     & 1      & 무     & O      & 155.2  & 45.3  \\\\\n",
       "\t 이희수 & 여자   & 23     & 1      & 무     & A      & 176.9  & 55.0  \\\\\n",
       "\t 이철린 & 남자   & 23     & 3      & 무     & B      & 178.5  & 64.2  \\\\\n",
       "\t 방희철 & 남자   & 22     & 2      & 무     & B      & 176.1  & 61.3  \\\\\n",
       "\t 박수호 & 남자   & 24     & 4      & 유     & O      & 167.1  & 62.0  \\\\\n",
       "\t 임동민 & 남자   & 22     & 2      & 무     & AB     & 180.0  & 75.8  \\\\\n",
       "\t 김민수 & 남자   & 21     & 1      & 무     & A      & 162.2  & 55.3  \\\\\n",
       "\t 이희진 & 여자   & 23     & 3      & 무     & O      & 176.1  & 53.1  \\\\\n",
       "\t 김미진 & 여자   & 22     & 2      & 무     & B      & 158.2  & 45.2  \\\\\n",
       "\t 김동수 & 남자   & 24     & 4      & 유     & B      & 168.6  & 70.2  \\\\\n",
       "\t 여수근 & 남자   & 21     & 1      & 무     & A      & 169.2  & 62.2  \\\\\n",
       "\\end{tabular}\n"
      ],
      "text/markdown": [
       "\n",
       "| name | sex | age | grade | absence | bloodtype | height | weight |\n",
       "|---|---|---|---|---|---|---|---|\n",
       "| 김길동 | 남자   | 23     | 3      | 유     | O      | 165.3  | 68.2   |\n",
       "| 이미린 | 여자   | 22     | 2      | 무     | AB     | 170.1  | 53.0   |\n",
       "| 홍길동 | 남자   | 24     | 4      | 무     | B      | 175.0  | 80.1   |\n",
       "| 김철수 | 남자   | 23     | 3      | 무     | AB     | 182.1  | 85.7   |\n",
       "| 손세수 | 여자   | 20     | 1      | 유     | A      | 168.0  | 49.5   |\n",
       "| 박미희 | 여자   | 21     | 2      | 무     | O      | 162.0  | 52.0   |\n",
       "| 강수친 | 여자   | 22     | 1      | 무     | O      | 155.2  | 45.3   |\n",
       "| 이희수 | 여자   | 23     | 1      | 무     | A      | 176.9  | 55.0   |\n",
       "| 이철린 | 남자   | 23     | 3      | 무     | B      | 178.5  | 64.2   |\n",
       "| 방희철 | 남자   | 22     | 2      | 무     | B      | 176.1  | 61.3   |\n",
       "| 박수호 | 남자   | 24     | 4      | 유     | O      | 167.1  | 62.0   |\n",
       "| 임동민 | 남자   | 22     | 2      | 무     | AB     | 180.0  | 75.8   |\n",
       "| 김민수 | 남자   | 21     | 1      | 무     | A      | 162.2  | 55.3   |\n",
       "| 이희진 | 여자   | 23     | 3      | 무     | O      | 176.1  | 53.1   |\n",
       "| 김미진 | 여자   | 22     | 2      | 무     | B      | 158.2  | 45.2   |\n",
       "| 김동수 | 남자   | 24     | 4      | 유     | B      | 168.6  | 70.2   |\n",
       "| 여수근 | 남자   | 21     | 1      | 무     | A      | 169.2  | 62.2   |\n",
       "\n"
      ],
      "text/plain": [
       "   name   sex  age grade absence bloodtype height weight\n",
       "1  김길동 남자 23  3     유      O         165.3  68.2  \n",
       "2  이미린 여자 22  2     무      AB        170.1  53.0  \n",
       "3  홍길동 남자 24  4     무      B         175.0  80.1  \n",
       "4  김철수 남자 23  3     무      AB        182.1  85.7  \n",
       "5  손세수 여자 20  1     유      A         168.0  49.5  \n",
       "6  박미희 여자 21  2     무      O         162.0  52.0  \n",
       "7  강수친 여자 22  1     무      O         155.2  45.3  \n",
       "8  이희수 여자 23  1     무      A         176.9  55.0  \n",
       "9  이철린 남자 23  3     무      B         178.5  64.2  \n",
       "10 방희철 남자 22  2     무      B         176.1  61.3  \n",
       "11 박수호 남자 24  4     유      O         167.1  62.0  \n",
       "12 임동민 남자 22  2     무      AB        180.0  75.8  \n",
       "13 김민수 남자 21  1     무      A         162.2  55.3  \n",
       "14 이희진 여자 23  3     무      O         176.1  53.1  \n",
       "15 김미진 여자 22  2     무      B         158.2  45.2  \n",
       "16 김동수 남자 24  4     유      B         168.6  70.2  \n",
       "17 여수근 남자 21  1     무      A         169.2  62.2  "
      ]
     },
     "metadata": {},
     "output_type": "display_data"
    }
   ],
   "source": [
    "excel1 <- read.csv('r-ggagi-data/example_studentlist.csv')\n",
    "excel1"
   ]
  },
  {
   "cell_type": "markdown",
   "metadata": {},
   "source": [
    "### 백터를 다루는 함수 c()\n",
    "- c() 안에 벡터로 묶을 데이터 입력\n",
    "- 백터는 한가지 데이터 형식만 가짐"
   ]
  },
  {
   "cell_type": "code",
   "execution_count": 13,
   "metadata": {},
   "outputs": [
    {
     "data": {
      "text/html": [
       "<ol class=list-inline>\n",
       "\t<li>1</li>\n",
       "\t<li>2</li>\n",
       "\t<li>3</li>\n",
       "</ol>\n"
      ],
      "text/latex": [
       "\\begin{enumerate*}\n",
       "\\item 1\n",
       "\\item 2\n",
       "\\item 3\n",
       "\\end{enumerate*}\n"
      ],
      "text/markdown": [
       "1. 1\n",
       "2. 2\n",
       "3. 3\n",
       "\n",
       "\n"
      ],
      "text/plain": [
       "[1] 1 2 3"
      ]
     },
     "metadata": {},
     "output_type": "display_data"
    }
   ],
   "source": [
    "a <- c(1,2,3)\n",
    "a"
   ]
  },
  {
   "cell_type": "code",
   "execution_count": 14,
   "metadata": {},
   "outputs": [
    {
     "data": {
      "text/html": [
       "<ol class=list-inline>\n",
       "\t<li>'aaa'</li>\n",
       "\t<li>'bbb'</li>\n",
       "\t<li>'ccc'</li>\n",
       "</ol>\n"
      ],
      "text/latex": [
       "\\begin{enumerate*}\n",
       "\\item 'aaa'\n",
       "\\item 'bbb'\n",
       "\\item 'ccc'\n",
       "\\end{enumerate*}\n"
      ],
      "text/markdown": [
       "1. 'aaa'\n",
       "2. 'bbb'\n",
       "3. 'ccc'\n",
       "\n",
       "\n"
      ],
      "text/plain": [
       "[1] \"aaa\" \"bbb\" \"ccc\""
      ]
     },
     "metadata": {},
     "output_type": "display_data"
    }
   ],
   "source": [
    "s1 <- c('aaa','bbb','ccc')\n",
    "s1"
   ]
  },
  {
   "cell_type": "code",
   "execution_count": 15,
   "metadata": {},
   "outputs": [
    {
     "data": {
      "text/html": [
       "<ol class=list-inline>\n",
       "\t<li>'111'</li>\n",
       "\t<li>'aaa'</li>\n",
       "</ol>\n"
      ],
      "text/latex": [
       "\\begin{enumerate*}\n",
       "\\item '111'\n",
       "\\item 'aaa'\n",
       "\\end{enumerate*}\n"
      ],
      "text/markdown": [
       "1. '111'\n",
       "2. 'aaa'\n",
       "\n",
       "\n"
      ],
      "text/plain": [
       "[1] \"111\" \"aaa\""
      ]
     },
     "metadata": {},
     "output_type": "display_data"
    }
   ],
   "source": [
    "# 모두 문자열로 변경됨\n",
    "s2 <- c(111,'aaa')\n",
    "s2"
   ]
  },
  {
   "cell_type": "markdown",
   "metadata": {},
   "source": [
    "### 백터의 추가 / 삭제 / 수정\n",
    "- R은 index를 1부터 함"
   ]
  },
  {
   "cell_type": "code",
   "execution_count": 16,
   "metadata": {},
   "outputs": [],
   "source": [
    "obj <- c(2,3,4)"
   ]
  },
  {
   "cell_type": "code",
   "execution_count": 17,
   "metadata": {},
   "outputs": [
    {
     "data": {
      "text/html": [
       "<ol class=list-inline>\n",
       "\t<li>1</li>\n",
       "\t<li>2</li>\n",
       "\t<li>3</li>\n",
       "\t<li>4</li>\n",
       "</ol>\n"
      ],
      "text/latex": [
       "\\begin{enumerate*}\n",
       "\\item 1\n",
       "\\item 2\n",
       "\\item 3\n",
       "\\item 4\n",
       "\\end{enumerate*}\n"
      ],
      "text/markdown": [
       "1. 1\n",
       "2. 2\n",
       "3. 3\n",
       "4. 4\n",
       "\n",
       "\n"
      ],
      "text/plain": [
       "[1] 1 2 3 4"
      ]
     },
     "metadata": {},
     "output_type": "display_data"
    }
   ],
   "source": [
    "obj <- c(1, obj)\n",
    "obj"
   ]
  },
  {
   "cell_type": "code",
   "execution_count": 18,
   "metadata": {},
   "outputs": [
    {
     "data": {
      "text/html": [
       "<ol class=list-inline>\n",
       "\t<li>1</li>\n",
       "\t<li>2</li>\n",
       "\t<li>3</li>\n",
       "\t<li>4</li>\n",
       "\t<li>5</li>\n",
       "</ol>\n"
      ],
      "text/latex": [
       "\\begin{enumerate*}\n",
       "\\item 1\n",
       "\\item 2\n",
       "\\item 3\n",
       "\\item 4\n",
       "\\item 5\n",
       "\\end{enumerate*}\n"
      ],
      "text/markdown": [
       "1. 1\n",
       "2. 2\n",
       "3. 3\n",
       "4. 4\n",
       "5. 5\n",
       "\n",
       "\n"
      ],
      "text/plain": [
       "[1] 1 2 3 4 5"
      ]
     },
     "metadata": {},
     "output_type": "display_data"
    }
   ],
   "source": [
    "obj <- c(obj, 5)\n",
    "obj"
   ]
  },
  {
   "cell_type": "code",
   "execution_count": 19,
   "metadata": {},
   "outputs": [
    {
     "data": {
      "text/html": [
       "<ol class=list-inline>\n",
       "\t<li>1</li>\n",
       "\t<li>2</li>\n",
       "\t<li>2.5</li>\n",
       "\t<li>3</li>\n",
       "\t<li>4</li>\n",
       "\t<li>5</li>\n",
       "</ol>\n"
      ],
      "text/latex": [
       "\\begin{enumerate*}\n",
       "\\item 1\n",
       "\\item 2\n",
       "\\item 2.5\n",
       "\\item 3\n",
       "\\item 4\n",
       "\\item 5\n",
       "\\end{enumerate*}\n"
      ],
      "text/markdown": [
       "1. 1\n",
       "2. 2\n",
       "3. 2.5\n",
       "4. 3\n",
       "5. 4\n",
       "6. 5\n",
       "\n",
       "\n"
      ],
      "text/plain": [
       "[1] 1.0 2.0 2.5 3.0 4.0 5.0"
      ]
     },
     "metadata": {},
     "output_type": "display_data"
    }
   ],
   "source": [
    "# 중간에 넣기\n",
    "obj <- append(obj,2.5, after = 2)\n",
    "obj"
   ]
  },
  {
   "cell_type": "code",
   "execution_count": 20,
   "metadata": {},
   "outputs": [
    {
     "data": {
      "text/html": [
       "<ol class=list-inline>\n",
       "\t<li>1</li>\n",
       "\t<li>2</li>\n",
       "\t<li>3</li>\n",
       "\t<li>4</li>\n",
       "\t<li>5</li>\n",
       "</ol>\n"
      ],
      "text/latex": [
       "\\begin{enumerate*}\n",
       "\\item 1\n",
       "\\item 2\n",
       "\\item 3\n",
       "\\item 4\n",
       "\\item 5\n",
       "\\end{enumerate*}\n"
      ],
      "text/markdown": [
       "1. 1\n",
       "2. 2\n",
       "3. 3\n",
       "4. 4\n",
       "5. 5\n",
       "\n",
       "\n"
      ],
      "text/plain": [
       "[1] 1 2 3 4 5"
      ]
     },
     "metadata": {},
     "output_type": "display_data"
    }
   ],
   "source": [
    "# 삭제\n",
    "obj <- obj[-3]\n",
    "obj"
   ]
  },
  {
   "cell_type": "code",
   "execution_count": 21,
   "metadata": {},
   "outputs": [
    {
     "data": {
      "text/html": [
       "<ol class=list-inline>\n",
       "\t<li>1</li>\n",
       "\t<li>2</li>\n",
       "\t<li>3</li>\n",
       "\t<li>4</li>\n",
       "</ol>\n"
      ],
      "text/latex": [
       "\\begin{enumerate*}\n",
       "\\item 1\n",
       "\\item 2\n",
       "\\item 3\n",
       "\\item 4\n",
       "\\end{enumerate*}\n"
      ],
      "text/markdown": [
       "1. 1\n",
       "2. 2\n",
       "3. 3\n",
       "4. 4\n",
       "\n",
       "\n"
      ],
      "text/plain": [
       "[1] 1 2 3 4"
      ]
     },
     "metadata": {},
     "output_type": "display_data"
    }
   ],
   "source": [
    "# 마지막 데이터 삭제\n",
    "obj <- obj[-length(obj)]\n",
    "obj"
   ]
  },
  {
   "cell_type": "code",
   "execution_count": 22,
   "metadata": {},
   "outputs": [
    {
     "data": {
      "text/html": [
       "<ol class=list-inline>\n",
       "\t<li>1</li>\n",
       "\t<li>22</li>\n",
       "\t<li>3</li>\n",
       "\t<li>4</li>\n",
       "</ol>\n"
      ],
      "text/latex": [
       "\\begin{enumerate*}\n",
       "\\item 1\n",
       "\\item 22\n",
       "\\item 3\n",
       "\\item 4\n",
       "\\end{enumerate*}\n"
      ],
      "text/markdown": [
       "1. 1\n",
       "2. 22\n",
       "3. 3\n",
       "4. 4\n",
       "\n",
       "\n"
      ],
      "text/plain": [
       "[1]  1 22  3  4"
      ]
     },
     "metadata": {},
     "output_type": "display_data"
    }
   ],
   "source": [
    "# 특정 위치값 변경\n",
    "obj[2] <- 22\n",
    "obj"
   ]
  },
  {
   "cell_type": "code",
   "execution_count": 23,
   "metadata": {},
   "outputs": [
    {
     "data": {
      "text/html": [
       "<ol class=list-inline>\n",
       "\t<li>1</li>\n",
       "\t<li>2</li>\n",
       "\t<li>3</li>\n",
       "\t<li>1</li>\n",
       "\t<li>2</li>\n",
       "\t<li>3</li>\n",
       "\t<li>1</li>\n",
       "\t<li>5</li>\n",
       "\t<li>2</li>\n",
       "\t<li>3</li>\n",
       "\t<li>1</li>\n",
       "\t<li>2</li>\n",
       "\t<li>3</li>\n",
       "\t<li>1</li>\n",
       "\t<li>2</li>\n",
       "\t<li>3</li>\n",
       "\t<li>5</li>\n",
       "</ol>\n"
      ],
      "text/latex": [
       "\\begin{enumerate*}\n",
       "\\item 1\n",
       "\\item 2\n",
       "\\item 3\n",
       "\\item 1\n",
       "\\item 2\n",
       "\\item 3\n",
       "\\item 1\n",
       "\\item 5\n",
       "\\item 2\n",
       "\\item 3\n",
       "\\item 1\n",
       "\\item 2\n",
       "\\item 3\n",
       "\\item 1\n",
       "\\item 2\n",
       "\\item 3\n",
       "\\item 5\n",
       "\\end{enumerate*}\n"
      ],
      "text/markdown": [
       "1. 1\n",
       "2. 2\n",
       "3. 3\n",
       "4. 1\n",
       "5. 2\n",
       "6. 3\n",
       "7. 1\n",
       "8. 5\n",
       "9. 2\n",
       "10. 3\n",
       "11. 1\n",
       "12. 2\n",
       "13. 3\n",
       "14. 1\n",
       "15. 2\n",
       "16. 3\n",
       "17. 5\n",
       "\n",
       "\n"
      ],
      "text/plain": [
       " [1] 1 2 3 1 2 3 1 5 2 3 1 2 3 1 2 3 5"
      ]
     },
     "metadata": {},
     "output_type": "display_data"
    },
    {
     "data": {
      "text/html": [
       "<ol class=list-inline>\n",
       "\t<li>1</li>\n",
       "\t<li>2</li>\n",
       "\t<li>3</li>\n",
       "\t<li>1</li>\n",
       "\t<li>2</li>\n",
       "\t<li>3</li>\n",
       "\t<li>1</li>\n",
       "\t<li>55</li>\n",
       "\t<li>2</li>\n",
       "\t<li>3</li>\n",
       "\t<li>1</li>\n",
       "\t<li>2</li>\n",
       "\t<li>3</li>\n",
       "\t<li>1</li>\n",
       "\t<li>2</li>\n",
       "\t<li>3</li>\n",
       "\t<li>55</li>\n",
       "</ol>\n"
      ],
      "text/latex": [
       "\\begin{enumerate*}\n",
       "\\item 1\n",
       "\\item 2\n",
       "\\item 3\n",
       "\\item 1\n",
       "\\item 2\n",
       "\\item 3\n",
       "\\item 1\n",
       "\\item 55\n",
       "\\item 2\n",
       "\\item 3\n",
       "\\item 1\n",
       "\\item 2\n",
       "\\item 3\n",
       "\\item 1\n",
       "\\item 2\n",
       "\\item 3\n",
       "\\item 55\n",
       "\\end{enumerate*}\n"
      ],
      "text/markdown": [
       "1. 1\n",
       "2. 2\n",
       "3. 3\n",
       "4. 1\n",
       "5. 2\n",
       "6. 3\n",
       "7. 1\n",
       "8. 55\n",
       "9. 2\n",
       "10. 3\n",
       "11. 1\n",
       "12. 2\n",
       "13. 3\n",
       "14. 1\n",
       "15. 2\n",
       "16. 3\n",
       "17. 55\n",
       "\n",
       "\n"
      ],
      "text/plain": [
       " [1]  1  2  3  1  2  3  1 55  2  3  1  2  3  1  2  3 55"
      ]
     },
     "metadata": {},
     "output_type": "display_data"
    }
   ],
   "source": [
    "# 조건으로 값 변경\n",
    "obj <- c(1,2,3,1,2,3,1,5,2,3,1,2,3,1,2,3,5)\n",
    "obj\n",
    "obj[obj == 5] <- 55\n",
    "obj"
   ]
  },
  {
   "cell_type": "code",
   "execution_count": 24,
   "metadata": {},
   "outputs": [
    {
     "data": {
      "text/html": [
       "<ol class=list-inline>\n",
       "\t<li>'a'</li>\n",
       "\t<li>'excel1'</li>\n",
       "\t<li>'i1'</li>\n",
       "\t<li>'i2'</li>\n",
       "\t<li>'obj'</li>\n",
       "\t<li>'obj1'</li>\n",
       "\t<li>'s1'</li>\n",
       "\t<li>'s2'</li>\n",
       "\t<li>'str1'</li>\n",
       "\t<li>'str2'</li>\n",
       "</ol>\n"
      ],
      "text/latex": [
       "\\begin{enumerate*}\n",
       "\\item 'a'\n",
       "\\item 'excel1'\n",
       "\\item 'i1'\n",
       "\\item 'i2'\n",
       "\\item 'obj'\n",
       "\\item 'obj1'\n",
       "\\item 's1'\n",
       "\\item 's2'\n",
       "\\item 'str1'\n",
       "\\item 'str2'\n",
       "\\end{enumerate*}\n"
      ],
      "text/markdown": [
       "1. 'a'\n",
       "2. 'excel1'\n",
       "3. 'i1'\n",
       "4. 'i2'\n",
       "5. 'obj'\n",
       "6. 'obj1'\n",
       "7. 's1'\n",
       "8. 's2'\n",
       "9. 'str1'\n",
       "10. 'str2'\n",
       "\n",
       "\n"
      ],
      "text/plain": [
       " [1] \"a\"      \"excel1\" \"i1\"     \"i2\"     \"obj\"    \"obj1\"   \"s1\"     \"s2\"    \n",
       " [9] \"str1\"   \"str2\"  "
      ]
     },
     "metadata": {},
     "output_type": "display_data"
    }
   ],
   "source": [
    "# 만든 모든 객체(변수) 보기\n",
    "ls()"
   ]
  },
  {
   "cell_type": "code",
   "execution_count": 25,
   "metadata": {},
   "outputs": [
    {
     "data": {
      "text/plain": [
       "a :  num [1:3] 1 2 3\n",
       "excel1 : 'data.frame':\t17 obs. of  8 variables:\n",
       " $ name     : Factor w/ 17 levels \"강수친\",\"김길동\",..: 2 12 17 6 10 7 1 14 13 9 ...\n",
       " $ sex      : Factor w/ 2 levels \"남자\",\"여자\": 1 2 1 1 2 2 2 2 1 1 ...\n",
       " $ age      : int  23 22 24 23 20 21 22 23 23 22 ...\n",
       " $ grade    : int  3 2 4 3 1 2 1 1 3 2 ...\n",
       " $ absence  : Factor w/ 2 levels \"무\",\"유\": 2 1 1 1 2 1 1 1 1 1 ...\n",
       " $ bloodtype: Factor w/ 4 levels \"A\",\"AB\",\"B\",\"O\": 4 2 3 2 1 4 4 1 3 3 ...\n",
       " $ height   : num  165 170 175 182 168 ...\n",
       " $ weight   : num  68.2 53 80.1 85.7 49.5 52 45.3 55 64.2 61.3 ...\n",
       "i1 :  num 20\n",
       "i2 :  num 100\n",
       "obj :  num [1:17] 1 2 3 1 2 3 1 55 2 3 ...\n",
       "obj1 :  num 1\n",
       "s1 :  chr [1:3] \"aaa\" \"bbb\" \"ccc\"\n",
       "s2 :  chr [1:2] \"111\" \"aaa\"\n",
       "str1 :  chr \"Hello \"\n",
       "str2 :  chr \"R\""
      ]
     },
     "metadata": {},
     "output_type": "display_data"
    }
   ],
   "source": [
    "# 자세히 보기\n",
    "ls.str()"
   ]
  },
  {
   "cell_type": "code",
   "execution_count": 27,
   "metadata": {},
   "outputs": [
    {
     "name": "stderr",
     "output_type": "stream",
     "text": [
      "Warning message in rm(a, s1):\n",
      "\"객체 'a'를 찾을 수 없습니다\""
     ]
    },
    {
     "data": {
      "text/html": [
       "<ol class=list-inline>\n",
       "\t<li>'excel1'</li>\n",
       "\t<li>'i1'</li>\n",
       "\t<li>'i2'</li>\n",
       "\t<li>'obj'</li>\n",
       "\t<li>'obj1'</li>\n",
       "\t<li>'s2'</li>\n",
       "\t<li>'str1'</li>\n",
       "\t<li>'str2'</li>\n",
       "</ol>\n"
      ],
      "text/latex": [
       "\\begin{enumerate*}\n",
       "\\item 'excel1'\n",
       "\\item 'i1'\n",
       "\\item 'i2'\n",
       "\\item 'obj'\n",
       "\\item 'obj1'\n",
       "\\item 's2'\n",
       "\\item 'str1'\n",
       "\\item 'str2'\n",
       "\\end{enumerate*}\n"
      ],
      "text/markdown": [
       "1. 'excel1'\n",
       "2. 'i1'\n",
       "3. 'i2'\n",
       "4. 'obj'\n",
       "5. 'obj1'\n",
       "6. 's2'\n",
       "7. 'str1'\n",
       "8. 'str2'\n",
       "\n",
       "\n"
      ],
      "text/plain": [
       "[1] \"excel1\" \"i1\"     \"i2\"     \"obj\"    \"obj1\"   \"s2\"     \"str1\"   \"str2\"  "
      ]
     },
     "metadata": {},
     "output_type": "display_data"
    }
   ],
   "source": [
    "# 객체 지우기\n",
    "rm(a,s1)\n",
    "ls()"
   ]
  },
  {
   "cell_type": "code",
   "execution_count": 29,
   "metadata": {},
   "outputs": [
    {
     "data": {
      "text/html": [],
      "text/latex": [],
      "text/markdown": [],
      "text/plain": [
       "character(0)"
      ]
     },
     "metadata": {},
     "output_type": "display_data"
    }
   ],
   "source": [
    "# 모든 객체 지우기\n",
    "rm(list = ls())\n",
    "ls()"
   ]
  },
  {
   "cell_type": "code",
   "execution_count": 30,
   "metadata": {
    "scrolled": true
   },
   "outputs": [
    {
     "name": "stderr",
     "output_type": "stream",
     "text": [
      "also installing the dependencies 'miniUI', 'webshot', 'crosstalk', 'manipulateWidget'\n",
      "\n"
     ]
    },
    {
     "name": "stdout",
     "output_type": "stream",
     "text": [
      "package 'miniUI' successfully unpacked and MD5 sums checked\n",
      "package 'webshot' successfully unpacked and MD5 sums checked\n",
      "package 'crosstalk' successfully unpacked and MD5 sums checked\n",
      "package 'manipulateWidget' successfully unpacked and MD5 sums checked\n",
      "package 'rgl' successfully unpacked and MD5 sums checked\n",
      "\n",
      "The downloaded binary packages are in\n",
      "\tC:\\Users\\205\\AppData\\Local\\Temp\\Rtmp0Q1Ayo\\downloaded_packages\n"
     ]
    }
   ],
   "source": [
    "# 패키지 설치\n",
    "install.packages('rgl')"
   ]
  },
  {
   "cell_type": "code",
   "execution_count": 33,
   "metadata": {},
   "outputs": [],
   "source": [
    "# 패키지 사용 \n",
    "library('rgl')"
   ]
  },
  {
   "cell_type": "code",
   "execution_count": 35,
   "metadata": {},
   "outputs": [
    {
     "name": "stdout",
     "output_type": "stream",
     "text": [
      "\n",
      "plot3d>   open3d()\n",
      "wgl \n",
      "  1 \n",
      "\n",
      "plot3d>   x <- sort(rnorm(1000))\n",
      "\n",
      "plot3d>   y <- rnorm(1000)\n",
      "\n",
      "plot3d>   z <- rnorm(1000) + atan2(x, y)\n",
      "\n",
      "plot3d>   plot3d(x, y, z, col = rainbow(1000))\n"
     ]
    }
   ],
   "source": [
    "# rgl 패키지 함수 사용\n",
    "example(plot3d)"
   ]
  },
  {
   "cell_type": "code",
   "execution_count": 36,
   "metadata": {},
   "outputs": [
    {
     "name": "stderr",
     "output_type": "stream",
     "text": [
      "also installing the dependencies 'desc', 'pkgbuild', 'rprojroot', 'pkgload', 'praise', 'rlang', 'testthat', 'isoband'\n",
      "\n"
     ]
    },
    {
     "name": "stdout",
     "output_type": "stream",
     "text": [
      "package 'desc' successfully unpacked and MD5 sums checked\n",
      "package 'pkgbuild' successfully unpacked and MD5 sums checked\n",
      "package 'rprojroot' successfully unpacked and MD5 sums checked\n",
      "package 'pkgload' successfully unpacked and MD5 sums checked\n",
      "package 'praise' successfully unpacked and MD5 sums checked\n",
      "package 'rlang' successfully unpacked and MD5 sums checked\n",
      "package 'testthat' successfully unpacked and MD5 sums checked\n",
      "package 'isoband' successfully unpacked and MD5 sums checked\n",
      "package 'ggplot2' successfully unpacked and MD5 sums checked\n",
      "\n",
      "The downloaded binary packages are in\n",
      "\tC:\\Users\\205\\AppData\\Local\\Temp\\Rtmp0Q1Ayo\\downloaded_packages\n"
     ]
    }
   ],
   "source": [
    "install.packages('ggplot2')"
   ]
  },
  {
   "cell_type": "code",
   "execution_count": 37,
   "metadata": {},
   "outputs": [
    {
     "name": "stdout",
     "output_type": "stream",
     "text": [
      "package 'ggthemes' successfully unpacked and MD5 sums checked\n",
      "\n",
      "The downloaded binary packages are in\n",
      "\tC:\\Users\\205\\AppData\\Local\\Temp\\Rtmp0Q1Ayo\\downloaded_packages\n"
     ]
    }
   ],
   "source": [
    "install.packages('ggthemes')"
   ]
  },
  {
   "cell_type": "code",
   "execution_count": 38,
   "metadata": {},
   "outputs": [
    {
     "name": "stdout",
     "output_type": "stream",
     "text": [
      "package 'data.table' successfully unpacked and MD5 sums checked\n",
      "\n",
      "The downloaded binary packages are in\n",
      "\tC:\\Users\\205\\AppData\\Local\\Temp\\Rtmp0Q1Ayo\\downloaded_packages\n"
     ]
    }
   ],
   "source": [
    "install.packages('data.table')"
   ]
  },
  {
   "cell_type": "code",
   "execution_count": 39,
   "metadata": {
    "collapsed": true
   },
   "outputs": [
    {
     "name": "stderr",
     "output_type": "stream",
     "text": [
      "also installing the dependencies 'ini', 'fs', 'gh', 'rematch2', 'processx', 'rex', 'xopen', 'brew', 'commonmark', 'purrr', 'usethis', 'callr', 'cli', 'covr', 'digest', 'DT', 'ellipsis', 'glue', 'git2r', 'httr', 'jsonlite', 'memoise', 'rcmdcheck', 'remotes', 'roxygen2', 'rstudioapi', 'rversions', 'sessioninfo'\n",
      "\n"
     ]
    },
    {
     "name": "stdout",
     "output_type": "stream",
     "text": [
      "\n",
      "  There is a binary version available but the source version is later:\n",
      "   binary source needs_compilation\n",
      "fs  1.4.1  1.4.2              TRUE\n",
      "\n",
      "  Binaries will be installed\n",
      "package 'ini' successfully unpacked and MD5 sums checked\n",
      "package 'fs' successfully unpacked and MD5 sums checked\n",
      "package 'gh' successfully unpacked and MD5 sums checked\n",
      "package 'rematch2' successfully unpacked and MD5 sums checked\n",
      "package 'processx' successfully unpacked and MD5 sums checked\n",
      "package 'rex' successfully unpacked and MD5 sums checked\n",
      "package 'xopen' successfully unpacked and MD5 sums checked\n",
      "package 'brew' successfully unpacked and MD5 sums checked\n",
      "package 'commonmark' successfully unpacked and MD5 sums checked\n",
      "package 'purrr' successfully unpacked and MD5 sums checked\n",
      "package 'usethis' successfully unpacked and MD5 sums checked\n",
      "package 'callr' successfully unpacked and MD5 sums checked\n",
      "package 'cli' successfully unpacked and MD5 sums checked\n",
      "package 'covr' successfully unpacked and MD5 sums checked\n",
      "package 'digest' successfully unpacked and MD5 sums checked\n"
     ]
    },
    {
     "name": "stderr",
     "output_type": "stream",
     "text": [
      "Warning message:\n",
      "\"cannot remove prior installation of package 'digest'\"Warning message in file.copy(savedcopy, lib, recursive = TRUE):\n",
      "\"C:\\Users\\205\\.conda\\envs\\r_study\\Lib\\R\\library\\00LOCK\\digest\\libs\\x64\\digest.dll를 C:\\Users\\205\\.conda\\envs\\r_study\\Lib\\R\\library\\digest\\libs\\x64\\digest.dll로 복사하는데 문제가 발생했습니다: Permission denied\"Warning message:\n",
      "\"restored 'digest'\""
     ]
    },
    {
     "name": "stdout",
     "output_type": "stream",
     "text": [
      "package 'DT' successfully unpacked and MD5 sums checked\n",
      "package 'ellipsis' successfully unpacked and MD5 sums checked\n",
      "package 'glue' successfully unpacked and MD5 sums checked\n",
      "package 'git2r' successfully unpacked and MD5 sums checked\n",
      "package 'httr' successfully unpacked and MD5 sums checked\n",
      "package 'jsonlite' successfully unpacked and MD5 sums checked\n"
     ]
    },
    {
     "name": "stderr",
     "output_type": "stream",
     "text": [
      "Warning message:\n",
      "\"cannot remove prior installation of package 'jsonlite'\"Warning message in file.copy(savedcopy, lib, recursive = TRUE):\n",
      "\"C:\\Users\\205\\.conda\\envs\\r_study\\Lib\\R\\library\\00LOCK\\jsonlite\\libs\\x64\\jsonlite.dll를 C:\\Users\\205\\.conda\\envs\\r_study\\Lib\\R\\library\\jsonlite\\libs\\x64\\jsonlite.dll로 복사하는데 문제가 발생했습니다: Permission denied\"Warning message:\n",
      "\"restored 'jsonlite'\""
     ]
    },
    {
     "name": "stdout",
     "output_type": "stream",
     "text": [
      "package 'memoise' successfully unpacked and MD5 sums checked\n",
      "package 'rcmdcheck' successfully unpacked and MD5 sums checked\n",
      "package 'remotes' successfully unpacked and MD5 sums checked\n",
      "package 'roxygen2' successfully unpacked and MD5 sums checked\n",
      "package 'rstudioapi' successfully unpacked and MD5 sums checked\n",
      "package 'rversions' successfully unpacked and MD5 sums checked\n",
      "package 'sessioninfo' successfully unpacked and MD5 sums checked\n",
      "package 'devtools' successfully unpacked and MD5 sums checked\n",
      "\n",
      "The downloaded binary packages are in\n",
      "\tC:\\Users\\205\\AppData\\Local\\Temp\\Rtmp0Q1Ayo\\downloaded_packages\n"
     ]
    }
   ],
   "source": [
    "install.packages('devtools')"
   ]
  },
  {
   "cell_type": "code",
   "execution_count": 40,
   "metadata": {},
   "outputs": [
    {
     "name": "stderr",
     "output_type": "stream",
     "text": [
      "also installing the dependencies 'pillar', 'lifecycle', 'tibble', 'tidyselect', 'vctrs'\n",
      "\n"
     ]
    },
    {
     "name": "stdout",
     "output_type": "stream",
     "text": [
      "package 'pillar' successfully unpacked and MD5 sums checked\n",
      "package 'lifecycle' successfully unpacked and MD5 sums checked\n",
      "package 'tibble' successfully unpacked and MD5 sums checked\n",
      "package 'tidyselect' successfully unpacked and MD5 sums checked\n",
      "package 'vctrs' successfully unpacked and MD5 sums checked\n",
      "package 'dplyr' successfully unpacked and MD5 sums checked\n",
      "\n",
      "The downloaded binary packages are in\n",
      "\tC:\\Users\\205\\AppData\\Local\\Temp\\Rtmp0Q1Ayo\\downloaded_packages\n"
     ]
    }
   ],
   "source": [
    "install.packages('dplyr')"
   ]
  },
  {
   "cell_type": "code",
   "execution_count": 41,
   "metadata": {},
   "outputs": [
    {
     "name": "stdout",
     "output_type": "stream",
     "text": [
      "package 'plyr' successfully unpacked and MD5 sums checked\n",
      "\n",
      "The downloaded binary packages are in\n",
      "\tC:\\Users\\205\\AppData\\Local\\Temp\\Rtmp0Q1Ayo\\downloaded_packages\n"
     ]
    }
   ],
   "source": [
    "install.packages('plyr')"
   ]
  },
  {
   "cell_type": "code",
   "execution_count": 42,
   "metadata": {},
   "outputs": [
    {
     "name": "stdout",
     "output_type": "stream",
     "text": [
      "package 'reshape2' successfully unpacked and MD5 sums checked\n",
      "\n",
      "The downloaded binary packages are in\n",
      "\tC:\\Users\\205\\AppData\\Local\\Temp\\Rtmp0Q1Ayo\\downloaded_packages\n"
     ]
    }
   ],
   "source": [
    "install.packages('reshape2')"
   ]
  },
  {
   "cell_type": "code",
   "execution_count": 43,
   "metadata": {},
   "outputs": [
    {
     "name": "stderr",
     "output_type": "stream",
     "text": [
      "also installing the dependency 'farver'\n",
      "\n"
     ]
    },
    {
     "name": "stdout",
     "output_type": "stream",
     "text": [
      "package 'farver' successfully unpacked and MD5 sums checked\n",
      "package 'scales' successfully unpacked and MD5 sums checked\n",
      "\n",
      "The downloaded binary packages are in\n",
      "\tC:\\Users\\205\\AppData\\Local\\Temp\\Rtmp0Q1Ayo\\downloaded_packages\n"
     ]
    }
   ],
   "source": [
    "install.packages('scales')"
   ]
  },
  {
   "cell_type": "code",
   "execution_count": 44,
   "metadata": {},
   "outputs": [
    {
     "name": "stdout",
     "output_type": "stream",
     "text": [
      "package 'stringr' successfully unpacked and MD5 sums checked\n",
      "\n",
      "The downloaded binary packages are in\n",
      "\tC:\\Users\\205\\AppData\\Local\\Temp\\Rtmp0Q1Ayo\\downloaded_packages\n"
     ]
    }
   ],
   "source": [
    "install.packages('stringr')"
   ]
  },
  {
   "cell_type": "code",
   "execution_count": null,
   "metadata": {},
   "outputs": [],
   "source": []
  }
 ],
 "metadata": {
  "kernelspec": {
   "display_name": "R",
   "language": "R",
   "name": "ir"
  },
  "language_info": {
   "codemirror_mode": "r",
   "file_extension": ".r",
   "mimetype": "text/x-r-source",
   "name": "R",
   "pygments_lexer": "r",
   "version": "3.6.1"
  }
 },
 "nbformat": 4,
 "nbformat_minor": 4
}
