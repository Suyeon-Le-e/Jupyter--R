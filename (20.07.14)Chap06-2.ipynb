{
 "cells": [
  {
   "cell_type": "markdown",
   "metadata": {},
   "source": [
    "#### mtcar데이터로 예측하기\n",
    "- 연비(mpg) 종속변수(y), 차체 무게를 독립변수(x)로 회귀 모델 구하기"
   ]
  },
  {
   "cell_type": "code",
   "execution_count": 1,
   "metadata": {},
   "outputs": [
    {
     "data": {
      "text/html": [
       "<table>\n",
       "<thead><tr><th></th><th scope=col>mpg</th><th scope=col>cyl</th><th scope=col>disp</th><th scope=col>hp</th><th scope=col>drat</th><th scope=col>wt</th><th scope=col>qsec</th><th scope=col>vs</th><th scope=col>am</th><th scope=col>gear</th><th scope=col>carb</th></tr></thead>\n",
       "<tbody>\n",
       "\t<tr><th scope=row>Mazda RX4</th><td>21.0 </td><td>6    </td><td>160  </td><td>110  </td><td>3.90 </td><td>2.620</td><td>16.46</td><td>0    </td><td>1    </td><td>4    </td><td>4    </td></tr>\n",
       "\t<tr><th scope=row>Mazda RX4 Wag</th><td>21.0 </td><td>6    </td><td>160  </td><td>110  </td><td>3.90 </td><td>2.875</td><td>17.02</td><td>0    </td><td>1    </td><td>4    </td><td>4    </td></tr>\n",
       "\t<tr><th scope=row>Datsun 710</th><td>22.8 </td><td>4    </td><td>108  </td><td> 93  </td><td>3.85 </td><td>2.320</td><td>18.61</td><td>1    </td><td>1    </td><td>4    </td><td>1    </td></tr>\n",
       "\t<tr><th scope=row>Hornet 4 Drive</th><td>21.4 </td><td>6    </td><td>258  </td><td>110  </td><td>3.08 </td><td>3.215</td><td>19.44</td><td>1    </td><td>0    </td><td>3    </td><td>1    </td></tr>\n",
       "\t<tr><th scope=row>Hornet Sportabout</th><td>18.7 </td><td>8    </td><td>360  </td><td>175  </td><td>3.15 </td><td>3.440</td><td>17.02</td><td>0    </td><td>0    </td><td>3    </td><td>2    </td></tr>\n",
       "\t<tr><th scope=row>Valiant</th><td>18.1 </td><td>6    </td><td>225  </td><td>105  </td><td>2.76 </td><td>3.460</td><td>20.22</td><td>1    </td><td>0    </td><td>3    </td><td>1    </td></tr>\n",
       "</tbody>\n",
       "</table>\n"
      ],
      "text/latex": [
       "\\begin{tabular}{r|lllllllllll}\n",
       "  & mpg & cyl & disp & hp & drat & wt & qsec & vs & am & gear & carb\\\\\n",
       "\\hline\n",
       "\tMazda RX4 & 21.0  & 6     & 160   & 110   & 3.90  & 2.620 & 16.46 & 0     & 1     & 4     & 4    \\\\\n",
       "\tMazda RX4 Wag & 21.0  & 6     & 160   & 110   & 3.90  & 2.875 & 17.02 & 0     & 1     & 4     & 4    \\\\\n",
       "\tDatsun 710 & 22.8  & 4     & 108   &  93   & 3.85  & 2.320 & 18.61 & 1     & 1     & 4     & 1    \\\\\n",
       "\tHornet 4 Drive & 21.4  & 6     & 258   & 110   & 3.08  & 3.215 & 19.44 & 1     & 0     & 3     & 1    \\\\\n",
       "\tHornet Sportabout & 18.7  & 8     & 360   & 175   & 3.15  & 3.440 & 17.02 & 0     & 0     & 3     & 2    \\\\\n",
       "\tValiant & 18.1  & 6     & 225   & 105   & 2.76  & 3.460 & 20.22 & 1     & 0     & 3     & 1    \\\\\n",
       "\\end{tabular}\n"
      ],
      "text/markdown": [
       "\n",
       "| <!--/--> | mpg | cyl | disp | hp | drat | wt | qsec | vs | am | gear | carb |\n",
       "|---|---|---|---|---|---|---|---|---|---|---|---|\n",
       "| Mazda RX4 | 21.0  | 6     | 160   | 110   | 3.90  | 2.620 | 16.46 | 0     | 1     | 4     | 4     |\n",
       "| Mazda RX4 Wag | 21.0  | 6     | 160   | 110   | 3.90  | 2.875 | 17.02 | 0     | 1     | 4     | 4     |\n",
       "| Datsun 710 | 22.8  | 4     | 108   |  93   | 3.85  | 2.320 | 18.61 | 1     | 1     | 4     | 1     |\n",
       "| Hornet 4 Drive | 21.4  | 6     | 258   | 110   | 3.08  | 3.215 | 19.44 | 1     | 0     | 3     | 1     |\n",
       "| Hornet Sportabout | 18.7  | 8     | 360   | 175   | 3.15  | 3.440 | 17.02 | 0     | 0     | 3     | 2     |\n",
       "| Valiant | 18.1  | 6     | 225   | 105   | 2.76  | 3.460 | 20.22 | 1     | 0     | 3     | 1     |\n",
       "\n"
      ],
      "text/plain": [
       "                  mpg  cyl disp hp  drat wt    qsec  vs am gear carb\n",
       "Mazda RX4         21.0 6   160  110 3.90 2.620 16.46 0  1  4    4   \n",
       "Mazda RX4 Wag     21.0 6   160  110 3.90 2.875 17.02 0  1  4    4   \n",
       "Datsun 710        22.8 4   108   93 3.85 2.320 18.61 1  1  4    1   \n",
       "Hornet 4 Drive    21.4 6   258  110 3.08 3.215 19.44 1  0  3    1   \n",
       "Hornet Sportabout 18.7 8   360  175 3.15 3.440 17.02 0  0  3    2   \n",
       "Valiant           18.1 6   225  105 2.76 3.460 20.22 1  0  3    1   "
      ]
     },
     "metadata": {},
     "output_type": "display_data"
    }
   ],
   "source": [
    "df <- mtcars\n",
    "head(df)"
   ]
  },
  {
   "cell_type": "code",
   "execution_count": 2,
   "metadata": {},
   "outputs": [
    {
     "name": "stdout",
     "output_type": "stream",
     "text": [
      "'data.frame':\t32 obs. of  11 variables:\n",
      " $ mpg : num  21 21 22.8 21.4 18.7 18.1 14.3 24.4 22.8 19.2 ...\n",
      " $ cyl : num  6 6 4 6 8 6 8 4 4 6 ...\n",
      " $ disp: num  160 160 108 258 360 ...\n",
      " $ hp  : num  110 110 93 110 175 105 245 62 95 123 ...\n",
      " $ drat: num  3.9 3.9 3.85 3.08 3.15 2.76 3.21 3.69 3.92 3.92 ...\n",
      " $ wt  : num  2.62 2.88 2.32 3.21 3.44 ...\n",
      " $ qsec: num  16.5 17 18.6 19.4 17 ...\n",
      " $ vs  : num  0 0 1 1 0 1 0 1 1 1 ...\n",
      " $ am  : num  1 1 1 0 0 0 0 0 0 0 ...\n",
      " $ gear: num  4 4 4 3 3 3 3 4 4 4 ...\n",
      " $ carb: num  4 4 1 1 2 1 4 2 2 4 ...\n"
     ]
    }
   ],
   "source": [
    "str(df)"
   ]
  },
  {
   "cell_type": "code",
   "execution_count": 3,
   "metadata": {},
   "outputs": [
    {
     "data": {
      "text/plain": [
       "\n",
       "Call:\n",
       "lm(formula = mpg ~ wt, data = df)\n",
       "\n",
       "Coefficients:\n",
       "(Intercept)           wt  \n",
       "     37.285       -5.344  \n"
      ]
     },
     "metadata": {},
     "output_type": "display_data"
    }
   ],
   "source": [
    "lm <- lm(mpg~wt, data=df)\n",
    "lm"
   ]
  },
  {
   "cell_type": "code",
   "execution_count": 4,
   "metadata": {},
   "outputs": [],
   "source": [
    "#y = 37.285 - 5.344 * x1\n",
    "# 1ton 증가하면 연비는 -5.3만큼 감소"
   ]
  },
  {
   "cell_type": "code",
   "execution_count": 8,
   "metadata": {},
   "outputs": [
    {
     "data": {
      "text/plain": [
       "\n",
       "Call:\n",
       "lm(formula = mpg ~ wt, data = df)\n",
       "\n",
       "Residuals:\n",
       "    Min      1Q  Median      3Q     Max \n",
       "-4.5432 -2.3647 -0.1252  1.4096  6.8727 \n",
       "\n",
       "Coefficients:\n",
       "            Estimate Std. Error t value             Pr(>|t|)    \n",
       "(Intercept)  37.2851     1.8776  19.858 < 0.0000000000000002 ***\n",
       "wt           -5.3445     0.5591  -9.559       0.000000000129 ***\n",
       "---\n",
       "Signif. codes:  0 '***' 0.001 '**' 0.01 '*' 0.05 '.' 0.1 ' ' 1\n",
       "\n",
       "Residual standard error: 3.046 on 30 degrees of freedom\n",
       "Multiple R-squared:  0.7528,\tAdjusted R-squared:  0.7446 \n",
       "F-statistic: 91.38 on 1 and 30 DF,  p-value: 0.0000000001294\n"
      ]
     },
     "metadata": {},
     "output_type": "display_data"
    }
   ],
   "source": [
    "summary(lm)\n",
    "options(scipen = 999)\n",
    "# Multiple R-squared:  0.7528 적합\n",
    "# p-value: 1.294e-10: x(변수) 값이 0이될 확률 낮음"
   ]
  },
  {
   "cell_type": "code",
   "execution_count": 9,
   "metadata": {},
   "outputs": [
    {
     "data": {
      "text/html": [
       "<dl class=dl-horizontal>\n",
       "\t<dt>Mazda RX4</dt>\n",
       "\t\t<dd>23.2826106468086</dd>\n",
       "\t<dt>Mazda RX4 Wag</dt>\n",
       "\t\t<dd>21.9197703957643</dd>\n",
       "\t<dt>Datsun 710</dt>\n",
       "\t\t<dd>24.8859521186254</dd>\n",
       "\t<dt>Hornet 4 Drive</dt>\n",
       "\t\t<dd>20.1026500610386</dd>\n",
       "\t<dt>Hornet Sportabout</dt>\n",
       "\t\t<dd>18.900143957176</dd>\n",
       "\t<dt>Valiant</dt>\n",
       "\t\t<dd>18.7932545257216</dd>\n",
       "\t<dt>Duster 360</dt>\n",
       "\t\t<dd>18.2053626527221</dd>\n",
       "\t<dt>Merc 240D</dt>\n",
       "\t\t<dd>20.2362618503567</dd>\n",
       "\t<dt>Merc 230</dt>\n",
       "\t\t<dd>20.4500407132656</dd>\n",
       "\t<dt>Merc 280</dt>\n",
       "\t\t<dd>18.900143957176</dd>\n",
       "\t<dt>Merc 280C</dt>\n",
       "\t\t<dd>18.900143957176</dd>\n",
       "\t<dt>Merc 450SE</dt>\n",
       "\t\t<dd>15.5331268663607</dd>\n",
       "\t<dt>Merc 450SL</dt>\n",
       "\t\t<dd>17.3502472010864</dd>\n",
       "\t<dt>Merc 450SLC</dt>\n",
       "\t\t<dd>17.0830236224503</dd>\n",
       "\t<dt>Cadillac Fleetwood</dt>\n",
       "\t\t<dd>9.22665041054798</dd>\n",
       "\t<dt>Lincoln Continental</dt>\n",
       "\t\t<dd>8.29671235689423</dd>\n",
       "\t<dt>Chrysler Imperial</dt>\n",
       "\t\t<dd>8.71892561113932</dd>\n",
       "\t<dt>Fiat 128</dt>\n",
       "\t\t<dd>25.5272887073521</dd>\n",
       "\t<dt>Honda Civic</dt>\n",
       "\t\t<dd>28.6538045773949</dd>\n",
       "\t<dt>Toyota Corolla</dt>\n",
       "\t\t<dd>27.4780208313959</dd>\n",
       "\t<dt>Toyota Corona</dt>\n",
       "\t\t<dd>24.1110037405806</dd>\n",
       "\t<dt>Dodge Challenger</dt>\n",
       "\t\t<dd>18.4725862313582</dd>\n",
       "\t<dt>AMC Javelin</dt>\n",
       "\t\t<dd>18.9268663150396</dd>\n",
       "\t<dt>Camaro Z28</dt>\n",
       "\t\t<dd>16.762355328087</dd>\n",
       "\t<dt>Pontiac Firebird</dt>\n",
       "\t\t<dd>16.7356329702233</dd>\n",
       "\t<dt>Fiat X1-9</dt>\n",
       "\t\t<dd>26.9435736741236</dd>\n",
       "\t<dt>Porsche 914-2</dt>\n",
       "\t\t<dd>25.8479570017155</dd>\n",
       "\t<dt>Lotus Europa</dt>\n",
       "\t\t<dd>29.1989406778126</dd>\n",
       "\t<dt>Ford Pantera L</dt>\n",
       "\t\t<dd>20.3431512818111</dd>\n",
       "\t<dt>Ferrari Dino</dt>\n",
       "\t\t<dd>22.4809399109002</dd>\n",
       "\t<dt>Maserati Bora</dt>\n",
       "\t\t<dd>18.2053626527221</dd>\n",
       "\t<dt>Volvo 142E</dt>\n",
       "\t\t<dd>22.427495195173</dd>\n",
       "</dl>\n"
      ],
      "text/latex": [
       "\\begin{description*}\n",
       "\\item[Mazda RX4] 23.2826106468086\n",
       "\\item[Mazda RX4 Wag] 21.9197703957643\n",
       "\\item[Datsun 710] 24.8859521186254\n",
       "\\item[Hornet 4 Drive] 20.1026500610386\n",
       "\\item[Hornet Sportabout] 18.900143957176\n",
       "\\item[Valiant] 18.7932545257216\n",
       "\\item[Duster 360] 18.2053626527221\n",
       "\\item[Merc 240D] 20.2362618503567\n",
       "\\item[Merc 230] 20.4500407132656\n",
       "\\item[Merc 280] 18.900143957176\n",
       "\\item[Merc 280C] 18.900143957176\n",
       "\\item[Merc 450SE] 15.5331268663607\n",
       "\\item[Merc 450SL] 17.3502472010864\n",
       "\\item[Merc 450SLC] 17.0830236224503\n",
       "\\item[Cadillac Fleetwood] 9.22665041054798\n",
       "\\item[Lincoln Continental] 8.29671235689423\n",
       "\\item[Chrysler Imperial] 8.71892561113932\n",
       "\\item[Fiat 128] 25.5272887073521\n",
       "\\item[Honda Civic] 28.6538045773949\n",
       "\\item[Toyota Corolla] 27.4780208313959\n",
       "\\item[Toyota Corona] 24.1110037405806\n",
       "\\item[Dodge Challenger] 18.4725862313582\n",
       "\\item[AMC Javelin] 18.9268663150396\n",
       "\\item[Camaro Z28] 16.762355328087\n",
       "\\item[Pontiac Firebird] 16.7356329702233\n",
       "\\item[Fiat X1-9] 26.9435736741236\n",
       "\\item[Porsche 914-2] 25.8479570017155\n",
       "\\item[Lotus Europa] 29.1989406778126\n",
       "\\item[Ford Pantera L] 20.3431512818111\n",
       "\\item[Ferrari Dino] 22.4809399109002\n",
       "\\item[Maserati Bora] 18.2053626527221\n",
       "\\item[Volvo 142E] 22.427495195173\n",
       "\\end{description*}\n"
      ],
      "text/markdown": [
       "Mazda RX4\n",
       ":   23.2826106468086Mazda RX4 Wag\n",
       ":   21.9197703957643Datsun 710\n",
       ":   24.8859521186254Hornet 4 Drive\n",
       ":   20.1026500610386Hornet Sportabout\n",
       ":   18.900143957176Valiant\n",
       ":   18.7932545257216Duster 360\n",
       ":   18.2053626527221Merc 240D\n",
       ":   20.2362618503567Merc 230\n",
       ":   20.4500407132656Merc 280\n",
       ":   18.900143957176Merc 280C\n",
       ":   18.900143957176Merc 450SE\n",
       ":   15.5331268663607Merc 450SL\n",
       ":   17.3502472010864Merc 450SLC\n",
       ":   17.0830236224503Cadillac Fleetwood\n",
       ":   9.22665041054798Lincoln Continental\n",
       ":   8.29671235689423Chrysler Imperial\n",
       ":   8.71892561113932Fiat 128\n",
       ":   25.5272887073521Honda Civic\n",
       ":   28.6538045773949Toyota Corolla\n",
       ":   27.4780208313959Toyota Corona\n",
       ":   24.1110037405806Dodge Challenger\n",
       ":   18.4725862313582AMC Javelin\n",
       ":   18.9268663150396Camaro Z28\n",
       ":   16.762355328087Pontiac Firebird\n",
       ":   16.7356329702233Fiat X1-9\n",
       ":   26.9435736741236Porsche 914-2\n",
       ":   25.8479570017155Lotus Europa\n",
       ":   29.1989406778126Ford Pantera L\n",
       ":   20.3431512818111Ferrari Dino\n",
       ":   22.4809399109002Maserati Bora\n",
       ":   18.2053626527221Volvo 142E\n",
       ":   22.427495195173\n",
       "\n"
      ],
      "text/plain": [
       "          Mazda RX4       Mazda RX4 Wag          Datsun 710      Hornet 4 Drive \n",
       "          23.282611           21.919770           24.885952           20.102650 \n",
       "  Hornet Sportabout             Valiant          Duster 360           Merc 240D \n",
       "          18.900144           18.793255           18.205363           20.236262 \n",
       "           Merc 230            Merc 280           Merc 280C          Merc 450SE \n",
       "          20.450041           18.900144           18.900144           15.533127 \n",
       "         Merc 450SL         Merc 450SLC  Cadillac Fleetwood Lincoln Continental \n",
       "          17.350247           17.083024            9.226650            8.296712 \n",
       "  Chrysler Imperial            Fiat 128         Honda Civic      Toyota Corolla \n",
       "           8.718926           25.527289           28.653805           27.478021 \n",
       "      Toyota Corona    Dodge Challenger         AMC Javelin          Camaro Z28 \n",
       "          24.111004           18.472586           18.926866           16.762355 \n",
       "   Pontiac Firebird           Fiat X1-9       Porsche 914-2        Lotus Europa \n",
       "          16.735633           26.943574           25.847957           29.198941 \n",
       "     Ford Pantera L        Ferrari Dino       Maserati Bora          Volvo 142E \n",
       "          20.343151           22.480940           18.205363           22.427495 "
      ]
     },
     "metadata": {},
     "output_type": "display_data"
    }
   ],
   "source": [
    "p <- predict(lm)\n",
    "p"
   ]
  },
  {
   "cell_type": "code",
   "execution_count": 10,
   "metadata": {},
   "outputs": [
    {
     "data": {
      "text/html": [
       "<table>\n",
       "<thead><tr><th></th><th scope=col>mpg</th><th scope=col>pMpg</th></tr></thead>\n",
       "<tbody>\n",
       "\t<tr><th scope=row>Mazda RX4</th><td>21.0     </td><td>23.282611</td></tr>\n",
       "\t<tr><th scope=row>Mazda RX4 Wag</th><td>21.0     </td><td>21.919770</td></tr>\n",
       "\t<tr><th scope=row>Datsun 710</th><td>22.8     </td><td>24.885952</td></tr>\n",
       "\t<tr><th scope=row>Hornet 4 Drive</th><td>21.4     </td><td>20.102650</td></tr>\n",
       "\t<tr><th scope=row>Hornet Sportabout</th><td>18.7     </td><td>18.900144</td></tr>\n",
       "\t<tr><th scope=row>Valiant</th><td>18.1     </td><td>18.793255</td></tr>\n",
       "\t<tr><th scope=row>Duster 360</th><td>14.3     </td><td>18.205363</td></tr>\n",
       "\t<tr><th scope=row>Merc 240D</th><td>24.4     </td><td>20.236262</td></tr>\n",
       "\t<tr><th scope=row>Merc 230</th><td>22.8     </td><td>20.450041</td></tr>\n",
       "\t<tr><th scope=row>Merc 280</th><td>19.2     </td><td>18.900144</td></tr>\n",
       "\t<tr><th scope=row>Merc 280C</th><td>17.8     </td><td>18.900144</td></tr>\n",
       "\t<tr><th scope=row>Merc 450SE</th><td>16.4     </td><td>15.533127</td></tr>\n",
       "\t<tr><th scope=row>Merc 450SL</th><td>17.3     </td><td>17.350247</td></tr>\n",
       "\t<tr><th scope=row>Merc 450SLC</th><td>15.2     </td><td>17.083024</td></tr>\n",
       "\t<tr><th scope=row>Cadillac Fleetwood</th><td>10.4     </td><td> 9.226650</td></tr>\n",
       "\t<tr><th scope=row>Lincoln Continental</th><td>10.4     </td><td> 8.296712</td></tr>\n",
       "\t<tr><th scope=row>Chrysler Imperial</th><td>14.7     </td><td> 8.718926</td></tr>\n",
       "\t<tr><th scope=row>Fiat 128</th><td>32.4     </td><td>25.527289</td></tr>\n",
       "\t<tr><th scope=row>Honda Civic</th><td>30.4     </td><td>28.653805</td></tr>\n",
       "\t<tr><th scope=row>Toyota Corolla</th><td>33.9     </td><td>27.478021</td></tr>\n",
       "\t<tr><th scope=row>Toyota Corona</th><td>21.5     </td><td>24.111004</td></tr>\n",
       "\t<tr><th scope=row>Dodge Challenger</th><td>15.5     </td><td>18.472586</td></tr>\n",
       "\t<tr><th scope=row>AMC Javelin</th><td>15.2     </td><td>18.926866</td></tr>\n",
       "\t<tr><th scope=row>Camaro Z28</th><td>13.3     </td><td>16.762355</td></tr>\n",
       "\t<tr><th scope=row>Pontiac Firebird</th><td>19.2     </td><td>16.735633</td></tr>\n",
       "\t<tr><th scope=row>Fiat X1-9</th><td>27.3     </td><td>26.943574</td></tr>\n",
       "\t<tr><th scope=row>Porsche 914-2</th><td>26.0     </td><td>25.847957</td></tr>\n",
       "\t<tr><th scope=row>Lotus Europa</th><td>30.4     </td><td>29.198941</td></tr>\n",
       "\t<tr><th scope=row>Ford Pantera L</th><td>15.8     </td><td>20.343151</td></tr>\n",
       "\t<tr><th scope=row>Ferrari Dino</th><td>19.7     </td><td>22.480940</td></tr>\n",
       "\t<tr><th scope=row>Maserati Bora</th><td>15.0     </td><td>18.205363</td></tr>\n",
       "\t<tr><th scope=row>Volvo 142E</th><td>21.4     </td><td>22.427495</td></tr>\n",
       "</tbody>\n",
       "</table>\n"
      ],
      "text/latex": [
       "\\begin{tabular}{r|ll}\n",
       "  & mpg & pMpg\\\\\n",
       "\\hline\n",
       "\tMazda RX4 & 21.0      & 23.282611\\\\\n",
       "\tMazda RX4 Wag & 21.0      & 21.919770\\\\\n",
       "\tDatsun 710 & 22.8      & 24.885952\\\\\n",
       "\tHornet 4 Drive & 21.4      & 20.102650\\\\\n",
       "\tHornet Sportabout & 18.7      & 18.900144\\\\\n",
       "\tValiant & 18.1      & 18.793255\\\\\n",
       "\tDuster 360 & 14.3      & 18.205363\\\\\n",
       "\tMerc 240D & 24.4      & 20.236262\\\\\n",
       "\tMerc 230 & 22.8      & 20.450041\\\\\n",
       "\tMerc 280 & 19.2      & 18.900144\\\\\n",
       "\tMerc 280C & 17.8      & 18.900144\\\\\n",
       "\tMerc 450SE & 16.4      & 15.533127\\\\\n",
       "\tMerc 450SL & 17.3      & 17.350247\\\\\n",
       "\tMerc 450SLC & 15.2      & 17.083024\\\\\n",
       "\tCadillac Fleetwood & 10.4      &  9.226650\\\\\n",
       "\tLincoln Continental & 10.4      &  8.296712\\\\\n",
       "\tChrysler Imperial & 14.7      &  8.718926\\\\\n",
       "\tFiat 128 & 32.4      & 25.527289\\\\\n",
       "\tHonda Civic & 30.4      & 28.653805\\\\\n",
       "\tToyota Corolla & 33.9      & 27.478021\\\\\n",
       "\tToyota Corona & 21.5      & 24.111004\\\\\n",
       "\tDodge Challenger & 15.5      & 18.472586\\\\\n",
       "\tAMC Javelin & 15.2      & 18.926866\\\\\n",
       "\tCamaro Z28 & 13.3      & 16.762355\\\\\n",
       "\tPontiac Firebird & 19.2      & 16.735633\\\\\n",
       "\tFiat X1-9 & 27.3      & 26.943574\\\\\n",
       "\tPorsche 914-2 & 26.0      & 25.847957\\\\\n",
       "\tLotus Europa & 30.4      & 29.198941\\\\\n",
       "\tFord Pantera L & 15.8      & 20.343151\\\\\n",
       "\tFerrari Dino & 19.7      & 22.480940\\\\\n",
       "\tMaserati Bora & 15.0      & 18.205363\\\\\n",
       "\tVolvo 142E & 21.4      & 22.427495\\\\\n",
       "\\end{tabular}\n"
      ],
      "text/markdown": [
       "\n",
       "| <!--/--> | mpg | pMpg |\n",
       "|---|---|---|\n",
       "| Mazda RX4 | 21.0      | 23.282611 |\n",
       "| Mazda RX4 Wag | 21.0      | 21.919770 |\n",
       "| Datsun 710 | 22.8      | 24.885952 |\n",
       "| Hornet 4 Drive | 21.4      | 20.102650 |\n",
       "| Hornet Sportabout | 18.7      | 18.900144 |\n",
       "| Valiant | 18.1      | 18.793255 |\n",
       "| Duster 360 | 14.3      | 18.205363 |\n",
       "| Merc 240D | 24.4      | 20.236262 |\n",
       "| Merc 230 | 22.8      | 20.450041 |\n",
       "| Merc 280 | 19.2      | 18.900144 |\n",
       "| Merc 280C | 17.8      | 18.900144 |\n",
       "| Merc 450SE | 16.4      | 15.533127 |\n",
       "| Merc 450SL | 17.3      | 17.350247 |\n",
       "| Merc 450SLC | 15.2      | 17.083024 |\n",
       "| Cadillac Fleetwood | 10.4      |  9.226650 |\n",
       "| Lincoln Continental | 10.4      |  8.296712 |\n",
       "| Chrysler Imperial | 14.7      |  8.718926 |\n",
       "| Fiat 128 | 32.4      | 25.527289 |\n",
       "| Honda Civic | 30.4      | 28.653805 |\n",
       "| Toyota Corolla | 33.9      | 27.478021 |\n",
       "| Toyota Corona | 21.5      | 24.111004 |\n",
       "| Dodge Challenger | 15.5      | 18.472586 |\n",
       "| AMC Javelin | 15.2      | 18.926866 |\n",
       "| Camaro Z28 | 13.3      | 16.762355 |\n",
       "| Pontiac Firebird | 19.2      | 16.735633 |\n",
       "| Fiat X1-9 | 27.3      | 26.943574 |\n",
       "| Porsche 914-2 | 26.0      | 25.847957 |\n",
       "| Lotus Europa | 30.4      | 29.198941 |\n",
       "| Ford Pantera L | 15.8      | 20.343151 |\n",
       "| Ferrari Dino | 19.7      | 22.480940 |\n",
       "| Maserati Bora | 15.0      | 18.205363 |\n",
       "| Volvo 142E | 21.4      | 22.427495 |\n",
       "\n"
      ],
      "text/plain": [
       "                    mpg  pMpg     \n",
       "Mazda RX4           21.0 23.282611\n",
       "Mazda RX4 Wag       21.0 21.919770\n",
       "Datsun 710          22.8 24.885952\n",
       "Hornet 4 Drive      21.4 20.102650\n",
       "Hornet Sportabout   18.7 18.900144\n",
       "Valiant             18.1 18.793255\n",
       "Duster 360          14.3 18.205363\n",
       "Merc 240D           24.4 20.236262\n",
       "Merc 230            22.8 20.450041\n",
       "Merc 280            19.2 18.900144\n",
       "Merc 280C           17.8 18.900144\n",
       "Merc 450SE          16.4 15.533127\n",
       "Merc 450SL          17.3 17.350247\n",
       "Merc 450SLC         15.2 17.083024\n",
       "Cadillac Fleetwood  10.4  9.226650\n",
       "Lincoln Continental 10.4  8.296712\n",
       "Chrysler Imperial   14.7  8.718926\n",
       "Fiat 128            32.4 25.527289\n",
       "Honda Civic         30.4 28.653805\n",
       "Toyota Corolla      33.9 27.478021\n",
       "Toyota Corona       21.5 24.111004\n",
       "Dodge Challenger    15.5 18.472586\n",
       "AMC Javelin         15.2 18.926866\n",
       "Camaro Z28          13.3 16.762355\n",
       "Pontiac Firebird    19.2 16.735633\n",
       "Fiat X1-9           27.3 26.943574\n",
       "Porsche 914-2       26.0 25.847957\n",
       "Lotus Europa        30.4 29.198941\n",
       "Ford Pantera L      15.8 20.343151\n",
       "Ferrari Dino        19.7 22.480940\n",
       "Maserati Bora       15.0 18.205363\n",
       "Volvo 142E          21.4 22.427495"
      ]
     },
     "metadata": {},
     "output_type": "display_data"
    }
   ],
   "source": [
    "data.frame(mpg=df$mpg,pMpg=p)"
   ]
  },
  {
   "cell_type": "code",
   "execution_count": 11,
   "metadata": {},
   "outputs": [
    {
     "data": {
      "text/html": [
       "<strong>1:</strong> 5.21829673100597"
      ],
      "text/latex": [
       "\\textbf{1:} 5.21829673100597"
      ],
      "text/markdown": [
       "**1:** 5.21829673100597"
      ],
      "text/plain": [
       "       1 \n",
       "5.218297 "
      ]
     },
     "metadata": {},
     "output_type": "display_data"
    }
   ],
   "source": [
    "# 차가 6톤일 때 연비 추정\n",
    "NewCar <- data.frame(wt=6)\n",
    "predict(lm, newdata = NewCar)"
   ]
  },
  {
   "cell_type": "markdown",
   "metadata": {},
   "source": [
    "#### diamonds 데이터로 캐럿에 따른 가격 예측하기"
   ]
  },
  {
   "cell_type": "code",
   "execution_count": 12,
   "metadata": {},
   "outputs": [
    {
     "name": "stderr",
     "output_type": "stream",
     "text": [
      "Registered S3 methods overwritten by 'ggplot2':\n",
      "  method         from \n",
      "  [.quosures     rlang\n",
      "  c.quosures     rlang\n",
      "  print.quosures rlang\n"
     ]
    }
   ],
   "source": [
    "library(ggplot2)"
   ]
  },
  {
   "cell_type": "code",
   "execution_count": 14,
   "metadata": {},
   "outputs": [
    {
     "data": {
      "text/html": [
       "<table>\n",
       "<thead><tr><th scope=col>carat</th><th scope=col>cut</th><th scope=col>color</th><th scope=col>clarity</th><th scope=col>depth</th><th scope=col>table</th><th scope=col>price</th><th scope=col>x</th><th scope=col>y</th><th scope=col>z</th></tr></thead>\n",
       "<tbody>\n",
       "\t<tr><td>0.23     </td><td>Ideal    </td><td>E        </td><td>SI2      </td><td>61.5     </td><td>55       </td><td>326      </td><td>3.95     </td><td>3.98     </td><td>2.43     </td></tr>\n",
       "\t<tr><td>0.21     </td><td>Premium  </td><td>E        </td><td>SI1      </td><td>59.8     </td><td>61       </td><td>326      </td><td>3.89     </td><td>3.84     </td><td>2.31     </td></tr>\n",
       "\t<tr><td>0.23     </td><td>Good     </td><td>E        </td><td>VS1      </td><td>56.9     </td><td>65       </td><td>327      </td><td>4.05     </td><td>4.07     </td><td>2.31     </td></tr>\n",
       "\t<tr><td>0.29     </td><td>Premium  </td><td>I        </td><td>VS2      </td><td>62.4     </td><td>58       </td><td>334      </td><td>4.20     </td><td>4.23     </td><td>2.63     </td></tr>\n",
       "\t<tr><td>0.31     </td><td>Good     </td><td>J        </td><td>SI2      </td><td>63.3     </td><td>58       </td><td>335      </td><td>4.34     </td><td>4.35     </td><td>2.75     </td></tr>\n",
       "\t<tr><td>0.24     </td><td>Very Good</td><td>J        </td><td>VVS2     </td><td>62.8     </td><td>57       </td><td>336      </td><td>3.94     </td><td>3.96     </td><td>2.48     </td></tr>\n",
       "</tbody>\n",
       "</table>\n"
      ],
      "text/latex": [
       "\\begin{tabular}{r|llllllllll}\n",
       " carat & cut & color & clarity & depth & table & price & x & y & z\\\\\n",
       "\\hline\n",
       "\t 0.23      & Ideal     & E         & SI2       & 61.5      & 55        & 326       & 3.95      & 3.98      & 2.43     \\\\\n",
       "\t 0.21      & Premium   & E         & SI1       & 59.8      & 61        & 326       & 3.89      & 3.84      & 2.31     \\\\\n",
       "\t 0.23      & Good      & E         & VS1       & 56.9      & 65        & 327       & 4.05      & 4.07      & 2.31     \\\\\n",
       "\t 0.29      & Premium   & I         & VS2       & 62.4      & 58        & 334       & 4.20      & 4.23      & 2.63     \\\\\n",
       "\t 0.31      & Good      & J         & SI2       & 63.3      & 58        & 335       & 4.34      & 4.35      & 2.75     \\\\\n",
       "\t 0.24      & Very Good & J         & VVS2      & 62.8      & 57        & 336       & 3.94      & 3.96      & 2.48     \\\\\n",
       "\\end{tabular}\n"
      ],
      "text/markdown": [
       "\n",
       "| carat | cut | color | clarity | depth | table | price | x | y | z |\n",
       "|---|---|---|---|---|---|---|---|---|---|\n",
       "| 0.23      | Ideal     | E         | SI2       | 61.5      | 55        | 326       | 3.95      | 3.98      | 2.43      |\n",
       "| 0.21      | Premium   | E         | SI1       | 59.8      | 61        | 326       | 3.89      | 3.84      | 2.31      |\n",
       "| 0.23      | Good      | E         | VS1       | 56.9      | 65        | 327       | 4.05      | 4.07      | 2.31      |\n",
       "| 0.29      | Premium   | I         | VS2       | 62.4      | 58        | 334       | 4.20      | 4.23      | 2.63      |\n",
       "| 0.31      | Good      | J         | SI2       | 63.3      | 58        | 335       | 4.34      | 4.35      | 2.75      |\n",
       "| 0.24      | Very Good | J         | VVS2      | 62.8      | 57        | 336       | 3.94      | 3.96      | 2.48      |\n",
       "\n"
      ],
      "text/plain": [
       "  carat cut       color clarity depth table price x    y    z   \n",
       "1 0.23  Ideal     E     SI2     61.5  55    326   3.95 3.98 2.43\n",
       "2 0.21  Premium   E     SI1     59.8  61    326   3.89 3.84 2.31\n",
       "3 0.23  Good      E     VS1     56.9  65    327   4.05 4.07 2.31\n",
       "4 0.29  Premium   I     VS2     62.4  58    334   4.20 4.23 2.63\n",
       "5 0.31  Good      J     SI2     63.3  58    335   4.34 4.35 2.75\n",
       "6 0.24  Very Good J     VVS2    62.8  57    336   3.94 3.96 2.48"
      ]
     },
     "metadata": {},
     "output_type": "display_data"
    }
   ],
   "source": [
    "df <- diamonds\n",
    "head(df)"
   ]
  },
  {
   "cell_type": "code",
   "execution_count": 15,
   "metadata": {},
   "outputs": [
    {
     "name": "stdout",
     "output_type": "stream",
     "text": [
      "Classes 'tbl_df', 'tbl' and 'data.frame':\t53940 obs. of  10 variables:\n",
      " $ carat  : num  0.23 0.21 0.23 0.29 0.31 0.24 0.24 0.26 0.22 0.23 ...\n",
      " $ cut    : Ord.factor w/ 5 levels \"Fair\"<\"Good\"<..: 5 4 2 4 2 3 3 3 1 3 ...\n",
      " $ color  : Ord.factor w/ 7 levels \"D\"<\"E\"<\"F\"<\"G\"<..: 2 2 2 6 7 7 6 5 2 5 ...\n",
      " $ clarity: Ord.factor w/ 8 levels \"I1\"<\"SI2\"<\"SI1\"<..: 2 3 5 4 2 6 7 3 4 5 ...\n",
      " $ depth  : num  61.5 59.8 56.9 62.4 63.3 62.8 62.3 61.9 65.1 59.4 ...\n",
      " $ table  : num  55 61 65 58 58 57 57 55 61 61 ...\n",
      " $ price  : int  326 326 327 334 335 336 336 337 337 338 ...\n",
      " $ x      : num  3.95 3.89 4.05 4.2 4.34 3.94 3.95 4.07 3.87 4 ...\n",
      " $ y      : num  3.98 3.84 4.07 4.23 4.35 3.96 3.98 4.11 3.78 4.05 ...\n",
      " $ z      : num  2.43 2.31 2.31 2.63 2.75 2.48 2.47 2.53 2.49 2.39 ...\n"
     ]
    }
   ],
   "source": [
    "str(df)"
   ]
  },
  {
   "cell_type": "code",
   "execution_count": 16,
   "metadata": {},
   "outputs": [
    {
     "data": {
      "text/plain": [
       "\n",
       "Call:\n",
       "lm(formula = price ~ carat, data = df)\n",
       "\n",
       "Coefficients:\n",
       "(Intercept)        carat  \n",
       "      -2256         7756  \n"
      ]
     },
     "metadata": {},
     "output_type": "display_data"
    }
   ],
   "source": [
    "#캐럿에 따른 가격\n",
    "lm <- lm(price~carat, data = df)\n",
    "lm # 1캐럿이 올라가면 7756달러 올라감"
   ]
  },
  {
   "cell_type": "code",
   "execution_count": 17,
   "metadata": {},
   "outputs": [
    {
     "data": {
      "text/plain": [
       "\n",
       "Call:\n",
       "lm(formula = price ~ carat, data = df)\n",
       "\n",
       "Residuals:\n",
       "     Min       1Q   Median       3Q      Max \n",
       "-18585.3   -804.8    -18.9    537.4  12731.7 \n",
       "\n",
       "Coefficients:\n",
       "            Estimate Std. Error t value            Pr(>|t|)    \n",
       "(Intercept) -2256.36      13.06  -172.8 <0.0000000000000002 ***\n",
       "carat        7756.43      14.07   551.4 <0.0000000000000002 ***\n",
       "---\n",
       "Signif. codes:  0 '***' 0.001 '**' 0.01 '*' 0.05 '.' 0.1 ' ' 1\n",
       "\n",
       "Residual standard error: 1549 on 53938 degrees of freedom\n",
       "Multiple R-squared:  0.8493,\tAdjusted R-squared:  0.8493 \n",
       "F-statistic: 3.041e+05 on 1 and 53938 DF,  p-value: < 0.00000000000000022\n"
      ]
     },
     "metadata": {},
     "output_type": "display_data"
    }
   ],
   "source": [
    "summary(lm)\n",
    "# Multiple R-squared:  0.8493"
   ]
  },
  {
   "cell_type": "code",
   "execution_count": 18,
   "metadata": {},
   "outputs": [
    {
     "data": {
      "text/html": [
       "<dl class=dl-horizontal>\n",
       "\t<dt>1</dt>\n",
       "\t\t<dd>75307.8955996393</dd>\n",
       "\t<dt>2</dt>\n",
       "\t\t<dd>152872.151779324</dd>\n",
       "</dl>\n"
      ],
      "text/latex": [
       "\\begin{description*}\n",
       "\\item[1] 75307.8955996393\n",
       "\\item[2] 152872.151779324\n",
       "\\end{description*}\n"
      ],
      "text/markdown": [
       "1\n",
       ":   75307.89559963932\n",
       ":   152872.151779324\n",
       "\n"
      ],
      "text/plain": [
       "       1        2 \n",
       " 75307.9 152872.2 "
      ]
     },
     "metadata": {},
     "output_type": "display_data"
    }
   ],
   "source": [
    "# 10캐럿 일때 가격 예측\n",
    "newDia <- data.frame(carat=c(10,20))\n",
    "predict(lm, newdata = newDia)"
   ]
  },
  {
   "cell_type": "code",
   "execution_count": 23,
   "metadata": {},
   "outputs": [
    {
     "data": {
      "text/html": [
       "<table>\n",
       "<thead><tr><th scope=col>carat</th><th scope=col>cut</th><th scope=col>color</th><th scope=col>clarity</th><th scope=col>depth</th><th scope=col>table</th><th scope=col>price</th><th scope=col>x</th><th scope=col>y</th><th scope=col>z</th></tr></thead>\n",
       "<tbody>\n",
       "\t<tr><td>1.51   </td><td>Fair   </td><td>I      </td><td>SI1    </td><td>68.3   </td><td>57     </td><td>8355   </td><td>6.95   </td><td>6.87   </td><td>4.72   </td></tr>\n",
       "\t<tr><td>1.01   </td><td>Premium</td><td>G      </td><td>SI1    </td><td>62.3   </td><td>59     </td><td>5139   </td><td>6.38   </td><td>6.30   </td><td>3.95   </td></tr>\n",
       "\t<tr><td>1.03   </td><td>Ideal  </td><td>G      </td><td>SI2    </td><td>62.1   </td><td>57     </td><td>4470   </td><td>6.44   </td><td>6.42   </td><td>3.99   </td></tr>\n",
       "\t<tr><td>0.44   </td><td>Premium</td><td>E      </td><td>VS2    </td><td>60.4   </td><td>59     </td><td>1003   </td><td>4.90   </td><td>4.93   </td><td>2.97   </td></tr>\n",
       "\t<tr><td>0.59   </td><td>Ideal  </td><td>I      </td><td>VVS1   </td><td>62.2   </td><td>55     </td><td>1838   </td><td>5.38   </td><td>5.39   </td><td>3.35   </td></tr>\n",
       "\t<tr><td>0.30   </td><td>Premium</td><td>G      </td><td>VVS1   </td><td>61.9   </td><td>59     </td><td>1013   </td><td>4.31   </td><td>4.28   </td><td>2.66   </td></tr>\n",
       "</tbody>\n",
       "</table>\n"
      ],
      "text/latex": [
       "\\begin{tabular}{r|llllllllll}\n",
       " carat & cut & color & clarity & depth & table & price & x & y & z\\\\\n",
       "\\hline\n",
       "\t 1.51    & Fair    & I       & SI1     & 68.3    & 57      & 8355    & 6.95    & 6.87    & 4.72   \\\\\n",
       "\t 1.01    & Premium & G       & SI1     & 62.3    & 59      & 5139    & 6.38    & 6.30    & 3.95   \\\\\n",
       "\t 1.03    & Ideal   & G       & SI2     & 62.1    & 57      & 4470    & 6.44    & 6.42    & 3.99   \\\\\n",
       "\t 0.44    & Premium & E       & VS2     & 60.4    & 59      & 1003    & 4.90    & 4.93    & 2.97   \\\\\n",
       "\t 0.59    & Ideal   & I       & VVS1    & 62.2    & 55      & 1838    & 5.38    & 5.39    & 3.35   \\\\\n",
       "\t 0.30    & Premium & G       & VVS1    & 61.9    & 59      & 1013    & 4.31    & 4.28    & 2.66   \\\\\n",
       "\\end{tabular}\n"
      ],
      "text/markdown": [
       "\n",
       "| carat | cut | color | clarity | depth | table | price | x | y | z |\n",
       "|---|---|---|---|---|---|---|---|---|---|\n",
       "| 1.51    | Fair    | I       | SI1     | 68.3    | 57      | 8355    | 6.95    | 6.87    | 4.72    |\n",
       "| 1.01    | Premium | G       | SI1     | 62.3    | 59      | 5139    | 6.38    | 6.30    | 3.95    |\n",
       "| 1.03    | Ideal   | G       | SI2     | 62.1    | 57      | 4470    | 6.44    | 6.42    | 3.99    |\n",
       "| 0.44    | Premium | E       | VS2     | 60.4    | 59      | 1003    | 4.90    | 4.93    | 2.97    |\n",
       "| 0.59    | Ideal   | I       | VVS1    | 62.2    | 55      | 1838    | 5.38    | 5.39    | 3.35    |\n",
       "| 0.30    | Premium | G       | VVS1    | 61.9    | 59      | 1013    | 4.31    | 4.28    | 2.66    |\n",
       "\n"
      ],
      "text/plain": [
       "  carat cut     color clarity depth table price x    y    z   \n",
       "1 1.51  Fair    I     SI1     68.3  57    8355  6.95 6.87 4.72\n",
       "2 1.01  Premium G     SI1     62.3  59    5139  6.38 6.30 3.95\n",
       "3 1.03  Ideal   G     SI2     62.1  57    4470  6.44 6.42 3.99\n",
       "4 0.44  Premium E     VS2     60.4  59    1003  4.90 4.93 2.97\n",
       "5 0.59  Ideal   I     VVS1    62.2  55    1838  5.38 5.39 3.35\n",
       "6 0.30  Premium G     VVS1    61.9  59    1013  4.31 4.28 2.66"
      ]
     },
     "metadata": {},
     "output_type": "display_data"
    }
   ],
   "source": [
    "sample <- diamonds[sample(nrow(df), 100),]\n",
    "head(sample)"
   ]
  },
  {
   "cell_type": "code",
   "execution_count": 24,
   "metadata": {},
   "outputs": [
    {
     "data": {
      "image/png": "[encoded data removed]",
      "text/plain": [
       "plot without title"
      ]
     },
     "metadata": {},
     "output_type": "display_data"
    }
   ],
   "source": [
    "g1 <- ggplot(sample, aes(x=carat, y=price, colour=color)) +\n",
    "geom_point()\n",
    "g1"
   ]
  },
  {
   "cell_type": "code",
   "execution_count": 26,
   "metadata": {},
   "outputs": [
    {
     "data": {
      "image/png": "[encoded data removed]",
      "text/plain": [
       "plot without title"
      ]
     },
     "metadata": {},
     "output_type": "display_data"
    }
   ],
   "source": [
    "g2 <- ggplot(sample, aes(x=carat, y=price)) +\n",
    "geom_point(aes(colour=color))\n",
    "g2"
   ]
  },
  {
   "cell_type": "code",
   "execution_count": 25,
   "metadata": {},
   "outputs": [
    {
     "data": {
      "image/png": "[encoded data removed]",
      "text/plain": [
       "plot without title"
      ]
     },
     "metadata": {},
     "output_type": "display_data"
    }
   ],
   "source": [
    "# color 그룹별 회귀모델\n",
    "g1 + geom_smooth(method = 'lm')"
   ]
  },
  {
   "cell_type": "code",
   "execution_count": 27,
   "metadata": {},
   "outputs": [
    {
     "data": {
      "image/png": "[encoded data removed]",
      "text/plain": [
       "plot without title"
      ]
     },
     "metadata": {},
     "output_type": "display_data"
    }
   ],
   "source": [
    "g2 + geom_smooth(method = 'lm')"
   ]
  },
  {
   "cell_type": "code",
   "execution_count": 30,
   "metadata": {},
   "outputs": [
    {
     "data": {
      "text/plain": [
       "\n",
       "Call:\n",
       "lm(formula = price ~ carat, data = sample)\n",
       "\n",
       "Coefficients:\n",
       "(Intercept)        carat  \n",
       "      -2393         8119  \n"
      ]
     },
     "metadata": {},
     "output_type": "display_data"
    }
   ],
   "source": [
    "#정확한 값으로 예측구간 나타내기\n",
    "lm2 <- lm(price~carat, data=sample)\n",
    "lm2"
   ]
  },
  {
   "cell_type": "code",
   "execution_count": 34,
   "metadata": {},
   "outputs": [
    {
     "data": {
      "text/html": [
       "<dl class=dl-horizontal>\n",
       "\t<dt>1</dt>\n",
       "\t\t<dd>9865.94237642929</dd>\n",
       "\t<dt>2</dt>\n",
       "\t\t<dd>5806.62012710269</dd>\n",
       "\t<dt>3</dt>\n",
       "\t\t<dd>5968.99301707576</dd>\n",
       "\t<dt>4</dt>\n",
       "\t\t<dd>1178.99276287037</dd>\n",
       "\t<dt>5</dt>\n",
       "\t\t<dd>2396.78943766835</dd>\n",
       "\t<dt>6</dt>\n",
       "\t\t<dd>42.3825330589207</dd>\n",
       "\t<dt>7</dt>\n",
       "\t\t<dd>1747.29787777609</dd>\n",
       "\t<dt>8</dt>\n",
       "\t\t<dd>6050.17946206229</dd>\n",
       "\t<dt>9</dt>\n",
       "\t\t<dd>42.3825330589207</dd>\n",
       "\t<dt>10</dt>\n",
       "\t\t<dd>11489.6712761599</dd>\n",
       "\t<dt>11</dt>\n",
       "\t\t<dd>3614.58611246633</dd>\n",
       "\t<dt>12</dt>\n",
       "\t\t<dd>285.941868018517</dd>\n",
       "\t<dt>13</dt>\n",
       "\t\t<dd>123.568978045453</dd>\n",
       "\t<dt>14</dt>\n",
       "\t\t<dd>2396.78943766835</dd>\n",
       "\t<dt>15</dt>\n",
       "\t\t<dd>367.128313005049</dd>\n",
       "\t<dt>16</dt>\n",
       "\t\t<dd>9865.94237642929</dd>\n",
       "\t<dt>17</dt>\n",
       "\t\t<dd>1097.80631788384</dd>\n",
       "\t<dt>18</dt>\n",
       "\t\t<dd>691.874092951177</dd>\n",
       "\t<dt>19</dt>\n",
       "\t\t<dd>691.874092951177</dd>\n",
       "\t<dt>20</dt>\n",
       "\t\t<dd>4182.89122737205</dd>\n",
       "\t<dt>21</dt>\n",
       "\t\t<dd>1016.6198728973</dd>\n",
       "\t<dt>22</dt>\n",
       "\t\t<dd>935.433427910772</dd>\n",
       "\t<dt>23</dt>\n",
       "\t\t<dd>42.3825330589207</dd>\n",
       "\t<dt>24</dt>\n",
       "\t\t<dd>1909.67076774916</dd>\n",
       "\t<dt>25</dt>\n",
       "\t\t<dd>5481.87434715656</dd>\n",
       "\t<dt>26</dt>\n",
       "\t\t<dd>-119.990356914143</dd>\n",
       "\t<dt>27</dt>\n",
       "\t\t<dd>15873.7393054327</dd>\n",
       "\t<dt>28</dt>\n",
       "\t\t<dd>285.941868018517</dd>\n",
       "\t<dt>29</dt>\n",
       "\t\t<dd>3289.8403325202</dd>\n",
       "\t<dt>30</dt>\n",
       "\t\t<dd>3695.77255745286</dd>\n",
       "\t<dt>31</dt>\n",
       "\t\t<dd>7349.1625818468</dd>\n",
       "\t<dt>32</dt>\n",
       "\t\t<dd>4994.75567723737</dd>\n",
       "\t<dt>33</dt>\n",
       "\t\t<dd>2477.97588265488</dd>\n",
       "\t<dt>34</dt>\n",
       "\t\t<dd>4994.75567723737</dd>\n",
       "\t<dt>35</dt>\n",
       "\t\t<dd>10109.5017113889</dd>\n",
       "\t<dt>36</dt>\n",
       "\t\t<dd>691.874092951177</dd>\n",
       "\t<dt>37</dt>\n",
       "\t\t<dd>1747.29787777609</dd>\n",
       "\t<dt>38</dt>\n",
       "\t\t<dd>1097.80631788384</dd>\n",
       "\t<dt>39</dt>\n",
       "\t\t<dd>5887.80657208923</dd>\n",
       "\t<dt>40</dt>\n",
       "\t\t<dd>854.246982924241</dd>\n",
       "\t<dt>41</dt>\n",
       "\t\t<dd>123.568978045453</dd>\n",
       "\t<dt>42</dt>\n",
       "\t\t<dd>610.687647964644</dd>\n",
       "\t<dt>43</dt>\n",
       "\t\t<dd>42.3825330589207</dd>\n",
       "\t<dt>44</dt>\n",
       "\t\t<dd>42.3825330589207</dd>\n",
       "\t<dt>45</dt>\n",
       "\t\t<dd>285.941868018517</dd>\n",
       "\t<dt>46</dt>\n",
       "\t\t<dd>854.246982924241</dd>\n",
       "\t<dt>47</dt>\n",
       "\t\t<dd>285.941868018517</dd>\n",
       "\t<dt>48</dt>\n",
       "\t\t<dd>123.568978045453</dd>\n",
       "\t<dt>49</dt>\n",
       "\t\t<dd>448.31475799158</dd>\n",
       "\t<dt>50</dt>\n",
       "\t\t<dd>854.246982924241</dd>\n",
       "\t<dt>51</dt>\n",
       "\t\t<dd>14006.4510707424</dd>\n",
       "\t<dt>52</dt>\n",
       "\t\t<dd>5725.43368211616</dd>\n",
       "\t<dt>53</dt>\n",
       "\t\t<dd>2396.78943766835</dd>\n",
       "\t<dt>54</dt>\n",
       "\t\t<dd>4345.26411734512</dd>\n",
       "\t<dt>55</dt>\n",
       "\t\t<dd>5563.0607921431</dd>\n",
       "\t<dt>56</dt>\n",
       "\t\t<dd>5806.62012710269</dd>\n",
       "\t<dt>57</dt>\n",
       "\t\t<dd>11408.4848311734</dd>\n",
       "\t<dt>58</dt>\n",
       "\t\t<dd>935.433427910772</dd>\n",
       "\t<dt>59</dt>\n",
       "\t\t<dd>16442.0444203384</dd>\n",
       "\t<dt>60</dt>\n",
       "\t\t<dd>-363.549691873739</dd>\n",
       "\t<dt>61</dt>\n",
       "\t\t<dd>5725.43368211616</dd>\n",
       "\t<dt>62</dt>\n",
       "\t\t<dd>1747.29787777609</dd>\n",
       "\t<dt>63</dt>\n",
       "\t\t<dd>1990.85721273569</dd>\n",
       "\t<dt>64</dt>\n",
       "\t\t<dd>6050.17946206229</dd>\n",
       "\t<dt>65</dt>\n",
       "\t\t<dd>4913.56923225084</dd>\n",
       "\t<dt>66</dt>\n",
       "\t\t<dd>285.941868018517</dd>\n",
       "\t<dt>67</dt>\n",
       "\t\t<dd>5806.62012710269</dd>\n",
       "\t<dt>68</dt>\n",
       "\t\t<dd>854.246982924241</dd>\n",
       "\t<dt>69</dt>\n",
       "\t\t<dd>5157.12856721044</dd>\n",
       "\t<dt>70</dt>\n",
       "\t\t<dd>285.941868018517</dd>\n",
       "\t<dt>71</dt>\n",
       "\t\t<dd>6374.92524200842</dd>\n",
       "\t<dt>72</dt>\n",
       "\t\t<dd>854.246982924241</dd>\n",
       "\t<dt>73</dt>\n",
       "\t\t<dd>773.060537937709</dd>\n",
       "\t<dt>74</dt>\n",
       "\t\t<dd>2477.97588265488</dd>\n",
       "\t<dt>75</dt>\n",
       "\t\t<dd>10028.3152664024</dd>\n",
       "\t<dt>76</dt>\n",
       "\t\t<dd>854.246982924241</dd>\n",
       "\t<dt>77</dt>\n",
       "\t\t<dd>529.501202978112</dd>\n",
       "\t<dt>78</dt>\n",
       "\t\t<dd>5887.80657208923</dd>\n",
       "\t<dt>79</dt>\n",
       "\t\t<dd>285.941868018517</dd>\n",
       "\t<dt>80</dt>\n",
       "\t\t<dd>2234.41654769528</dd>\n",
       "\t<dt>81</dt>\n",
       "\t\t<dd>3533.3996674798</dd>\n",
       "\t<dt>82</dt>\n",
       "\t\t<dd>529.501202978112</dd>\n",
       "\t<dt>83</dt>\n",
       "\t\t<dd>285.941868018517</dd>\n",
       "\t<dt>84</dt>\n",
       "\t\t<dd>8404.58636667172</dd>\n",
       "\t<dt>85</dt>\n",
       "\t\t<dd>2315.60299268182</dd>\n",
       "\t<dt>86</dt>\n",
       "\t\t<dd>2234.41654769528</dd>\n",
       "\t<dt>87</dt>\n",
       "\t\t<dd>2315.60299268182</dd>\n",
       "\t<dt>88</dt>\n",
       "\t\t<dd>854.246982924241</dd>\n",
       "\t<dt>89</dt>\n",
       "\t\t<dd>5806.62012710269</dd>\n",
       "\t<dt>90</dt>\n",
       "\t\t<dd>6131.36590704882</dd>\n",
       "\t<dt>91</dt>\n",
       "\t\t<dd>6374.92524200842</dd>\n",
       "\t<dt>92</dt>\n",
       "\t\t<dd>8323.39992168519</dd>\n",
       "\t<dt>93</dt>\n",
       "\t\t<dd>2315.60299268182</dd>\n",
       "\t<dt>94</dt>\n",
       "\t\t<dd>1016.6198728973</dd>\n",
       "\t<dt>95</dt>\n",
       "\t\t<dd>42.3825330589207</dd>\n",
       "\t<dt>96</dt>\n",
       "\t\t<dd>448.31475799158</dd>\n",
       "\t<dt>97</dt>\n",
       "\t\t<dd>5806.62012710269</dd>\n",
       "\t<dt>98</dt>\n",
       "\t\t<dd>-444.736136860271</dd>\n",
       "\t<dt>99</dt>\n",
       "\t\t<dd>3695.77255745286</dd>\n",
       "\t<dt>100</dt>\n",
       "\t\t<dd>7592.7219168064</dd>\n",
       "</dl>\n"
      ],
      "text/latex": [
       "\\begin{description*}\n",
       "\\item[1] 9865.94237642929\n",
       "\\item[2] 5806.62012710269\n",
       "\\item[3] 5968.99301707576\n",
       "\\item[4] 1178.99276287037\n",
       "\\item[5] 2396.78943766835\n",
       "\\item[6] 42.3825330589207\n",
       "\\item[7] 1747.29787777609\n",
       "\\item[8] 6050.17946206229\n",
       "\\item[9] 42.3825330589207\n",
       "\\item[10] 11489.6712761599\n",
       "\\item[11] 3614.58611246633\n",
       "\\item[12] 285.941868018517\n",
       "\\item[13] 123.568978045453\n",
       "\\item[14] 2396.78943766835\n",
       "\\item[15] 367.128313005049\n",
       "\\item[16] 9865.94237642929\n",
       "\\item[17] 1097.80631788384\n",
       "\\item[18] 691.874092951177\n",
       "\\item[19] 691.874092951177\n",
       "\\item[20] 4182.89122737205\n",
       "\\item[21] 1016.6198728973\n",
       "\\item[22] 935.433427910772\n",
       "\\item[23] 42.3825330589207\n",
       "\\item[24] 1909.67076774916\n",
       "\\item[25] 5481.87434715656\n",
       "\\item[26] -119.990356914143\n",
       "\\item[27] 15873.7393054327\n",
       "\\item[28] 285.941868018517\n",
       "\\item[29] 3289.8403325202\n",
       "\\item[30] 3695.77255745286\n",
       "\\item[31] 7349.1625818468\n",
       "\\item[32] 4994.75567723737\n",
       "\\item[33] 2477.97588265488\n",
       "\\item[34] 4994.75567723737\n",
       "\\item[35] 10109.5017113889\n",
       "\\item[36] 691.874092951177\n",
       "\\item[37] 1747.29787777609\n",
       "\\item[38] 1097.80631788384\n",
       "\\item[39] 5887.80657208923\n",
       "\\item[40] 854.246982924241\n",
       "\\item[41] 123.568978045453\n",
       "\\item[42] 610.687647964644\n",
       "\\item[43] 42.3825330589207\n",
       "\\item[44] 42.3825330589207\n",
       "\\item[45] 285.941868018517\n",
       "\\item[46] 854.246982924241\n",
       "\\item[47] 285.941868018517\n",
       "\\item[48] 123.568978045453\n",
       "\\item[49] 448.31475799158\n",
       "\\item[50] 854.246982924241\n",
       "\\item[51] 14006.4510707424\n",
       "\\item[52] 5725.43368211616\n",
       "\\item[53] 2396.78943766835\n",
       "\\item[54] 4345.26411734512\n",
       "\\item[55] 5563.0607921431\n",
       "\\item[56] 5806.62012710269\n",
       "\\item[57] 11408.4848311734\n",
       "\\item[58] 935.433427910772\n",
       "\\item[59] 16442.0444203384\n",
       "\\item[60] -363.549691873739\n",
       "\\item[61] 5725.43368211616\n",
       "\\item[62] 1747.29787777609\n",
       "\\item[63] 1990.85721273569\n",
       "\\item[64] 6050.17946206229\n",
       "\\item[65] 4913.56923225084\n",
       "\\item[66] 285.941868018517\n",
       "\\item[67] 5806.62012710269\n",
       "\\item[68] 854.246982924241\n",
       "\\item[69] 5157.12856721044\n",
       "\\item[70] 285.941868018517\n",
       "\\item[71] 6374.92524200842\n",
       "\\item[72] 854.246982924241\n",
       "\\item[73] 773.060537937709\n",
       "\\item[74] 2477.97588265488\n",
       "\\item[75] 10028.3152664024\n",
       "\\item[76] 854.246982924241\n",
       "\\item[77] 529.501202978112\n",
       "\\item[78] 5887.80657208923\n",
       "\\item[79] 285.941868018517\n",
       "\\item[80] 2234.41654769528\n",
       "\\item[81] 3533.3996674798\n",
       "\\item[82] 529.501202978112\n",
       "\\item[83] 285.941868018517\n",
       "\\item[84] 8404.58636667172\n",
       "\\item[85] 2315.60299268182\n",
       "\\item[86] 2234.41654769528\n",
       "\\item[87] 2315.60299268182\n",
       "\\item[88] 854.246982924241\n",
       "\\item[89] 5806.62012710269\n",
       "\\item[90] 6131.36590704882\n",
       "\\item[91] 6374.92524200842\n",
       "\\item[92] 8323.39992168519\n",
       "\\item[93] 2315.60299268182\n",
       "\\item[94] 1016.6198728973\n",
       "\\item[95] 42.3825330589207\n",
       "\\item[96] 448.31475799158\n",
       "\\item[97] 5806.62012710269\n",
       "\\item[98] -444.736136860271\n",
       "\\item[99] 3695.77255745286\n",
       "\\item[100] 7592.7219168064\n",
       "\\end{description*}\n"
      ],
      "text/markdown": [
       "1\n",
       ":   9865.942376429292\n",
       ":   5806.620127102693\n",
       ":   5968.993017075764\n",
       ":   1178.992762870375\n",
       ":   2396.789437668356\n",
       ":   42.38253305892077\n",
       ":   1747.297877776098\n",
       ":   6050.179462062299\n",
       ":   42.382533058920710\n",
       ":   11489.671276159911\n",
       ":   3614.5861124663312\n",
       ":   285.94186801851713\n",
       ":   123.56897804545314\n",
       ":   2396.7894376683515\n",
       ":   367.12831300504916\n",
       ":   9865.9423764292917\n",
       ":   1097.8063178838418\n",
       ":   691.87409295117719\n",
       ":   691.87409295117720\n",
       ":   4182.8912273720521\n",
       ":   1016.619872897322\n",
       ":   935.43342791077223\n",
       ":   42.382533058920724\n",
       ":   1909.6707677491625\n",
       ":   5481.8743471565626\n",
       ":   -119.99035691414327\n",
       ":   15873.739305432728\n",
       ":   285.94186801851729\n",
       ":   3289.840332520230\n",
       ":   3695.7725574528631\n",
       ":   7349.162581846832\n",
       ":   4994.7556772373733\n",
       ":   2477.9758826548834\n",
       ":   4994.7556772373735\n",
       ":   10109.501711388936\n",
       ":   691.87409295117737\n",
       ":   1747.2978777760938\n",
       ":   1097.8063178838439\n",
       ":   5887.8065720892340\n",
       ":   854.24698292424141\n",
       ":   123.56897804545342\n",
       ":   610.68764796464443\n",
       ":   42.382533058920744\n",
       ":   42.382533058920745\n",
       ":   285.94186801851746\n",
       ":   854.24698292424147\n",
       ":   285.94186801851748\n",
       ":   123.56897804545349\n",
       ":   448.3147579915850\n",
       ":   854.24698292424151\n",
       ":   14006.451070742452\n",
       ":   5725.4336821161653\n",
       ":   2396.7894376683554\n",
       ":   4345.2641173451255\n",
       ":   5563.060792143156\n",
       ":   5806.6201271026957\n",
       ":   11408.484831173458\n",
       ":   935.43342791077259\n",
       ":   16442.044420338460\n",
       ":   -363.54969187373961\n",
       ":   5725.4336821161662\n",
       ":   1747.2978777760963\n",
       ":   1990.8572127356964\n",
       ":   6050.1794620622965\n",
       ":   4913.5692322508466\n",
       ":   285.94186801851767\n",
       ":   5806.6201271026968\n",
       ":   854.24698292424169\n",
       ":   5157.1285672104470\n",
       ":   285.94186801851771\n",
       ":   6374.9252420084272\n",
       ":   854.24698292424173\n",
       ":   773.06053793770974\n",
       ":   2477.9758826548875\n",
       ":   10028.315266402476\n",
       ":   854.24698292424177\n",
       ":   529.50120297811278\n",
       ":   5887.8065720892379\n",
       ":   285.94186801851780\n",
       ":   2234.4165476952881\n",
       ":   3533.399667479882\n",
       ":   529.50120297811283\n",
       ":   285.94186801851784\n",
       ":   8404.5863666717285\n",
       ":   2315.6029926818286\n",
       ":   2234.4165476952887\n",
       ":   2315.6029926818288\n",
       ":   854.24698292424189\n",
       ":   5806.6201271026990\n",
       ":   6131.3659070488291\n",
       ":   6374.9252420084292\n",
       ":   8323.3999216851993\n",
       ":   2315.6029926818294\n",
       ":   1016.619872897395\n",
       ":   42.382533058920796\n",
       ":   448.3147579915897\n",
       ":   5806.6201271026998\n",
       ":   -444.73613686027199\n",
       ":   3695.77255745286100\n",
       ":   7592.7219168064\n",
       "\n"
      ],
      "text/plain": [
       "          1           2           3           4           5           6 \n",
       " 9865.94238  5806.62013  5968.99302  1178.99276  2396.78944    42.38253 \n",
       "          7           8           9          10          11          12 \n",
       " 1747.29788  6050.17946    42.38253 11489.67128  3614.58611   285.94187 \n",
       "         13          14          15          16          17          18 \n",
       "  123.56898  2396.78944   367.12831  9865.94238  1097.80632   691.87409 \n",
       "         19          20          21          22          23          24 \n",
       "  691.87409  4182.89123  1016.61987   935.43343    42.38253  1909.67077 \n",
       "         25          26          27          28          29          30 \n",
       " 5481.87435  -119.99036 15873.73931   285.94187  3289.84033  3695.77256 \n",
       "         31          32          33          34          35          36 \n",
       " 7349.16258  4994.75568  2477.97588  4994.75568 10109.50171   691.87409 \n",
       "         37          38          39          40          41          42 \n",
       " 1747.29788  1097.80632  5887.80657   854.24698   123.56898   610.68765 \n",
       "         43          44          45          46          47          48 \n",
       "   42.38253    42.38253   285.94187   854.24698   285.94187   123.56898 \n",
       "         49          50          51          52          53          54 \n",
       "  448.31476   854.24698 14006.45107  5725.43368  2396.78944  4345.26412 \n",
       "         55          56          57          58          59          60 \n",
       " 5563.06079  5806.62013 11408.48483   935.43343 16442.04442  -363.54969 \n",
       "         61          62          63          64          65          66 \n",
       " 5725.43368  1747.29788  1990.85721  6050.17946  4913.56923   285.94187 \n",
       "         67          68          69          70          71          72 \n",
       " 5806.62013   854.24698  5157.12857   285.94187  6374.92524   854.24698 \n",
       "         73          74          75          76          77          78 \n",
       "  773.06054  2477.97588 10028.31527   854.24698   529.50120  5887.80657 \n",
       "         79          80          81          82          83          84 \n",
       "  285.94187  2234.41655  3533.39967   529.50120   285.94187  8404.58637 \n",
       "         85          86          87          88          89          90 \n",
       " 2315.60299  2234.41655  2315.60299   854.24698  5806.62013  6131.36591 \n",
       "         91          92          93          94          95          96 \n",
       " 6374.92524  8323.39992  2315.60299  1016.61987    42.38253   448.31476 \n",
       "         97          98          99         100 \n",
       " 5806.62013  -444.73614  3695.77256  7592.72192 "
      ]
     },
     "metadata": {},
     "output_type": "display_data"
    }
   ],
   "source": [
    "p <- predict(lm2)\n",
    "p"
   ]
  },
  {
   "cell_type": "code",
   "execution_count": 35,
   "metadata": {},
   "outputs": [
    {
     "data": {
      "text/html": [
       "<table>\n",
       "<thead><tr><th scope=col>fit</th><th scope=col>lwr</th><th scope=col>upr</th></tr></thead>\n",
       "<tbody>\n",
       "\t<tr><td> 9865.94238</td><td> 9213.86298</td><td>10518.0218 </td></tr>\n",
       "\t<tr><td> 5806.62013</td><td> 5421.64954</td><td> 6191.5907 </td></tr>\n",
       "\t<tr><td> 5968.99302</td><td> 5576.05129</td><td> 6361.9347 </td></tr>\n",
       "\t<tr><td> 1178.99276</td><td>  801.62277</td><td> 1556.3628 </td></tr>\n",
       "\t<tr><td> 2396.78944</td><td> 2062.25673</td><td> 2731.3221 </td></tr>\n",
       "\t<tr><td>   42.38253</td><td> -395.23219</td><td>  479.9973 </td></tr>\n",
       "\t<tr><td> 1747.29788</td><td> 1393.27759</td><td> 2101.3182 </td></tr>\n",
       "\t<tr><td> 6050.17946</td><td> 5653.12014</td><td> 6447.2388 </td></tr>\n",
       "\t<tr><td>   42.38253</td><td> -395.23219</td><td>  479.9973 </td></tr>\n",
       "\t<tr><td>11489.67128</td><td>10710.46212</td><td>12268.8804 </td></tr>\n",
       "\t<tr><td> 3614.58611</td><td> 3291.64938</td><td> 3937.5228 </td></tr>\n",
       "\t<tr><td>  285.94187</td><td> -137.50619</td><td>  709.3899 </td></tr>\n",
       "\t<tr><td>  123.56898</td><td> -309.25762</td><td>  556.3956 </td></tr>\n",
       "\t<tr><td> 2396.78944</td><td> 2062.25673</td><td> 2731.3221 </td></tr>\n",
       "\t<tr><td>  367.12831</td><td>  -51.73375</td><td>  785.9904 </td></tr>\n",
       "\t<tr><td> 9865.94238</td><td> 9213.86298</td><td>10518.0218 </td></tr>\n",
       "\t<tr><td> 1097.80632</td><td>  716.68376</td><td> 1478.9289 </td></tr>\n",
       "\t<tr><td>  691.87409</td><td>  290.61275</td><td> 1093.1354 </td></tr>\n",
       "\t<tr><td>  691.87409</td><td>  290.61275</td><td> 1093.1354 </td></tr>\n",
       "\t<tr><td> 4182.89123</td><td> 3853.41047</td><td> 4512.3720 </td></tr>\n",
       "\t<tr><td> 1016.61987</td><td>  631.64929</td><td> 1401.5905 </td></tr>\n",
       "\t<tr><td>  935.43343</td><td>  546.52219</td><td> 1324.3447 </td></tr>\n",
       "\t<tr><td>   42.38253</td><td> -395.23219</td><td>  479.9973 </td></tr>\n",
       "\t<tr><td> 1909.67077</td><td> 1561.29470</td><td> 2258.0468 </td></tr>\n",
       "\t<tr><td> 5481.87435</td><td> 5111.71156</td><td> 5852.0371 </td></tr>\n",
       "\t<tr><td> -119.99036</td><td> -567.36847</td><td>  327.3878 </td></tr>\n",
       "\t<tr><td>15873.73931</td><td>14732.87977</td><td>17014.5988 </td></tr>\n",
       "\t<tr><td>  285.94187</td><td> -137.50619</td><td>  709.3899 </td></tr>\n",
       "\t<tr><td> 3289.84033</td><td> 2967.21853</td><td> 3612.4621 </td></tr>\n",
       "\t<tr><td> 3695.77256</td><td> 3372.36400</td><td> 4019.1811 </td></tr>\n",
       "\t<tr><td>...</td><td>...</td><td>...</td></tr>\n",
       "\t<tr><td> 6374.92524</td><td>5960.57725 </td><td> 6789.27323</td></tr>\n",
       "\t<tr><td>  854.24698</td><td> 461.30526 </td><td> 1247.18871</td></tr>\n",
       "\t<tr><td>  773.06054</td><td> 376.00121 </td><td> 1170.11986</td></tr>\n",
       "\t<tr><td> 2477.97588</td><td>2145.27137 </td><td> 2810.68039</td></tr>\n",
       "\t<tr><td>10028.31527</td><td>9363.80513 </td><td>10692.82540</td></tr>\n",
       "\t<tr><td>  854.24698</td><td> 461.30526 </td><td> 1247.18871</td></tr>\n",
       "\t<tr><td>  529.50120</td><td> 119.59299 </td><td>  939.40941</td></tr>\n",
       "\t<tr><td> 5887.80657</td><td>5498.89534 </td><td> 6276.71781</td></tr>\n",
       "\t<tr><td>  285.94187</td><td>-137.50619 </td><td>  709.38992</td></tr>\n",
       "\t<tr><td> 2234.41655</td><td>1895.80649 </td><td> 2573.02660</td></tr>\n",
       "\t<tr><td> 3533.39967</td><td>3210.77787 </td><td> 3856.02147</td></tr>\n",
       "\t<tr><td>  529.50120</td><td> 119.59299 </td><td>  939.40941</td></tr>\n",
       "\t<tr><td>  285.94187</td><td>-137.50619 </td><td>  709.38992</td></tr>\n",
       "\t<tr><td> 8404.58637</td><td>7860.33502 </td><td> 8948.83771</td></tr>\n",
       "\t<tr><td> 2315.60299</td><td>1979.10095 </td><td> 2652.10503</td></tr>\n",
       "\t<tr><td> 2234.41655</td><td>1895.80649 </td><td> 2573.02660</td></tr>\n",
       "\t<tr><td> 2315.60299</td><td>1979.10095 </td><td> 2652.10503</td></tr>\n",
       "\t<tr><td>  854.24698</td><td> 461.30526 </td><td> 1247.18871</td></tr>\n",
       "\t<tr><td> 5806.62013</td><td>5421.64954 </td><td> 6191.59071</td></tr>\n",
       "\t<tr><td> 6131.36591</td><td>5730.10456 </td><td> 6532.62725</td></tr>\n",
       "\t<tr><td> 6374.92524</td><td>5960.57725 </td><td> 6789.27323</td></tr>\n",
       "\t<tr><td> 8323.39992</td><td>7784.87538 </td><td> 8861.92446</td></tr>\n",
       "\t<tr><td> 2315.60299</td><td>1979.10095 </td><td> 2652.10503</td></tr>\n",
       "\t<tr><td> 1016.61987</td><td> 631.64929 </td><td> 1401.59046</td></tr>\n",
       "\t<tr><td>   42.38253</td><td>-395.23219 </td><td>  479.99726</td></tr>\n",
       "\t<tr><td>  448.31476</td><td>  33.96677 </td><td>  862.66275</td></tr>\n",
       "\t<tr><td> 5806.62013</td><td>5421.64954 </td><td> 6191.59071</td></tr>\n",
       "\t<tr><td> -444.73614</td><td>-912.33434 </td><td>   22.86206</td></tr>\n",
       "\t<tr><td> 3695.77256</td><td>3372.36400 </td><td> 4019.18111</td></tr>\n",
       "\t<tr><td> 7592.72192</td><td>7104.07539 </td><td> 8081.36844</td></tr>\n",
       "</tbody>\n",
       "</table>\n"
      ],
      "text/latex": [
       "\\begin{tabular}{r|lll}\n",
       " fit & lwr & upr\\\\\n",
       "\\hline\n",
       "\t  9865.94238 &  9213.86298 & 10518.0218 \\\\\n",
       "\t  5806.62013 &  5421.64954 &  6191.5907 \\\\\n",
       "\t  5968.99302 &  5576.05129 &  6361.9347 \\\\\n",
       "\t  1178.99276 &   801.62277 &  1556.3628 \\\\\n",
       "\t  2396.78944 &  2062.25673 &  2731.3221 \\\\\n",
       "\t    42.38253 &  -395.23219 &   479.9973 \\\\\n",
       "\t  1747.29788 &  1393.27759 &  2101.3182 \\\\\n",
       "\t  6050.17946 &  5653.12014 &  6447.2388 \\\\\n",
       "\t    42.38253 &  -395.23219 &   479.9973 \\\\\n",
       "\t 11489.67128 & 10710.46212 & 12268.8804 \\\\\n",
       "\t  3614.58611 &  3291.64938 &  3937.5228 \\\\\n",
       "\t   285.94187 &  -137.50619 &   709.3899 \\\\\n",
       "\t   123.56898 &  -309.25762 &   556.3956 \\\\\n",
       "\t  2396.78944 &  2062.25673 &  2731.3221 \\\\\n",
       "\t   367.12831 &   -51.73375 &   785.9904 \\\\\n",
       "\t  9865.94238 &  9213.86298 & 10518.0218 \\\\\n",
       "\t  1097.80632 &   716.68376 &  1478.9289 \\\\\n",
       "\t   691.87409 &   290.61275 &  1093.1354 \\\\\n",
       "\t   691.87409 &   290.61275 &  1093.1354 \\\\\n",
       "\t  4182.89123 &  3853.41047 &  4512.3720 \\\\\n",
       "\t  1016.61987 &   631.64929 &  1401.5905 \\\\\n",
       "\t   935.43343 &   546.52219 &  1324.3447 \\\\\n",
       "\t    42.38253 &  -395.23219 &   479.9973 \\\\\n",
       "\t  1909.67077 &  1561.29470 &  2258.0468 \\\\\n",
       "\t  5481.87435 &  5111.71156 &  5852.0371 \\\\\n",
       "\t  -119.99036 &  -567.36847 &   327.3878 \\\\\n",
       "\t 15873.73931 & 14732.87977 & 17014.5988 \\\\\n",
       "\t   285.94187 &  -137.50619 &   709.3899 \\\\\n",
       "\t  3289.84033 &  2967.21853 &  3612.4621 \\\\\n",
       "\t  3695.77256 &  3372.36400 &  4019.1811 \\\\\n",
       "\t ... & ... & ...\\\\\n",
       "\t  6374.92524 & 5960.57725  &  6789.27323\\\\\n",
       "\t   854.24698 &  461.30526  &  1247.18871\\\\\n",
       "\t   773.06054 &  376.00121  &  1170.11986\\\\\n",
       "\t  2477.97588 & 2145.27137  &  2810.68039\\\\\n",
       "\t 10028.31527 & 9363.80513  & 10692.82540\\\\\n",
       "\t   854.24698 &  461.30526  &  1247.18871\\\\\n",
       "\t   529.50120 &  119.59299  &   939.40941\\\\\n",
       "\t  5887.80657 & 5498.89534  &  6276.71781\\\\\n",
       "\t   285.94187 & -137.50619  &   709.38992\\\\\n",
       "\t  2234.41655 & 1895.80649  &  2573.02660\\\\\n",
       "\t  3533.39967 & 3210.77787  &  3856.02147\\\\\n",
       "\t   529.50120 &  119.59299  &   939.40941\\\\\n",
       "\t   285.94187 & -137.50619  &   709.38992\\\\\n",
       "\t  8404.58637 & 7860.33502  &  8948.83771\\\\\n",
       "\t  2315.60299 & 1979.10095  &  2652.10503\\\\\n",
       "\t  2234.41655 & 1895.80649  &  2573.02660\\\\\n",
       "\t  2315.60299 & 1979.10095  &  2652.10503\\\\\n",
       "\t   854.24698 &  461.30526  &  1247.18871\\\\\n",
       "\t  5806.62013 & 5421.64954  &  6191.59071\\\\\n",
       "\t  6131.36591 & 5730.10456  &  6532.62725\\\\\n",
       "\t  6374.92524 & 5960.57725  &  6789.27323\\\\\n",
       "\t  8323.39992 & 7784.87538  &  8861.92446\\\\\n",
       "\t  2315.60299 & 1979.10095  &  2652.10503\\\\\n",
       "\t  1016.61987 &  631.64929  &  1401.59046\\\\\n",
       "\t    42.38253 & -395.23219  &   479.99726\\\\\n",
       "\t   448.31476 &   33.96677  &   862.66275\\\\\n",
       "\t  5806.62013 & 5421.64954  &  6191.59071\\\\\n",
       "\t  -444.73614 & -912.33434  &    22.86206\\\\\n",
       "\t  3695.77256 & 3372.36400  &  4019.18111\\\\\n",
       "\t  7592.72192 & 7104.07539  &  8081.36844\\\\\n",
       "\\end{tabular}\n"
      ],
      "text/markdown": [
       "\n",
       "| fit | lwr | upr |\n",
       "|---|---|---|\n",
       "|  9865.94238 |  9213.86298 | 10518.0218  |\n",
       "|  5806.62013 |  5421.64954 |  6191.5907  |\n",
       "|  5968.99302 |  5576.05129 |  6361.9347  |\n",
       "|  1178.99276 |   801.62277 |  1556.3628  |\n",
       "|  2396.78944 |  2062.25673 |  2731.3221  |\n",
       "|    42.38253 |  -395.23219 |   479.9973  |\n",
       "|  1747.29788 |  1393.27759 |  2101.3182  |\n",
       "|  6050.17946 |  5653.12014 |  6447.2388  |\n",
       "|    42.38253 |  -395.23219 |   479.9973  |\n",
       "| 11489.67128 | 10710.46212 | 12268.8804  |\n",
       "|  3614.58611 |  3291.64938 |  3937.5228  |\n",
       "|   285.94187 |  -137.50619 |   709.3899  |\n",
       "|   123.56898 |  -309.25762 |   556.3956  |\n",
       "|  2396.78944 |  2062.25673 |  2731.3221  |\n",
       "|   367.12831 |   -51.73375 |   785.9904  |\n",
       "|  9865.94238 |  9213.86298 | 10518.0218  |\n",
       "|  1097.80632 |   716.68376 |  1478.9289  |\n",
       "|   691.87409 |   290.61275 |  1093.1354  |\n",
       "|   691.87409 |   290.61275 |  1093.1354  |\n",
       "|  4182.89123 |  3853.41047 |  4512.3720  |\n",
       "|  1016.61987 |   631.64929 |  1401.5905  |\n",
       "|   935.43343 |   546.52219 |  1324.3447  |\n",
       "|    42.38253 |  -395.23219 |   479.9973  |\n",
       "|  1909.67077 |  1561.29470 |  2258.0468  |\n",
       "|  5481.87435 |  5111.71156 |  5852.0371  |\n",
       "|  -119.99036 |  -567.36847 |   327.3878  |\n",
       "| 15873.73931 | 14732.87977 | 17014.5988  |\n",
       "|   285.94187 |  -137.50619 |   709.3899  |\n",
       "|  3289.84033 |  2967.21853 |  3612.4621  |\n",
       "|  3695.77256 |  3372.36400 |  4019.1811  |\n",
       "| ... | ... | ... |\n",
       "|  6374.92524 | 5960.57725  |  6789.27323 |\n",
       "|   854.24698 |  461.30526  |  1247.18871 |\n",
       "|   773.06054 |  376.00121  |  1170.11986 |\n",
       "|  2477.97588 | 2145.27137  |  2810.68039 |\n",
       "| 10028.31527 | 9363.80513  | 10692.82540 |\n",
       "|   854.24698 |  461.30526  |  1247.18871 |\n",
       "|   529.50120 |  119.59299  |   939.40941 |\n",
       "|  5887.80657 | 5498.89534  |  6276.71781 |\n",
       "|   285.94187 | -137.50619  |   709.38992 |\n",
       "|  2234.41655 | 1895.80649  |  2573.02660 |\n",
       "|  3533.39967 | 3210.77787  |  3856.02147 |\n",
       "|   529.50120 |  119.59299  |   939.40941 |\n",
       "|   285.94187 | -137.50619  |   709.38992 |\n",
       "|  8404.58637 | 7860.33502  |  8948.83771 |\n",
       "|  2315.60299 | 1979.10095  |  2652.10503 |\n",
       "|  2234.41655 | 1895.80649  |  2573.02660 |\n",
       "|  2315.60299 | 1979.10095  |  2652.10503 |\n",
       "|   854.24698 |  461.30526  |  1247.18871 |\n",
       "|  5806.62013 | 5421.64954  |  6191.59071 |\n",
       "|  6131.36591 | 5730.10456  |  6532.62725 |\n",
       "|  6374.92524 | 5960.57725  |  6789.27323 |\n",
       "|  8323.39992 | 7784.87538  |  8861.92446 |\n",
       "|  2315.60299 | 1979.10095  |  2652.10503 |\n",
       "|  1016.61987 |  631.64929  |  1401.59046 |\n",
       "|    42.38253 | -395.23219  |   479.99726 |\n",
       "|   448.31476 |   33.96677  |   862.66275 |\n",
       "|  5806.62013 | 5421.64954  |  6191.59071 |\n",
       "|  -444.73614 | -912.33434  |    22.86206 |\n",
       "|  3695.77256 | 3372.36400  |  4019.18111 |\n",
       "|  7592.72192 | 7104.07539  |  8081.36844 |\n",
       "\n"
      ],
      "text/plain": [
       "    fit         lwr         upr        \n",
       "1    9865.94238  9213.86298 10518.0218 \n",
       "2    5806.62013  5421.64954  6191.5907 \n",
       "3    5968.99302  5576.05129  6361.9347 \n",
       "4    1178.99276   801.62277  1556.3628 \n",
       "5    2396.78944  2062.25673  2731.3221 \n",
       "6      42.38253  -395.23219   479.9973 \n",
       "7    1747.29788  1393.27759  2101.3182 \n",
       "8    6050.17946  5653.12014  6447.2388 \n",
       "9      42.38253  -395.23219   479.9973 \n",
       "10  11489.67128 10710.46212 12268.8804 \n",
       "11   3614.58611  3291.64938  3937.5228 \n",
       "12    285.94187  -137.50619   709.3899 \n",
       "13    123.56898  -309.25762   556.3956 \n",
       "14   2396.78944  2062.25673  2731.3221 \n",
       "15    367.12831   -51.73375   785.9904 \n",
       "16   9865.94238  9213.86298 10518.0218 \n",
       "17   1097.80632   716.68376  1478.9289 \n",
       "18    691.87409   290.61275  1093.1354 \n",
       "19    691.87409   290.61275  1093.1354 \n",
       "20   4182.89123  3853.41047  4512.3720 \n",
       "21   1016.61987   631.64929  1401.5905 \n",
       "22    935.43343   546.52219  1324.3447 \n",
       "23     42.38253  -395.23219   479.9973 \n",
       "24   1909.67077  1561.29470  2258.0468 \n",
       "25   5481.87435  5111.71156  5852.0371 \n",
       "26   -119.99036  -567.36847   327.3878 \n",
       "27  15873.73931 14732.87977 17014.5988 \n",
       "28    285.94187  -137.50619   709.3899 \n",
       "29   3289.84033  2967.21853  3612.4621 \n",
       "30   3695.77256  3372.36400  4019.1811 \n",
       "... ...         ...         ...        \n",
       "71   6374.92524 5960.57725   6789.27323\n",
       "72    854.24698  461.30526   1247.18871\n",
       "73    773.06054  376.00121   1170.11986\n",
       "74   2477.97588 2145.27137   2810.68039\n",
       "75  10028.31527 9363.80513  10692.82540\n",
       "76    854.24698  461.30526   1247.18871\n",
       "77    529.50120  119.59299    939.40941\n",
       "78   5887.80657 5498.89534   6276.71781\n",
       "79    285.94187 -137.50619    709.38992\n",
       "80   2234.41655 1895.80649   2573.02660\n",
       "81   3533.39967 3210.77787   3856.02147\n",
       "82    529.50120  119.59299    939.40941\n",
       "83    285.94187 -137.50619    709.38992\n",
       "84   8404.58637 7860.33502   8948.83771\n",
       "85   2315.60299 1979.10095   2652.10503\n",
       "86   2234.41655 1895.80649   2573.02660\n",
       "87   2315.60299 1979.10095   2652.10503\n",
       "88    854.24698  461.30526   1247.18871\n",
       "89   5806.62013 5421.64954   6191.59071\n",
       "90   6131.36591 5730.10456   6532.62725\n",
       "91   6374.92524 5960.57725   6789.27323\n",
       "92   8323.39992 7784.87538   8861.92446\n",
       "93   2315.60299 1979.10095   2652.10503\n",
       "94   1016.61987  631.64929   1401.59046\n",
       "95     42.38253 -395.23219    479.99726\n",
       "96    448.31476   33.96677    862.66275\n",
       "97   5806.62013 5421.64954   6191.59071\n",
       "98   -444.73614 -912.33434     22.86206\n",
       "99   3695.77256 3372.36400   4019.18111\n",
       "100  7592.72192 7104.07539   8081.36844"
      ]
     },
     "metadata": {},
     "output_type": "display_data"
    }
   ],
   "source": [
    "p <- predict(lm2, interval = 'confidence', level = 0.95)\n",
    "p"
   ]
  },
  {
   "cell_type": "markdown",
   "metadata": {},
   "source": [
    "#### 단계적 방법(stepwise selection)"
   ]
  },
  {
   "cell_type": "code",
   "execution_count": 36,
   "metadata": {},
   "outputs": [],
   "source": [
    "df <- mtcars"
   ]
  },
  {
   "cell_type": "code",
   "execution_count": 37,
   "metadata": {},
   "outputs": [
    {
     "data": {
      "image/png": "[encoded data removed]",
      "text/plain": [
       "plot without title"
      ]
     },
     "metadata": {},
     "output_type": "display_data"
    }
   ],
   "source": [
    "plot(df)"
   ]
  },
  {
   "cell_type": "code",
   "execution_count": 38,
   "metadata": {},
   "outputs": [
    {
     "name": "stdout",
     "output_type": "stream",
     "text": [
      "'data.frame':\t32 obs. of  11 variables:\n",
      " $ mpg : num  21 21 22.8 21.4 18.7 18.1 14.3 24.4 22.8 19.2 ...\n",
      " $ cyl : num  6 6 4 6 8 6 8 4 4 6 ...\n",
      " $ disp: num  160 160 108 258 360 ...\n",
      " $ hp  : num  110 110 93 110 175 105 245 62 95 123 ...\n",
      " $ drat: num  3.9 3.9 3.85 3.08 3.15 2.76 3.21 3.69 3.92 3.92 ...\n",
      " $ wt  : num  2.62 2.88 2.32 3.21 3.44 ...\n",
      " $ qsec: num  16.5 17 18.6 19.4 17 ...\n",
      " $ vs  : num  0 0 1 1 0 1 0 1 1 1 ...\n",
      " $ am  : num  1 1 1 0 0 0 0 0 0 0 ...\n",
      " $ gear: num  4 4 4 3 3 3 3 4 4 4 ...\n",
      " $ carb: num  4 4 1 1 2 1 4 2 2 4 ...\n"
     ]
    }
   ],
   "source": [
    "str(df)"
   ]
  },
  {
   "cell_type": "code",
   "execution_count": 39,
   "metadata": {},
   "outputs": [
    {
     "data": {
      "text/plain": [
       "\n",
       "Call:\n",
       "lm(formula = mpg ~ ., data = df)\n",
       "\n",
       "Coefficients:\n",
       "(Intercept)          cyl         disp           hp         drat           wt  \n",
       "   12.30337     -0.11144      0.01334     -0.02148      0.78711     -3.71530  \n",
       "       qsec           vs           am         gear         carb  \n",
       "    0.82104      0.31776      2.52023      0.65541     -0.19942  \n"
      ]
     },
     "metadata": {},
     "output_type": "display_data"
    }
   ],
   "source": [
    "lm <- lm(mpg~., data=df)\n",
    "lm"
   ]
  },
  {
   "cell_type": "code",
   "execution_count": 40,
   "metadata": {},
   "outputs": [
    {
     "name": "stdout",
     "output_type": "stream",
     "text": [
      "Start:  AIC=70.9\n",
      "mpg ~ cyl + disp + hp + drat + wt + qsec + vs + am + gear + carb\n",
      "\n",
      "       Df Sum of Sq    RSS    AIC\n",
      "- cyl   1    0.0799 147.57 68.915\n",
      "- vs    1    0.1601 147.66 68.932\n",
      "- carb  1    0.4067 147.90 68.986\n",
      "- gear  1    1.3531 148.85 69.190\n",
      "- drat  1    1.6270 149.12 69.249\n",
      "- disp  1    3.9167 151.41 69.736\n",
      "- hp    1    6.8399 154.33 70.348\n",
      "- qsec  1    8.8641 156.36 70.765\n",
      "<none>              147.49 70.898\n",
      "- am    1   10.5467 158.04 71.108\n",
      "- wt    1   27.0144 174.51 74.280\n",
      "\n",
      "Step:  AIC=68.92\n",
      "mpg ~ disp + hp + drat + wt + qsec + vs + am + gear + carb\n",
      "\n",
      "       Df Sum of Sq    RSS    AIC\n",
      "- vs    1    0.2685 147.84 66.973\n",
      "- carb  1    0.5201 148.09 67.028\n",
      "- gear  1    1.8211 149.40 67.308\n",
      "- drat  1    1.9826 149.56 67.342\n",
      "- disp  1    3.9009 151.47 67.750\n",
      "- hp    1    7.3632 154.94 68.473\n",
      "<none>              147.57 68.915\n",
      "- qsec  1   10.0933 157.67 69.032\n",
      "- am    1   11.8359 159.41 69.384\n",
      "+ cyl   1    0.0799 147.49 70.898\n",
      "- wt    1   27.0280 174.60 72.297\n",
      "\n",
      "Step:  AIC=66.97\n",
      "mpg ~ disp + hp + drat + wt + qsec + am + gear + carb\n",
      "\n",
      "       Df Sum of Sq    RSS    AIC\n",
      "- carb  1    0.6855 148.53 65.121\n",
      "- gear  1    2.1437 149.99 65.434\n",
      "- drat  1    2.2139 150.06 65.449\n",
      "- disp  1    3.6467 151.49 65.753\n",
      "- hp    1    7.1060 154.95 66.475\n",
      "<none>              147.84 66.973\n",
      "- am    1   11.5694 159.41 67.384\n",
      "- qsec  1   15.6830 163.53 68.200\n",
      "+ vs    1    0.2685 147.57 68.915\n",
      "+ cyl   1    0.1883 147.66 68.932\n",
      "- wt    1   27.3799 175.22 70.410\n",
      "\n",
      "Step:  AIC=65.12\n",
      "mpg ~ disp + hp + drat + wt + qsec + am + gear\n",
      "\n",
      "       Df Sum of Sq    RSS    AIC\n",
      "- gear  1     1.565 150.09 63.457\n",
      "- drat  1     1.932 150.46 63.535\n",
      "<none>              148.53 65.121\n",
      "- disp  1    10.110 158.64 65.229\n",
      "- am    1    12.323 160.85 65.672\n",
      "- hp    1    14.826 163.35 66.166\n",
      "+ carb  1     0.685 147.84 66.973\n",
      "+ vs    1     0.434 148.09 67.028\n",
      "+ cyl   1     0.414 148.11 67.032\n",
      "- qsec  1    26.408 174.94 68.358\n",
      "- wt    1    69.127 217.66 75.350\n",
      "\n",
      "Step:  AIC=63.46\n",
      "mpg ~ disp + hp + drat + wt + qsec + am\n",
      "\n",
      "       Df Sum of Sq    RSS    AIC\n",
      "- drat  1     3.345 153.44 62.162\n",
      "- disp  1     8.545 158.64 63.229\n",
      "<none>              150.09 63.457\n",
      "- hp    1    13.285 163.38 64.171\n",
      "+ gear  1     1.565 148.53 65.121\n",
      "+ cyl   1     1.003 149.09 65.242\n",
      "+ vs    1     0.645 149.45 65.319\n",
      "+ carb  1     0.107 149.99 65.434\n",
      "- am    1    20.036 170.13 65.466\n",
      "- qsec  1    25.574 175.67 66.491\n",
      "- wt    1    67.572 217.66 73.351\n",
      "\n",
      "Step:  AIC=62.16\n",
      "mpg ~ disp + hp + wt + qsec + am\n",
      "\n",
      "       Df Sum of Sq    RSS    AIC\n",
      "- disp  1     6.629 160.07 61.515\n",
      "<none>              153.44 62.162\n",
      "- hp    1    12.572 166.01 62.682\n",
      "+ drat  1     3.345 150.09 63.457\n",
      "+ gear  1     2.977 150.46 63.535\n",
      "+ cyl   1     2.447 150.99 63.648\n",
      "+ vs    1     1.121 152.32 63.927\n",
      "+ carb  1     0.011 153.43 64.160\n",
      "- qsec  1    26.470 179.91 65.255\n",
      "- am    1    32.198 185.63 66.258\n",
      "- wt    1    69.043 222.48 72.051\n",
      "\n",
      "Step:  AIC=61.52\n",
      "mpg ~ hp + wt + qsec + am\n",
      "\n",
      "       Df Sum of Sq    RSS    AIC\n",
      "- hp    1     9.219 169.29 61.307\n",
      "<none>              160.07 61.515\n",
      "+ disp  1     6.629 153.44 62.162\n",
      "+ carb  1     3.227 156.84 62.864\n",
      "+ drat  1     1.428 158.64 63.229\n",
      "- qsec  1    20.225 180.29 63.323\n",
      "+ cyl   1     0.249 159.82 63.465\n",
      "+ vs    1     0.249 159.82 63.466\n",
      "+ gear  1     0.171 159.90 63.481\n",
      "- am    1    25.993 186.06 64.331\n",
      "- wt    1    78.494 238.56 72.284\n",
      "\n",
      "Step:  AIC=61.31\n",
      "mpg ~ wt + qsec + am\n",
      "\n",
      "       Df Sum of Sq    RSS    AIC\n",
      "<none>              169.29 61.307\n",
      "+ hp    1     9.219 160.07 61.515\n",
      "+ carb  1     8.036 161.25 61.751\n",
      "+ disp  1     3.276 166.01 62.682\n",
      "+ cyl   1     1.501 167.78 63.022\n",
      "+ drat  1     1.400 167.89 63.042\n",
      "+ gear  1     0.123 169.16 63.284\n",
      "+ vs    1     0.000 169.29 63.307\n",
      "- am    1    26.178 195.46 63.908\n",
      "- qsec  1   109.034 278.32 75.217\n",
      "- wt    1   183.347 352.63 82.790\n"
     ]
    }
   ],
   "source": [
    "# step() - AIC 값 작은 값 확인, direction : 'both', 'backword', 'forward'\n",
    "# 각 단계의 + 는 탈락된 변수\n",
    "df_step_both <- step(lm, direction = 'both')"
   ]
  },
  {
   "cell_type": "code",
   "execution_count": 41,
   "metadata": {
    "scrolled": true
   },
   "outputs": [
    {
     "name": "stdout",
     "output_type": "stream",
     "text": [
      "Start:  AIC=70.9\n",
      "mpg ~ cyl + disp + hp + drat + wt + qsec + vs + am + gear + carb\n",
      "\n",
      "       Df Sum of Sq    RSS    AIC\n",
      "- cyl   1    0.0799 147.57 68.915\n",
      "- vs    1    0.1601 147.66 68.932\n",
      "- carb  1    0.4067 147.90 68.986\n",
      "- gear  1    1.3531 148.85 69.190\n",
      "- drat  1    1.6270 149.12 69.249\n",
      "- disp  1    3.9167 151.41 69.736\n",
      "- hp    1    6.8399 154.33 70.348\n",
      "- qsec  1    8.8641 156.36 70.765\n",
      "<none>              147.49 70.898\n",
      "- am    1   10.5467 158.04 71.108\n",
      "- wt    1   27.0144 174.51 74.280\n",
      "\n",
      "Step:  AIC=68.92\n",
      "mpg ~ disp + hp + drat + wt + qsec + vs + am + gear + carb\n",
      "\n",
      "       Df Sum of Sq    RSS    AIC\n",
      "- vs    1    0.2685 147.84 66.973\n",
      "- carb  1    0.5201 148.09 67.028\n",
      "- gear  1    1.8211 149.40 67.308\n",
      "- drat  1    1.9826 149.56 67.342\n",
      "- disp  1    3.9009 151.47 67.750\n",
      "- hp    1    7.3632 154.94 68.473\n",
      "<none>              147.57 68.915\n",
      "- qsec  1   10.0933 157.67 69.032\n",
      "- am    1   11.8359 159.41 69.384\n",
      "- wt    1   27.0280 174.60 72.297\n",
      "\n",
      "Step:  AIC=66.97\n",
      "mpg ~ disp + hp + drat + wt + qsec + am + gear + carb\n",
      "\n",
      "       Df Sum of Sq    RSS    AIC\n",
      "- carb  1    0.6855 148.53 65.121\n",
      "- gear  1    2.1437 149.99 65.434\n",
      "- drat  1    2.2139 150.06 65.449\n",
      "- disp  1    3.6467 151.49 65.753\n",
      "- hp    1    7.1060 154.95 66.475\n",
      "<none>              147.84 66.973\n",
      "- am    1   11.5694 159.41 67.384\n",
      "- qsec  1   15.6830 163.53 68.200\n",
      "- wt    1   27.3799 175.22 70.410\n",
      "\n",
      "Step:  AIC=65.12\n",
      "mpg ~ disp + hp + drat + wt + qsec + am + gear\n",
      "\n",
      "       Df Sum of Sq    RSS    AIC\n",
      "- gear  1     1.565 150.09 63.457\n",
      "- drat  1     1.932 150.46 63.535\n",
      "<none>              148.53 65.121\n",
      "- disp  1    10.110 158.64 65.229\n",
      "- am    1    12.323 160.85 65.672\n",
      "- hp    1    14.826 163.35 66.166\n",
      "- qsec  1    26.408 174.94 68.358\n",
      "- wt    1    69.127 217.66 75.350\n",
      "\n",
      "Step:  AIC=63.46\n",
      "mpg ~ disp + hp + drat + wt + qsec + am\n",
      "\n",
      "       Df Sum of Sq    RSS    AIC\n",
      "- drat  1     3.345 153.44 62.162\n",
      "- disp  1     8.545 158.64 63.229\n",
      "<none>              150.09 63.457\n",
      "- hp    1    13.285 163.38 64.171\n",
      "- am    1    20.036 170.13 65.466\n",
      "- qsec  1    25.574 175.67 66.491\n",
      "- wt    1    67.572 217.66 73.351\n",
      "\n",
      "Step:  AIC=62.16\n",
      "mpg ~ disp + hp + wt + qsec + am\n",
      "\n",
      "       Df Sum of Sq    RSS    AIC\n",
      "- disp  1     6.629 160.07 61.515\n",
      "<none>              153.44 62.162\n",
      "- hp    1    12.572 166.01 62.682\n",
      "- qsec  1    26.470 179.91 65.255\n",
      "- am    1    32.198 185.63 66.258\n",
      "- wt    1    69.043 222.48 72.051\n",
      "\n",
      "Step:  AIC=61.52\n",
      "mpg ~ hp + wt + qsec + am\n",
      "\n",
      "       Df Sum of Sq    RSS    AIC\n",
      "- hp    1     9.219 169.29 61.307\n",
      "<none>              160.07 61.515\n",
      "- qsec  1    20.225 180.29 63.323\n",
      "- am    1    25.993 186.06 64.331\n",
      "- wt    1    78.494 238.56 72.284\n",
      "\n",
      "Step:  AIC=61.31\n",
      "mpg ~ wt + qsec + am\n",
      "\n",
      "       Df Sum of Sq    RSS    AIC\n",
      "<none>              169.29 61.307\n",
      "- am    1    26.178 195.46 63.908\n",
      "- qsec  1   109.034 278.32 75.217\n",
      "- wt    1   183.347 352.63 82.790\n"
     ]
    }
   ],
   "source": [
    "df_step_back <- step(lm, direction = 'backward')"
   ]
  },
  {
   "cell_type": "code",
   "execution_count": 44,
   "metadata": {},
   "outputs": [
    {
     "name": "stdout",
     "output_type": "stream",
     "text": [
      "Start:  AIC=70.9\n",
      "mpg ~ cyl + disp + hp + drat + wt + qsec + vs + am + gear + carb\n",
      "\n"
     ]
    }
   ],
   "source": [
    "df_step_for <- step(lm, direction = 'forward')"
   ]
  },
  {
   "cell_type": "code",
   "execution_count": 45,
   "metadata": {},
   "outputs": [
    {
     "name": "stdout",
     "output_type": "stream",
     "text": [
      "package 'leaps' successfully unpacked and MD5 sums checked\n",
      "\n",
      "The downloaded binary packages are in\n",
      "\tC:\\Users\\205\\AppData\\Local\\Temp\\Rtmp8OzypD\\downloaded_packages\n"
     ]
    }
   ],
   "source": [
    "install.packages('leaps')"
   ]
  },
  {
   "cell_type": "code",
   "execution_count": 46,
   "metadata": {},
   "outputs": [
    {
     "name": "stderr",
     "output_type": "stream",
     "text": [
      "Warning message:\n",
      "\"package 'leaps' was built under R version 3.6.3\""
     ]
    }
   ],
   "source": [
    "library(leaps)"
   ]
  },
  {
   "cell_type": "code",
   "execution_count": 49,
   "metadata": {},
   "outputs": [
    {
     "data": {
      "text/plain": [
       "Subset selection object\n",
       "Call: regsubsets.formula(mpg ~ ., data = df, nvmax = 10, method = \"exhaustive\")\n",
       "10 Variables  (and intercept)\n",
       "     Forced in Forced out\n",
       "cyl      FALSE      FALSE\n",
       "disp     FALSE      FALSE\n",
       "hp       FALSE      FALSE\n",
       "drat     FALSE      FALSE\n",
       "wt       FALSE      FALSE\n",
       "qsec     FALSE      FALSE\n",
       "vs       FALSE      FALSE\n",
       "am       FALSE      FALSE\n",
       "gear     FALSE      FALSE\n",
       "carb     FALSE      FALSE\n",
       "1 subsets of each size up to 10\n",
       "Selection Algorithm: exhaustive\n",
       "          cyl disp hp  drat wt  qsec vs  am  gear carb\n",
       "1  ( 1 )  \" \" \" \"  \" \" \" \"  \"*\" \" \"  \" \" \" \" \" \"  \" \" \n",
       "2  ( 1 )  \"*\" \" \"  \" \" \" \"  \"*\" \" \"  \" \" \" \" \" \"  \" \" \n",
       "3  ( 1 )  \" \" \" \"  \" \" \" \"  \"*\" \"*\"  \" \" \"*\" \" \"  \" \" \n",
       "4  ( 1 )  \" \" \" \"  \"*\" \" \"  \"*\" \"*\"  \" \" \"*\" \" \"  \" \" \n",
       "5  ( 1 )  \" \" \"*\"  \"*\" \" \"  \"*\" \"*\"  \" \" \"*\" \" \"  \" \" \n",
       "6  ( 1 )  \" \" \"*\"  \"*\" \"*\"  \"*\" \"*\"  \" \" \"*\" \" \"  \" \" \n",
       "7  ( 1 )  \" \" \"*\"  \"*\" \"*\"  \"*\" \"*\"  \" \" \"*\" \"*\"  \" \" \n",
       "8  ( 1 )  \" \" \"*\"  \"*\" \"*\"  \"*\" \"*\"  \" \" \"*\" \"*\"  \"*\" \n",
       "9  ( 1 )  \" \" \"*\"  \"*\" \"*\"  \"*\" \"*\"  \"*\" \"*\" \"*\"  \"*\" \n",
       "10  ( 1 ) \"*\" \"*\"  \"*\" \"*\"  \"*\" \"*\"  \"*\" \"*\" \"*\"  \"*\" "
      ]
     },
     "metadata": {},
     "output_type": "display_data"
    }
   ],
   "source": [
    "# 결과 확인\n",
    "# 각 변수 갯수별 변수를 뽑아줌\n",
    "# 1개의 변수만 쓴다면 => wt\n",
    "# 2개의 변수만 쓴다면 => cyl, wt\n",
    "# 3개의 변수만 쓴다면 => wt, qsec(드래그타임, 느린차), am\\\n",
    "\n",
    "df_leaps <- regsubsets(mpg~., data=df\n",
    "                       , nvmax=10, method='exhaustive')\n",
    "summary(df_leaps)"
   ]
  },
  {
   "cell_type": "code",
   "execution_count": 50,
   "metadata": {},
   "outputs": [
    {
     "data": {
      "text/html": [
       "<ol class=list-inline>\n",
       "\t<li>-37.7946153185172</li>\n",
       "\t<li>-46.348243336331</li>\n",
       "\t<li>-46.7732016358928</li>\n",
       "\t<li>-45.099468000674</li>\n",
       "\t<li>-42.9871333658026</li>\n",
       "\t<li>-40.2266298608964</li>\n",
       "\t<li>-37.0962985327756</li>\n",
       "\t<li>-33.7785850465411</li>\n",
       "\t<li>-30.3710226982818</li>\n",
       "\t<li>-26.9226107507162</li>\n",
       "</ol>\n"
      ],
      "text/latex": [
       "\\begin{enumerate*}\n",
       "\\item -37.7946153185172\n",
       "\\item -46.348243336331\n",
       "\\item -46.7732016358928\n",
       "\\item -45.099468000674\n",
       "\\item -42.9871333658026\n",
       "\\item -40.2266298608964\n",
       "\\item -37.0962985327756\n",
       "\\item -33.7785850465411\n",
       "\\item -30.3710226982818\n",
       "\\item -26.9226107507162\n",
       "\\end{enumerate*}\n"
      ],
      "text/markdown": [
       "1. -37.7946153185172\n",
       "2. -46.348243336331\n",
       "3. -46.7732016358928\n",
       "4. -45.099468000674\n",
       "5. -42.9871333658026\n",
       "6. -40.2266298608964\n",
       "7. -37.0962985327756\n",
       "8. -33.7785850465411\n",
       "9. -30.3710226982818\n",
       "10. -26.9226107507162\n",
       "\n",
       "\n"
      ],
      "text/plain": [
       " [1] -37.79462 -46.34824 -46.77320 -45.09947 -42.98713 -40.22663 -37.09630\n",
       " [8] -33.77859 -30.37102 -26.92261"
      ]
     },
     "metadata": {},
     "output_type": "display_data"
    }
   ],
   "source": [
    "BestBic <- summary(df_leaps)$bic\n",
    "BestBic"
   ]
  },
  {
   "cell_type": "code",
   "execution_count": 51,
   "metadata": {},
   "outputs": [
    {
     "data": {
      "image/png": "[encoded data removed]",
      "text/plain": [
       "plot without title"
      ]
     },
     "metadata": {},
     "output_type": "display_data"
    }
   ],
   "source": [
    "Min.val <- which.min(BestBic)\n",
    "plot(BestBic, type = 'b')\n",
    "points(Min.val, BestBic[Min.val], cex=5, col='red', pch=20)"
   ]
  },
  {
   "cell_type": "code",
   "execution_count": 52,
   "metadata": {},
   "outputs": [
    {
     "data": {
      "text/html": [
       "<dl class=dl-horizontal>\n",
       "\t<dt>(Intercept)</dt>\n",
       "\t\t<dd>9.61778051456159</dd>\n",
       "\t<dt>wt</dt>\n",
       "\t\t<dd>-3.91650372494249</dd>\n",
       "\t<dt>qsec</dt>\n",
       "\t\t<dd>1.2258859715837</dd>\n",
       "\t<dt>am</dt>\n",
       "\t\t<dd>2.93583719188942</dd>\n",
       "</dl>\n"
      ],
      "text/latex": [
       "\\begin{description*}\n",
       "\\item[(Intercept)] 9.61778051456159\n",
       "\\item[wt] -3.91650372494249\n",
       "\\item[qsec] 1.2258859715837\n",
       "\\item[am] 2.93583719188942\n",
       "\\end{description*}\n"
      ],
      "text/markdown": [
       "(Intercept)\n",
       ":   9.61778051456159wt\n",
       ":   -3.91650372494249qsec\n",
       ":   1.2258859715837am\n",
       ":   2.93583719188942\n",
       "\n"
      ],
      "text/plain": [
       "(Intercept)          wt        qsec          am \n",
       "   9.617781   -3.916504    1.225886    2.935837 "
      ]
     },
     "metadata": {},
     "output_type": "display_data"
    }
   ],
   "source": [
    "# 최적의 모델 찾기 coef\n",
    "coef(df_leaps, 3)"
   ]
  },
  {
   "cell_type": "markdown",
   "metadata": {},
   "source": [
    "#### 전진 선택법"
   ]
  },
  {
   "cell_type": "code",
   "execution_count": 56,
   "metadata": {},
   "outputs": [],
   "source": [
    "df_leaps_for <- regsubsets(mpg~., data=df\n",
    "                       , nvmax=10, method='forward')"
   ]
  },
  {
   "cell_type": "code",
   "execution_count": 57,
   "metadata": {},
   "outputs": [
    {
     "data": {
      "text/plain": [
       "Subset selection object\n",
       "Call: regsubsets.formula(mpg ~ ., data = df, nvmax = 10, method = \"forward\")\n",
       "10 Variables  (and intercept)\n",
       "     Forced in Forced out\n",
       "cyl      FALSE      FALSE\n",
       "disp     FALSE      FALSE\n",
       "hp       FALSE      FALSE\n",
       "drat     FALSE      FALSE\n",
       "wt       FALSE      FALSE\n",
       "qsec     FALSE      FALSE\n",
       "vs       FALSE      FALSE\n",
       "am       FALSE      FALSE\n",
       "gear     FALSE      FALSE\n",
       "carb     FALSE      FALSE\n",
       "1 subsets of each size up to 10\n",
       "Selection Algorithm: forward\n",
       "          cyl disp hp  drat wt  qsec vs  am  gear carb\n",
       "1  ( 1 )  \" \" \" \"  \" \" \" \"  \"*\" \" \"  \" \" \" \" \" \"  \" \" \n",
       "2  ( 1 )  \"*\" \" \"  \" \" \" \"  \"*\" \" \"  \" \" \" \" \" \"  \" \" \n",
       "3  ( 1 )  \"*\" \" \"  \"*\" \" \"  \"*\" \" \"  \" \" \" \" \" \"  \" \" \n",
       "4  ( 1 )  \"*\" \" \"  \"*\" \" \"  \"*\" \" \"  \" \" \"*\" \" \"  \" \" \n",
       "5  ( 1 )  \"*\" \" \"  \"*\" \" \"  \"*\" \"*\"  \" \" \"*\" \" \"  \" \" \n",
       "6  ( 1 )  \"*\" \"*\"  \"*\" \" \"  \"*\" \"*\"  \" \" \"*\" \" \"  \" \" \n",
       "7  ( 1 )  \"*\" \"*\"  \"*\" \"*\"  \"*\" \"*\"  \" \" \"*\" \" \"  \" \" \n",
       "8  ( 1 )  \"*\" \"*\"  \"*\" \"*\"  \"*\" \"*\"  \" \" \"*\" \"*\"  \" \" \n",
       "9  ( 1 )  \"*\" \"*\"  \"*\" \"*\"  \"*\" \"*\"  \" \" \"*\" \"*\"  \"*\" \n",
       "10  ( 1 ) \"*\" \"*\"  \"*\" \"*\"  \"*\" \"*\"  \"*\" \"*\" \"*\"  \"*\" "
      ]
     },
     "metadata": {},
     "output_type": "display_data"
    }
   ],
   "source": [
    "summary(df_leaps_for)\n",
    "#전진 선택법은 하나 선택한걸 버리지 않고 누적\n",
    "#단계 선택법은 넣었을 때 낮아지면 버림\n",
    "#이중에 bic값이 낮은걸 쓰면됨"
   ]
  },
  {
   "cell_type": "code",
   "execution_count": 60,
   "metadata": {},
   "outputs": [
    {
     "data": {
      "text/html": [
       "<ol class=list-inline>\n",
       "\t<li>-37.7946153185172</li>\n",
       "\t<li>-46.348243336331</li>\n",
       "\t<li>-45.4159439945357</li>\n",
       "\t<li>-43.1731893001984</li>\n",
       "\t<li>-41.6835459732784</li>\n",
       "\t<li>-40.0357760977862</li>\n",
       "\t<li>-36.9755376623173</li>\n",
       "\t<li>-33.7199749190279</li>\n",
       "\t<li>-30.3536250494275</li>\n",
       "\t<li>-26.9226107507162</li>\n",
       "</ol>\n"
      ],
      "text/latex": [
       "\\begin{enumerate*}\n",
       "\\item -37.7946153185172\n",
       "\\item -46.348243336331\n",
       "\\item -45.4159439945357\n",
       "\\item -43.1731893001984\n",
       "\\item -41.6835459732784\n",
       "\\item -40.0357760977862\n",
       "\\item -36.9755376623173\n",
       "\\item -33.7199749190279\n",
       "\\item -30.3536250494275\n",
       "\\item -26.9226107507162\n",
       "\\end{enumerate*}\n"
      ],
      "text/markdown": [
       "1. -37.7946153185172\n",
       "2. -46.348243336331\n",
       "3. -45.4159439945357\n",
       "4. -43.1731893001984\n",
       "5. -41.6835459732784\n",
       "6. -40.0357760977862\n",
       "7. -36.9755376623173\n",
       "8. -33.7199749190279\n",
       "9. -30.3536250494275\n",
       "10. -26.9226107507162\n",
       "\n",
       "\n"
      ],
      "text/plain": [
       " [1] -37.79462 -46.34824 -45.41594 -43.17319 -41.68355 -40.03578 -36.97554\n",
       " [8] -33.71997 -30.35363 -26.92261"
      ]
     },
     "metadata": {},
     "output_type": "display_data"
    },
    {
     "data": {
      "text/html": [
       "2"
      ],
      "text/latex": [
       "2"
      ],
      "text/markdown": [
       "2"
      ],
      "text/plain": [
       "[1] 2"
      ]
     },
     "metadata": {},
     "output_type": "display_data"
    }
   ],
   "source": [
    "ForwardBic <- summary(df_leaps_for)$bic\n",
    "Min.val <- which.min(ForwardBic)\n",
    "ForwardBic\n",
    "Min.val"
   ]
  },
  {
   "cell_type": "code",
   "execution_count": 61,
   "metadata": {},
   "outputs": [
    {
     "data": {
      "image/png": "[encoded data removed]",
      "text/plain": [
       "plot without title"
      ]
     },
     "metadata": {},
     "output_type": "display_data"
    }
   ],
   "source": [
    "#그래프로 나타내어 확인\n",
    "plot(ForwardBic, type = 'b')\n",
    "points(Min.val, BestBic[Min.val], cex=5, col='red', pch=20)"
   ]
  },
  {
   "cell_type": "code",
   "execution_count": 62,
   "metadata": {},
   "outputs": [
    {
     "data": {
      "text/html": [
       "<dl class=dl-horizontal>\n",
       "\t<dt>(Intercept)</dt>\n",
       "\t\t<dd>39.686261480253</dd>\n",
       "\t<dt>cyl</dt>\n",
       "\t\t<dd>-1.5077949682598</dd>\n",
       "\t<dt>wt</dt>\n",
       "\t\t<dd>-3.19097213898374</dd>\n",
       "</dl>\n"
      ],
      "text/latex": [
       "\\begin{description*}\n",
       "\\item[(Intercept)] 39.686261480253\n",
       "\\item[cyl] -1.5077949682598\n",
       "\\item[wt] -3.19097213898374\n",
       "\\end{description*}\n"
      ],
      "text/markdown": [
       "(Intercept)\n",
       ":   39.686261480253cyl\n",
       ":   -1.5077949682598wt\n",
       ":   -3.19097213898374\n",
       "\n"
      ],
      "text/plain": [
       "(Intercept)         cyl          wt \n",
       "  39.686261   -1.507795   -3.190972 "
      ]
     },
     "metadata": {},
     "output_type": "display_data"
    }
   ],
   "source": [
    "# 최적의 모델 구현\n",
    "coef(df_leaps_for, 2)"
   ]
  },
  {
   "cell_type": "code",
   "execution_count": 64,
   "metadata": {},
   "outputs": [],
   "source": [
    "#후진 제거법\n",
    "df_leaps_back <- regsubsets(mpg~., data=df\n",
    "                       , nvmax=10, method='backward')"
   ]
  },
  {
   "cell_type": "code",
   "execution_count": 65,
   "metadata": {},
   "outputs": [
    {
     "data": {
      "text/plain": [
       "Subset selection object\n",
       "Call: regsubsets.formula(mpg ~ ., data = df, nvmax = 10, method = \"backward\")\n",
       "10 Variables  (and intercept)\n",
       "     Forced in Forced out\n",
       "cyl      FALSE      FALSE\n",
       "disp     FALSE      FALSE\n",
       "hp       FALSE      FALSE\n",
       "drat     FALSE      FALSE\n",
       "wt       FALSE      FALSE\n",
       "qsec     FALSE      FALSE\n",
       "vs       FALSE      FALSE\n",
       "am       FALSE      FALSE\n",
       "gear     FALSE      FALSE\n",
       "carb     FALSE      FALSE\n",
       "1 subsets of each size up to 10\n",
       "Selection Algorithm: backward\n",
       "          cyl disp hp  drat wt  qsec vs  am  gear carb\n",
       "1  ( 1 )  \" \" \" \"  \" \" \" \"  \"*\" \" \"  \" \" \" \" \" \"  \" \" \n",
       "2  ( 1 )  \" \" \" \"  \" \" \" \"  \"*\" \"*\"  \" \" \" \" \" \"  \" \" \n",
       "3  ( 1 )  \" \" \" \"  \" \" \" \"  \"*\" \"*\"  \" \" \"*\" \" \"  \" \" \n",
       "4  ( 1 )  \" \" \" \"  \"*\" \" \"  \"*\" \"*\"  \" \" \"*\" \" \"  \" \" \n",
       "5  ( 1 )  \" \" \"*\"  \"*\" \" \"  \"*\" \"*\"  \" \" \"*\" \" \"  \" \" \n",
       "6  ( 1 )  \" \" \"*\"  \"*\" \"*\"  \"*\" \"*\"  \" \" \"*\" \" \"  \" \" \n",
       "7  ( 1 )  \" \" \"*\"  \"*\" \"*\"  \"*\" \"*\"  \" \" \"*\" \"*\"  \" \" \n",
       "8  ( 1 )  \" \" \"*\"  \"*\" \"*\"  \"*\" \"*\"  \" \" \"*\" \"*\"  \"*\" \n",
       "9  ( 1 )  \" \" \"*\"  \"*\" \"*\"  \"*\" \"*\"  \"*\" \"*\" \"*\"  \"*\" \n",
       "10  ( 1 ) \"*\" \"*\"  \"*\" \"*\"  \"*\" \"*\"  \"*\" \"*\" \"*\"  \"*\" "
      ]
     },
     "metadata": {},
     "output_type": "display_data"
    }
   ],
   "source": [
    "summary(df_leaps_back)\n",
    "#아래에서 위로 결과 확인"
   ]
  },
  {
   "cell_type": "code",
   "execution_count": 67,
   "metadata": {},
   "outputs": [],
   "source": [
    "BackwardBic <- summary(df_leaps_back)$bic\n",
    "Min.val <- which.min(BackwardBic)"
   ]
  },
  {
   "cell_type": "code",
   "execution_count": 68,
   "metadata": {},
   "outputs": [
    {
     "data": {
      "image/png": "[encoded data removed]",
      "text/plain": [
       "plot without title"
      ]
     },
     "metadata": {},
     "output_type": "display_data"
    }
   ],
   "source": [
    "plot(BackwardBic, type = 'b')\n",
    "points(Min.val, BackwardBic[Min.val], cex=5, col='red', pch=20)"
   ]
  },
  {
   "cell_type": "code",
   "execution_count": 69,
   "metadata": {},
   "outputs": [
    {
     "data": {
      "text/html": [
       "<dl class=dl-horizontal>\n",
       "\t<dt>(Intercept)</dt>\n",
       "\t\t<dd>9.61778051456161</dd>\n",
       "\t<dt>wt</dt>\n",
       "\t\t<dd>-3.91650372494249</dd>\n",
       "\t<dt>qsec</dt>\n",
       "\t\t<dd>1.2258859715837</dd>\n",
       "\t<dt>am</dt>\n",
       "\t\t<dd>2.93583719188942</dd>\n",
       "</dl>\n"
      ],
      "text/latex": [
       "\\begin{description*}\n",
       "\\item[(Intercept)] 9.61778051456161\n",
       "\\item[wt] -3.91650372494249\n",
       "\\item[qsec] 1.2258859715837\n",
       "\\item[am] 2.93583719188942\n",
       "\\end{description*}\n"
      ],
      "text/markdown": [
       "(Intercept)\n",
       ":   9.61778051456161wt\n",
       ":   -3.91650372494249qsec\n",
       ":   1.2258859715837am\n",
       ":   2.93583719188942\n",
       "\n"
      ],
      "text/plain": [
       "(Intercept)          wt        qsec          am \n",
       "   9.617781   -3.916504    1.225886    2.935837 "
      ]
     },
     "metadata": {},
     "output_type": "display_data"
    }
   ],
   "source": [
    "# 최적의 모델 구현\n",
    "coef(df_leaps_back, 3)"
   ]
  },
  {
   "cell_type": "markdown",
   "metadata": {},
   "source": [
    "#### 명목형 변수 해석하기\n",
    "- 없다 0, 있다1 바꾸어서 의미를 파악"
   ]
  },
  {
   "cell_type": "code",
   "execution_count": 70,
   "metadata": {},
   "outputs": [
    {
     "data": {
      "text/html": [
       "<table>\n",
       "<thead><tr><th></th><th scope=col>mpg</th><th scope=col>cyl</th><th scope=col>disp</th><th scope=col>hp</th><th scope=col>drat</th><th scope=col>wt</th><th scope=col>qsec</th><th scope=col>vs</th><th scope=col>am</th><th scope=col>gear</th><th scope=col>carb</th></tr></thead>\n",
       "<tbody>\n",
       "\t<tr><th scope=row>Mazda RX4</th><td>21.0 </td><td>6    </td><td>160  </td><td>110  </td><td>3.90 </td><td>2.620</td><td>16.46</td><td>0    </td><td>1    </td><td>4    </td><td>4    </td></tr>\n",
       "\t<tr><th scope=row>Mazda RX4 Wag</th><td>21.0 </td><td>6    </td><td>160  </td><td>110  </td><td>3.90 </td><td>2.875</td><td>17.02</td><td>0    </td><td>1    </td><td>4    </td><td>4    </td></tr>\n",
       "\t<tr><th scope=row>Datsun 710</th><td>22.8 </td><td>4    </td><td>108  </td><td> 93  </td><td>3.85 </td><td>2.320</td><td>18.61</td><td>1    </td><td>1    </td><td>4    </td><td>1    </td></tr>\n",
       "\t<tr><th scope=row>Hornet 4 Drive</th><td>21.4 </td><td>6    </td><td>258  </td><td>110  </td><td>3.08 </td><td>3.215</td><td>19.44</td><td>1    </td><td>0    </td><td>3    </td><td>1    </td></tr>\n",
       "\t<tr><th scope=row>Hornet Sportabout</th><td>18.7 </td><td>8    </td><td>360  </td><td>175  </td><td>3.15 </td><td>3.440</td><td>17.02</td><td>0    </td><td>0    </td><td>3    </td><td>2    </td></tr>\n",
       "\t<tr><th scope=row>Valiant</th><td>18.1 </td><td>6    </td><td>225  </td><td>105  </td><td>2.76 </td><td>3.460</td><td>20.22</td><td>1    </td><td>0    </td><td>3    </td><td>1    </td></tr>\n",
       "</tbody>\n",
       "</table>\n"
      ],
      "text/latex": [
       "\\begin{tabular}{r|lllllllllll}\n",
       "  & mpg & cyl & disp & hp & drat & wt & qsec & vs & am & gear & carb\\\\\n",
       "\\hline\n",
       "\tMazda RX4 & 21.0  & 6     & 160   & 110   & 3.90  & 2.620 & 16.46 & 0     & 1     & 4     & 4    \\\\\n",
       "\tMazda RX4 Wag & 21.0  & 6     & 160   & 110   & 3.90  & 2.875 & 17.02 & 0     & 1     & 4     & 4    \\\\\n",
       "\tDatsun 710 & 22.8  & 4     & 108   &  93   & 3.85  & 2.320 & 18.61 & 1     & 1     & 4     & 1    \\\\\n",
       "\tHornet 4 Drive & 21.4  & 6     & 258   & 110   & 3.08  & 3.215 & 19.44 & 1     & 0     & 3     & 1    \\\\\n",
       "\tHornet Sportabout & 18.7  & 8     & 360   & 175   & 3.15  & 3.440 & 17.02 & 0     & 0     & 3     & 2    \\\\\n",
       "\tValiant & 18.1  & 6     & 225   & 105   & 2.76  & 3.460 & 20.22 & 1     & 0     & 3     & 1    \\\\\n",
       "\\end{tabular}\n"
      ],
      "text/markdown": [
       "\n",
       "| <!--/--> | mpg | cyl | disp | hp | drat | wt | qsec | vs | am | gear | carb |\n",
       "|---|---|---|---|---|---|---|---|---|---|---|---|\n",
       "| Mazda RX4 | 21.0  | 6     | 160   | 110   | 3.90  | 2.620 | 16.46 | 0     | 1     | 4     | 4     |\n",
       "| Mazda RX4 Wag | 21.0  | 6     | 160   | 110   | 3.90  | 2.875 | 17.02 | 0     | 1     | 4     | 4     |\n",
       "| Datsun 710 | 22.8  | 4     | 108   |  93   | 3.85  | 2.320 | 18.61 | 1     | 1     | 4     | 1     |\n",
       "| Hornet 4 Drive | 21.4  | 6     | 258   | 110   | 3.08  | 3.215 | 19.44 | 1     | 0     | 3     | 1     |\n",
       "| Hornet Sportabout | 18.7  | 8     | 360   | 175   | 3.15  | 3.440 | 17.02 | 0     | 0     | 3     | 2     |\n",
       "| Valiant | 18.1  | 6     | 225   | 105   | 2.76  | 3.460 | 20.22 | 1     | 0     | 3     | 1     |\n",
       "\n"
      ],
      "text/plain": [
       "                  mpg  cyl disp hp  drat wt    qsec  vs am gear carb\n",
       "Mazda RX4         21.0 6   160  110 3.90 2.620 16.46 0  1  4    4   \n",
       "Mazda RX4 Wag     21.0 6   160  110 3.90 2.875 17.02 0  1  4    4   \n",
       "Datsun 710        22.8 4   108   93 3.85 2.320 18.61 1  1  4    1   \n",
       "Hornet 4 Drive    21.4 6   258  110 3.08 3.215 19.44 1  0  3    1   \n",
       "Hornet Sportabout 18.7 8   360  175 3.15 3.440 17.02 0  0  3    2   \n",
       "Valiant           18.1 6   225  105 2.76 3.460 20.22 1  0  3    1   "
      ]
     },
     "metadata": {},
     "output_type": "display_data"
    }
   ],
   "source": [
    "head(mtcars)"
   ]
  },
  {
   "cell_type": "code",
   "execution_count": 71,
   "metadata": {},
   "outputs": [
    {
     "data": {
      "text/plain": [
       "\n",
       "Call:\n",
       "lm(formula = mpg ~ am, data = mtcars)\n",
       "\n",
       "Coefficients:\n",
       "(Intercept)           am  \n",
       "     17.147        7.245  \n"
      ]
     },
     "metadata": {},
     "output_type": "display_data"
    }
   ],
   "source": [
    "# am (auto: 0, manual: 1) => 수동이면 연비가 7.245 증가\n",
    "lm(mpg ~ am, data = mtcars)"
   ]
  },
  {
   "cell_type": "code",
   "execution_count": 72,
   "metadata": {},
   "outputs": [
    {
     "name": "stderr",
     "output_type": "stream",
     "text": [
      "also installing the dependencies 'Rcpp', 'matrixStats', 'RcppArmadillo', 'zip', 'SparseM', 'MatrixModels', 'conquer', 'sp', 'openxlsx', 'minqa', 'nloptr', 'statmod', 'RcppEigen', 'carData', 'abind', 'pbkrtest', 'quantreg', 'maptools', 'rio', 'lme4'\n",
      "\n"
     ]
    },
    {
     "name": "stdout",
     "output_type": "stream",
     "text": [
      "package 'Rcpp' successfully unpacked and MD5 sums checked\n"
     ]
    },
    {
     "name": "stderr",
     "output_type": "stream",
     "text": [
      "Warning message:\n",
      "\"cannot remove prior installation of package 'Rcpp'\"Warning message in file.copy(savedcopy, lib, recursive = TRUE):\n",
      "\"C:\\Users\\205\\.conda\\envs\\r_study\\Lib\\R\\library\\00LOCK\\Rcpp\\libs\\x64\\Rcpp.dll를 C:\\Users\\205\\.conda\\envs\\r_study\\Lib\\R\\library\\Rcpp\\libs\\x64\\Rcpp.dll로 복사하는데 문제가 발생했습니다: Permission denied\"Warning message:\n",
      "\"restored 'Rcpp'\""
     ]
    },
    {
     "name": "stdout",
     "output_type": "stream",
     "text": [
      "package 'matrixStats' successfully unpacked and MD5 sums checked\n",
      "package 'RcppArmadillo' successfully unpacked and MD5 sums checked\n",
      "package 'zip' successfully unpacked and MD5 sums checked\n",
      "package 'SparseM' successfully unpacked and MD5 sums checked\n",
      "package 'MatrixModels' successfully unpacked and MD5 sums checked\n",
      "package 'conquer' successfully unpacked and MD5 sums checked\n",
      "package 'sp' successfully unpacked and MD5 sums checked\n",
      "package 'openxlsx' successfully unpacked and MD5 sums checked\n",
      "package 'minqa' successfully unpacked and MD5 sums checked\n",
      "package 'nloptr' successfully unpacked and MD5 sums checked\n",
      "package 'statmod' successfully unpacked and MD5 sums checked\n",
      "package 'RcppEigen' successfully unpacked and MD5 sums checked\n",
      "package 'carData' successfully unpacked and MD5 sums checked\n",
      "package 'abind' successfully unpacked and MD5 sums checked\n",
      "package 'pbkrtest' successfully unpacked and MD5 sums checked\n",
      "package 'quantreg' successfully unpacked and MD5 sums checked\n",
      "package 'maptools' successfully unpacked and MD5 sums checked\n",
      "package 'rio' successfully unpacked and MD5 sums checked\n",
      "package 'lme4' successfully unpacked and MD5 sums checked\n",
      "package 'car' successfully unpacked and MD5 sums checked\n",
      "\n",
      "The downloaded binary packages are in\n",
      "\tC:\\Users\\205\\AppData\\Local\\Temp\\Rtmp8OzypD\\downloaded_packages\n"
     ]
    }
   ],
   "source": [
    "install.packages('car')"
   ]
  },
  {
   "cell_type": "code",
   "execution_count": 73,
   "metadata": {},
   "outputs": [
    {
     "name": "stderr",
     "output_type": "stream",
     "text": [
      "Warning message:\n",
      "\"package 'car' was built under R version 3.6.3\"Loading required package: carData\n",
      "Warning message:\n",
      "\"package 'carData' was built under R version 3.6.3\""
     ]
    }
   ],
   "source": [
    "library(car)"
   ]
  },
  {
   "cell_type": "code",
   "execution_count": 74,
   "metadata": {},
   "outputs": [
    {
     "data": {
      "text/html": [
       "<table>\n",
       "<thead><tr><th></th><th scope=col>year</th><th scope=col>sex</th><th scope=col>education</th><th scope=col>vocabulary</th></tr></thead>\n",
       "<tbody>\n",
       "\t<tr><th scope=row>19740001</th><td>1974  </td><td>Male  </td><td>14    </td><td>9     </td></tr>\n",
       "\t<tr><th scope=row>19740002</th><td>1974  </td><td>Male  </td><td>16    </td><td>9     </td></tr>\n",
       "\t<tr><th scope=row>19740003</th><td>1974  </td><td>Female</td><td>10    </td><td>9     </td></tr>\n",
       "</tbody>\n",
       "</table>\n"
      ],
      "text/latex": [
       "\\begin{tabular}{r|llll}\n",
       "  & year & sex & education & vocabulary\\\\\n",
       "\\hline\n",
       "\t19740001 & 1974   & Male   & 14     & 9     \\\\\n",
       "\t19740002 & 1974   & Male   & 16     & 9     \\\\\n",
       "\t19740003 & 1974   & Female & 10     & 9     \\\\\n",
       "\\end{tabular}\n"
      ],
      "text/markdown": [
       "\n",
       "| <!--/--> | year | sex | education | vocabulary |\n",
       "|---|---|---|---|---|\n",
       "| 19740001 | 1974   | Male   | 14     | 9      |\n",
       "| 19740002 | 1974   | Male   | 16     | 9      |\n",
       "| 19740003 | 1974   | Female | 10     | 9      |\n",
       "\n"
      ],
      "text/plain": [
       "         year sex    education vocabulary\n",
       "19740001 1974 Male   14        9         \n",
       "19740002 1974 Male   16        9         \n",
       "19740003 1974 Female 10        9         "
      ]
     },
     "metadata": {},
     "output_type": "display_data"
    }
   ],
   "source": [
    "head(Vocab,3)"
   ]
  },
  {
   "cell_type": "code",
   "execution_count": 75,
   "metadata": {
    "scrolled": true
   },
   "outputs": [
    {
     "name": "stdout",
     "output_type": "stream",
     "text": [
      "'data.frame':\t30351 obs. of  4 variables:\n",
      " $ year      : num  1974 1974 1974 1974 1974 ...\n",
      " $ sex       : Factor w/ 2 levels \"Female\",\"Male\": 2 2 1 1 1 2 2 2 1 1 ...\n",
      " $ education : num  14 16 10 10 12 16 17 10 12 11 ...\n",
      " $ vocabulary: num  9 9 9 5 8 8 9 5 3 5 ...\n",
      " - attr(*, \"na.action\")= 'omit' Named int  1 2 3 4 5 6 7 8 9 10 ...\n",
      "  ..- attr(*, \"names\")= chr  \"19720001\" \"19720002\" \"19720003\" \"19720004\" ...\n"
     ]
    }
   ],
   "source": [
    "str(Vocab)"
   ]
  },
  {
   "cell_type": "code",
   "execution_count": 76,
   "metadata": {
    "scrolled": true
   },
   "outputs": [
    {
     "data": {
      "text/plain": [
       "      year          sex          education       vocabulary    \n",
       " Min.   :1974   Female:17148   Min.   : 0.00   Min.   : 0.000  \n",
       " 1st Qu.:1987   Male  :13203   1st Qu.:12.00   1st Qu.: 5.000  \n",
       " Median :1994                  Median :12.00   Median : 6.000  \n",
       " Mean   :1995                  Mean   :13.03   Mean   : 6.004  \n",
       " 3rd Qu.:2006                  3rd Qu.:15.00   3rd Qu.: 7.000  \n",
       " Max.   :2016                  Max.   :20.00   Max.   :10.000  "
      ]
     },
     "metadata": {},
     "output_type": "display_data"
    }
   ],
   "source": [
    "summary(Vocab)"
   ]
  },
  {
   "cell_type": "code",
   "execution_count": 77,
   "metadata": {},
   "outputs": [],
   "source": [
    "?Vocab"
   ]
  },
  {
   "cell_type": "code",
   "execution_count": 78,
   "metadata": {},
   "outputs": [
    {
     "data": {
      "text/plain": [
       "\n",
       "Call:\n",
       "lm(formula = Vocab$vocabulary ~ Vocab$sex + Vocab$education, \n",
       "    data = Vocab)\n",
       "\n",
       "Coefficients:\n",
       "    (Intercept)    Vocab$sexMale  Vocab$education  \n",
       "         1.7366          -0.1687           0.3330  \n"
      ]
     },
     "metadata": {},
     "output_type": "display_data"
    }
   ],
   "source": [
    "lm <- lm(Vocab$vocabulary~Vocab$sex+Vocab$education, data = Vocab)\n",
    "lm"
   ]
  },
  {
   "cell_type": "code",
   "execution_count": null,
   "metadata": {},
   "outputs": [],
   "source": []
  }
 ],
 "metadata": {
  "kernelspec": {
   "display_name": "R",
   "language": "R",
   "name": "ir"
  },
  "language_info": {
   "codemirror_mode": "r",
   "file_extension": ".r",
   "mimetype": "text/x-r-source",
   "name": "R",
   "pygments_lexer": "r",
   "version": "3.6.1"
  }
 },
 "nbformat": 4,
 "nbformat_minor": 4
}
