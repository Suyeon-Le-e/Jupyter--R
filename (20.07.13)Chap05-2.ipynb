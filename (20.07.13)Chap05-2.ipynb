{
 "cells": [
  {
   "cell_type": "markdown",
   "metadata": {},
   "source": [
    "### 10년치 편의점 판매 데이터 분석하기\n",
    "- 1500 만건\n",
    "- 특정 상품을 정해 시간당 몇 개씩 팔리는 지 분석\n",
    "- 확률실험 관측값(팔린갯수)를 확률변수로 사용"
   ]
  },
  {
   "cell_type": "code",
   "execution_count": 1,
   "metadata": {},
   "outputs": [],
   "source": [
    "# 대량의 데이터 빠르게 \n",
    "library(data.table)"
   ]
  },
  {
   "cell_type": "code",
   "execution_count": 2,
   "metadata": {},
   "outputs": [],
   "source": [
    "df <- fread('r-ggagi-data/example_conveniencestore.csv',\n",
    "            encoding='UTF-8',\n",
    "           data.table=F)"
   ]
  },
  {
   "cell_type": "code",
   "execution_count": 3,
   "metadata": {},
   "outputs": [
    {
     "data": {
      "text/html": [
       "<table>\n",
       "<thead><tr><th scope=col>Date</th><th scope=col>sellproduct</th><th scope=col>company</th><th scope=col>payment</th><th scope=col>margin</th></tr></thead>\n",
       "<tbody>\n",
       "\t<tr><td>2006-01-01 07:00:02              </td><td>보가리스웨트 620미리리터(P)      </td><td>동화오츠카㈜                     </td><td>체크카드                         </td><td>0.11                             </td></tr>\n",
       "\t<tr><td>2006-01-01 07:00:14              </td><td>막스 500미리리터(캔)             </td><td>블랙맥주㈜                       </td><td>현금                             </td><td>0.04                             </td></tr>\n",
       "\t<tr><td>2006-01-01 07:00:42              </td><td>맛좋은우유 GT 1리터(팩)          </td><td>서양유업㈜                       </td><td>체크카드                         </td><td>0.13                             </td></tr>\n",
       "\t<tr><td>2006-01-01 07:00:48              </td><td>육개장사발탕면 86g(컵)           </td><td>㈜낭심                           </td><td>신용카드                         </td><td>0.28                             </td></tr>\n",
       "\t<tr><td>2006-01-01 07:01:14                                                            </td><td><span style=white-space:pre-wrap>제주도삼다수&lt;U+00A0&gt;2리터(P)     </span></td><td><span style=white-space:pre-wrap>㈜낭심            </span>                     </td><td>신용카드                                                                       </td><td>0.22                                                                           </td></tr>\n",
       "\t<tr><td>2006-01-01 07:01:24              </td><td>경기도장수생막걸리 750미리리터(P)</td><td>경기도탁주제조협회               </td><td>현금                             </td><td>0.30                             </td></tr>\n",
       "</tbody>\n",
       "</table>\n"
      ],
      "text/latex": [
       "\\begin{tabular}{r|lllll}\n",
       " Date & sellproduct & company & payment & margin\\\\\n",
       "\\hline\n",
       "\t 2006-01-01 07:00:02               & 보가리스웨트 620미리리터(P)       & 동화오츠카㈜                      & 체크카드                          & 0.11                             \\\\\n",
       "\t 2006-01-01 07:00:14               & 막스 500미리리터(캔)              & 블랙맥주㈜                        & 현금                              & 0.04                             \\\\\n",
       "\t 2006-01-01 07:00:42               & 맛좋은우유 GT 1리터(팩)           & 서양유업㈜                        & 체크카드                          & 0.13                             \\\\\n",
       "\t 2006-01-01 07:00:48               & 육개장사발탕면 86g(컵)            & ㈜낭심                            & 신용카드                          & 0.28                             \\\\\n",
       "\t 2006-01-01 07:01:14               & 제주도삼다수<U+00A0>2리터(P)      & ㈜낭심                            & 신용카드                          & 0.22                             \\\\\n",
       "\t 2006-01-01 07:01:24               & 경기도장수생막걸리 750미리리터(P) & 경기도탁주제조협회                & 현금                              & 0.30                             \\\\\n",
       "\\end{tabular}\n"
      ],
      "text/markdown": [
       "\n",
       "| Date | sellproduct | company | payment | margin |\n",
       "|---|---|---|---|---|\n",
       "| 2006-01-01 07:00:02               | 보가리스웨트 620미리리터(P)       | 동화오츠카㈜                      | 체크카드                          | 0.11                              |\n",
       "| 2006-01-01 07:00:14               | 막스 500미리리터(캔)              | 블랙맥주㈜                        | 현금                              | 0.04                              |\n",
       "| 2006-01-01 07:00:42               | 맛좋은우유 GT 1리터(팩)           | 서양유업㈜                        | 체크카드                          | 0.13                              |\n",
       "| 2006-01-01 07:00:48               | 육개장사발탕면 86g(컵)            | ㈜낭심                            | 신용카드                          | 0.28                              |\n",
       "| 2006-01-01 07:01:14               | 제주도삼다수<U+00A0>2리터(P)      | ㈜낭심                            | 신용카드                          | 0.22                              |\n",
       "| 2006-01-01 07:01:24               | 경기도장수생막걸리 750미리리터(P) | 경기도탁주제조협회                | 현금                              | 0.30                              |\n",
       "\n"
      ],
      "text/plain": [
       "  Date                sellproduct                       company           \n",
       "1 2006-01-01 07:00:02 보가리스웨트 620미리리터(P)       동화오츠카㈜      \n",
       "2 2006-01-01 07:00:14 막스 500미리리터(캔)              블랙맥주㈜        \n",
       "3 2006-01-01 07:00:42 맛좋은우유 GT 1리터(팩)           서양유업㈜        \n",
       "4 2006-01-01 07:00:48 육개장사발탕면 86g(컵)            ㈜낭심            \n",
       "5 2006-01-01 07:01:14 제주도삼다수<U+00A0>2리터(P)      ㈜낭심            \n",
       "6 2006-01-01 07:01:24 경기도장수생막걸리 750미리리터(P) 경기도탁주제조협회\n",
       "  payment  margin\n",
       "1 체크카드 0.11  \n",
       "2 현금     0.04  \n",
       "3 체크카드 0.13  \n",
       "4 신용카드 0.28  \n",
       "5 신용카드 0.22  \n",
       "6 현금     0.30  "
      ]
     },
     "metadata": {},
     "output_type": "display_data"
    }
   ],
   "source": [
    "head(df)"
   ]
  },
  {
   "cell_type": "code",
   "execution_count": 4,
   "metadata": {},
   "outputs": [],
   "source": [
    "# 표본 만들기 - sample()\n",
    "S <- df[sample(nrow(df), 5000), ]"
   ]
  },
  {
   "cell_type": "code",
   "execution_count": 5,
   "metadata": {},
   "outputs": [
    {
     "name": "stdout",
     "output_type": "stream",
     "text": [
      "'data.frame':\t5000 obs. of  5 variables:\n",
      " $ Date       : chr  \"2013-06-14 19:46:59\" \"2012-12-10 07:55:39\" \"2015-05-10 04:30:12\" \"2011-10-16 15:37:30\" ...\n",
      " $ sellproduct: chr  \"굿스맥주 355미리리터(캔)\" \"막스 500미리리터(캔)\" \"가스라이트큐팩<U+00A0>1.6리터(P)\" \"굿스맥주 355미리리터(캔)\" ...\n",
      " $ company    : chr  \"오비이락맥주㈜\" \"블랙맥주㈜\" \"오비이락맥주㈜\" \"오비이락맥주㈜\" ...\n",
      " $ payment    : chr  \"교통카드\" \"신용카드\" \"신용카드\" \"체크카드\" ...\n",
      " $ margin     : num  0.21 0.04 0.17 0.21 0.26 0.27 0.3 0.14 0.21 0.32 ...\n"
     ]
    }
   ],
   "source": [
    "str(S)"
   ]
  },
  {
   "cell_type": "code",
   "execution_count": 6,
   "metadata": {},
   "outputs": [
    {
     "data": {
      "text/plain": [
       "\n",
       "          보가리스웨트 620미리리터(P)          바리스타라떼 250미리리터(컵) \n",
       "                                   33                                    37 \n",
       "     아이리시스<U+00A0>500미리리터(P) 글라소비타민물공급<U+00A0>500미리리터(P) \n",
       "                                   39                                    42 \n",
       "           딸기짱우유 240미리리터(팩)      조르지아오리지널 240미리리터(캔) \n",
       "                                   42                                    44 \n",
       "    TOP스위트블랙커피 275미리리터(캔)            아이리시스<U+00A0>2리터(P) \n",
       "                                   45                                    47 \n",
       "     가스라이트큐팩<U+00A0>1.6리터(P)                    세계콘 170미리리터 \n",
       "                                   49                                    49 \n",
       "         굿이브닝케어 100미리리터(병)                육개장사발탕면 86g(컵) \n",
       "                                   50                                    50 \n",
       "     팔성사이다<U+00A0>500미리리터(P)            경기도우유 200미리리터(팩) \n",
       "                                   50                                    51 \n",
       "              맛좋은우유 GT 1리터(팩)               메지밀B 190미리리터(병) \n",
       "                                   51                                    51 \n",
       "             가스큐팩 1000미리리터(P)      우유속에카푸치노 310미리리터(팩) \n",
       "                                   52                                    52 \n",
       " 간다다프리미엄블렌드 275미리리터(캔)                  막스 355미리리터(캔) \n",
       "                                   53                                    53 \n",
       "              비타528 100미리리터(병)          팔성사이다<U+00A0>1.5리터(P) \n",
       "                                   53                                    54 \n",
       "           딸기속우유 310미리리터(팩)        카페라떼와일드 200미리리터(컵) \n",
       "                                   57                                    58 \n",
       "             구카카콜 250미리리터(캔)             새로운라면큰사발 114g(컵) \n",
       "                                   59                                    61 \n",
       "                 가스 640미리리터(병) 힘에이드마운틴블라스트 600미리리터(P) \n",
       "                                   62                                    63 \n",
       "              옥수수차 500미리리터(P)               야명808 140미리리터(캔) \n",
       "                                   67                                    89 \n",
       "          제주도사다수 500미리리터(P)                  경기도우유 1리터(팩) \n",
       "                                   91                                    97 \n",
       "         제주도삼다수<U+00A0>2리터(P)                   먹스피쳐 1.6리터(P) \n",
       "                                   97                                    98 \n",
       "           마지막처럼 360미리리터(병)                  막스 500미리리터(캔) \n",
       "                                  101                                   101 \n",
       "        화이트피처 1.6리터(P)<U+00A0>                   구카카콜 1.5리터(P) \n",
       "                                  102                                   104 \n",
       "    경기도장수생막걸리 750미리리터(P)        화이트 355미리리터(캔)<U+00A0> \n",
       "                                  106                                   106 \n",
       "         레잇비마일드 185미리리터(캔)               화이트 500미리리터((캔) \n",
       "                                  110                                   110 \n",
       "              구카카콜 500미리리터(P)              참이슬로 360미리리터(병) \n",
       "                                  112                                   150 \n",
       "       핫개컨디션파워 100미리리터(병)           첨이슬fresh 360미리리터(병) \n",
       "                                  185                                   249 \n",
       "             굿스맥주 500미리리터(캔)              굿스맥주 355미리리터(캔) \n",
       "                                  303                                   341 \n",
       "          바나나멋우유 240미리리터(P)                   가스큐팩 1.6리터(P) \n",
       "                                  373                                   501 "
      ]
     },
     "metadata": {},
     "output_type": "display_data"
    }
   ],
   "source": [
    "#  분석 상품 선택 - 가장 많이 팔린 상품\n",
    "sort(table(S$sellproduct))"
   ]
  },
  {
   "cell_type": "code",
   "execution_count": 7,
   "metadata": {},
   "outputs": [],
   "source": [
    "library(stringr)"
   ]
  },
  {
   "cell_type": "code",
   "execution_count": 8,
   "metadata": {},
   "outputs": [
    {
     "data": {
      "text/html": [
       "<ol class=list-inline>\n",
       "\t<li>'2013-06-14 19:46:59'</li>\n",
       "\t<li>'2012-12-10 07:55:39'</li>\n",
       "\t<li>'2015-05-10 04:30:12'</li>\n",
       "</ol>\n"
      ],
      "text/latex": [
       "\\begin{enumerate*}\n",
       "\\item '2013-06-14 19:46:59'\n",
       "\\item '2012-12-10 07:55:39'\n",
       "\\item '2015-05-10 04:30:12'\n",
       "\\end{enumerate*}\n"
      ],
      "text/markdown": [
       "1. '2013-06-14 19:46:59'\n",
       "2. '2012-12-10 07:55:39'\n",
       "3. '2015-05-10 04:30:12'\n",
       "\n",
       "\n"
      ],
      "text/plain": [
       "[1] \"2013-06-14 19:46:59\" \"2012-12-10 07:55:39\" \"2015-05-10 04:30:12\""
      ]
     },
     "metadata": {},
     "output_type": "display_data"
    }
   ],
   "source": [
    "head(S$Date,3)"
   ]
  },
  {
   "cell_type": "code",
   "execution_count": 9,
   "metadata": {},
   "outputs": [
    {
     "data": {
      "text/html": [
       "<table>\n",
       "<thead><tr><th></th><th scope=col>Date</th><th scope=col>sellproduct</th><th scope=col>company</th><th scope=col>payment</th><th scope=col>margin</th><th scope=col>time</th><th scope=col>hour</th></tr></thead>\n",
       "<tbody>\n",
       "\t<tr><th scope=row>11755751</th><td>2013-06-14 19:46:59     </td><td>굿스맥주 355미리리터(캔)</td><td>오비이락맥주㈜          </td><td>교통카드                </td><td>0.21                    </td><td>19:46:59                </td><td>19                      </td></tr>\n",
       "</tbody>\n",
       "</table>\n"
      ],
      "text/latex": [
       "\\begin{tabular}{r|lllllll}\n",
       "  & Date & sellproduct & company & payment & margin & time & hour\\\\\n",
       "\\hline\n",
       "\t11755751 & 2013-06-14 19:46:59      & 굿스맥주 355미리리터(캔) & 오비이락맥주㈜           & 교통카드                 & 0.21                     & 19:46:59                 & 19                      \\\\\n",
       "\\end{tabular}\n"
      ],
      "text/markdown": [
       "\n",
       "| <!--/--> | Date | sellproduct | company | payment | margin | time | hour |\n",
       "|---|---|---|---|---|---|---|---|\n",
       "| 11755751 | 2013-06-14 19:46:59      | 굿스맥주 355미리리터(캔) | 오비이락맥주㈜           | 교통카드                 | 0.21                     | 19:46:59                 | 19                       |\n",
       "\n"
      ],
      "text/plain": [
       "         Date                sellproduct              company        payment \n",
       "11755751 2013-06-14 19:46:59 굿스맥주 355미리리터(캔) 오비이락맥주㈜ 교통카드\n",
       "         margin time     hour\n",
       "11755751 0.21   19:46:59 19  "
      ]
     },
     "metadata": {},
     "output_type": "display_data"
    }
   ],
   "source": [
    "S$time <- str_split_fixed(S$Date, \" \", 2)[,2]\n",
    "S$hour <- str_split_fixed(S$time, \":\", 3)[,1]\n",
    "head(S, 1)"
   ]
  },
  {
   "cell_type": "markdown",
   "metadata": {},
   "source": [
    "### 묶음행사 상품 판매 데이터 분석하기\n",
    "- 이벤트 상품 8개 중 6개를 골라 세트 구입\n",
    "- 중복해서 구입 가능 => 중복 조합\n",
    "- 6개 세트에서 마진이 좋은 상품도, 나쁜 상품도 있음\n",
    "- 마진의 기준 0.13\n",
    "- 6개 상품의 마진이 0.13인 상품갯수의 확률변수 X = {0,1,2,3,4,5,6}\n",
    "- 이때의 확률변수의 분포"
   ]
  },
  {
   "cell_type": "code",
   "execution_count": null,
   "metadata": {},
   "outputs": [],
   "source": []
  }
 ],
 "metadata": {
  "kernelspec": {
   "display_name": "R",
   "language": "R",
   "name": "ir"
  },
  "language_info": {
   "codemirror_mode": "r",
   "file_extension": ".r",
   "mimetype": "text/x-r-source",
   "name": "R",
   "pygments_lexer": "r",
   "version": "3.6.1"
  }
 },
 "nbformat": 4,
 "nbformat_minor": 4
}
