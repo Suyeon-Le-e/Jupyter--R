{
 "cells": [
  {
   "cell_type": "markdown",
   "metadata": {},
   "source": [
    "## 전국 연령별 평균 월급 조사"
   ]
  },
  {
   "cell_type": "code",
   "execution_count": 2,
   "metadata": {},
   "outputs": [],
   "source": [
    "# 데이터 로드\n",
    "# 통계청 2013년 발표 연령, 남녀, 경력별 평균월급 데이터셋\n",
    "df <- read.csv(\"r-ggagi-data/example_salary.csv\", stringsAsFactors = T, na = '-') \n",
    "# - 값은 NA로 바꾸기"
   ]
  },
  {
   "cell_type": "code",
   "execution_count": 3,
   "metadata": {},
   "outputs": [
    {
     "data": {
      "text/html": [
       "<table>\n",
       "<thead><tr><th scope=col>연령</th><th scope=col>월급여액..원.</th><th scope=col>연간특별급여액..원.</th><th scope=col>근로시간..시간.</th><th scope=col>근로자수..명.</th><th scope=col>경력구분</th><th scope=col>성별</th></tr></thead>\n",
       "<tbody>\n",
       "\t<tr><td>-19    </td><td>1346534</td><td>151840 </td><td>169.5  </td><td> 15042 </td><td>1년미만</td><td>남     </td></tr>\n",
       "\t<tr><td>20-24  </td><td>1584214</td><td>115375 </td><td>180.1  </td><td> 74251 </td><td>1년미만</td><td>남     </td></tr>\n",
       "\t<tr><td>25-29  </td><td>1922043</td><td>268058 </td><td>178.0  </td><td>143338 </td><td>1년미만</td><td>남     </td></tr>\n",
       "\t<tr><td>30-34  </td><td>2130988</td><td>335710 </td><td>180.8  </td><td>103585 </td><td>1년미만</td><td>남     </td></tr>\n",
       "\t<tr><td>35-39  </td><td>2414345</td><td>352816 </td><td>181.4  </td><td> 65385 </td><td>1년미만</td><td>남     </td></tr>\n",
       "\t<tr><td>40-44  </td><td>2372214</td><td>233728 </td><td>182.9  </td><td> 55422 </td><td>1년미만</td><td>남     </td></tr>\n",
       "</tbody>\n",
       "</table>\n"
      ],
      "text/latex": [
       "\\begin{tabular}{r|lllllll}\n",
       " 연령 & 월급여액..원. & 연간특별급여액..원. & 근로시간..시간. & 근로자수..명. & 경력구분 & 성별\\\\\n",
       "\\hline\n",
       "\t -19     & 1346534 & 151840  & 169.5   &  15042  & 1년미만 & 남     \\\\\n",
       "\t 20-24   & 1584214 & 115375  & 180.1   &  74251  & 1년미만 & 남     \\\\\n",
       "\t 25-29   & 1922043 & 268058  & 178.0   & 143338  & 1년미만 & 남     \\\\\n",
       "\t 30-34   & 2130988 & 335710  & 180.8   & 103585  & 1년미만 & 남     \\\\\n",
       "\t 35-39   & 2414345 & 352816  & 181.4   &  65385  & 1년미만 & 남     \\\\\n",
       "\t 40-44   & 2372214 & 233728  & 182.9   &  55422  & 1년미만 & 남     \\\\\n",
       "\\end{tabular}\n"
      ],
      "text/markdown": [
       "\n",
       "| 연령 | 월급여액..원. | 연간특별급여액..원. | 근로시간..시간. | 근로자수..명. | 경력구분 | 성별 |\n",
       "|---|---|---|---|---|---|---|\n",
       "| -19     | 1346534 | 151840  | 169.5   |  15042  | 1년미만 | 남      |\n",
       "| 20-24   | 1584214 | 115375  | 180.1   |  74251  | 1년미만 | 남      |\n",
       "| 25-29   | 1922043 | 268058  | 178.0   | 143338  | 1년미만 | 남      |\n",
       "| 30-34   | 2130988 | 335710  | 180.8   | 103585  | 1년미만 | 남      |\n",
       "| 35-39   | 2414345 | 352816  | 181.4   |  65385  | 1년미만 | 남      |\n",
       "| 40-44   | 2372214 | 233728  | 182.9   |  55422  | 1년미만 | 남      |\n",
       "\n"
      ],
      "text/plain": [
       "  연령  월급여액..원. 연간특별급여액..원. 근로시간..시간. 근로자수..명.\n",
       "1 -19   1346534       151840              169.5            15042       \n",
       "2 20-24 1584214       115375              180.1            74251       \n",
       "3 25-29 1922043       268058              178.0           143338       \n",
       "4 30-34 2130988       335710              180.8           103585       \n",
       "5 35-39 2414345       352816              181.4            65385       \n",
       "6 40-44 2372214       233728              182.9            55422       \n",
       "  경력구분 성별\n",
       "1 1년미만  남  \n",
       "2 1년미만  남  \n",
       "3 1년미만  남  \n",
       "4 1년미만  남  \n",
       "5 1년미만  남  \n",
       "6 1년미만  남  "
      ]
     },
     "metadata": {},
     "output_type": "display_data"
    }
   ],
   "source": [
    "head(df)"
   ]
  },
  {
   "cell_type": "code",
   "execution_count": 20,
   "metadata": {},
   "outputs": [
    {
     "data": {
      "text/html": [
       "<ol class=list-inline>\n",
       "\t<li>'age'</li>\n",
       "\t<li>'salary'</li>\n",
       "\t<li>'sepcialSalary'</li>\n",
       "\t<li>'workingTime'</li>\n",
       "\t<li>'numberOfWorker'</li>\n",
       "\t<li>'career'</li>\n",
       "\t<li>'sex'</li>\n",
       "</ol>\n"
      ],
      "text/latex": [
       "\\begin{enumerate*}\n",
       "\\item 'age'\n",
       "\\item 'salary'\n",
       "\\item 'sepcialSalary'\n",
       "\\item 'workingTime'\n",
       "\\item 'numberOfWorker'\n",
       "\\item 'career'\n",
       "\\item 'sex'\n",
       "\\end{enumerate*}\n"
      ],
      "text/markdown": [
       "1. 'age'\n",
       "2. 'salary'\n",
       "3. 'sepcialSalary'\n",
       "4. 'workingTime'\n",
       "5. 'numberOfWorker'\n",
       "6. 'career'\n",
       "7. 'sex'\n",
       "\n",
       "\n"
      ],
      "text/plain": [
       "[1] \"age\"            \"salary\"         \"sepcialSalary\"  \"workingTime\"   \n",
       "[5] \"numberOfWorker\" \"career\"         \"sex\"           "
      ]
     },
     "metadata": {},
     "output_type": "display_data"
    }
   ],
   "source": [
    "# 한글 변수명 => 영문으로 바꾸기\n",
    "colnames(df)\n",
    "colnames(df) <- c('age','salary','specialSalary','workingTime','numberOfWorker','career','sex')"
   ]
  },
  {
   "cell_type": "code",
   "execution_count": 21,
   "metadata": {},
   "outputs": [
    {
     "data": {
      "text/html": [
       "<ol class=list-inline>\n",
       "\t<li>'age'</li>\n",
       "\t<li>'salary'</li>\n",
       "\t<li>'specialSalary'</li>\n",
       "\t<li>'workingTime'</li>\n",
       "\t<li>'numberOfWorker'</li>\n",
       "\t<li>'career'</li>\n",
       "\t<li>'sex'</li>\n",
       "</ol>\n"
      ],
      "text/latex": [
       "\\begin{enumerate*}\n",
       "\\item 'age'\n",
       "\\item 'salary'\n",
       "\\item 'specialSalary'\n",
       "\\item 'workingTime'\n",
       "\\item 'numberOfWorker'\n",
       "\\item 'career'\n",
       "\\item 'sex'\n",
       "\\end{enumerate*}\n"
      ],
      "text/markdown": [
       "1. 'age'\n",
       "2. 'salary'\n",
       "3. 'specialSalary'\n",
       "4. 'workingTime'\n",
       "5. 'numberOfWorker'\n",
       "6. 'career'\n",
       "7. 'sex'\n",
       "\n",
       "\n"
      ],
      "text/plain": [
       "[1] \"age\"            \"salary\"         \"specialSalary\"  \"workingTime\"   \n",
       "[5] \"numberOfWorker\" \"career\"         \"sex\"           "
      ]
     },
     "metadata": {},
     "output_type": "display_data"
    }
   ],
   "source": [
    "colnames(df)"
   ]
  },
  {
   "cell_type": "code",
   "execution_count": 22,
   "metadata": {},
   "outputs": [
    {
     "name": "stdout",
     "output_type": "stream",
     "text": [
      "'data.frame':\t100 obs. of  7 variables:\n",
      " $ age           : Factor w/ 10 levels \"-19\",\"20-24\",..: 1 2 3 4 5 6 7 8 9 10 ...\n",
      " $ salary        : num  1346534 1584214 1922043 2130988 2414345 ...\n",
      " $ specialSalary : num  151840 115375 268058 335710 352816 ...\n",
      " $ workingTime   : num  170 180 178 181 181 ...\n",
      " $ numberOfWorker: num  15042 74251 143338 103585 65385 ...\n",
      " $ career        : Factor w/ 5 levels \"1~3년미만\",\"10년이상\",..: 3 3 3 3 3 3 3 3 3 3 ...\n",
      " $ sex           : Factor w/ 2 levels \"남\",\"여\": 1 1 1 1 1 1 1 1 1 1 ...\n"
     ]
    }
   ],
   "source": [
    "str(df)"
   ]
  },
  {
   "cell_type": "code",
   "execution_count": 23,
   "metadata": {},
   "outputs": [
    {
     "data": {
      "text/html": [
       "2171577.83673469"
      ],
      "text/latex": [
       "2171577.83673469"
      ],
      "text/markdown": [
       "2171577.83673469"
      ],
      "text/plain": [
       "[1] 2171578"
      ]
     },
     "metadata": {},
     "output_type": "display_data"
    }
   ],
   "source": [
    "# 평균 월급 구하기\n",
    "Mean <- mean(df$salary, na.rm = T)\n",
    "Mean"
   ]
  },
  {
   "cell_type": "code",
   "execution_count": 24,
   "metadata": {},
   "outputs": [
    {
     "data": {
      "text/html": [
       "2120345"
      ],
      "text/latex": [
       "2120345"
      ],
      "text/markdown": [
       "2120345"
      ],
      "text/plain": [
       "[1] 2120345"
      ]
     },
     "metadata": {},
     "output_type": "display_data"
    }
   ],
   "source": [
    "# 아웃라이어 여향이 있는지 월 중앙값 계산\n",
    "Median  <- median(df$salary, na.rm = T)\n",
    "Median"
   ]
  },
  {
   "cell_type": "code",
   "execution_count": 25,
   "metadata": {},
   "outputs": [
    {
     "data": {
      "text/html": [
       "<ol class=list-inline>\n",
       "\t<li>1117605</li>\n",
       "\t<li>4064286</li>\n",
       "</ol>\n"
      ],
      "text/latex": [
       "\\begin{enumerate*}\n",
       "\\item 1117605\n",
       "\\item 4064286\n",
       "\\end{enumerate*}\n"
      ],
      "text/markdown": [
       "1. 1117605\n",
       "2. 4064286\n",
       "\n",
       "\n"
      ],
      "text/plain": [
       "[1] 1117605 4064286"
      ]
     },
     "metadata": {},
     "output_type": "display_data"
    }
   ],
   "source": [
    "# 범위 구하기\n",
    "Range <- range(df$salary, na.rm = T)\n",
    "Range"
   ]
  },
  {
   "cell_type": "code",
   "execution_count": 26,
   "metadata": {},
   "outputs": [
    {
     "data": {
      "text/html": [
       "48"
      ],
      "text/latex": [
       "48"
      ],
      "text/markdown": [
       "48"
      ],
      "text/plain": [
       "[1] 48"
      ]
     },
     "metadata": {},
     "output_type": "display_data"
    }
   ],
   "source": [
    "# 4064286 월급 연령대, 성별 , 경력 확인\n",
    "w <- which(df$salary == 4064286)\n",
    "w"
   ]
  },
  {
   "cell_type": "code",
   "execution_count": 27,
   "metadata": {},
   "outputs": [
    {
     "data": {
      "text/html": [
       "<table>\n",
       "<thead><tr><th></th><th scope=col>age</th><th scope=col>salary</th><th scope=col>specialSalary</th><th scope=col>workingTime</th><th scope=col>numberOfWorker</th><th scope=col>career</th><th scope=col>sex</th></tr></thead>\n",
       "<tbody>\n",
       "\t<tr><th scope=row>48</th><td>50-54   </td><td>4064286 </td><td>12716896</td><td>178.2   </td><td>439450  </td><td>10년이상</td><td>남      </td></tr>\n",
       "</tbody>\n",
       "</table>\n"
      ],
      "text/latex": [
       "\\begin{tabular}{r|lllllll}\n",
       "  & age & salary & specialSalary & workingTime & numberOfWorker & career & sex\\\\\n",
       "\\hline\n",
       "\t48 & 50-54    & 4064286  & 12716896 & 178.2    & 439450   & 10년이상 & 남      \\\\\n",
       "\\end{tabular}\n"
      ],
      "text/markdown": [
       "\n",
       "| <!--/--> | age | salary | specialSalary | workingTime | numberOfWorker | career | sex |\n",
       "|---|---|---|---|---|---|---|---|\n",
       "| 48 | 50-54    | 4064286  | 12716896 | 178.2    | 439450   | 10년이상 | 남       |\n",
       "\n"
      ],
      "text/plain": [
       "   age   salary  specialSalary workingTime numberOfWorker career   sex\n",
       "48 50-54 4064286 12716896      178.2       439450         10년이상 남 "
      ]
     },
     "metadata": {},
     "output_type": "display_data"
    }
   ],
   "source": [
    "df[w,]"
   ]
  },
  {
   "cell_type": "code",
   "execution_count": 28,
   "metadata": {},
   "outputs": [
    {
     "data": {
      "text/html": [
       "<dl class=dl-horizontal>\n",
       "\t<dt>0%</dt>\n",
       "\t\t<dd>1117605</dd>\n",
       "\t<dt>25%</dt>\n",
       "\t\t<dd>1689658.25</dd>\n",
       "\t<dt>50%</dt>\n",
       "\t\t<dd>2120345</dd>\n",
       "\t<dt>75%</dt>\n",
       "\t\t<dd>2519221.25</dd>\n",
       "\t<dt>100%</dt>\n",
       "\t\t<dd>4064286</dd>\n",
       "</dl>\n"
      ],
      "text/latex": [
       "\\begin{description*}\n",
       "\\item[0\\textbackslash{}\\%] 1117605\n",
       "\\item[25\\textbackslash{}\\%] 1689658.25\n",
       "\\item[50\\textbackslash{}\\%] 2120345\n",
       "\\item[75\\textbackslash{}\\%] 2519221.25\n",
       "\\item[100\\textbackslash{}\\%] 4064286\n",
       "\\end{description*}\n"
      ],
      "text/markdown": [
       "0%\n",
       ":   111760525%\n",
       ":   1689658.2550%\n",
       ":   212034575%\n",
       ":   2519221.25100%\n",
       ":   4064286\n",
       "\n"
      ],
      "text/plain": [
       "     0%     25%     50%     75%    100% \n",
       "1117605 1689658 2120345 2519221 4064286 "
      ]
     },
     "metadata": {},
     "output_type": "display_data"
    }
   ],
   "source": [
    "# 4분위 \n",
    "Quantile <- quantile(df$salary, na.rm = T)\n",
    "Quantile"
   ]
  },
  {
   "cell_type": "code",
   "execution_count": 29,
   "metadata": {},
   "outputs": [
    {
     "data": {
      "text/html": [
       "<dl>\n",
       "\t<dt>$평균</dt>\n",
       "\t\t<dd>2171577.83673469</dd>\n",
       "\t<dt>$중앙값</dt>\n",
       "\t\t<dd>2120345</dd>\n",
       "\t<dt>$범위</dt>\n",
       "\t\t<dd><ol class=list-inline>\n",
       "\t<li>1117605</li>\n",
       "\t<li>4064286</li>\n",
       "</ol>\n",
       "</dd>\n",
       "\t<dt>$사분위</dt>\n",
       "\t\t<dd><dl class=dl-horizontal>\n",
       "\t<dt>0%</dt>\n",
       "\t\t<dd>1117605</dd>\n",
       "\t<dt>25%</dt>\n",
       "\t\t<dd>1689658.25</dd>\n",
       "\t<dt>50%</dt>\n",
       "\t\t<dd>2120345</dd>\n",
       "\t<dt>75%</dt>\n",
       "\t\t<dd>2519221.25</dd>\n",
       "\t<dt>100%</dt>\n",
       "\t\t<dd>4064286</dd>\n",
       "</dl>\n",
       "</dd>\n",
       "</dl>\n"
      ],
      "text/latex": [
       "\\begin{description}\n",
       "\\item[\\$평균] 2171577.83673469\n",
       "\\item[\\$중앙값] 2120345\n",
       "\\item[\\$범위] \\begin{enumerate*}\n",
       "\\item 1117605\n",
       "\\item 4064286\n",
       "\\end{enumerate*}\n",
       "\n",
       "\\item[\\$사분위] \\begin{description*}\n",
       "\\item[0\\textbackslash{}\\%] 1117605\n",
       "\\item[25\\textbackslash{}\\%] 1689658.25\n",
       "\\item[50\\textbackslash{}\\%] 2120345\n",
       "\\item[75\\textbackslash{}\\%] 2519221.25\n",
       "\\item[100\\textbackslash{}\\%] 4064286\n",
       "\\end{description*}\n",
       "\n",
       "\\end{description}\n"
      ],
      "text/markdown": [
       "$평균\n",
       ":   2171577.83673469\n",
       "$중앙값\n",
       ":   2120345\n",
       "$범위\n",
       ":   1. 1117605\n",
       "2. 4064286\n",
       "\n",
       "\n",
       "\n",
       "$사분위\n",
       ":   0%\n",
       ":   111760525%\n",
       ":   1689658.2550%\n",
       ":   212034575%\n",
       ":   2519221.25100%\n",
       ":   4064286\n",
       "\n",
       "\n",
       "\n",
       "\n"
      ],
      "text/plain": [
       "$평균\n",
       "[1] 2171578\n",
       "\n",
       "$중앙값\n",
       "[1] 2120345\n",
       "\n",
       "$범위\n",
       "[1] 1117605 4064286\n",
       "\n",
       "$사분위\n",
       "     0%     25%     50%     75%    100% \n",
       "1117605 1689658 2120345 2519221 4064286 \n"
      ]
     },
     "metadata": {},
     "output_type": "display_data"
    }
   ],
   "source": [
    "# 리스트에 데이터 담기\n",
    "Salary <- list(평균=Mean, 중앙값=Median, 범위=Range, 사분위=Quantile)\n",
    "Salary"
   ]
  },
  {
   "cell_type": "markdown",
   "metadata": {},
   "source": [
    "### 그룹별 평균구하기"
   ]
  },
  {
   "cell_type": "code",
   "execution_count": 30,
   "metadata": {},
   "outputs": [
    {
     "data": {
      "text/html": [
       "<table>\n",
       "<thead><tr><th scope=col>age</th><th scope=col>salary</th><th scope=col>specialSalary</th><th scope=col>workingTime</th><th scope=col>numberOfWorker</th><th scope=col>career</th><th scope=col>sex</th></tr></thead>\n",
       "<tbody>\n",
       "\t<tr><td>-19    </td><td>1346534</td><td>151840 </td><td>169.5  </td><td> 15042 </td><td>1년미만</td><td>남     </td></tr>\n",
       "\t<tr><td>20-24  </td><td>1584214</td><td>115375 </td><td>180.1  </td><td> 74251 </td><td>1년미만</td><td>남     </td></tr>\n",
       "\t<tr><td>25-29  </td><td>1922043</td><td>268058 </td><td>178.0  </td><td>143338 </td><td>1년미만</td><td>남     </td></tr>\n",
       "\t<tr><td>30-34  </td><td>2130988</td><td>335710 </td><td>180.8  </td><td>103585 </td><td>1년미만</td><td>남     </td></tr>\n",
       "\t<tr><td>35-39  </td><td>2414345</td><td>352816 </td><td>181.4  </td><td> 65385 </td><td>1년미만</td><td>남     </td></tr>\n",
       "\t<tr><td>40-44  </td><td>2372214</td><td>233728 </td><td>182.9  </td><td> 55422 </td><td>1년미만</td><td>남     </td></tr>\n",
       "</tbody>\n",
       "</table>\n"
      ],
      "text/latex": [
       "\\begin{tabular}{r|lllllll}\n",
       " age & salary & specialSalary & workingTime & numberOfWorker & career & sex\\\\\n",
       "\\hline\n",
       "\t -19     & 1346534 & 151840  & 169.5   &  15042  & 1년미만 & 남     \\\\\n",
       "\t 20-24   & 1584214 & 115375  & 180.1   &  74251  & 1년미만 & 남     \\\\\n",
       "\t 25-29   & 1922043 & 268058  & 178.0   & 143338  & 1년미만 & 남     \\\\\n",
       "\t 30-34   & 2130988 & 335710  & 180.8   & 103585  & 1년미만 & 남     \\\\\n",
       "\t 35-39   & 2414345 & 352816  & 181.4   &  65385  & 1년미만 & 남     \\\\\n",
       "\t 40-44   & 2372214 & 233728  & 182.9   &  55422  & 1년미만 & 남     \\\\\n",
       "\\end{tabular}\n"
      ],
      "text/markdown": [
       "\n",
       "| age | salary | specialSalary | workingTime | numberOfWorker | career | sex |\n",
       "|---|---|---|---|---|---|---|\n",
       "| -19     | 1346534 | 151840  | 169.5   |  15042  | 1년미만 | 남      |\n",
       "| 20-24   | 1584214 | 115375  | 180.1   |  74251  | 1년미만 | 남      |\n",
       "| 25-29   | 1922043 | 268058  | 178.0   | 143338  | 1년미만 | 남      |\n",
       "| 30-34   | 2130988 | 335710  | 180.8   | 103585  | 1년미만 | 남      |\n",
       "| 35-39   | 2414345 | 352816  | 181.4   |  65385  | 1년미만 | 남      |\n",
       "| 40-44   | 2372214 | 233728  | 182.9   |  55422  | 1년미만 | 남      |\n",
       "\n"
      ],
      "text/plain": [
       "  age   salary  specialSalary workingTime numberOfWorker career  sex\n",
       "1 -19   1346534 151840        169.5        15042         1년미만 남 \n",
       "2 20-24 1584214 115375        180.1        74251         1년미만 남 \n",
       "3 25-29 1922043 268058        178.0       143338         1년미만 남 \n",
       "4 30-34 2130988 335710        180.8       103585         1년미만 남 \n",
       "5 35-39 2414345 352816        181.4        65385         1년미만 남 \n",
       "6 40-44 2372214 233728        182.9        55422         1년미만 남 "
      ]
     },
     "metadata": {},
     "output_type": "display_data"
    }
   ],
   "source": [
    "head(df)"
   ]
  },
  {
   "cell_type": "code",
   "execution_count": 31,
   "metadata": {},
   "outputs": [
    {
     "data": {
      "text/html": [
       "<dl class=dl-horizontal>\n",
       "\t<dt>남</dt>\n",
       "\t\t<dd>2477332.3877551</dd>\n",
       "\t<dt>여</dt>\n",
       "\t\t<dd>1865823.28571429</dd>\n",
       "</dl>\n"
      ],
      "text/latex": [
       "\\begin{description*}\n",
       "\\item[남] 2477332.3877551\n",
       "\\item[여] 1865823.28571429\n",
       "\\end{description*}\n"
      ],
      "text/markdown": [
       "남\n",
       ":   2477332.3877551여\n",
       ":   1865823.28571429\n",
       "\n"
      ],
      "text/plain": [
       "     남      여 \n",
       "2477332 1865823 "
      ]
     },
     "metadata": {},
     "output_type": "display_data"
    }
   ],
   "source": [
    "# 성별 평균월급 - tapply() : gropu by\n",
    "temp <- tapply(df$salary, df$sex, mean, na.rm = T)\n",
    "temp"
   ]
  },
  {
   "cell_type": "code",
   "execution_count": 32,
   "metadata": {},
   "outputs": [],
   "source": [
    "library(\"reshape2\")\n",
    "library('ggplot2')"
   ]
  },
  {
   "cell_type": "code",
   "execution_count": 33,
   "metadata": {},
   "outputs": [
    {
     "data": {
      "text/html": [
       "<table>\n",
       "<thead><tr><th scope=col>Var1</th><th scope=col>value</th></tr></thead>\n",
       "<tbody>\n",
       "\t<tr><td>남     </td><td>2477332</td></tr>\n",
       "\t<tr><td>여     </td><td>1865823</td></tr>\n",
       "</tbody>\n",
       "</table>\n"
      ],
      "text/latex": [
       "\\begin{tabular}{r|ll}\n",
       " Var1 & value\\\\\n",
       "\\hline\n",
       "\t 남      & 2477332\\\\\n",
       "\t 여      & 1865823\\\\\n",
       "\\end{tabular}\n"
      ],
      "text/markdown": [
       "\n",
       "| Var1 | value |\n",
       "|---|---|\n",
       "| 남      | 2477332 |\n",
       "| 여      | 1865823 |\n",
       "\n"
      ],
      "text/plain": [
       "  Var1 value  \n",
       "1 남   2477332\n",
       "2 여   1865823"
      ]
     },
     "metadata": {},
     "output_type": "display_data"
    }
   ],
   "source": [
    "melt <- melt(temp)\n",
    "melt"
   ]
  },
  {
   "cell_type": "code",
   "execution_count": 34,
   "metadata": {},
   "outputs": [
    {
     "data": {
      "image/png": "[encoded data removed]",
      "text/plain": [
       "plot without title"
      ]
     },
     "metadata": {},
     "output_type": "display_data"
    }
   ],
   "source": [
    "ggplot(melt, aes(x=Var1, y=value, fill=Var1)) +\n",
    "geom_bar(stat=\"identity\")"
   ]
  },
  {
   "cell_type": "code",
   "execution_count": 35,
   "metadata": {},
   "outputs": [
    {
     "data": {
      "text/html": [
       "<dl class=dl-horizontal>\n",
       "\t<dt>남</dt>\n",
       "\t\t<dd>646470.66723018</dd>\n",
       "\t<dt>여</dt>\n",
       "\t\t<dd>468270.600001128</dd>\n",
       "</dl>\n"
      ],
      "text/latex": [
       "\\begin{description*}\n",
       "\\item[남] 646470.66723018\n",
       "\\item[여] 468270.600001128\n",
       "\\end{description*}\n"
      ],
      "text/markdown": [
       "남\n",
       ":   646470.66723018여\n",
       ":   468270.600001128\n",
       "\n"
      ],
      "text/plain": [
       "      남       여 \n",
       "646470.7 468270.6 "
      ]
     },
     "metadata": {},
     "output_type": "display_data"
    }
   ],
   "source": [
    "#표준편차 (sapply-1개의 변수, tapply-2개의 변수 (앞이 보고싶은 data))\n",
    "tapply(df$salary, df$sex, sd, na.rm=T)"
   ]
  },
  {
   "cell_type": "code",
   "execution_count": 36,
   "metadata": {},
   "outputs": [
    {
     "data": {
      "text/html": [
       "<dl>\n",
       "\t<dt>$남</dt>\n",
       "\t\t<dd><ol class=list-inline>\n",
       "\t<li>1346534</li>\n",
       "\t<li>4064286</li>\n",
       "</ol>\n",
       "</dd>\n",
       "\t<dt>$여</dt>\n",
       "\t\t<dd><ol class=list-inline>\n",
       "\t<li>1117605</li>\n",
       "\t<li>3002440</li>\n",
       "</ol>\n",
       "</dd>\n",
       "</dl>\n"
      ],
      "text/latex": [
       "\\begin{description}\n",
       "\\item[\\$남] \\begin{enumerate*}\n",
       "\\item 1346534\n",
       "\\item 4064286\n",
       "\\end{enumerate*}\n",
       "\n",
       "\\item[\\$여] \\begin{enumerate*}\n",
       "\\item 1117605\n",
       "\\item 3002440\n",
       "\\end{enumerate*}\n",
       "\n",
       "\\end{description}\n"
      ],
      "text/markdown": [
       "$남\n",
       ":   1. 1346534\n",
       "2. 4064286\n",
       "\n",
       "\n",
       "\n",
       "$여\n",
       ":   1. 1117605\n",
       "2. 3002440\n",
       "\n",
       "\n",
       "\n",
       "\n",
       "\n"
      ],
      "text/plain": [
       "$남\n",
       "[1] 1346534 4064286\n",
       "\n",
       "$여\n",
       "[1] 1117605 3002440\n"
      ]
     },
     "metadata": {},
     "output_type": "display_data"
    }
   ],
   "source": [
    "#범위\n",
    "tapply(df$salary,df$sex, range, na.rm=T)"
   ]
  },
  {
   "cell_type": "code",
   "execution_count": 37,
   "metadata": {},
   "outputs": [
    {
     "data": {
      "text/html": [
       "<dl class=dl-horizontal>\n",
       "\t<dt>1~3년미만</dt>\n",
       "\t\t<dd>1905011.9</dd>\n",
       "\t<dt>10년이상</dt>\n",
       "\t\t<dd>2907118.61111111</dd>\n",
       "\t<dt>1년미만</dt>\n",
       "\t\t<dd>1730835.35</dd>\n",
       "\t<dt>3~5년미만</dt>\n",
       "\t\t<dd>2028014.9</dd>\n",
       "\t<dt>5~10년미만</dt>\n",
       "\t\t<dd>2360462.5</dd>\n",
       "</dl>\n"
      ],
      "text/latex": [
       "\\begin{description*}\n",
       "\\item[1\\textbackslash{}textasciitilde\\{\\}3년미만] 1905011.9\n",
       "\\item[10년이상] 2907118.61111111\n",
       "\\item[1년미만] 1730835.35\n",
       "\\item[3\\textbackslash{}textasciitilde\\{\\}5년미만] 2028014.9\n",
       "\\item[5\\textbackslash{}textasciitilde\\{\\}10년미만] 2360462.5\n",
       "\\end{description*}\n"
      ],
      "text/markdown": [
       "1~3년미만\n",
       ":   1905011.910년이상\n",
       ":   2907118.611111111년미만\n",
       ":   1730835.353~5년미만\n",
       ":   2028014.95~10년미만\n",
       ":   2360462.5\n",
       "\n"
      ],
      "text/plain": [
       " 1~3년미만   10년이상    1년미만  3~5년미만 5~10년미만 \n",
       "   1905012    2907119    1730835    2028015    2360463 "
      ]
     },
     "metadata": {},
     "output_type": "display_data"
    }
   ],
   "source": [
    "#경력별 평균월급\n",
    "temp <- tapply(df$salary,df$career, mean, na.rm=T)\n",
    "temp"
   ]
  },
  {
   "cell_type": "code",
   "execution_count": 38,
   "metadata": {},
   "outputs": [
    {
     "data": {
      "text/html": [
       "<table>\n",
       "<thead><tr><th scope=col>Var1</th><th scope=col>value</th></tr></thead>\n",
       "<tbody>\n",
       "\t<tr><td>1~3년미만 </td><td>1905012   </td></tr>\n",
       "\t<tr><td>10년이상  </td><td>2907119   </td></tr>\n",
       "\t<tr><td>1년미만   </td><td>1730835   </td></tr>\n",
       "\t<tr><td>3~5년미만 </td><td>2028015   </td></tr>\n",
       "\t<tr><td>5~10년미만</td><td>2360463   </td></tr>\n",
       "</tbody>\n",
       "</table>\n"
      ],
      "text/latex": [
       "\\begin{tabular}{r|ll}\n",
       " Var1 & value\\\\\n",
       "\\hline\n",
       "\t 1\\textasciitilde{}3년미만  & 1905012                    \\\\\n",
       "\t 10년이상   & 2907119   \\\\\n",
       "\t 1년미만    & 1730835   \\\\\n",
       "\t 3\\textasciitilde{}5년미만  & 2028015                    \\\\\n",
       "\t 5\\textasciitilde{}10년미만 & 2360463                    \\\\\n",
       "\\end{tabular}\n"
      ],
      "text/markdown": [
       "\n",
       "| Var1 | value |\n",
       "|---|---|\n",
       "| 1~3년미만  | 1905012    |\n",
       "| 10년이상   | 2907119    |\n",
       "| 1년미만    | 1730835    |\n",
       "| 3~5년미만  | 2028015    |\n",
       "| 5~10년미만 | 2360463    |\n",
       "\n"
      ],
      "text/plain": [
       "  Var1       value  \n",
       "1 1~3년미만  1905012\n",
       "2 10년이상   2907119\n",
       "3 1년미만    1730835\n",
       "4 3~5년미만  2028015\n",
       "5 5~10년미만 2360463"
      ]
     },
     "metadata": {},
     "output_type": "display_data"
    }
   ],
   "source": [
    "Melt <- melt(temp)\n",
    "Melt"
   ]
  },
  {
   "cell_type": "code",
   "execution_count": 44,
   "metadata": {},
   "outputs": [
    {
     "data": {
      "image/png": "[encoded data removed]",
      "text/plain": [
       "plot without title"
      ]
     },
     "metadata": {},
     "output_type": "display_data"
    }
   ],
   "source": [
    "ggplot(Melt, aes(x=Var1, y=value, group=1)) +\n",
    "geom_line(colour='skyblue2', size=2) +\n",
    "coord_polar() +\n",
    "ylim(0, max(melt$value))"
   ]
  },
  {
   "cell_type": "code",
   "execution_count": 45,
   "metadata": {},
   "outputs": [
    {
     "data": {
      "text/html": [
       "<dl class=dl-horizontal>\n",
       "\t<dt>1~3년미만</dt>\n",
       "\t\t<dd>421332.817832436</dd>\n",
       "\t<dt>10년이상</dt>\n",
       "\t\t<dd>690976.727993927</dd>\n",
       "\t<dt>1년미만</dt>\n",
       "\t\t<dd>408110.437480279</dd>\n",
       "\t<dt>3~5년미만</dt>\n",
       "\t\t<dd>460790.871315817</dd>\n",
       "\t<dt>5~10년미만</dt>\n",
       "\t\t<dd>507244.739786116</dd>\n",
       "</dl>\n"
      ],
      "text/latex": [
       "\\begin{description*}\n",
       "\\item[1\\textbackslash{}textasciitilde\\{\\}3년미만] 421332.817832436\n",
       "\\item[10년이상] 690976.727993927\n",
       "\\item[1년미만] 408110.437480279\n",
       "\\item[3\\textbackslash{}textasciitilde\\{\\}5년미만] 460790.871315817\n",
       "\\item[5\\textbackslash{}textasciitilde\\{\\}10년미만] 507244.739786116\n",
       "\\end{description*}\n"
      ],
      "text/markdown": [
       "1~3년미만\n",
       ":   421332.81783243610년이상\n",
       ":   690976.7279939271년미만\n",
       ":   408110.4374802793~5년미만\n",
       ":   460790.8713158175~10년미만\n",
       ":   507244.739786116\n",
       "\n"
      ],
      "text/plain": [
       " 1~3년미만   10년이상    1년미만  3~5년미만 5~10년미만 \n",
       "  421332.8   690976.7   408110.4   460790.9   507244.7 "
      ]
     },
     "metadata": {},
     "output_type": "display_data"
    }
   ],
   "source": [
    "#표준편차\n",
    "tapply(df$salary, df$career, sd, na.rm=T)"
   ]
  },
  {
   "cell_type": "code",
   "execution_count": 46,
   "metadata": {},
   "outputs": [
    {
     "data": {
      "text/html": [
       "<dl>\n",
       "\t<dt>$`1~3년미만`</dt>\n",
       "\t\t<dd><ol class=list-inline>\n",
       "\t<li>1172399</li>\n",
       "\t<li>2619221</li>\n",
       "</ol>\n",
       "</dd>\n",
       "\t<dt>$`10년이상`</dt>\n",
       "\t\t<dd><ol class=list-inline>\n",
       "\t<li>1685204</li>\n",
       "\t<li>4064286</li>\n",
       "</ol>\n",
       "</dd>\n",
       "\t<dt>$`1년미만`</dt>\n",
       "\t\t<dd><ol class=list-inline>\n",
       "\t<li>1117605</li>\n",
       "\t<li>2414345</li>\n",
       "</ol>\n",
       "</dd>\n",
       "\t<dt>$`3~5년미만`</dt>\n",
       "\t\t<dd><ol class=list-inline>\n",
       "\t<li>1245540</li>\n",
       "\t<li>2827420</li>\n",
       "</ol>\n",
       "</dd>\n",
       "\t<dt>$`5~10년미만`</dt>\n",
       "\t\t<dd><ol class=list-inline>\n",
       "\t<li>1548036</li>\n",
       "\t<li>3309231</li>\n",
       "</ol>\n",
       "</dd>\n",
       "</dl>\n"
      ],
      "text/latex": [
       "\\begin{description}\n",
       "\\item[\\$`1\\textasciitilde{}3년미만`] \\begin{enumerate*}\n",
       "\\item 1172399\n",
       "\\item 2619221\n",
       "\\end{enumerate*}\n",
       "\n",
       "\\item[\\$`10년이상`] \\begin{enumerate*}\n",
       "\\item 1685204\n",
       "\\item 4064286\n",
       "\\end{enumerate*}\n",
       "\n",
       "\\item[\\$`1년미만`] \\begin{enumerate*}\n",
       "\\item 1117605\n",
       "\\item 2414345\n",
       "\\end{enumerate*}\n",
       "\n",
       "\\item[\\$`3\\textasciitilde{}5년미만`] \\begin{enumerate*}\n",
       "\\item 1245540\n",
       "\\item 2827420\n",
       "\\end{enumerate*}\n",
       "\n",
       "\\item[\\$`5\\textasciitilde{}10년미만`] \\begin{enumerate*}\n",
       "\\item 1548036\n",
       "\\item 3309231\n",
       "\\end{enumerate*}\n",
       "\n",
       "\\end{description}\n"
      ],
      "text/markdown": [
       "$`1~3년미만`\n",
       ":   1. 1172399\n",
       "2. 2619221\n",
       "\n",
       "\n",
       "\n",
       "$`10년이상`\n",
       ":   1. 1685204\n",
       "2. 4064286\n",
       "\n",
       "\n",
       "\n",
       "$`1년미만`\n",
       ":   1. 1117605\n",
       "2. 2414345\n",
       "\n",
       "\n",
       "\n",
       "$`3~5년미만`\n",
       ":   1. 1245540\n",
       "2. 2827420\n",
       "\n",
       "\n",
       "\n",
       "$`5~10년미만`\n",
       ":   1. 1548036\n",
       "2. 3309231\n",
       "\n",
       "\n",
       "\n",
       "\n",
       "\n"
      ],
      "text/plain": [
       "$`1~3년미만`\n",
       "[1] 1172399 2619221\n",
       "\n",
       "$`10년이상`\n",
       "[1] 1685204 4064286\n",
       "\n",
       "$`1년미만`\n",
       "[1] 1117605 2414345\n",
       "\n",
       "$`3~5년미만`\n",
       "[1] 1245540 2827420\n",
       "\n",
       "$`5~10년미만`\n",
       "[1] 1548036 3309231\n"
      ]
     },
     "metadata": {},
     "output_type": "display_data"
    }
   ],
   "source": [
    "#범위\n",
    "tapply(df$salary,df$career, range, na.rm=T)"
   ]
  },
  {
   "cell_type": "code",
   "execution_count": 51,
   "metadata": {},
   "outputs": [
    {
     "data": {
      "text/html": [
       "70"
      ],
      "text/latex": [
       "70"
      ],
      "text/markdown": [
       "70"
      ],
      "text/plain": [
       "[1] 70"
      ]
     },
     "metadata": {},
     "output_type": "display_data"
    },
    {
     "data": {
      "text/html": [
       "<table>\n",
       "<thead><tr><th></th><th scope=col>age</th><th scope=col>salary</th><th scope=col>specialSalary</th><th scope=col>workingTime</th><th scope=col>numberOfWorker</th><th scope=col>career</th><th scope=col>sex</th></tr></thead>\n",
       "<tbody>\n",
       "\t<tr><th scope=row>70</th><td>60-      </td><td>1172399  </td><td>299639   </td><td>151.2    </td><td>30253    </td><td>1~3년미만</td><td>여       </td></tr>\n",
       "</tbody>\n",
       "</table>\n"
      ],
      "text/latex": [
       "\\begin{tabular}{r|lllllll}\n",
       "  & age & salary & specialSalary & workingTime & numberOfWorker & career & sex\\\\\n",
       "\\hline\n",
       "\t70 & 60-                        & 1172399                    & 299639                     & 151.2                      & 30253                      & 1\\textasciitilde{}3년미만 & 여                        \\\\\n",
       "\\end{tabular}\n"
      ],
      "text/markdown": [
       "\n",
       "| <!--/--> | age | salary | specialSalary | workingTime | numberOfWorker | career | sex |\n",
       "|---|---|---|---|---|---|---|---|\n",
       "| 70 | 60-       | 1172399   | 299639    | 151.2     | 30253     | 1~3년미만 | 여        |\n",
       "\n"
      ],
      "text/plain": [
       "   age salary  specialSalary workingTime numberOfWorker career    sex\n",
       "70 60- 1172399 299639        151.2       30253          1~3년미만 여 "
      ]
     },
     "metadata": {},
     "output_type": "display_data"
    }
   ],
   "source": [
    "#경력별 가장 월급이 작은 그룹\n",
    "w <- which(df$salary=='1172399')\n",
    "w\n",
    "a1  <- df[w,]\n",
    "a1"
   ]
  },
  {
   "cell_type": "code",
   "execution_count": 53,
   "metadata": {},
   "outputs": [
    {
     "data": {
      "text/html": [
       "92"
      ],
      "text/latex": [
       "92"
      ],
      "text/markdown": [
       "92"
      ],
      "text/plain": [
       "[1] 92"
      ]
     },
     "metadata": {},
     "output_type": "display_data"
    },
    {
     "data": {
      "text/html": [
       "<table>\n",
       "<thead><tr><th></th><th scope=col>age</th><th scope=col>salary</th><th scope=col>specialSalary</th><th scope=col>workingTime</th><th scope=col>numberOfWorker</th><th scope=col>career</th><th scope=col>sex</th></tr></thead>\n",
       "<tbody>\n",
       "\t<tr><th scope=row>92</th><td>20-24   </td><td>1685204 </td><td>1970720 </td><td>179.4   </td><td>1886    </td><td>10년이상</td><td>여      </td></tr>\n",
       "</tbody>\n",
       "</table>\n"
      ],
      "text/latex": [
       "\\begin{tabular}{r|lllllll}\n",
       "  & age & salary & specialSalary & workingTime & numberOfWorker & career & sex\\\\\n",
       "\\hline\n",
       "\t92 & 20-24    & 1685204  & 1970720  & 179.4    & 1886     & 10년이상 & 여      \\\\\n",
       "\\end{tabular}\n"
      ],
      "text/markdown": [
       "\n",
       "| <!--/--> | age | salary | specialSalary | workingTime | numberOfWorker | career | sex |\n",
       "|---|---|---|---|---|---|---|---|\n",
       "| 92 | 20-24    | 1685204  | 1970720  | 179.4    | 1886     | 10년이상 | 여       |\n",
       "\n"
      ],
      "text/plain": [
       "   age   salary  specialSalary workingTime numberOfWorker career   sex\n",
       "92 20-24 1685204 1970720       179.4       1886           10년이상 여 "
      ]
     },
     "metadata": {},
     "output_type": "display_data"
    }
   ],
   "source": [
    "#10이상에서 월급이 가장 작은사람\n",
    "w <- which(df$salary=='1685204')\n",
    "w\n",
    "a2  <- df[w,]\n",
    "a2"
   ]
  },
  {
   "cell_type": "markdown",
   "metadata": {},
   "source": [
    "### 아웃라이어 찾기와 제거하기"
   ]
  },
  {
   "cell_type": "code",
   "execution_count": 54,
   "metadata": {},
   "outputs": [],
   "source": [
    "df <- read.csv('r-ggagi-data/example_cancer.csv',stringsAsFactors = F,na='기록없음')"
   ]
  },
  {
   "cell_type": "code",
   "execution_count": 55,
   "metadata": {},
   "outputs": [
    {
     "name": "stdout",
     "output_type": "stream",
     "text": [
      "'data.frame':\t18310 obs. of  8 variables:\n",
      " $ age            : int  75 52 67 62 70 76 55 72 64 71 ...\n",
      " $ sex            : chr  \"남\" \"여\" \"여\" \"남\" ...\n",
      " $ height         : num  161 177 154 162 171 ...\n",
      " $ weight         : num  64 75.3 65.6 57 65 87 77 55 67 55.5 ...\n",
      " $ dateOfoperation: chr  \"2011-06-22\" \"2011-05-19\" \"2011-05-31\" \"2011-06-21\" ...\n",
      " $ cancerStaging  : chr  \"I\" \"IV\" \"III\" \"I\" ...\n",
      " $ hospitalization: int  48 17 10 11 10 10 12 18 15 35 ...\n",
      " $ diseaseCode    : chr  \"C187\" \"C187\" \"C187\" \"C187\" ...\n"
     ]
    }
   ],
   "source": [
    "str(df)"
   ]
  },
  {
   "cell_type": "code",
   "execution_count": 56,
   "metadata": {},
   "outputs": [
    {
     "data": {
      "text/html": [
       "63.5079191698525"
      ],
      "text/latex": [
       "63.5079191698525"
      ],
      "text/markdown": [
       "63.5079191698525"
      ],
      "text/plain": [
       "[1] 63.50792"
      ]
     },
     "metadata": {},
     "output_type": "display_data"
    }
   ],
   "source": [
    "#대장암에 걸리는 평균나이\n",
    "mean(df$age)"
   ]
  },
  {
   "cell_type": "code",
   "execution_count": 57,
   "metadata": {},
   "outputs": [
    {
     "data": {
      "text/plain": [
       "   Min. 1st Qu.  Median    Mean 3rd Qu.    Max. \n",
       "  18.00   55.00   64.00   63.51   72.00  102.00 "
      ]
     },
     "metadata": {},
     "output_type": "display_data"
    }
   ],
   "source": [
    "summary(df$age)"
   ]
  },
  {
   "cell_type": "code",
   "execution_count": 58,
   "metadata": {},
   "outputs": [
    {
     "data": {
      "image/png": "[encoded data removed]",
      "text/plain": [
       "plot without title"
      ]
     },
     "metadata": {},
     "output_type": "display_data"
    }
   ],
   "source": [
    "boxplot(df$age)"
   ]
  },
  {
   "cell_type": "code",
   "execution_count": 59,
   "metadata": {},
   "outputs": [
    {
     "data": {
      "text/html": [
       "17"
      ],
      "text/latex": [
       "17"
      ],
      "text/markdown": [
       "17"
      ],
      "text/plain": [
       "[1] 17"
      ]
     },
     "metadata": {},
     "output_type": "display_data"
    }
   ],
   "source": [
    "#IQR(interQurtiles Range) *1.5 = 아웃라이어(이상치)\n",
    "dist_iqr <- IQR(df$age,na.rm = T)\n",
    "dist_iqr"
   ]
  },
  {
   "cell_type": "code",
   "execution_count": 62,
   "metadata": {},
   "outputs": [
    {
     "data": {
      "text/html": [
       "<dl class=dl-horizontal>\n",
       "\t<dt>25%</dt>\n",
       "\t\t<dd>55</dd>\n",
       "\t<dt>75%</dt>\n",
       "\t\t<dd>72</dd>\n",
       "</dl>\n"
      ],
      "text/latex": [
       "\\begin{description*}\n",
       "\\item[25\\textbackslash{}\\%] 55\n",
       "\\item[75\\textbackslash{}\\%] 72\n",
       "\\end{description*}\n"
      ],
      "text/markdown": [
       "25%\n",
       ":   5575%\n",
       ":   72\n",
       "\n"
      ],
      "text/plain": [
       "25% 75% \n",
       " 55  72 "
      ]
     },
     "metadata": {},
     "output_type": "display_data"
    }
   ],
   "source": [
    "# IQR 위치\n",
    "post_iqr <- quantile(df$age, probs=c(0.25, 0.75))\n",
    "post_iqr"
   ]
  },
  {
   "cell_type": "code",
   "execution_count": 64,
   "metadata": {},
   "outputs": [
    {
     "data": {
      "text/html": [
       "29.5"
      ],
      "text/latex": [
       "29.5"
      ],
      "text/markdown": [
       "29.5"
      ],
      "text/plain": [
       "[1] 29.5"
      ]
     },
     "metadata": {},
     "output_type": "display_data"
    },
    {
     "data": {
      "text/html": [
       "97.5"
      ],
      "text/latex": [
       "97.5"
      ],
      "text/markdown": [
       "97.5"
      ],
      "text/plain": [
       "[1] 97.5"
      ]
     },
     "metadata": {},
     "output_type": "display_data"
    }
   ],
   "source": [
    "down_whisker <- post_iqr[[1]] - dist_iqr*1.5\n",
    "up_whisker <- post_iqr[[2]] + dist_iqr*1.5\n",
    "down_whisker\n",
    "up_whisker"
   ]
  },
  {
   "cell_type": "code",
   "execution_count": 66,
   "metadata": {},
   "outputs": [
    {
     "data": {
      "text/html": [
       "<table>\n",
       "<thead><tr><th></th><th scope=col>age</th><th scope=col>sex</th><th scope=col>height</th><th scope=col>weight</th><th scope=col>dateOfoperation</th><th scope=col>cancerStaging</th><th scope=col>hospitalization</th><th scope=col>diseaseCode</th></tr></thead>\n",
       "<tbody>\n",
       "\t<tr><th scope=row>426</th><td>29        </td><td>남        </td><td>162.0     </td><td>70.6      </td><td>2011-05-17</td><td>II        </td><td>24        </td><td>C184      </td></tr>\n",
       "\t<tr><th scope=row>531</th><td>28        </td><td>남        </td><td>151.4     </td><td>44.9      </td><td>2011-08-02</td><td>I         </td><td> 8        </td><td>C187      </td></tr>\n",
       "\t<tr><th scope=row>902</th><td>29        </td><td>남        </td><td>165.8     </td><td>57.3      </td><td>2011-09-06</td><td>II        </td><td> 9        </td><td>C187      </td></tr>\n",
       "\t<tr><th scope=row>1042</th><td>25        </td><td>여        </td><td>176.9     </td><td>73.6      </td><td>2011-11-10</td><td>II        </td><td>10        </td><td>C184      </td></tr>\n",
       "\t<tr><th scope=row>1299</th><td>24        </td><td>남        </td><td>161.0     </td><td>64.1      </td><td>2011-08-05</td><td>IV        </td><td>19        </td><td>C187      </td></tr>\n",
       "\t<tr><th scope=row>1783</th><td>28        </td><td>여        </td><td>154.0     </td><td>61.0      </td><td>2011-05-27</td><td>IV        </td><td> 7        </td><td>C188      </td></tr>\n",
       "</tbody>\n",
       "</table>\n"
      ],
      "text/latex": [
       "\\begin{tabular}{r|llllllll}\n",
       "  & age & sex & height & weight & dateOfoperation & cancerStaging & hospitalization & diseaseCode\\\\\n",
       "\\hline\n",
       "\t426 & 29         & 남         & 162.0      & 70.6       & 2011-05-17 & II         & 24         & C184      \\\\\n",
       "\t531 & 28         & 남         & 151.4      & 44.9       & 2011-08-02 & I          &  8         & C187      \\\\\n",
       "\t902 & 29         & 남         & 165.8      & 57.3       & 2011-09-06 & II         &  9         & C187      \\\\\n",
       "\t1042 & 25         & 여         & 176.9      & 73.6       & 2011-11-10 & II         & 10         & C184      \\\\\n",
       "\t1299 & 24         & 남         & 161.0      & 64.1       & 2011-08-05 & IV         & 19         & C187      \\\\\n",
       "\t1783 & 28         & 여         & 154.0      & 61.0       & 2011-05-27 & IV         &  7         & C188      \\\\\n",
       "\\end{tabular}\n"
      ],
      "text/markdown": [
       "\n",
       "| <!--/--> | age | sex | height | weight | dateOfoperation | cancerStaging | hospitalization | diseaseCode |\n",
       "|---|---|---|---|---|---|---|---|---|\n",
       "| 426 | 29         | 남         | 162.0      | 70.6       | 2011-05-17 | II         | 24         | C184       |\n",
       "| 531 | 28         | 남         | 151.4      | 44.9       | 2011-08-02 | I          |  8         | C187       |\n",
       "| 902 | 29         | 남         | 165.8      | 57.3       | 2011-09-06 | II         |  9         | C187       |\n",
       "| 1042 | 25         | 여         | 176.9      | 73.6       | 2011-11-10 | II         | 10         | C184       |\n",
       "| 1299 | 24         | 남         | 161.0      | 64.1       | 2011-08-05 | IV         | 19         | C187       |\n",
       "| 1783 | 28         | 여         | 154.0      | 61.0       | 2011-05-27 | IV         |  7         | C188       |\n",
       "\n"
      ],
      "text/plain": [
       "     age sex height weight dateOfoperation cancerStaging hospitalization\n",
       "426  29  남  162.0  70.6   2011-05-17      II            24             \n",
       "531  28  남  151.4  44.9   2011-08-02      I              8             \n",
       "902  29  남  165.8  57.3   2011-09-06      II             9             \n",
       "1042 25  여  176.9  73.6   2011-11-10      II            10             \n",
       "1299 24  남  161.0  64.1   2011-08-05      IV            19             \n",
       "1783 28  여  154.0  61.0   2011-05-27      IV             7             \n",
       "     diseaseCode\n",
       "426  C184       \n",
       "531  C187       \n",
       "902  C187       \n",
       "1042 C184       \n",
       "1299 C187       \n",
       "1783 C188       "
      ]
     },
     "metadata": {},
     "output_type": "display_data"
    }
   ],
   "source": [
    "outlier <- subset(df,\n",
    "                  subset = (df$age < down_whisker)|(df$age > up_whisker))\n",
    "head(outlier)"
   ]
  },
  {
   "cell_type": "markdown",
   "metadata": {},
   "source": [
    "### 평균값을 표준화하여 그래프 한 눈에 보기"
   ]
  },
  {
   "cell_type": "code",
   "execution_count": 67,
   "metadata": {},
   "outputs": [],
   "source": [
    "df <- read.csv('r-ggagi-data/example_salary.csv',stringsAsFactors = F, na='-')"
   ]
  },
  {
   "cell_type": "code",
   "execution_count": 68,
   "metadata": {},
   "outputs": [
    {
     "data": {
      "text/html": [
       "<ol class=list-inline>\n",
       "\t<li>'연령'</li>\n",
       "\t<li>'월급여액..원.'</li>\n",
       "\t<li>'연간특별급여액..원.'</li>\n",
       "\t<li>'근로시간..시간.'</li>\n",
       "\t<li>'근로자수..명.'</li>\n",
       "\t<li>'경력구분'</li>\n",
       "\t<li>'성별'</li>\n",
       "</ol>\n"
      ],
      "text/latex": [
       "\\begin{enumerate*}\n",
       "\\item '연령'\n",
       "\\item '월급여액..원.'\n",
       "\\item '연간특별급여액..원.'\n",
       "\\item '근로시간..시간.'\n",
       "\\item '근로자수..명.'\n",
       "\\item '경력구분'\n",
       "\\item '성별'\n",
       "\\end{enumerate*}\n"
      ],
      "text/markdown": [
       "1. '연령'\n",
       "2. '월급여액..원.'\n",
       "3. '연간특별급여액..원.'\n",
       "4. '근로시간..시간.'\n",
       "5. '근로자수..명.'\n",
       "6. '경력구분'\n",
       "7. '성별'\n",
       "\n",
       "\n"
      ],
      "text/plain": [
       "[1] \"연령\"                \"월급여액..원.\"       \"연간특별급여액..원.\"\n",
       "[4] \"근로시간..시간.\"     \"근로자수..명.\"       \"경력구분\"           \n",
       "[7] \"성별\"               "
      ]
     },
     "metadata": {},
     "output_type": "display_data"
    }
   ],
   "source": [
    "colnames(df)\n",
    "colnames(df) <- c('age','salary','sepcialSalary','workingTime','numberOfWorker','career','sex')"
   ]
  },
  {
   "cell_type": "code",
   "execution_count": 70,
   "metadata": {},
   "outputs": [],
   "source": [
    "#표준화\n",
    "salary_scale <- scale(df$salary)"
   ]
  },
  {
   "cell_type": "code",
   "execution_count": 71,
   "metadata": {},
   "outputs": [
    {
     "data": {
      "text/html": [
       "<table>\n",
       "<tbody>\n",
       "\t<tr><td>-1.28886999</td></tr>\n",
       "\t<tr><td>-0.91757018</td></tr>\n",
       "\t<tr><td>-0.38981924</td></tr>\n",
       "\t<tr><td>-0.06340878</td></tr>\n",
       "\t<tr><td> 0.37924689</td></tr>\n",
       "\t<tr><td> 0.31343053</td></tr>\n",
       "</tbody>\n",
       "</table>\n"
      ],
      "text/latex": [
       "\\begin{tabular}{l}\n",
       "\t -1.28886999\\\\\n",
       "\t -0.91757018\\\\\n",
       "\t -0.38981924\\\\\n",
       "\t -0.06340878\\\\\n",
       "\t  0.37924689\\\\\n",
       "\t  0.31343053\\\\\n",
       "\\end{tabular}\n"
      ],
      "text/markdown": [
       "\n",
       "| -1.28886999 |\n",
       "| -0.91757018 |\n",
       "| -0.38981924 |\n",
       "| -0.06340878 |\n",
       "|  0.37924689 |\n",
       "|  0.31343053 |\n",
       "\n"
      ],
      "text/plain": [
       "     [,1]       \n",
       "[1,] -1.28886999\n",
       "[2,] -0.91757018\n",
       "[3,] -0.38981924\n",
       "[4,] -0.06340878\n",
       "[5,]  0.37924689\n",
       "[6,]  0.31343053"
      ]
     },
     "metadata": {},
     "output_type": "display_data"
    }
   ],
   "source": [
    "head(salary_scale)"
   ]
  },
  {
   "cell_type": "code",
   "execution_count": 73,
   "metadata": {},
   "outputs": [
    {
     "data": {
      "text/html": [
       "<table>\n",
       "<thead><tr><th scope=col>age</th><th scope=col>salary</th><th scope=col>sepcialSalary</th><th scope=col>workingTime</th><th scope=col>numberOfWorker</th><th scope=col>career</th><th scope=col>sex</th><th scope=col>scale</th></tr></thead>\n",
       "<tbody>\n",
       "\t<tr><td>-19        </td><td>1346534    </td><td>151840     </td><td>169.5      </td><td> 15042     </td><td>1년미만    </td><td>남         </td><td>-1.28886999</td></tr>\n",
       "\t<tr><td>20-24      </td><td>1584214    </td><td>115375     </td><td>180.1      </td><td> 74251     </td><td>1년미만    </td><td>남         </td><td>-0.91757018</td></tr>\n",
       "\t<tr><td>25-29      </td><td>1922043    </td><td>268058     </td><td>178.0      </td><td>143338     </td><td>1년미만    </td><td>남         </td><td>-0.38981924</td></tr>\n",
       "\t<tr><td>30-34      </td><td>2130988    </td><td>335710     </td><td>180.8      </td><td>103585     </td><td>1년미만    </td><td>남         </td><td>-0.06340878</td></tr>\n",
       "\t<tr><td>35-39      </td><td>2414345    </td><td>352816     </td><td>181.4      </td><td> 65385     </td><td>1년미만    </td><td>남         </td><td> 0.37924689</td></tr>\n",
       "\t<tr><td>40-44      </td><td>2372214    </td><td>233728     </td><td>182.9      </td><td> 55422     </td><td>1년미만    </td><td>남         </td><td> 0.31343053</td></tr>\n",
       "</tbody>\n",
       "</table>\n"
      ],
      "text/latex": [
       "\\begin{tabular}{r|llllllll}\n",
       " age & salary & sepcialSalary & workingTime & numberOfWorker & career & sex & scale\\\\\n",
       "\\hline\n",
       "\t -19         & 1346534     & 151840      & 169.5       &  15042      & 1년미만     & 남          & -1.28886999\\\\\n",
       "\t 20-24       & 1584214     & 115375      & 180.1       &  74251      & 1년미만     & 남          & -0.91757018\\\\\n",
       "\t 25-29       & 1922043     & 268058      & 178.0       & 143338      & 1년미만     & 남          & -0.38981924\\\\\n",
       "\t 30-34       & 2130988     & 335710      & 180.8       & 103585      & 1년미만     & 남          & -0.06340878\\\\\n",
       "\t 35-39       & 2414345     & 352816      & 181.4       &  65385      & 1년미만     & 남          &  0.37924689\\\\\n",
       "\t 40-44       & 2372214     & 233728      & 182.9       &  55422      & 1년미만     & 남          &  0.31343053\\\\\n",
       "\\end{tabular}\n"
      ],
      "text/markdown": [
       "\n",
       "| age | salary | sepcialSalary | workingTime | numberOfWorker | career | sex | scale |\n",
       "|---|---|---|---|---|---|---|---|\n",
       "| -19         | 1346534     | 151840      | 169.5       |  15042      | 1년미만     | 남          | -1.28886999 |\n",
       "| 20-24       | 1584214     | 115375      | 180.1       |  74251      | 1년미만     | 남          | -0.91757018 |\n",
       "| 25-29       | 1922043     | 268058      | 178.0       | 143338      | 1년미만     | 남          | -0.38981924 |\n",
       "| 30-34       | 2130988     | 335710      | 180.8       | 103585      | 1년미만     | 남          | -0.06340878 |\n",
       "| 35-39       | 2414345     | 352816      | 181.4       |  65385      | 1년미만     | 남          |  0.37924689 |\n",
       "| 40-44       | 2372214     | 233728      | 182.9       |  55422      | 1년미만     | 남          |  0.31343053 |\n",
       "\n"
      ],
      "text/plain": [
       "  age   salary  sepcialSalary workingTime numberOfWorker career  sex\n",
       "1 -19   1346534 151840        169.5        15042         1년미만 남 \n",
       "2 20-24 1584214 115375        180.1        74251         1년미만 남 \n",
       "3 25-29 1922043 268058        178.0       143338         1년미만 남 \n",
       "4 30-34 2130988 335710        180.8       103585         1년미만 남 \n",
       "5 35-39 2414345 352816        181.4        65385         1년미만 남 \n",
       "6 40-44 2372214 233728        182.9        55422         1년미만 남 \n",
       "  scale      \n",
       "1 -1.28886999\n",
       "2 -0.91757018\n",
       "3 -0.38981924\n",
       "4 -0.06340878\n",
       "5  0.37924689\n",
       "6  0.31343053"
      ]
     },
     "metadata": {},
     "output_type": "display_data"
    }
   ],
   "source": [
    "df_scale <- cbind(df,scale=salary_scale)\n",
    "head(df_scale)"
   ]
  },
  {
   "cell_type": "code",
   "execution_count": 74,
   "metadata": {},
   "outputs": [
    {
     "name": "stderr",
     "output_type": "stream",
     "text": [
      "Warning message:\n",
      "\"Removed 2 rows containing missing values (geom_segment).\"Warning message:\n",
      "\"Removed 2 rows containing missing values (geom_point).\""
     ]
    },
    {
     "data": {
      "image/png": "[encoded data removed]",
      "text/plain": [
       "plot without title"
      ]
     },
     "metadata": {},
     "output_type": "display_data"
    }
   ],
   "source": [
    "#시각화\n",
    "g1 <- ggplot(df_scale, aes(x=scale, y=age))\n",
    "g2 <- geom_segment(aes(yend=age),xend=0)\n",
    "g3 <- geom_point(size=7,aes(colour=sex, shape=career))\n",
    "g1 + g2 + g3 + theme_minimal()"
   ]
  },
  {
   "cell_type": "code",
   "execution_count": null,
   "metadata": {},
   "outputs": [],
   "source": []
  }
 ],
 "metadata": {
  "kernelspec": {
   "display_name": "R",
   "language": "R",
   "name": "ir"
  },
  "language_info": {
   "codemirror_mode": "r",
   "file_extension": ".r",
   "mimetype": "text/x-r-source",
   "name": "R",
   "pygments_lexer": "r",
   "version": "3.6.1"
  }
 },
 "nbformat": 4,
 "nbformat_minor": 4
}
