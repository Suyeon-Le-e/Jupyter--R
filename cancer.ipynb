{
 "cells": [
  {
   "cell_type": "code",
   "execution_count": 1,
   "metadata": {},
   "outputs": [],
   "source": [
    "df <- read.csv('r-ggagi-data/example_cancer.csv')"
   ]
  },
  {
   "cell_type": "code",
   "execution_count": 2,
   "metadata": {},
   "outputs": [
    {
     "name": "stdout",
     "output_type": "stream",
     "text": [
      "'data.frame':\t18310 obs. of  8 variables:\n",
      " $ age            : int  75 52 67 62 70 76 55 72 64 71 ...\n",
      " $ sex            : Factor w/ 2 levels \"남\",\"여\": 1 2 2 1 1 2 1 1 1 1 ...\n",
      " $ height         : Factor w/ 485 levels \"100\",\"130\",\"130.2\",..: 252 408 182 262 352 352 467 165 172 232 ...\n",
      " $ weight         : Factor w/ 638 levels \"100\",\"101\",\"101.1\",..: 333 446 349 263 343 563 463 243 363 248 ...\n",
      " $ dateOfoperation: Factor w/ 351 levels \"2011-01-02\",\"2011-01-03\",..: 165 134 146 164 154 160 164 147 219 192 ...\n",
      " $ cancerStaging  : Factor w/ 5 levels \"I\",\"II\",\"III\",..: 1 4 3 1 2 3 2 3 1 2 ...\n",
      " $ hospitalization: int  48 17 10 11 10 10 12 18 15 35 ...\n",
      " $ diseaseCode    : Factor w/ 13 levels \"C18\",\"C180\",\"C181\",..: 9 9 9 9 4 11 9 4 13 11 ...\n"
     ]
    }
   ],
   "source": [
    "str(df)"
   ]
  },
  {
   "cell_type": "code",
   "execution_count": 3,
   "metadata": {},
   "outputs": [
    {
     "data": {
      "text/plain": [
       "\n",
       "   (0,10]   (10,20]   (20,30]   (30,40]   (40,50]   (50,60]   (60,70]   (70,80] \n",
       "        0         3        77       482      1917      4558      5679      4598 \n",
       "  (80,90]  (90,100] (100,110] \n",
       "      962        33         1 "
      ]
     },
     "metadata": {},
     "output_type": "display_data"
    }
   ],
   "source": [
    "#어느 연령대에서 가장 많은 암이 발생하는 지\n",
    "#구간(계급) 10, 20, 30...\n",
    "age_table <- table(cut(df$age, breaks = (0:11)*10))\n",
    "age_table"
   ]
  },
  {
   "cell_type": "code",
   "execution_count": 4,
   "metadata": {},
   "outputs": [
    {
     "data": {
      "text/plain": [
       "\n",
       "  1s  10s  20s  30s  40s  50s  60s  70s  80s  90s 100s \n",
       "   0    3   77  482 1917 4558 5679 4598  962   33    1 "
      ]
     },
     "metadata": {},
     "output_type": "display_data"
    }
   ],
   "source": [
    "rownames(age_table) <- c('1s','10s','20s','30s','40s','50s','60s','70s','80s','90s','100s')\n",
    "age_table"
   ]
  },
  {
   "cell_type": "code",
   "execution_count": 5,
   "metadata": {},
   "outputs": [
    {
     "data": {
      "image/png": "[encoded data removed]",
      "text/plain": [
       "plot without title"
      ]
     },
     "metadata": {},
     "output_type": "display_data"
    }
   ],
   "source": [
    "barplot(age_table)"
   ]
  },
  {
   "cell_type": "markdown",
   "metadata": {},
   "source": [
    "대장암에 걸리는 평균 나이는 60대"
   ]
  },
  {
   "cell_type": "code",
   "execution_count": 6,
   "metadata": {},
   "outputs": [
    {
     "data": {
      "text/html": [
       "18"
      ],
      "text/latex": [
       "18"
      ],
      "text/markdown": [
       "18"
      ],
      "text/plain": [
       "[1] 18"
      ]
     },
     "metadata": {},
     "output_type": "display_data"
    }
   ],
   "source": [
    "#최소값\n",
    "Min <- min(df$age, na.rm = T)\n",
    "Min"
   ]
  },
  {
   "cell_type": "code",
   "execution_count": 7,
   "metadata": {},
   "outputs": [
    {
     "data": {
      "text/html": [
       "<dl class=dl-horizontal>\n",
       "\t<dt>0%</dt>\n",
       "\t\t<dd>18</dd>\n",
       "\t<dt>25%</dt>\n",
       "\t\t<dd>55</dd>\n",
       "\t<dt>50%</dt>\n",
       "\t\t<dd>64</dd>\n",
       "\t<dt>75%</dt>\n",
       "\t\t<dd>72</dd>\n",
       "\t<dt>100%</dt>\n",
       "\t\t<dd>102</dd>\n",
       "</dl>\n"
      ],
      "text/latex": [
       "\\begin{description*}\n",
       "\\item[0\\textbackslash{}\\%] 18\n",
       "\\item[25\\textbackslash{}\\%] 55\n",
       "\\item[50\\textbackslash{}\\%] 64\n",
       "\\item[75\\textbackslash{}\\%] 72\n",
       "\\item[100\\textbackslash{}\\%] 102\n",
       "\\end{description*}\n"
      ],
      "text/markdown": [
       "0%\n",
       ":   1825%\n",
       ":   5550%\n",
       ":   6475%\n",
       ":   72100%\n",
       ":   102\n",
       "\n"
      ],
      "text/plain": [
       "  0%  25%  50%  75% 100% \n",
       "  18   55   64   72  102 "
      ]
     },
     "metadata": {},
     "output_type": "display_data"
    }
   ],
   "source": [
    "#사분위값\n",
    "Quantile <- quantile(df$age, na.rm = T)\n",
    "Quantile"
   ]
  },
  {
   "cell_type": "code",
   "execution_count": 8,
   "metadata": {},
   "outputs": [
    {
     "data": {
      "text/html": [
       "63.5079191698525"
      ],
      "text/latex": [
       "63.5079191698525"
      ],
      "text/markdown": [
       "63.5079191698525"
      ],
      "text/plain": [
       "[1] 63.50792"
      ]
     },
     "metadata": {},
     "output_type": "display_data"
    }
   ],
   "source": [
    "#평균값\n",
    "Mean <- mean(df$age, na.rm = T)\n",
    "Mean"
   ]
  },
  {
   "cell_type": "code",
   "execution_count": 10,
   "metadata": {},
   "outputs": [
    {
     "data": {
      "text/html": [
       "102"
      ],
      "text/latex": [
       "102"
      ],
      "text/markdown": [
       "102"
      ],
      "text/plain": [
       "[1] 102"
      ]
     },
     "metadata": {},
     "output_type": "display_data"
    }
   ],
   "source": [
    "#최대값\n",
    "Max <- max(df$age, na.rm = T)\n",
    "Max"
   ]
  },
  {
   "cell_type": "code",
   "execution_count": 11,
   "metadata": {},
   "outputs": [
    {
     "data": {
      "image/png": "[encoded data removed]",
      "text/plain": [
       "plot without title"
      ]
     },
     "metadata": {},
     "output_type": "display_data"
    }
   ],
   "source": [
    "boxplot(df$age)"
   ]
  },
  {
   "cell_type": "code",
   "execution_count": 12,
   "metadata": {},
   "outputs": [
    {
     "data": {
      "text/html": [
       "17"
      ],
      "text/latex": [
       "17"
      ],
      "text/markdown": [
       "17"
      ],
      "text/plain": [
       "[1] 17"
      ]
     },
     "metadata": {},
     "output_type": "display_data"
    }
   ],
   "source": [
    "dist_iqr <- IQR(df$age, na.rm = T)\n",
    "dist_iqr"
   ]
  },
  {
   "cell_type": "code",
   "execution_count": 13,
   "metadata": {},
   "outputs": [
    {
     "data": {
      "text/html": [
       "<dl class=dl-horizontal>\n",
       "\t<dt>25%</dt>\n",
       "\t\t<dd>55</dd>\n",
       "\t<dt>75%</dt>\n",
       "\t\t<dd>72</dd>\n",
       "</dl>\n"
      ],
      "text/latex": [
       "\\begin{description*}\n",
       "\\item[25\\textbackslash{}\\%] 55\n",
       "\\item[75\\textbackslash{}\\%] 72\n",
       "\\end{description*}\n"
      ],
      "text/markdown": [
       "25%\n",
       ":   5575%\n",
       ":   72\n",
       "\n"
      ],
      "text/plain": [
       "25% 75% \n",
       " 55  72 "
      ]
     },
     "metadata": {},
     "output_type": "display_data"
    }
   ],
   "source": [
    "post_iqr <- quantile(df$age, probs = c(0.25, 0.75), na.rm = T)\n",
    "post_iqr"
   ]
  },
  {
   "cell_type": "code",
   "execution_count": 14,
   "metadata": {},
   "outputs": [],
   "source": [
    "down_whisker <- post_iqr[[1]] - dist_iqr*1.5\n",
    "up_whisker <- post_iqr[[2]] + dist_iqr*1.5"
   ]
  },
  {
   "cell_type": "code",
   "execution_count": 15,
   "metadata": {},
   "outputs": [
    {
     "data": {
      "text/html": [
       "29.5"
      ],
      "text/latex": [
       "29.5"
      ],
      "text/markdown": [
       "29.5"
      ],
      "text/plain": [
       "[1] 29.5"
      ]
     },
     "metadata": {},
     "output_type": "display_data"
    },
    {
     "data": {
      "text/html": [
       "97.5"
      ],
      "text/latex": [
       "97.5"
      ],
      "text/markdown": [
       "97.5"
      ],
      "text/plain": [
       "[1] 97.5"
      ]
     },
     "metadata": {},
     "output_type": "display_data"
    }
   ],
   "source": [
    "down_whisker\n",
    "up_whisker"
   ]
  },
  {
   "cell_type": "code",
   "execution_count": 16,
   "metadata": {},
   "outputs": [
    {
     "name": "stdout",
     "output_type": "stream",
     "text": [
      "'data.frame':\t62 obs. of  8 variables:\n",
      " $ age            : int  29 28 29 25 24 28 29 28 24 102 ...\n",
      " $ sex            : Factor w/ 2 levels \"남\",\"여\": 1 1 1 2 1 2 1 1 1 2 ...\n",
      " $ height         : Factor w/ 485 levels \"100\",\"130\",\"130.2\",..: 262 156 300 411 252 182 362 277 392 150 ...\n",
      " $ weight         : Factor w/ 638 levels \"100\",\"101\",\"101.1\",..: 399 142 266 429 334 303 243 326 483 318 ...\n",
      " $ dateOfoperation: Factor w/ 351 levels \"2011-01-02\",\"2011-01-03\",..: 132 204 237 299 207 142 287 296 77 167 ...\n",
      " $ cancerStaging  : Factor w/ 5 levels \"I\",\"II\",\"III\",..: 2 1 2 2 4 4 3 4 2 4 ...\n",
      " $ hospitalization: int  24 8 9 10 19 7 11 57 19 16 ...\n",
      " $ diseaseCode    : Factor w/ 13 levels \"C18\",\"C180\",\"C181\",..: 6 9 9 6 9 10 12 12 13 13 ...\n"
     ]
    }
   ],
   "source": [
    "outlier <- subset(df, subset = (df$age < down_whisker | df$age > up_whisker))\n",
    "str(outlier)"
   ]
  },
  {
   "cell_type": "code",
   "execution_count": 17,
   "metadata": {},
   "outputs": [
    {
     "data": {
      "text/html": [
       "<table>\n",
       "<thead><tr><th></th><th scope=col>age</th><th scope=col>sex</th><th scope=col>height</th><th scope=col>weight</th><th scope=col>dateOfoperation</th><th scope=col>cancerStaging</th><th scope=col>hospitalization</th><th scope=col>diseaseCode</th></tr></thead>\n",
       "<tbody>\n",
       "\t<tr><th scope=row>426</th><td>29        </td><td>남        </td><td>162       </td><td>70.6      </td><td>2011-05-17</td><td>II        </td><td>24        </td><td>C184      </td></tr>\n",
       "\t<tr><th scope=row>531</th><td>28        </td><td>남        </td><td>151.4     </td><td>44.9      </td><td>2011-08-02</td><td>I         </td><td> 8        </td><td>C187      </td></tr>\n",
       "\t<tr><th scope=row>902</th><td>29        </td><td>남        </td><td>165.8     </td><td>57.3      </td><td>2011-09-06</td><td>II        </td><td> 9        </td><td>C187      </td></tr>\n",
       "\t<tr><th scope=row>1042</th><td>25        </td><td>여        </td><td>176.9     </td><td>73.6      </td><td>2011-11-10</td><td>II        </td><td>10        </td><td>C184      </td></tr>\n",
       "\t<tr><th scope=row>1299</th><td>24        </td><td>남        </td><td>161       </td><td>64.1      </td><td>2011-08-05</td><td>IV        </td><td>19        </td><td>C187      </td></tr>\n",
       "\t<tr><th scope=row>1783</th><td>28        </td><td>여        </td><td>154       </td><td>61        </td><td>2011-05-27</td><td>IV        </td><td> 7        </td><td>C188      </td></tr>\n",
       "</tbody>\n",
       "</table>\n"
      ],
      "text/latex": [
       "\\begin{tabular}{r|llllllll}\n",
       "  & age & sex & height & weight & dateOfoperation & cancerStaging & hospitalization & diseaseCode\\\\\n",
       "\\hline\n",
       "\t426 & 29         & 남         & 162        & 70.6       & 2011-05-17 & II         & 24         & C184      \\\\\n",
       "\t531 & 28         & 남         & 151.4      & 44.9       & 2011-08-02 & I          &  8         & C187      \\\\\n",
       "\t902 & 29         & 남         & 165.8      & 57.3       & 2011-09-06 & II         &  9         & C187      \\\\\n",
       "\t1042 & 25         & 여         & 176.9      & 73.6       & 2011-11-10 & II         & 10         & C184      \\\\\n",
       "\t1299 & 24         & 남         & 161        & 64.1       & 2011-08-05 & IV         & 19         & C187      \\\\\n",
       "\t1783 & 28         & 여         & 154        & 61         & 2011-05-27 & IV         &  7         & C188      \\\\\n",
       "\\end{tabular}\n"
      ],
      "text/markdown": [
       "\n",
       "| <!--/--> | age | sex | height | weight | dateOfoperation | cancerStaging | hospitalization | diseaseCode |\n",
       "|---|---|---|---|---|---|---|---|---|\n",
       "| 426 | 29         | 남         | 162        | 70.6       | 2011-05-17 | II         | 24         | C184       |\n",
       "| 531 | 28         | 남         | 151.4      | 44.9       | 2011-08-02 | I          |  8         | C187       |\n",
       "| 902 | 29         | 남         | 165.8      | 57.3       | 2011-09-06 | II         |  9         | C187       |\n",
       "| 1042 | 25         | 여         | 176.9      | 73.6       | 2011-11-10 | II         | 10         | C184       |\n",
       "| 1299 | 24         | 남         | 161        | 64.1       | 2011-08-05 | IV         | 19         | C187       |\n",
       "| 1783 | 28         | 여         | 154        | 61         | 2011-05-27 | IV         |  7         | C188       |\n",
       "\n"
      ],
      "text/plain": [
       "     age sex height weight dateOfoperation cancerStaging hospitalization\n",
       "426  29  남  162    70.6   2011-05-17      II            24             \n",
       "531  28  남  151.4  44.9   2011-08-02      I              8             \n",
       "902  29  남  165.8  57.3   2011-09-06      II             9             \n",
       "1042 25  여  176.9  73.6   2011-11-10      II            10             \n",
       "1299 24  남  161    64.1   2011-08-05      IV            19             \n",
       "1783 28  여  154    61     2011-05-27      IV             7             \n",
       "     diseaseCode\n",
       "426  C184       \n",
       "531  C187       \n",
       "902  C187       \n",
       "1042 C184       \n",
       "1299 C187       \n",
       "1783 C188       "
      ]
     },
     "metadata": {},
     "output_type": "display_data"
    }
   ],
   "source": [
    "head(outlier)"
   ]
  },
  {
   "cell_type": "code",
   "execution_count": null,
   "metadata": {},
   "outputs": [],
   "source": []
  }
 ],
 "metadata": {
  "kernelspec": {
   "display_name": "R",
   "language": "R",
   "name": "ir"
  },
  "language_info": {
   "codemirror_mode": "r",
   "file_extension": ".r",
   "mimetype": "text/x-r-source",
   "name": "R",
   "pygments_lexer": "r",
   "version": "3.6.1"
  }
 },
 "nbformat": 4,
 "nbformat_minor": 4
}
